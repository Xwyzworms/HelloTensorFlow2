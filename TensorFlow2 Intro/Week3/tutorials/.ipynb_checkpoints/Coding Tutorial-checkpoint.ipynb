{
 "cells": [
  {
   "cell_type": "code",
   "execution_count": 1,
   "metadata": {
    "scrolled": true
   },
   "outputs": [
    {
     "name": "stdout",
     "output_type": "stream",
     "text": [
      "2.0.0\n"
     ]
    }
   ],
   "source": [
    "import tensorflow as tf\n",
    "print(tf.__version__)"
   ]
  },
  {
   "cell_type": "markdown",
   "metadata": {},
   "source": [
    "# Validation, regularisation and callbacks"
   ]
  },
  {
   "cell_type": "markdown",
   "metadata": {},
   "source": [
    " ## Coding tutorials\n",
    " #### [1. Validation sets](#coding_tutorial_1)\n",
    " #### [2. Model regularisation](#coding_tutorial_2)\n",
    " #### [3. Introduction to callbacks](#coding_tutorial_3)\n",
    " #### [4. Early stopping / patience](#coding_tutorial_4)"
   ]
  },
  {
   "cell_type": "markdown",
   "metadata": {},
   "source": [
    "***\n",
    "<a id=\"coding_tutorial_1\"></a>\n",
    "## Validation sets"
   ]
  },
  {
   "cell_type": "markdown",
   "metadata": {},
   "source": [
    "#### Load the data"
   ]
  },
  {
   "cell_type": "code",
   "execution_count": 2,
   "metadata": {},
   "outputs": [
    {
     "data": {
      "text/plain": [
       "dict_keys(['data', 'target', 'DESCR', 'feature_names', 'data_filename', 'target_filename'])"
      ]
     },
     "execution_count": 2,
     "metadata": {},
     "output_type": "execute_result"
    }
   ],
   "source": [
    "# Load the diabetes dataset\n",
    "from sklearn.datasets import load_diabetes\n",
    "\n",
    "diabetes = load_diabetes()\n",
    "\n",
    "diabetes.keys()"
   ]
  },
  {
   "cell_type": "code",
   "execution_count": 3,
   "metadata": {},
   "outputs": [
    {
     "data": {
      "text/plain": [
       "((442, 10), (442,))"
      ]
     },
     "execution_count": 3,
     "metadata": {},
     "output_type": "execute_result"
    }
   ],
   "source": [
    "# Save the input and target variables\n",
    "data = diabetes[\"data\"]\n",
    "target = diabetes['target']\n",
    "\n",
    "\n",
    "data.shape , target.shape\n",
    "\n"
   ]
  },
  {
   "cell_type": "code",
   "execution_count": 4,
   "metadata": {},
   "outputs": [
    {
     "name": "stdout",
     "output_type": "stream",
     "text": [
      "[[ 0.03807591  0.05068012  0.06169621  0.02187235 -0.0442235  -0.03482076\n",
      "  -0.04340085 -0.00259226  0.01990842 -0.01764613]] \n",
      "Heaven [-0.01471948]\n"
     ]
    }
   ],
   "source": [
    "# Normalise the target data (this will make clearer training curves)\n",
    "\n",
    "#data = data - data.mean(axis = 0) / data.std()\n",
    "target = (target - target.mean(axis = 0) )/ target.std()\n",
    "\n",
    "\n",
    "print(data[:1],\"\\nHeaven\" ,target[:1])"
   ]
  },
  {
   "cell_type": "code",
   "execution_count": 5,
   "metadata": {},
   "outputs": [
    {
     "name": "stdout",
     "output_type": "stream",
     "text": [
      "Shape : (397, 10) (397,)\n",
      "(45, 10) (45,)\n"
     ]
    }
   ],
   "source": [
    "# Split the data into train and test sets\n",
    "from sklearn.model_selection import train_test_split\n",
    "x_train,x_val,y_train,y_val = train_test_split(data,target,random_state = 0,test_size= 0.1)\n",
    "\n",
    "print(f\"Shape : {x_train.shape} {y_train.shape}\\n{x_val.shape} {y_val.shape}\")"
   ]
  },
  {
   "cell_type": "markdown",
   "metadata": {},
   "source": [
    "#### Train a feedforward neural network model"
   ]
  },
  {
   "cell_type": "code",
   "execution_count": 6,
   "metadata": {},
   "outputs": [],
   "source": [
    "# Build the model\n",
    "def getmodel(trainset):\n",
    "    model = tf.keras.models.Sequential([\n",
    "        tf.keras.layers.Dense(units = 128,activation = tf.keras.layers.ReLU(),input_shape = (trainset.shape[1],)),\n",
    "        tf.keras.layers.Dense(units = 128,activation = tf.keras.layers.LeakyReLU(),name = \"Dense_2\"),\n",
    "        tf.keras.layers.Dense(units = 128,activation = tf.keras.layers.LeakyReLU(),name = \"Dense_3\"),\n",
    "        tf.keras.layers.Dense(units = 128,activation = tf.keras.layers.LeakyReLU(),name = \"Dense_4\"),\n",
    "        tf.keras.layers.Dense(units = 128,activation = tf.keras.layers.LeakyReLU(),name = \"Dense_5\"),\n",
    "        tf.keras.layers.Dense(units = 128,activation = tf.keras.layers.ReLU(),name = \"Dense_6\"),\n",
    "        tf.keras.layers.Dense(units = 1,name = \"Dense_7\")\n",
    "    ],name = \"ModelSampis\")\n",
    "    \n",
    "    return model\n"
   ]
  },
  {
   "cell_type": "code",
   "execution_count": 7,
   "metadata": {},
   "outputs": [
    {
     "name": "stdout",
     "output_type": "stream",
     "text": [
      "Model: \"ModelSampis\"\n",
      "_________________________________________________________________\n",
      "Layer (type)                 Output Shape              Param #   \n",
      "=================================================================\n",
      "dense (Dense)                (None, 128)               1408      \n",
      "_________________________________________________________________\n",
      "Dense_2 (Dense)              (None, 128)               16512     \n",
      "_________________________________________________________________\n",
      "Dense_3 (Dense)              (None, 128)               16512     \n",
      "_________________________________________________________________\n",
      "Dense_4 (Dense)              (None, 128)               16512     \n",
      "_________________________________________________________________\n",
      "Dense_5 (Dense)              (None, 128)               16512     \n",
      "_________________________________________________________________\n",
      "Dense_6 (Dense)              (None, 128)               16512     \n",
      "_________________________________________________________________\n",
      "Dense_7 (Dense)              (None, 1)                 129       \n",
      "=================================================================\n",
      "Total params: 84,097\n",
      "Trainable params: 84,097\n",
      "Non-trainable params: 0\n",
      "_________________________________________________________________\n"
     ]
    }
   ],
   "source": [
    "# Print the model summary\n",
    "model = getmodel(trainset=x_train)\n",
    "model.summary()"
   ]
  },
  {
   "cell_type": "code",
   "execution_count": 8,
   "metadata": {},
   "outputs": [
    {
     "data": {
      "text/plain": [
       "('mse', <tensorflow.python.keras.optimizer_v2.adam.Adam at 0x7f33e9c1d3c8>)"
      ]
     },
     "execution_count": 8,
     "metadata": {},
     "output_type": "execute_result"
    }
   ],
   "source": [
    "# Compile the model\n",
    "optimzer = tf.keras.optimizers.Adam()\n",
    "loss =\"mse\"\n",
    "METRICS = [\n",
    "    tf.keras.metrics.MeanAbsoluteError(name = \"MAE\"),\n",
    "]\n",
    "model.compile(loss = loss,optimizer = optimzer,metrics= METRICS)\n",
    "\n",
    "model.loss , model.optimizer"
   ]
  },
  {
   "cell_type": "code",
   "execution_count": 9,
   "metadata": {},
   "outputs": [
    {
     "name": "stdout",
     "output_type": "stream",
     "text": [
      "Train on 337 samples, validate on 60 samples\n",
      "Epoch 1/100\n",
      "337/337 [==============================] - 2s 5ms/sample - loss: 0.9678 - MAE: 0.8420 - val_loss: 1.0771 - val_MAE: 0.8758\n",
      "Epoch 2/100\n",
      "337/337 [==============================] - 0s 317us/sample - loss: 0.8198 - MAE: 0.7684 - val_loss: 0.7959 - val_MAE: 0.7447\n",
      "Epoch 3/100\n",
      "337/337 [==============================] - 0s 569us/sample - loss: 0.5812 - MAE: 0.6389 - val_loss: 0.6141 - val_MAE: 0.6263\n",
      "Epoch 4/100\n",
      "337/337 [==============================] - 0s 331us/sample - loss: 0.5671 - MAE: 0.6108 - val_loss: 0.5480 - val_MAE: 0.5815\n",
      "Epoch 5/100\n",
      "337/337 [==============================] - 0s 335us/sample - loss: 0.4987 - MAE: 0.5616 - val_loss: 0.5901 - val_MAE: 0.6550\n",
      "Epoch 6/100\n",
      "337/337 [==============================] - 0s 579us/sample - loss: 0.4979 - MAE: 0.5754 - val_loss: 0.5229 - val_MAE: 0.5695\n",
      "Epoch 7/100\n",
      "337/337 [==============================] - 0s 324us/sample - loss: 0.4845 - MAE: 0.5523 - val_loss: 0.4969 - val_MAE: 0.5506\n",
      "Epoch 8/100\n",
      "337/337 [==============================] - 0s 578us/sample - loss: 0.4650 - MAE: 0.5400 - val_loss: 0.5051 - val_MAE: 0.5652\n",
      "Epoch 9/100\n",
      "337/337 [==============================] - 0s 566us/sample - loss: 0.4466 - MAE: 0.5403 - val_loss: 0.5188 - val_MAE: 0.5841\n",
      "Epoch 10/100\n",
      "337/337 [==============================] - 0s 325us/sample - loss: 0.4434 - MAE: 0.5439 - val_loss: 0.4989 - val_MAE: 0.5622\n",
      "Epoch 11/100\n",
      "337/337 [==============================] - 0s 577us/sample - loss: 0.4276 - MAE: 0.5280 - val_loss: 0.4947 - val_MAE: 0.5464\n",
      "Epoch 12/100\n",
      "337/337 [==============================] - 0s 559us/sample - loss: 0.4342 - MAE: 0.5270 - val_loss: 0.4776 - val_MAE: 0.5557\n",
      "Epoch 13/100\n",
      "337/337 [==============================] - 0s 341us/sample - loss: 0.4289 - MAE: 0.5300 - val_loss: 0.4853 - val_MAE: 0.5594\n",
      "Epoch 14/100\n",
      "337/337 [==============================] - 0s 568us/sample - loss: 0.4268 - MAE: 0.5292 - val_loss: 0.4953 - val_MAE: 0.5476\n",
      "Epoch 15/100\n",
      "337/337 [==============================] - 0s 319us/sample - loss: 0.4092 - MAE: 0.5111 - val_loss: 0.4734 - val_MAE: 0.5497\n",
      "Epoch 16/100\n",
      "337/337 [==============================] - 0s 580us/sample - loss: 0.4082 - MAE: 0.5121 - val_loss: 0.5183 - val_MAE: 0.5563\n",
      "Epoch 17/100\n",
      "337/337 [==============================] - 0s 568us/sample - loss: 0.4055 - MAE: 0.5043 - val_loss: 0.4737 - val_MAE: 0.5547\n",
      "Epoch 18/100\n",
      "337/337 [==============================] - 0s 329us/sample - loss: 0.4014 - MAE: 0.5067 - val_loss: 0.5323 - val_MAE: 0.5596\n",
      "Epoch 19/100\n",
      "337/337 [==============================] - 0s 576us/sample - loss: 0.3938 - MAE: 0.4967 - val_loss: 0.4951 - val_MAE: 0.5868\n",
      "Epoch 20/100\n",
      "337/337 [==============================] - 0s 308us/sample - loss: 0.4078 - MAE: 0.5064 - val_loss: 0.5933 - val_MAE: 0.5885\n",
      "Epoch 21/100\n",
      "337/337 [==============================] - 0s 580us/sample - loss: 0.4098 - MAE: 0.5036 - val_loss: 0.4847 - val_MAE: 0.5609\n",
      "Epoch 22/100\n",
      "337/337 [==============================] - 0s 564us/sample - loss: 0.3893 - MAE: 0.4993 - val_loss: 0.4948 - val_MAE: 0.5482\n",
      "Epoch 23/100\n",
      "337/337 [==============================] - 0s 322us/sample - loss: 0.3978 - MAE: 0.5061 - val_loss: 0.5454 - val_MAE: 0.5750\n",
      "Epoch 24/100\n",
      "337/337 [==============================] - 0s 574us/sample - loss: 0.4212 - MAE: 0.5101 - val_loss: 0.4861 - val_MAE: 0.5462\n",
      "Epoch 25/100\n",
      "337/337 [==============================] - 0s 312us/sample - loss: 0.3730 - MAE: 0.4885 - val_loss: 0.5209 - val_MAE: 0.5598\n",
      "Epoch 26/100\n",
      "337/337 [==============================] - 0s 576us/sample - loss: 0.3695 - MAE: 0.4850 - val_loss: 0.4787 - val_MAE: 0.5445\n",
      "Epoch 27/100\n",
      "337/337 [==============================] - 0s 315us/sample - loss: 0.3694 - MAE: 0.4809 - val_loss: 0.4792 - val_MAE: 0.5377\n",
      "Epoch 28/100\n",
      "337/337 [==============================] - 0s 571us/sample - loss: 0.3685 - MAE: 0.4837 - val_loss: 0.4841 - val_MAE: 0.5574\n",
      "Epoch 29/100\n",
      "337/337 [==============================] - 0s 313us/sample - loss: 0.3640 - MAE: 0.4741 - val_loss: 0.5092 - val_MAE: 0.5282\n",
      "Epoch 30/100\n",
      "337/337 [==============================] - 0s 544us/sample - loss: 0.3534 - MAE: 0.4675 - val_loss: 0.5093 - val_MAE: 0.5588\n",
      "Epoch 31/100\n",
      "337/337 [==============================] - 0s 338us/sample - loss: 0.3397 - MAE: 0.4577 - val_loss: 0.4935 - val_MAE: 0.5317\n",
      "Epoch 32/100\n",
      "337/337 [==============================] - 0s 575us/sample - loss: 0.3342 - MAE: 0.4483 - val_loss: 0.4650 - val_MAE: 0.5295\n",
      "Epoch 33/100\n",
      "337/337 [==============================] - 0s 319us/sample - loss: 0.3412 - MAE: 0.4692 - val_loss: 0.5054 - val_MAE: 0.5408\n",
      "Epoch 34/100\n",
      "337/337 [==============================] - 0s 557us/sample - loss: 0.3300 - MAE: 0.4457 - val_loss: 0.4911 - val_MAE: 0.5241\n",
      "Epoch 35/100\n",
      "337/337 [==============================] - 0s 330us/sample - loss: 0.3106 - MAE: 0.4346 - val_loss: 0.5088 - val_MAE: 0.5519\n",
      "Epoch 36/100\n",
      "337/337 [==============================] - 0s 567us/sample - loss: 0.3068 - MAE: 0.4361 - val_loss: 0.5212 - val_MAE: 0.5339\n",
      "Epoch 37/100\n",
      "337/337 [==============================] - 0s 320us/sample - loss: 0.3036 - MAE: 0.4265 - val_loss: 0.4960 - val_MAE: 0.5446\n",
      "Epoch 38/100\n",
      "337/337 [==============================] - 0s 578us/sample - loss: 0.3029 - MAE: 0.4271 - val_loss: 0.5447 - val_MAE: 0.5795\n",
      "Epoch 39/100\n",
      "337/337 [==============================] - 0s 309us/sample - loss: 0.3144 - MAE: 0.4491 - val_loss: 0.5165 - val_MAE: 0.5476\n",
      "Epoch 40/100\n",
      "337/337 [==============================] - 0s 574us/sample - loss: 0.2937 - MAE: 0.4201 - val_loss: 0.5178 - val_MAE: 0.5284\n",
      "Epoch 41/100\n",
      "337/337 [==============================] - 0s 309us/sample - loss: 0.2808 - MAE: 0.4119 - val_loss: 0.5440 - val_MAE: 0.5639\n",
      "Epoch 42/100\n",
      "337/337 [==============================] - 0s 566us/sample - loss: 0.2877 - MAE: 0.4187 - val_loss: 0.5698 - val_MAE: 0.5995\n",
      "Epoch 43/100\n",
      "337/337 [==============================] - 0s 313us/sample - loss: 0.2835 - MAE: 0.4225 - val_loss: 0.6110 - val_MAE: 0.5698\n",
      "Epoch 44/100\n",
      "337/337 [==============================] - 0s 568us/sample - loss: 0.2765 - MAE: 0.4036 - val_loss: 0.5624 - val_MAE: 0.5550\n",
      "Epoch 45/100\n",
      "337/337 [==============================] - 0s 326us/sample - loss: 0.2680 - MAE: 0.4116 - val_loss: 0.5803 - val_MAE: 0.5596\n",
      "Epoch 46/100\n",
      "337/337 [==============================] - 0s 560us/sample - loss: 0.2669 - MAE: 0.3989 - val_loss: 0.5474 - val_MAE: 0.5605\n",
      "Epoch 47/100\n",
      "337/337 [==============================] - 0s 317us/sample - loss: 0.2761 - MAE: 0.4127 - val_loss: 0.5926 - val_MAE: 0.5773\n",
      "Epoch 48/100\n",
      "337/337 [==============================] - 0s 578us/sample - loss: 0.2679 - MAE: 0.3989 - val_loss: 0.5712 - val_MAE: 0.5464\n",
      "Epoch 49/100\n",
      "337/337 [==============================] - 0s 576us/sample - loss: 0.2335 - MAE: 0.3774 - val_loss: 0.5509 - val_MAE: 0.5591\n",
      "Epoch 50/100\n",
      "337/337 [==============================] - 0s 321us/sample - loss: 0.2305 - MAE: 0.3747 - val_loss: 0.6138 - val_MAE: 0.5511\n",
      "Epoch 51/100\n",
      "337/337 [==============================] - 0s 571us/sample - loss: 0.2342 - MAE: 0.3764 - val_loss: 0.6954 - val_MAE: 0.6104\n",
      "Epoch 52/100\n",
      "337/337 [==============================] - 0s 313us/sample - loss: 0.3131 - MAE: 0.4315 - val_loss: 0.6139 - val_MAE: 0.5641\n",
      "Epoch 53/100\n",
      "337/337 [==============================] - 0s 554us/sample - loss: 0.4151 - MAE: 0.4968 - val_loss: 0.6524 - val_MAE: 0.6607\n",
      "Epoch 54/100\n",
      "337/337 [==============================] - 0s 333us/sample - loss: 0.3771 - MAE: 0.5099 - val_loss: 0.6608 - val_MAE: 0.6121\n",
      "Epoch 55/100\n",
      "337/337 [==============================] - 0s 569us/sample - loss: 0.3418 - MAE: 0.4735 - val_loss: 0.5053 - val_MAE: 0.5497\n",
      "Epoch 56/100\n",
      "337/337 [==============================] - 0s 328us/sample - loss: 0.2756 - MAE: 0.4224 - val_loss: 0.5126 - val_MAE: 0.5289\n",
      "Epoch 57/100\n",
      "337/337 [==============================] - 0s 570us/sample - loss: 0.2481 - MAE: 0.3898 - val_loss: 0.5202 - val_MAE: 0.5446\n",
      "Epoch 58/100\n",
      "337/337 [==============================] - 0s 567us/sample - loss: 0.2347 - MAE: 0.3789 - val_loss: 0.5584 - val_MAE: 0.5528\n",
      "Epoch 59/100\n",
      "337/337 [==============================] - 0s 325us/sample - loss: 0.2252 - MAE: 0.3721 - val_loss: 0.5664 - val_MAE: 0.5554\n",
      "Epoch 60/100\n"
     ]
    },
    {
     "name": "stdout",
     "output_type": "stream",
     "text": [
      "337/337 [==============================] - 0s 572us/sample - loss: 0.2165 - MAE: 0.3615 - val_loss: 0.5749 - val_MAE: 0.5602\n",
      "Epoch 61/100\n",
      "337/337 [==============================] - 0s 319us/sample - loss: 0.2034 - MAE: 0.3511 - val_loss: 0.5879 - val_MAE: 0.5777\n",
      "Epoch 62/100\n",
      "337/337 [==============================] - 0s 548us/sample - loss: 0.1920 - MAE: 0.3397 - val_loss: 0.6118 - val_MAE: 0.6187\n",
      "Epoch 63/100\n",
      "337/337 [==============================] - 0s 339us/sample - loss: 0.2225 - MAE: 0.3696 - val_loss: 0.6333 - val_MAE: 0.6072\n",
      "Epoch 64/100\n",
      "337/337 [==============================] - 0s 577us/sample - loss: 0.2733 - MAE: 0.4209 - val_loss: 0.6492 - val_MAE: 0.5943\n",
      "Epoch 65/100\n",
      "337/337 [==============================] - 0s 309us/sample - loss: 0.2568 - MAE: 0.4106 - val_loss: 0.7887 - val_MAE: 0.6535\n",
      "Epoch 66/100\n",
      "337/337 [==============================] - 0s 574us/sample - loss: 0.2659 - MAE: 0.4144 - val_loss: 0.6158 - val_MAE: 0.6172\n",
      "Epoch 67/100\n",
      "337/337 [==============================] - 0s 583us/sample - loss: 0.2782 - MAE: 0.4215 - val_loss: 0.6547 - val_MAE: 0.6024\n",
      "Epoch 68/100\n",
      "337/337 [==============================] - 0s 309us/sample - loss: 0.2528 - MAE: 0.4089 - val_loss: 0.5881 - val_MAE: 0.5664\n",
      "Epoch 69/100\n",
      "337/337 [==============================] - 0s 579us/sample - loss: 0.1974 - MAE: 0.3485 - val_loss: 0.6009 - val_MAE: 0.5868\n",
      "Epoch 70/100\n",
      "337/337 [==============================] - 0s 558us/sample - loss: 0.1849 - MAE: 0.3358 - val_loss: 0.6395 - val_MAE: 0.5900\n",
      "Epoch 71/100\n",
      "337/337 [==============================] - 0s 337us/sample - loss: 0.1704 - MAE: 0.3221 - val_loss: 0.6299 - val_MAE: 0.6107\n",
      "Epoch 72/100\n",
      "337/337 [==============================] - 0s 557us/sample - loss: 0.1574 - MAE: 0.3130 - val_loss: 0.7464 - val_MAE: 0.6370\n",
      "Epoch 73/100\n",
      "337/337 [==============================] - 0s 338us/sample - loss: 0.1743 - MAE: 0.3277 - val_loss: 0.7200 - val_MAE: 0.6122\n",
      "Epoch 74/100\n",
      "337/337 [==============================] - 0s 562us/sample - loss: 0.1562 - MAE: 0.3103 - val_loss: 0.6531 - val_MAE: 0.6157\n",
      "Epoch 75/100\n",
      "337/337 [==============================] - 0s 323us/sample - loss: 0.1488 - MAE: 0.3002 - val_loss: 0.6869 - val_MAE: 0.6291\n",
      "Epoch 76/100\n",
      "337/337 [==============================] - 0s 577us/sample - loss: 0.1607 - MAE: 0.3110 - val_loss: 0.6836 - val_MAE: 0.6154\n",
      "Epoch 77/100\n",
      "337/337 [==============================] - 0s 309us/sample - loss: 0.1392 - MAE: 0.2925 - val_loss: 0.6631 - val_MAE: 0.6418\n",
      "Epoch 78/100\n",
      "337/337 [==============================] - 0s 576us/sample - loss: 0.1421 - MAE: 0.2929 - val_loss: 0.7464 - val_MAE: 0.6166\n",
      "Epoch 79/100\n",
      "337/337 [==============================] - 0s 574us/sample - loss: 0.1630 - MAE: 0.3103 - val_loss: 0.7841 - val_MAE: 0.6533\n",
      "Epoch 80/100\n",
      "337/337 [==============================] - 0s 313us/sample - loss: 0.1637 - MAE: 0.3188 - val_loss: 0.7192 - val_MAE: 0.6206\n",
      "Epoch 81/100\n",
      "337/337 [==============================] - 0s 589us/sample - loss: 0.1282 - MAE: 0.2745 - val_loss: 0.7224 - val_MAE: 0.6214\n",
      "Epoch 82/100\n",
      "337/337 [==============================] - 0s 558us/sample - loss: 0.1178 - MAE: 0.2665 - val_loss: 0.7084 - val_MAE: 0.6245\n",
      "Epoch 83/100\n",
      "337/337 [==============================] - 0s 324us/sample - loss: 0.1125 - MAE: 0.2608 - val_loss: 0.7243 - val_MAE: 0.6355\n",
      "Epoch 84/100\n",
      "337/337 [==============================] - 0s 568us/sample - loss: 0.1224 - MAE: 0.2749 - val_loss: 0.7120 - val_MAE: 0.6350\n",
      "Epoch 85/100\n",
      "337/337 [==============================] - 0s 333us/sample - loss: 0.1102 - MAE: 0.2594 - val_loss: 0.7585 - val_MAE: 0.6407\n",
      "Epoch 86/100\n",
      "337/337 [==============================] - 0s 567us/sample - loss: 0.1065 - MAE: 0.2482 - val_loss: 0.7861 - val_MAE: 0.6512\n",
      "Epoch 87/100\n",
      "337/337 [==============================] - 0s 313us/sample - loss: 0.1181 - MAE: 0.2684 - val_loss: 0.7647 - val_MAE: 0.6370\n",
      "Epoch 88/100\n",
      "337/337 [==============================] - 0s 580us/sample - loss: 0.1128 - MAE: 0.2567 - val_loss: 0.7224 - val_MAE: 0.6307\n",
      "Epoch 89/100\n",
      "337/337 [==============================] - 0s 316us/sample - loss: 0.1061 - MAE: 0.2494 - val_loss: 0.7659 - val_MAE: 0.6513\n",
      "Epoch 90/100\n",
      "337/337 [==============================] - 0s 574us/sample - loss: 0.1045 - MAE: 0.2559 - val_loss: 0.7515 - val_MAE: 0.6585\n",
      "Epoch 91/100\n",
      "337/337 [==============================] - 0s 563us/sample - loss: 0.1285 - MAE: 0.2815 - val_loss: 0.8612 - val_MAE: 0.7095\n",
      "Epoch 92/100\n",
      "337/337 [==============================] - 0s 328us/sample - loss: 0.1793 - MAE: 0.3420 - val_loss: 0.7072 - val_MAE: 0.6301\n",
      "Epoch 93/100\n",
      "337/337 [==============================] - 0s 560us/sample - loss: 0.1601 - MAE: 0.3229 - val_loss: 0.6936 - val_MAE: 0.6554\n",
      "Epoch 94/100\n",
      "337/337 [==============================] - 0s 328us/sample - loss: 0.1436 - MAE: 0.2905 - val_loss: 0.6681 - val_MAE: 0.6324\n",
      "Epoch 95/100\n",
      "337/337 [==============================] - 0s 583us/sample - loss: 0.1365 - MAE: 0.2892 - val_loss: 0.7870 - val_MAE: 0.6483\n",
      "Epoch 96/100\n",
      "337/337 [==============================] - 0s 578us/sample - loss: 0.1317 - MAE: 0.2938 - val_loss: 0.8777 - val_MAE: 0.7062\n",
      "Epoch 97/100\n",
      "337/337 [==============================] - 0s 305us/sample - loss: 0.1741 - MAE: 0.3204 - val_loss: 0.7878 - val_MAE: 0.6409\n",
      "Epoch 98/100\n",
      "337/337 [==============================] - 0s 581us/sample - loss: 0.1600 - MAE: 0.3156 - val_loss: 0.7706 - val_MAE: 0.6328\n",
      "Epoch 99/100\n",
      "337/337 [==============================] - 0s 311us/sample - loss: 0.1474 - MAE: 0.3076 - val_loss: 0.6831 - val_MAE: 0.6133\n",
      "Epoch 100/100\n",
      "337/337 [==============================] - 0s 571us/sample - loss: 0.1304 - MAE: 0.2808 - val_loss: 0.7001 - val_MAE: 0.6454\n"
     ]
    }
   ],
   "source": [
    "# Train the model, with some of the data reserved for validation\n",
    "\n",
    "history = model.fit(x_train,y_train,validation_split = 0.15,epochs = 100,batch_size = 64,)"
   ]
  },
  {
   "cell_type": "code",
   "execution_count": 10,
   "metadata": {},
   "outputs": [
    {
     "name": "stdout",
     "output_type": "stream",
     "text": [
      "45/1 - 0s - loss: 0.5060 - MAE: 0.6242\n"
     ]
    },
    {
     "data": {
      "text/plain": [
       "[0.5973926981290182, 0.6241607]"
      ]
     },
     "execution_count": 10,
     "metadata": {},
     "output_type": "execute_result"
    }
   ],
   "source": [
    "# Evaluate the model on the test set\n",
    "\n",
    "model.evaluate(x_val,y_val,verbose = 2)"
   ]
  },
  {
   "cell_type": "markdown",
   "metadata": {},
   "source": [
    "#### Plot the learning curves"
   ]
  },
  {
   "cell_type": "code",
   "execution_count": 11,
   "metadata": {},
   "outputs": [],
   "source": [
    "import matplotlib.pyplot as plt\n",
    "%matplotlib inline"
   ]
  },
  {
   "cell_type": "code",
   "execution_count": 12,
   "metadata": {},
   "outputs": [
    {
     "data": {
      "image/png": "[encoded data removed]",
      "text/plain": [
       "<Figure size 432x288 with 1 Axes>"
      ]
     },
     "metadata": {
      "needs_background": "light"
     },
     "output_type": "display_data"
    }
   ],
   "source": [
    "# Plot the training and validation loss\n",
    "\n",
    "plt.plot(history.history['loss'])\n",
    "plt.plot(history.history['val_loss'])\n",
    "plt.title('Loss vs. epochs')\n",
    "plt.ylabel('Loss')\n",
    "plt.xlabel('Epoch')\n",
    "plt.legend(['Training', 'Validation'], loc='upper right')\n",
    "plt.show()"
   ]
  },
  {
   "cell_type": "markdown",
   "metadata": {},
   "source": [
    "***\n",
    "<a id=\"coding_tutorial_2\"></a>\n",
    "## Model regularisation"
   ]
  },
  {
   "cell_type": "markdown",
   "metadata": {},
   "source": [
    "#### Adding regularisation with weight decay and dropout"
   ]
  },
  {
   "cell_type": "code",
   "execution_count": 13,
   "metadata": {},
   "outputs": [],
   "source": [
    "from tensorflow.keras.layers import Dropout,LeakyReLU,ReLU,Dense\n",
    "from tensorflow.keras import regularizers"
   ]
  },
  {
   "cell_type": "code",
   "execution_count": 14,
   "metadata": {},
   "outputs": [],
   "source": [
    "def get_regularised_model(wd, rate):\n",
    "    model = tf.keras.models.Sequential([\n",
    "        Dense(128, activation=tf.keras.layers.ReLU(), input_shape=(x_train.shape[1],),\n",
    "              kernel_regularizer =regularizers.l1_l2(l1 = wd, l2 = wd ),\n",
    "              name = \"Dense_1\"),\n",
    "        Dropout(rate,name =\"DO1\"),\n",
    "        Dense(128, activation=LeakyReLU(),kernel_regularizer = regularizers.l1_l2(l1= wd,l2=wd) ,name = \"Dense_2\"),\n",
    "        Dropout(rate,name =\"DO2\"),\n",
    "        Dense(128, activation=LeakyReLU(),name = \"Dense_3\"),\n",
    "        Dropout(rate,name =\"DO3\"),\n",
    "        Dense(128, activation=LeakyReLU(), name = \"Dense_4\"),\n",
    "        Dropout(rate,name =\"DO4\"),\n",
    "        Dense(128, activation=LeakyReLU(),kernel_regularizer =regularizers.l1_l2(l1=wd,l2=wd),name = \"Dense_5\"),\n",
    "        Dropout(rate,name =\"DO5\"),\n",
    "        Dense(128, activation=ReLU(),kernel_regularizer =regularizers.l1_l2(l1=wd,l2=wd),name = \"Dense_6\"),\n",
    "        Dense(1, name = \"Output\")\n",
    "    ],name=\"SAMPIS\")\n",
    "    return model"
   ]
  },
  {
   "cell_type": "code",
   "execution_count": 15,
   "metadata": {},
   "outputs": [
    {
     "name": "stdout",
     "output_type": "stream",
     "text": [
      "Model: \"SAMPIS\"\n",
      "_________________________________________________________________\n",
      "Layer (type)                 Output Shape              Param #   \n",
      "=================================================================\n",
      "Dense_1 (Dense)              (None, 128)               1408      \n",
      "_________________________________________________________________\n",
      "DO1 (Dropout)                (None, 128)               0         \n",
      "_________________________________________________________________\n",
      "Dense_2 (Dense)              (None, 128)               16512     \n",
      "_________________________________________________________________\n",
      "DO2 (Dropout)                (None, 128)               0         \n",
      "_________________________________________________________________\n",
      "Dense_3 (Dense)              (None, 128)               16512     \n",
      "_________________________________________________________________\n",
      "DO3 (Dropout)                (None, 128)               0         \n",
      "_________________________________________________________________\n",
      "Dense_4 (Dense)              (None, 128)               16512     \n",
      "_________________________________________________________________\n",
      "DO4 (Dropout)                (None, 128)               0         \n",
      "_________________________________________________________________\n",
      "Dense_5 (Dense)              (None, 128)               16512     \n",
      "_________________________________________________________________\n",
      "DO5 (Dropout)                (None, 128)               0         \n",
      "_________________________________________________________________\n",
      "Dense_6 (Dense)              (None, 128)               16512     \n",
      "_________________________________________________________________\n",
      "Output (Dense)               (None, 1)                 129       \n",
      "=================================================================\n",
      "Total params: 84,097\n",
      "Trainable params: 84,097\n",
      "Non-trainable params: 0\n",
      "_________________________________________________________________\n"
     ]
    }
   ],
   "source": [
    "# Re-build the model with weight decay and dropout layers\n",
    "\n",
    "model = get_regularised_model(1e-5,0.3)\n",
    "model.summary()"
   ]
  },
  {
   "cell_type": "code",
   "execution_count": 16,
   "metadata": {},
   "outputs": [],
   "source": [
    "# Compile the model\n",
    "\n",
    "optimizer = tf.keras.optimizers.Adam(lr = 0.005)\n",
    "METRICS  = [tf.keras.metrics.MeanAbsoluteError(name =\"MAE\"),\n",
    "            tf.keras.metrics.RootMeanSquaredError(name=\"RMSE\")\n",
    "           ]\n",
    "loss = tf.keras.losses.MeanSquaredError()\n",
    "\n",
    "model.compile(loss=loss,optimizer=optimizer,metrics=METRICS)"
   ]
  },
  {
   "cell_type": "code",
   "execution_count": 17,
   "metadata": {},
   "outputs": [
    {
     "name": "stdout",
     "output_type": "stream",
     "text": [
      "Train on 337 samples, validate on 60 samples\n",
      "Epoch 1/100\n",
      "337/337 [==============================] - 2s 6ms/sample - loss: 0.9572 - MAE: 0.8149 - RMSE: 0.9562 - val_loss: 0.7434 - val_MAE: 0.6536 - val_RMSE: 0.8371\n",
      "Epoch 2/100\n",
      "337/337 [==============================] - 0s 333us/sample - loss: 0.6741 - MAE: 0.6632 - RMSE: 0.7947 - val_loss: 0.6835 - val_MAE: 0.6580 - val_RMSE: 0.8006\n",
      "Epoch 3/100\n",
      "337/337 [==============================] - 0s 592us/sample - loss: 0.6029 - MAE: 0.6105 - RMSE: 0.7486 - val_loss: 0.6944 - val_MAE: 0.6421 - val_RMSE: 0.8075\n",
      "Epoch 4/100\n",
      "337/337 [==============================] - 0s 582us/sample - loss: 0.6983 - MAE: 0.6634 - RMSE: 0.8100 - val_loss: 0.7838 - val_MAE: 0.7546 - val_RMSE: 0.8613\n",
      "Epoch 5/100\n",
      "337/337 [==============================] - 0s 581us/sample - loss: 0.6287 - MAE: 0.6287 - RMSE: 0.7660 - val_loss: 0.5407 - val_MAE: 0.5637 - val_RMSE: 0.7062\n",
      "Epoch 6/100\n",
      "337/337 [==============================] - 0s 594us/sample - loss: 0.5904 - MAE: 0.6114 - RMSE: 0.7407 - val_loss: 0.6829 - val_MAE: 0.6814 - val_RMSE: 0.8008\n",
      "Epoch 7/100\n",
      "337/337 [==============================] - 0s 587us/sample - loss: 0.5683 - MAE: 0.6031 - RMSE: 0.7257 - val_loss: 0.5420 - val_MAE: 0.5756 - val_RMSE: 0.7075\n",
      "Epoch 8/100\n",
      "337/337 [==============================] - 0s 588us/sample - loss: 0.5657 - MAE: 0.5898 - RMSE: 0.7241 - val_loss: 0.6588 - val_MAE: 0.6593 - val_RMSE: 0.7859\n",
      "Epoch 9/100\n",
      "337/337 [==============================] - 0s 564us/sample - loss: 0.5524 - MAE: 0.5907 - RMSE: 0.7151 - val_loss: 0.5586 - val_MAE: 0.5910 - val_RMSE: 0.7194\n",
      "Epoch 10/100\n",
      "337/337 [==============================] - 0s 337us/sample - loss: 0.5367 - MAE: 0.5643 - RMSE: 0.7041 - val_loss: 0.6152 - val_MAE: 0.6395 - val_RMSE: 0.7579\n",
      "Epoch 11/100\n",
      "337/337 [==============================] - 0s 600us/sample - loss: 0.5253 - MAE: 0.5763 - RMSE: 0.6961 - val_loss: 0.5564 - val_MAE: 0.5913 - val_RMSE: 0.7182\n",
      "Epoch 12/100\n",
      "337/337 [==============================] - 0s 581us/sample - loss: 0.4916 - MAE: 0.5426 - RMSE: 0.6716 - val_loss: 0.5492 - val_MAE: 0.5783 - val_RMSE: 0.7133\n",
      "Epoch 13/100\n",
      "337/337 [==============================] - 0s 591us/sample - loss: 0.5359 - MAE: 0.5596 - RMSE: 0.7039 - val_loss: 0.6790 - val_MAE: 0.6789 - val_RMSE: 0.7994\n",
      "Epoch 14/100\n",
      "337/337 [==============================] - 0s 580us/sample - loss: 0.5632 - MAE: 0.5983 - RMSE: 0.7233 - val_loss: 0.5430 - val_MAE: 0.5696 - val_RMSE: 0.7092\n",
      "Epoch 15/100\n",
      "337/337 [==============================] - 0s 573us/sample - loss: 0.5279 - MAE: 0.5527 - RMSE: 0.6986 - val_loss: 0.5860 - val_MAE: 0.6250 - val_RMSE: 0.7391\n",
      "Epoch 16/100\n",
      "337/337 [==============================] - 0s 340us/sample - loss: 0.5147 - MAE: 0.5613 - RMSE: 0.6893 - val_loss: 0.5788 - val_MAE: 0.5831 - val_RMSE: 0.7343\n",
      "Epoch 17/100\n",
      "337/337 [==============================] - 0s 341us/sample - loss: 0.5082 - MAE: 0.5477 - RMSE: 0.6846 - val_loss: 0.5488 - val_MAE: 0.5940 - val_RMSE: 0.7138\n",
      "Epoch 18/100\n",
      "337/337 [==============================] - 0s 583us/sample - loss: 0.4711 - MAE: 0.5351 - RMSE: 0.6572 - val_loss: 0.5463 - val_MAE: 0.5652 - val_RMSE: 0.7121\n",
      "Epoch 19/100\n",
      "337/337 [==============================] - 0s 590us/sample - loss: 0.5232 - MAE: 0.5556 - RMSE: 0.6958 - val_loss: 0.5582 - val_MAE: 0.5972 - val_RMSE: 0.7206\n",
      "Epoch 20/100\n",
      "337/337 [==============================] - 0s 581us/sample - loss: 0.4758 - MAE: 0.5361 - RMSE: 0.6609 - val_loss: 0.5172 - val_MAE: 0.5595 - val_RMSE: 0.6916\n",
      "Epoch 21/100\n",
      "337/337 [==============================] - 0s 326us/sample - loss: 0.5239 - MAE: 0.5580 - RMSE: 0.6965 - val_loss: 0.5987 - val_MAE: 0.5838 - val_RMSE: 0.7483\n",
      "Epoch 22/100\n",
      "337/337 [==============================] - 0s 572us/sample - loss: 0.4955 - MAE: 0.5363 - RMSE: 0.6759 - val_loss: 0.5176 - val_MAE: 0.5445 - val_RMSE: 0.6921\n",
      "Epoch 23/100\n",
      "337/337 [==============================] - 0s 593us/sample - loss: 0.4525 - MAE: 0.5151 - RMSE: 0.6435 - val_loss: 0.5617 - val_MAE: 0.5650 - val_RMSE: 0.7234\n",
      "Epoch 24/100\n",
      "337/337 [==============================] - 0s 568us/sample - loss: 0.4779 - MAE: 0.5217 - RMSE: 0.6630 - val_loss: 0.5759 - val_MAE: 0.6068 - val_RMSE: 0.7332\n",
      "Epoch 25/100\n",
      "337/337 [==============================] - 0s 594us/sample - loss: 0.5763 - MAE: 0.5923 - RMSE: 0.7336 - val_loss: 0.5693 - val_MAE: 0.6094 - val_RMSE: 0.7288\n",
      "Epoch 26/100\n",
      "337/337 [==============================] - 0s 331us/sample - loss: 0.4979 - MAE: 0.5569 - RMSE: 0.6781 - val_loss: 0.6317 - val_MAE: 0.5891 - val_RMSE: 0.7706\n",
      "Epoch 27/100\n",
      "337/337 [==============================] - 0s 568us/sample - loss: 0.5204 - MAE: 0.5645 - RMSE: 0.6947 - val_loss: 0.5631 - val_MAE: 0.6046 - val_RMSE: 0.7248\n",
      "Epoch 28/100\n",
      "337/337 [==============================] - 0s 576us/sample - loss: 0.5480 - MAE: 0.5817 - RMSE: 0.7143 - val_loss: 0.6328 - val_MAE: 0.6175 - val_RMSE: 0.7715\n",
      "Epoch 29/100\n",
      "337/337 [==============================] - 0s 328us/sample - loss: 0.5809 - MAE: 0.6199 - RMSE: 0.7372 - val_loss: 0.6613 - val_MAE: 0.6882 - val_RMSE: 0.7899\n",
      "Epoch 30/100\n",
      "337/337 [==============================] - 0s 579us/sample - loss: 0.5549 - MAE: 0.5907 - RMSE: 0.7193 - val_loss: 0.6293 - val_MAE: 0.6017 - val_RMSE: 0.7693\n",
      "Epoch 31/100\n",
      "337/337 [==============================] - 0s 588us/sample - loss: 0.5289 - MAE: 0.5612 - RMSE: 0.7011 - val_loss: 0.6238 - val_MAE: 0.6655 - val_RMSE: 0.7660\n",
      "Epoch 32/100\n",
      "337/337 [==============================] - 0s 572us/sample - loss: 0.5047 - MAE: 0.5682 - RMSE: 0.6838 - val_loss: 0.5854 - val_MAE: 0.5811 - val_RMSE: 0.7404\n",
      "Epoch 33/100\n",
      "337/337 [==============================] - 0s 581us/sample - loss: 0.4715 - MAE: 0.5235 - RMSE: 0.6591 - val_loss: 0.5564 - val_MAE: 0.5812 - val_RMSE: 0.7207\n",
      "Epoch 34/100\n",
      "337/337 [==============================] - 0s 331us/sample - loss: 0.4821 - MAE: 0.5372 - RMSE: 0.6673 - val_loss: 0.6051 - val_MAE: 0.6183 - val_RMSE: 0.7539\n",
      "Epoch 35/100\n",
      "337/337 [==============================] - 0s 590us/sample - loss: 0.4798 - MAE: 0.5376 - RMSE: 0.6656 - val_loss: 0.5164 - val_MAE: 0.5255 - val_RMSE: 0.6926\n",
      "Epoch 36/100\n",
      "337/337 [==============================] - 0s 578us/sample - loss: 0.4268 - MAE: 0.5008 - RMSE: 0.6246 - val_loss: 0.5277 - val_MAE: 0.5641 - val_RMSE: 0.7009\n",
      "Epoch 37/100\n",
      "337/337 [==============================] - 0s 586us/sample - loss: 0.4640 - MAE: 0.5330 - RMSE: 0.6539 - val_loss: 0.5025 - val_MAE: 0.5433 - val_RMSE: 0.6828\n",
      "Epoch 38/100\n",
      "337/337 [==============================] - 0s 560us/sample - loss: 0.4685 - MAE: 0.5209 - RMSE: 0.6575 - val_loss: 0.6314 - val_MAE: 0.5869 - val_RMSE: 0.7716\n",
      "Epoch 39/100\n",
      "337/337 [==============================] - 0s 352us/sample - loss: 0.5001 - MAE: 0.5504 - RMSE: 0.6812 - val_loss: 0.5332 - val_MAE: 0.5594 - val_RMSE: 0.7052\n",
      "Epoch 40/100\n",
      "337/337 [==============================] - 0s 350us/sample - loss: 0.4343 - MAE: 0.4916 - RMSE: 0.6312 - val_loss: 0.5040 - val_MAE: 0.5408 - val_RMSE: 0.6843\n",
      "Epoch 41/100\n",
      "337/337 [==============================] - 0s 594us/sample - loss: 0.4584 - MAE: 0.5107 - RMSE: 0.6501 - val_loss: 0.6419 - val_MAE: 0.6197 - val_RMSE: 0.7787\n",
      "Epoch 42/100\n",
      "337/337 [==============================] - 0s 572us/sample - loss: 0.4554 - MAE: 0.5264 - RMSE: 0.6480 - val_loss: 0.5122 - val_MAE: 0.5551 - val_RMSE: 0.6905\n",
      "Epoch 43/100\n",
      "337/337 [==============================] - 0s 582us/sample - loss: 0.4357 - MAE: 0.4965 - RMSE: 0.6327 - val_loss: 0.5792 - val_MAE: 0.5616 - val_RMSE: 0.7375\n",
      "Epoch 44/100\n",
      "337/337 [==============================] - 0s 582us/sample - loss: 0.4292 - MAE: 0.5027 - RMSE: 0.6277 - val_loss: 0.5950 - val_MAE: 0.6231 - val_RMSE: 0.7482\n",
      "Epoch 45/100\n",
      "337/337 [==============================] - 0s 572us/sample - loss: 0.4865 - MAE: 0.5321 - RMSE: 0.6719 - val_loss: 0.6680 - val_MAE: 0.6028 - val_RMSE: 0.7956\n",
      "Epoch 46/100\n",
      "337/337 [==============================] - 0s 355us/sample - loss: 0.4512 - MAE: 0.5196 - RMSE: 0.6452 - val_loss: 0.5998 - val_MAE: 0.6258 - val_RMSE: 0.7516\n",
      "Epoch 47/100\n",
      "337/337 [==============================] - 0s 350us/sample - loss: 0.4785 - MAE: 0.5362 - RMSE: 0.6661 - val_loss: 0.6255 - val_MAE: 0.5894 - val_RMSE: 0.7686\n",
      "Epoch 48/100\n"
     ]
    },
    {
     "name": "stdout",
     "output_type": "stream",
     "text": [
      "337/337 [==============================] - 0s 590us/sample - loss: 0.4602 - MAE: 0.5268 - RMSE: 0.6523 - val_loss: 0.5318 - val_MAE: 0.5869 - val_RMSE: 0.7051\n",
      "Epoch 49/100\n",
      "337/337 [==============================] - 0s 579us/sample - loss: 0.4109 - MAE: 0.4947 - RMSE: 0.6134 - val_loss: 0.5506 - val_MAE: 0.5563 - val_RMSE: 0.7184\n",
      "Epoch 50/100\n",
      "337/337 [==============================] - 0s 584us/sample - loss: 0.4127 - MAE: 0.4942 - RMSE: 0.6150 - val_loss: 0.5282 - val_MAE: 0.5788 - val_RMSE: 0.7028\n",
      "Epoch 51/100\n",
      "337/337 [==============================] - 0s 572us/sample - loss: 0.4571 - MAE: 0.5297 - RMSE: 0.6502 - val_loss: 0.5267 - val_MAE: 0.5394 - val_RMSE: 0.7018\n",
      "Epoch 52/100\n",
      "337/337 [==============================] - 0s 599us/sample - loss: 0.4286 - MAE: 0.5082 - RMSE: 0.6280 - val_loss: 0.5058 - val_MAE: 0.5284 - val_RMSE: 0.6868\n",
      "Epoch 53/100\n",
      "337/337 [==============================] - 0s 570us/sample - loss: 0.4315 - MAE: 0.5071 - RMSE: 0.6304 - val_loss: 0.5820 - val_MAE: 0.5897 - val_RMSE: 0.7403\n",
      "Epoch 54/100\n",
      "337/337 [==============================] - 0s 353us/sample - loss: 0.4276 - MAE: 0.5053 - RMSE: 0.6274 - val_loss: 0.5274 - val_MAE: 0.5456 - val_RMSE: 0.7025\n",
      "Epoch 55/100\n",
      "337/337 [==============================] - 0s 335us/sample - loss: 0.4462 - MAE: 0.5187 - RMSE: 0.6421 - val_loss: 0.5281 - val_MAE: 0.5691 - val_RMSE: 0.7031\n",
      "Epoch 56/100\n",
      "337/337 [==============================] - 0s 586us/sample - loss: 0.3927 - MAE: 0.4869 - RMSE: 0.5992 - val_loss: 0.5921 - val_MAE: 0.5449 - val_RMSE: 0.7473\n",
      "Epoch 57/100\n",
      "337/337 [==============================] - 0s 565us/sample - loss: 0.3979 - MAE: 0.4670 - RMSE: 0.6036 - val_loss: 0.5350 - val_MAE: 0.5763 - val_RMSE: 0.7082\n",
      "Epoch 58/100\n",
      "337/337 [==============================] - 0s 604us/sample - loss: 0.4267 - MAE: 0.5029 - RMSE: 0.6271 - val_loss: 0.5719 - val_MAE: 0.5437 - val_RMSE: 0.7338\n",
      "Epoch 59/100\n",
      "337/337 [==============================] - 0s 318us/sample - loss: 0.4628 - MAE: 0.5267 - RMSE: 0.6553 - val_loss: 0.6911 - val_MAE: 0.6275 - val_RMSE: 0.8110\n",
      "Epoch 60/100\n",
      "337/337 [==============================] - 0s 574us/sample - loss: 0.4655 - MAE: 0.5326 - RMSE: 0.6575 - val_loss: 0.5333 - val_MAE: 0.5607 - val_RMSE: 0.7071\n",
      "Epoch 61/100\n",
      "337/337 [==============================] - 0s 591us/sample - loss: 0.4580 - MAE: 0.5158 - RMSE: 0.6517 - val_loss: 0.5724 - val_MAE: 0.5778 - val_RMSE: 0.7343\n",
      "Epoch 62/100\n",
      "337/337 [==============================] - 0s 569us/sample - loss: 0.3820 - MAE: 0.4814 - RMSE: 0.5906 - val_loss: 0.5715 - val_MAE: 0.5876 - val_RMSE: 0.7337\n",
      "Epoch 63/100\n",
      "337/337 [==============================] - 0s 333us/sample - loss: 0.4077 - MAE: 0.4886 - RMSE: 0.6120 - val_loss: 0.5279 - val_MAE: 0.5349 - val_RMSE: 0.7034\n",
      "Epoch 64/100\n",
      "337/337 [==============================] - 0s 587us/sample - loss: 0.4117 - MAE: 0.4924 - RMSE: 0.6153 - val_loss: 0.5891 - val_MAE: 0.5565 - val_RMSE: 0.7457\n",
      "Epoch 65/100\n",
      "337/337 [==============================] - 0s 578us/sample - loss: 0.4355 - MAE: 0.5171 - RMSE: 0.6345 - val_loss: 0.5286 - val_MAE: 0.5713 - val_RMSE: 0.7040\n",
      "Epoch 66/100\n",
      "337/337 [==============================] - 0s 571us/sample - loss: 0.4226 - MAE: 0.5115 - RMSE: 0.6243 - val_loss: 0.5709 - val_MAE: 0.5660 - val_RMSE: 0.7335\n",
      "Epoch 67/100\n",
      "337/337 [==============================] - 0s 332us/sample - loss: 0.4005 - MAE: 0.4865 - RMSE: 0.6063 - val_loss: 0.5574 - val_MAE: 0.5607 - val_RMSE: 0.7243\n",
      "Epoch 68/100\n",
      "337/337 [==============================] - 0s 591us/sample - loss: 0.4141 - MAE: 0.4795 - RMSE: 0.6175 - val_loss: 0.5499 - val_MAE: 0.5645 - val_RMSE: 0.7191\n",
      "Epoch 69/100\n",
      "337/337 [==============================] - 0s 575us/sample - loss: 0.4029 - MAE: 0.4813 - RMSE: 0.6083 - val_loss: 0.5313 - val_MAE: 0.5645 - val_RMSE: 0.7061\n",
      "Epoch 70/100\n",
      "337/337 [==============================] - 0s 580us/sample - loss: 0.4121 - MAE: 0.4911 - RMSE: 0.6159 - val_loss: 0.5225 - val_MAE: 0.5678 - val_RMSE: 0.6998\n",
      "Epoch 71/100\n",
      "337/337 [==============================] - 0s 569us/sample - loss: 0.4506 - MAE: 0.5231 - RMSE: 0.6464 - val_loss: 0.5743 - val_MAE: 0.5652 - val_RMSE: 0.7358\n",
      "Epoch 72/100\n",
      "337/337 [==============================] - 0s 597us/sample - loss: 0.4137 - MAE: 0.5019 - RMSE: 0.6172 - val_loss: 0.5617 - val_MAE: 0.5852 - val_RMSE: 0.7272\n",
      "Epoch 73/100\n",
      "337/337 [==============================] - 0s 336us/sample - loss: 0.4180 - MAE: 0.5082 - RMSE: 0.6206 - val_loss: 0.6684 - val_MAE: 0.5867 - val_RMSE: 0.7972\n",
      "Epoch 74/100\n",
      "337/337 [==============================] - 0s 583us/sample - loss: 0.4123 - MAE: 0.4990 - RMSE: 0.6160 - val_loss: 0.6090 - val_MAE: 0.5671 - val_RMSE: 0.7590\n",
      "Epoch 75/100\n",
      "337/337 [==============================] - 0s 585us/sample - loss: 0.4385 - MAE: 0.5036 - RMSE: 0.6370 - val_loss: 0.5071 - val_MAE: 0.5354 - val_RMSE: 0.6887\n",
      "Epoch 76/100\n",
      "337/337 [==============================] - 0s 579us/sample - loss: 0.4154 - MAE: 0.4895 - RMSE: 0.6186 - val_loss: 0.5591 - val_MAE: 0.5665 - val_RMSE: 0.7255\n",
      "Epoch 77/100\n",
      "337/337 [==============================] - 0s 317us/sample - loss: 0.4432 - MAE: 0.5280 - RMSE: 0.6407 - val_loss: 0.6454 - val_MAE: 0.6160 - val_RMSE: 0.7828\n",
      "Epoch 78/100\n",
      "337/337 [==============================] - 0s 581us/sample - loss: 0.4000 - MAE: 0.4888 - RMSE: 0.6061 - val_loss: 0.5985 - val_MAE: 0.5791 - val_RMSE: 0.7523\n",
      "Epoch 79/100\n",
      "337/337 [==============================] - 0s 585us/sample - loss: 0.4345 - MAE: 0.5185 - RMSE: 0.6340 - val_loss: 0.5946 - val_MAE: 0.5766 - val_RMSE: 0.7497\n",
      "Epoch 80/100\n",
      "337/337 [==============================] - 0s 590us/sample - loss: 0.3744 - MAE: 0.4639 - RMSE: 0.5846 - val_loss: 0.5658 - val_MAE: 0.5659 - val_RMSE: 0.7303\n",
      "Epoch 81/100\n",
      "337/337 [==============================] - 0s 578us/sample - loss: 0.4079 - MAE: 0.4950 - RMSE: 0.6127 - val_loss: 0.6471 - val_MAE: 0.6188 - val_RMSE: 0.7840\n",
      "Epoch 82/100\n",
      "337/337 [==============================] - 0s 573us/sample - loss: 0.4092 - MAE: 0.4933 - RMSE: 0.6138 - val_loss: 0.5557 - val_MAE: 0.5586 - val_RMSE: 0.7233\n",
      "Epoch 83/100\n",
      "337/337 [==============================] - 0s 346us/sample - loss: 0.4303 - MAE: 0.4996 - RMSE: 0.6307 - val_loss: 0.5664 - val_MAE: 0.5813 - val_RMSE: 0.7307\n",
      "Epoch 84/100\n",
      "337/337 [==============================] - 0s 582us/sample - loss: 0.3876 - MAE: 0.4782 - RMSE: 0.5959 - val_loss: 0.7165 - val_MAE: 0.6087 - val_RMSE: 0.8271\n",
      "Epoch 85/100\n",
      "337/337 [==============================] - 0s 579us/sample - loss: 0.4246 - MAE: 0.5071 - RMSE: 0.6262 - val_loss: 0.5539 - val_MAE: 0.5666 - val_RMSE: 0.7221\n",
      "Epoch 86/100\n",
      "337/337 [==============================] - 0s 573us/sample - loss: 0.3793 - MAE: 0.4774 - RMSE: 0.5890 - val_loss: 0.6098 - val_MAE: 0.5665 - val_RMSE: 0.7599\n",
      "Epoch 87/100\n",
      "337/337 [==============================] - 0s 326us/sample - loss: 0.3901 - MAE: 0.4788 - RMSE: 0.5981 - val_loss: 0.5845 - val_MAE: 0.5976 - val_RMSE: 0.7431\n",
      "Epoch 88/100\n",
      "337/337 [==============================] - 0s 359us/sample - loss: 0.3934 - MAE: 0.4832 - RMSE: 0.6010 - val_loss: 0.5835 - val_MAE: 0.5518 - val_RMSE: 0.7424\n",
      "Epoch 89/100\n",
      "337/337 [==============================] - 0s 574us/sample - loss: 0.4262 - MAE: 0.4977 - RMSE: 0.6277 - val_loss: 0.5819 - val_MAE: 0.6073 - val_RMSE: 0.7414\n",
      "Epoch 90/100\n",
      "337/337 [==============================] - 0s 578us/sample - loss: 0.3770 - MAE: 0.4851 - RMSE: 0.5873 - val_loss: 0.5563 - val_MAE: 0.5254 - val_RMSE: 0.7240\n",
      "Epoch 91/100\n",
      "337/337 [==============================] - 0s 562us/sample - loss: 0.4263 - MAE: 0.4967 - RMSE: 0.6278 - val_loss: 0.5824 - val_MAE: 0.5376 - val_RMSE: 0.7418\n",
      "Epoch 92/100\n",
      "337/337 [==============================] - 0s 587us/sample - loss: 0.4359 - MAE: 0.5148 - RMSE: 0.6355 - val_loss: 0.6041 - val_MAE: 0.6163 - val_RMSE: 0.7563\n",
      "Epoch 93/100\n",
      "337/337 [==============================] - 0s 340us/sample - loss: 0.4609 - MAE: 0.5273 - RMSE: 0.6549 - val_loss: 0.6522 - val_MAE: 0.5736 - val_RMSE: 0.7876\n",
      "Epoch 94/100\n",
      "337/337 [==============================] - 0s 353us/sample - loss: 0.4052 - MAE: 0.4941 - RMSE: 0.6109 - val_loss: 0.5187 - val_MAE: 0.5256 - val_RMSE: 0.6977\n",
      "Epoch 95/100\n",
      "337/337 [==============================] - 0s 588us/sample - loss: 0.3838 - MAE: 0.4711 - RMSE: 0.5931 - val_loss: 0.5495 - val_MAE: 0.5298 - val_RMSE: 0.7193\n"
     ]
    },
    {
     "name": "stdout",
     "output_type": "stream",
     "text": [
      "Epoch 96/100\n",
      "337/337 [==============================] - 0s 570us/sample - loss: 0.4043 - MAE: 0.4881 - RMSE: 0.6102 - val_loss: 0.6375 - val_MAE: 0.5872 - val_RMSE: 0.7781\n",
      "Epoch 97/100\n",
      "337/337 [==============================] - 0s 578us/sample - loss: 0.3914 - MAE: 0.4851 - RMSE: 0.5995 - val_loss: 0.6161 - val_MAE: 0.5662 - val_RMSE: 0.7643\n",
      "Epoch 98/100\n",
      "337/337 [==============================] - 0s 326us/sample - loss: 0.3812 - MAE: 0.4709 - RMSE: 0.5909 - val_loss: 0.7131 - val_MAE: 0.6155 - val_RMSE: 0.8253\n",
      "Epoch 99/100\n",
      "337/337 [==============================] - 0s 581us/sample - loss: 0.4340 - MAE: 0.5145 - RMSE: 0.6340 - val_loss: 0.6625 - val_MAE: 0.5897 - val_RMSE: 0.7940\n",
      "Epoch 100/100\n",
      "337/337 [==============================] - 0s 586us/sample - loss: 0.4396 - MAE: 0.4985 - RMSE: 0.6384 - val_loss: 0.6054 - val_MAE: 0.6017 - val_RMSE: 0.7572\n"
     ]
    }
   ],
   "source": [
    "# Train the model, with some of the data reserved for validation\n",
    "\n",
    "history = model.fit(x_train,y_train,validation_split = 0.15,epochs = 100,batch_size = 64,\n",
    "         verbose = 1)"
   ]
  },
  {
   "cell_type": "code",
   "execution_count": 18,
   "metadata": {},
   "outputs": [
    {
     "name": "stdout",
     "output_type": "stream",
     "text": [
      "45/1 - 0s - loss: 0.4676 - MAE: 0.5581 - RMSE: 0.7038\n"
     ]
    },
    {
     "data": {
      "text/plain": [
       "[0.5273166418075561, 0.55811435, 0.7037807]"
      ]
     },
     "execution_count": 18,
     "metadata": {},
     "output_type": "execute_result"
    }
   ],
   "source": [
    "# Evaluate the model on the test set\n",
    "model.evaluate(x_val,y_val,verbose = 2)\n"
   ]
  },
  {
   "cell_type": "code",
   "execution_count": 19,
   "metadata": {},
   "outputs": [
    {
     "data": {
      "text/html": [
       "<div>\n",
       "<style scoped>\n",
       "    .dataframe tbody tr th:only-of-type {\n",
       "        vertical-align: middle;\n",
       "    }\n",
       "\n",
       "    .dataframe tbody tr th {\n",
       "        vertical-align: top;\n",
       "    }\n",
       "\n",
       "    .dataframe thead th {\n",
       "        text-align: right;\n",
       "    }\n",
       "</style>\n",
       "<table border=\"1\" class=\"dataframe\">\n",
       "  <thead>\n",
       "    <tr style=\"text-align: right;\">\n",
       "      <th></th>\n",
       "      <th>loss</th>\n",
       "      <th>MAE</th>\n",
       "      <th>RMSE</th>\n",
       "      <th>val_loss</th>\n",
       "      <th>val_MAE</th>\n",
       "      <th>val_RMSE</th>\n",
       "    </tr>\n",
       "  </thead>\n",
       "  <tbody>\n",
       "    <tr>\n",
       "      <th>0</th>\n",
       "      <td>0.957204</td>\n",
       "      <td>0.814874</td>\n",
       "      <td>0.956214</td>\n",
       "      <td>0.743392</td>\n",
       "      <td>0.653559</td>\n",
       "      <td>0.837050</td>\n",
       "    </tr>\n",
       "    <tr>\n",
       "      <th>1</th>\n",
       "      <td>0.674131</td>\n",
       "      <td>0.663194</td>\n",
       "      <td>0.794652</td>\n",
       "      <td>0.683525</td>\n",
       "      <td>0.658017</td>\n",
       "      <td>0.800633</td>\n",
       "    </tr>\n",
       "    <tr>\n",
       "      <th>2</th>\n",
       "      <td>0.602911</td>\n",
       "      <td>0.610536</td>\n",
       "      <td>0.748617</td>\n",
       "      <td>0.694391</td>\n",
       "      <td>0.642080</td>\n",
       "      <td>0.807498</td>\n",
       "    </tr>\n",
       "    <tr>\n",
       "      <th>3</th>\n",
       "      <td>0.698300</td>\n",
       "      <td>0.663390</td>\n",
       "      <td>0.809999</td>\n",
       "      <td>0.783822</td>\n",
       "      <td>0.754567</td>\n",
       "      <td>0.861270</td>\n",
       "    </tr>\n",
       "    <tr>\n",
       "      <th>4</th>\n",
       "      <td>0.628744</td>\n",
       "      <td>0.628749</td>\n",
       "      <td>0.765959</td>\n",
       "      <td>0.540736</td>\n",
       "      <td>0.563666</td>\n",
       "      <td>0.706243</td>\n",
       "    </tr>\n",
       "  </tbody>\n",
       "</table>\n",
       "</div>"
      ],
      "text/plain": [
       "       loss       MAE      RMSE  val_loss   val_MAE  val_RMSE\n",
       "0  0.957204  0.814874  0.956214  0.743392  0.653559  0.837050\n",
       "1  0.674131  0.663194  0.794652  0.683525  0.658017  0.800633\n",
       "2  0.602911  0.610536  0.748617  0.694391  0.642080  0.807498\n",
       "3  0.698300  0.663390  0.809999  0.783822  0.754567  0.861270\n",
       "4  0.628744  0.628749  0.765959  0.540736  0.563666  0.706243"
      ]
     },
     "execution_count": 19,
     "metadata": {},
     "output_type": "execute_result"
    }
   ],
   "source": [
    "import pandas\n",
    "df = pandas.DataFrame(history.history)\n",
    "df.head()"
   ]
  },
  {
   "cell_type": "markdown",
   "metadata": {},
   "source": [
    "#### Plot the learning curves"
   ]
  },
  {
   "cell_type": "code",
   "execution_count": 20,
   "metadata": {},
   "outputs": [
    {
     "data": {
      "image/png": "[encoded data removed]",
      "text/plain": [
       "<Figure size 432x288 with 1 Axes>"
      ]
     },
     "metadata": {
      "needs_background": "light"
     },
     "output_type": "display_data"
    }
   ],
   "source": [
    "# Plot the training and validation loss\n",
    "\n",
    "import matplotlib.pyplot as plt\n",
    "\n",
    "plt.plot(df['loss'])\n",
    "plt.plot(df['val_loss'])\n",
    "plt.title('Loss vs. epochs')\n",
    "plt.ylabel('Loss')\n",
    "plt.xlabel('Epoch')\n",
    "plt.legend(['Training', 'Validation'], loc='upper right')\n",
    "plt.show()"
   ]
  },
  {
   "cell_type": "markdown",
   "metadata": {},
   "source": [
    "***\n",
    "<a id=\"coding_tutorial_3\"></a>\n",
    "## Introduction to callbacks"
   ]
  },
  {
   "cell_type": "markdown",
   "metadata": {},
   "source": [
    "#### Example training callback"
   ]
  },
  {
   "cell_type": "code",
   "execution_count": 59,
   "metadata": {},
   "outputs": [],
   "source": [
    "# Write a custom callback\n",
    "from tensorflow.keras.callbacks import Callback\n",
    "\n",
    "class CustomizedCallbacks(Callback):\n",
    "    \n",
    "    def on_batch_end(self,batch, logs = None):\n",
    "        if batch % 2 == 0:\n",
    "            print(\"After batch {}, Loss is {:7.2f}\".format(batch, logs[\"loss\"]))                  \n",
    "    def on_test_batch_end(self, batch, logs =None):\n",
    "        print(\"After batch {}, Test Loss is {:7.2f}\".format(batch, logs[\"loss\"]))\n",
    "    \n",
    "    def on_epoch_end(self,epoch,logs=None):\n",
    "        print(\"Epoch {}, Average Loss {:7.25} , Mae {}\".format(epoch,logs[\"loss\"],logs[\"MAE\"]))\n",
    "    \n",
    "    def on_predict_batch_end(self,batch,logs = None):\n",
    "        print(\"Finished PRediction on batch {}\",format(batch))\n",
    "    \n",
    "    def on_epoch_begin(self,epoch, logs = None):\n",
    "        print(f\"Current Epoch {epoch}\")"
   ]
  },
  {
   "cell_type": "code",
   "execution_count": 54,
   "metadata": {},
   "outputs": [
    {
     "name": "stdout",
     "output_type": "stream",
     "text": [
      "Model: \"SAMPIS\"\n",
      "_________________________________________________________________\n",
      "Layer (type)                 Output Shape              Param #   \n",
      "=================================================================\n",
      "Dense_1 (Dense)              (None, 128)               1408      \n",
      "_________________________________________________________________\n",
      "DO1 (Dropout)                (None, 128)               0         \n",
      "_________________________________________________________________\n",
      "Dense_2 (Dense)              (None, 128)               16512     \n",
      "_________________________________________________________________\n",
      "DO2 (Dropout)                (None, 128)               0         \n",
      "_________________________________________________________________\n",
      "Dense_3 (Dense)              (None, 128)               16512     \n",
      "_________________________________________________________________\n",
      "DO3 (Dropout)                (None, 128)               0         \n",
      "_________________________________________________________________\n",
      "Dense_4 (Dense)              (None, 128)               16512     \n",
      "_________________________________________________________________\n",
      "DO4 (Dropout)                (None, 128)               0         \n",
      "_________________________________________________________________\n",
      "Dense_5 (Dense)              (None, 128)               16512     \n",
      "_________________________________________________________________\n",
      "DO5 (Dropout)                (None, 128)               0         \n",
      "_________________________________________________________________\n",
      "Dense_6 (Dense)              (None, 128)               16512     \n",
      "_________________________________________________________________\n",
      "Output (Dense)               (None, 1)                 129       \n",
      "=================================================================\n",
      "Total params: 84,097\n",
      "Trainable params: 84,097\n",
      "Non-trainable params: 0\n",
      "_________________________________________________________________\n"
     ]
    }
   ],
   "source": [
    "# Re-build the model\n",
    "model = get_regularised_model(1e-5, 0.3)\n",
    "model.summary()\n"
   ]
  },
  {
   "cell_type": "code",
   "execution_count": 60,
   "metadata": {},
   "outputs": [],
   "source": [
    "# Compile the model\n",
    "optimizer = tf.keras.optimizers.Adam(lr = 0.005)\n",
    "loss = tf.keras.losses.MeanSquaredError()\n",
    "\n",
    "METRICS = [tf.keras.metrics.MeanAbsoluteError(name = \"MAE\")]\n",
    "\n",
    "model.compile(optimizer = optimizer,loss = loss,metrics = METRICS)"
   ]
  },
  {
   "cell_type": "markdown",
   "metadata": {},
   "source": [
    "#### Train the model with the callback"
   ]
  },
  {
   "cell_type": "code",
   "execution_count": 63,
   "metadata": {},
   "outputs": [
    {
     "name": "stdout",
     "output_type": "stream",
     "text": [
      "Current Epoch 0\n",
      "After batch 0, Loss is    0.45\n",
      "After batch 2, Loss is    0.71\n",
      "After batch 4, Loss is    0.61\n",
      "After batch 6, Loss is    0.64\n",
      "After batch 8, Loss is    0.86\n",
      "After batch 0, Test Loss is    0.48\n",
      "After batch 1, Test Loss is    0.61\n",
      "After batch 2, Test Loss is    0.80\n",
      "Epoch 0, Average Loss 0.6149171071849787173491109 , Mae 0.6283578276634216\n",
      "Current Epoch 1\n",
      "After batch 0, Loss is    0.66\n",
      "After batch 2, Loss is    0.68\n",
      "After batch 4, Loss is    0.44\n",
      "After batch 6, Loss is    0.80\n",
      "After batch 8, Loss is    0.47\n",
      "After batch 0, Test Loss is    0.45\n",
      "After batch 1, Test Loss is    0.59\n",
      "After batch 2, Test Loss is    0.64\n",
      "Epoch 1, Average Loss 0.5801278591532060824320638 , Mae 0.5901764035224915\n",
      "Current Epoch 2\n",
      "After batch 0, Loss is    0.65\n",
      "After batch 2, Loss is    0.37\n",
      "After batch 4, Loss is    0.46\n",
      "After batch 6, Loss is    0.60\n",
      "After batch 8, Loss is    0.87\n",
      "After batch 0, Test Loss is    0.51\n",
      "After batch 1, Test Loss is    0.62\n",
      "After batch 2, Test Loss is    0.85\n",
      "Epoch 2, Average Loss 0.587644133093981335669298 , Mae 0.6064177751541138\n",
      "Current Epoch 3\n",
      "After batch 0, Loss is    0.71\n",
      "After batch 2, Loss is    0.70\n",
      "After batch 4, Loss is    0.58\n",
      "After batch 6, Loss is    0.47\n",
      "After batch 8, Loss is    0.56\n",
      "After batch 0, Test Loss is    0.53\n",
      "After batch 1, Test Loss is    0.67\n",
      "After batch 2, Test Loss is    0.88\n",
      "Epoch 3, Average Loss 0.6335676972422313868449351 , Mae 0.6415894031524658\n",
      "Current Epoch 4\n",
      "After batch 0, Loss is    0.57\n",
      "After batch 2, Loss is    0.67\n",
      "After batch 4, Loss is    0.58\n",
      "After batch 6, Loss is    0.62\n",
      "After batch 8, Loss is    0.62\n",
      "After batch 0, Test Loss is    0.38\n",
      "After batch 1, Test Loss is    0.51\n",
      "After batch 2, Test Loss is    0.55\n",
      "Epoch 4, Average Loss 0.5982339107651816201283168 , Mae 0.6282559633255005\n",
      "Current Epoch 5\n",
      "After batch 0, Loss is    0.45\n",
      "After batch 2, Loss is    0.62\n",
      "After batch 4, Loss is    0.53\n",
      "After batch 6, Loss is    0.77\n",
      "After batch 8, Loss is    0.70\n",
      "After batch 0, Test Loss is    0.47\n",
      "After batch 1, Test Loss is    0.61\n",
      "After batch 2, Test Loss is    0.80\n",
      "Epoch 5, Average Loss 0.5921857074984240298931581 , Mae 0.6186570525169373\n",
      "Current Epoch 6\n",
      "After batch 0, Loss is    0.51\n",
      "After batch 2, Loss is    0.52\n",
      "After batch 4, Loss is    0.83\n",
      "After batch 6, Loss is    0.81\n",
      "After batch 8, Loss is    0.37\n",
      "After batch 0, Test Loss is    0.43\n",
      "After batch 1, Test Loss is    0.58\n",
      "After batch 2, Test Loss is    0.73\n",
      "Epoch 6, Average Loss 0.5523857446122997227888618 , Mae 0.5884772539138794\n",
      "Current Epoch 7\n",
      "After batch 0, Loss is    0.61\n",
      "After batch 2, Loss is    0.59\n",
      "After batch 4, Loss is    0.63\n",
      "After batch 6, Loss is    0.84\n",
      "After batch 8, Loss is    0.36\n",
      "After batch 0, Test Loss is    0.37\n",
      "After batch 1, Test Loss is    0.54\n",
      "After batch 2, Test Loss is    0.56\n",
      "Epoch 7, Average Loss 0.5831768552211556988496 , Mae 0.6061851382255554\n",
      "Current Epoch 8\n",
      "After batch 0, Loss is    0.40\n",
      "After batch 2, Loss is    0.53\n",
      "After batch 4, Loss is    0.45\n",
      "After batch 6, Loss is    0.57\n",
      "After batch 8, Loss is    0.75\n",
      "After batch 0, Test Loss is    0.43\n",
      "After batch 1, Test Loss is    0.62\n",
      "After batch 2, Test Loss is    0.71\n",
      "Epoch 8, Average Loss 0.5452406901854446319433123 , Mae 0.5884350538253784\n",
      "Current Epoch 9\n",
      "After batch 0, Loss is    0.53\n",
      "After batch 2, Loss is    0.38\n",
      "After batch 4, Loss is    0.54\n",
      "After batch 6, Loss is    0.39\n",
      "After batch 8, Loss is    0.45\n",
      "After batch 0, Test Loss is    0.37\n",
      "After batch 1, Test Loss is    0.56\n",
      "After batch 2, Test Loss is    0.53\n",
      "Epoch 9, Average Loss 0.493037472387969688547571 , Mae 0.5495457053184509\n"
     ]
    }
   ],
   "source": [
    "# Train the model, with some of the data reserved for validation\n",
    "\n",
    "history = model.fit(x_train, y_train,validation_split = 0.2, callbacks = [CustomizedCallbacks()],\n",
    "         verbose =False,epochs = 10)"
   ]
  },
  {
   "cell_type": "code",
   "execution_count": 65,
   "metadata": {},
   "outputs": [
    {
     "name": "stdout",
     "output_type": "stream",
     "text": [
      "45/1 - 0s - loss: 0.5534 - MAE: 0.5669\n"
     ]
    },
    {
     "data": {
      "text/plain": [
       "[0.5751359555456373, 0.5668544]"
      ]
     },
     "execution_count": 65,
     "metadata": {},
     "output_type": "execute_result"
    }
   ],
   "source": [
    "# Evaluate the model\n",
    "\n",
    "model.evaluate(x_val,y_val,verbose = 2)"
   ]
  },
  {
   "cell_type": "code",
   "execution_count": 66,
   "metadata": {},
   "outputs": [
    {
     "data": {
      "text/plain": [
       "array([[ 1.4588577 ],\n",
       "       [ 1.3175135 ],\n",
       "       [-0.00587279],\n",
       "       [-0.51276225],\n",
       "       [ 0.00739645],\n",
       "       [ 1.4029833 ],\n",
       "       [-0.60981315],\n",
       "       [ 0.912666  ],\n",
       "       [-0.3547034 ],\n",
       "       [ 0.8323051 ],\n",
       "       [-0.18686754],\n",
       "       [ 0.30204502],\n",
       "       [-0.64635444],\n",
       "       [-0.748228  ],\n",
       "       [ 1.6977981 ],\n",
       "       [-0.8245491 ],\n",
       "       [-0.34534466],\n",
       "       [-0.94440985],\n",
       "       [-0.688119  ],\n",
       "       [ 1.313155  ],\n",
       "       [-0.18532057],\n",
       "       [-0.3314199 ],\n",
       "       [ 0.07244335],\n",
       "       [-0.49825048],\n",
       "       [ 0.32198298],\n",
       "       [ 0.01046329],\n",
       "       [-0.4371292 ],\n",
       "       [-0.8273416 ],\n",
       "       [ 0.2243945 ],\n",
       "       [-0.09080146],\n",
       "       [ 0.81652606],\n",
       "       [-0.81158435],\n",
       "       [-0.39313838],\n",
       "       [-0.08901046],\n",
       "       [-0.23521586],\n",
       "       [ 0.54729795],\n",
       "       [ 0.00840232],\n",
       "       [ 0.3386389 ],\n",
       "       [-0.4616117 ],\n",
       "       [ 0.9185507 ],\n",
       "       [-0.72890157],\n",
       "       [ 0.03343363],\n",
       "       [-0.25325665],\n",
       "       [ 0.10388914],\n",
       "       [ 0.4272096 ]], dtype=float32)"
      ]
     },
     "execution_count": 66,
     "metadata": {},
     "output_type": "execute_result"
    }
   ],
   "source": [
    "# Make predictions with the model\n",
    "model.predict(x_val)\n"
   ]
  },
  {
   "cell_type": "markdown",
   "metadata": {},
   "source": [
    "***\n",
    "<a id=\"coding_tutorial_4\"></a>\n",
    "## Early stopping / patience"
   ]
  },
  {
   "cell_type": "markdown",
   "metadata": {},
   "source": [
    "#### Re-train the models with early stopping"
   ]
  },
  {
   "cell_type": "code",
   "execution_count": 91,
   "metadata": {},
   "outputs": [
    {
     "name": "stdout",
     "output_type": "stream",
     "text": [
      "Current Epoch 0\n",
      "After batch 0, Loss is    0.66\n",
      "After batch 2, Loss is    1.12\n",
      "After batch 4, Loss is    0.92\n",
      "After batch 6, Loss is    1.13\n",
      "After batch 8, Loss is    0.63\n",
      "After batch 0, Test Loss is    0.59\n",
      "After batch 1, Test Loss is    0.72\n",
      "After batch 2, Test Loss is    1.09\n",
      "Epoch 0, Average Loss 0.7882472773079616246150181 , Mae 0.7265880703926086\n",
      "Current Epoch 1\n",
      "After batch 0, Loss is    0.97\n",
      "After batch 2, Loss is    0.66\n",
      "After batch 4, Loss is    0.59\n",
      "After batch 6, Loss is    0.51\n",
      "After batch 8, Loss is    0.47\n",
      "After batch 0, Test Loss is    0.81\n",
      "After batch 1, Test Loss is    0.94\n",
      "After batch 2, Test Loss is    0.98\n",
      "Epoch 1, Average Loss 0.620029539715980515524052 , Mae 0.6534687876701355\n",
      "Current Epoch 2\n",
      "After batch 0, Loss is    1.16\n",
      "After batch 2, Loss is    0.39\n",
      "After batch 4, Loss is    0.53\n",
      "After batch 6, Loss is    0.97\n",
      "After batch 8, Loss is    0.69\n",
      "After batch 0, Test Loss is    0.43\n",
      "After batch 1, Test Loss is    0.59\n",
      "After batch 2, Test Loss is    0.75\n",
      "Epoch 2, Average Loss 0.7358482837300946988179362 , Mae 0.7034832835197449\n",
      "Current Epoch 3\n",
      "After batch 0, Loss is    0.55\n",
      "After batch 2, Loss is    0.49\n",
      "After batch 4, Loss is    0.68\n",
      "After batch 6, Loss is    0.60\n",
      "After batch 8, Loss is    0.55\n",
      "After batch 0, Test Loss is    0.42\n",
      "After batch 1, Test Loss is    0.54\n",
      "After batch 2, Test Loss is    0.70\n",
      "Epoch 3, Average Loss 0.5242469716899402776277839 , Mae 0.5955593585968018\n",
      "Current Epoch 4\n",
      "After batch 0, Loss is    0.66\n",
      "After batch 2, Loss is    0.55\n",
      "After batch 4, Loss is    0.36\n",
      "After batch 6, Loss is    0.76\n",
      "After batch 8, Loss is    0.44\n",
      "After batch 0, Test Loss is    0.50\n",
      "After batch 1, Test Loss is    0.56\n",
      "After batch 2, Test Loss is    0.72\n",
      "Epoch 4, Average Loss 0.5274331467196768929994732 , Mae 0.598391592502594\n",
      "Current Epoch 5\n",
      "After batch 0, Loss is    0.60\n",
      "After batch 2, Loss is    0.41\n",
      "After batch 4, Loss is    0.66\n",
      "After batch 6, Loss is    0.47\n",
      "After batch 8, Loss is    0.41\n",
      "After batch 0, Test Loss is    0.37\n",
      "After batch 1, Test Loss is    0.48\n",
      "After batch 2, Test Loss is    0.51\n",
      "Epoch 5, Average Loss 0.5545130054281337539379138 , Mae 0.6251305341720581\n",
      "Current Epoch 6\n",
      "After batch 0, Loss is    0.38\n",
      "After batch 2, Loss is    0.47\n",
      "After batch 4, Loss is    0.57\n",
      "After batch 6, Loss is    0.50\n",
      "After batch 8, Loss is    0.44\n",
      "After batch 0, Test Loss is    0.40\n",
      "After batch 1, Test Loss is    0.50\n",
      "After batch 2, Test Loss is    0.71\n",
      "Epoch 6, Average Loss 0.4968906938089557301374555 , Mae 0.5803093910217285\n",
      "Current Epoch 7\n",
      "After batch 0, Loss is    0.49\n",
      "After batch 2, Loss is    0.60\n",
      "After batch 4, Loss is    0.37\n",
      "After batch 6, Loss is    0.31\n",
      "After batch 8, Loss is    0.55\n",
      "After batch 0, Test Loss is    0.36\n",
      "After batch 1, Test Loss is    0.43\n",
      "After batch 2, Test Loss is    0.56\n",
      "Epoch 7, Average Loss 0.478176667863262183644224 , Mae 0.5519368648529053\n",
      "Current Epoch 8\n",
      "After batch 0, Loss is    0.37\n",
      "After batch 2, Loss is    0.37\n",
      "After batch 4, Loss is    0.56\n",
      "After batch 6, Loss is    0.28\n",
      "After batch 8, Loss is    0.45\n",
      "After batch 0, Test Loss is    0.34\n",
      "After batch 1, Test Loss is    0.46\n",
      "After batch 2, Test Loss is    0.51\n",
      "Epoch 8, Average Loss 0.4801488853403446666057164 , Mae 0.5679472088813782\n",
      "Current Epoch 9\n",
      "After batch 0, Loss is    0.64\n",
      "After batch 2, Loss is    0.51\n",
      "After batch 4, Loss is    0.42\n",
      "After batch 6, Loss is    0.26\n",
      "After batch 8, Loss is    0.40\n",
      "After batch 0, Test Loss is    0.46\n",
      "After batch 1, Test Loss is    0.55\n",
      "After batch 2, Test Loss is    0.68\n",
      "Epoch 9, Average Loss 0.4919110686997134052056424 , Mae 0.569267749786377\n",
      "Current Epoch 10\n",
      "After batch 0, Loss is    0.52\n",
      "After batch 2, Loss is    0.59\n",
      "After batch 4, Loss is    0.47\n",
      "After batch 6, Loss is    0.65\n",
      "After batch 8, Loss is    0.48\n",
      "After batch 0, Test Loss is    0.41\n",
      "After batch 1, Test Loss is    0.50\n",
      "After batch 2, Test Loss is    0.55\n",
      "Epoch 10, Average Loss 0.5046559306161261249101813 , Mae 0.5722532272338867\n",
      "Current Epoch 11\n",
      "After batch 0, Loss is    0.64\n",
      "After batch 2, Loss is    0.36\n",
      "After batch 4, Loss is    0.61\n",
      "After batch 6, Loss is    0.49\n",
      "After batch 8, Loss is    0.31\n",
      "After batch 0, Test Loss is    0.37\n",
      "After batch 1, Test Loss is    0.46\n",
      "After batch 2, Test Loss is    0.59\n",
      "Epoch 11, Average Loss 0.4726460856218067108081016 , Mae 0.5515365600585938\n",
      "Current Epoch 12\n",
      "After batch 0, Loss is    0.50\n",
      "After batch 2, Loss is    0.48\n",
      "After batch 4, Loss is    0.33\n",
      "After batch 6, Loss is    0.45\n",
      "After batch 8, Loss is    0.54\n",
      "After batch 0, Test Loss is    0.39\n",
      "After batch 1, Test Loss is    0.49\n",
      "After batch 2, Test Loss is    0.64\n",
      "Epoch 12, Average Loss 0.4190805116286412945747486 , Mae 0.5227527618408203\n"
     ]
    }
   ],
   "source": [
    "# Re-train the unregularised model\n",
    "from tensorflow.keras.callbacks import EarlyStopping\n",
    "modelUnregul = getmodel(x_train)\n",
    "optimizer = tf.keras.optimizers.Adam(0.005)\n",
    "loss = tf.keras.losses.MeanSquaredError()\n",
    "metrics =[tf.keras.metrics.MeanAbsoluteError(name = \"MAE\"),\n",
    "         tf.keras.metrics.RootMeanSquaredError(name = \"RMSE\")]\n",
    "early_stopping = EarlyStopping(monitor = \"val_RMSE\",patience = 5,\n",
    "                               min_delta= 0.01\n",
    "                          )\n",
    "modelUnregul.compile(optimizer=optimizer,loss=loss,metrics=metrics,\n",
    "                    )\n",
    "unreg_history = modelUnregul.fit(x_train,y_train,validation_split = 0.2,verbose = False,\n",
    "                          callbacks=[CustomizedCallbacks(),early_stopping],epochs = 100)"
   ]
  },
  {
   "cell_type": "code",
   "execution_count": 84,
   "metadata": {},
   "outputs": [
    {
     "name": "stdout",
     "output_type": "stream",
     "text": [
      "45/1 - 0s - loss: 0.4450 - MAE: 0.5497 - RMSE: 0.6994\n"
     ]
    },
    {
     "data": {
      "text/plain": [
       "[0.48909160627259146, 0.5497358, 0.69935083]"
      ]
     },
     "execution_count": 84,
     "metadata": {},
     "output_type": "execute_result"
    }
   ],
   "source": [
    "# Evaluate the model on the test set\n",
    "modelUnregul.evaluate(x_val,y_val,verbose = 2)\n"
   ]
  },
  {
   "cell_type": "code",
   "execution_count": 94,
   "metadata": {},
   "outputs": [
    {
     "name": "stdout",
     "output_type": "stream",
     "text": [
      "Current Epoch 0\n",
      "After batch 0, Loss is    0.90\n",
      "After batch 2, Loss is    1.10\n",
      "After batch 4, Loss is    1.00\n",
      "After batch 6, Loss is    0.74\n",
      "After batch 8, Loss is    1.15\n",
      "After batch 0, Test Loss is    0.78\n",
      "After batch 1, Test Loss is    0.91\n",
      "After batch 2, Test Loss is    1.30\n",
      "Epoch 0, Average Loss 1.034920116328290617957464 , Mae 0.8363261222839355\n",
      "Current Epoch 1\n",
      "After batch 0, Loss is    1.09\n",
      "After batch 2, Loss is    0.98\n",
      "After batch 4, Loss is    0.61\n",
      "After batch 6, Loss is    0.57\n",
      "After batch 8, Loss is    0.58\n",
      "After batch 0, Test Loss is    0.55\n",
      "After batch 1, Test Loss is    0.70\n",
      "After batch 2, Test Loss is    0.87\n",
      "Epoch 1, Average Loss 0.7648591824134441941041018 , Mae 0.7147066593170166\n",
      "Current Epoch 2\n",
      "After batch 0, Loss is    0.83\n",
      "After batch 2, Loss is    0.67\n",
      "After batch 4, Loss is    0.54\n",
      "After batch 6, Loss is    0.71\n",
      "After batch 8, Loss is    0.56\n",
      "After batch 0, Test Loss is    0.55\n",
      "After batch 1, Test Loss is    0.61\n",
      "After batch 2, Test Loss is    0.77\n",
      "Epoch 2, Average Loss 0.6306610011527966630495712 , Mae 0.6346209049224854\n",
      "Current Epoch 3\n",
      "After batch 0, Loss is    0.61\n",
      "After batch 2, Loss is    0.97\n",
      "After batch 4, Loss is    0.74\n",
      "After batch 6, Loss is    0.64\n",
      "After batch 8, Loss is    0.67\n",
      "After batch 0, Test Loss is    0.44\n",
      "After batch 1, Test Loss is    0.57\n",
      "After batch 2, Test Loss is    0.78\n",
      "Epoch 3, Average Loss 0.6532531433301017598225258 , Mae 0.6464354991912842\n",
      "Current Epoch 4\n",
      "After batch 0, Loss is    0.65\n",
      "After batch 2, Loss is    0.60\n",
      "After batch 4, Loss is    1.13\n",
      "After batch 6, Loss is    0.89\n",
      "After batch 8, Loss is    0.62\n",
      "After batch 0, Test Loss is    0.59\n",
      "After batch 1, Test Loss is    0.69\n",
      "After batch 2, Test Loss is    0.97\n",
      "Epoch 4, Average Loss 0.6799241105088675851675362 , Mae 0.6561463475227356\n",
      "Current Epoch 5\n",
      "After batch 0, Loss is    0.69\n",
      "After batch 2, Loss is    0.53\n",
      "After batch 4, Loss is    0.71\n",
      "After batch 6, Loss is    0.67\n",
      "After batch 8, Loss is    0.61\n",
      "After batch 0, Test Loss is    0.39\n",
      "After batch 1, Test Loss is    0.52\n",
      "After batch 2, Test Loss is    0.55\n",
      "Epoch 5, Average Loss 0.6487390053009008950013481 , Mae 0.6577779054641724\n",
      "Current Epoch 6\n",
      "After batch 0, Loss is    0.55\n",
      "After batch 2, Loss is    0.41\n",
      "After batch 4, Loss is    0.36\n",
      "After batch 6, Loss is    0.75\n",
      "After batch 8, Loss is    0.58\n",
      "After batch 0, Test Loss is    0.51\n",
      "After batch 1, Test Loss is    0.64\n",
      "After batch 2, Test Loss is    0.75\n",
      "Epoch 6, Average Loss 0.6062076437736535483580269 , Mae 0.6229154467582703\n",
      "Current Epoch 7\n",
      "After batch 0, Loss is    0.67\n",
      "After batch 2, Loss is    0.65\n",
      "After batch 4, Loss is    0.78\n",
      "After batch 6, Loss is    0.81\n",
      "After batch 8, Loss is    0.64\n",
      "After batch 0, Test Loss is    0.40\n",
      "After batch 1, Test Loss is    0.53\n",
      "After batch 2, Test Loss is    0.62\n",
      "Epoch 7, Average Loss 0.624030801776079724341173 , Mae 0.6232786178588867\n",
      "Current Epoch 8\n",
      "After batch 0, Loss is    0.55\n",
      "After batch 2, Loss is    0.83\n",
      "After batch 4, Loss is    0.72\n",
      "After batch 6, Loss is    0.57\n",
      "After batch 8, Loss is    0.53\n",
      "After batch 0, Test Loss is    0.43\n",
      "After batch 1, Test Loss is    0.57\n",
      "After batch 2, Test Loss is    0.77\n",
      "Epoch 8, Average Loss 0.5616496436603437558687801 , Mae 0.5966064929962158\n",
      "Current Epoch 9\n",
      "After batch 0, Loss is    0.43\n",
      "After batch 2, Loss is    0.53\n",
      "After batch 4, Loss is    0.90\n",
      "After batch 6, Loss is    0.42\n",
      "After batch 8, Loss is    0.49\n",
      "After batch 0, Test Loss is    0.37\n",
      "After batch 1, Test Loss is    0.51\n",
      "After batch 2, Test Loss is    0.58\n",
      "Epoch 9, Average Loss 0.5649118092533917945274879 , Mae 0.593865156173706\n",
      "Current Epoch 10\n",
      "After batch 0, Loss is    0.48\n",
      "After batch 2, Loss is    0.69\n",
      "After batch 4, Loss is    0.55\n",
      "After batch 6, Loss is    0.72\n",
      "After batch 8, Loss is    0.55\n",
      "After batch 0, Test Loss is    0.50\n",
      "After batch 1, Test Loss is    0.63\n",
      "After batch 2, Test Loss is    0.85\n",
      "Epoch 10, Average Loss 0.6129956700448357942434541 , Mae 0.6153854131698608\n"
     ]
    }
   ],
   "source": [
    "# Re-train the regularised model\n",
    "modelRegulizer = get_regularised_model(1e-5,0.4)\n",
    "optimizer = tf.keras.optimizers.Adam(0.005)\n",
    "loss = tf.keras.losses.MeanSquaredError()\n",
    "\n",
    "metrics = [tf.keras.metrics.MeanAbsoluteError(name = \"MAE\"),\n",
    "          tf.keras.metrics.RootMeanSquaredError(name = \"RMSE\")]\n",
    "modelRegulizer.compile(optimizer = optimizer,loss = loss, metrics= metrics,\n",
    "                      )\n",
    "\n",
    "reg_history = modelRegulizer.fit(x_train,y_train,validation_split = 0.2,\n",
    "                  callbacks=[CustomizedCallbacks(),early_stopping],\n",
    "                  epochs = 100,verbose = False)"
   ]
  },
  {
   "cell_type": "code",
   "execution_count": 93,
   "metadata": {},
   "outputs": [
    {
     "name": "stdout",
     "output_type": "stream",
     "text": [
      "45/1 - 0s - loss: 0.6360 - MAE: 0.6148 - RMSE: 0.7602\n"
     ]
    },
    {
     "data": {
      "text/plain": [
       "[0.6183866646554735, 0.6148007, 0.76024354]"
      ]
     },
     "execution_count": 93,
     "metadata": {},
     "output_type": "execute_result"
    }
   ],
   "source": [
    "# Evaluate the model on the test set\n",
    "modelRegulizer.evaluate(x_val,y_val,verbose =2)\n"
   ]
  },
  {
   "cell_type": "markdown",
   "metadata": {},
   "source": [
    "#### Plot the learning curves"
   ]
  },
  {
   "cell_type": "code",
   "execution_count": 95,
   "metadata": {},
   "outputs": [
    {
     "data": {
      "image/png": "[encoded data removed]",
      "text/plain": [
       "<Figure size 864x360 with 2 Axes>"
      ]
     },
     "metadata": {
      "needs_background": "light"
     },
     "output_type": "display_data"
    }
   ],
   "source": [
    "# Plot the training and validation loss\n",
    "\n",
    "import matplotlib.pyplot as plt\n",
    "\n",
    "fig = plt.figure(figsize=(12, 5))\n",
    "\n",
    "fig.add_subplot(121)\n",
    "\n",
    "plt.plot(unreg_history.history['loss'])\n",
    "plt.plot(unreg_history.history['val_loss'])\n",
    "plt.title('Unregularised model: loss vs. epochs')\n",
    "plt.ylabel('Loss')\n",
    "plt.xlabel('Epoch')\n",
    "plt.legend(['Training', 'Validation'], loc='upper right')\n",
    "\n",
    "fig.add_subplot(122)\n",
    "\n",
    "plt.plot(reg_history.history['loss'])\n",
    "plt.plot(reg_history.history['val_loss'])\n",
    "plt.title('Regularised model: loss vs. epochs')\n",
    "plt.ylabel('Loss')\n",
    "plt.xlabel('Epoch')\n",
    "plt.legend(['Training', 'Validation'], loc='upper right')\n",
    "\n",
    "plt.show()"
   ]
  }
 ],
 "metadata": {
  "kernelspec": {
   "display_name": "Python 3",
   "language": "python",
   "name": "python3"
  },
  "language_info": {
   "codemirror_mode": {
    "name": "ipython",
    "version": 3
   },
   "file_extension": ".py",
   "mimetype": "text/x-python",
   "name": "python",
   "nbconvert_exporter": "python",
   "pygments_lexer": "ipython3",
   "version": "3.7.1"
  }
 },
 "nbformat": 4,
 "nbformat_minor": 2
}
