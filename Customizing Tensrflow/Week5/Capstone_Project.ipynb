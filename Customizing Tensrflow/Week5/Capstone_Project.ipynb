{
  "nbformat": 4,
  "nbformat_minor": 0,
  "metadata": {
    "kernelspec": {
      "name": "python3",
      "display_name": "Python 3"
    },
    "colab": {
      "name": "Capstone Project.ipynb",
      "provenance": [],
      "collapsed_sections": []
    },
    "accelerator": "GPU"
  },
  "cells": [
    {
      "cell_type": "markdown",
      "metadata": {
        "id": "vsX0L1sG1iZj"
      },
      "source": [
        "# Capstone Project\n",
        "## Neural translation model\n",
        "### Instructions\n",
        "\n",
        "In this notebook, you will create a neural network that translates from English to German. You will use concepts from throughout this course, including building more flexible model architectures, freezing layers, data processing pipeline and sequence modelling.\n",
        "\n",
        "This project is peer-assessed. Within this notebook you will find instructions in each section for how to complete the project. Pay close attention to the instructions as the peer review will be carried out according to a grading rubric that checks key parts of the project instructions. Feel free to add extra cells into the notebook as required.\n",
        "\n",
        "### How to submit\n",
        "\n",
        "When you have completed the Capstone project notebook, you will submit a pdf of the notebook for peer review. First ensure that the notebook has been fully executed from beginning to end, and all of the cell outputs are visible. This is important, as the grading rubric depends on the reviewer being able to view the outputs of your notebook. Save the notebook as a pdf (you could download the notebook with File -> Download .ipynb, open the notebook locally, and then File -> Download as -> PDF via LaTeX), and then submit this pdf for review.\n",
        "\n",
        "### Let's get started!\n",
        "\n",
        "We'll start by running some imports, and loading the dataset. For this project you are free to make further imports throughout the notebook as you wish. "
      ]
    },
    {
      "cell_type": "code",
      "metadata": {
        "id": "2VyTvxPN1iZn"
      },
      "source": [
        "import tensorflow as tf\n",
        "import tensorflow_hub as hub\n",
        "import unicodedata\n",
        "import re\n",
        "import matplotlib.pyplot as plt\n",
        "from sklearn.model_selection import train_test_split\n",
        "import numpy as np\n",
        "\n",
        "from IPython.display import Image"
      ],
      "execution_count": 1,
      "outputs": []
    },
    {
      "cell_type": "markdown",
      "metadata": {
        "id": "wuIi4lAR1iZt"
      },
      "source": [
        "For the capstone project, you will use a language dataset from http://www.manythings.org/anki/ to build a neural translation model. This dataset consists of over 200,000 pairs of sentences in English and German. In order to make the training quicker, we will restrict to our dataset to 20,000 pairs. Feel free to change this if you wish - the size of the dataset used is not part of the grading rubric.\n",
        "\n",
        "Your goal is to develop a neural translation model from English to German, making use of a pre-trained English word embedding module."
      ]
    },
    {
      "cell_type": "markdown",
      "metadata": {
        "id": "pi9Dq6vv3FVO"
      },
      "source": [
        "#### Import the data\n",
        "\n",
        "The dataset is available for download as a zip file at the following link:\n",
        "\n",
        "https://drive.google.com/open?id=1KczOciG7sYY7SB9UlBeRP1T9659b121Q\n",
        "\n",
        "You should store the unzipped folder in Drive for use in this Colab notebook."
      ]
    },
    {
      "cell_type": "code",
      "metadata": {
        "id": "Nw99tEEQ3bKL",
        "outputId": "0b22998a-00d2-41a4-b756-d37a894faf48",
        "colab": {
          "base_uri": "https://localhost:8080/",
          "height": 36
        }
      },
      "source": [
        "# Run this cell to connect to your Drive folder\n",
        "\n",
        "from google.colab import drive\n",
        "drive.mount('/content/drive')"
      ],
      "execution_count": 3,
      "outputs": [
        {
          "output_type": "stream",
          "text": [
            "Mounted at /content/drive\n"
          ],
          "name": "stdout"
        }
      ]
    },
    {
      "cell_type": "code",
      "metadata": {
        "id": "o8PetPpw1iZu"
      },
      "source": [
        "# Run this cell to load the dataset\n",
        "\n",
        "NUM_EXAMPLES = 20000\n",
        "data_examples = []\n",
        "with open('/content/drive/My Drive/deu.txt', 'r', encoding='utf8') as f:\n",
        "    for line in f.readlines():\n",
        "        if len(data_examples) < NUM_EXAMPLES:\n",
        "            data_examples.append(line)\n",
        "        else:\n",
        "            break"
      ],
      "execution_count": 4,
      "outputs": []
    },
    {
      "cell_type": "code",
      "metadata": {
        "id": "JumLjJ631iZy"
      },
      "source": [
        "# These functions preprocess English and German sentences\n",
        "\n",
        "def unicode_to_ascii(s):\n",
        "    return ''.join(c for c in unicodedata.normalize('NFD', s) if unicodedata.category(c) != 'Mn')\n",
        "\n",
        "def preprocess_sentence(sentence):\n",
        "    sentence = sentence.lower().strip()\n",
        "    sentence = re.sub(r\"ü\", 'ue', sentence)\n",
        "    sentence = re.sub(r\"ä\", 'ae', sentence)\n",
        "    sentence = re.sub(r\"ö\", 'oe', sentence)\n",
        "    sentence = re.sub(r'ß', 'ss', sentence)\n",
        "    \n",
        "    sentence = unicode_to_ascii(sentence)\n",
        "    sentence = re.sub(r\"([?.!,])\", r\" \\1 \", sentence)\n",
        "    sentence = re.sub(r\"[^a-z?.!,']+\", \" \", sentence)\n",
        "    sentence = re.sub(r'[\" \"]+', \" \", sentence)\n",
        "    \n",
        "    return sentence.strip()"
      ],
      "execution_count": 6,
      "outputs": []
    },
    {
      "cell_type": "markdown",
      "metadata": {
        "id": "XFJap-TW1iZ2"
      },
      "source": [
        "#### The custom translation model\n",
        "The following is a schematic of the custom translation model architecture you will develop in this project."
      ]
    },
    {
      "cell_type": "code",
      "metadata": {
        "id": "gBF1K2JN4RFJ",
        "outputId": "e3dfdc33-a86c-487e-f447-2720b220f89e",
        "colab": {
          "base_uri": "https://localhost:8080/",
          "height": 648
        }
      },
      "source": [
        "# Run this cell to download and view a schematic diagram for the neural translation model\n",
        "\n",
        "!wget -q -O neural_translation_model.png --no-check-certificate \"https://docs.google.com/uc?export=download&id=1XsS1VlXoaEo-RbYNilJ9jcscNZvsSPmd\"\n",
        "Image(\"neural_translation_model.png\")"
      ],
      "execution_count": 7,
      "outputs": [
        {
          "output_type": "execute_result",
          "data": {
            "image/png": "[encoded data removed]",
            "text/plain": [
              "<IPython.core.display.Image object>"
            ]
          },
          "metadata": {
            "tags": []
          },
          "execution_count": 7
        }
      ]
    },
    {
      "cell_type": "markdown",
      "metadata": {
        "id": "0fP7P-yK4RS7"
      },
      "source": [
        "The custom model consists of an encoder RNN and a decoder RNN. The encoder takes words of an English sentence as input, and uses a pre-trained word embedding to embed the words into a 128-dimensional space. To indicate the end of the input sentence, a special end token (in the same 128-dimensional space) is passed in as an input. This token is a TensorFlow Variable that is learned in the training phase (unlike the pre-trained word embedding, which is frozen).\n",
        "\n",
        "The decoder RNN takes the internal state of the encoder network as its initial state. A start token is passed in as the first input, which is embedded using a learned German word embedding. The decoder RNN then makes a prediction for the next German word, which during inference is then passed in as the following input, and this process is repeated until the special `<end>` token is emitted from the decoder."
      ]
    },
    {
      "cell_type": "markdown",
      "metadata": {
        "id": "z70nu6_01iZ3"
      },
      "source": [
        "## 1. Text preprocessing\n",
        "* Create separate lists of English and German sentences, and preprocess them using the `preprocess_sentence` function provided for you above.\n",
        "* Add a special `\"<start>\"` and `\"<end>\"` token to the beginning and end of every German sentence.\n",
        "* Use the Tokenizer class from the `tf.keras.preprocessing.text` module to tokenize the German sentences, ensuring that no character filters are applied. _Hint: use the Tokenizer's \"filter\" keyword argument._\n",
        "* Print out at least 5 randomly chosen examples of (preprocessed) English and German sentence pairs. For the German sentence, print out the text (with start and end tokens) as well as the tokenized sequence.\n",
        "* Pad the end of the tokenized German sequences with zeros, and batch the complete set of sequences into one numpy array."
      ]
    },
    {
      "cell_type": "code",
      "metadata": {
        "id": "S_rdvBx9ZhU7",
        "outputId": "6962e5b2-fb1b-44fc-d0f0-84c57b158d5a",
        "colab": {
          "base_uri": "https://localhost:8080/",
          "height": 110
        }
      },
      "source": [
        "data_examples[:5]"
      ],
      "execution_count": 8,
      "outputs": [
        {
          "output_type": "execute_result",
          "data": {
            "text/plain": [
              "['Hi.\\tHallo!\\tCC-BY 2.0 (France) Attribution: tatoeba.org #538123 (CM) & #380701 (cburgmer)\\n',\n",
              " 'Hi.\\tGrüß Gott!\\tCC-BY 2.0 (France) Attribution: tatoeba.org #538123 (CM) & #659813 (Esperantostern)\\n',\n",
              " 'Run!\\tLauf!\\tCC-BY 2.0 (France) Attribution: tatoeba.org #906328 (papabear) & #941078 (Fingerhut)\\n',\n",
              " 'Wow!\\tPotzdonner!\\tCC-BY 2.0 (France) Attribution: tatoeba.org #52027 (Zifre) & #2122382 (Pfirsichbaeumchen)\\n',\n",
              " 'Wow!\\tDonnerwetter!\\tCC-BY 2.0 (France) Attribution: tatoeba.org #52027 (Zifre) & #2122391 (Pfirsichbaeumchen)\\n']"
            ]
          },
          "metadata": {
            "tags": []
          },
          "execution_count": 8
        }
      ]
    },
    {
      "cell_type": "code",
      "metadata": {
        "id": "q6EBfum1XtTU",
        "outputId": "8f1a1c65-3b2b-4ad3-8f6f-e72b75d9cd2b",
        "colab": {
          "base_uri": "https://localhost:8080/",
          "height": 203
        }
      },
      "source": [
        "for i in range(10):\n",
        "  print(data_examples[i].split(\"\\t\")[0] , data_examples[i].split(\"\\t\")[1])"
      ],
      "execution_count": 9,
      "outputs": [
        {
          "output_type": "stream",
          "text": [
            "Hi. Hallo!\n",
            "Hi. Grüß Gott!\n",
            "Run! Lauf!\n",
            "Wow! Potzdonner!\n",
            "Wow! Donnerwetter!\n",
            "Fire! Feuer!\n",
            "Help! Hilfe!\n",
            "Help! Zu Hülf!\n",
            "Stop! Stopp!\n",
            "Wait! Warte!\n"
          ],
          "name": "stdout"
        }
      ]
    },
    {
      "cell_type": "code",
      "metadata": {
        "scrolled": true,
        "id": "9G20C4bk1iZ4",
        "outputId": "702ce4f9-0453-4fb9-82d7-cacc47047e5f",
        "colab": {
          "base_uri": "https://localhost:8080/",
          "height": 36
        }
      },
      "source": [
        "type(data_examples), len(data_examples)"
      ],
      "execution_count": 10,
      "outputs": [
        {
          "output_type": "execute_result",
          "data": {
            "text/plain": [
              "(list, 20000)"
            ]
          },
          "metadata": {
            "tags": []
          },
          "execution_count": 10
        }
      ]
    },
    {
      "cell_type": "code",
      "metadata": {
        "id": "Sxwl-1rB1iZ8",
        "outputId": "e0f8bf8c-71b2-4d48-f899-9fef8c310494",
        "colab": {
          "base_uri": "https://localhost:8080/",
          "height": 73
        }
      },
      "source": [
        "# Split En And de\n",
        "en_sentences = [preprocess_sentence(sentence.split(\"\\t\")[0]) for sentence in data_examples ]\n",
        "de_sentences = [preprocess_sentence(sentence.split(\"\\t\")[1]) for sentence in data_examples ]\n",
        "\n",
        "print(len(en_sentences),len(de_sentences))\n",
        "print(en_sentences[:5] ,\"\\n\", \\\n",
        "      de_sentences[:5] )\n"
      ],
      "execution_count": 11,
      "outputs": [
        {
          "output_type": "stream",
          "text": [
            "20000 20000\n",
            "['hi .', 'hi .', 'run !', 'wow !', 'wow !'] \n",
            " ['hallo !', 'gruess gott !', 'lauf !', 'potzdonner !', 'donnerwetter !']\n"
          ],
          "name": "stdout"
        }
      ]
    },
    {
      "cell_type": "code",
      "metadata": {
        "id": "WnIdqZFk1iaA",
        "outputId": "656da80f-97e5-44b9-bc33-90de0c218619",
        "colab": {
          "base_uri": "https://localhost:8080/",
          "height": 56
        }
      },
      "source": [
        "# Add Special <Start> And <End> To de_sentences\n",
        "\n",
        "de_sentences = [\"<start> \" + sentence + \" <end>\" for sentence in de_sentences]\n",
        "\n",
        "print(de_sentences[-10:])\n",
        "\n"
      ],
      "execution_count": 12,
      "outputs": [
        {
          "output_type": "stream",
          "text": [
            "['<start> ich habe schon bezahlt . <end>', '<start> ich habe bereits bezahlt . <end>', '<start> ich bin vertrieben worden . <end>', '<start> ich bin hereingelegt worden . <end>', '<start> ich habe gearbeitet . <end>', '<start> ich war arbeiten . <end>', '<start> ich habe ein auto gekauft . <end>', '<start> ich bin fuer tom gekommen . <end>', '<start> ich habe nichts getan . <end>', '<start> ich habe genug gegessen . <end>']\n"
          ],
          "name": "stdout"
        }
      ]
    },
    {
      "cell_type": "code",
      "metadata": {
        "id": "5UlnBdIK1iaE",
        "outputId": "6218130c-4a65-4cb9-e353-af03e6de955e",
        "colab": {
          "base_uri": "https://localhost:8080/",
          "height": 203
        }
      },
      "source": [
        "# Tokenize Sentences\n",
        "tokenizer = tf.keras.preprocessing.text.Tokenizer(num_words = None,\n",
        "                                                  filters = \" \",\n",
        "                                                  lower = True)\n",
        "# Apply Tokenizer \n",
        "tokenizer.fit_on_texts(de_sentences)\n",
        "\n",
        "de_sentences_sequence = tokenizer.texts_to_sequences(de_sentences)\n",
        "\n",
        "de_sentences[:5] , de_sentences_sequence[:5]"
      ],
      "execution_count": 13,
      "outputs": [
        {
          "output_type": "execute_result",
          "data": {
            "text/plain": [
              "(['<start> hallo ! <end>',\n",
              "  '<start> gruess gott ! <end>',\n",
              "  '<start> lauf ! <end>',\n",
              "  '<start> potzdonner ! <end>',\n",
              "  '<start> donnerwetter ! <end>'],\n",
              " [[1, 405, 9, 2],\n",
              "  [1, 3155, 663, 9, 2],\n",
              "  [1, 975, 9, 2],\n",
              "  [1, 3156, 9, 2],\n",
              "  [1, 3157, 9, 2]])"
            ]
          },
          "metadata": {
            "tags": []
          },
          "execution_count": 13
        }
      ]
    },
    {
      "cell_type": "code",
      "metadata": {
        "id": "ZGTaqt1t1iaI",
        "outputId": "2aeb9e22-d31b-4368-9932-a452d83cef38",
        "colab": {
          "base_uri": "https://localhost:8080/",
          "height": 762
        }
      },
      "source": [
        "# Print Out Random Elements\n",
        "np.random.seed(5)\n",
        "RandomIndexNum = np.random.choice(len(en_sentences),size = 10, replace = False)\n",
        "\n",
        "for i in (RandomIndexNum):\n",
        "  print(f'English {en_sentences[i]}\\nGermany {de_sentences[i]}')\n",
        "  print(f\"Germany Sequence {de_sentences_sequence[i]}\\n\")"
      ],
      "execution_count": 14,
      "outputs": [
        {
          "output_type": "stream",
          "text": [
            "English i did it for him .\n",
            "Germany <start> ich tat es fuer ihn . <end>\n",
            "Germany Sequence [1, 4, 1111, 10, 77, 44, 3, 2]\n",
            "\n",
            "English may i go home ?\n",
            "Germany <start> darf ich nach hause gehen ? <end>\n",
            "Germany Sequence [1, 134, 4, 65, 75, 45, 7, 2]\n",
            "\n",
            "English tom is happy .\n",
            "Germany <start> tom ist beglueckt . <end>\n",
            "Germany Sequence [1, 5, 6, 3495, 3, 2]\n",
            "\n",
            "English go away .\n",
            "Germany <start> verkruemele dich ! <end>\n",
            "Germany Sequence [1, 1229, 28, 9, 2]\n",
            "\n",
            "English how do you plead ?\n",
            "Germany <start> wie plaedieren sie ? <end>\n",
            "Germany Sequence [1, 42, 4803, 8, 7, 2]\n",
            "\n",
            "English make your move .\n",
            "Germany <start> du bist dran . <end>\n",
            "Germany Sequence [1, 13, 32, 338, 3, 2]\n",
            "\n",
            "English i'm escaping .\n",
            "Germany <start> ich bin dabei zu entkommen . <end>\n",
            "Germany Sequence [1, 4, 15, 375, 20, 528, 3, 2]\n",
            "\n",
            "English it matters .\n",
            "Germany <start> das ist wichtig . <end>\n",
            "Germany Sequence [1, 11, 6, 816, 3, 2]\n",
            "\n",
            "English we'll survive .\n",
            "Germany <start> wir werden's ueberleben . <end>\n",
            "Germany Sequence [1, 17, 3742, 1184, 3, 2]\n",
            "\n",
            "English are you famous ?\n",
            "Germany <start> sind sie beruehmt ? <end>\n",
            "Germany Sequence [1, 23, 8, 688, 7, 2]\n",
            "\n"
          ],
          "name": "stdout"
        }
      ]
    },
    {
      "cell_type": "code",
      "metadata": {
        "id": "fqiO7HuQ1iaL",
        "outputId": "67253e75-ccc3-4568-b01b-1f1df6230d6e",
        "colab": {
          "base_uri": "https://localhost:8080/",
          "height": 129
        }
      },
      "source": [
        "# Padding \n",
        "de_sentences_sequence_Padded = tf.keras.preprocessing.sequence.pad_sequences(de_sentences_sequence,padding=\"post\")\n",
        "print(de_sentences_sequence_Padded[:5])\n",
        "de_sentences_sequence_Padded.shape"
      ],
      "execution_count": 33,
      "outputs": [
        {
          "output_type": "stream",
          "text": [
            "[[   1  405    9    2    0    0    0    0    0    0    0    0    0    0]\n",
            " [   1 3155  663    9    2    0    0    0    0    0    0    0    0    0]\n",
            " [   1  975    9    2    0    0    0    0    0    0    0    0    0    0]\n",
            " [   1 3156    9    2    0    0    0    0    0    0    0    0    0    0]\n",
            " [   1 3157    9    2    0    0    0    0    0    0    0    0    0    0]]\n"
          ],
          "name": "stdout"
        },
        {
          "output_type": "execute_result",
          "data": {
            "text/plain": [
              "(20000, 14)"
            ]
          },
          "metadata": {
            "tags": []
          },
          "execution_count": 33
        }
      ]
    },
    {
      "cell_type": "markdown",
      "metadata": {
        "id": "foL7Ihs21iaP"
      },
      "source": [
        "## 2. Prepare the data"
      ]
    },
    {
      "cell_type": "markdown",
      "metadata": {
        "id": "-9rCEE4z1iaQ"
      },
      "source": [
        "#### Load the embedding layer\n",
        "As part of the dataset preproceessing for this project, you will use a pre-trained English word embedding module from TensorFlow Hub. The URL for the module is https://tfhub.dev/google/tf2-preview/nnlm-en-dim128-with-normalization/1.\n",
        "\n",
        "This embedding takes a batch of text tokens in a 1-D tensor of strings as input. It then embeds the separate tokens into a 128-dimensional space. \n",
        "\n",
        "The code to load and test the embedding layer is provided for you below.\n",
        "\n",
        "**NB:** this model can also be used as a sentence embedding module. The module will process each token by removing punctuation and splitting on spaces. It then averages the word embeddings over a sentence to give a single embedding vector. However, we will use it only as a word embedding module, and will pass each word in the input sentence as a separate token."
      ]
    },
    {
      "cell_type": "code",
      "metadata": {
        "id": "ywZgobCh1iaR"
      },
      "source": [
        "# Load embedding module from Tensorflow Hub\n",
        "\n",
        "embedding_layer = hub.KerasLayer(\"https://tfhub.dev/google/tf2-preview/nnlm-en-dim128/1\", \n",
        "                                 output_shape=[128], input_shape=[], dtype=tf.string)"
      ],
      "execution_count": 16,
      "outputs": []
    },
    {
      "cell_type": "code",
      "metadata": {
        "id": "BSAzgWTofuYA",
        "outputId": "a7b49fc7-6dc8-4437-9150-283da453a8b8",
        "colab": {
          "base_uri": "https://localhost:8080/",
          "height": 129
        }
      },
      "source": [
        "embedding_layer.get_config()"
      ],
      "execution_count": 21,
      "outputs": [
        {
          "output_type": "execute_result",
          "data": {
            "text/plain": [
              "{'batch_input_shape': (None,),\n",
              " 'dtype': 'string',\n",
              " 'handle': 'https://tfhub.dev/google/tf2-preview/nnlm-en-dim128/1',\n",
              " 'name': 'keras_layer',\n",
              " 'output_shape': (128,),\n",
              " 'trainable': False}"
            ]
          },
          "metadata": {
            "tags": []
          },
          "execution_count": 21
        }
      ]
    },
    {
      "cell_type": "code",
      "metadata": {
        "id": "TiY8QEDp1iaV",
        "outputId": "9b95a50c-4da2-4dd5-8142-1b66022053b0",
        "colab": {
          "base_uri": "https://localhost:8080/",
          "height": 1000
        }
      },
      "source": [
        "# Test the layer\n",
        "\n",
        "liatduluBOS = embedding_layer(tf.constant([\"these\", \"aren't\", \"the\", \"droids\", \"you're\", \"looking\", \"for\"]))\n",
        "for i in liatduluBOS:\n",
        "  print(i)"
      ],
      "execution_count": 41,
      "outputs": [
        {
          "output_type": "stream",
          "text": [
            "tf.Tensor(\n",
            "[ 0.15317006 -0.06145132  0.07350554  0.2055267  -0.03041644  0.05464856\n",
            " -0.01826387 -0.03450704 -0.20676804  0.03770947 -0.05679743  0.00961923\n",
            " -0.0123463  -0.0486833  -0.03032256 -0.17245324 -0.03853355 -0.00823335\n",
            " -0.13620266  0.22024688  0.1513386  -0.13793726 -0.04244831  0.06723478\n",
            " -0.07002145 -0.08318885 -0.03582288  0.11706851  0.01032112  0.06882333\n",
            " -0.00356456  0.06012504  0.0602234  -0.15367821  0.01839948  0.05767218\n",
            " -0.04998573  0.02539298 -0.05620582  0.11276035 -0.15426089  0.02586836\n",
            " -0.0210267  -0.06048716  0.10862952  0.05540708  0.04719459 -0.0625496\n",
            " -0.0202816   0.00210267  0.05822653  0.09945734  0.09627428 -0.01080096\n",
            " -0.01248935 -0.21638727 -0.03101252 -0.01804183  0.03183958  0.09425506\n",
            " -0.03456516 -0.03778249 -0.00414424  0.00759405  0.0886996   0.19248597\n",
            " -0.0272751  -0.03735928  0.00406377  0.03174272  0.10447484  0.12750289\n",
            " -0.03224343 -0.0387392   0.09023599  0.14173874 -0.11265752  0.09577506\n",
            "  0.06443619 -0.07155338  0.00584158 -0.03486767 -0.13389732  0.01964082\n",
            " -0.02159894  0.03082625 -0.01575885  0.16135125 -0.03959011  0.07655746\n",
            "  0.07552624  0.00028016 -0.04112948 -0.0488204   0.03851865  0.1213737\n",
            " -0.01974662 -0.04990675 -0.11672278  0.16367745 -0.02106247  0.03581245\n",
            "  0.08456579 -0.05417468  0.07361134 -0.16710639 -0.06858639  0.09659319\n",
            " -0.00395648  0.00303702 -0.09068902  0.06965338  0.04237082 -0.02419188\n",
            "  0.09877185 -0.05395264  0.09499122  0.02857605 -0.16969934 -0.01950223\n",
            " -0.16038114 -0.13946173  0.00054094  0.04791137  0.12197126 -0.15094818\n",
            " -0.12576084 -0.12233189], shape=(128,), dtype=float32)\n",
            "tf.Tensor(\n",
            "[ 0.17595308 -0.03401027  0.02078361 -0.05330169  0.00334042  0.13092043\n",
            "  0.02105464 -0.09028932  0.09575701  0.00725191 -0.07086789 -0.09061737\n",
            "  0.10634033 -0.10215481 -0.07617456 -0.00428954  0.02114865 -0.06597228\n",
            " -0.14063364 -0.07898191  0.04438657 -0.03626555  0.07069187 -0.03997901\n",
            " -0.20143728  0.03901989  0.00517165 -0.06252485 -0.08149222  0.00726191\n",
            "  0.01132742  0.08660086  0.17317273  0.07924794  0.1332097  -0.21491195\n",
            " -0.02270785  0.08579677  0.01707414  0.05309566 -0.16434662 -0.01777923\n",
            "  0.13515896 -0.09233958  0.07926395  0.09601104  0.01172247 -0.00060108\n",
            " -0.19480143  0.02587024  0.0270884   0.00180523 -0.01314265 -0.0821693\n",
            " -0.09153848  0.01775723 -0.06833658  0.12414357  0.00262333  0.06873762\n",
            " -0.279141    0.02325192  0.03333218  0.05050334  0.10975977  0.04847908\n",
            " -0.03644857 -0.0071519   0.14848262 -0.04203828 -0.03930793  0.06168174\n",
            " -0.05969649  0.02887462  0.02037255 -0.03369223  0.01166946 -0.007939\n",
            "  0.04588475  0.02858859 -0.00495662  0.07569149 -0.02523016  0.08543371\n",
            " -0.06635033 -0.05520193 -0.06341096 -0.10598929  0.32826218  0.27708673\n",
            " -0.00154919  0.09710218 -0.06887664 -0.07778376 -0.0119375   0.08835009\n",
            "  0.02378298  0.07608855 -0.01973047  0.01558695 -0.00700388  0.08822507\n",
            " -0.06369898  0.04900515 -0.04755196 -0.13454989 -0.09476889 -0.01665509\n",
            " -0.04209828  0.09205355 -0.12019908 -0.13222258 -0.01295463  0.05220455\n",
            " -0.1537913  -0.00596275 -0.07309117  0.02169572  0.04848608 -0.01382974\n",
            "  0.04233831 -0.03285712 -0.05847033  0.02918166  0.01318865  0.0135607\n",
            " -0.07209405 -0.03331318], shape=(128,), dtype=float32)\n",
            "tf.Tensor(\n",
            "[ 2.90216237e-01  1.18773542e-01 -4.90125455e-02  1.34549513e-01\n",
            " -1.94126996e-03  1.55572724e-02 -3.63057218e-02 -4.30857092e-02\n",
            " -5.49845723e-03  4.93613966e-02  8.14013854e-02 -5.13514690e-03\n",
            "  7.78405890e-02  1.11107882e-02  2.53919549e-02 -6.29593208e-02\n",
            " -1.74949262e-02  1.12897316e-02  5.51599003e-02  7.06078231e-01\n",
            "  3.15826871e-02  3.45632806e-02  8.65762979e-02  6.45481274e-02\n",
            " -3.25912796e-02  2.53033862e-02 -1.82414297e-02  7.43520781e-02\n",
            " -3.98719460e-02  4.31778915e-02  2.36296281e-02 -2.41086185e-02\n",
            "  2.59305928e-02  6.83240243e-04 -8.41108561e-02  4.62362031e-03\n",
            " -3.64846662e-02  1.07800122e-02 -9.12288353e-02  2.05333577e-03\n",
            " -1.10055901e-01  3.45777394e-03 -4.05280776e-02  2.48587374e-02\n",
            "  7.22969398e-02 -6.16109185e-02  1.86589658e-02 -6.36660606e-02\n",
            " -7.82237798e-02  1.44727640e-02  3.93080041e-02  2.57136915e-02\n",
            "  7.62861222e-02 -5.20383269e-02  8.13561957e-03  8.76553804e-02\n",
            " -4.47431989e-02 -7.81749748e-03  4.50721644e-02  3.63689885e-02\n",
            " -2.00724415e-02 -1.23885192e-01 -3.34426239e-02  8.09223950e-03\n",
            "  1.91325340e-02  4.08751182e-02  4.75665368e-02  4.57210653e-02\n",
            "  1.06986746e-01 -1.27718924e-02 -5.21286996e-03 -3.54091972e-02\n",
            "  3.77300419e-02  1.27773155e-02  6.51879907e-02 -3.79577908e-03\n",
            " -4.85425927e-02  2.17046272e-02 -3.16188410e-02  9.59428307e-03\n",
            "  1.90746933e-02  8.37457329e-02 -1.90692709e-03 -2.24963184e-02\n",
            " -2.64891144e-02 -3.92899290e-02 -1.17542632e-01 -8.22816491e-02\n",
            " -3.52591723e-02  4.79190014e-02  2.17769258e-02 -1.60453003e-02\n",
            " -5.40988892e-03  4.28633839e-02 -8.13200511e-03  1.18717514e-02\n",
            " -2.15979833e-02  1.36828795e-03  1.82717964e-01  4.54119779e-02\n",
            " -6.88572451e-02 -1.78582361e-03  1.91289205e-02 -2.41285041e-02\n",
            "  6.63357612e-04 -4.09311540e-02 -5.11146858e-02 -2.52455454e-02\n",
            "  2.78320983e-02 -5.07061891e-02  6.78359941e-02 -1.38943596e-02\n",
            "  1.04118221e-01  4.51788083e-02  1.07004819e-02  1.76612176e-02\n",
            "  3.29112150e-02 -6.14120923e-02 -1.25911413e-02 -1.91488024e-02\n",
            "  7.57492930e-02 -5.16352467e-02 -1.36160012e-02 -1.41533762e-01\n",
            " -2.68162768e-02 -2.58725733e-01 -2.24438999e-02  3.19550373e-02], shape=(128,), dtype=float32)\n",
            "tf.Tensor(\n",
            "[-0.0615004  -0.01837708 -0.12855753 -0.02212294 -0.226597    0.0839695\n",
            " -0.09963125 -0.06354541 -0.13233341 -0.12980317  0.02936952 -0.15543383\n",
            "  0.10753115 -0.00958774  0.06338833  0.09810549 -0.12013138 -0.07882897\n",
            "  0.07356236 -0.05984158 -0.03015791 -0.11816741 -0.04459504 -0.06148139\n",
            "  0.09047472 -0.01669925  0.05169355  0.13206927  0.012145    0.10578929\n",
            " -0.01120554 -0.00980485  0.00280239 -0.18850617 -0.19729652 -0.03821989\n",
            " -0.00653823  0.05533135  0.16331972  0.06015073 -0.06173752 -0.05247594\n",
            "  0.04344447 -0.10653466  0.12064964 -0.03962659  0.05222682 -0.10039262\n",
            "  0.02700535 -0.03146255  0.09400547 -0.13351    -0.05932632  0.08206256\n",
            " -0.08410458  0.0099169  -0.05228384 -0.02362268  0.02940153  0.01789985\n",
            " -0.01693837  0.14988708 -0.13795519  0.00552773  0.02232203  0.05249395\n",
            " -0.12408634 -0.13268158  0.08923711 -0.03921438 -0.06659991  0.18361075\n",
            " -0.0117278   0.03023995  0.05943137  0.10688584  0.14281158  0.04987365\n",
            " -0.12127094  0.0382439  -0.05246793 -0.05004874  0.02507239 -0.02396785\n",
            "  0.06518321  0.01696038 -0.11343707 -0.08185646  0.08938318 -0.03954455\n",
            "  0.03634496  0.03697827  0.08075792 -0.10531706 -0.00598896 -0.09294394\n",
            "  0.15672347 -0.1270378  -0.02895731  0.0704158   0.040457   -0.0497746\n",
            " -0.00884137  0.0843707  -0.0016148   0.01855017  0.0267022   0.18760973\n",
            "  0.02778373 -0.16960783  0.03570865  0.05033088 -0.03322042 -0.13966604\n",
            " -0.10209347 -0.03657208 -0.2263979  -0.02072624 -0.02705137 -0.01902941\n",
            "  0.04473711 -0.04023989  0.04415483 -0.02232203 -0.07005663 -0.17103954\n",
            "  0.05898916 -0.13003227], shape=(128,), dtype=float32)\n",
            "tf.Tensor(\n",
            "[ 9.94442031e-02 -7.40704313e-02 -9.26603470e-03  7.03867525e-02\n",
            " -4.87098499e-04  6.86991587e-02  8.01784452e-03  2.03312896e-02\n",
            " -7.87029415e-02 -8.71013328e-02 -2.11278964e-02 -1.35980651e-01\n",
            "  1.49641737e-01  7.62836859e-02  1.00878105e-01  3.97147648e-02\n",
            "  1.59748003e-01 -1.89450867e-02 -8.77680480e-02  7.17658475e-02\n",
            " -1.65319201e-02 -2.39155218e-02 -5.53739704e-02 -7.62674510e-02\n",
            "  4.57618907e-02  9.88941863e-02 -8.37576091e-02 -7.42876008e-02\n",
            " -1.82976518e-02  3.17953564e-02  1.12271130e-01 -5.75547479e-02\n",
            "  1.10475972e-01  7.63882026e-02  1.65334433e-01 -6.61997274e-02\n",
            " -6.14200793e-02  2.71912590e-02  1.47687256e-01  6.74286410e-02\n",
            " -7.27694705e-02 -1.05734877e-01  4.55832854e-02 -1.16588049e-01\n",
            "  2.82709952e-02  1.01362154e-01 -1.81351855e-01 -1.11103110e-01\n",
            " -1.58189297e-01  1.04214728e-01  3.25696394e-02  1.56637698e-01\n",
            " -5.13391681e-02 -1.88527424e-02 -4.25460264e-02 -7.07246736e-02\n",
            " -5.79271764e-02  2.51900963e-02  7.39151686e-02  1.19745055e-04\n",
            " -1.84043080e-01  1.47698417e-01 -3.48102897e-02  1.70687435e-03\n",
            "  1.39169127e-01 -1.05121940e-01  1.42439783e-01 -1.03315627e-02\n",
            "  1.82313859e-01 -2.95648500e-02 -3.49888951e-02  3.03513110e-02\n",
            "  5.34184696e-03  1.40781617e-02  9.98754892e-03 -1.47225522e-02\n",
            "  7.10970983e-02  4.28839512e-02 -1.27011955e-01  1.13123551e-01\n",
            "  1.24017308e-02  7.10037425e-02 -4.16469248e-03  7.03228191e-02\n",
            "  3.50436941e-02 -1.43683907e-02 -9.51140970e-02  3.90145630e-02\n",
            "  2.29932830e-01  2.06877828e-01 -5.52745201e-02 -1.31567335e-02\n",
            "  2.30264649e-01 -3.98740843e-02  6.66817576e-02  2.25533724e-01\n",
            "  8.17706436e-02  6.04793690e-02 -7.39019737e-02 -9.10468306e-03\n",
            "  1.08154133e-01 -8.07223693e-02 -7.97826704e-03  1.32856118e-02\n",
            "  5.10235690e-02  1.41441235e-02 -1.35009497e-01  5.42171076e-02\n",
            "  4.25368920e-02 -3.20175923e-02 -1.07180953e-01  1.62883718e-02\n",
            "  1.31394826e-02  5.30399531e-02  4.53448109e-02 -1.91503793e-01\n",
            " -6.97728023e-02  4.16154638e-02 -3.63182686e-02 -9.05191433e-03\n",
            "  1.01627015e-01  2.43945029e-02 -9.23214033e-02  3.16756107e-02\n",
            "  3.08252182e-02  9.78865102e-03 -7.38197789e-02 -2.95273028e-02], shape=(128,), dtype=float32)\n",
            "tf.Tensor(\n",
            "[ 0.03285561  0.06345107 -0.05201129  0.01691855 -0.05197627 -0.08718006\n",
            "  0.10912216  0.01248531 -0.019789   -0.00175389 -0.03428933  0.04357002\n",
            "  0.16790386 -0.12691015  0.18211104  0.08551722  0.02784707 -0.10520618\n",
            " -0.16852717 -0.08040463  0.0975413   0.01511364  0.03316376  0.10389251\n",
            " -0.18009703 -0.0215629   0.13507628  0.03831837 -0.02578603 -0.12218576\n",
            "  0.07264771  0.1115864   0.09425264  0.01802011  0.06072569  0.07531606\n",
            " -0.08544318  0.14034192  0.00700154  0.02564696 -0.04515482 -0.10355634\n",
            " -0.03469354  0.07742013  0.10613664  0.11272097  0.09738222 -0.02878455\n",
            "  0.08235262 -0.00175689  0.10406059  0.15026695  0.06961619  0.06580226\n",
            "  0.00784697  0.05793528  0.00658933 -0.01664842  0.05200028 -0.06259763\n",
            " -0.08495494 -0.0160181   0.07229955 -0.08010948  0.06158312 -0.05166911\n",
            " -0.12054693 -0.08145517 -0.06405337  0.21870454  0.00324164  0.03930887\n",
            " -0.10106508  0.08361927 -0.09401051  0.16623703 -0.00378591 -0.13502325\n",
            " -0.13516133  0.06836256  0.03570805  0.10855087  0.04499274 -0.16793887\n",
            "  0.06591532  0.01954288 -0.09939724 -0.031648    0.13672711  0.15072417\n",
            "  0.05066361 -0.07393336 -0.0366035   0.01100056  0.09087092 -0.04840047\n",
            " -0.01079946  0.04951202  0.01420718  0.07628456 -0.07245962  0.24384825\n",
            "  0.07368524  0.11246384  0.04685768  0.09379541  0.03553696  0.01660339\n",
            " -0.04004424  0.12334735 -0.03649445  0.05591526 -0.17275932  0.1456186\n",
            "  0.01927874  0.03366301 -0.06806741  0.06962719 -0.00386996 -0.05187422\n",
            " -0.10022265  0.13119231 -0.0748018   0.01706863 -0.09926818 -0.08083786\n",
            " -0.10174342  0.03802322], shape=(128,), dtype=float32)\n",
            "tf.Tensor(\n",
            "[ 0.25726095  0.01382531 -0.03725627 -0.05722948  0.11961366  0.07500489\n",
            " -0.03752869  0.04664766  0.02502291 -0.02492217 -0.04615958  0.03074657\n",
            " -0.15672663  0.0353692  -0.10543505 -0.19493638 -0.03283228  0.10168502\n",
            " -0.10927872  0.03420432  0.03627585  0.2566764   0.07805116  0.08018655\n",
            " -0.11670217  0.00707866 -0.0243972  -0.01531227 -0.04975212 -0.14547086\n",
            "  0.0367994  -0.03092393 -0.02894321 -0.01626858  0.04652281  0.01148704\n",
            " -0.00198498 -0.00543421  0.01632392 -0.02995343  0.11334091  0.04863832\n",
            " -0.06580929 -0.02500589 -0.13480817  0.01124158  0.18738522  0.14506648\n",
            "  0.05496641 -0.16384502  0.03415466 -0.03899295  0.01744339  0.03243501\n",
            "  0.1097739  -0.11771949  0.10216885  0.10581531  0.1560172   0.02161482\n",
            " -0.03218954  0.05652998 -0.06524175 -0.01759379  0.03138505 -0.11013146\n",
            " -0.07849527 -0.0069538   0.10461354 -0.03832325 -0.06059217 -0.01650837\n",
            " -0.05651154 -0.16418839  0.14787155  0.16585554  0.11013997  0.00648842\n",
            "  0.06851505  0.05518065 -0.03285782 -0.04386671 -0.09288954  0.07028294\n",
            "  0.08635146 -0.16090658 -0.04132839  0.03414047  0.07249068 -0.01690848\n",
            " -0.11772375  0.04629012  0.01053925  0.04555089  0.06151158  0.02188583\n",
            " -0.06416342 -0.1744623  -0.04750182  0.05521896 -0.0019268  -0.07400317\n",
            "  0.01267888  0.0462362  -0.02533932  0.17341235 -0.09566624 -0.01799958\n",
            " -0.1547218   0.00635079 -0.00191545 -0.00872595  0.04272737  0.16637625\n",
            " -0.04171573 -0.08639544 -0.02586855  0.13964362  0.10296625 -0.0840515\n",
            " -0.03218812 -0.07438343 -0.07402872  0.20383543 -0.07202955 -0.01149414\n",
            "  0.0629049  -0.00084706], shape=(128,), dtype=float32)\n"
          ],
          "name": "stdout"
        }
      ]
    },
    {
      "cell_type": "markdown",
      "metadata": {
        "id": "KjuzXc-z1iaY"
      },
      "source": [
        "You should now prepare the training and validation Datasets.\n",
        "\n",
        "* Create a random training and validation set split of the data, reserving e.g. 20% of the data for validation (NB: each English dataset example is a single sentence string, and each German dataset example is a sequence of padded integer tokens).\n",
        "* Load the training and validation sets into a tf.data.Dataset object, passing in a tuple of English and German data for both training and validation sets.\n",
        "* Create a function to map over the datasets that splits each English sentence at spaces. Apply this function to both Dataset objects using the map method. _Hint: look at the tf.strings.split function._\n",
        "* Create a function to map over the datasets that embeds each sequence of English words using the loaded embedding layer/model. Apply this function to both Dataset objects using the map method.\n",
        "* Create a function to filter out dataset examples where the English sentence is greater than or equal to than 13 (embedded) tokens in length. Apply this function to both Dataset objects using the filter method.\n",
        "* Create a function to map over the datasets that pads each English sequence of embeddings with some distinct padding value before the sequence, so that each sequence is length 13. Apply this function to both Dataset objects using the map method. _Hint: look at the tf.pad function. You can extract a Tensor shape using tf.shape; you might also find the tf.math.maximum function useful._\n",
        "* Batch both training and validation Datasets with a batch size of 16.\n",
        "* Print the `element_spec` property for the training and validation Datasets. \n",
        "* Using the Dataset `.take(1)` method, print the shape of the English data example from the training Dataset.\n",
        "* Using the Dataset `.take(1)` method, print the German data example Tensor from the validation Dataset."
      ]
    },
    {
      "cell_type": "code",
      "metadata": {
        "id": "n-yqnePRgpec",
        "outputId": "0d7d2cee-52c9-474c-8330-29feb981eecb",
        "colab": {
          "base_uri": "https://localhost:8080/",
          "height": 147
        }
      },
      "source": [
        "sampis = tf.data.Dataset.from_tensor_slices(([\"these\", \"aren't\", \"the\", \"droids\", \"you're\", \"looking\", \"for\"]))\n",
        "for i in sampis:\n",
        "  print(i)"
      ],
      "execution_count": 30,
      "outputs": [
        {
          "output_type": "stream",
          "text": [
            "tf.Tensor(b'these', shape=(), dtype=string)\n",
            "tf.Tensor(b\"aren't\", shape=(), dtype=string)\n",
            "tf.Tensor(b'the', shape=(), dtype=string)\n",
            "tf.Tensor(b'droids', shape=(), dtype=string)\n",
            "tf.Tensor(b\"you're\", shape=(), dtype=string)\n",
            "tf.Tensor(b'looking', shape=(), dtype=string)\n",
            "tf.Tensor(b'for', shape=(), dtype=string)\n"
          ],
          "name": "stdout"
        }
      ]
    },
    {
      "cell_type": "code",
      "metadata": {
        "id": "pT2CnIuIhcOo",
        "outputId": "fdbe12d4-b6ad-44b5-b544-cdf1eaa261e0",
        "colab": {
          "base_uri": "https://localhost:8080/",
          "height": 315
        }
      },
      "source": [
        "# Splitting dataset into train and val \n",
        "en_train,val_en,de_train,val_de = train_test_split(en_sentences, de_sentences_sequence_Padded,test_size = 0.2)\n",
        "print(np.array(en_train).shape,np.array(de_train).shape)\n",
        "en_train[:5] , de_train[:5]"
      ],
      "execution_count": 34,
      "outputs": [
        {
          "output_type": "stream",
          "text": [
            "(16000,) (16000, 14)\n"
          ],
          "name": "stdout"
        },
        {
          "output_type": "execute_result",
          "data": {
            "text/plain": [
              "(['a dog was running .',\n",
              "  'shall we go ?',\n",
              "  'you need a car .',\n",
              "  'tom is terrible .',\n",
              "  'i like to do that .'],\n",
              " array([[  1,  19, 107, 359,   3,   2,   0,   0,   0,   0,   0,   0,   0,\n",
              "           0],\n",
              "        [  1,  45,  17,   7,   2,   0,   0,   0,   0,   0,   0,   0,   0,\n",
              "           0],\n",
              "        [  1,  13, 502,  19,  82,   3,   2,   0,   0,   0,   0,   0,   0,\n",
              "           0],\n",
              "        [  1,   5,   6, 623,   3,   2,   0,   0,   0,   0,   0,   0,   0,\n",
              "           0],\n",
              "        [  1,   4, 230,  11, 203,   3,   2,   0,   0,   0,   0,   0,   0,\n",
              "           0]], dtype=int32))"
            ]
          },
          "metadata": {
            "tags": []
          },
          "execution_count": 34
        }
      ]
    },
    {
      "cell_type": "code",
      "metadata": {
        "id": "Q-BUJOl_1iaZ",
        "outputId": "22144961-64f7-4cd8-cd62-cb9177495d15",
        "colab": {
          "base_uri": "https://localhost:8080/",
          "height": 296
        }
      },
      "source": [
        "train_dataset = tf.data.Dataset.from_tensor_slices( (en_train,de_train) )\n",
        "val_dataset = tf.data.Dataset.from_tensor_slices((val_en, val_de))\n",
        "\n",
        "checking = train_dataset.take(5)\n",
        "for i in checking:\n",
        "  print(i)"
      ],
      "execution_count": 36,
      "outputs": [
        {
          "output_type": "stream",
          "text": [
            "(<tf.Tensor: shape=(), dtype=string, numpy=b'a dog was running .'>, <tf.Tensor: shape=(14,), dtype=int32, numpy=\n",
            "array([  1,  19, 107, 359,   3,   2,   0,   0,   0,   0,   0,   0,   0,\n",
            "         0], dtype=int32)>)\n",
            "(<tf.Tensor: shape=(), dtype=string, numpy=b'shall we go ?'>, <tf.Tensor: shape=(14,), dtype=int32, numpy=\n",
            "array([ 1, 45, 17,  7,  2,  0,  0,  0,  0,  0,  0,  0,  0,  0],\n",
            "      dtype=int32)>)\n",
            "(<tf.Tensor: shape=(), dtype=string, numpy=b'you need a car .'>, <tf.Tensor: shape=(14,), dtype=int32, numpy=\n",
            "array([  1,  13, 502,  19,  82,   3,   2,   0,   0,   0,   0,   0,   0,\n",
            "         0], dtype=int32)>)\n",
            "(<tf.Tensor: shape=(), dtype=string, numpy=b'tom is terrible .'>, <tf.Tensor: shape=(14,), dtype=int32, numpy=\n",
            "array([  1,   5,   6, 623,   3,   2,   0,   0,   0,   0,   0,   0,   0,\n",
            "         0], dtype=int32)>)\n",
            "(<tf.Tensor: shape=(), dtype=string, numpy=b'i like to do that .'>, <tf.Tensor: shape=(14,), dtype=int32, numpy=\n",
            "array([  1,   4, 230,  11, 203,   3,   2,   0,   0,   0,   0,   0,   0,\n",
            "         0], dtype=int32)>)\n"
          ],
          "name": "stdout"
        }
      ]
    },
    {
      "cell_type": "code",
      "metadata": {
        "id": "Yf0V2F7pmpbG",
        "outputId": "01dc8aee-f7ce-4138-afeb-22ed09a85cd2",
        "colab": {
          "base_uri": "https://localhost:8080/",
          "height": 36
        }
      },
      "source": [
        "test = tf.constant([ [321.2,3.24,.012],[2.121,21.21,121] ],dtype=tf.float32)\n",
        "tf.math.less(tf.shape(test)[0] , 5)\n",
        "tf.rank(test)"
      ],
      "execution_count": 68,
      "outputs": [
        {
          "output_type": "execute_result",
          "data": {
            "text/plain": [
              "<tf.Tensor: shape=(), dtype=int32, numpy=2>"
            ]
          },
          "metadata": {
            "tags": []
          },
          "execution_count": 68
        }
      ]
    },
    {
      "cell_type": "code",
      "metadata": {
        "id": "4w6rM8Bl1iad"
      },
      "source": [
        "def preprocess_dataset(dataset):\n",
        "  def preprocess_Whitespace(en, de):\n",
        "    return tf.strings.split(en, sep=\" \"), de\n",
        "  \n",
        "  def embed_sentences(en,de):\n",
        "    return embedding_layer(en), de\n",
        "\n",
        "  def Cut_enLess13(en,de):\n",
        "    return tf.math.less( tf.shape(en)[0],13)\n",
        "  \n",
        "  def pad_en_sentences(en, de):\n",
        "    pad_before = [13 - len(en),0]\n",
        "    pad_after = [0,0]\n",
        "    padding = [pad_before,pad_after]\n",
        "    return tf.pad(en, padding),de\n",
        "  \n",
        "  dataset = dataset.map(preprocess_Whitespace)\n",
        "  dataset = dataset.map(embed_sentences)\n",
        "  dataset = dataset.filter(Cut_enLess13)\n",
        "  dataset = dataset.map(pad_en_sentences)\n",
        "  dataset = dataset.batch(16,drop_remainder = True)\n",
        "  return  dataset\n",
        "  \n",
        "train_dataset_ready = preprocess_dataset(train_dataset)\n",
        "val_dataset_ready = preprocess_dataset(val_dataset)"
      ],
      "execution_count": 81,
      "outputs": []
    },
    {
      "cell_type": "code",
      "metadata": {
        "id": "D7bn3mRs1iaj",
        "outputId": "5cdbfe7a-0342-4072-a9ab-25a98d23cd82",
        "colab": {
          "base_uri": "https://localhost:8080/",
          "height": 73
        }
      },
      "source": [
        "print(train_dataset_ready.element_spec)\n",
        "print(val_dataset_ready.element_spec)\n",
        "print(train_dataset_ready)"
      ],
      "execution_count": 84,
      "outputs": [
        {
          "output_type": "stream",
          "text": [
            "(TensorSpec(shape=(16, None, 128), dtype=tf.float32, name=None), TensorSpec(shape=(16, 14), dtype=tf.int32, name=None))\n",
            "(TensorSpec(shape=(16, None, 128), dtype=tf.float32, name=None), TensorSpec(shape=(16, 14), dtype=tf.int32, name=None))\n",
            "<BatchDataset shapes: ((16, None, 128), (16, 14)), types: (tf.float32, tf.int32)>\n"
          ],
          "name": "stdout"
        }
      ]
    },
    {
      "cell_type": "code",
      "metadata": {
        "id": "q0Fdso381ian",
        "outputId": "deac5dcf-a8d5-416b-c3d9-cac6986b58d7",
        "colab": {
          "base_uri": "https://localhost:8080/",
          "height": 54
        }
      },
      "source": [
        "endat , dedat = next(iter(train_dataset_ready.take(1)))\n",
        "print(f\"Shape of English data : {endat.shape}\")\n",
        "print(f\"Shape of Germany data : {dedat.shape}\")"
      ],
      "execution_count": 86,
      "outputs": [
        {
          "output_type": "stream",
          "text": [
            "Shape of English data : (16, 13, 128)\n",
            "Shape of Germany data : (16, 14)\n"
          ],
          "name": "stdout"
        }
      ]
    },
    {
      "cell_type": "code",
      "metadata": {
        "id": "bGqlxuqZ1ias"
      },
      "source": [
        ""
      ],
      "execution_count": null,
      "outputs": []
    },
    {
      "cell_type": "code",
      "metadata": {
        "id": "MdqSXEoX1iav"
      },
      "source": [
        ""
      ],
      "execution_count": null,
      "outputs": []
    },
    {
      "cell_type": "markdown",
      "metadata": {
        "id": "isIYhjq01iay"
      },
      "source": [
        "## 3. Create the custom layer\n",
        "You will now create a custom layer to add the learned end token embedding to the encoder model:"
      ]
    },
    {
      "cell_type": "code",
      "metadata": {
        "id": "e22f1Xyh6xvE",
        "outputId": "7c1c61a7-d9eb-4a33-b8c0-9ddef7e9e274",
        "colab": {
          "base_uri": "https://localhost:8080/",
          "height": 423
        }
      },
      "source": [
        "# Run this cell to download and view a schematic diagram for the encoder model\n",
        "\n",
        "!wget -q -O neural_translation_model.png --no-check-certificate \"https://docs.google.com/uc?export=download&id=1JrtNOzUJDaOWrK4C-xv-4wUuZaI12sQI\"\n",
        "Image(\"neural_translation_model.png\")"
      ],
      "execution_count": 87,
      "outputs": [
        {
          "output_type": "execute_result",
          "data": {
            "image/png": "[encoded data removed]",
            "text/plain": [
              "<IPython.core.display.Image object>"
            ]
          },
          "metadata": {
            "tags": []
          },
          "execution_count": 87
        }
      ]
    },
    {
      "cell_type": "markdown",
      "metadata": {
        "id": "M6gLIHG81iaz"
      },
      "source": [
        "You should now build the custom layer.\n",
        "* Using layer subclassing, create a custom layer that takes a batch of English data examples from one of the Datasets, and adds a learned embedded ‘end’ token to the end of each sequence. \n",
        "* This layer should create a TensorFlow Variable (that will be learned during training) that is 128-dimensional (the size of the embedding space). _Hint: you may find it helpful in the call method to use the tf.tile function to replicate the end token embedding across every element in the batch._\n",
        "* Using the Dataset `.take(1)` method, extract a batch of English data examples from the training Dataset and print the shape. Test the custom layer by calling the layer on the English data batch Tensor and print the resulting Tensor shape (the layer should increase the sequence length by one)."
      ]
    },
    {
      "cell_type": "code",
      "metadata": {
        "id": "yg9hjZz11ia0"
      },
      "source": [
        ""
      ],
      "execution_count": null,
      "outputs": []
    },
    {
      "cell_type": "code",
      "metadata": {
        "id": "4PwI32O11ia3"
      },
      "source": [
        ""
      ],
      "execution_count": null,
      "outputs": []
    },
    {
      "cell_type": "code",
      "metadata": {
        "id": "ebjK8PmL1ia6"
      },
      "source": [
        ""
      ],
      "execution_count": null,
      "outputs": []
    },
    {
      "cell_type": "markdown",
      "metadata": {
        "id": "OAd3i4_y1ia-"
      },
      "source": [
        "## 4. Build the encoder network\n",
        "The encoder network follows the schematic diagram above. You should now build the RNN encoder model.\n",
        "* Using the functional API, build the encoder network according to the following spec:\n",
        "    * The model will take a batch of sequences of embedded English words as input, as given by the Dataset objects.\n",
        "    * The next layer in the encoder will be the custom layer you created previously, to add a learned end token embedding to the end of the English sequence.\n",
        "    * This is followed by a Masking layer, with the `mask_value` set to the distinct padding value you used when you padded the English sequences with the Dataset preprocessing above.\n",
        "    * The final layer is an LSTM layer with 512 units, which also returns the hidden and cell states.\n",
        "    * The encoder is a multi-output model. There should be two output Tensors of this model: the hidden state and cell states of the LSTM layer. The output of the LSTM layer is unused.\n",
        "* Using the Dataset `.take(1)` method, extract a batch of English data examples from the training Dataset and test the encoder model by calling it on the English data Tensor, and print the shape of the resulting Tensor outputs.\n",
        "* Print the model summary for the encoder network."
      ]
    },
    {
      "cell_type": "code",
      "metadata": {
        "id": "6R2LqbfV1ia_"
      },
      "source": [
        ""
      ],
      "execution_count": null,
      "outputs": []
    },
    {
      "cell_type": "code",
      "metadata": {
        "id": "e5XW6NxL1ibC"
      },
      "source": [
        ""
      ],
      "execution_count": null,
      "outputs": []
    },
    {
      "cell_type": "code",
      "metadata": {
        "id": "jEk9ikVh1ibL"
      },
      "source": [
        ""
      ],
      "execution_count": null,
      "outputs": []
    },
    {
      "cell_type": "markdown",
      "metadata": {
        "id": "KvkzpCeZ1ibR"
      },
      "source": [
        "## 5. Build the decoder network\n",
        "The decoder network follows the schematic diagram below. "
      ]
    },
    {
      "cell_type": "code",
      "metadata": {
        "id": "yOjEb7cH7Y4S"
      },
      "source": [
        "# Run this cell to download and view a schematic diagram for the decoder model\n",
        "\n",
        "!wget -q -O neural_translation_model.png --no-check-certificate \"https://docs.google.com/uc?export=download&id=1DTeaXD8tA8RjkpVrB2mr9csSBOY4LQiW\"\n",
        "Image(\"neural_translation_model.png\")"
      ],
      "execution_count": null,
      "outputs": []
    },
    {
      "cell_type": "markdown",
      "metadata": {
        "id": "VPBK8WGL1ibS"
      },
      "source": [
        "You should now build the RNN decoder model.\n",
        "* Using Model subclassing, build the decoder network according to the following spec:\n",
        "    * The initializer should create the following layers:\n",
        "        * An Embedding layer with vocabulary size set to the number of unique German tokens, embedding dimension 128, and set to mask zero values in the input.\n",
        "        * An LSTM layer with 512 units, that returns its hidden and cell states, and also returns sequences.\n",
        "        * A Dense layer with number of units equal to the number of unique German tokens, and no activation function.\n",
        "    * The call method should include the usual `inputs` argument, as well as the additional keyword arguments `hidden_state` and `cell_state`. The default value for these keyword arguments should be `None`.\n",
        "    * The call method should pass the inputs through the Embedding layer, and then through the LSTM layer. If the `hidden_state` and `cell_state` arguments are provided, these should be used for the initial state of the LSTM layer. _Hint: use the_ `initial_state` _keyword argument when calling the LSTM layer on its input._\n",
        "    * The call method should pass the LSTM output sequence through the Dense layer, and return the resulting Tensor, along with the hidden and cell states of the LSTM layer.\n",
        "* Using the Dataset `.take(1)` method, extract a batch of English and German data examples from the training Dataset. Test the decoder model by first calling the encoder model on the English data Tensor to get the hidden and cell states, and then call the decoder model on the German data Tensor and hidden and cell states, and print the shape of the resulting decoder Tensor outputs.\n",
        "* Print the model summary for the decoder network."
      ]
    },
    {
      "cell_type": "code",
      "metadata": {
        "id": "l50qhnXD1ibT"
      },
      "source": [
        ""
      ],
      "execution_count": null,
      "outputs": []
    },
    {
      "cell_type": "code",
      "metadata": {
        "id": "vG5CRIXV1ibi"
      },
      "source": [
        ""
      ],
      "execution_count": null,
      "outputs": []
    },
    {
      "cell_type": "code",
      "metadata": {
        "id": "SvqqT_ET1ibl"
      },
      "source": [
        ""
      ],
      "execution_count": null,
      "outputs": []
    },
    {
      "cell_type": "markdown",
      "metadata": {
        "id": "pST9XGJ81ibo"
      },
      "source": [
        "## 6. Make a custom training loop\n",
        "You should now write a custom training loop to train your custom neural translation model.\n",
        "* Define a function that takes a Tensor batch of German data (as extracted from the training Dataset), and returns a tuple containing German inputs and outputs for the decoder model (refer to schematic diagram above).\n",
        "* Define a function that computes the forward and backward pass for your translation model. This function should take an English input, German input and German output as arguments, and should do the following:\n",
        "    * Pass the English input into the encoder, to get the hidden and cell states of the encoder LSTM.\n",
        "    * These hidden and cell states are then passed into the decoder, along with the German inputs, which returns a sequence of outputs (the hidden and cell state outputs of the decoder LSTM are unused in this function).\n",
        "    * The loss should then be computed between the decoder outputs and the German output function argument.\n",
        "    * The function returns the loss and gradients with respect to the encoder and decoder’s trainable variables.\n",
        "    * Decorate the function with `@tf.function`\n",
        "* Define and run a custom training loop for a number of epochs (for you to choose) that does the following:\n",
        "    * Iterates through the training dataset, and creates decoder inputs and outputs from the German sequences.\n",
        "    * Updates the parameters of the translation model using the gradients of the function above and an optimizer object.\n",
        "    * Every epoch, compute the validation loss on a number of batches from the validation and save the epoch training and validation losses.\n",
        "* Plot the learning curves for loss vs epoch for both training and validation sets.\n",
        "\n",
        "_Hint: This model is computationally demanding to train. The quality of the model or length of training is not a factor in the grading rubric. However, to obtain a better model we recommend using the GPU accelerator hardware on Colab._"
      ]
    },
    {
      "cell_type": "code",
      "metadata": {
        "id": "7hJHbWqs1ibr"
      },
      "source": [
        ""
      ],
      "execution_count": null,
      "outputs": []
    },
    {
      "cell_type": "code",
      "metadata": {
        "id": "Jvu4J4-u1ibu"
      },
      "source": [
        ""
      ],
      "execution_count": null,
      "outputs": []
    },
    {
      "cell_type": "code",
      "metadata": {
        "id": "Vl5H06811ibx"
      },
      "source": [
        ""
      ],
      "execution_count": null,
      "outputs": []
    },
    {
      "cell_type": "code",
      "metadata": {
        "id": "MVWOYJ3l1ib1"
      },
      "source": [
        ""
      ],
      "execution_count": null,
      "outputs": []
    },
    {
      "cell_type": "code",
      "metadata": {
        "id": "6VSmBdwT1ib4"
      },
      "source": [
        ""
      ],
      "execution_count": null,
      "outputs": []
    },
    {
      "cell_type": "code",
      "metadata": {
        "id": "dpacst2F1ib7"
      },
      "source": [
        ""
      ],
      "execution_count": null,
      "outputs": []
    },
    {
      "cell_type": "markdown",
      "metadata": {
        "id": "xM2gvBM11ib-"
      },
      "source": [
        "## 7. Use the model to translate\n",
        "Now it's time to put your model into practice! You should run your translation for five randomly sampled English sentences from the dataset. For each sentence, the process is as follows:\n",
        "* Preprocess and embed the English sentence according to the model requirements.\n",
        "* Pass the embedded sentence through the encoder to get the encoder hidden and cell states.\n",
        "* Starting with the special  `\"<start>\"` token, use this token and the final encoder hidden and cell states to get the one-step prediction from the decoder, as well as the decoder’s updated hidden and cell states.\n",
        "* Create a loop to get the next step prediction and updated hidden and cell states from the decoder, using the most recent hidden and cell states. Terminate the loop when the `\"<end>\"` token is emitted, or when the sentence has reached a maximum length.\n",
        "* Decode the output token sequence into German text and print the English text and the model's German translation."
      ]
    },
    {
      "cell_type": "code",
      "metadata": {
        "id": "bGnQtE7L1icA"
      },
      "source": [
        ""
      ],
      "execution_count": null,
      "outputs": []
    },
    {
      "cell_type": "code",
      "metadata": {
        "id": "ohleJRcJ1icD"
      },
      "source": [
        ""
      ],
      "execution_count": null,
      "outputs": []
    },
    {
      "cell_type": "code",
      "metadata": {
        "id": "Unk60cEy1icI"
      },
      "source": [
        ""
      ],
      "execution_count": null,
      "outputs": []
    }
  ]
}