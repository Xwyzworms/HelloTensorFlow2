{
  "nbformat": 4,
  "nbformat_minor": 0,
  "metadata": {
    "kernelspec": {
      "display_name": "Python 3",
      "language": "python",
      "name": "python3"
    },
    "language_info": {
      "codemirror_mode": {
        "name": "ipython",
        "version": 3
      },
      "file_extension": ".py",
      "mimetype": "text/x-python",
      "name": "python",
      "nbconvert_exporter": "python",
      "pygments_lexer": "ipython3",
      "version": "3.7.1"
    },
    "colab": {
      "name": " Coding Tutorial.ipynb",
      "provenance": [],
      "collapsed_sections": [
        "yrX43gwPJDL-",
        "MHcNqGnWJDMH"
      ]
    },
    "accelerator": "GPU"
  },
  "cells": [
    {
      "cell_type": "code",
      "metadata": {
        "id": "Dk88Aw4NJDIy",
        "outputId": "76fc0963-1061-4861-eca7-ca03935507ec",
        "colab": {
          "base_uri": "https://localhost:8080/",
          "height": 54
        }
      },
      "source": [
        "%tensorflow_version 2.x\n",
        "import tensorflow as tf\n",
        "print(tf.__version__)\n",
        "\n",
        "print('GPU name: {}'.format(tf.test.gpu_device_name()))"
      ],
      "execution_count": 5,
      "outputs": [
        {
          "output_type": "stream",
          "text": [
            "2.3.0\n",
            "GPU name: /device:GPU:0\n"
          ],
          "name": "stdout"
        }
      ]
    },
    {
      "cell_type": "markdown",
      "metadata": {
        "id": "qQb8nVqLJDI5"
      },
      "source": [
        "# Sequence modelling \n",
        "\n",
        "## Coding tutorials\n",
        " #### 1.  The IMDb dataset\n",
        " #### 2. Padding and masking sequence data\n",
        " #### 3. The `Embedding` layer\n",
        " #### 4. The Embedding Projector\n",
        " #### 5. Recurrent neural network layers\n",
        " #### 6. Stacked RNNs and the `Bidirectional` wrapper"
      ]
    },
    {
      "cell_type": "markdown",
      "metadata": {
        "id": "9b3PNw3gJDI7"
      },
      "source": [
        "***\n",
        "<a id=\"coding_tutorial_1\"></a>\n",
        "## The IMDb Dataset"
      ]
    },
    {
      "cell_type": "markdown",
      "metadata": {
        "id": "ZwqGZQ8WJDJF"
      },
      "source": [
        "#### Load the IMDB review sentiment dataset"
      ]
    },
    {
      "cell_type": "code",
      "metadata": {
        "id": "g3_c1LL5JDJG"
      },
      "source": [
        "# Import imdb\n",
        "\n",
        "import tensorflow.keras.datasets.imdb as imdb"
      ],
      "execution_count": null,
      "outputs": []
    },
    {
      "cell_type": "code",
      "metadata": {
        "id": "_9jYJCwXJDJK"
      },
      "source": [
        "# Download and assign the data set using load_data()\n",
        "\n",
        "(x_train, y_train) ,(x_test, y_test) = imdb.load_data()"
      ],
      "execution_count": null,
      "outputs": []
    },
    {
      "cell_type": "markdown",
      "metadata": {
        "id": "0oCnB8UMJDJP"
      },
      "source": [
        "#### Inspect the dataset"
      ]
    },
    {
      "cell_type": "code",
      "metadata": {
        "id": "39RwIt-pJDJQ"
      },
      "source": [
        "# Inspect the type of the data\n",
        "\n",
        "\n",
        "print(type(x_train))"
      ],
      "execution_count": null,
      "outputs": []
    },
    {
      "cell_type": "code",
      "metadata": {
        "id": "Viryy_PDJDJU"
      },
      "source": [
        "# Inspect the shape of the data\n",
        "\n",
        "print(x_train.shape,y_train.shape,x_test.shape)"
      ],
      "execution_count": null,
      "outputs": []
    },
    {
      "cell_type": "code",
      "metadata": {
        "id": "onBbnpGhFh0q"
      },
      "source": [
        ""
      ],
      "execution_count": null,
      "outputs": []
    },
    {
      "cell_type": "code",
      "metadata": {
        "id": "5q6E6v-FJDJX"
      },
      "source": [
        "# Display the first dataset element input\n",
        "# Notice encoding\n",
        "\n",
        "# Display the first dataset element input\n",
        "# Notice encoding\n",
        "x_train[0]\n"
      ],
      "execution_count": null,
      "outputs": []
    },
    {
      "cell_type": "code",
      "metadata": {
        "id": "_lbEqyjxJDJc"
      },
      "source": [
        "# Display the first dataset element output\n",
        "y_train[0]\n"
      ],
      "execution_count": null,
      "outputs": []
    },
    {
      "cell_type": "markdown",
      "metadata": {
        "id": "ZAk-PyOgJDJg"
      },
      "source": [
        "#### Load dataset with different options"
      ]
    },
    {
      "cell_type": "code",
      "metadata": {
        "id": "mfzFxDj-JDJh"
      },
      "source": [
        "# Load the dataset with defaults\n",
        "imdb.load_data(path=\"imdb.npz\",index_from=3) # Top Vocab ambil yang ke 4 , 1 + 3 \n",
        "\n",
        "# ~/.keras/dataset/"
      ],
      "execution_count": null,
      "outputs": []
    },
    {
      "cell_type": "code",
      "metadata": {
        "id": "kuGfzZg3JDJv"
      },
      "source": [
        "# Limit the vocabulary to the top 500 words using num_words\n",
        "imdb.load_data(num_words = 500)\n"
      ],
      "execution_count": null,
      "outputs": []
    },
    {
      "cell_type": "code",
      "metadata": {
        "id": "pMkXgUGaJDJy"
      },
      "source": [
        "# Ignore the top 10 most frequent words using skip_top\n",
        "imdb.load_data(skip_top=10)\n"
      ],
      "execution_count": null,
      "outputs": []
    },
    {
      "cell_type": "code",
      "metadata": {
        "id": "UBDAFt0FJDJ3"
      },
      "source": [
        "# Limit the sequence lengths to 500 using maxlen\n",
        " \n",
        "imdb.load_data(maxlen=500) # only 500 words per sentiment"
      ],
      "execution_count": null,
      "outputs": []
    },
    {
      "cell_type": "code",
      "metadata": {
        "id": "DI-Nr897LorW"
      },
      "source": [
        "# Use '1' as the character that indicates the start of a sequence\n",
        "imdb.load_data(start_char=3) # 3 will appear in every dataset.\n"
      ],
      "execution_count": null,
      "outputs": []
    },
    {
      "cell_type": "markdown",
      "metadata": {
        "id": "AuBCKKGyJDJ7"
      },
      "source": [
        "#### Explore the dataset word index"
      ]
    },
    {
      "cell_type": "code",
      "metadata": {
        "id": "_gkaFf6MJDJ9"
      },
      "source": [
        "# Load the imdb word index using get_word_index()\n",
        "\n",
        "imdb_word_index = imdb.get_word_index()"
      ],
      "execution_count": null,
      "outputs": []
    },
    {
      "cell_type": "code",
      "metadata": {
        "id": "EUzgAIoKJDKB"
      },
      "source": [
        "# View the word index as a dictionary,\n",
        "# accounting for index_from.\n",
        "\n",
        "index_from = 3\n",
        "imdb_word_index = {key: value + index_from for key, value in imdb_word_index.items()}\n",
        "imdb_word_index"
      ],
      "execution_count": null,
      "outputs": []
    },
    {
      "cell_type": "code",
      "metadata": {
        "id": "huCi_QIzJDKL"
      },
      "source": [
        "# Retrieve a specific word's index\n",
        "Inverted_dict_index = {value:key for key,value in imdb_word_index.items()} \n",
        "[Inverted_dict_index[key] for key in x_train[0] if key > index_from]\n"
      ],
      "execution_count": null,
      "outputs": []
    },
    {
      "cell_type": "code",
      "metadata": {
        "id": "p7UkZwHiJDKU"
      },
      "source": [
        "# View an input sentence\n",
        "\n",
        "[Inverted_dict_index[key] for key in x_train[7] if key > index_from]\n"
      ],
      "execution_count": null,
      "outputs": []
    },
    {
      "cell_type": "code",
      "metadata": {
        "id": "qq2ID8wRJDKX"
      },
      "source": [
        "# Get the sentiment value\n",
        "\n",
        "y_train[0] , y_train[7]"
      ],
      "execution_count": null,
      "outputs": []
    },
    {
      "cell_type": "markdown",
      "metadata": {
        "id": "hcPUtmz-JDKZ"
      },
      "source": [
        "---\n",
        "<a id=\"coding_tutorial_2\"></a>\n",
        "## Padding and Masking Sequence Data"
      ]
    },
    {
      "cell_type": "code",
      "metadata": {
        "id": "5UggNd-8VLgV"
      },
      "source": [
        "# Load the imdb data set\n",
        "\n",
        "import tensorflow.keras.datasets.imdb as imdb\n",
        "(x_train,y_train) , (x_test,y_test) = imdb.load_data()"
      ],
      "execution_count": null,
      "outputs": []
    },
    {
      "cell_type": "markdown",
      "metadata": {
        "id": "NuqWhXi-JDKa"
      },
      "source": [
        "#### Preprocess the data with padding"
      ]
    },
    {
      "cell_type": "code",
      "metadata": {
        "id": "fWULtJ7CJDKe"
      },
      "source": [
        "# Inspect the input data shape\n",
        "\n",
        "x_train.shape"
      ],
      "execution_count": null,
      "outputs": []
    },
    {
      "cell_type": "code",
      "metadata": {
        "id": "OOts_k01JDKh"
      },
      "source": [
        "# Pad the inputs to the maximum length using maxlen\n",
        "\n",
        "padded_x_train = tf.keras.preprocessing.sequence.pad_sequences(x_train,maxlen = 300, padding=\"post\", truncating=\"pre\")\n"
      ],
      "execution_count": null,
      "outputs": []
    },
    {
      "cell_type": "code",
      "metadata": {
        "id": "rNPiMGwDJDKk"
      },
      "source": [
        "# Inspect the output data shape\n",
        "\n",
        "padded_x_train[0] , x_train[0]"
      ],
      "execution_count": null,
      "outputs": []
    },
    {
      "cell_type": "markdown",
      "metadata": {
        "id": "AJt56letJDKn"
      },
      "source": [
        "#### Create a Masking layer"
      ]
    },
    {
      "cell_type": "code",
      "metadata": {
        "id": "ZdoMdifYJDKo"
      },
      "source": [
        "# Import numpy \n",
        "\n",
        "import numpy as np"
      ],
      "execution_count": null,
      "outputs": []
    },
    {
      "cell_type": "code",
      "metadata": {
        "id": "v8LjX9QaJDKr"
      },
      "source": [
        "# Masking expects to see (batch, sequence, features)\n",
        "# Create a dummy feature dimension using expand_dims\n",
        "padded_x_train = np.expand_dims(padded_x_train,axis = -1)\n",
        "padded_x_train"
      ],
      "execution_count": null,
      "outputs": []
    },
    {
      "cell_type": "code",
      "metadata": {
        "id": "uFrgXbDrJDKt"
      },
      "source": [
        "# Create a Masking layer \n",
        "\n",
        "tf_x_train = tf.convert_to_tensor(padded_x_train, dtype = tf.float32)\n",
        "masking_layer = tf.keras.layers.Masking(mask_value = 0.0)\n"
      ],
      "execution_count": null,
      "outputs": []
    },
    {
      "cell_type": "code",
      "metadata": {
        "id": "9kkSzdHwJDKw"
      },
      "source": [
        "# Pass tf_x_train to it\n",
        "masked_x_train = masking_layer(tf_x_train)\n"
      ],
      "execution_count": null,
      "outputs": []
    },
    {
      "cell_type": "code",
      "metadata": {
        "id": "MuStn9s0JDK0"
      },
      "source": [
        "# Look at the dataset\n",
        "\n",
        "tf_x_train[0]"
      ],
      "execution_count": null,
      "outputs": []
    },
    {
      "cell_type": "code",
      "metadata": {
        "id": "O54DVLx4JDK7"
      },
      "source": [
        "# Look at the ._keras_mask for the dataset\n",
        "\n",
        "masked_x_train._keras_mask"
      ],
      "execution_count": null,
      "outputs": []
    },
    {
      "cell_type": "markdown",
      "metadata": {
        "id": "Zo5rD5ZcJDK_"
      },
      "source": [
        "***\n",
        "<a id=\"coding_tutorial_3\"></a>\n",
        "## The Embedding layer"
      ]
    },
    {
      "cell_type": "markdown",
      "metadata": {
        "id": "JCkBOM8mJDLA"
      },
      "source": [
        "#### Create and apply an `Embedding` layer"
      ]
    },
    {
      "cell_type": "code",
      "metadata": {
        "id": "D-esPcdDJDLJ"
      },
      "source": [
        "# Create an embedding layer using layers.Embedding\n",
        "# Specify input_dim, output_dim, input_length\n",
        "embedding_layer = tf.keras.layers.Embedding(input_dim = 501,output_dim = 64,input_length=32)\n"
      ],
      "execution_count": null,
      "outputs": []
    },
    {
      "cell_type": "code",
      "metadata": {
        "id": "Sf3B6HamJDLN"
      },
      "source": [
        "# Inspect an Embedding layer output for a fixed input\n",
        "# Expects an input of shape (batch, sequence, feature)\n",
        "\n",
        "sequence_of_indices = tf.constant([[[0],\n",
        "                                    [1],\n",
        "                                    [5],\n",
        "                                    [500]]])\n",
        "EmbeddingSequences = embedding_layer(sequence_of_indices)\n",
        " \n",
        "sequence_of_indices.shape , EmbeddingSequences.shape"
      ],
      "execution_count": null,
      "outputs": []
    },
    {
      "cell_type": "code",
      "metadata": {
        "id": "ualmsaPpJDLV"
      },
      "source": [
        "# Inspect the Embedding layer weights using get_weights()\n",
        "import numpy as np\n",
        "np.array(embedding_layer.get_weights()).shape"
      ],
      "execution_count": null,
      "outputs": []
    },
    {
      "cell_type": "code",
      "metadata": {
        "id": "1Wadlt3AJDLX"
      },
      "source": [
        "# Get the embedding for the 14th index\n",
        "embedding_layer.get_weights()[0][14,:]\n"
      ],
      "execution_count": null,
      "outputs": []
    },
    {
      "cell_type": "markdown",
      "metadata": {
        "id": "UFuhReOm9xF7"
      },
      "source": [
        "#### Create and apply an `Embedding` layer that uses `mask_zero=True`"
      ]
    },
    {
      "cell_type": "code",
      "metadata": {
        "id": "nKYwKT_I-H2O"
      },
      "source": [
        "# Create a layer that uses the mask_zero kwarg\n",
        "\n",
        "masked_embedding_layer = tf.keras.layers.Embedding(input_dim = 501, output_dim = 64, mask_zero=True)"
      ],
      "execution_count": null,
      "outputs": []
    },
    {
      "cell_type": "code",
      "metadata": {
        "id": "6hc1zx6A-H6R"
      },
      "source": [
        "# Apply this layer to the sequence and see the _keras_mask property\n",
        "\n",
        "Sampis = masked_embedding_layer(sequence_of_indices)\n",
        "Sampis._keras_mask"
      ],
      "execution_count": null,
      "outputs": []
    },
    {
      "cell_type": "markdown",
      "metadata": {
        "id": "EUG6LF1MJDL0"
      },
      "source": [
        "---\n",
        "<a id=\"coding_tutorial_4\"></a>\n",
        "## The Embedding Projector"
      ]
    },
    {
      "cell_type": "markdown",
      "metadata": {
        "id": "Zna3TCoTAu00"
      },
      "source": [
        "#### Mount Google Drive"
      ]
    },
    {
      "cell_type": "code",
      "metadata": {
        "id": "qPKYrlepAxPV",
        "outputId": "6b0bb81b-7e95-4cb8-ecf7-5a2a94952c46",
        "colab": {
          "base_uri": "https://localhost:8080/",
          "height": 35
        }
      },
      "source": [
        "from google.colab import drive\n",
        "drive.mount('/content/drive')"
      ],
      "execution_count": null,
      "outputs": [
        {
          "output_type": "stream",
          "text": [
            "Mounted at /content/drive\n"
          ],
          "name": "stdout"
        }
      ]
    },
    {
      "cell_type": "markdown",
      "metadata": {
        "id": "OBAX9ENDBFFE"
      },
      "source": [
        "#### Load and preprocess the IMDb data"
      ]
    },
    {
      "cell_type": "code",
      "metadata": {
        "id": "yo5qBbDDBIdn"
      },
      "source": [
        "def get_and_pad_imdb_dataset(num_words=10000, maxlen=None, index_from=2):\n",
        "    import tensorflow.keras.datasets.imdb as imdb\n",
        "    # Load the reviews\n",
        "    (x_train, y_train), (x_test, y_test) = imdb.load_data(path='imdb.npz',\n",
        "                                                          num_words=num_words,\n",
        "                                                          skip_top=0,\n",
        "                                                          maxlen=maxlen,\n",
        "                                                          start_char=1,\n",
        "                                                          oov_char=2,\n",
        "                                                          index_from=index_from)\n",
        "\n",
        "\n",
        "    x_train = tf.keras.preprocessing.sequence.pad_sequences(x_train,\n",
        "                                                        maxlen=None,\n",
        "                                                        padding='pre',\n",
        "                                                        truncating='pre',\n",
        "                                                        value=0)\n",
        "    \n",
        "    x_test = tf.keras.preprocessing.sequence.pad_sequences(x_test,\n",
        "                                                           maxlen=None,\n",
        "                                                           padding='pre',\n",
        "                                                           truncating='pre',\n",
        "                                                           value=0)\n",
        "    return (x_train, y_train), (x_test, y_test)"
      ],
      "execution_count": null,
      "outputs": []
    },
    {
      "cell_type": "code",
      "metadata": {
        "id": "RGpymnb2BIiR"
      },
      "source": [
        "# Load the dataset\n",
        "\n",
        "(x_train,y_train), (x_test,y_test) = get_and_pad_imdb_dataset()"
      ],
      "execution_count": null,
      "outputs": []
    },
    {
      "cell_type": "code",
      "metadata": {
        "id": "5EtU2vK0BLts"
      },
      "source": [
        "# A function to get the dataset word index\n",
        "def get_imdb_word_index(num_words=100000, index_from=2):\n",
        "    imdb_word_index = tf.keras.datasets.imdb.get_word_index(\n",
        "                                        path='imdb_word_index.json')\n",
        "    \n",
        "    imdb_word_index = {key: value + index_from for key,value in imdb_word_index.items() if value + index_from < num_words}\n",
        "    \n",
        "    return imdb_word_index"
      ],
      "execution_count": null,
      "outputs": []
    },
    {
      "cell_type": "code",
      "metadata": {
        "id": "vtkIEIdRBSxv",
        "outputId": "e6f5da96-1072-47fc-d27d-d87423dbe562",
        "colab": {
          "base_uri": "https://localhost:8080/",
          "height": 35
        }
      },
      "source": [
        "# Get the word index\n",
        "\n",
        "imdb_word_index = get_imdb_word_index()\n",
        "                                        \n",
        "print(type(imdb_word_index))"
      ],
      "execution_count": null,
      "outputs": [
        {
          "output_type": "stream",
          "text": [
            "<class 'dict'>\n"
          ],
          "name": "stdout"
        }
      ]
    },
    {
      "cell_type": "code",
      "metadata": {
        "id": "Ur2fp10YBS6T",
        "outputId": "30a7bf6b-efbd-4475-fc72-75501d4fd3f2",
        "colab": {
          "base_uri": "https://localhost:8080/",
          "height": 1000
        }
      },
      "source": [
        "# Swap the keys and values of the word index\n",
        "Inverted_Word_index = {value: key for key,value in imdb_word_index.items()}\n",
        "Inverted_Word_index"
      ],
      "execution_count": null,
      "outputs": [
        {
          "output_type": "execute_result",
          "data": {
            "text/plain": [
              "{34703: 'fawn',\n",
              " 52008: 'tsukino',\n",
              " 52009: 'nunnery',\n",
              " 16818: 'sonja',\n",
              " 63953: 'vani',\n",
              " 1410: 'woods',\n",
              " 16117: 'spiders',\n",
              " 2347: 'hanging',\n",
              " 2291: 'woody',\n",
              " 52010: 'trawling',\n",
              " 52011: \"hold's\",\n",
              " 11309: 'comically',\n",
              " 40832: 'localized',\n",
              " 30570: 'disobeying',\n",
              " 52012: \"'royale\",\n",
              " 40833: \"harpo's\",\n",
              " 52013: 'canet',\n",
              " 19315: 'aileen',\n",
              " 52014: 'acurately',\n",
              " 52015: \"diplomat's\",\n",
              " 25244: 'rickman',\n",
              " 6748: 'arranged',\n",
              " 52016: 'rumbustious',\n",
              " 52017: 'familiarness',\n",
              " 52018: \"spider'\",\n",
              " 68806: 'hahahah',\n",
              " 52019: \"wood'\",\n",
              " 40835: 'transvestism',\n",
              " 34704: \"hangin'\",\n",
              " 2340: 'bringing',\n",
              " 40836: 'seamier',\n",
              " 34705: 'wooded',\n",
              " 52020: 'bravora',\n",
              " 16819: 'grueling',\n",
              " 1638: 'wooden',\n",
              " 16820: 'wednesday',\n",
              " 52021: \"'prix\",\n",
              " 34706: 'altagracia',\n",
              " 52022: 'circuitry',\n",
              " 11587: 'crotch',\n",
              " 57768: 'busybody',\n",
              " 52023: \"tart'n'tangy\",\n",
              " 14131: 'burgade',\n",
              " 52025: 'thrace',\n",
              " 11040: \"tom's\",\n",
              " 52027: 'snuggles',\n",
              " 29116: 'francesco',\n",
              " 52029: 'complainers',\n",
              " 52127: 'templarios',\n",
              " 40837: '272',\n",
              " 52030: '273',\n",
              " 52132: 'zaniacs',\n",
              " 34708: '275',\n",
              " 27633: 'consenting',\n",
              " 40838: 'snuggled',\n",
              " 15494: 'inanimate',\n",
              " 52032: 'uality',\n",
              " 11928: 'bronte',\n",
              " 4012: 'errors',\n",
              " 3232: 'dialogs',\n",
              " 52033: \"yomada's\",\n",
              " 34709: \"madman's\",\n",
              " 30587: 'dialoge',\n",
              " 52035: 'usenet',\n",
              " 40839: 'videodrome',\n",
              " 26340: \"kid'\",\n",
              " 52036: 'pawed',\n",
              " 30571: \"'girlfriend'\",\n",
              " 52037: \"'pleasure\",\n",
              " 52038: \"'reloaded'\",\n",
              " 40841: \"kazakos'\",\n",
              " 52039: 'rocque',\n",
              " 52040: 'mailings',\n",
              " 11929: 'brainwashed',\n",
              " 16821: 'mcanally',\n",
              " 52041: \"tom''\",\n",
              " 25245: 'kurupt',\n",
              " 21907: 'affiliated',\n",
              " 52042: 'babaganoosh',\n",
              " 40842: \"noe's\",\n",
              " 40843: 'quart',\n",
              " 361: 'kids',\n",
              " 5036: 'uplifting',\n",
              " 7095: 'controversy',\n",
              " 21908: 'kida',\n",
              " 23381: 'kidd',\n",
              " 52043: \"error'\",\n",
              " 52044: 'neurologist',\n",
              " 18512: 'spotty',\n",
              " 30572: 'cobblers',\n",
              " 9880: 'projection',\n",
              " 40844: 'fastforwarding',\n",
              " 52045: 'sters',\n",
              " 52046: \"eggar's\",\n",
              " 52047: 'etherything',\n",
              " 40845: 'gateshead',\n",
              " 34710: 'airball',\n",
              " 25246: 'unsinkable',\n",
              " 7182: 'stern',\n",
              " 52048: \"cervi's\",\n",
              " 40846: 'dnd',\n",
              " 11588: 'dna',\n",
              " 20600: 'insecurity',\n",
              " 52049: \"'reboot'\",\n",
              " 11039: 'trelkovsky',\n",
              " 52050: 'jaekel',\n",
              " 52051: 'sidebars',\n",
              " 52052: \"sforza's\",\n",
              " 17635: 'distortions',\n",
              " 52053: 'mutinies',\n",
              " 30604: 'sermons',\n",
              " 40848: '7ft',\n",
              " 52054: 'boobage',\n",
              " 52055: \"o'bannon's\",\n",
              " 23382: 'populations',\n",
              " 52056: 'chulak',\n",
              " 27635: 'mesmerize',\n",
              " 52057: 'quinnell',\n",
              " 10309: 'yahoo',\n",
              " 52059: 'meteorologist',\n",
              " 42579: 'beswick',\n",
              " 15495: 'boorman',\n",
              " 40849: 'voicework',\n",
              " 52060: \"ster'\",\n",
              " 22924: 'blustering',\n",
              " 52061: 'hj',\n",
              " 27636: 'intake',\n",
              " 5623: 'morally',\n",
              " 40851: 'jumbling',\n",
              " 52062: 'bowersock',\n",
              " 52063: \"'porky's'\",\n",
              " 16823: 'gershon',\n",
              " 40852: 'ludicrosity',\n",
              " 52064: 'coprophilia',\n",
              " 40853: 'expressively',\n",
              " 19502: \"india's\",\n",
              " 34712: \"post's\",\n",
              " 52065: 'wana',\n",
              " 5285: 'wang',\n",
              " 30573: 'wand',\n",
              " 25247: 'wane',\n",
              " 52323: 'edgeways',\n",
              " 34713: 'titanium',\n",
              " 40854: 'pinta',\n",
              " 180: 'want',\n",
              " 30574: 'pinto',\n",
              " 52067: 'whoopdedoodles',\n",
              " 21910: 'tchaikovsky',\n",
              " 2105: 'travel',\n",
              " 52068: \"'victory'\",\n",
              " 11930: 'copious',\n",
              " 22435: 'gouge',\n",
              " 52069: \"chapters'\",\n",
              " 6704: 'barbra',\n",
              " 30575: 'uselessness',\n",
              " 52070: \"wan'\",\n",
              " 27637: 'assimilated',\n",
              " 16118: 'petiot',\n",
              " 52071: 'most\\x85and',\n",
              " 3932: 'dinosaurs',\n",
              " 354: 'wrong',\n",
              " 52072: 'seda',\n",
              " 52073: 'stollen',\n",
              " 34714: 'sentencing',\n",
              " 40855: 'ouroboros',\n",
              " 40856: 'assimilates',\n",
              " 40857: 'colorfully',\n",
              " 27638: 'glenne',\n",
              " 52074: 'dongen',\n",
              " 4762: 'subplots',\n",
              " 52075: 'kiloton',\n",
              " 23383: 'chandon',\n",
              " 34715: \"effect'\",\n",
              " 27639: 'snugly',\n",
              " 40858: 'kuei',\n",
              " 9094: 'welcomed',\n",
              " 30073: 'dishonor',\n",
              " 52077: 'concurrence',\n",
              " 23384: 'stoicism',\n",
              " 14898: \"guys'\",\n",
              " 52079: \"beroemd'\",\n",
              " 6705: 'butcher',\n",
              " 40859: \"melfi's\",\n",
              " 30625: 'aargh',\n",
              " 20601: 'playhouse',\n",
              " 11310: 'wickedly',\n",
              " 1182: 'fit',\n",
              " 52080: 'labratory',\n",
              " 40861: 'lifeline',\n",
              " 1929: 'screaming',\n",
              " 4289: 'fix',\n",
              " 52081: 'cineliterate',\n",
              " 52082: 'fic',\n",
              " 52083: 'fia',\n",
              " 34716: 'fig',\n",
              " 52084: 'fmvs',\n",
              " 52085: 'fie',\n",
              " 52086: 'reentered',\n",
              " 30576: 'fin',\n",
              " 52087: 'doctresses',\n",
              " 52088: 'fil',\n",
              " 12608: 'zucker',\n",
              " 31933: 'ached',\n",
              " 52090: 'counsil',\n",
              " 52091: 'paterfamilias',\n",
              " 13887: 'songwriter',\n",
              " 34717: 'shivam',\n",
              " 9656: 'hurting',\n",
              " 301: 'effects',\n",
              " 52092: 'slauther',\n",
              " 52093: \"'flame'\",\n",
              " 52094: 'sommerset',\n",
              " 52095: 'interwhined',\n",
              " 27640: 'whacking',\n",
              " 52096: 'bartok',\n",
              " 8777: 'barton',\n",
              " 21911: 'frewer',\n",
              " 52097: \"fi'\",\n",
              " 6194: 'ingrid',\n",
              " 30577: 'stribor',\n",
              " 52098: 'approporiately',\n",
              " 52099: 'wobblyhand',\n",
              " 52100: 'tantalisingly',\n",
              " 52101: 'ankylosaurus',\n",
              " 17636: 'parasites',\n",
              " 52102: 'childen',\n",
              " 52103: \"jenkins'\",\n",
              " 52104: 'metafiction',\n",
              " 17637: 'golem',\n",
              " 40862: 'indiscretion',\n",
              " 23385: \"reeves'\",\n",
              " 57783: \"inamorata's\",\n",
              " 52106: 'brittannica',\n",
              " 7918: 'adapt',\n",
              " 30578: \"russo's\",\n",
              " 48248: 'guitarists',\n",
              " 10555: 'abbott',\n",
              " 40863: 'abbots',\n",
              " 17651: 'lanisha',\n",
              " 40865: 'magickal',\n",
              " 52107: 'mattter',\n",
              " 52108: \"'willy\",\n",
              " 34718: 'pumpkins',\n",
              " 52109: 'stuntpeople',\n",
              " 30579: 'estimate',\n",
              " 40866: 'ugghhh',\n",
              " 11311: 'gameplay',\n",
              " 52110: \"wern't\",\n",
              " 40867: \"n'sync\",\n",
              " 16119: 'sickeningly',\n",
              " 40868: 'chiara',\n",
              " 4013: 'disturbed',\n",
              " 40869: 'portmanteau',\n",
              " 52111: 'ineffectively',\n",
              " 82145: \"duchonvey's\",\n",
              " 37521: \"nasty'\",\n",
              " 1287: 'purpose',\n",
              " 52114: 'lazers',\n",
              " 28107: 'lightened',\n",
              " 52115: 'kaliganj',\n",
              " 52116: 'popularism',\n",
              " 18513: \"damme's\",\n",
              " 30580: 'stylistics',\n",
              " 52117: 'mindgaming',\n",
              " 46451: 'spoilerish',\n",
              " 52119: \"'corny'\",\n",
              " 34720: 'boerner',\n",
              " 6794: 'olds',\n",
              " 52120: 'bakelite',\n",
              " 27641: 'renovated',\n",
              " 27642: 'forrester',\n",
              " 52121: \"lumiere's\",\n",
              " 52026: 'gaskets',\n",
              " 886: 'needed',\n",
              " 34721: 'smight',\n",
              " 1299: 'master',\n",
              " 25907: \"edie's\",\n",
              " 40870: 'seeber',\n",
              " 52122: 'hiya',\n",
              " 52123: 'fuzziness',\n",
              " 14899: 'genesis',\n",
              " 12609: 'rewards',\n",
              " 30581: 'enthrall',\n",
              " 40871: \"'about\",\n",
              " 52124: \"recollection's\",\n",
              " 11041: 'mutilated',\n",
              " 52125: 'fatherlands',\n",
              " 52126: \"fischer's\",\n",
              " 5401: 'positively',\n",
              " 34707: '270',\n",
              " 34722: 'ahmed',\n",
              " 9838: 'zatoichi',\n",
              " 13888: 'bannister',\n",
              " 52129: 'anniversaries',\n",
              " 30582: \"helm's\",\n",
              " 52130: \"'work'\",\n",
              " 34723: 'exclaimed',\n",
              " 52131: \"'unfunny'\",\n",
              " 52031: '274',\n",
              " 546: 'feeling',\n",
              " 52133: \"wanda's\",\n",
              " 33268: 'dolan',\n",
              " 52135: '278',\n",
              " 52136: 'peacoat',\n",
              " 40872: 'brawny',\n",
              " 40873: 'mishra',\n",
              " 40874: 'worlders',\n",
              " 52137: 'protags',\n",
              " 52138: 'skullcap',\n",
              " 57598: 'dastagir',\n",
              " 5624: 'affairs',\n",
              " 7801: 'wholesome',\n",
              " 52139: 'hymen',\n",
              " 25248: 'paramedics',\n",
              " 52140: 'unpersons',\n",
              " 52141: 'heavyarms',\n",
              " 52142: 'affaire',\n",
              " 52143: 'coulisses',\n",
              " 40875: 'hymer',\n",
              " 52144: 'kremlin',\n",
              " 30583: 'shipments',\n",
              " 52145: 'pixilated',\n",
              " 30584: \"'00s\",\n",
              " 18514: 'diminishing',\n",
              " 1359: 'cinematic',\n",
              " 14900: 'resonates',\n",
              " 40876: 'simplify',\n",
              " 40877: \"nature'\",\n",
              " 40878: 'temptresses',\n",
              " 16824: 'reverence',\n",
              " 19504: 'resonated',\n",
              " 34724: 'dailey',\n",
              " 52146: '2\\x85',\n",
              " 27643: 'treize',\n",
              " 52147: 'majo',\n",
              " 21912: 'kiya',\n",
              " 52148: 'woolnough',\n",
              " 39799: 'thanatos',\n",
              " 35733: 'sandoval',\n",
              " 40881: 'dorama',\n",
              " 52149: \"o'shaughnessy\",\n",
              " 4990: 'tech',\n",
              " 32020: 'fugitives',\n",
              " 30585: 'teck',\n",
              " 76127: \"'e'\",\n",
              " 40883: 'doesn’t',\n",
              " 52151: 'purged',\n",
              " 659: 'saying',\n",
              " 41097: \"martians'\",\n",
              " 23420: 'norliss',\n",
              " 27644: 'dickey',\n",
              " 52154: 'dicker',\n",
              " 52155: \"'sependipity\",\n",
              " 8424: 'padded',\n",
              " 57794: 'ordell',\n",
              " 40884: \"sturges'\",\n",
              " 52156: 'independentcritics',\n",
              " 5747: 'tempted',\n",
              " 34726: \"atkinson's\",\n",
              " 25249: 'hounded',\n",
              " 52157: 'apace',\n",
              " 15496: 'clicked',\n",
              " 30586: \"'humor'\",\n",
              " 17179: \"martino's\",\n",
              " 52158: \"'supporting\",\n",
              " 52034: 'warmongering',\n",
              " 34727: \"zemeckis's\",\n",
              " 21913: 'lube',\n",
              " 52159: 'shocky',\n",
              " 7478: 'plate',\n",
              " 40885: 'plata',\n",
              " 40886: 'sturgess',\n",
              " 40887: \"nerds'\",\n",
              " 20602: 'plato',\n",
              " 34728: 'plath',\n",
              " 40888: 'platt',\n",
              " 52161: 'mcnab',\n",
              " 27645: 'clumsiness',\n",
              " 3901: 'altogether',\n",
              " 42586: 'massacring',\n",
              " 52162: 'bicenntinial',\n",
              " 40889: 'skaal',\n",
              " 14362: 'droning',\n",
              " 8778: 'lds',\n",
              " 21914: 'jaguar',\n",
              " 34729: \"cale's\",\n",
              " 1779: 'nicely',\n",
              " 4590: 'mummy',\n",
              " 18515: \"lot's\",\n",
              " 10088: 'patch',\n",
              " 50204: 'kerkhof',\n",
              " 52163: \"leader's\",\n",
              " 27646: \"'movie\",\n",
              " 52164: 'uncomfirmed',\n",
              " 40890: 'heirloom',\n",
              " 47362: 'wrangle',\n",
              " 52165: 'emotion\\x85',\n",
              " 52166: \"'stargate'\",\n",
              " 40891: 'pinoy',\n",
              " 40892: 'conchatta',\n",
              " 41130: 'broeke',\n",
              " 40893: 'advisedly',\n",
              " 17638: \"barker's\",\n",
              " 52168: 'descours',\n",
              " 774: 'lots',\n",
              " 9261: 'lotr',\n",
              " 9881: 'irs',\n",
              " 52169: 'lott',\n",
              " 40894: 'xvi',\n",
              " 34730: 'irk',\n",
              " 52170: 'irl',\n",
              " 6889: 'ira',\n",
              " 21915: 'belzer',\n",
              " 52171: 'irc',\n",
              " 27647: 'ire',\n",
              " 40895: 'requisites',\n",
              " 7695: 'discipline',\n",
              " 52963: 'lyoko',\n",
              " 11312: 'extend',\n",
              " 875: 'nature',\n",
              " 52172: \"'dickie'\",\n",
              " 40896: 'optimist',\n",
              " 30588: 'lapping',\n",
              " 3902: 'superficial',\n",
              " 52173: 'vestment',\n",
              " 2825: 'extent',\n",
              " 52174: 'tendons',\n",
              " 52175: \"heller's\",\n",
              " 52176: 'quagmires',\n",
              " 52177: 'miyako',\n",
              " 20603: 'moocow',\n",
              " 52178: \"coles'\",\n",
              " 40897: 'lookit',\n",
              " 52179: 'ravenously',\n",
              " 40898: 'levitating',\n",
              " 52180: 'perfunctorily',\n",
              " 30589: 'lookin',\n",
              " 40900: \"lot'\",\n",
              " 52181: 'lookie',\n",
              " 34872: 'fearlessly',\n",
              " 52183: 'libyan',\n",
              " 40901: 'fondles',\n",
              " 35716: 'gopher',\n",
              " 40903: 'wearying',\n",
              " 52184: \"nz's\",\n",
              " 27648: 'minuses',\n",
              " 52185: 'puposelessly',\n",
              " 52186: 'shandling',\n",
              " 31270: 'decapitates',\n",
              " 11931: 'humming',\n",
              " 40904: \"'nother\",\n",
              " 21916: 'smackdown',\n",
              " 30590: 'underdone',\n",
              " 40905: 'frf',\n",
              " 52187: 'triviality',\n",
              " 25250: 'fro',\n",
              " 8779: 'bothers',\n",
              " 52188: \"'kensington\",\n",
              " 75: 'much',\n",
              " 34732: 'muco',\n",
              " 22617: 'wiseguy',\n",
              " 27650: \"richie's\",\n",
              " 40906: 'tonino',\n",
              " 52189: 'unleavened',\n",
              " 11589: 'fry',\n",
              " 40907: \"'tv'\",\n",
              " 40908: 'toning',\n",
              " 14363: 'obese',\n",
              " 30591: 'sensationalized',\n",
              " 40909: 'spiv',\n",
              " 6261: 'spit',\n",
              " 7366: 'arkin',\n",
              " 21917: 'charleton',\n",
              " 16825: 'jeon',\n",
              " 21918: 'boardroom',\n",
              " 4991: 'doubts',\n",
              " 3086: 'spin',\n",
              " 53085: 'hepo',\n",
              " 27651: 'wildcat',\n",
              " 10586: 'venoms',\n",
              " 52193: 'misconstrues',\n",
              " 18516: 'mesmerising',\n",
              " 40910: 'misconstrued',\n",
              " 52194: 'rescinds',\n",
              " 52195: 'prostrate',\n",
              " 40911: 'majid',\n",
              " 16481: 'climbed',\n",
              " 34733: 'canoeing',\n",
              " 52197: 'majin',\n",
              " 57806: 'animie',\n",
              " 40912: 'sylke',\n",
              " 14901: 'conditioned',\n",
              " 40913: 'waddell',\n",
              " 52198: '3\\x85',\n",
              " 41190: 'hyperdrive',\n",
              " 34734: 'conditioner',\n",
              " 53155: 'bricklayer',\n",
              " 2578: 'hong',\n",
              " 52200: 'memoriam',\n",
              " 30594: 'inventively',\n",
              " 25251: \"levant's\",\n",
              " 20640: 'portobello',\n",
              " 52202: 'remand',\n",
              " 19506: 'mummified',\n",
              " 27652: 'honk',\n",
              " 19507: 'spews',\n",
              " 40914: 'visitations',\n",
              " 52203: 'mummifies',\n",
              " 25252: 'cavanaugh',\n",
              " 23387: 'zeon',\n",
              " 40915: \"jungle's\",\n",
              " 34735: 'viertel',\n",
              " 27653: 'frenchmen',\n",
              " 52204: 'torpedoes',\n",
              " 52205: 'schlessinger',\n",
              " 34736: 'torpedoed',\n",
              " 69878: 'blister',\n",
              " 52206: 'cinefest',\n",
              " 34737: 'furlough',\n",
              " 52207: 'mainsequence',\n",
              " 40916: 'mentors',\n",
              " 9096: 'academic',\n",
              " 20604: 'stillness',\n",
              " 40917: 'academia',\n",
              " 52208: 'lonelier',\n",
              " 52209: 'nibby',\n",
              " 52210: \"losers'\",\n",
              " 40918: 'cineastes',\n",
              " 4451: 'corporate',\n",
              " 40919: 'massaging',\n",
              " 30595: 'bellow',\n",
              " 19508: 'absurdities',\n",
              " 53243: 'expetations',\n",
              " 40920: 'nyfiken',\n",
              " 75640: 'mehras',\n",
              " 52211: 'lasse',\n",
              " 52212: 'visability',\n",
              " 33948: 'militarily',\n",
              " 52213: \"elder'\",\n",
              " 19025: 'gainsbourg',\n",
              " 20605: 'hah',\n",
              " 13422: 'hai',\n",
              " 34738: 'haj',\n",
              " 25253: 'hak',\n",
              " 4313: 'hal',\n",
              " 4894: 'ham',\n",
              " 53261: 'duffer',\n",
              " 52215: 'haa',\n",
              " 68: 'had',\n",
              " 11932: 'advancement',\n",
              " 16827: 'hag',\n",
              " 25254: \"hand'\",\n",
              " 13423: 'hay',\n",
              " 20606: 'mcnamara',\n",
              " 52216: \"mozart's\",\n",
              " 30733: 'duffel',\n",
              " 30596: 'haq',\n",
              " 13889: 'har',\n",
              " 46: 'has',\n",
              " 2403: 'hat',\n",
              " 40921: 'hav',\n",
              " 30597: 'haw',\n",
              " 52217: 'figtings',\n",
              " 15497: 'elders',\n",
              " 52218: 'underpanted',\n",
              " 52219: 'pninson',\n",
              " 27654: 'unequivocally',\n",
              " 23675: \"barbara's\",\n",
              " 52221: \"bello'\",\n",
              " 12999: 'indicative',\n",
              " 40922: 'yawnfest',\n",
              " 52222: 'hexploitation',\n",
              " 52223: \"loder's\",\n",
              " 27655: 'sleuthing',\n",
              " 32624: \"justin's\",\n",
              " 52224: \"'ball\",\n",
              " 52225: \"'summer\",\n",
              " 34937: \"'demons'\",\n",
              " 52227: \"mormon's\",\n",
              " 34739: \"laughton's\",\n",
              " 52228: 'debell',\n",
              " 39726: 'shipyard',\n",
              " 30599: 'unabashedly',\n",
              " 40403: 'disks',\n",
              " 2292: 'crowd',\n",
              " 10089: 'crowe',\n",
              " 56436: \"vancouver's\",\n",
              " 34740: 'mosques',\n",
              " 6629: 'crown',\n",
              " 52229: 'culpas',\n",
              " 27656: 'crows',\n",
              " 53346: 'surrell',\n",
              " 52231: 'flowless',\n",
              " 52232: 'sheirk',\n",
              " 40925: \"'three\",\n",
              " 52233: \"peterson'\",\n",
              " 52234: 'ooverall',\n",
              " 40926: 'perchance',\n",
              " 1323: 'bottom',\n",
              " 53365: 'chabert',\n",
              " 52235: 'sneha',\n",
              " 13890: 'inhuman',\n",
              " 52236: 'ichii',\n",
              " 52237: 'ursla',\n",
              " 30600: 'completly',\n",
              " 40927: 'moviedom',\n",
              " 52238: 'raddick',\n",
              " 51997: 'brundage',\n",
              " 40928: 'brigades',\n",
              " 1183: 'starring',\n",
              " 52239: \"'goal'\",\n",
              " 52240: 'caskets',\n",
              " 52241: 'willcock',\n",
              " 52242: \"threesome's\",\n",
              " 52243: \"mosque'\",\n",
              " 52244: \"cover's\",\n",
              " 17639: 'spaceships',\n",
              " 40929: 'anomalous',\n",
              " 27657: 'ptsd',\n",
              " 52245: 'shirdan',\n",
              " 21964: 'obscenity',\n",
              " 30601: 'lemmings',\n",
              " 30602: 'duccio',\n",
              " 52246: \"levene's\",\n",
              " 52247: \"'gorby'\",\n",
              " 25257: \"teenager's\",\n",
              " 5342: 'marshall',\n",
              " 9097: 'honeymoon',\n",
              " 3233: 'shoots',\n",
              " 12260: 'despised',\n",
              " 52248: 'okabasho',\n",
              " 8291: 'fabric',\n",
              " 18517: 'cannavale',\n",
              " 3539: 'raped',\n",
              " 52249: \"tutt's\",\n",
              " 17640: 'grasping',\n",
              " 18518: 'despises',\n",
              " 40930: \"thief's\",\n",
              " 8928: 'rapes',\n",
              " 52250: 'raper',\n",
              " 27658: \"eyre'\",\n",
              " 52251: 'walchek',\n",
              " 23388: \"elmo's\",\n",
              " 40931: 'perfumes',\n",
              " 21920: 'spurting',\n",
              " 52252: \"exposition'\\x85\",\n",
              " 52253: 'denoting',\n",
              " 34742: 'thesaurus',\n",
              " 40932: \"shoot'\",\n",
              " 49761: 'bonejack',\n",
              " 52255: 'simpsonian',\n",
              " 30603: 'hebetude',\n",
              " 34743: \"hallow's\",\n",
              " 52256: 'desperation\\x85',\n",
              " 34744: 'incinerator',\n",
              " 10310: 'congratulations',\n",
              " 52257: 'humbled',\n",
              " 5926: \"else's\",\n",
              " 40847: 'trelkovski',\n",
              " 52258: \"rape'\",\n",
              " 59388: \"'chapters'\",\n",
              " 52259: '1600s',\n",
              " 7255: 'martian',\n",
              " 25258: 'nicest',\n",
              " 52261: 'eyred',\n",
              " 9459: 'passenger',\n",
              " 6043: 'disgrace',\n",
              " 52262: 'moderne',\n",
              " 5122: 'barrymore',\n",
              " 52263: 'yankovich',\n",
              " 40933: 'moderns',\n",
              " 52264: 'studliest',\n",
              " 52265: 'bedsheet',\n",
              " 14902: 'decapitation',\n",
              " 52266: 'slurring',\n",
              " 52267: \"'nunsploitation'\",\n",
              " 34745: \"'character'\",\n",
              " 9882: 'cambodia',\n",
              " 52268: 'rebelious',\n",
              " 27659: 'pasadena',\n",
              " 40934: 'crowne',\n",
              " 52269: \"'bedchamber\",\n",
              " 52270: 'conjectural',\n",
              " 52271: 'appologize',\n",
              " 52272: 'halfassing',\n",
              " 57818: 'paycheque',\n",
              " 20608: 'palms',\n",
              " 52273: \"'islands\",\n",
              " 40935: 'hawked',\n",
              " 21921: 'palme',\n",
              " 40936: 'conservatively',\n",
              " 64009: 'larp',\n",
              " 5560: 'palma',\n",
              " 21922: 'smelling',\n",
              " 13000: 'aragorn',\n",
              " 52274: 'hawker',\n",
              " 52275: 'hawkes',\n",
              " 3977: 'explosions',\n",
              " 8061: 'loren',\n",
              " 52276: \"pyle's\",\n",
              " 6706: 'shootout',\n",
              " 18519: \"mike's\",\n",
              " 52277: \"driscoll's\",\n",
              " 40937: 'cogsworth',\n",
              " 52278: \"britian's\",\n",
              " 34746: 'childs',\n",
              " 52279: \"portrait's\",\n",
              " 3628: 'chain',\n",
              " 2499: 'whoever',\n",
              " 52280: 'puttered',\n",
              " 52281: 'childe',\n",
              " 52282: 'maywether',\n",
              " 3038: 'chair',\n",
              " 52283: \"rance's\",\n",
              " 34747: 'machu',\n",
              " 4519: 'ballet',\n",
              " 34748: 'grapples',\n",
              " 76154: 'summerize',\n",
              " 30605: 'freelance',\n",
              " 52285: \"andrea's\",\n",
              " 52286: '\\x91very',\n",
              " 45881: 'coolidge',\n",
              " 18520: 'mache',\n",
              " 52287: 'balled',\n",
              " 40939: 'grappled',\n",
              " 18521: 'macha',\n",
              " 21923: 'underlining',\n",
              " 5625: 'macho',\n",
              " 19509: 'oversight',\n",
              " 25259: 'machi',\n",
              " 11313: 'verbally',\n",
              " 21924: 'tenacious',\n",
              " 40940: 'windshields',\n",
              " 18559: 'paychecks',\n",
              " 3398: 'jerk',\n",
              " 11933: \"good'\",\n",
              " 34750: 'prancer',\n",
              " 21925: 'prances',\n",
              " 52288: 'olympus',\n",
              " 21926: 'lark',\n",
              " 10787: 'embark',\n",
              " 7367: 'gloomy',\n",
              " 52289: 'jehaan',\n",
              " 52290: 'turaqui',\n",
              " 20609: \"child'\",\n",
              " 2896: 'locked',\n",
              " 52291: 'pranced',\n",
              " 2590: 'exact',\n",
              " 52292: 'unattuned',\n",
              " 785: 'minute',\n",
              " 16120: 'skewed',\n",
              " 40942: 'hodgins',\n",
              " 34751: 'skewer',\n",
              " 52293: 'think\\x85',\n",
              " 38767: 'rosenstein',\n",
              " 52294: 'helmit',\n",
              " 34752: 'wrestlemanias',\n",
              " 16828: 'hindered',\n",
              " 30606: \"martha's\",\n",
              " 52295: 'cheree',\n",
              " 52296: \"pluckin'\",\n",
              " 40943: 'ogles',\n",
              " 11934: 'heavyweight',\n",
              " 82192: 'aada',\n",
              " 11314: 'chopping',\n",
              " 61536: 'strongboy',\n",
              " 41344: 'hegemonic',\n",
              " 40944: 'adorns',\n",
              " 41348: 'xxth',\n",
              " 34753: 'nobuhiro',\n",
              " 52300: 'capitães',\n",
              " 52301: 'kavogianni',\n",
              " 13424: 'antwerp',\n",
              " 6540: 'celebrated',\n",
              " 52302: 'roarke',\n",
              " 40945: 'baggins',\n",
              " 31272: 'cheeseburgers',\n",
              " 52303: 'matras',\n",
              " 52304: \"nineties'\",\n",
              " 52305: \"'craig'\",\n",
              " 13001: 'celebrates',\n",
              " 3385: 'unintentionally',\n",
              " 14364: 'drafted',\n",
              " 52306: 'climby',\n",
              " 52307: '303',\n",
              " 18522: 'oldies',\n",
              " 9098: 'climbs',\n",
              " 9657: 'honour',\n",
              " 34754: 'plucking',\n",
              " 30076: '305',\n",
              " 5516: 'address',\n",
              " 40946: 'menjou',\n",
              " 42594: \"'freak'\",\n",
              " 19510: 'dwindling',\n",
              " 9460: 'benson',\n",
              " 52309: 'white’s',\n",
              " 40947: 'shamelessness',\n",
              " 21927: 'impacted',\n",
              " 52310: 'upatz',\n",
              " 3842: 'cusack',\n",
              " 37569: \"flavia's\",\n",
              " 52311: 'effette',\n",
              " 34755: 'influx',\n",
              " 52312: 'boooooooo',\n",
              " 52313: 'dimitrova',\n",
              " 13425: 'houseman',\n",
              " 25261: 'bigas',\n",
              " 52314: 'boylen',\n",
              " 52315: 'phillipenes',\n",
              " 40948: 'fakery',\n",
              " 27660: \"grandpa's\",\n",
              " 27661: 'darnell',\n",
              " 19511: 'undergone',\n",
              " 52317: 'handbags',\n",
              " 21928: 'perished',\n",
              " 37780: 'pooped',\n",
              " 27662: 'vigour',\n",
              " 3629: 'opposed',\n",
              " 52318: 'etude',\n",
              " 11801: \"caine's\",\n",
              " 52319: 'doozers',\n",
              " 34756: 'photojournals',\n",
              " 52320: 'perishes',\n",
              " 34757: 'constrains',\n",
              " 40950: 'migenes',\n",
              " 30607: 'consoled',\n",
              " 16829: 'alastair',\n",
              " 52321: 'wvs',\n",
              " 52322: 'ooooooh',\n",
              " 34758: 'approving',\n",
              " 40951: 'consoles',\n",
              " 52066: 'disparagement',\n",
              " 52324: 'futureistic',\n",
              " 52325: 'rebounding',\n",
              " 52326: \"'date\",\n",
              " 52327: 'gregoire',\n",
              " 21929: 'rutherford',\n",
              " 34759: 'americanised',\n",
              " 82198: 'novikov',\n",
              " 1044: 'following',\n",
              " 34760: 'munroe',\n",
              " 52328: \"morita'\",\n",
              " 52329: 'christenssen',\n",
              " 23108: 'oatmeal',\n",
              " 25262: 'fossey',\n",
              " 40952: 'livered',\n",
              " 13002: 'listens',\n",
              " 76166: \"'marci\",\n",
              " 52332: \"otis's\",\n",
              " 23389: 'thanking',\n",
              " 16021: 'maude',\n",
              " 34761: 'extensions',\n",
              " 52334: 'ameteurish',\n",
              " 52335: \"commender's\",\n",
              " 27663: 'agricultural',\n",
              " 4520: 'convincingly',\n",
              " 17641: 'fueled',\n",
              " 54016: 'mahattan',\n",
              " 40954: \"paris's\",\n",
              " 52338: 'vulkan',\n",
              " 52339: 'stapes',\n",
              " 52340: 'odysessy',\n",
              " 12261: 'harmon',\n",
              " 4254: 'surfing',\n",
              " 23496: 'halloran',\n",
              " 49582: 'unbelieveably',\n",
              " 52341: \"'offed'\",\n",
              " 30609: 'quadrant',\n",
              " 19512: 'inhabiting',\n",
              " 34762: 'nebbish',\n",
              " 40955: 'forebears',\n",
              " 34763: 'skirmish',\n",
              " 52342: 'ocassionally',\n",
              " 52343: \"'resist\",\n",
              " 21930: 'impactful',\n",
              " 52344: 'spicier',\n",
              " 40956: 'touristy',\n",
              " 52345: \"'football'\",\n",
              " 40957: 'webpage',\n",
              " 52347: 'exurbia',\n",
              " 52348: 'jucier',\n",
              " 14903: 'professors',\n",
              " 34764: 'structuring',\n",
              " 30610: 'jig',\n",
              " 40958: 'overlord',\n",
              " 25263: 'disconnect',\n",
              " 82203: 'sniffle',\n",
              " 40959: 'slimeball',\n",
              " 40960: 'jia',\n",
              " 16830: 'milked',\n",
              " 40961: 'banjoes',\n",
              " 1239: 'jim',\n",
              " 52350: 'workforces',\n",
              " 52351: 'jip',\n",
              " 52352: 'rotweiller',\n",
              " 34765: 'mundaneness',\n",
              " 52353: \"'ninja'\",\n",
              " 11042: \"dead'\",\n",
              " 40962: \"cipriani's\",\n",
              " 20610: 'modestly',\n",
              " 52354: \"professor'\",\n",
              " 40963: 'shacked',\n",
              " 34766: 'bashful',\n",
              " 23390: 'sorter',\n",
              " 16122: 'overpowering',\n",
              " 18523: 'workmanlike',\n",
              " 27664: 'henpecked',\n",
              " 18524: 'sorted',\n",
              " 52356: \"jōb's\",\n",
              " 52357: \"'always\",\n",
              " 34767: \"'baptists\",\n",
              " 52358: 'dreamcatchers',\n",
              " 52359: \"'silence'\",\n",
              " 21931: 'hickory',\n",
              " 52360: 'fun\\x97yet',\n",
              " 52361: 'breakumentary',\n",
              " 15498: 'didn',\n",
              " 52362: 'didi',\n",
              " 52363: 'pealing',\n",
              " 40964: 'dispite',\n",
              " 25264: \"italy's\",\n",
              " 21932: 'instability',\n",
              " 6541: 'quarter',\n",
              " 12610: 'quartet',\n",
              " 52364: 'padmé',\n",
              " 52365: \"'bleedmedry\",\n",
              " 52366: 'pahalniuk',\n",
              " 52367: 'honduras',\n",
              " 10788: 'bursting',\n",
              " 41467: \"pablo's\",\n",
              " 52369: 'irremediably',\n",
              " 40965: 'presages',\n",
              " 57834: 'bowlegged',\n",
              " 65185: 'dalip',\n",
              " 6262: 'entering',\n",
              " 76174: 'newsradio',\n",
              " 54152: 'presaged',\n",
              " 27665: \"giallo's\",\n",
              " 40966: 'bouyant',\n",
              " 52370: 'amerterish',\n",
              " 18525: 'rajni',\n",
              " 30612: 'leeves',\n",
              " 34769: 'macauley',\n",
              " 614: 'seriously',\n",
              " 52371: 'sugercoma',\n",
              " 52372: 'grimstead',\n",
              " 52373: \"'fairy'\",\n",
              " 30613: 'zenda',\n",
              " 52374: \"'twins'\",\n",
              " 17642: 'realisation',\n",
              " 27666: 'highsmith',\n",
              " 7819: 'raunchy',\n",
              " 40967: 'incentives',\n",
              " 52376: 'flatson',\n",
              " 35099: 'snooker',\n",
              " 16831: 'crazies',\n",
              " 14904: 'crazier',\n",
              " 7096: 'grandma',\n",
              " 52377: 'napunsaktha',\n",
              " 30614: 'workmanship',\n",
              " 52378: 'reisner',\n",
              " 61308: \"sanford's\",\n",
              " 52379: '\\x91doña',\n",
              " 6110: 'modest',\n",
              " 19155: \"everything's\",\n",
              " 40968: 'hamer',\n",
              " 52381: \"couldn't'\",\n",
              " 13003: 'quibble',\n",
              " 52382: 'socking',\n",
              " 21933: 'tingler',\n",
              " 52383: 'gutman',\n",
              " 40969: 'lachlan',\n",
              " 52384: 'tableaus',\n",
              " 52385: 'headbanger',\n",
              " 2849: 'spoken',\n",
              " 34770: 'cerebrally',\n",
              " 23492: \"'road\",\n",
              " 21934: 'tableaux',\n",
              " 40970: \"proust's\",\n",
              " 40971: 'periodical',\n",
              " 52387: \"shoveller's\",\n",
              " 25265: 'tamara',\n",
              " 17643: 'affords',\n",
              " 3251: 'concert',\n",
              " 87957: \"yara's\",\n",
              " 52388: 'someome',\n",
              " 8426: 'lingering',\n",
              " 41513: \"abraham's\",\n",
              " 34771: 'beesley',\n",
              " 34772: 'cherbourg',\n",
              " 28626: 'kagan',\n",
              " 9099: 'snatch',\n",
              " 9262: \"miyazaki's\",\n",
              " 25266: 'absorbs',\n",
              " 40972: \"koltai's\",\n",
              " 64029: 'tingled',\n",
              " 19513: 'crossroads',\n",
              " 16123: 'rehab',\n",
              " 52391: 'falworth',\n",
              " 52392: 'sequals',\n",
              " ...}"
            ]
          },
          "metadata": {
            "tags": []
          },
          "execution_count": 35
        }
      ]
    },
    {
      "cell_type": "code",
      "metadata": {
        "id": "RAVCYPLKklW9",
        "outputId": "eee79057-8d3a-4eaa-e24e-bcb7e5a6e9b3",
        "colab": {
          "base_uri": "https://localhost:8080/",
          "height": 35
        }
      },
      "source": [
        "x_train[100]"
      ],
      "execution_count": null,
      "outputs": [
        {
          "output_type": "execute_result",
          "data": {
            "text/plain": [
              "array([  0,   0,   0, ...,  45,   6, 157], dtype=int32)"
            ]
          },
          "metadata": {
            "tags": []
          },
          "execution_count": 18
        }
      ]
    },
    {
      "cell_type": "code",
      "metadata": {
        "id": "cquirCA8BS99",
        "outputId": "6d6a4419-2ad6-4df0-ee15-b53089e2e61b",
        "colab": {
          "base_uri": "https://localhost:8080/",
          "height": 1000
        }
      },
      "source": [
        "# View the first dataset example sentence\n",
        "\n",
        "[Inverted_Word_index[Sampis] for Sampis in x_train[100] if Sampis > 2]"
      ],
      "execution_count": null,
      "outputs": [
        {
          "output_type": "execute_result",
          "data": {
            "text/plain": [
              "['i',\n",
              " 'am',\n",
              " 'a',\n",
              " 'great',\n",
              " 'fan',\n",
              " 'of',\n",
              " 'david',\n",
              " 'lynch',\n",
              " 'and',\n",
              " 'have',\n",
              " 'everything',\n",
              " 'that',\n",
              " \"he's\",\n",
              " 'made',\n",
              " 'on',\n",
              " 'dvd',\n",
              " 'except',\n",
              " 'for',\n",
              " 'hotel',\n",
              " 'room',\n",
              " 'the',\n",
              " '2',\n",
              " 'hour',\n",
              " 'twin',\n",
              " 'peaks',\n",
              " 'movie',\n",
              " 'so',\n",
              " 'when',\n",
              " 'i',\n",
              " 'found',\n",
              " 'out',\n",
              " 'about',\n",
              " 'this',\n",
              " 'i',\n",
              " 'immediately',\n",
              " 'grabbed',\n",
              " 'it',\n",
              " 'and',\n",
              " 'and',\n",
              " 'what',\n",
              " 'is',\n",
              " 'this',\n",
              " \"it's\",\n",
              " 'a',\n",
              " 'bunch',\n",
              " 'of',\n",
              " 'crudely',\n",
              " 'drawn',\n",
              " 'black',\n",
              " 'and',\n",
              " 'white',\n",
              " 'cartoons',\n",
              " 'that',\n",
              " 'are',\n",
              " 'loud',\n",
              " 'and',\n",
              " 'foul',\n",
              " 'mouthed',\n",
              " 'and',\n",
              " 'unfunny',\n",
              " 'maybe',\n",
              " 'i',\n",
              " \"don't\",\n",
              " 'know',\n",
              " \"what's\",\n",
              " 'good',\n",
              " 'but',\n",
              " 'maybe',\n",
              " 'this',\n",
              " 'is',\n",
              " 'just',\n",
              " 'a',\n",
              " 'bunch',\n",
              " 'of',\n",
              " 'crap',\n",
              " 'that',\n",
              " 'was',\n",
              " 'foisted',\n",
              " 'on',\n",
              " 'the',\n",
              " 'public',\n",
              " 'under',\n",
              " 'the',\n",
              " 'name',\n",
              " 'of',\n",
              " 'david',\n",
              " 'lynch',\n",
              " 'to',\n",
              " 'make',\n",
              " 'a',\n",
              " 'few',\n",
              " 'bucks',\n",
              " 'too',\n",
              " 'let',\n",
              " 'me',\n",
              " 'make',\n",
              " 'it',\n",
              " 'clear',\n",
              " 'that',\n",
              " 'i',\n",
              " \"didn't\",\n",
              " 'care',\n",
              " 'about',\n",
              " 'the',\n",
              " 'foul',\n",
              " 'language',\n",
              " 'part',\n",
              " 'but',\n",
              " 'had',\n",
              " 'to',\n",
              " 'keep',\n",
              " 'adjusting',\n",
              " 'the',\n",
              " 'sound',\n",
              " 'because',\n",
              " 'my',\n",
              " 'neighbors',\n",
              " 'might',\n",
              " 'have',\n",
              " 'all',\n",
              " 'in',\n",
              " 'all',\n",
              " 'this',\n",
              " 'is',\n",
              " 'a',\n",
              " 'highly',\n",
              " 'disappointing',\n",
              " 'release',\n",
              " 'and',\n",
              " 'may',\n",
              " 'well',\n",
              " 'have',\n",
              " 'just',\n",
              " 'been',\n",
              " 'left',\n",
              " 'in',\n",
              " 'the',\n",
              " 'deluxe',\n",
              " 'box',\n",
              " 'set',\n",
              " 'as',\n",
              " 'a',\n",
              " 'curiosity',\n",
              " 'i',\n",
              " 'highly',\n",
              " 'recommend',\n",
              " 'you',\n",
              " \"don't\",\n",
              " 'spend',\n",
              " 'your',\n",
              " 'money',\n",
              " 'on',\n",
              " 'this',\n",
              " '2',\n",
              " 'out',\n",
              " 'of',\n",
              " '10']"
            ]
          },
          "metadata": {
            "tags": []
          },
          "execution_count": 37
        }
      ]
    },
    {
      "cell_type": "markdown",
      "metadata": {
        "id": "NrE0rpCVJDL1"
      },
      "source": [
        "#### Build an Embedding layer into a model"
      ]
    },
    {
      "cell_type": "code",
      "metadata": {
        "id": "UPUfv9kjJDL1"
      },
      "source": [
        "# Get the maximum token value\n",
        "input_max_index = max(imdb_word_index.values())\n"
      ],
      "execution_count": null,
      "outputs": []
    },
    {
      "cell_type": "code",
      "metadata": {
        "id": "lO0CkecjJDL5"
      },
      "source": [
        "# Specify an embedding dimension\n",
        "\n",
        "embedding_dim = 16"
      ],
      "execution_count": null,
      "outputs": []
    },
    {
      "cell_type": "code",
      "metadata": {
        "id": "oFBZOlp3JDL7"
      },
      "source": [
        "# Build a model using Sequential:\n",
        "#     1. Embedding layer\n",
        "#     2. GlobalAveragePooling1D\n",
        "#     3. Dense\n",
        "\n",
        "model = tf.keras.Sequential([\n",
        "                  tf.keras.layers.Embedding(input_dim = input_max_index,output_dim = embedding_dim,mask_zero = False),                             \n",
        "                  tf.keras.layers.GlobalAveragePooling1D(),\n",
        "                  tf.keras.layers.Dense(units = 1,activation=\"sigmoid\")\n",
        "\n",
        "])\n"
      ],
      "execution_count": null,
      "outputs": []
    },
    {
      "cell_type": "code",
      "metadata": {
        "id": "Kw9qhtlPJDL9",
        "outputId": "305374ce-4d82-4276-d8a7-1e631b048d1a",
        "colab": {
          "base_uri": "https://localhost:8080/",
          "height": 311
        }
      },
      "source": [
        "# Functional API refresher: use the Model to build the same model\n",
        "\n",
        "review_sequence = tf.keras.Input(shape=(None,))\n",
        "embedding_sequence = tf.keras.layers.Embedding(input_dim=input_max_index+1,output_dim = embedding_dim)(review_sequence)\n",
        "average_embedding = tf.keras.layers.GlobalAveragePooling1D()(embedding_sequence)\n",
        "positive_probability = tf.keras.layers.Dense(units = 1, activation =\"sigmoid\")(average_embedding)\n",
        "MODEL = tf.keras.Model(inputs = review_sequence, outputs = positive_probability)\n",
        "MODEL.summary()"
      ],
      "execution_count": null,
      "outputs": [
        {
          "output_type": "stream",
          "text": [
            "Model: \"functional_5\"\n",
            "_________________________________________________________________\n",
            "Layer (type)                 Output Shape              Param #   \n",
            "=================================================================\n",
            "input_4 (InputLayer)         [(None, None)]            0         \n",
            "_________________________________________________________________\n",
            "embedding_2 (Embedding)      (None, None, 16)          1417392   \n",
            "_________________________________________________________________\n",
            "global_average_pooling1d_2 ( (None, 16)                0         \n",
            "_________________________________________________________________\n",
            "dense_2 (Dense)              (None, 1)                 17        \n",
            "=================================================================\n",
            "Total params: 1,417,409\n",
            "Trainable params: 1,417,409\n",
            "Non-trainable params: 0\n",
            "_________________________________________________________________\n"
          ],
          "name": "stdout"
        }
      ]
    },
    {
      "cell_type": "code",
      "metadata": {
        "id": "rf6oaEvTCKxV"
      },
      "source": [
        "model.summary()"
      ],
      "execution_count": null,
      "outputs": []
    },
    {
      "cell_type": "markdown",
      "metadata": {
        "id": "yrX43gwPJDL-"
      },
      "source": [
        "#### Compile, train, and evaluate the model"
      ]
    },
    {
      "cell_type": "code",
      "metadata": {
        "id": "mVfI_1EoJDL_"
      },
      "source": [
        "# Compile the model with a binary cross-entropy loss\n",
        "METRICS = [tf.keras.metrics.TruePositives(name=\"TP\"),\n",
        "           tf.keras.metrics.TrueNegatives(name = \"TN\"),\n",
        "           tf.keras.metrics.FalseNegatives(name=\"FN\"),\n",
        "           tf.keras.metrics.FalsePositives(name=\"FP\"),\n",
        "           tf.keras.metrics.BinaryAccuracy(name=\"acc\")]\n",
        "\n",
        "loss = tf.keras.losses.BinaryCrossentropy()\n",
        "optimizer = tf.keras.optimizers.Adam(lr=0.001)\n",
        "\n",
        "MODEL.compile(optimizer=optimizer,metrics=METRICS,loss=loss)"
      ],
      "execution_count": null,
      "outputs": []
    },
    {
      "cell_type": "code",
      "metadata": {
        "id": "AvR-O7wGJDMC",
        "outputId": "16e34e2e-96b4-4c78-c2d4-9e4495e68c88",
        "colab": {
          "base_uri": "https://localhost:8080/",
          "height": 221
        }
      },
      "source": [
        "# Train the model using .fit(), savng its history\n",
        "\n",
        "history = MODEL.fit(x = x_train,y = y_train,\n",
        "                    validation_data =(x_test,y_test),\n",
        "                    validation_steps=20,\n",
        "                    epochs = 5,batch_size = 32)\n"
      ],
      "execution_count": null,
      "outputs": [
        {
          "output_type": "stream",
          "text": [
            "Epoch 1/5\n",
            "782/782 [==============================] - 15s 19ms/step - loss: 0.6190 - TP: 9441.0000 - TN: 9727.0000 - FN: 3059.0000 - FP: 2773.0000 - acc: 0.7667 - val_loss: 0.5968 - val_TP: 240.0000 - val_TN: 252.0000 - val_FN: 70.0000 - val_FP: 78.0000 - val_acc: 0.7688\n",
            "Epoch 2/5\n",
            "782/782 [==============================] - 15s 19ms/step - loss: 0.5751 - TP: 9925.0000 - TN: 9907.0000 - FN: 2575.0000 - FP: 2593.0000 - acc: 0.7933 - val_loss: 0.5539 - val_TP: 256.0000 - val_TN: 243.0000 - val_FN: 54.0000 - val_FP: 87.0000 - val_acc: 0.7797\n",
            "Epoch 3/5\n",
            "782/782 [==============================] - 15s 19ms/step - loss: 0.5299 - TP: 10338.0000 - TN: 10133.0000 - FN: 2162.0000 - FP: 2367.0000 - acc: 0.8188 - val_loss: 0.5180 - val_TP: 191.0000 - val_TN: 303.0000 - val_FN: 119.0000 - val_FP: 27.0000 - val_acc: 0.7719\n",
            "Epoch 4/5\n",
            "782/782 [==============================] - 15s 19ms/step - loss: 0.4884 - TP: 10567.0000 - TN: 10278.0000 - FN: 1933.0000 - FP: 2222.0000 - acc: 0.8338 - val_loss: 0.4780 - val_TP: 277.0000 - val_TN: 237.0000 - val_FN: 33.0000 - val_FP: 93.0000 - val_acc: 0.8031\n",
            "Epoch 5/5\n",
            "782/782 [==============================] - 15s 20ms/step - loss: 0.4504 - TP: 10725.0000 - TN: 10534.0000 - FN: 1775.0000 - FP: 1966.0000 - acc: 0.8504 - val_loss: 0.4553 - val_TP: 291.0000 - val_TN: 224.0000 - val_FN: 19.0000 - val_FP: 106.0000 - val_acc: 0.8047\n"
          ],
          "name": "stdout"
        }
      ]
    },
    {
      "cell_type": "code",
      "metadata": {
        "id": "Ind0d_gvJDMG",
        "outputId": "411f8366-ef5a-42c8-82ab-402b7df7aa92",
        "colab": {
          "base_uri": "https://localhost:8080/",
          "height": 354
        }
      },
      "source": [
        "# Plot the training and validation accuracy\n",
        "\n",
        "import matplotlib.pyplot as plt\n",
        "%matplotlib inline\n",
        "plt.style.use('ggplot')\n",
        "\n",
        "history_dict = history.history\n",
        "\n",
        "acc      = history_dict['acc']\n",
        "val_acc  = history_dict['val_acc']\n",
        "loss     = history_dict['loss']\n",
        "val_loss = history_dict['val_loss']\n",
        "\n",
        "epochs = range(1, len(acc) + 1)\n",
        "\n",
        "plt.figure(figsize=(14,5))\n",
        "plt.plot(epochs, acc, marker='.', label='Training acc')\n",
        "plt.plot(epochs, val_acc, marker='.', label='Validation acc')\n",
        "plt.title('Training and validation accuracy')\n",
        "plt.xlabel('Epoch')\n",
        "plt.ylabel('Classification accuracy')\n",
        "plt.legend(loc='lower right')\n",
        "plt.ylim(0, 1);"
      ],
      "execution_count": null,
      "outputs": [
        {
          "output_type": "display_data",
          "data": {
            "image/png": "[encoded data removed]",
            "text/plain": [
              "<Figure size 1008x360 with 1 Axes>"
            ]
          },
          "metadata": {
            "tags": []
          }
        }
      ]
    },
    {
      "cell_type": "markdown",
      "metadata": {
        "id": "MHcNqGnWJDMH"
      },
      "source": [
        "#### The TensorFlow embedding projector\n",
        "\n",
        "The Tensorflow embedding projector can be found [here](https://projector.tensorflow.org/)."
      ]
    },
    {
      "cell_type": "code",
      "metadata": {
        "id": "ZVP4G9X0JDMH"
      },
      "source": [
        "# Retrieve the embedding layer's weights from the trained model\n",
        "\n",
        "weights = MODEL.layers[1].get_weights()[0]"
      ],
      "execution_count": null,
      "outputs": []
    },
    {
      "cell_type": "code",
      "metadata": {
        "id": "yHd29nfZJDMJ",
        "outputId": "fb88445f-c64d-4c5c-f0ce-c3ccffd2c204",
        "colab": {
          "base_uri": "https://localhost:8080/",
          "height": 246
        }
      },
      "source": [
        "# Save the word Embeddings to tsv files\n",
        "# Two files: \n",
        "#     one contains the embedding labels (meta.tsv),\n",
        "#     one contains the embeddings (vecs.tsv)\n",
        "\n",
        "import io\n",
        "from os import path\n",
        "\n",
        "out_v = io.open(path.join('data', 'vecs.tsv'), 'w', encoding='utf-8')\n",
        "out_m = io.open(path.join('data', 'meta.tsv'), 'w', encoding='utf-8')\n",
        "\n",
        "k = 0\n",
        "\n",
        "for word, token in word_index.items():\n",
        "    if k != 0:\n",
        "        out_m.write('\\n')\n",
        "        out_v.write('\\n')\n",
        "    \n",
        "    out_v.write('\\t'.join([str(x) for x in weights[token]]))\n",
        "    out_m.write(word)\n",
        "    k += 1\n",
        "    \n",
        "out_v.close()\n",
        "out_m.close()\n",
        "# beware large collections of embeddings!"
      ],
      "execution_count": null,
      "outputs": [
        {
          "output_type": "error",
          "ename": "FileNotFoundError",
          "evalue": "ignored",
          "traceback": [
            "\u001b[0;31m---------------------------------------------------------------------------\u001b[0m",
            "\u001b[0;31mFileNotFoundError\u001b[0m                         Traceback (most recent call last)",
            "\u001b[0;32m<ipython-input-92-07d4ece34681>\u001b[0m in \u001b[0;36m<module>\u001b[0;34m()\u001b[0m\n\u001b[1;32m      7\u001b[0m \u001b[0;32mfrom\u001b[0m \u001b[0mos\u001b[0m \u001b[0;32mimport\u001b[0m \u001b[0mpath\u001b[0m\u001b[0;34m\u001b[0m\u001b[0;34m\u001b[0m\u001b[0m\n\u001b[1;32m      8\u001b[0m \u001b[0;34m\u001b[0m\u001b[0m\n\u001b[0;32m----> 9\u001b[0;31m \u001b[0mout_v\u001b[0m \u001b[0;34m=\u001b[0m \u001b[0mio\u001b[0m\u001b[0;34m.\u001b[0m\u001b[0mopen\u001b[0m\u001b[0;34m(\u001b[0m\u001b[0mpath\u001b[0m\u001b[0;34m.\u001b[0m\u001b[0mjoin\u001b[0m\u001b[0;34m(\u001b[0m\u001b[0;34m'data'\u001b[0m\u001b[0;34m,\u001b[0m \u001b[0;34m'vecs.tsv'\u001b[0m\u001b[0;34m)\u001b[0m\u001b[0;34m,\u001b[0m \u001b[0;34m'w'\u001b[0m\u001b[0;34m,\u001b[0m \u001b[0mencoding\u001b[0m\u001b[0;34m=\u001b[0m\u001b[0;34m'utf-8'\u001b[0m\u001b[0;34m)\u001b[0m\u001b[0;34m\u001b[0m\u001b[0;34m\u001b[0m\u001b[0m\n\u001b[0m\u001b[1;32m     10\u001b[0m \u001b[0mout_m\u001b[0m \u001b[0;34m=\u001b[0m \u001b[0mio\u001b[0m\u001b[0;34m.\u001b[0m\u001b[0mopen\u001b[0m\u001b[0;34m(\u001b[0m\u001b[0mpath\u001b[0m\u001b[0;34m.\u001b[0m\u001b[0mjoin\u001b[0m\u001b[0;34m(\u001b[0m\u001b[0;34m'data'\u001b[0m\u001b[0;34m,\u001b[0m \u001b[0;34m'meta.tsv'\u001b[0m\u001b[0;34m)\u001b[0m\u001b[0;34m,\u001b[0m \u001b[0;34m'w'\u001b[0m\u001b[0;34m,\u001b[0m \u001b[0mencoding\u001b[0m\u001b[0;34m=\u001b[0m\u001b[0;34m'utf-8'\u001b[0m\u001b[0;34m)\u001b[0m\u001b[0;34m\u001b[0m\u001b[0;34m\u001b[0m\u001b[0m\n\u001b[1;32m     11\u001b[0m \u001b[0;34m\u001b[0m\u001b[0m\n",
            "\u001b[0;31mFileNotFoundError\u001b[0m: [Errno 2] No such file or directory: 'data/vecs.tsv'"
          ]
        }
      ]
    },
    {
      "cell_type": "markdown",
      "metadata": {
        "id": "9Ti4kMquJDML"
      },
      "source": [
        "---\n",
        "<a id=\"coding_tutorial_5\"></a>\n",
        "## Recurrent neural network layers"
      ]
    },
    {
      "cell_type": "markdown",
      "metadata": {
        "id": "9hrm6Q2jJDMM"
      },
      "source": [
        "#### Initialize and pass an input to a SimpleRNN layer"
      ]
    },
    {
      "cell_type": "code",
      "metadata": {
        "id": "tM7uSwkQJDMR"
      },
      "source": [
        "# Create a SimpleRNN layer and test it\n",
        "\n",
        "simpleRnn = tf.keras.layers.SimpleRNN(units = 1)"
      ],
      "execution_count": null,
      "outputs": []
    },
    {
      "cell_type": "code",
      "metadata": {
        "id": "U_YJUyrEJDMT",
        "outputId": "150360c0-fe4a-4bfa-e60d-7826cb1ba94d",
        "colab": {
          "base_uri": "https://localhost:8080/",
          "height": 35
        }
      },
      "source": [
        "# Note that only the final cell output is returned\n",
        "test = tf.constant([\n",
        "    [\n",
        "        [0,4.12],\n",
        "        [0.32,2.23],\n",
        "        [21.32,2.1],\n",
        "    ]])\n",
        "lol = simpleRnn(test)\n",
        "lol"
      ],
      "execution_count": null,
      "outputs": [
        {
          "output_type": "execute_result",
          "data": {
            "text/plain": [
              "<tf.Tensor: shape=(1, 1), dtype=float32, numpy=array([[-1.]], dtype=float32)>"
            ]
          },
          "metadata": {
            "tags": []
          },
          "execution_count": 3
        }
      ]
    },
    {
      "cell_type": "markdown",
      "metadata": {
        "id": "r_rwdZtmJDMV"
      },
      "source": [
        "#### Load and transform the IMDB review sentiment dataset"
      ]
    },
    {
      "cell_type": "code",
      "metadata": {
        "id": "qvAtycIpH1aA"
      },
      "source": [
        "# A function to load and preprocess the IMDB dataset\n",
        "\n",
        "def get_and_pad_imdb_dataset(num_words=10000, maxlen=None, index_from=2):\n",
        "    from tensorflow.keras.datasets import imdb\n",
        "\n",
        "    # Load the reviews\n",
        "    (x_train, y_train), (x_test, y_test) = imdb.load_data(path='imdb.npz',\n",
        "                                                          num_words=num_words,\n",
        "                                                          skip_top=0,\n",
        "                                                          maxlen=maxlen,\n",
        "                                                          start_char=1,\n",
        "                                                          oov_char=2,\n",
        "                                                          index_from=index_from)\n",
        "    x_train=x_train[:1000]\n",
        "    x_test = x_test[:1000]\n",
        "    y_train=y_train[:1000]\n",
        "    y_test =y_test[:1000]\n",
        "    x_train = tf.keras.preprocessing.sequence.pad_sequences(x_train,\n",
        "                                                        maxlen=None,\n",
        "                                                        padding='pre',\n",
        "                                                        truncating='pre',\n",
        "                                                        value=0)\n",
        "    \n",
        "    x_test = tf.keras.preprocessing.sequence.pad_sequences(x_test,\n",
        "                                                           maxlen=None,\n",
        "                                                           padding='pre',\n",
        "                                                           truncating='pre',\n",
        "                                                           value=0)\n",
        "    return (x_train, y_train), (x_test, y_test)"
      ],
      "execution_count": null,
      "outputs": []
    },
    {
      "cell_type": "code",
      "metadata": {
        "id": "49rJuSFmJDMV",
        "outputId": "78ce18a7-18c6-4477-a371-1122ff2e40d7",
        "colab": {
          "base_uri": "https://localhost:8080/",
          "height": 54
        }
      },
      "source": [
        "# Load the dataset\n",
        "(x_train,y_train),(x_test,y_test) = get_and_pad_imdb_dataset()\n"
      ],
      "execution_count": null,
      "outputs": [
        {
          "output_type": "stream",
          "text": [
            "Downloading data from https://storage.googleapis.com/tensorflow/tf-keras-datasets/imdb.npz\n",
            "17465344/17464789 [==============================] - 0s 0us/step\n"
          ],
          "name": "stdout"
        }
      ]
    },
    {
      "cell_type": "code",
      "metadata": {
        "id": "LsHOWZwphsts",
        "outputId": "480ae883-e06b-4048-9dd8-c4d246fda3ef",
        "colab": {
          "base_uri": "https://localhost:8080/",
          "height": 35
        }
      },
      "source": [
        "x_train.shape"
      ],
      "execution_count": null,
      "outputs": [
        {
          "output_type": "execute_result",
          "data": {
            "text/plain": [
              "(1000, 1038)"
            ]
          },
          "metadata": {
            "tags": []
          },
          "execution_count": 6
        }
      ]
    },
    {
      "cell_type": "code",
      "metadata": {
        "id": "XwUHcFKwH4wh"
      },
      "source": [
        "# A function to get the dataset word index\n",
        "\n",
        "def get_imdb_word_index(num_words=10000, index_from=2):\n",
        "    imdb_word_index = tf.keras.datasets.imdb.get_word_index(\n",
        "                                        path='imdb_word_index.json')\n",
        "    imdb_word_index = {key: value + index_from for\n",
        "                       key, value in imdb_word_index.items() if value <= num_words-index_from}\n",
        "    return imdb_word_index"
      ],
      "execution_count": null,
      "outputs": []
    },
    {
      "cell_type": "code",
      "metadata": {
        "id": "KfyqmfOXJDMX",
        "outputId": "8beb4de3-d397-4993-f30b-ae553857ac56",
        "colab": {
          "base_uri": "https://localhost:8080/",
          "height": 54
        }
      },
      "source": [
        "# Get the word index using get_imdb_word_index()\n",
        "\n",
        "imdb_word_index = get_imdb_word_index()"
      ],
      "execution_count": null,
      "outputs": [
        {
          "output_type": "stream",
          "text": [
            "Downloading data from https://storage.googleapis.com/tensorflow/tf-keras-datasets/imdb_word_index.json\n",
            "1646592/1641221 [==============================] - 0s 0us/step\n"
          ],
          "name": "stdout"
        }
      ]
    },
    {
      "cell_type": "markdown",
      "metadata": {
        "id": "jR7y1e-xJDMd"
      },
      "source": [
        "#### Create a recurrent neural network model"
      ]
    },
    {
      "cell_type": "code",
      "metadata": {
        "id": "Tym76m2dIVOZ"
      },
      "source": [
        "# Get the maximum index value\n",
        "maxindx = max(imdb_word_index.values())\n"
      ],
      "execution_count": null,
      "outputs": []
    },
    {
      "cell_type": "code",
      "metadata": {
        "id": "2tO953-oJDMd",
        "outputId": "c93f43ca-dc70-4e8a-c204-7e4610258620",
        "colab": {
          "base_uri": "https://localhost:8080/",
          "height": 311
        }
      },
      "source": [
        "# Using Sequential, build the model:\n",
        "# 1. Embedding.\n",
        "# 2. LSTM.\n",
        "# 3. Dense.\n",
        "InputLayer = tf.keras.Input((None, ))\n",
        "Layers = tf.keras.layers.Embedding(input_dim = maxindx,output_dim=16,mask_zero=True)(InputLayer)\n",
        "Layers = tf.keras.layers.LSTM(units = 16,activation=\"tanh\")(Layers)\n",
        "Layers = tf.keras.layers.Dense(units = 1,activation=\"sigmoid\")(Layers)\n",
        "\n",
        "MODEL = tf.keras.Model(inputs = InputLayer , outputs = Layers)\n",
        "MODEL.summary()\n"
      ],
      "execution_count": null,
      "outputs": [
        {
          "output_type": "stream",
          "text": [
            "Model: \"functional_1\"\n",
            "_________________________________________________________________\n",
            "Layer (type)                 Output Shape              Param #   \n",
            "=================================================================\n",
            "input_1 (InputLayer)         [(None, None)]            0         \n",
            "_________________________________________________________________\n",
            "embedding (Embedding)        (None, None, 16)          160000    \n",
            "_________________________________________________________________\n",
            "lstm (LSTM)                  (None, 16)                2112      \n",
            "_________________________________________________________________\n",
            "dense (Dense)                (None, 1)                 17        \n",
            "=================================================================\n",
            "Total params: 162,129\n",
            "Trainable params: 162,129\n",
            "Non-trainable params: 0\n",
            "_________________________________________________________________\n"
          ],
          "name": "stdout"
        }
      ]
    },
    {
      "cell_type": "markdown",
      "metadata": {
        "id": "v076l5CUJDMf"
      },
      "source": [
        "#### Compile and fit the model"
      ]
    },
    {
      "cell_type": "code",
      "metadata": {
        "id": "iRRXW5mPJDMg"
      },
      "source": [
        "# Compile the model with binary cross-entropy loss\n",
        "\n",
        "# Compile the model with binary cross-entropy loss\n",
        "loss = tf.keras.losses.BinaryCrossentropy()\n",
        "METRICS = [tf.keras.metrics.TrueNegatives(name=\"TN\"),\n",
        "          tf.keras.metrics.TruePositives(name=\"TP\"),\n",
        "          tf.keras.metrics.FalseNegatives(name=\"FN\"),\n",
        "          tf.keras.metrics.FalsePositives(name=\"FP\"),\n",
        "          tf.keras.metrics.BinaryAccuracy(name=\"acc\")]\n",
        "optimizer = tf.keras.optimizers.Adam(lr=0.001)\n",
        "\n",
        "MODEL.compile(loss= loss,metrics= METRICS, optimizer=optimizer)\n"
      ],
      "execution_count": null,
      "outputs": []
    },
    {
      "cell_type": "code",
      "metadata": {
        "id": "216PeHZFJDMi",
        "outputId": "79b2b6ac-e418-4e19-b0bf-f6c22533e72a",
        "colab": {
          "base_uri": "https://localhost:8080/",
          "height": 221
        }
      },
      "source": [
        "# Fit the model and save its training history\n",
        "with tf.device(tf.test.gpu_device_name()):\n",
        "  history = MODEL.fit(x = x_train,y=y_train,\n",
        "          validation_data = (x_test,y_test),\n",
        "          epochs = 5,batch_size = 32)"
      ],
      "execution_count": null,
      "outputs": [
        {
          "output_type": "stream",
          "text": [
            "Epoch 1/5\n",
            "32/32 [==============================] - 72s 2s/step - loss: 0.1671 - TN: 493.0000 - TP: 476.0000 - FN: 18.0000 - FP: 13.0000 - acc: 0.9690 - val_loss: 0.4596 - val_TN: 388.0000 - val_TP: 397.0000 - val_FN: 77.0000 - val_FP: 138.0000 - val_acc: 0.7850\n",
            "Epoch 2/5\n",
            "32/32 [==============================] - 71s 2s/step - loss: 0.1071 - TN: 497.0000 - TP: 492.0000 - FN: 2.0000 - FP: 9.0000 - acc: 0.9890 - val_loss: 0.4648 - val_TN: 380.0000 - val_TP: 401.0000 - val_FN: 73.0000 - val_FP: 146.0000 - val_acc: 0.7810\n",
            "Epoch 3/5\n",
            "32/32 [==============================] - 71s 2s/step - loss: 0.0652 - TN: 504.0000 - TP: 491.0000 - FN: 3.0000 - FP: 2.0000 - acc: 0.9950 - val_loss: 0.4995 - val_TN: 460.0000 - val_TP: 341.0000 - val_FN: 133.0000 - val_FP: 66.0000 - val_acc: 0.8010\n",
            "Epoch 4/5\n",
            "32/32 [==============================] - 70s 2s/step - loss: 0.0397 - TN: 506.0000 - TP: 492.0000 - FN: 2.0000 - FP: 0.0000e+00 - acc: 0.9980 - val_loss: 0.5694 - val_TN: 413.0000 - val_TP: 380.0000 - val_FN: 94.0000 - val_FP: 113.0000 - val_acc: 0.7930\n",
            "Epoch 5/5\n",
            "32/32 [==============================] - 69s 2s/step - loss: 0.0255 - TN: 506.0000 - TP: 493.0000 - FN: 1.0000 - FP: 0.0000e+00 - acc: 0.9990 - val_loss: 0.5590 - val_TN: 413.0000 - val_TP: 381.0000 - val_FN: 93.0000 - val_FP: 113.0000 - val_acc: 0.7940\n"
          ],
          "name": "stdout"
        }
      ]
    },
    {
      "cell_type": "markdown",
      "metadata": {
        "id": "1NVXF1TSJDMj"
      },
      "source": [
        "#### Plot learning curves"
      ]
    },
    {
      "cell_type": "code",
      "metadata": {
        "id": "ms9VW07lJDMk",
        "outputId": "b0e1b740-fb18-44ba-9892-e9371e118c5f",
        "colab": {
          "base_uri": "https://localhost:8080/",
          "height": 354
        }
      },
      "source": [
        "# Plot the training and validation accuracy\n",
        "\n",
        "import matplotlib.pyplot as plt\n",
        "%matplotlib inline\n",
        "plt.style.use('ggplot')\n",
        "\n",
        "history_dict = history.history\n",
        "\n",
        "acc      = history_dict['acc']\n",
        "val_acc  = history_dict['val_acc']\n",
        "loss     = history_dict['loss']\n",
        "val_loss = history_dict['val_loss']\n",
        "\n",
        "epochs = range(1, len(acc) + 1)\n",
        "\n",
        "plt.figure(figsize=(14,5))\n",
        "plt.plot(epochs, acc, marker='.', label='Training acc')\n",
        "plt.plot(epochs, val_acc, marker='.', label='Validation acc')\n",
        "plt.title('Training and validation accuracy')\n",
        "plt.xlabel('Epoch')\n",
        "plt.ylabel('Classification accuracy')\n",
        "plt.legend(loc='lower right')\n",
        "plt.ylim(0, 1);"
      ],
      "execution_count": null,
      "outputs": [
        {
          "output_type": "display_data",
          "data": {
            "image/png": "[encoded data removed]",
            "text/plain": [
              "<Figure size 1008x360 with 1 Axes>"
            ]
          },
          "metadata": {
            "tags": []
          }
        }
      ]
    },
    {
      "cell_type": "markdown",
      "metadata": {
        "id": "6AAyEd6wJDMm"
      },
      "source": [
        "#### Make predictions with the model"
      ]
    },
    {
      "cell_type": "code",
      "metadata": {
        "id": "sk9CHYLiJDMo",
        "outputId": "501218d2-8a58-4ab9-9c53-f021868f1d0b",
        "colab": {
          "base_uri": "https://localhost:8080/",
          "height": 1000
        }
      },
      "source": [
        "# View the first test data example sentence\n",
        "# (invert the word index)\n",
        "inv_imdb_index = {value:key for key,value in imdb_word_index.items()}\n",
        "[inv_imdb_index[index] for index in x_test[1] if index > 2]"
      ],
      "execution_count": null,
      "outputs": [
        {
          "output_type": "execute_result",
          "data": {
            "text/plain": [
              "['this',\n",
              " 'film',\n",
              " 'requires',\n",
              " 'a',\n",
              " 'lot',\n",
              " 'of',\n",
              " 'patience',\n",
              " 'because',\n",
              " 'it',\n",
              " 'focuses',\n",
              " 'on',\n",
              " 'mood',\n",
              " 'and',\n",
              " 'character',\n",
              " 'development',\n",
              " 'the',\n",
              " 'plot',\n",
              " 'is',\n",
              " 'very',\n",
              " 'simple',\n",
              " 'and',\n",
              " 'many',\n",
              " 'of',\n",
              " 'the',\n",
              " 'scenes',\n",
              " 'take',\n",
              " 'place',\n",
              " 'on',\n",
              " 'the',\n",
              " 'same',\n",
              " 'set',\n",
              " 'in',\n",
              " 'frances',\n",
              " 'the',\n",
              " 'sandy',\n",
              " 'dennis',\n",
              " 'character',\n",
              " 'apartment',\n",
              " 'but',\n",
              " 'the',\n",
              " 'film',\n",
              " 'builds',\n",
              " 'to',\n",
              " 'a',\n",
              " 'disturbing',\n",
              " 'climax',\n",
              " 'br',\n",
              " 'br',\n",
              " 'the',\n",
              " 'characters',\n",
              " 'create',\n",
              " 'an',\n",
              " 'atmosphere',\n",
              " 'with',\n",
              " 'sexual',\n",
              " 'tension',\n",
              " 'and',\n",
              " 'psychological',\n",
              " \"it's\",\n",
              " 'very',\n",
              " 'interesting',\n",
              " 'that',\n",
              " 'robert',\n",
              " 'altman',\n",
              " 'directed',\n",
              " 'this',\n",
              " 'considering',\n",
              " 'the',\n",
              " 'style',\n",
              " 'and',\n",
              " 'structure',\n",
              " 'of',\n",
              " 'his',\n",
              " 'other',\n",
              " 'films',\n",
              " 'still',\n",
              " 'the',\n",
              " 'trademark',\n",
              " 'altman',\n",
              " 'audio',\n",
              " 'style',\n",
              " 'is',\n",
              " 'evident',\n",
              " 'here',\n",
              " 'and',\n",
              " 'there',\n",
              " 'i',\n",
              " 'think',\n",
              " 'what',\n",
              " 'really',\n",
              " 'makes',\n",
              " 'this',\n",
              " 'film',\n",
              " 'work',\n",
              " 'is',\n",
              " 'the',\n",
              " 'brilliant',\n",
              " 'performance',\n",
              " 'by',\n",
              " 'sandy',\n",
              " 'dennis',\n",
              " \"it's\",\n",
              " 'definitely',\n",
              " 'one',\n",
              " 'of',\n",
              " 'her',\n",
              " 'darker',\n",
              " 'characters',\n",
              " 'but',\n",
              " 'she',\n",
              " 'plays',\n",
              " 'it',\n",
              " 'so',\n",
              " 'perfectly',\n",
              " 'and',\n",
              " 'convincingly',\n",
              " 'that',\n",
              " \"it's\",\n",
              " 'scary',\n",
              " 'michael',\n",
              " 'burns',\n",
              " 'does',\n",
              " 'a',\n",
              " 'good',\n",
              " 'job',\n",
              " 'as',\n",
              " 'the',\n",
              " 'mute',\n",
              " 'young',\n",
              " 'man',\n",
              " 'regular',\n",
              " 'altman',\n",
              " 'player',\n",
              " 'michael',\n",
              " 'murphy',\n",
              " 'has',\n",
              " 'a',\n",
              " 'small',\n",
              " 'part',\n",
              " 'the',\n",
              " 'moody',\n",
              " 'set',\n",
              " 'fits',\n",
              " 'the',\n",
              " 'content',\n",
              " 'of',\n",
              " 'the',\n",
              " 'story',\n",
              " 'very',\n",
              " 'well',\n",
              " 'in',\n",
              " 'short',\n",
              " 'this',\n",
              " 'movie',\n",
              " 'is',\n",
              " 'a',\n",
              " 'powerful',\n",
              " 'study',\n",
              " 'of',\n",
              " 'loneliness',\n",
              " 'sexual',\n",
              " 'and',\n",
              " 'desperation',\n",
              " 'be',\n",
              " 'patient',\n",
              " 'up',\n",
              " 'the',\n",
              " 'atmosphere',\n",
              " 'and',\n",
              " 'pay',\n",
              " 'attention',\n",
              " 'to',\n",
              " 'the',\n",
              " 'wonderfully',\n",
              " 'written',\n",
              " 'script',\n",
              " 'br',\n",
              " 'br',\n",
              " 'i',\n",
              " 'praise',\n",
              " 'robert',\n",
              " 'altman',\n",
              " 'this',\n",
              " 'is',\n",
              " 'one',\n",
              " 'of',\n",
              " 'his',\n",
              " 'many',\n",
              " 'films',\n",
              " 'that',\n",
              " 'deals',\n",
              " 'with',\n",
              " 'unconventional',\n",
              " 'fascinating',\n",
              " 'subject',\n",
              " 'matter',\n",
              " 'this',\n",
              " 'film',\n",
              " 'is',\n",
              " 'disturbing',\n",
              " 'but',\n",
              " \"it's\",\n",
              " 'sincere',\n",
              " 'and',\n",
              " \"it's\",\n",
              " 'sure',\n",
              " 'to',\n",
              " 'a',\n",
              " 'strong',\n",
              " 'emotional',\n",
              " 'response',\n",
              " 'from',\n",
              " 'the',\n",
              " 'viewer',\n",
              " 'if',\n",
              " 'you',\n",
              " 'want',\n",
              " 'to',\n",
              " 'see',\n",
              " 'an',\n",
              " 'unusual',\n",
              " 'film',\n",
              " 'some',\n",
              " 'might',\n",
              " 'even',\n",
              " 'say',\n",
              " 'bizarre',\n",
              " 'this',\n",
              " 'is',\n",
              " 'worth',\n",
              " 'the',\n",
              " 'time',\n",
              " 'br',\n",
              " 'br',\n",
              " 'unfortunately',\n",
              " \"it's\",\n",
              " 'very',\n",
              " 'difficult',\n",
              " 'to',\n",
              " 'find',\n",
              " 'in',\n",
              " 'video',\n",
              " 'stores',\n",
              " 'you',\n",
              " 'may',\n",
              " 'have',\n",
              " 'to',\n",
              " 'buy',\n",
              " 'it',\n",
              " 'off',\n",
              " 'the',\n",
              " 'internet']"
            ]
          },
          "metadata": {
            "tags": []
          },
          "execution_count": 21
        }
      ]
    },
    {
      "cell_type": "code",
      "metadata": {
        "id": "-FyoKwIi44ot",
        "outputId": "f23ce556-2fc6-4750-c813-4463b68a6326",
        "colab": {
          "base_uri": "https://localhost:8080/",
          "height": 35
        }
      },
      "source": [
        "x_test[1]"
      ],
      "execution_count": null,
      "outputs": [
        {
          "output_type": "execute_result",
          "data": {
            "text/plain": [
              "array([   0,    0,    0, ...,  124,    3, 3076], dtype=int32)"
            ]
          },
          "metadata": {
            "tags": []
          },
          "execution_count": 20
        }
      ]
    },
    {
      "cell_type": "code",
      "metadata": {
        "id": "Blf6in2dJDMs",
        "outputId": "dc59668e-47f5-4984-f0a3-66b05f727b3c",
        "colab": {
          "base_uri": "https://localhost:8080/",
          "height": 35
        }
      },
      "source": [
        "# Get the model prediction using model.predict()\n",
        "\n",
        "Sampis = MODEL.predict(x_test[None,0,:])\n",
        "Sampis"
      ],
      "execution_count": null,
      "outputs": [
        {
          "output_type": "execute_result",
          "data": {
            "text/plain": [
              "array([[0.08086041]], dtype=float32)"
            ]
          },
          "metadata": {
            "tags": []
          },
          "execution_count": 24
        }
      ]
    },
    {
      "cell_type": "code",
      "metadata": {
        "id": "SCyKBsZHJDMt",
        "outputId": "fabead00-a218-4adb-d64e-eb7887d58b14",
        "colab": {
          "base_uri": "https://localhost:8080/",
          "height": 35
        }
      },
      "source": [
        "# Get the corresponding label\n",
        "y_test[1] == Sampis"
      ],
      "execution_count": null,
      "outputs": [
        {
          "output_type": "execute_result",
          "data": {
            "text/plain": [
              "array([[False]])"
            ]
          },
          "metadata": {
            "tags": []
          },
          "execution_count": 25
        }
      ]
    },
    {
      "cell_type": "markdown",
      "metadata": {
        "id": "RpaI83PlJDMv"
      },
      "source": [
        "---\n",
        "<a id=\"coding_tutorial_6\"></a>\n",
        "## Stacked RNNs and the Bidirectional wrapper"
      ]
    },
    {
      "cell_type": "markdown",
      "metadata": {
        "id": "6Qr4kOevKRt8"
      },
      "source": [
        "#### Load and transform the IMDb review sentiment dataset"
      ]
    },
    {
      "cell_type": "code",
      "metadata": {
        "id": "i06LdJiXKRt9"
      },
      "source": [
        "# A function to load and preprocess the IMDB dataset\n",
        "\n",
        "def get_and_pad_imdb_dataset(num_words=10000, maxlen=None, index_from=2):\n",
        "    from tensorflow.keras.datasets import imdb\n",
        "\n",
        "    # Load the reviews\n",
        "    (x_train, y_train), (x_test, y_test) = imdb.load_data(path='imdb.npz',\n",
        "                                                          num_words=num_words,\n",
        "                                                          skip_top=0,\n",
        "                                                          maxlen=maxlen,\n",
        "                                                          start_char=1,\n",
        "                                                          oov_char=2,\n",
        "                                                          index_from=index_from)\n",
        "    x_train=x_train[:1000]\n",
        "    x_test = x_test[:1000]\n",
        "    y_train=y_train[:1000]\n",
        "    y_test =y_test[:1000]\n",
        "    x_train = tf.keras.preprocessing.sequence.pad_sequences(x_train,\n",
        "                                                        maxlen=None,\n",
        "                                                        padding='pre',\n",
        "                                                        truncating='pre',\n",
        "                                                        value=0)\n",
        "    \n",
        "    x_test = tf.keras.preprocessing.sequence.pad_sequences(x_test,\n",
        "                                                           maxlen=None,\n",
        "                                                           padding='pre',\n",
        "                                                           truncating='pre',\n",
        "                                                           value=0)\n",
        "    return (x_train, y_train), (x_test, y_test)"
      ],
      "execution_count": 24,
      "outputs": []
    },
    {
      "cell_type": "code",
      "metadata": {
        "id": "EjA8JlQVKRuB"
      },
      "source": [
        "# Load the dataset\n",
        "\n",
        "(x_train,y_train), (x_test, y_test) = get_and_pad_imdb_dataset()"
      ],
      "execution_count": 25,
      "outputs": []
    },
    {
      "cell_type": "code",
      "metadata": {
        "id": "7iBFGx9_KRuD"
      },
      "source": [
        "# A function to get the dataset word index\n",
        "\n",
        "def get_imdb_word_index(num_words=10000, index_from=2):\n",
        "    imdb_word_index = tf.keras.datasets.imdb.get_word_index(\n",
        "                                        path='imdb_word_index.json')\n",
        "    imdb_word_index = {key: value + index_from for\n",
        "                       key, value in imdb_word_index.items() if value <= num_words-index_from}\n",
        "    return imdb_word_index"
      ],
      "execution_count": 8,
      "outputs": []
    },
    {
      "cell_type": "code",
      "metadata": {
        "id": "29lcV0UGKRuF",
        "outputId": "ad4bdbc0-9362-4287-876e-4029afd385b7",
        "colab": {
          "base_uri": "https://localhost:8080/",
          "height": 54
        }
      },
      "source": [
        "# Get the word index using get_imdb_word_index()\n",
        "\n",
        "imdb_word_index = get_imdb_word_index()\n"
      ],
      "execution_count": 9,
      "outputs": [
        {
          "output_type": "stream",
          "text": [
            "Downloading data from https://storage.googleapis.com/tensorflow/tf-keras-datasets/imdb_word_index.json\n",
            "1646592/1641221 [==============================] - 0s 0us/step\n"
          ],
          "name": "stdout"
        }
      ]
    },
    {
      "cell_type": "markdown",
      "metadata": {
        "id": "Lh_Vv9-5JDM1"
      },
      "source": [
        "#### Build stacked and bidirectional recurrent models"
      ]
    },
    {
      "cell_type": "code",
      "metadata": {
        "id": "k6Sy-gMyLLEI"
      },
      "source": [
        "# Get the maximum index value and specify an embedding dimension\n",
        "\n",
        "max_input = max(imdb_word_index.values())\n",
        "embedding_dim = 32"
      ],
      "execution_count": 10,
      "outputs": []
    },
    {
      "cell_type": "code",
      "metadata": {
        "id": "89yWIAFdJDM1",
        "outputId": "8a064d38-1ae6-400f-f408-2f38fb2cd417",
        "colab": {
          "base_uri": "https://localhost:8080/",
          "height": 348
        }
      },
      "source": [
        "# Using Sequential, build a stacked LSTM model via return_sequences=True\n",
        "\n",
        "Inputs=tf.keras.Input(shape=(None, ))\n",
        "Layers = tf.keras.layers.Embedding(input_dim=max_input, output_dim=embedding_dim,mask_zero=True)(Inputs)\n",
        "Layers = tf.keras.layers.LSTM(units=32,return_sequences=True)(Layers)\n",
        "Layers = tf.keras.layers.LSTM(units=16,return_sequences=False)(Layers)\n",
        "Layers = tf.keras.layers.Dense(units=1,activation=\"sigmoid\")(Layers)\n",
        "\n",
        "MODEL = tf.keras.Model(inputs=Inputs,outputs=Layers)\n",
        "MODEL.summary()\n"
      ],
      "execution_count": 12,
      "outputs": [
        {
          "output_type": "stream",
          "text": [
            "Model: \"functional_1\"\n",
            "_________________________________________________________________\n",
            "Layer (type)                 Output Shape              Param #   \n",
            "=================================================================\n",
            "input_2 (InputLayer)         [(None, None)]            0         \n",
            "_________________________________________________________________\n",
            "embedding_1 (Embedding)      (None, None, 32)          320000    \n",
            "_________________________________________________________________\n",
            "lstm_1 (LSTM)                (None, None, 32)          8320      \n",
            "_________________________________________________________________\n",
            "lstm_2 (LSTM)                (None, 16)                3136      \n",
            "_________________________________________________________________\n",
            "dense (Dense)                (None, 1)                 17        \n",
            "=================================================================\n",
            "Total params: 331,473\n",
            "Trainable params: 331,473\n",
            "Non-trainable params: 0\n",
            "_________________________________________________________________\n"
          ],
          "name": "stdout"
        }
      ]
    },
    {
      "cell_type": "code",
      "metadata": {
        "id": "D-34ZWvRJDM3",
        "outputId": "9d6318ee-c980-4e52-eb96-2abacbcbdf8b",
        "colab": {
          "base_uri": "https://localhost:8080/",
          "height": 348
        }
      },
      "source": [
        "# Using Sequential, build a bidirectional RNN with merge_mode='sum'\n",
        "\n",
        "Inputs=tf.keras.Input(shape=(None, ))\n",
        "Layers = tf.keras.layers.Embedding(input_dim=max_input, output_dim=embedding_dim,mask_zero=True)(Inputs)\n",
        "Layers = tf.keras.layers.Bidirectional( tf.keras.layers.LSTM(units=32,return_sequences=True),merge_mode='sum' )(Layers)\n",
        "Layers = tf.keras.layers.Bidirectional(tf.keras.layers.LSTM(units=16,return_sequences=False),\n",
        "                                       backward_layer = tf.keras.layers.GRU(units=16,go_backwards=True),merge_mode=\"sum\")(Layers)\n",
        "Layers = tf.keras.layers.Dense(units=1,activation=\"sigmoid\")(Layers)\n",
        "\n",
        "MODEL = tf.keras.Model(inputs=Inputs,outputs=Layers)\n",
        "MODEL.summary()"
      ],
      "execution_count": 15,
      "outputs": [
        {
          "output_type": "stream",
          "text": [
            "Model: \"functional_3\"\n",
            "_________________________________________________________________\n",
            "Layer (type)                 Output Shape              Param #   \n",
            "=================================================================\n",
            "input_5 (InputLayer)         [(None, None)]            0         \n",
            "_________________________________________________________________\n",
            "embedding_4 (Embedding)      (None, None, 32)          320000    \n",
            "_________________________________________________________________\n",
            "bidirectional_2 (Bidirection (None, None, 32)          16640     \n",
            "_________________________________________________________________\n",
            "bidirectional_3 (Bidirection (None, 16)                5536      \n",
            "_________________________________________________________________\n",
            "dense_1 (Dense)              (None, 1)                 17        \n",
            "=================================================================\n",
            "Total params: 342,193\n",
            "Trainable params: 342,193\n",
            "Non-trainable params: 0\n",
            "_________________________________________________________________\n"
          ],
          "name": "stdout"
        }
      ]
    },
    {
      "cell_type": "code",
      "metadata": {
        "id": "mSpOIOCmJDM4",
        "outputId": "231a57a5-bda7-4ac8-a84f-50a03129e61b",
        "colab": {
          "base_uri": "https://localhost:8080/",
          "height": 384
        }
      },
      "source": [
        "# Create a model featuring both stacked recurrent layers and a bidirectional layer\n",
        "\n",
        "Inputs=tf.keras.Input(shape=(None, ))\n",
        "Layers = tf.keras.layers.Masking(mask_value=0)(Inputs)\n",
        "Layers = tf.keras.layers.Embedding(input_dim=max_input, output_dim=embedding_dim,mask_zero=True)(Layers)\n",
        "Layers = tf.keras.layers.Bidirectional(tf.keras.layers.LSTM(units=16,return_sequences=True),\n",
        "                                       backward_layer = tf.keras.layers.GRU(units=16,go_backwards=True,return_sequences=True),merge_mode=\"sum\")(Layers)\n",
        "Layers = tf.keras.layers.GRU(units=8,return_sequences=False)(Layers)                                 \n",
        "Layers = tf.keras.layers.Dense(units=1,activation=\"sigmoid\")(Layers)\n",
        "\n",
        "MODEL = tf.keras.Model(inputs=Inputs,outputs=Layers)\n",
        "MODEL.summary()"
      ],
      "execution_count": 29,
      "outputs": [
        {
          "output_type": "stream",
          "text": [
            "Model: \"functional_9\"\n",
            "_________________________________________________________________\n",
            "Layer (type)                 Output Shape              Param #   \n",
            "=================================================================\n",
            "input_10 (InputLayer)        [(None, None)]            0         \n",
            "_________________________________________________________________\n",
            "masking_1 (Masking)          (None, None)              0         \n",
            "_________________________________________________________________\n",
            "embedding_9 (Embedding)      (None, None, 32)          320000    \n",
            "_________________________________________________________________\n",
            "bidirectional_12 (Bidirectio (None, None, 16)          5536      \n",
            "_________________________________________________________________\n",
            "gru_9 (GRU)                  (None, 8)                 624       \n",
            "_________________________________________________________________\n",
            "dense_4 (Dense)              (None, 1)                 9         \n",
            "=================================================================\n",
            "Total params: 326,169\n",
            "Trainable params: 326,169\n",
            "Non-trainable params: 0\n",
            "_________________________________________________________________\n"
          ],
          "name": "stdout"
        }
      ]
    },
    {
      "cell_type": "markdown",
      "metadata": {
        "id": "H3srEhqCJDM7"
      },
      "source": [
        "#### Compile and fit the model"
      ]
    },
    {
      "cell_type": "code",
      "metadata": {
        "id": "k5Dy_C6-JDM7"
      },
      "source": [
        "# Compile the model\n",
        "\n",
        "loss = tf.keras.losses.BinaryCrossentropy()\n",
        "METRICS=[tf.keras.metrics.TrueNegatives(name=\"TN\"),\n",
        "         tf.keras.metrics.TruePositives(name=\"TP\"),\n",
        "         tf.keras.metrics.FalseNegatives(name=\"FN\"),\n",
        "         tf.keras.metrics.FalsePositives(name=\"FP\"),\n",
        "         tf.keras.metrics.BinaryAccuracy(name=\"accuracy\")]\n",
        "\n",
        "Optimizer = tf.keras.optimizers.Adam(lr=0.001)\n",
        "MODEL.compile(loss=loss,metrics=METRICS,optimizer=Optimizer)"
      ],
      "execution_count": 30,
      "outputs": []
    },
    {
      "cell_type": "code",
      "metadata": {
        "id": "Er8atiBoJDM9",
        "outputId": "5052e256-c897-4301-e8db-85f94024d560",
        "colab": {
          "base_uri": "https://localhost:8080/",
          "height": 221
        }
      },
      "source": [
        "# Train the model, saving its history\n",
        "\n",
        "history = MODEL.fit(x = x_train,y=y_train,\n",
        "          validation_data = (x_test,y_test),\n",
        "          batch_size = 32,\n",
        "          epochs = 5)"
      ],
      "execution_count": 31,
      "outputs": [
        {
          "output_type": "stream",
          "text": [
            "Epoch 1/5\n",
            "32/32 [==============================] - 227s 7s/step - loss: 0.6924 - TN: 235.0000 - TP: 286.0000 - FN: 208.0000 - FP: 271.0000 - accuracy: 0.5210 - val_loss: 0.6892 - val_TN: 458.0000 - val_TP: 133.0000 - val_FN: 341.0000 - val_FP: 68.0000 - val_accuracy: 0.5910\n",
            "Epoch 2/5\n",
            "32/32 [==============================] - 225s 7s/step - loss: 0.6690 - TN: 489.0000 - TP: 190.0000 - FN: 304.0000 - FP: 17.0000 - accuracy: 0.6790 - val_loss: 0.6619 - val_TN: 324.0000 - val_TP: 341.0000 - val_FN: 133.0000 - val_FP: 202.0000 - val_accuracy: 0.6650\n",
            "Epoch 3/5\n",
            "32/32 [==============================] - 224s 7s/step - loss: 0.4518 - TN: 441.0000 - TP: 427.0000 - FN: 67.0000 - FP: 65.0000 - accuracy: 0.8680 - val_loss: 0.4648 - val_TN: 371.0000 - val_TP: 403.0000 - val_FN: 71.0000 - val_FP: 155.0000 - val_accuracy: 0.7740\n",
            "Epoch 4/5\n",
            "32/32 [==============================] - 224s 7s/step - loss: 0.1490 - TN: 484.0000 - TP: 481.0000 - FN: 13.0000 - FP: 22.0000 - accuracy: 0.9650 - val_loss: 0.4985 - val_TN: 366.0000 - val_TP: 421.0000 - val_FN: 53.0000 - val_FP: 160.0000 - val_accuracy: 0.7870\n",
            "Epoch 5/5\n",
            "32/32 [==============================] - 225s 7s/step - loss: 0.0407 - TN: 506.0000 - TP: 493.0000 - FN: 1.0000 - FP: 0.0000e+00 - accuracy: 0.9990 - val_loss: 0.5189 - val_TN: 460.0000 - val_TP: 334.0000 - val_FN: 140.0000 - val_FP: 66.0000 - val_accuracy: 0.7940\n"
          ],
          "name": "stdout"
        }
      ]
    },
    {
      "cell_type": "code",
      "metadata": {
        "id": "uLOLtBKwJDNA",
        "outputId": "3e3e81ec-8fcd-42a7-b47a-4411f5a6e3e8",
        "colab": {
          "base_uri": "https://localhost:8080/",
          "height": 354
        }
      },
      "source": [
        "# Plot the training and validation accuracy\n",
        "\n",
        "import matplotlib.pyplot as plt\n",
        "%matplotlib inline\n",
        "plt.style.use('ggplot')\n",
        "\n",
        "history_dict = history.history\n",
        "\n",
        "acc      = history_dict['accuracy']\n",
        "val_acc  = history_dict['val_accuracy']\n",
        "loss     = history_dict['loss']\n",
        "val_loss = history_dict['val_loss']\n",
        "\n",
        "epochs = range(1, len(acc) + 1)\n",
        "\n",
        "plt.figure(figsize=(14,5))\n",
        "plt.plot(epochs, acc, marker='.', label='Training acc')\n",
        "plt.plot(epochs, val_acc, marker='.', label='Validation acc')\n",
        "plt.title('Training and validation accuracy')\n",
        "plt.xlabel('Epoch')\n",
        "plt.ylabel('Classification accuracy')\n",
        "plt.legend(loc='lower right')\n",
        "plt.ylim(0, 1);"
      ],
      "execution_count": 32,
      "outputs": [
        {
          "output_type": "display_data",
          "data": {
            "image/png": "[encoded data removed]",
            "text/plain": [
              "<Figure size 1008x360 with 1 Axes>"
            ]
          },
          "metadata": {
            "tags": []
          }
        }
      ]
    }
  ]
}