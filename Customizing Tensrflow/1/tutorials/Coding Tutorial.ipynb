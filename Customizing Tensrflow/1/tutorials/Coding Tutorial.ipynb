{
 "cells": [
  {
   "cell_type": "code",
   "execution_count": 1,
   "metadata": {
    "scrolled": false
   },
   "outputs": [
    {
     "name": "stdout",
     "output_type": "stream",
     "text": [
      "2.0.0\n"
     ]
    }
   ],
   "source": [
    "import tensorflow as tf\n",
    "print(tf.__version__)"
   ]
  },
  {
   "cell_type": "markdown",
   "metadata": {},
   "source": [
    "# The Keras functional API"
   ]
  },
  {
   "cell_type": "markdown",
   "metadata": {},
   "source": [
    " ## Coding tutorials\n",
    " #### [1. Multiple inputs and outputs](#coding_tutorial_1)\n",
    " #### [2. Tensors and Variables](#coding_tutorial_2)\n",
    " #### [3. Accessing model layers](#coding_tutorial_3)\n",
    " #### [4. Freezing layers](#coding_tutorial_4)"
   ]
  },
  {
   "cell_type": "markdown",
   "metadata": {},
   "source": [
    "***\n",
    "<a id=\"coding_tutorial_1\"></a>\n",
    "## Multiple inputs and outputs"
   ]
  },
  {
   "cell_type": "code",
   "execution_count": 2,
   "metadata": {
    "scrolled": false
   },
   "outputs": [],
   "source": [
    "import numpy as np\n",
    "import pandas as pd\n",
    "import matplotlib.pyplot as plt\n",
    "%matplotlib inline"
   ]
  },
  {
   "cell_type": "markdown",
   "metadata": {},
   "source": [
    "#### Load the acute inflammations dataset\n",
    "\n",
    "The `acute inflammations` was created by a medical expert as a data set to test the expert system, which will perform the presumptive diagnosis of two diseases of the urinary system. You can find out more about the dataset [here](https://archive.ics.uci.edu/ml/datasets/Acute+Inflammations).\n",
    "\n",
    "Attribute information:\n",
    "\n",
    "Inputs:\n",
    "- Temperature of patient : 35C-42C\n",
    "- Occurrence of nausea : yes/no\n",
    "- Lumbar pain : yes/no\n",
    "- Urine pushing (continuous need for urination) : yes/no\n",
    "- Micturition pains : yes/no\n",
    "- Burning of urethra, itch, swelling of urethra outlet : yes/no\n",
    "\n",
    "Outputs:\n",
    "- decision 1: Inflammation of urinary bladder : yes/no\n",
    "- decision 2: Nephritis of renal pelvis origin : yes/no"
   ]
  },
  {
   "cell_type": "markdown",
   "metadata": {},
   "source": [
    "#### Load the data"
   ]
  },
  {
   "cell_type": "code",
   "execution_count": 3,
   "metadata": {
    "scrolled": false
   },
   "outputs": [
    {
     "data": {
      "text/html": [
       "<div>\n",
       "<style scoped>\n",
       "    .dataframe tbody tr th:only-of-type {\n",
       "        vertical-align: middle;\n",
       "    }\n",
       "\n",
       "    .dataframe tbody tr th {\n",
       "        vertical-align: top;\n",
       "    }\n",
       "\n",
       "    .dataframe thead th {\n",
       "        text-align: right;\n",
       "    }\n",
       "</style>\n",
       "<table border=\"1\" class=\"dataframe\">\n",
       "  <thead>\n",
       "    <tr style=\"text-align: right;\">\n",
       "      <th></th>\n",
       "      <th>0</th>\n",
       "      <th>1</th>\n",
       "      <th>2</th>\n",
       "      <th>3</th>\n",
       "      <th>4</th>\n",
       "      <th>5</th>\n",
       "      <th>6</th>\n",
       "      <th>7</th>\n",
       "    </tr>\n",
       "  </thead>\n",
       "  <tbody>\n",
       "    <tr>\n",
       "      <th>0</th>\n",
       "      <td>35.5</td>\n",
       "      <td>0</td>\n",
       "      <td>1</td>\n",
       "      <td>0</td>\n",
       "      <td>0</td>\n",
       "      <td>0</td>\n",
       "      <td>0</td>\n",
       "      <td>0</td>\n",
       "    </tr>\n",
       "    <tr>\n",
       "      <th>1</th>\n",
       "      <td>35.9</td>\n",
       "      <td>0</td>\n",
       "      <td>0</td>\n",
       "      <td>1</td>\n",
       "      <td>1</td>\n",
       "      <td>1</td>\n",
       "      <td>1</td>\n",
       "      <td>0</td>\n",
       "    </tr>\n",
       "    <tr>\n",
       "      <th>2</th>\n",
       "      <td>35.9</td>\n",
       "      <td>0</td>\n",
       "      <td>1</td>\n",
       "      <td>0</td>\n",
       "      <td>0</td>\n",
       "      <td>0</td>\n",
       "      <td>0</td>\n",
       "      <td>0</td>\n",
       "    </tr>\n",
       "    <tr>\n",
       "      <th>3</th>\n",
       "      <td>36.0</td>\n",
       "      <td>0</td>\n",
       "      <td>0</td>\n",
       "      <td>1</td>\n",
       "      <td>1</td>\n",
       "      <td>1</td>\n",
       "      <td>1</td>\n",
       "      <td>0</td>\n",
       "    </tr>\n",
       "    <tr>\n",
       "      <th>4</th>\n",
       "      <td>36.0</td>\n",
       "      <td>0</td>\n",
       "      <td>1</td>\n",
       "      <td>0</td>\n",
       "      <td>0</td>\n",
       "      <td>0</td>\n",
       "      <td>0</td>\n",
       "      <td>0</td>\n",
       "    </tr>\n",
       "  </tbody>\n",
       "</table>\n",
       "</div>"
      ],
      "text/plain": [
       "      0  1  2  3  4  5  6  7\n",
       "0  35.5  0  1  0  0  0  0  0\n",
       "1  35.9  0  0  1  1  1  1  0\n",
       "2  35.9  0  1  0  0  0  0  0\n",
       "3  36.0  0  0  1  1  1  1  0\n",
       "4  36.0  0  1  0  0  0  0  0"
      ]
     },
     "execution_count": 3,
     "metadata": {},
     "output_type": "execute_result"
    }
   ],
   "source": [
    "# Load the dataset\n",
    "\n",
    "from sklearn.model_selection import train_test_split\n",
    "\n",
    "pd_dat = pd.read_csv('data/diagnosis.csv')\n",
    "dataset = pd_dat.values\n",
    "pd_dat.head()"
   ]
  },
  {
   "cell_type": "code",
   "execution_count": 4,
   "metadata": {
    "scrolled": false
   },
   "outputs": [
    {
     "data": {
      "text/plain": [
       "((80, 6), (80, 2))"
      ]
     },
     "execution_count": 4,
     "metadata": {},
     "output_type": "execute_result"
    }
   ],
   "source": [
    "# Build train and test data splits\n",
    "\n",
    "X_train, X_test, Y_train, Y_test = train_test_split(dataset[:,:6], dataset[:,6:], test_size=0.33)\n",
    "X_train.shape,Y_train.shape"
   ]
  },
  {
   "cell_type": "code",
   "execution_count": 5,
   "metadata": {},
   "outputs": [
    {
     "data": {
      "text/plain": [
       "(6, 80)"
      ]
     },
     "execution_count": 5,
     "metadata": {},
     "output_type": "execute_result"
    }
   ],
   "source": [
    "np.transpose(X_train).shape"
   ]
  },
  {
   "cell_type": "code",
   "execution_count": 6,
   "metadata": {
    "scrolled": false
   },
   "outputs": [],
   "source": [
    "# Assign training and testing inputs/outputs\n",
    "\n",
    "temp_train, nocc_train, lumbp_train, up_train, mict_train, bis_train = np.transpose(X_train)\n",
    "temp_test, nocc_test, lumbp_test, up_test, mict_test, bis_test = np.transpose(X_test)\n",
    "\n",
    "inflam_train, nephr_train = Y_train[:, 0], Y_train[:, 1]\n",
    "inflam_test, nephr_test = Y_test[:, 0], Y_test[:, 1]"
   ]
  },
  {
   "cell_type": "code",
   "execution_count": 7,
   "metadata": {},
   "outputs": [
    {
     "data": {
      "text/plain": [
       "(80,)"
      ]
     },
     "execution_count": 7,
     "metadata": {},
     "output_type": "execute_result"
    }
   ],
   "source": [
    "temp_train.shape"
   ]
  },
  {
   "cell_type": "markdown",
   "metadata": {},
   "source": [
    "#### Build the model"
   ]
  },
  {
   "cell_type": "code",
   "execution_count": 8,
   "metadata": {
    "scrolled": false
   },
   "outputs": [],
   "source": [
    "# Build the input layers\n",
    "\n",
    "from tensorflow.keras import Input,layers\n",
    "shape_input = [1,]\n",
    "temperature = Input(shape=shape_input,name=\"temp\")\n",
    "nausea_occurence = Input(shape=shape_input,name=\"nocc\")\n",
    "lumbar_pain = Input(shape=shape_input,name=\"lumbp\")\n",
    "urine_pushing = Input(shape=shape_input,name=\"up\")\n",
    "micturition_pains = Input(shape=shape_input,name=\"mict\")\n",
    "bis = Input(shape=shape_input,name=\"bis\")"
   ]
  },
  {
   "cell_type": "code",
   "execution_count": 9,
   "metadata": {
    "scrolled": true
   },
   "outputs": [],
   "source": [
    "# Create a list of all the inputs\n",
    "\n",
    "list_inputs = [temperature, nausea_occurence, lumbar_pain, urine_pushing, \n",
    "               micturition_pains, bis]"
   ]
  },
  {
   "cell_type": "code",
   "execution_count": 10,
   "metadata": {
    "scrolled": false
   },
   "outputs": [],
   "source": [
    "# Merge all input features into a single large vector\n",
    "x = layers.concatenate(list_inputs)\n"
   ]
  },
  {
   "cell_type": "code",
   "execution_count": 11,
   "metadata": {
    "scrolled": false
   },
   "outputs": [],
   "source": [
    "# Use a logistic regression classifier for disease prediction\n",
    "\n",
    "inflammation_pred = layers.Dense(units = 1,activation = \"sigmoid\",name=\"inflan\")(x) \n",
    "nephritis_pred =layers.Dense(units= 1,activation = \"sigmoid\",name=\"nephr\")(x)\n"
   ]
  },
  {
   "cell_type": "code",
   "execution_count": 12,
   "metadata": {
    "scrolled": true
   },
   "outputs": [],
   "source": [
    "# Create a list of all the outputs\n",
    "\n",
    "list_outputs = [inflammation_pred, nephritis_pred]"
   ]
  },
  {
   "cell_type": "code",
   "execution_count": 13,
   "metadata": {
    "scrolled": false
   },
   "outputs": [],
   "source": [
    "# Create the model object\n",
    "from tensorflow.keras import Model\n",
    "model = Model(inputs = list_inputs,outputs=list_outputs)\n",
    "\n"
   ]
  },
  {
   "cell_type": "code",
   "execution_count": 14,
   "metadata": {},
   "outputs": [],
   "source": [
    "from sklearn.utils import compute_class_weight\n",
    "keys = np.unique(inflam_train)\n",
    "values = compute_class_weight(\"balanced\", keys, inflam_train)\n",
    "cwinflam = dict(zip(keys, values))\n",
    "\n",
    "keys = np.unique(nephr_train)\n",
    "values = compute_class_weight(\"balanced\", keys, nephr_train)\n",
    "cwnephr = dict(zip(keys, values))\n",
    "\n"
   ]
  },
  {
   "cell_type": "markdown",
   "metadata": {},
   "source": [
    "#### Plot the model"
   ]
  },
  {
   "cell_type": "code",
   "execution_count": 15,
   "metadata": {
    "scrolled": false
   },
   "outputs": [
    {
     "data": {
      "image/png": "[encoded data removed]",
      "text/plain": [
       "<IPython.core.display.Image object>"
      ]
     },
     "execution_count": 15,
     "metadata": {},
     "output_type": "execute_result"
    }
   ],
   "source": [
    "# Display the multiple input/output model\n",
    "from tensorflow.keras.utils import plot_model\n",
    "plot_model(model,\"modelarhcitect.png\")"
   ]
  },
  {
   "cell_type": "markdown",
   "metadata": {},
   "source": [
    "#### Compile the model"
   ]
  },
  {
   "cell_type": "code",
   "execution_count": 16,
   "metadata": {
    "scrolled": true
   },
   "outputs": [],
   "source": [
    "# Compile the model\n",
    "METRICSinflan =[tf.keras.metrics.BinaryAccuracy(name=\"ACCinflan\")]\n",
    "METRICSnephr = [tf.keras.metrics.BinaryAccuracy(name=\"ACCnephr\")]\n",
    "model.compile(loss= {\"inflan\":tf.keras.losses.BinaryCrossentropy(), \"nephr\" :tf.keras.losses.BinaryCrossentropy()},\n",
    "             optimizer= tf.keras.optimizers.Adam(0.01),\n",
    "             loss_weights={\"inflan\" : 0.8,\"nephr\":0.9},\n",
    "             metrics={\"inflan\" : METRICSinflan,\n",
    "                     \"nephr\":METRICSnephr})"
   ]
  },
  {
   "cell_type": "markdown",
   "metadata": {},
   "source": [
    "#### Fit the model "
   ]
  },
  {
   "cell_type": "code",
   "execution_count": 17,
   "metadata": {
    "scrolled": false
   },
   "outputs": [],
   "source": [
    "# Define training inputs and outputs\n",
    "\n",
    "inputs_train = {'temp': temp_train, 'nocc': nocc_train, 'lumbp': lumbp_train,\n",
    "                'up': up_train, 'mict': mict_train, 'bis': bis_train}\n",
    "\n",
    "outputs_train = {'inflan': inflam_train, 'nephr': nephr_train}"
   ]
  },
  {
   "cell_type": "code",
   "execution_count": 18,
   "metadata": {},
   "outputs": [
    {
     "name": "stdout",
     "output_type": "stream",
     "text": [
      "Train on 64 samples, validate on 16 samples\n",
      "Epoch 1/1000\n",
      "64/64 [==============================] - 2s 38ms/sample - loss: 26.0288 - inflan_loss: 14.7338 - nephr_loss: 15.8242 - inflan_ACCinflan: 0.4844 - nephr_ACCnephr: 0.4375 - val_loss: 27.9303 - val_inflan_loss: 17.4261 - val_nephr_loss: 15.5439 - val_inflan_ACCinflan: 0.3750 - val_nephr_ACCnephr: 0.4375\n",
      "Epoch 2/1000\n",
      "64/64 [==============================] - 0s 202us/sample - loss: 25.6864 - inflan_loss: 14.5316 - nephr_loss: 15.6235 - inflan_ACCinflan: 0.4844 - nephr_ACCnephr: 0.4375 - val_loss: 27.5509 - val_inflan_loss: 17.1799 - val_nephr_loss: 15.3411 - val_inflan_ACCinflan: 0.3750 - val_nephr_ACCnephr: 0.4375\n",
      "Epoch 3/1000\n",
      "64/64 [==============================] - 0s 1ms/sample - loss: 25.3441 - inflan_loss: 14.3294 - nephr_loss: 15.4228 - inflan_ACCinflan: 0.4844 - nephr_ACCnephr: 0.4375 - val_loss: 27.1715 - val_inflan_loss: 16.9337 - val_nephr_loss: 15.1383 - val_inflan_ACCinflan: 0.3750 - val_nephr_ACCnephr: 0.4375\n",
      "Epoch 4/1000\n",
      "64/64 [==============================] - 0s 194us/sample - loss: 25.0017 - inflan_loss: 14.1272 - nephr_loss: 15.2222 - inflan_ACCinflan: 0.4844 - nephr_ACCnephr: 0.4375 - val_loss: 26.7920 - val_inflan_loss: 16.6876 - val_nephr_loss: 14.9355 - val_inflan_ACCinflan: 0.3750 - val_nephr_ACCnephr: 0.4375\n",
      "Epoch 5/1000\n",
      "64/64 [==============================] - 0s 191us/sample - loss: 24.6594 - inflan_loss: 13.9250 - nephr_loss: 15.0215 - inflan_ACCinflan: 0.4844 - nephr_ACCnephr: 0.4375 - val_loss: 26.4126 - val_inflan_loss: 16.4414 - val_nephr_loss: 14.7327 - val_inflan_ACCinflan: 0.3750 - val_nephr_ACCnephr: 0.4375\n",
      "Epoch 6/1000\n",
      "64/64 [==============================] - 0s 1ms/sample - loss: 24.3170 - inflan_loss: 13.7228 - nephr_loss: 14.8209 - inflan_ACCinflan: 0.4844 - nephr_ACCnephr: 0.4375 - val_loss: 26.0332 - val_inflan_loss: 16.1952 - val_nephr_loss: 14.5300 - val_inflan_ACCinflan: 0.3750 - val_nephr_ACCnephr: 0.4375\n",
      "Epoch 7/1000\n",
      "64/64 [==============================] - 0s 187us/sample - loss: 23.9746 - inflan_loss: 13.5205 - nephr_loss: 14.6202 - inflan_ACCinflan: 0.4844 - nephr_ACCnephr: 0.4375 - val_loss: 25.6537 - val_inflan_loss: 15.9491 - val_nephr_loss: 14.3272 - val_inflan_ACCinflan: 0.3750 - val_nephr_ACCnephr: 0.4375\n",
      "Epoch 8/1000\n",
      "64/64 [==============================] - 0s 1ms/sample - loss: 23.6323 - inflan_loss: 13.3183 - nephr_loss: 14.4196 - inflan_ACCinflan: 0.4844 - nephr_ACCnephr: 0.4375 - val_loss: 25.2743 - val_inflan_loss: 15.7029 - val_nephr_loss: 14.1244 - val_inflan_ACCinflan: 0.3750 - val_nephr_ACCnephr: 0.4375\n",
      "Epoch 9/1000\n",
      "64/64 [==============================] - 0s 2ms/sample - loss: 23.2899 - inflan_loss: 13.1161 - nephr_loss: 14.2189 - inflan_ACCinflan: 0.4844 - nephr_ACCnephr: 0.4375 - val_loss: 24.8949 - val_inflan_loss: 15.4568 - val_nephr_loss: 13.9216 - val_inflan_ACCinflan: 0.3750 - val_nephr_ACCnephr: 0.4375\n",
      "Epoch 10/1000\n",
      "64/64 [==============================] - 0s 1ms/sample - loss: 22.9476 - inflan_loss: 12.9139 - nephr_loss: 14.0183 - inflan_ACCinflan: 0.4844 - nephr_ACCnephr: 0.4375 - val_loss: 24.5155 - val_inflan_loss: 15.2106 - val_nephr_loss: 13.7189 - val_inflan_ACCinflan: 0.3750 - val_nephr_ACCnephr: 0.4375\n",
      "Epoch 11/1000\n",
      "64/64 [==============================] - 0s 197us/sample - loss: 22.6052 - inflan_loss: 12.7117 - nephr_loss: 13.8176 - inflan_ACCinflan: 0.4844 - nephr_ACCnephr: 0.4375 - val_loss: 24.1360 - val_inflan_loss: 14.9644 - val_nephr_loss: 13.5161 - val_inflan_ACCinflan: 0.3750 - val_nephr_ACCnephr: 0.4375\n",
      "Epoch 12/1000\n",
      "64/64 [==============================] - 0s 2ms/sample - loss: 22.2629 - inflan_loss: 12.5095 - nephr_loss: 13.6170 - inflan_ACCinflan: 0.4844 - nephr_ACCnephr: 0.4375 - val_loss: 23.7566 - val_inflan_loss: 14.7183 - val_nephr_loss: 13.3133 - val_inflan_ACCinflan: 0.3750 - val_nephr_ACCnephr: 0.4375\n",
      "Epoch 13/1000\n",
      "64/64 [==============================] - 0s 1ms/sample - loss: 21.9205 - inflan_loss: 12.3073 - nephr_loss: 13.4163 - inflan_ACCinflan: 0.4844 - nephr_ACCnephr: 0.4375 - val_loss: 23.3772 - val_inflan_loss: 14.4721 - val_nephr_loss: 13.1105 - val_inflan_ACCinflan: 0.3750 - val_nephr_ACCnephr: 0.4375\n",
      "Epoch 14/1000\n",
      "64/64 [==============================] - 0s 189us/sample - loss: 21.5782 - inflan_loss: 12.1051 - nephr_loss: 13.2157 - inflan_ACCinflan: 0.4844 - nephr_ACCnephr: 0.4375 - val_loss: 22.9977 - val_inflan_loss: 14.2259 - val_nephr_loss: 12.9078 - val_inflan_ACCinflan: 0.3750 - val_nephr_ACCnephr: 0.4375\n",
      "Epoch 15/1000\n",
      "64/64 [==============================] - 0s 1ms/sample - loss: 21.2358 - inflan_loss: 11.9029 - nephr_loss: 13.0150 - inflan_ACCinflan: 0.4844 - nephr_ACCnephr: 0.4375 - val_loss: 22.6183 - val_inflan_loss: 13.9798 - val_nephr_loss: 12.7050 - val_inflan_ACCinflan: 0.3750 - val_nephr_ACCnephr: 0.4375\n",
      "Epoch 16/1000\n",
      "64/64 [==============================] - 0s 1ms/sample - loss: 20.8935 - inflan_loss: 11.7007 - nephr_loss: 12.8144 - inflan_ACCinflan: 0.4844 - nephr_ACCnephr: 0.4375 - val_loss: 22.2389 - val_inflan_loss: 13.7336 - val_nephr_loss: 12.5022 - val_inflan_ACCinflan: 0.3750 - val_nephr_ACCnephr: 0.4375\n",
      "Epoch 17/1000\n",
      "64/64 [==============================] - 0s 194us/sample - loss: 20.5511 - inflan_loss: 11.4985 - nephr_loss: 12.6137 - inflan_ACCinflan: 0.4844 - nephr_ACCnephr: 0.4375 - val_loss: 21.8594 - val_inflan_loss: 13.4875 - val_nephr_loss: 12.2994 - val_inflan_ACCinflan: 0.3750 - val_nephr_ACCnephr: 0.4375\n",
      "Epoch 18/1000\n",
      "64/64 [==============================] - 0s 1ms/sample - loss: 20.2087 - inflan_loss: 11.2962 - nephr_loss: 12.4131 - inflan_ACCinflan: 0.4844 - nephr_ACCnephr: 0.4375 - val_loss: 21.4800 - val_inflan_loss: 13.2413 - val_nephr_loss: 12.0966 - val_inflan_ACCinflan: 0.3750 - val_nephr_ACCnephr: 0.4375\n",
      "Epoch 19/1000\n",
      "64/64 [==============================] - 0s 1ms/sample - loss: 19.8664 - inflan_loss: 11.0940 - nephr_loss: 12.2124 - inflan_ACCinflan: 0.4844 - nephr_ACCnephr: 0.4375 - val_loss: 21.1006 - val_inflan_loss: 12.9951 - val_nephr_loss: 11.8939 - val_inflan_ACCinflan: 0.3750 - val_nephr_ACCnephr: 0.4375\n",
      "Epoch 20/1000\n",
      "64/64 [==============================] - 0s 189us/sample - loss: 19.5240 - inflan_loss: 10.8918 - nephr_loss: 12.0117 - inflan_ACCinflan: 0.4844 - nephr_ACCnephr: 0.4375 - val_loss: 20.7212 - val_inflan_loss: 12.7490 - val_nephr_loss: 11.6911 - val_inflan_ACCinflan: 0.3750 - val_nephr_ACCnephr: 0.4375\n",
      "Epoch 21/1000\n",
      "64/64 [==============================] - 0s 194us/sample - loss: 19.1817 - inflan_loss: 10.6896 - nephr_loss: 11.8111 - inflan_ACCinflan: 0.4844 - nephr_ACCnephr: 0.4375 - val_loss: 20.3417 - val_inflan_loss: 12.5028 - val_nephr_loss: 11.4883 - val_inflan_ACCinflan: 0.3750 - val_nephr_ACCnephr: 0.4375\n",
      "Epoch 22/1000\n",
      "64/64 [==============================] - 0s 1ms/sample - loss: 18.8393 - inflan_loss: 10.4874 - nephr_loss: 11.6104 - inflan_ACCinflan: 0.4844 - nephr_ACCnephr: 0.4375 - val_loss: 19.9623 - val_inflan_loss: 12.2566 - val_nephr_loss: 11.2855 - val_inflan_ACCinflan: 0.3750 - val_nephr_ACCnephr: 0.4375\n",
      "Epoch 23/1000\n",
      "64/64 [==============================] - 0s 194us/sample - loss: 18.4970 - inflan_loss: 10.2852 - nephr_loss: 11.4098 - inflan_ACCinflan: 0.4844 - nephr_ACCnephr: 0.4375 - val_loss: 19.5829 - val_inflan_loss: 12.0105 - val_nephr_loss: 11.0828 - val_inflan_ACCinflan: 0.3750 - val_nephr_ACCnephr: 0.4375\n",
      "Epoch 24/1000\n",
      "64/64 [==============================] - 0s 187us/sample - loss: 18.1546 - inflan_loss: 10.0830 - nephr_loss: 11.2091 - inflan_ACCinflan: 0.4844 - nephr_ACCnephr: 0.4375 - val_loss: 19.2034 - val_inflan_loss: 11.7643 - val_nephr_loss: 10.8800 - val_inflan_ACCinflan: 0.3750 - val_nephr_ACCnephr: 0.4375\n",
      "Epoch 25/1000\n",
      "64/64 [==============================] - 0s 2ms/sample - loss: 17.8123 - inflan_loss: 9.8808 - nephr_loss: 11.0085 - inflan_ACCinflan: 0.4844 - nephr_ACCnephr: 0.4375 - val_loss: 18.8240 - val_inflan_loss: 11.5182 - val_nephr_loss: 10.6772 - val_inflan_ACCinflan: 0.3750 - val_nephr_ACCnephr: 0.4375\n",
      "Epoch 26/1000\n",
      "64/64 [==============================] - 0s 191us/sample - loss: 17.4699 - inflan_loss: 9.6786 - nephr_loss: 10.8078 - inflan_ACCinflan: 0.4844 - nephr_ACCnephr: 0.4375 - val_loss: 18.4446 - val_inflan_loss: 11.2720 - val_nephr_loss: 10.4744 - val_inflan_ACCinflan: 0.3750 - val_nephr_ACCnephr: 0.4375\n"
     ]
    },
    {
     "name": "stdout",
     "output_type": "stream",
     "text": [
      "Epoch 27/1000\n",
      "64/64 [==============================] - 0s 1ms/sample - loss: 17.1276 - inflan_loss: 9.4764 - nephr_loss: 10.6072 - inflan_ACCinflan: 0.4844 - nephr_ACCnephr: 0.4375 - val_loss: 18.0651 - val_inflan_loss: 11.0258 - val_nephr_loss: 10.2716 - val_inflan_ACCinflan: 0.3750 - val_nephr_ACCnephr: 0.4375\n",
      "Epoch 28/1000\n",
      "64/64 [==============================] - 0s 2ms/sample - loss: 16.7852 - inflan_loss: 9.2742 - nephr_loss: 10.4065 - inflan_ACCinflan: 0.4844 - nephr_ACCnephr: 0.4375 - val_loss: 17.6857 - val_inflan_loss: 10.7797 - val_nephr_loss: 10.0689 - val_inflan_ACCinflan: 0.3750 - val_nephr_ACCnephr: 0.4375\n",
      "Epoch 29/1000\n",
      "64/64 [==============================] - 0s 1ms/sample - loss: 16.4428 - inflan_loss: 9.0719 - nephr_loss: 10.2059 - inflan_ACCinflan: 0.4844 - nephr_ACCnephr: 0.4375 - val_loss: 17.3063 - val_inflan_loss: 10.5335 - val_nephr_loss: 9.8661 - val_inflan_ACCinflan: 0.3750 - val_nephr_ACCnephr: 0.4375\n",
      "Epoch 30/1000\n",
      "64/64 [==============================] - 0s 188us/sample - loss: 16.1005 - inflan_loss: 8.8697 - nephr_loss: 10.0052 - inflan_ACCinflan: 0.4844 - nephr_ACCnephr: 0.4375 - val_loss: 16.9269 - val_inflan_loss: 10.2873 - val_nephr_loss: 9.6633 - val_inflan_ACCinflan: 0.3750 - val_nephr_ACCnephr: 0.4375\n",
      "Epoch 31/1000\n",
      "64/64 [==============================] - 0s 1ms/sample - loss: 15.7581 - inflan_loss: 8.6675 - nephr_loss: 9.8046 - inflan_ACCinflan: 0.4844 - nephr_ACCnephr: 0.4375 - val_loss: 16.5474 - val_inflan_loss: 10.0412 - val_nephr_loss: 9.4605 - val_inflan_ACCinflan: 0.3750 - val_nephr_ACCnephr: 0.4375\n",
      "Epoch 32/1000\n",
      "64/64 [==============================] - 0s 1ms/sample - loss: 15.4158 - inflan_loss: 8.4653 - nephr_loss: 9.6039 - inflan_ACCinflan: 0.4844 - nephr_ACCnephr: 0.4375 - val_loss: 16.1680 - val_inflan_loss: 9.7950 - val_nephr_loss: 9.2578 - val_inflan_ACCinflan: 0.3750 - val_nephr_ACCnephr: 0.4375\n",
      "Epoch 33/1000\n",
      "64/64 [==============================] - 0s 191us/sample - loss: 15.0734 - inflan_loss: 8.2631 - nephr_loss: 9.4033 - inflan_ACCinflan: 0.4844 - nephr_ACCnephr: 0.4375 - val_loss: 15.7886 - val_inflan_loss: 9.5489 - val_nephr_loss: 9.0550 - val_inflan_ACCinflan: 0.3750 - val_nephr_ACCnephr: 0.4375\n",
      "Epoch 34/1000\n",
      "64/64 [==============================] - 0s 185us/sample - loss: 14.7311 - inflan_loss: 8.0609 - nephr_loss: 9.2026 - inflan_ACCinflan: 0.4844 - nephr_ACCnephr: 0.4375 - val_loss: 15.4091 - val_inflan_loss: 9.3027 - val_nephr_loss: 8.8522 - val_inflan_ACCinflan: 0.3750 - val_nephr_ACCnephr: 0.4375\n",
      "Epoch 35/1000\n",
      "64/64 [==============================] - 0s 2ms/sample - loss: 14.3887 - inflan_loss: 7.8587 - nephr_loss: 9.0020 - inflan_ACCinflan: 0.4844 - nephr_ACCnephr: 0.4375 - val_loss: 15.0297 - val_inflan_loss: 9.0565 - val_nephr_loss: 8.6494 - val_inflan_ACCinflan: 0.3750 - val_nephr_ACCnephr: 0.4375\n",
      "Epoch 36/1000\n",
      "64/64 [==============================] - 0s 185us/sample - loss: 14.0464 - inflan_loss: 7.6565 - nephr_loss: 8.8013 - inflan_ACCinflan: 0.4844 - nephr_ACCnephr: 0.4375 - val_loss: 14.6503 - val_inflan_loss: 8.8104 - val_nephr_loss: 8.4466 - val_inflan_ACCinflan: 0.3750 - val_nephr_ACCnephr: 0.4375\n",
      "Epoch 37/1000\n",
      "64/64 [==============================] - 0s 1ms/sample - loss: 13.7040 - inflan_loss: 7.4543 - nephr_loss: 8.6007 - inflan_ACCinflan: 0.4844 - nephr_ACCnephr: 0.4375 - val_loss: 14.2709 - val_inflan_loss: 8.5642 - val_nephr_loss: 8.2439 - val_inflan_ACCinflan: 0.3750 - val_nephr_ACCnephr: 0.4375\n",
      "Epoch 38/1000\n",
      "64/64 [==============================] - 0s 2ms/sample - loss: 13.3617 - inflan_loss: 7.2521 - nephr_loss: 8.4000 - inflan_ACCinflan: 0.4844 - nephr_ACCnephr: 0.4375 - val_loss: 13.8914 - val_inflan_loss: 8.3180 - val_nephr_loss: 8.0411 - val_inflan_ACCinflan: 0.3750 - val_nephr_ACCnephr: 0.4375\n",
      "Epoch 39/1000\n",
      "64/64 [==============================] - 0s 1ms/sample - loss: 13.0193 - inflan_loss: 7.0499 - nephr_loss: 8.1994 - inflan_ACCinflan: 0.4844 - nephr_ACCnephr: 0.4375 - val_loss: 13.5120 - val_inflan_loss: 8.0719 - val_nephr_loss: 7.8383 - val_inflan_ACCinflan: 0.3750 - val_nephr_ACCnephr: 0.4375\n",
      "Epoch 40/1000\n",
      "64/64 [==============================] - 0s 181us/sample - loss: 12.6769 - inflan_loss: 6.8476 - nephr_loss: 7.9987 - inflan_ACCinflan: 0.4844 - nephr_ACCnephr: 0.4375 - val_loss: 13.1326 - val_inflan_loss: 7.8257 - val_nephr_loss: 7.6355 - val_inflan_ACCinflan: 0.3750 - val_nephr_ACCnephr: 0.4375\n",
      "Epoch 41/1000\n",
      "64/64 [==============================] - 0s 2ms/sample - loss: 12.3346 - inflan_loss: 6.6454 - nephr_loss: 7.7980 - inflan_ACCinflan: 0.4844 - nephr_ACCnephr: 0.4375 - val_loss: 12.7531 - val_inflan_loss: 7.5796 - val_nephr_loss: 7.4328 - val_inflan_ACCinflan: 0.3750 - val_nephr_ACCnephr: 0.4375\n",
      "Epoch 42/1000\n",
      "64/64 [==============================] - 0s 2ms/sample - loss: 11.9922 - inflan_loss: 6.4432 - nephr_loss: 7.5974 - inflan_ACCinflan: 0.4844 - nephr_ACCnephr: 0.4375 - val_loss: 12.3737 - val_inflan_loss: 7.3334 - val_nephr_loss: 7.2300 - val_inflan_ACCinflan: 0.3750 - val_nephr_ACCnephr: 0.4375\n",
      "Epoch 43/1000\n",
      "64/64 [==============================] - 0s 193us/sample - loss: 11.6499 - inflan_loss: 6.2410 - nephr_loss: 7.3967 - inflan_ACCinflan: 0.4844 - nephr_ACCnephr: 0.4375 - val_loss: 11.9943 - val_inflan_loss: 7.0872 - val_nephr_loss: 7.0272 - val_inflan_ACCinflan: 0.3750 - val_nephr_ACCnephr: 0.4375\n",
      "Epoch 44/1000\n",
      "64/64 [==============================] - 0s 1ms/sample - loss: 11.3075 - inflan_loss: 6.0388 - nephr_loss: 7.1961 - inflan_ACCinflan: 0.4844 - nephr_ACCnephr: 0.4375 - val_loss: 11.6148 - val_inflan_loss: 6.8411 - val_nephr_loss: 6.8244 - val_inflan_ACCinflan: 0.3750 - val_nephr_ACCnephr: 0.4375\n",
      "Epoch 45/1000\n",
      "64/64 [==============================] - 0s 2ms/sample - loss: 10.9652 - inflan_loss: 5.8366 - nephr_loss: 6.9954 - inflan_ACCinflan: 0.4844 - nephr_ACCnephr: 0.4375 - val_loss: 11.2354 - val_inflan_loss: 6.5949 - val_nephr_loss: 6.6216 - val_inflan_ACCinflan: 0.3750 - val_nephr_ACCnephr: 0.4375\n",
      "Epoch 46/1000\n",
      "64/64 [==============================] - 0s 189us/sample - loss: 10.6228 - inflan_loss: 5.6344 - nephr_loss: 6.7948 - inflan_ACCinflan: 0.4844 - nephr_ACCnephr: 0.4375 - val_loss: 10.8560 - val_inflan_loss: 6.3488 - val_nephr_loss: 6.4189 - val_inflan_ACCinflan: 0.3750 - val_nephr_ACCnephr: 0.4375\n",
      "Epoch 47/1000\n",
      "64/64 [==============================] - 0s 1ms/sample - loss: 10.2805 - inflan_loss: 5.4322 - nephr_loss: 6.5941 - inflan_ACCinflan: 0.4844 - nephr_ACCnephr: 0.4375 - val_loss: 10.4766 - val_inflan_loss: 6.1026 - val_nephr_loss: 6.2161 - val_inflan_ACCinflan: 0.3750 - val_nephr_ACCnephr: 0.4375\n",
      "Epoch 48/1000\n",
      "64/64 [==============================] - 0s 2ms/sample - loss: 9.9381 - inflan_loss: 5.2300 - nephr_loss: 6.3935 - inflan_ACCinflan: 0.4844 - nephr_ACCnephr: 0.4375 - val_loss: 10.0972 - val_inflan_loss: 5.8565 - val_nephr_loss: 6.0133 - val_inflan_ACCinflan: 0.3750 - val_nephr_ACCnephr: 0.4375\n",
      "Epoch 49/1000\n",
      "64/64 [==============================] - 0s 189us/sample - loss: 9.5958 - inflan_loss: 5.0278 - nephr_loss: 6.1928 - inflan_ACCinflan: 0.4844 - nephr_ACCnephr: 0.4375 - val_loss: 9.7177 - val_inflan_loss: 5.6103 - val_nephr_loss: 5.8105 - val_inflan_ACCinflan: 0.3750 - val_nephr_ACCnephr: 0.4375\n",
      "Epoch 50/1000\n",
      "64/64 [==============================] - 0s 1ms/sample - loss: 9.2534 - inflan_loss: 4.8256 - nephr_loss: 5.9922 - inflan_ACCinflan: 0.4844 - nephr_ACCnephr: 0.4375 - val_loss: 9.3383 - val_inflan_loss: 5.3642 - val_nephr_loss: 5.6078 - val_inflan_ACCinflan: 0.3750 - val_nephr_ACCnephr: 0.4375\n",
      "Epoch 51/1000\n",
      "64/64 [==============================] - 0s 2ms/sample - loss: 8.9111 - inflan_loss: 4.6234 - nephr_loss: 5.7915 - inflan_ACCinflan: 0.4844 - nephr_ACCnephr: 0.4375 - val_loss: 8.9589 - val_inflan_loss: 5.1181 - val_nephr_loss: 5.4050 - val_inflan_ACCinflan: 0.3750 - val_nephr_ACCnephr: 0.4375\n",
      "Epoch 52/1000\n",
      "64/64 [==============================] - 0s 191us/sample - loss: 8.5688 - inflan_loss: 4.4212 - nephr_loss: 5.5909 - inflan_ACCinflan: 0.4844 - nephr_ACCnephr: 0.4375 - val_loss: 8.5796 - val_inflan_loss: 4.8720 - val_nephr_loss: 5.2022 - val_inflan_ACCinflan: 0.3750 - val_nephr_ACCnephr: 0.4375\n",
      "Epoch 53/1000\n",
      "64/64 [==============================] - 0s 191us/sample - loss: 8.2265 - inflan_loss: 4.2191 - nephr_loss: 5.3902 - inflan_ACCinflan: 0.4844 - nephr_ACCnephr: 0.4375 - val_loss: 8.2002 - val_inflan_loss: 4.6259 - val_nephr_loss: 4.9995 - val_inflan_ACCinflan: 0.3750 - val_nephr_ACCnephr: 0.4375\n"
     ]
    },
    {
     "name": "stdout",
     "output_type": "stream",
     "text": [
      "Epoch 54/1000\n",
      "64/64 [==============================] - 0s 2ms/sample - loss: 7.8842 - inflan_loss: 4.0169 - nephr_loss: 5.1896 - inflan_ACCinflan: 0.4844 - nephr_ACCnephr: 0.4375 - val_loss: 7.8210 - val_inflan_loss: 4.3799 - val_nephr_loss: 4.7967 - val_inflan_ACCinflan: 0.3750 - val_nephr_ACCnephr: 0.4375\n",
      "Epoch 55/1000\n",
      "64/64 [==============================] - 0s 191us/sample - loss: 7.5419 - inflan_loss: 3.8148 - nephr_loss: 4.9890 - inflan_ACCinflan: 0.4844 - nephr_ACCnephr: 0.4375 - val_loss: 7.4418 - val_inflan_loss: 4.1340 - val_nephr_loss: 4.5939 - val_inflan_ACCinflan: 0.3750 - val_nephr_ACCnephr: 0.4375\n",
      "Epoch 56/1000\n",
      "64/64 [==============================] - 0s 189us/sample - loss: 7.1997 - inflan_loss: 3.6128 - nephr_loss: 4.7883 - inflan_ACCinflan: 0.4844 - nephr_ACCnephr: 0.4375 - val_loss: 7.0627 - val_inflan_loss: 3.8882 - val_nephr_loss: 4.3912 - val_inflan_ACCinflan: 0.3750 - val_nephr_ACCnephr: 0.4375\n",
      "Epoch 57/1000\n",
      "64/64 [==============================] - 0s 2ms/sample - loss: 6.8576 - inflan_loss: 3.4108 - nephr_loss: 4.5877 - inflan_ACCinflan: 0.4844 - nephr_ACCnephr: 0.4375 - val_loss: 6.6837 - val_inflan_loss: 3.6426 - val_nephr_loss: 4.1885 - val_inflan_ACCinflan: 0.3750 - val_nephr_ACCnephr: 0.4375\n",
      "Epoch 58/1000\n",
      "64/64 [==============================] - 0s 1ms/sample - loss: 6.5156 - inflan_loss: 3.2089 - nephr_loss: 4.3871 - inflan_ACCinflan: 0.4844 - nephr_ACCnephr: 0.4375 - val_loss: 6.3051 - val_inflan_loss: 3.3973 - val_nephr_loss: 3.9858 - val_inflan_ACCinflan: 0.3750 - val_nephr_ACCnephr: 0.4375\n",
      "Epoch 59/1000\n",
      "64/64 [==============================] - 0s 191us/sample - loss: 6.1737 - inflan_loss: 3.0073 - nephr_loss: 4.1865 - inflan_ACCinflan: 0.4844 - nephr_ACCnephr: 0.4375 - val_loss: 5.9268 - val_inflan_loss: 3.1525 - val_nephr_loss: 3.7832 - val_inflan_ACCinflan: 0.3750 - val_nephr_ACCnephr: 0.4375\n",
      "Epoch 60/1000\n",
      "64/64 [==============================] - 0s 1ms/sample - loss: 5.8322 - inflan_loss: 2.8060 - nephr_loss: 3.9860 - inflan_ACCinflan: 0.4844 - nephr_ACCnephr: 0.4375 - val_loss: 5.5492 - val_inflan_loss: 2.9083 - val_nephr_loss: 3.5806 - val_inflan_ACCinflan: 0.3750 - val_nephr_ACCnephr: 0.4375\n",
      "Epoch 61/1000\n",
      "64/64 [==============================] - 0s 1ms/sample - loss: 5.4910 - inflan_loss: 2.6051 - nephr_loss: 3.7856 - inflan_ACCinflan: 0.4844 - nephr_ACCnephr: 0.4375 - val_loss: 5.1725 - val_inflan_loss: 2.6652 - val_nephr_loss: 3.3781 - val_inflan_ACCinflan: 0.3750 - val_nephr_ACCnephr: 0.4375\n",
      "Epoch 62/1000\n",
      "64/64 [==============================] - 0s 183us/sample - loss: 5.1506 - inflan_loss: 2.4048 - nephr_loss: 3.5852 - inflan_ACCinflan: 0.4844 - nephr_ACCnephr: 0.4375 - val_loss: 4.7971 - val_inflan_loss: 2.4236 - val_nephr_loss: 3.1758 - val_inflan_ACCinflan: 0.3750 - val_nephr_ACCnephr: 0.4375\n",
      "Epoch 63/1000\n",
      "64/64 [==============================] - 0s 1ms/sample - loss: 4.8110 - inflan_loss: 2.2057 - nephr_loss: 3.3850 - inflan_ACCinflan: 0.4844 - nephr_ACCnephr: 0.4375 - val_loss: 4.4239 - val_inflan_loss: 2.1844 - val_nephr_loss: 2.9738 - val_inflan_ACCinflan: 0.3750 - val_nephr_ACCnephr: 0.4375\n",
      "Epoch 64/1000\n",
      "64/64 [==============================] - 0s 2ms/sample - loss: 4.4730 - inflan_loss: 2.0081 - nephr_loss: 3.1850 - inflan_ACCinflan: 0.4844 - nephr_ACCnephr: 0.4375 - val_loss: 4.0538 - val_inflan_loss: 1.9487 - val_nephr_loss: 2.7721 - val_inflan_ACCinflan: 0.3750 - val_nephr_ACCnephr: 0.4375\n",
      "Epoch 65/1000\n",
      "64/64 [==============================] - 0s 190us/sample - loss: 4.1371 - inflan_loss: 1.8129 - nephr_loss: 2.9854 - inflan_ACCinflan: 0.4844 - nephr_ACCnephr: 0.4375 - val_loss: 3.6884 - val_inflan_loss: 1.7182 - val_nephr_loss: 2.5709 - val_inflan_ACCinflan: 0.3750 - val_nephr_ACCnephr: 0.4375\n",
      "Epoch 66/1000\n",
      "64/64 [==============================] - 0s 192us/sample - loss: 3.8046 - inflan_loss: 1.6212 - nephr_loss: 2.7863 - inflan_ACCinflan: 0.4844 - nephr_ACCnephr: 0.4375 - val_loss: 3.3296 - val_inflan_loss: 1.4951 - val_nephr_loss: 2.3706 - val_inflan_ACCinflan: 0.3750 - val_nephr_ACCnephr: 0.4375\n",
      "Epoch 67/1000\n",
      "64/64 [==============================] - 0s 1ms/sample - loss: 3.4769 - inflan_loss: 1.4347 - nephr_loss: 2.5879 - inflan_ACCinflan: 0.4844 - nephr_ACCnephr: 0.4375 - val_loss: 2.9805 - val_inflan_loss: 1.2826 - val_nephr_loss: 2.1716 - val_inflan_ACCinflan: 0.3750 - val_nephr_ACCnephr: 0.4375\n",
      "Epoch 68/1000\n",
      "64/64 [==============================] - 0s 182us/sample - loss: 3.1563 - inflan_loss: 1.2557 - nephr_loss: 2.3908 - inflan_ACCinflan: 0.4844 - nephr_ACCnephr: 0.4375 - val_loss: 2.6445 - val_inflan_loss: 1.0845 - val_nephr_loss: 1.9744 - val_inflan_ACCinflan: 0.3750 - val_nephr_ACCnephr: 0.4375\n",
      "Epoch 69/1000\n",
      "64/64 [==============================] - 0s 1ms/sample - loss: 2.8454 - inflan_loss: 1.0869 - nephr_loss: 2.1954 - inflan_ACCinflan: 0.4844 - nephr_ACCnephr: 0.4375 - val_loss: 2.3261 - val_inflan_loss: 0.9051 - val_nephr_loss: 1.7801 - val_inflan_ACCinflan: 0.3750 - val_nephr_ACCnephr: 0.4375\n",
      "Epoch 70/1000\n",
      "64/64 [==============================] - 0s 2ms/sample - loss: 2.5480 - inflan_loss: 0.9319 - nephr_loss: 2.0028 - inflan_ACCinflan: 0.4844 - nephr_ACCnephr: 0.4375 - val_loss: 2.0299 - val_inflan_loss: 0.7488 - val_nephr_loss: 1.5898 - val_inflan_ACCinflan: 0.3750 - val_nephr_ACCnephr: 0.4375\n",
      "Epoch 71/1000\n",
      "64/64 [==============================] - 0s 1ms/sample - loss: 2.2681 - inflan_loss: 0.7943 - nephr_loss: 1.8140 - inflan_ACCinflan: 0.4844 - nephr_ACCnephr: 0.4375 - val_loss: 1.7604 - val_inflan_loss: 0.6191 - val_nephr_loss: 1.4057 - val_inflan_ACCinflan: 0.4375 - val_nephr_ACCnephr: 0.4375\n",
      "Epoch 72/1000\n",
      "64/64 [==============================] - 0s 203us/sample - loss: 2.0099 - inflan_loss: 0.6774 - nephr_loss: 1.6311 - inflan_ACCinflan: 0.6250 - nephr_ACCnephr: 0.4375 - val_loss: 1.5215 - val_inflan_loss: 0.5181 - val_nephr_loss: 1.2301 - val_inflan_ACCinflan: 0.8125 - val_nephr_ACCnephr: 0.4375\n",
      "Epoch 73/1000\n",
      "64/64 [==============================] - 0s 1ms/sample - loss: 1.7777 - inflan_loss: 0.5835 - nephr_loss: 1.4565 - inflan_ACCinflan: 0.6875 - nephr_ACCnephr: 0.4375 - val_loss: 1.3163 - val_inflan_loss: 0.4456 - val_nephr_loss: 1.0664 - val_inflan_ACCinflan: 0.8750 - val_nephr_ACCnephr: 0.4375\n",
      "Epoch 74/1000\n",
      "64/64 [==============================] - 0s 2ms/sample - loss: 1.5752 - inflan_loss: 0.5137 - nephr_loss: 1.2936 - inflan_ACCinflan: 0.7500 - nephr_ACCnephr: 0.4375 - val_loss: 1.1467 - val_inflan_loss: 0.3998 - val_nephr_loss: 0.9187 - val_inflan_ACCinflan: 0.9375 - val_nephr_ACCnephr: 0.4375\n",
      "Epoch 75/1000\n",
      "64/64 [==============================] - 0s 192us/sample - loss: 1.4056 - inflan_loss: 0.4672 - nephr_loss: 1.1465 - inflan_ACCinflan: 0.8594 - nephr_ACCnephr: 0.4375 - val_loss: 1.0139 - val_inflan_loss: 0.3770 - val_nephr_loss: 0.7914 - val_inflan_ACCinflan: 0.9375 - val_nephr_ACCnephr: 0.4375\n",
      "Epoch 76/1000\n",
      "64/64 [==============================] - 0s 192us/sample - loss: 1.2714 - inflan_loss: 0.4421 - nephr_loss: 1.0197 - inflan_ACCinflan: 0.8906 - nephr_ACCnephr: 0.4375 - val_loss: 0.9177 - val_inflan_loss: 0.3727 - val_nephr_loss: 0.6883 - val_inflan_ACCinflan: 0.9375 - val_nephr_ACCnephr: 0.4375\n",
      "Epoch 77/1000\n",
      "64/64 [==============================] - 0s 2ms/sample - loss: 1.1736 - inflan_loss: 0.4348 - nephr_loss: 0.9175 - inflan_ACCinflan: 0.8438 - nephr_ACCnephr: 0.4375 - val_loss: 0.8565 - val_inflan_loss: 0.3819 - val_nephr_loss: 0.6122 - val_inflan_ACCinflan: 0.7500 - val_nephr_ACCnephr: 0.4375\n",
      "Epoch 78/1000\n",
      "64/64 [==============================] - 0s 1ms/sample - loss: 1.1115 - inflan_loss: 0.4413 - nephr_loss: 0.8427 - inflan_ACCinflan: 0.7031 - nephr_ACCnephr: 0.4375 - val_loss: 0.8269 - val_inflan_loss: 0.3999 - val_nephr_loss: 0.5633 - val_inflan_ACCinflan: 0.6875 - val_nephr_ACCnephr: 0.7500\n",
      "Epoch 79/1000\n",
      "64/64 [==============================] - 0s 195us/sample - loss: 1.0822 - inflan_loss: 0.4574 - nephr_loss: 0.7959 - inflan_ACCinflan: 0.6250 - nephr_ACCnephr: 0.3438 - val_loss: 0.8236 - val_inflan_loss: 0.4225 - val_nephr_loss: 0.5396 - val_inflan_ACCinflan: 0.6875 - val_nephr_ACCnephr: 0.7500\n",
      "Epoch 80/1000\n",
      "64/64 [==============================] - 0s 1ms/sample - loss: 1.0804 - inflan_loss: 0.4789 - nephr_loss: 0.7748 - inflan_ACCinflan: 0.6250 - nephr_ACCnephr: 0.3438 - val_loss: 0.8399 - val_inflan_loss: 0.4462 - val_nephr_loss: 0.5365 - val_inflan_ACCinflan: 0.6875 - val_nephr_ACCnephr: 0.6875\n"
     ]
    },
    {
     "name": "stdout",
     "output_type": "stream",
     "text": [
      "Epoch 81/1000\n",
      "64/64 [==============================] - 0s 1ms/sample - loss: 1.0991 - inflan_loss: 0.5023 - nephr_loss: 0.7748 - inflan_ACCinflan: 0.6250 - nephr_ACCnephr: 0.3750 - val_loss: 0.8684 - val_inflan_loss: 0.4686 - val_nephr_loss: 0.5483 - val_inflan_ACCinflan: 0.6875 - val_nephr_ACCnephr: 0.7500\n",
      "Epoch 82/1000\n",
      "64/64 [==============================] - 0s 201us/sample - loss: 1.1304 - inflan_loss: 0.5248 - nephr_loss: 0.7896 - inflan_ACCinflan: 0.6406 - nephr_ACCnephr: 0.4844 - val_loss: 0.9022 - val_inflan_loss: 0.4877 - val_nephr_loss: 0.5689 - val_inflan_ACCinflan: 0.7500 - val_nephr_ACCnephr: 0.7500\n",
      "Epoch 83/1000\n",
      "64/64 [==============================] - 0s 1ms/sample - loss: 1.1669 - inflan_loss: 0.5442 - nephr_loss: 0.8128 - inflan_ACCinflan: 0.7344 - nephr_ACCnephr: 0.5312 - val_loss: 0.9354 - val_inflan_loss: 0.5025 - val_nephr_loss: 0.5927 - val_inflan_ACCinflan: 0.7500 - val_nephr_ACCnephr: 0.7500\n",
      "Epoch 84/1000\n",
      "64/64 [==============================] - 0s 1ms/sample - loss: 1.2023 - inflan_loss: 0.5592 - nephr_loss: 0.8388 - inflan_ACCinflan: 0.7344 - nephr_ACCnephr: 0.6250 - val_loss: 0.9634 - val_inflan_loss: 0.5122 - val_nephr_loss: 0.6152 - val_inflan_ACCinflan: 0.7500 - val_nephr_ACCnephr: 0.7500\n",
      "Epoch 85/1000\n",
      "64/64 [==============================] - 0s 192us/sample - loss: 1.2318 - inflan_loss: 0.5690 - nephr_loss: 0.8629 - inflan_ACCinflan: 0.7344 - nephr_ACCnephr: 0.6250 - val_loss: 0.9834 - val_inflan_loss: 0.5167 - val_nephr_loss: 0.6334 - val_inflan_ACCinflan: 0.7500 - val_nephr_ACCnephr: 0.7500\n",
      "Epoch 86/1000\n",
      "64/64 [==============================] - 0s 1ms/sample - loss: 1.2524 - inflan_loss: 0.5733 - nephr_loss: 0.8820 - inflan_ACCinflan: 0.7344 - nephr_ACCnephr: 0.6250 - val_loss: 0.9937 - val_inflan_loss: 0.5163 - val_nephr_loss: 0.6452 - val_inflan_ACCinflan: 0.7500 - val_nephr_ACCnephr: 0.5625\n",
      "Epoch 87/1000\n",
      "64/64 [==============================] - 0s 2ms/sample - loss: 1.2625 - inflan_loss: 0.5723 - nephr_loss: 0.8940 - inflan_ACCinflan: 0.7344 - nephr_ACCnephr: 0.5625 - val_loss: 0.9939 - val_inflan_loss: 0.5114 - val_nephr_loss: 0.6498 - val_inflan_ACCinflan: 0.7500 - val_nephr_ACCnephr: 0.5625\n",
      "Epoch 88/1000\n",
      "64/64 [==============================] - 0s 191us/sample - loss: 1.2616 - inflan_loss: 0.5665 - nephr_loss: 0.8982 - inflan_ACCinflan: 0.7344 - nephr_ACCnephr: 0.5625 - val_loss: 0.9845 - val_inflan_loss: 0.5026 - val_nephr_loss: 0.6471 - val_inflan_ACCinflan: 0.7500 - val_nephr_ACCnephr: 0.5625\n",
      "Epoch 89/1000\n",
      "64/64 [==============================] - 0s 1ms/sample - loss: 1.2503 - inflan_loss: 0.5566 - nephr_loss: 0.8945 - inflan_ACCinflan: 0.7344 - nephr_ACCnephr: 0.5625 - val_loss: 0.9666 - val_inflan_loss: 0.4906 - val_nephr_loss: 0.6378 - val_inflan_ACCinflan: 0.7500 - val_nephr_ACCnephr: 0.5625\n",
      "Epoch 90/1000\n",
      "64/64 [==============================] - 0s 2ms/sample - loss: 1.2298 - inflan_loss: 0.5434 - nephr_loss: 0.8835 - inflan_ACCinflan: 0.7344 - nephr_ACCnephr: 0.5625 - val_loss: 0.9418 - val_inflan_loss: 0.4764 - val_nephr_loss: 0.6230 - val_inflan_ACCinflan: 0.7500 - val_nephr_ACCnephr: 0.7500\n",
      "Epoch 91/1000\n",
      "64/64 [==============================] - 0s 1ms/sample - loss: 1.2019 - inflan_loss: 0.5278 - nephr_loss: 0.8662 - inflan_ACCinflan: 0.7344 - nephr_ACCnephr: 0.6250 - val_loss: 0.9120 - val_inflan_loss: 0.4607 - val_nephr_loss: 0.6038 - val_inflan_ACCinflan: 0.7500 - val_nephr_ACCnephr: 0.7500\n",
      "Epoch 92/1000\n",
      "64/64 [==============================] - 0s 198us/sample - loss: 1.1684 - inflan_loss: 0.5109 - nephr_loss: 0.8440 - inflan_ACCinflan: 0.7344 - nephr_ACCnephr: 0.6250 - val_loss: 0.8793 - val_inflan_loss: 0.4443 - val_nephr_loss: 0.5820 - val_inflan_ACCinflan: 0.6875 - val_nephr_ACCnephr: 0.7500\n",
      "Epoch 93/1000\n",
      "64/64 [==============================] - 0s 2ms/sample - loss: 1.1315 - inflan_loss: 0.4935 - nephr_loss: 0.8185 - inflan_ACCinflan: 0.6250 - nephr_ACCnephr: 0.6250 - val_loss: 0.8457 - val_inflan_loss: 0.4281 - val_nephr_loss: 0.5591 - val_inflan_ACCinflan: 0.6875 - val_nephr_ACCnephr: 0.7500\n",
      "Epoch 94/1000\n",
      "64/64 [==============================] - 0s 1ms/sample - loss: 1.0933 - inflan_loss: 0.4765 - nephr_loss: 0.7913 - inflan_ACCinflan: 0.6250 - nephr_ACCnephr: 0.6250 - val_loss: 0.8131 - val_inflan_loss: 0.4127 - val_nephr_loss: 0.5366 - val_inflan_ACCinflan: 0.6875 - val_nephr_ACCnephr: 0.7500\n",
      "Epoch 95/1000\n",
      "64/64 [==============================] - 0s 190us/sample - loss: 1.0559 - inflan_loss: 0.4606 - nephr_loss: 0.7638 - inflan_ACCinflan: 0.6250 - nephr_ACCnephr: 0.6250 - val_loss: 0.7831 - val_inflan_loss: 0.3987 - val_nephr_loss: 0.5157 - val_inflan_ACCinflan: 0.6875 - val_nephr_ACCnephr: 0.8750\n",
      "Epoch 96/1000\n",
      "64/64 [==============================] - 0s 1ms/sample - loss: 1.0209 - inflan_loss: 0.4462 - nephr_loss: 0.7377 - inflan_ACCinflan: 0.6250 - nephr_ACCnephr: 0.7031 - val_loss: 0.7569 - val_inflan_loss: 0.3863 - val_nephr_loss: 0.4976 - val_inflan_ACCinflan: 0.6875 - val_nephr_ACCnephr: 0.8750\n",
      "Epoch 97/1000\n",
      "64/64 [==============================] - 0s 1ms/sample - loss: 0.9896 - inflan_loss: 0.4339 - nephr_loss: 0.7139 - inflan_ACCinflan: 0.6250 - nephr_ACCnephr: 0.7031 - val_loss: 0.7354 - val_inflan_loss: 0.3760 - val_nephr_loss: 0.4829 - val_inflan_ACCinflan: 0.7500 - val_nephr_ACCnephr: 0.8750\n",
      "Epoch 98/1000\n",
      "64/64 [==============================] - 0s 191us/sample - loss: 0.9630 - inflan_loss: 0.4238 - nephr_loss: 0.6933 - inflan_ACCinflan: 0.7031 - nephr_ACCnephr: 0.6094 - val_loss: 0.7190 - val_inflan_loss: 0.3678 - val_nephr_loss: 0.4719 - val_inflan_ACCinflan: 0.7500 - val_nephr_ACCnephr: 0.8125\n",
      "Epoch 99/1000\n",
      "64/64 [==============================] - 0s 1ms/sample - loss: 0.9416 - inflan_loss: 0.4159 - nephr_loss: 0.6765 - inflan_ACCinflan: 0.7812 - nephr_ACCnephr: 0.5781 - val_loss: 0.7076 - val_inflan_loss: 0.3617 - val_nephr_loss: 0.4647 - val_inflan_ACCinflan: 0.7500 - val_nephr_ACCnephr: 0.8125\n",
      "Epoch 100/1000\n",
      "64/64 [==============================] - 0s 1ms/sample - loss: 0.9253 - inflan_loss: 0.4103 - nephr_loss: 0.6635 - inflan_ACCinflan: 0.8281 - nephr_ACCnephr: 0.5781 - val_loss: 0.7008 - val_inflan_loss: 0.3575 - val_nephr_loss: 0.4609 - val_inflan_ACCinflan: 0.7500 - val_nephr_ACCnephr: 0.8125\n",
      "Epoch 101/1000\n",
      "64/64 [==============================] - 0s 188us/sample - loss: 0.9138 - inflan_loss: 0.4065 - nephr_loss: 0.6540 - inflan_ACCinflan: 0.8281 - nephr_ACCnephr: 0.5781 - val_loss: 0.6978 - val_inflan_loss: 0.3549 - val_nephr_loss: 0.4598 - val_inflan_ACCinflan: 0.9375 - val_nephr_ACCnephr: 0.8125\n",
      "Epoch 102/1000\n",
      "64/64 [==============================] - 0s 1ms/sample - loss: 0.9065 - inflan_loss: 0.4044 - nephr_loss: 0.6477 - inflan_ACCinflan: 0.8750 - nephr_ACCnephr: 0.5781 - val_loss: 0.6978 - val_inflan_loss: 0.3537 - val_nephr_loss: 0.4610 - val_inflan_ACCinflan: 0.9375 - val_nephr_ACCnephr: 0.7500\n",
      "Epoch 103/1000\n",
      "64/64 [==============================] - 0s 2ms/sample - loss: 0.9024 - inflan_loss: 0.4036 - nephr_loss: 0.6439 - inflan_ACCinflan: 0.8906 - nephr_ACCnephr: 0.4688 - val_loss: 0.6999 - val_inflan_loss: 0.3535 - val_nephr_loss: 0.4634 - val_inflan_ACCinflan: 0.9375 - val_nephr_ACCnephr: 0.7500\n",
      "Epoch 104/1000\n",
      "64/64 [==============================] - 0s 185us/sample - loss: 0.9006 - inflan_loss: 0.4038 - nephr_loss: 0.6418 - inflan_ACCinflan: 0.8906 - nephr_ACCnephr: 0.4688 - val_loss: 0.7031 - val_inflan_loss: 0.3539 - val_nephr_loss: 0.4666 - val_inflan_ACCinflan: 0.9375 - val_nephr_ACCnephr: 0.7500\n",
      "Epoch 105/1000\n",
      "64/64 [==============================] - 0s 1ms/sample - loss: 0.9003 - inflan_loss: 0.4045 - nephr_loss: 0.6408 - inflan_ACCinflan: 0.8906 - nephr_ACCnephr: 0.4688 - val_loss: 0.7065 - val_inflan_loss: 0.3548 - val_nephr_loss: 0.4697 - val_inflan_ACCinflan: 0.9375 - val_nephr_ACCnephr: 0.8125\n",
      "Epoch 106/1000\n",
      "64/64 [==============================] - 0s 2ms/sample - loss: 0.9004 - inflan_loss: 0.4054 - nephr_loss: 0.6401 - inflan_ACCinflan: 0.8906 - nephr_ACCnephr: 0.5469 - val_loss: 0.7096 - val_inflan_loss: 0.3557 - val_nephr_loss: 0.4723 - val_inflan_ACCinflan: 0.9375 - val_nephr_ACCnephr: 0.8125\n",
      "Epoch 107/1000\n",
      "64/64 [==============================] - 0s 186us/sample - loss: 0.9003 - inflan_loss: 0.4063 - nephr_loss: 0.6392 - inflan_ACCinflan: 0.8906 - nephr_ACCnephr: 0.5156 - val_loss: 0.7117 - val_inflan_loss: 0.3564 - val_nephr_loss: 0.4739 - val_inflan_ACCinflan: 0.9375 - val_nephr_ACCnephr: 0.8125\n"
     ]
    },
    {
     "name": "stdout",
     "output_type": "stream",
     "text": [
      "Epoch 108/1000\n",
      "64/64 [==============================] - 0s 1ms/sample - loss: 0.8996 - inflan_loss: 0.4070 - nephr_loss: 0.6378 - inflan_ACCinflan: 0.8906 - nephr_ACCnephr: 0.5781 - val_loss: 0.7125 - val_inflan_loss: 0.3569 - val_nephr_loss: 0.4745 - val_inflan_ACCinflan: 0.9375 - val_nephr_ACCnephr: 0.8125\n",
      "Epoch 109/1000\n",
      "64/64 [==============================] - 0s 2ms/sample - loss: 0.8977 - inflan_loss: 0.4072 - nephr_loss: 0.6355 - inflan_ACCinflan: 0.8906 - nephr_ACCnephr: 0.5469 - val_loss: 0.7119 - val_inflan_loss: 0.3570 - val_nephr_loss: 0.4737 - val_inflan_ACCinflan: 0.9375 - val_nephr_ACCnephr: 0.8125\n",
      "Epoch 110/1000\n",
      "64/64 [==============================] - 0s 1ms/sample - loss: 0.8946 - inflan_loss: 0.4070 - nephr_loss: 0.6322 - inflan_ACCinflan: 0.8906 - nephr_ACCnephr: 0.5469 - val_loss: 0.7098 - val_inflan_loss: 0.3566 - val_nephr_loss: 0.4717 - val_inflan_ACCinflan: 0.9375 - val_nephr_ACCnephr: 0.8125\n",
      "Epoch 111/1000\n",
      "64/64 [==============================] - 0s 185us/sample - loss: 0.8903 - inflan_loss: 0.4063 - nephr_loss: 0.6280 - inflan_ACCinflan: 0.8906 - nephr_ACCnephr: 0.5938 - val_loss: 0.7064 - val_inflan_loss: 0.3559 - val_nephr_loss: 0.4686 - val_inflan_ACCinflan: 0.9375 - val_nephr_ACCnephr: 0.8125\n",
      "Epoch 112/1000\n",
      "64/64 [==============================] - 0s 1ms/sample - loss: 0.8847 - inflan_loss: 0.4051 - nephr_loss: 0.6230 - inflan_ACCinflan: 0.8906 - nephr_ACCnephr: 0.6406 - val_loss: 0.7018 - val_inflan_loss: 0.3547 - val_nephr_loss: 0.4645 - val_inflan_ACCinflan: 0.9375 - val_nephr_ACCnephr: 0.8125\n",
      "Epoch 113/1000\n",
      "64/64 [==============================] - 0s 1ms/sample - loss: 0.8782 - inflan_loss: 0.4034 - nephr_loss: 0.6172 - inflan_ACCinflan: 0.8906 - nephr_ACCnephr: 0.6719 - val_loss: 0.6963 - val_inflan_loss: 0.3533 - val_nephr_loss: 0.4596 - val_inflan_ACCinflan: 0.9375 - val_nephr_ACCnephr: 0.8125\n",
      "Epoch 114/1000\n",
      "64/64 [==============================] - 0s 204us/sample - loss: 0.8710 - inflan_loss: 0.4014 - nephr_loss: 0.6110 - inflan_ACCinflan: 0.8906 - nephr_ACCnephr: 0.6719 - val_loss: 0.6902 - val_inflan_loss: 0.3517 - val_nephr_loss: 0.4543 - val_inflan_ACCinflan: 0.9375 - val_nephr_ACCnephr: 0.8125\n",
      "Epoch 115/1000\n",
      "64/64 [==============================] - 0s 2ms/sample - loss: 0.8633 - inflan_loss: 0.3991 - nephr_loss: 0.6045 - inflan_ACCinflan: 0.8906 - nephr_ACCnephr: 0.6406 - val_loss: 0.6838 - val_inflan_loss: 0.3499 - val_nephr_loss: 0.4488 - val_inflan_ACCinflan: 0.9375 - val_nephr_ACCnephr: 0.8125\n",
      "Epoch 116/1000\n",
      "64/64 [==============================] - 0s 2ms/sample - loss: 0.8554 - inflan_loss: 0.3966 - nephr_loss: 0.5979 - inflan_ACCinflan: 0.8906 - nephr_ACCnephr: 0.5781 - val_loss: 0.6774 - val_inflan_loss: 0.3481 - val_nephr_loss: 0.4432 - val_inflan_ACCinflan: 0.9375 - val_nephr_ACCnephr: 0.8125\n",
      "Epoch 117/1000\n",
      "64/64 [==============================] - 0s 188us/sample - loss: 0.8477 - inflan_loss: 0.3941 - nephr_loss: 0.5915 - inflan_ACCinflan: 0.8906 - nephr_ACCnephr: 0.5938 - val_loss: 0.6712 - val_inflan_loss: 0.3464 - val_nephr_loss: 0.4378 - val_inflan_ACCinflan: 0.9375 - val_nephr_ACCnephr: 0.8125\n",
      "Epoch 118/1000\n",
      "64/64 [==============================] - 0s 200us/sample - loss: 0.8402 - inflan_loss: 0.3916 - nephr_loss: 0.5855 - inflan_ACCinflan: 0.8906 - nephr_ACCnephr: 0.6094 - val_loss: 0.6653 - val_inflan_loss: 0.3449 - val_nephr_loss: 0.4327 - val_inflan_ACCinflan: 0.9375 - val_nephr_ACCnephr: 0.8125\n",
      "Epoch 119/1000\n",
      "64/64 [==============================] - 0s 2ms/sample - loss: 0.8333 - inflan_loss: 0.3892 - nephr_loss: 0.5799 - inflan_ACCinflan: 0.8906 - nephr_ACCnephr: 0.5781 - val_loss: 0.6600 - val_inflan_loss: 0.3435 - val_nephr_loss: 0.4280 - val_inflan_ACCinflan: 0.9375 - val_nephr_ACCnephr: 0.8125\n",
      "Epoch 120/1000\n",
      "64/64 [==============================] - 0s 195us/sample - loss: 0.8268 - inflan_loss: 0.3870 - nephr_loss: 0.5747 - inflan_ACCinflan: 0.8906 - nephr_ACCnephr: 0.5781 - val_loss: 0.6552 - val_inflan_loss: 0.3423 - val_nephr_loss: 0.4238 - val_inflan_ACCinflan: 0.9375 - val_nephr_ACCnephr: 0.8125\n",
      "Epoch 121/1000\n",
      "64/64 [==============================] - 0s 1ms/sample - loss: 0.8210 - inflan_loss: 0.3850 - nephr_loss: 0.5701 - inflan_ACCinflan: 0.8906 - nephr_ACCnephr: 0.5781 - val_loss: 0.6511 - val_inflan_loss: 0.3413 - val_nephr_loss: 0.4200 - val_inflan_ACCinflan: 0.9375 - val_nephr_ACCnephr: 0.8125\n",
      "Epoch 122/1000\n",
      "64/64 [==============================] - 0s 2ms/sample - loss: 0.8158 - inflan_loss: 0.3832 - nephr_loss: 0.5659 - inflan_ACCinflan: 0.8906 - nephr_ACCnephr: 0.5781 - val_loss: 0.6474 - val_inflan_loss: 0.3405 - val_nephr_loss: 0.4167 - val_inflan_ACCinflan: 0.9375 - val_nephr_ACCnephr: 0.8125\n",
      "Epoch 123/1000\n",
      "64/64 [==============================] - 0s 1ms/sample - loss: 0.8111 - inflan_loss: 0.3815 - nephr_loss: 0.5621 - inflan_ACCinflan: 0.8906 - nephr_ACCnephr: 0.5781 - val_loss: 0.6443 - val_inflan_loss: 0.3399 - val_nephr_loss: 0.4138 - val_inflan_ACCinflan: 0.9375 - val_nephr_ACCnephr: 0.8125\n",
      "Epoch 124/1000\n",
      "64/64 [==============================] - 0s 226us/sample - loss: 0.8069 - inflan_loss: 0.3802 - nephr_loss: 0.5586 - inflan_ACCinflan: 0.8906 - nephr_ACCnephr: 0.5781 - val_loss: 0.6417 - val_inflan_loss: 0.3394 - val_nephr_loss: 0.4112 - val_inflan_ACCinflan: 0.9375 - val_nephr_ACCnephr: 0.8125\n",
      "Epoch 125/1000\n",
      "64/64 [==============================] - 0s 222us/sample - loss: 0.8030 - inflan_loss: 0.3789 - nephr_loss: 0.5554 - inflan_ACCinflan: 0.8906 - nephr_ACCnephr: 0.5938 - val_loss: 0.6393 - val_inflan_loss: 0.3391 - val_nephr_loss: 0.4089 - val_inflan_ACCinflan: 0.9375 - val_nephr_ACCnephr: 0.8125\n",
      "Epoch 126/1000\n",
      "64/64 [==============================] - 0s 2ms/sample - loss: 0.7994 - inflan_loss: 0.3779 - nephr_loss: 0.5523 - inflan_ACCinflan: 0.8906 - nephr_ACCnephr: 0.6719 - val_loss: 0.6372 - val_inflan_loss: 0.3388 - val_nephr_loss: 0.4068 - val_inflan_ACCinflan: 0.9375 - val_nephr_ACCnephr: 0.8125\n",
      "Epoch 127/1000\n",
      "64/64 [==============================] - 0s 1ms/sample - loss: 0.7959 - inflan_loss: 0.3769 - nephr_loss: 0.5493 - inflan_ACCinflan: 0.8906 - nephr_ACCnephr: 0.6719 - val_loss: 0.6353 - val_inflan_loss: 0.3386 - val_nephr_loss: 0.4049 - val_inflan_ACCinflan: 0.9375 - val_nephr_ACCnephr: 0.8125\n",
      "Epoch 128/1000\n",
      "64/64 [==============================] - 0s 207us/sample - loss: 0.7925 - inflan_loss: 0.3760 - nephr_loss: 0.5463 - inflan_ACCinflan: 0.8594 - nephr_ACCnephr: 0.6719 - val_loss: 0.6335 - val_inflan_loss: 0.3384 - val_nephr_loss: 0.4031 - val_inflan_ACCinflan: 0.9375 - val_nephr_ACCnephr: 0.8125\n",
      "Epoch 129/1000\n",
      "64/64 [==============================] - 0s 1ms/sample - loss: 0.7890 - inflan_loss: 0.3751 - nephr_loss: 0.5432 - inflan_ACCinflan: 0.8438 - nephr_ACCnephr: 0.6719 - val_loss: 0.6317 - val_inflan_loss: 0.3381 - val_nephr_loss: 0.4013 - val_inflan_ACCinflan: 0.8750 - val_nephr_ACCnephr: 0.8125\n",
      "Epoch 130/1000\n",
      "64/64 [==============================] - 0s 1ms/sample - loss: 0.7855 - inflan_loss: 0.3743 - nephr_loss: 0.5400 - inflan_ACCinflan: 0.8438 - nephr_ACCnephr: 0.6719 - val_loss: 0.6299 - val_inflan_loss: 0.3378 - val_nephr_loss: 0.3997 - val_inflan_ACCinflan: 0.8750 - val_nephr_ACCnephr: 0.8125\n",
      "Epoch 131/1000\n",
      "64/64 [==============================] - 0s 193us/sample - loss: 0.7818 - inflan_loss: 0.3734 - nephr_loss: 0.5368 - inflan_ACCinflan: 0.8438 - nephr_ACCnephr: 0.6719 - val_loss: 0.6281 - val_inflan_loss: 0.3374 - val_nephr_loss: 0.3981 - val_inflan_ACCinflan: 0.8750 - val_nephr_ACCnephr: 0.8125\n",
      "Epoch 132/1000\n",
      "64/64 [==============================] - 0s 1ms/sample - loss: 0.7781 - inflan_loss: 0.3725 - nephr_loss: 0.5334 - inflan_ACCinflan: 0.8438 - nephr_ACCnephr: 0.6719 - val_loss: 0.6264 - val_inflan_loss: 0.3369 - val_nephr_loss: 0.3965 - val_inflan_ACCinflan: 0.8125 - val_nephr_ACCnephr: 0.8125\n",
      "Epoch 133/1000\n",
      "64/64 [==============================] - 0s 2ms/sample - loss: 0.7743 - inflan_loss: 0.3716 - nephr_loss: 0.5300 - inflan_ACCinflan: 0.8438 - nephr_ACCnephr: 0.6719 - val_loss: 0.6246 - val_inflan_loss: 0.3363 - val_nephr_loss: 0.3951 - val_inflan_ACCinflan: 0.8125 - val_nephr_ACCnephr: 0.8125\n",
      "Epoch 134/1000\n",
      "64/64 [==============================] - 0s 180us/sample - loss: 0.7703 - inflan_loss: 0.3706 - nephr_loss: 0.5265 - inflan_ACCinflan: 0.8438 - nephr_ACCnephr: 0.6719 - val_loss: 0.6228 - val_inflan_loss: 0.3357 - val_nephr_loss: 0.3937 - val_inflan_ACCinflan: 0.8125 - val_nephr_ACCnephr: 0.8125\n"
     ]
    },
    {
     "name": "stdout",
     "output_type": "stream",
     "text": [
      "Epoch 135/1000\n",
      "64/64 [==============================] - 0s 1ms/sample - loss: 0.7664 - inflan_loss: 0.3695 - nephr_loss: 0.5231 - inflan_ACCinflan: 0.8438 - nephr_ACCnephr: 0.6719 - val_loss: 0.6211 - val_inflan_loss: 0.3350 - val_nephr_loss: 0.3924 - val_inflan_ACCinflan: 0.8750 - val_nephr_ACCnephr: 0.8125\n",
      "Epoch 136/1000\n",
      "64/64 [==============================] - 0s 1ms/sample - loss: 0.7624 - inflan_loss: 0.3685 - nephr_loss: 0.5196 - inflan_ACCinflan: 0.8438 - nephr_ACCnephr: 0.6719 - val_loss: 0.6194 - val_inflan_loss: 0.3342 - val_nephr_loss: 0.3912 - val_inflan_ACCinflan: 0.8750 - val_nephr_ACCnephr: 0.8125\n",
      "Epoch 137/1000\n",
      "64/64 [==============================] - 0s 184us/sample - loss: 0.7584 - inflan_loss: 0.3673 - nephr_loss: 0.5162 - inflan_ACCinflan: 0.8438 - nephr_ACCnephr: 0.6719 - val_loss: 0.6178 - val_inflan_loss: 0.3334 - val_nephr_loss: 0.3901 - val_inflan_ACCinflan: 0.8750 - val_nephr_ACCnephr: 0.8125\n",
      "Epoch 138/1000\n",
      "64/64 [==============================] - 0s 1ms/sample - loss: 0.7545 - inflan_loss: 0.3662 - nephr_loss: 0.5128 - inflan_ACCinflan: 0.8438 - nephr_ACCnephr: 0.6719 - val_loss: 0.6162 - val_inflan_loss: 0.3325 - val_nephr_loss: 0.3891 - val_inflan_ACCinflan: 0.9375 - val_nephr_ACCnephr: 0.8125\n",
      "Epoch 139/1000\n",
      "64/64 [==============================] - 0s 2ms/sample - loss: 0.7507 - inflan_loss: 0.3651 - nephr_loss: 0.5096 - inflan_ACCinflan: 0.8438 - nephr_ACCnephr: 0.6719 - val_loss: 0.6146 - val_inflan_loss: 0.3316 - val_nephr_loss: 0.3882 - val_inflan_ACCinflan: 0.9375 - val_nephr_ACCnephr: 0.8125\n",
      "Epoch 140/1000\n",
      "64/64 [==============================] - 0s 187us/sample - loss: 0.7469 - inflan_loss: 0.3639 - nephr_loss: 0.5064 - inflan_ACCinflan: 0.8438 - nephr_ACCnephr: 0.6719 - val_loss: 0.6132 - val_inflan_loss: 0.3308 - val_nephr_loss: 0.3873 - val_inflan_ACCinflan: 0.9375 - val_nephr_ACCnephr: 0.8125\n",
      "Epoch 141/1000\n",
      "64/64 [==============================] - 0s 1ms/sample - loss: 0.7432 - inflan_loss: 0.3628 - nephr_loss: 0.5033 - inflan_ACCinflan: 0.8594 - nephr_ACCnephr: 0.6719 - val_loss: 0.6117 - val_inflan_loss: 0.3299 - val_nephr_loss: 0.3865 - val_inflan_ACCinflan: 0.9375 - val_nephr_ACCnephr: 0.8125\n",
      "Epoch 142/1000\n",
      "64/64 [==============================] - 0s 2ms/sample - loss: 0.7396 - inflan_loss: 0.3617 - nephr_loss: 0.5003 - inflan_ACCinflan: 0.8750 - nephr_ACCnephr: 0.6719 - val_loss: 0.6103 - val_inflan_loss: 0.3290 - val_nephr_loss: 0.3856 - val_inflan_ACCinflan: 0.9375 - val_nephr_ACCnephr: 0.8125\n",
      "Epoch 143/1000\n",
      "64/64 [==============================] - 0s 1ms/sample - loss: 0.7361 - inflan_loss: 0.3606 - nephr_loss: 0.4974 - inflan_ACCinflan: 0.8906 - nephr_ACCnephr: 0.6719 - val_loss: 0.6089 - val_inflan_loss: 0.3282 - val_nephr_loss: 0.3848 - val_inflan_ACCinflan: 0.9375 - val_nephr_ACCnephr: 0.8125\n",
      "Epoch 144/1000\n",
      "64/64 [==============================] - 0s 199us/sample - loss: 0.7326 - inflan_loss: 0.3595 - nephr_loss: 0.4945 - inflan_ACCinflan: 0.8906 - nephr_ACCnephr: 0.6719 - val_loss: 0.6075 - val_inflan_loss: 0.3274 - val_nephr_loss: 0.3840 - val_inflan_ACCinflan: 0.9375 - val_nephr_ACCnephr: 0.8125\n",
      "Epoch 145/1000\n",
      "64/64 [==============================] - 0s 1ms/sample - loss: 0.7293 - inflan_loss: 0.3584 - nephr_loss: 0.4917 - inflan_ACCinflan: 0.8906 - nephr_ACCnephr: 0.6719 - val_loss: 0.6061 - val_inflan_loss: 0.3266 - val_nephr_loss: 0.3831 - val_inflan_ACCinflan: 0.9375 - val_nephr_ACCnephr: 0.8125\n",
      "Epoch 146/1000\n",
      "64/64 [==============================] - 0s 1ms/sample - loss: 0.7260 - inflan_loss: 0.3574 - nephr_loss: 0.4889 - inflan_ACCinflan: 0.8906 - nephr_ACCnephr: 0.6719 - val_loss: 0.6046 - val_inflan_loss: 0.3258 - val_nephr_loss: 0.3822 - val_inflan_ACCinflan: 0.9375 - val_nephr_ACCnephr: 0.8125\n",
      "Epoch 147/1000\n",
      "64/64 [==============================] - 0s 193us/sample - loss: 0.7227 - inflan_loss: 0.3564 - nephr_loss: 0.4862 - inflan_ACCinflan: 0.8906 - nephr_ACCnephr: 0.7031 - val_loss: 0.6031 - val_inflan_loss: 0.3251 - val_nephr_loss: 0.3812 - val_inflan_ACCinflan: 0.9375 - val_nephr_ACCnephr: 0.8750\n",
      "Epoch 148/1000\n",
      "64/64 [==============================] - 0s 1ms/sample - loss: 0.7195 - inflan_loss: 0.3554 - nephr_loss: 0.4835 - inflan_ACCinflan: 0.8906 - nephr_ACCnephr: 0.7500 - val_loss: 0.6016 - val_inflan_loss: 0.3244 - val_nephr_loss: 0.3801 - val_inflan_ACCinflan: 0.9375 - val_nephr_ACCnephr: 0.8750\n",
      "Epoch 149/1000\n",
      "64/64 [==============================] - 0s 2ms/sample - loss: 0.7163 - inflan_loss: 0.3545 - nephr_loss: 0.4808 - inflan_ACCinflan: 0.8906 - nephr_ACCnephr: 0.7500 - val_loss: 0.6000 - val_inflan_loss: 0.3237 - val_nephr_loss: 0.3789 - val_inflan_ACCinflan: 0.9375 - val_nephr_ACCnephr: 0.8750\n",
      "Epoch 150/1000\n",
      "64/64 [==============================] - 0s 254us/sample - loss: 0.7131 - inflan_loss: 0.3535 - nephr_loss: 0.4781 - inflan_ACCinflan: 0.8906 - nephr_ACCnephr: 0.7812 - val_loss: 0.5983 - val_inflan_loss: 0.3231 - val_nephr_loss: 0.3777 - val_inflan_ACCinflan: 0.9375 - val_nephr_ACCnephr: 0.8750\n",
      "Epoch 151/1000\n",
      "64/64 [==============================] - 0s 1ms/sample - loss: 0.7099 - inflan_loss: 0.3526 - nephr_loss: 0.4754 - inflan_ACCinflan: 0.8906 - nephr_ACCnephr: 0.7969 - val_loss: 0.5966 - val_inflan_loss: 0.3224 - val_nephr_loss: 0.3763 - val_inflan_ACCinflan: 0.9375 - val_nephr_ACCnephr: 0.8750\n",
      "Epoch 152/1000\n",
      "64/64 [==============================] - 0s 2ms/sample - loss: 0.7068 - inflan_loss: 0.3516 - nephr_loss: 0.4728 - inflan_ACCinflan: 0.8906 - nephr_ACCnephr: 0.8281 - val_loss: 0.5949 - val_inflan_loss: 0.3218 - val_nephr_loss: 0.3750 - val_inflan_ACCinflan: 0.9375 - val_nephr_ACCnephr: 0.8750\n",
      "Epoch 153/1000\n",
      "64/64 [==============================] - 0s 1ms/sample - loss: 0.7037 - inflan_loss: 0.3507 - nephr_loss: 0.4701 - inflan_ACCinflan: 0.8906 - nephr_ACCnephr: 0.8281 - val_loss: 0.5931 - val_inflan_loss: 0.3212 - val_nephr_loss: 0.3735 - val_inflan_ACCinflan: 0.9375 - val_nephr_ACCnephr: 0.8750\n",
      "Epoch 154/1000\n",
      "64/64 [==============================] - 0s 194us/sample - loss: 0.7005 - inflan_loss: 0.3497 - nephr_loss: 0.4675 - inflan_ACCinflan: 0.8906 - nephr_ACCnephr: 0.8750 - val_loss: 0.5913 - val_inflan_loss: 0.3206 - val_nephr_loss: 0.3721 - val_inflan_ACCinflan: 0.9375 - val_nephr_ACCnephr: 0.8750\n",
      "Epoch 155/1000\n",
      "64/64 [==============================] - 0s 197us/sample - loss: 0.6974 - inflan_loss: 0.3488 - nephr_loss: 0.4649 - inflan_ACCinflan: 0.8906 - nephr_ACCnephr: 0.8750 - val_loss: 0.5895 - val_inflan_loss: 0.3199 - val_nephr_loss: 0.3706 - val_inflan_ACCinflan: 0.9375 - val_nephr_ACCnephr: 0.8750\n",
      "Epoch 156/1000\n",
      "64/64 [==============================] - 0s 1ms/sample - loss: 0.6943 - inflan_loss: 0.3479 - nephr_loss: 0.4623 - inflan_ACCinflan: 0.8906 - nephr_ACCnephr: 0.8750 - val_loss: 0.5877 - val_inflan_loss: 0.3193 - val_nephr_loss: 0.3691 - val_inflan_ACCinflan: 0.9375 - val_nephr_ACCnephr: 0.8750\n",
      "Epoch 157/1000\n",
      "64/64 [==============================] - 0s 1ms/sample - loss: 0.6913 - inflan_loss: 0.3469 - nephr_loss: 0.4597 - inflan_ACCinflan: 0.8906 - nephr_ACCnephr: 0.8750 - val_loss: 0.5859 - val_inflan_loss: 0.3188 - val_nephr_loss: 0.3676 - val_inflan_ACCinflan: 0.9375 - val_nephr_ACCnephr: 0.8750\n",
      "Epoch 158/1000\n",
      "64/64 [==============================] - 0s 185us/sample - loss: 0.6882 - inflan_loss: 0.3460 - nephr_loss: 0.4572 - inflan_ACCinflan: 0.8906 - nephr_ACCnephr: 0.8750 - val_loss: 0.5841 - val_inflan_loss: 0.3182 - val_nephr_loss: 0.3661 - val_inflan_ACCinflan: 0.9375 - val_nephr_ACCnephr: 0.8750\n",
      "Epoch 159/1000\n",
      "64/64 [==============================] - 0s 2ms/sample - loss: 0.6852 - inflan_loss: 0.3450 - nephr_loss: 0.4547 - inflan_ACCinflan: 0.8906 - nephr_ACCnephr: 0.8750 - val_loss: 0.5823 - val_inflan_loss: 0.3176 - val_nephr_loss: 0.3647 - val_inflan_ACCinflan: 0.9375 - val_nephr_ACCnephr: 0.8750\n",
      "Epoch 160/1000\n",
      "64/64 [==============================] - 0s 1ms/sample - loss: 0.6823 - inflan_loss: 0.3441 - nephr_loss: 0.4522 - inflan_ACCinflan: 0.8906 - nephr_ACCnephr: 0.8750 - val_loss: 0.5805 - val_inflan_loss: 0.3170 - val_nephr_loss: 0.3632 - val_inflan_ACCinflan: 0.9375 - val_nephr_ACCnephr: 0.8750\n",
      "Epoch 161/1000\n",
      "64/64 [==============================] - 0s 192us/sample - loss: 0.6793 - inflan_loss: 0.3432 - nephr_loss: 0.4498 - inflan_ACCinflan: 0.8906 - nephr_ACCnephr: 0.8750 - val_loss: 0.5788 - val_inflan_loss: 0.3164 - val_nephr_loss: 0.3618 - val_inflan_ACCinflan: 0.9375 - val_nephr_ACCnephr: 0.8750\n"
     ]
    },
    {
     "name": "stdout",
     "output_type": "stream",
     "text": [
      "Epoch 162/1000\n",
      "64/64 [==============================] - 0s 1ms/sample - loss: 0.6764 - inflan_loss: 0.3422 - nephr_loss: 0.4473 - inflan_ACCinflan: 0.8906 - nephr_ACCnephr: 0.8750 - val_loss: 0.5771 - val_inflan_loss: 0.3159 - val_nephr_loss: 0.3604 - val_inflan_ACCinflan: 0.9375 - val_nephr_ACCnephr: 0.8750\n",
      "Epoch 163/1000\n",
      "64/64 [==============================] - 0s 1ms/sample - loss: 0.6735 - inflan_loss: 0.3413 - nephr_loss: 0.4450 - inflan_ACCinflan: 0.8906 - nephr_ACCnephr: 0.8750 - val_loss: 0.5755 - val_inflan_loss: 0.3153 - val_nephr_loss: 0.3591 - val_inflan_ACCinflan: 0.9375 - val_nephr_ACCnephr: 0.8750\n",
      "Epoch 164/1000\n",
      "64/64 [==============================] - 0s 188us/sample - loss: 0.6706 - inflan_loss: 0.3404 - nephr_loss: 0.4426 - inflan_ACCinflan: 0.8906 - nephr_ACCnephr: 0.8750 - val_loss: 0.5739 - val_inflan_loss: 0.3148 - val_nephr_loss: 0.3578 - val_inflan_ACCinflan: 0.9375 - val_nephr_ACCnephr: 0.8750\n",
      "Epoch 165/1000\n",
      "64/64 [==============================] - 0s 2ms/sample - loss: 0.6678 - inflan_loss: 0.3394 - nephr_loss: 0.4403 - inflan_ACCinflan: 0.8906 - nephr_ACCnephr: 0.8750 - val_loss: 0.5723 - val_inflan_loss: 0.3142 - val_nephr_loss: 0.3566 - val_inflan_ACCinflan: 0.9375 - val_nephr_ACCnephr: 0.8750\n",
      "Epoch 166/1000\n",
      "64/64 [==============================] - 0s 1ms/sample - loss: 0.6650 - inflan_loss: 0.3385 - nephr_loss: 0.4380 - inflan_ACCinflan: 0.8906 - nephr_ACCnephr: 0.8750 - val_loss: 0.5708 - val_inflan_loss: 0.3137 - val_nephr_loss: 0.3554 - val_inflan_ACCinflan: 0.9375 - val_nephr_ACCnephr: 0.8750\n",
      "Epoch 167/1000\n",
      "64/64 [==============================] - 0s 187us/sample - loss: 0.6622 - inflan_loss: 0.3376 - nephr_loss: 0.4357 - inflan_ACCinflan: 0.8906 - nephr_ACCnephr: 0.8750 - val_loss: 0.5693 - val_inflan_loss: 0.3131 - val_nephr_loss: 0.3542 - val_inflan_ACCinflan: 0.9375 - val_nephr_ACCnephr: 0.8750\n",
      "Epoch 168/1000\n",
      "64/64 [==============================] - 0s 1ms/sample - loss: 0.6595 - inflan_loss: 0.3367 - nephr_loss: 0.4334 - inflan_ACCinflan: 0.8906 - nephr_ACCnephr: 0.8750 - val_loss: 0.5678 - val_inflan_loss: 0.3126 - val_nephr_loss: 0.3531 - val_inflan_ACCinflan: 0.9375 - val_nephr_ACCnephr: 0.8750\n",
      "Epoch 169/1000\n",
      "64/64 [==============================] - 0s 189us/sample - loss: 0.6567 - inflan_loss: 0.3358 - nephr_loss: 0.4312 - inflan_ACCinflan: 0.8906 - nephr_ACCnephr: 0.8750 - val_loss: 0.5664 - val_inflan_loss: 0.3120 - val_nephr_loss: 0.3520 - val_inflan_ACCinflan: 0.9375 - val_nephr_ACCnephr: 0.8750\n",
      "Epoch 170/1000\n",
      "64/64 [==============================] - 0s 186us/sample - loss: 0.6540 - inflan_loss: 0.3349 - nephr_loss: 0.4289 - inflan_ACCinflan: 0.8906 - nephr_ACCnephr: 0.8750 - val_loss: 0.5650 - val_inflan_loss: 0.3115 - val_nephr_loss: 0.3509 - val_inflan_ACCinflan: 0.9375 - val_nephr_ACCnephr: 0.8750\n",
      "Epoch 171/1000\n",
      "64/64 [==============================] - 0s 2ms/sample - loss: 0.6513 - inflan_loss: 0.3340 - nephr_loss: 0.4267 - inflan_ACCinflan: 0.8906 - nephr_ACCnephr: 0.8750 - val_loss: 0.5637 - val_inflan_loss: 0.3110 - val_nephr_loss: 0.3499 - val_inflan_ACCinflan: 0.9375 - val_nephr_ACCnephr: 0.8750\n",
      "Epoch 172/1000\n",
      "64/64 [==============================] - 0s 1ms/sample - loss: 0.6486 - inflan_loss: 0.3332 - nephr_loss: 0.4246 - inflan_ACCinflan: 0.8906 - nephr_ACCnephr: 0.8750 - val_loss: 0.5623 - val_inflan_loss: 0.3104 - val_nephr_loss: 0.3489 - val_inflan_ACCinflan: 0.9375 - val_nephr_ACCnephr: 0.8750\n",
      "Epoch 173/1000\n",
      "64/64 [==============================] - 0s 187us/sample - loss: 0.6460 - inflan_loss: 0.3323 - nephr_loss: 0.4224 - inflan_ACCinflan: 0.8906 - nephr_ACCnephr: 0.8750 - val_loss: 0.5610 - val_inflan_loss: 0.3098 - val_nephr_loss: 0.3479 - val_inflan_ACCinflan: 0.9375 - val_nephr_ACCnephr: 0.8750\n",
      "Epoch 174/1000\n",
      "64/64 [==============================] - 0s 1ms/sample - loss: 0.6433 - inflan_loss: 0.3314 - nephr_loss: 0.4202 - inflan_ACCinflan: 0.8906 - nephr_ACCnephr: 0.8750 - val_loss: 0.5597 - val_inflan_loss: 0.3093 - val_nephr_loss: 0.3470 - val_inflan_ACCinflan: 0.9375 - val_nephr_ACCnephr: 0.8750\n",
      "Epoch 175/1000\n",
      "64/64 [==============================] - 0s 1ms/sample - loss: 0.6407 - inflan_loss: 0.3306 - nephr_loss: 0.4181 - inflan_ACCinflan: 0.8906 - nephr_ACCnephr: 0.8750 - val_loss: 0.5585 - val_inflan_loss: 0.3087 - val_nephr_loss: 0.3461 - val_inflan_ACCinflan: 0.9375 - val_nephr_ACCnephr: 0.8750\n",
      "Epoch 176/1000\n",
      "64/64 [==============================] - 0s 190us/sample - loss: 0.6381 - inflan_loss: 0.3297 - nephr_loss: 0.4160 - inflan_ACCinflan: 0.8906 - nephr_ACCnephr: 0.8750 - val_loss: 0.5572 - val_inflan_loss: 0.3082 - val_nephr_loss: 0.3452 - val_inflan_ACCinflan: 0.9375 - val_nephr_ACCnephr: 0.8750\n",
      "Epoch 177/1000\n",
      "64/64 [==============================] - 0s 1ms/sample - loss: 0.6356 - inflan_loss: 0.3288 - nephr_loss: 0.4139 - inflan_ACCinflan: 0.8906 - nephr_ACCnephr: 0.8750 - val_loss: 0.5559 - val_inflan_loss: 0.3076 - val_nephr_loss: 0.3443 - val_inflan_ACCinflan: 0.9375 - val_nephr_ACCnephr: 0.8750\n",
      "Epoch 178/1000\n",
      "64/64 [==============================] - 0s 1ms/sample - loss: 0.6330 - inflan_loss: 0.3280 - nephr_loss: 0.4118 - inflan_ACCinflan: 0.8906 - nephr_ACCnephr: 0.8750 - val_loss: 0.5547 - val_inflan_loss: 0.3070 - val_nephr_loss: 0.3434 - val_inflan_ACCinflan: 0.9375 - val_nephr_ACCnephr: 0.8750\n",
      "Epoch 179/1000\n",
      "64/64 [==============================] - 0s 188us/sample - loss: 0.6305 - inflan_loss: 0.3271 - nephr_loss: 0.4098 - inflan_ACCinflan: 0.8906 - nephr_ACCnephr: 0.8750 - val_loss: 0.5534 - val_inflan_loss: 0.3064 - val_nephr_loss: 0.3425 - val_inflan_ACCinflan: 0.9375 - val_nephr_ACCnephr: 0.8750\n",
      "Epoch 180/1000\n",
      "64/64 [==============================] - 0s 1ms/sample - loss: 0.6280 - inflan_loss: 0.3263 - nephr_loss: 0.4077 - inflan_ACCinflan: 0.8906 - nephr_ACCnephr: 0.8750 - val_loss: 0.5522 - val_inflan_loss: 0.3059 - val_nephr_loss: 0.3417 - val_inflan_ACCinflan: 0.9375 - val_nephr_ACCnephr: 0.8750\n",
      "Epoch 181/1000\n",
      "64/64 [==============================] - 0s 2ms/sample - loss: 0.6255 - inflan_loss: 0.3254 - nephr_loss: 0.4057 - inflan_ACCinflan: 0.8906 - nephr_ACCnephr: 0.8750 - val_loss: 0.5510 - val_inflan_loss: 0.3053 - val_nephr_loss: 0.3408 - val_inflan_ACCinflan: 0.9375 - val_nephr_ACCnephr: 0.8750\n",
      "Epoch 182/1000\n",
      "64/64 [==============================] - 0s 184us/sample - loss: 0.6230 - inflan_loss: 0.3246 - nephr_loss: 0.4037 - inflan_ACCinflan: 0.8906 - nephr_ACCnephr: 0.8750 - val_loss: 0.5497 - val_inflan_loss: 0.3047 - val_nephr_loss: 0.3399 - val_inflan_ACCinflan: 0.9375 - val_nephr_ACCnephr: 0.8750\n",
      "Epoch 183/1000\n",
      "64/64 [==============================] - 0s 184us/sample - loss: 0.6206 - inflan_loss: 0.3237 - nephr_loss: 0.4018 - inflan_ACCinflan: 0.8906 - nephr_ACCnephr: 0.8750 - val_loss: 0.5485 - val_inflan_loss: 0.3041 - val_nephr_loss: 0.3391 - val_inflan_ACCinflan: 0.9375 - val_nephr_ACCnephr: 0.8750\n",
      "Epoch 184/1000\n",
      "64/64 [==============================] - 0s 1ms/sample - loss: 0.6181 - inflan_loss: 0.3229 - nephr_loss: 0.3998 - inflan_ACCinflan: 0.8906 - nephr_ACCnephr: 0.8750 - val_loss: 0.5472 - val_inflan_loss: 0.3036 - val_nephr_loss: 0.3382 - val_inflan_ACCinflan: 0.9375 - val_nephr_ACCnephr: 0.8750\n",
      "Epoch 185/1000\n",
      "64/64 [==============================] - 0s 188us/sample - loss: 0.6157 - inflan_loss: 0.3220 - nephr_loss: 0.3979 - inflan_ACCinflan: 0.8906 - nephr_ACCnephr: 0.8750 - val_loss: 0.5460 - val_inflan_loss: 0.3030 - val_nephr_loss: 0.3373 - val_inflan_ACCinflan: 0.9375 - val_nephr_ACCnephr: 0.8750\n",
      "Epoch 186/1000\n",
      "64/64 [==============================] - 0s 1ms/sample - loss: 0.6133 - inflan_loss: 0.3212 - nephr_loss: 0.3959 - inflan_ACCinflan: 0.8906 - nephr_ACCnephr: 0.8750 - val_loss: 0.5447 - val_inflan_loss: 0.3024 - val_nephr_loss: 0.3364 - val_inflan_ACCinflan: 0.9375 - val_nephr_ACCnephr: 0.8750\n",
      "Epoch 187/1000\n",
      "64/64 [==============================] - 0s 2ms/sample - loss: 0.6109 - inflan_loss: 0.3204 - nephr_loss: 0.3940 - inflan_ACCinflan: 0.8906 - nephr_ACCnephr: 0.9219 - val_loss: 0.5434 - val_inflan_loss: 0.3019 - val_nephr_loss: 0.3355 - val_inflan_ACCinflan: 0.9375 - val_nephr_ACCnephr: 1.0000\n",
      "Epoch 188/1000\n",
      "64/64 [==============================] - 0s 185us/sample - loss: 0.6086 - inflan_loss: 0.3196 - nephr_loss: 0.3921 - inflan_ACCinflan: 0.8906 - nephr_ACCnephr: 1.0000 - val_loss: 0.5422 - val_inflan_loss: 0.3013 - val_nephr_loss: 0.3346 - val_inflan_ACCinflan: 0.9375 - val_nephr_ACCnephr: 1.0000\n"
     ]
    },
    {
     "name": "stdout",
     "output_type": "stream",
     "text": [
      "Epoch 189/1000\n",
      "64/64 [==============================] - 0s 1ms/sample - loss: 0.6062 - inflan_loss: 0.3187 - nephr_loss: 0.3903 - inflan_ACCinflan: 0.8906 - nephr_ACCnephr: 1.0000 - val_loss: 0.5409 - val_inflan_loss: 0.3007 - val_nephr_loss: 0.3337 - val_inflan_ACCinflan: 0.9375 - val_nephr_ACCnephr: 1.0000\n",
      "Epoch 190/1000\n",
      "64/64 [==============================] - 0s 1ms/sample - loss: 0.6039 - inflan_loss: 0.3179 - nephr_loss: 0.3884 - inflan_ACCinflan: 0.8906 - nephr_ACCnephr: 1.0000 - val_loss: 0.5397 - val_inflan_loss: 0.3002 - val_nephr_loss: 0.3328 - val_inflan_ACCinflan: 0.9375 - val_nephr_ACCnephr: 1.0000\n",
      "Epoch 191/1000\n",
      "64/64 [==============================] - 0s 186us/sample - loss: 0.6016 - inflan_loss: 0.3171 - nephr_loss: 0.3866 - inflan_ACCinflan: 0.8906 - nephr_ACCnephr: 1.0000 - val_loss: 0.5384 - val_inflan_loss: 0.2996 - val_nephr_loss: 0.3319 - val_inflan_ACCinflan: 0.9375 - val_nephr_ACCnephr: 1.0000\n",
      "Epoch 192/1000\n",
      "64/64 [==============================] - 0s 1ms/sample - loss: 0.5993 - inflan_loss: 0.3163 - nephr_loss: 0.3847 - inflan_ACCinflan: 0.8906 - nephr_ACCnephr: 1.0000 - val_loss: 0.5371 - val_inflan_loss: 0.2990 - val_nephr_loss: 0.3310 - val_inflan_ACCinflan: 0.9375 - val_nephr_ACCnephr: 1.0000\n",
      "Epoch 193/1000\n",
      "64/64 [==============================] - 0s 2ms/sample - loss: 0.5970 - inflan_loss: 0.3155 - nephr_loss: 0.3829 - inflan_ACCinflan: 0.8906 - nephr_ACCnephr: 1.0000 - val_loss: 0.5359 - val_inflan_loss: 0.2985 - val_nephr_loss: 0.3301 - val_inflan_ACCinflan: 0.9375 - val_nephr_ACCnephr: 1.0000\n",
      "Epoch 194/1000\n",
      "64/64 [==============================] - 0s 187us/sample - loss: 0.5948 - inflan_loss: 0.3147 - nephr_loss: 0.3811 - inflan_ACCinflan: 0.8906 - nephr_ACCnephr: 1.0000 - val_loss: 0.5346 - val_inflan_loss: 0.2979 - val_nephr_loss: 0.3292 - val_inflan_ACCinflan: 0.9375 - val_nephr_ACCnephr: 1.0000\n",
      "Epoch 195/1000\n",
      "64/64 [==============================] - 0s 190us/sample - loss: 0.5926 - inflan_loss: 0.3139 - nephr_loss: 0.3794 - inflan_ACCinflan: 0.8906 - nephr_ACCnephr: 1.0000 - val_loss: 0.5333 - val_inflan_loss: 0.2974 - val_nephr_loss: 0.3283 - val_inflan_ACCinflan: 0.9375 - val_nephr_ACCnephr: 1.0000\n",
      "Epoch 196/1000\n",
      "64/64 [==============================] - 0s 2ms/sample - loss: 0.5903 - inflan_loss: 0.3131 - nephr_loss: 0.3776 - inflan_ACCinflan: 0.8906 - nephr_ACCnephr: 1.0000 - val_loss: 0.5321 - val_inflan_loss: 0.2969 - val_nephr_loss: 0.3273 - val_inflan_ACCinflan: 0.9375 - val_nephr_ACCnephr: 1.0000\n",
      "Epoch 197/1000\n",
      "64/64 [==============================] - 0s 196us/sample - loss: 0.5881 - inflan_loss: 0.3123 - nephr_loss: 0.3758 - inflan_ACCinflan: 0.8906 - nephr_ACCnephr: 1.0000 - val_loss: 0.5309 - val_inflan_loss: 0.2963 - val_nephr_loss: 0.3264 - val_inflan_ACCinflan: 0.9375 - val_nephr_ACCnephr: 1.0000\n",
      "Epoch 198/1000\n",
      "64/64 [==============================] - 0s 1ms/sample - loss: 0.5859 - inflan_loss: 0.3115 - nephr_loss: 0.3741 - inflan_ACCinflan: 0.8906 - nephr_ACCnephr: 1.0000 - val_loss: 0.5296 - val_inflan_loss: 0.2958 - val_nephr_loss: 0.3256 - val_inflan_ACCinflan: 0.9375 - val_nephr_ACCnephr: 1.0000\n",
      "Epoch 199/1000\n",
      "64/64 [==============================] - 0s 2ms/sample - loss: 0.5838 - inflan_loss: 0.3108 - nephr_loss: 0.3724 - inflan_ACCinflan: 0.8906 - nephr_ACCnephr: 1.0000 - val_loss: 0.5284 - val_inflan_loss: 0.2952 - val_nephr_loss: 0.3247 - val_inflan_ACCinflan: 0.9375 - val_nephr_ACCnephr: 1.0000\n",
      "Epoch 200/1000\n",
      "64/64 [==============================] - 0s 190us/sample - loss: 0.5816 - inflan_loss: 0.3100 - nephr_loss: 0.3707 - inflan_ACCinflan: 0.8906 - nephr_ACCnephr: 1.0000 - val_loss: 0.5272 - val_inflan_loss: 0.2947 - val_nephr_loss: 0.3238 - val_inflan_ACCinflan: 0.9375 - val_nephr_ACCnephr: 1.0000\n",
      "Epoch 201/1000\n",
      "64/64 [==============================] - 0s 1ms/sample - loss: 0.5795 - inflan_loss: 0.3092 - nephr_loss: 0.3690 - inflan_ACCinflan: 0.8906 - nephr_ACCnephr: 1.0000 - val_loss: 0.5260 - val_inflan_loss: 0.2942 - val_nephr_loss: 0.3229 - val_inflan_ACCinflan: 0.9375 - val_nephr_ACCnephr: 1.0000\n",
      "Epoch 202/1000\n",
      "64/64 [==============================] - 0s 2ms/sample - loss: 0.5773 - inflan_loss: 0.3084 - nephr_loss: 0.3673 - inflan_ACCinflan: 0.8906 - nephr_ACCnephr: 1.0000 - val_loss: 0.5248 - val_inflan_loss: 0.2937 - val_nephr_loss: 0.3221 - val_inflan_ACCinflan: 0.9375 - val_nephr_ACCnephr: 1.0000\n",
      "Epoch 203/1000\n",
      "64/64 [==============================] - 0s 1ms/sample - loss: 0.5752 - inflan_loss: 0.3077 - nephr_loss: 0.3657 - inflan_ACCinflan: 0.8906 - nephr_ACCnephr: 1.0000 - val_loss: 0.5236 - val_inflan_loss: 0.2931 - val_nephr_loss: 0.3212 - val_inflan_ACCinflan: 0.9375 - val_nephr_ACCnephr: 1.0000\n",
      "Epoch 204/1000\n",
      "64/64 [==============================] - 0s 188us/sample - loss: 0.5731 - inflan_loss: 0.3069 - nephr_loss: 0.3640 - inflan_ACCinflan: 0.8906 - nephr_ACCnephr: 1.0000 - val_loss: 0.5224 - val_inflan_loss: 0.2926 - val_nephr_loss: 0.3204 - val_inflan_ACCinflan: 0.9375 - val_nephr_ACCnephr: 1.0000\n",
      "Epoch 205/1000\n",
      "64/64 [==============================] - 0s 1ms/sample - loss: 0.5711 - inflan_loss: 0.3061 - nephr_loss: 0.3624 - inflan_ACCinflan: 0.8906 - nephr_ACCnephr: 1.0000 - val_loss: 0.5213 - val_inflan_loss: 0.2921 - val_nephr_loss: 0.3196 - val_inflan_ACCinflan: 0.9375 - val_nephr_ACCnephr: 1.0000\n",
      "Epoch 206/1000\n",
      "64/64 [==============================] - 0s 1ms/sample - loss: 0.5690 - inflan_loss: 0.3054 - nephr_loss: 0.3608 - inflan_ACCinflan: 0.8906 - nephr_ACCnephr: 1.0000 - val_loss: 0.5201 - val_inflan_loss: 0.2916 - val_nephr_loss: 0.3188 - val_inflan_ACCinflan: 0.9375 - val_nephr_ACCnephr: 1.0000\n",
      "Epoch 207/1000\n",
      "64/64 [==============================] - 0s 195us/sample - loss: 0.5670 - inflan_loss: 0.3046 - nephr_loss: 0.3592 - inflan_ACCinflan: 0.8906 - nephr_ACCnephr: 1.0000 - val_loss: 0.5190 - val_inflan_loss: 0.2910 - val_nephr_loss: 0.3180 - val_inflan_ACCinflan: 0.9375 - val_nephr_ACCnephr: 1.0000\n",
      "Epoch 208/1000\n",
      "64/64 [==============================] - 0s 187us/sample - loss: 0.5649 - inflan_loss: 0.3039 - nephr_loss: 0.3576 - inflan_ACCinflan: 0.8906 - nephr_ACCnephr: 1.0000 - val_loss: 0.5179 - val_inflan_loss: 0.2905 - val_nephr_loss: 0.3172 - val_inflan_ACCinflan: 0.9375 - val_nephr_ACCnephr: 1.0000\n",
      "Epoch 209/1000\n",
      "64/64 [==============================] - 0s 1ms/sample - loss: 0.5629 - inflan_loss: 0.3031 - nephr_loss: 0.3560 - inflan_ACCinflan: 0.8906 - nephr_ACCnephr: 1.0000 - val_loss: 0.5168 - val_inflan_loss: 0.2900 - val_nephr_loss: 0.3164 - val_inflan_ACCinflan: 0.9375 - val_nephr_ACCnephr: 1.0000\n",
      "Epoch 210/1000\n",
      "64/64 [==============================] - 0s 190us/sample - loss: 0.5609 - inflan_loss: 0.3024 - nephr_loss: 0.3544 - inflan_ACCinflan: 0.8906 - nephr_ACCnephr: 1.0000 - val_loss: 0.5156 - val_inflan_loss: 0.2895 - val_nephr_loss: 0.3156 - val_inflan_ACCinflan: 0.9375 - val_nephr_ACCnephr: 1.0000\n",
      "Epoch 211/1000\n",
      "64/64 [==============================] - 0s 1ms/sample - loss: 0.5589 - inflan_loss: 0.3017 - nephr_loss: 0.3529 - inflan_ACCinflan: 0.8906 - nephr_ACCnephr: 1.0000 - val_loss: 0.5145 - val_inflan_loss: 0.2890 - val_nephr_loss: 0.3148 - val_inflan_ACCinflan: 0.9375 - val_nephr_ACCnephr: 1.0000\n",
      "Epoch 212/1000\n",
      "64/64 [==============================] - 0s 2ms/sample - loss: 0.5569 - inflan_loss: 0.3009 - nephr_loss: 0.3513 - inflan_ACCinflan: 0.8906 - nephr_ACCnephr: 1.0000 - val_loss: 0.5135 - val_inflan_loss: 0.2885 - val_nephr_loss: 0.3141 - val_inflan_ACCinflan: 0.9375 - val_nephr_ACCnephr: 1.0000\n",
      "Epoch 213/1000\n",
      "64/64 [==============================] - 0s 199us/sample - loss: 0.5550 - inflan_loss: 0.3002 - nephr_loss: 0.3498 - inflan_ACCinflan: 0.8906 - nephr_ACCnephr: 1.0000 - val_loss: 0.5124 - val_inflan_loss: 0.2880 - val_nephr_loss: 0.3133 - val_inflan_ACCinflan: 0.9375 - val_nephr_ACCnephr: 1.0000\n",
      "Epoch 214/1000\n",
      "64/64 [==============================] - 0s 190us/sample - loss: 0.5530 - inflan_loss: 0.2995 - nephr_loss: 0.3483 - inflan_ACCinflan: 0.8906 - nephr_ACCnephr: 1.0000 - val_loss: 0.5113 - val_inflan_loss: 0.2874 - val_nephr_loss: 0.3126 - val_inflan_ACCinflan: 0.9375 - val_nephr_ACCnephr: 1.0000\n",
      "Epoch 215/1000\n",
      "64/64 [==============================] - 0s 2ms/sample - loss: 0.5511 - inflan_loss: 0.2987 - nephr_loss: 0.3468 - inflan_ACCinflan: 0.8906 - nephr_ACCnephr: 1.0000 - val_loss: 0.5102 - val_inflan_loss: 0.2869 - val_nephr_loss: 0.3119 - val_inflan_ACCinflan: 0.9375 - val_nephr_ACCnephr: 1.0000\n"
     ]
    },
    {
     "name": "stdout",
     "output_type": "stream",
     "text": [
      "Epoch 216/1000\n",
      "64/64 [==============================] - 0s 194us/sample - loss: 0.5492 - inflan_loss: 0.2980 - nephr_loss: 0.3453 - inflan_ACCinflan: 0.8906 - nephr_ACCnephr: 1.0000 - val_loss: 0.5091 - val_inflan_loss: 0.2864 - val_nephr_loss: 0.3111 - val_inflan_ACCinflan: 0.9375 - val_nephr_ACCnephr: 1.0000\n",
      "Epoch 217/1000\n",
      "64/64 [==============================] - 0s 191us/sample - loss: 0.5472 - inflan_loss: 0.2973 - nephr_loss: 0.3438 - inflan_ACCinflan: 0.8906 - nephr_ACCnephr: 1.0000 - val_loss: 0.5081 - val_inflan_loss: 0.2859 - val_nephr_loss: 0.3104 - val_inflan_ACCinflan: 0.9375 - val_nephr_ACCnephr: 1.0000\n",
      "Epoch 218/1000\n",
      "64/64 [==============================] - 0s 2ms/sample - loss: 0.5453 - inflan_loss: 0.2966 - nephr_loss: 0.3423 - inflan_ACCinflan: 0.8906 - nephr_ACCnephr: 1.0000 - val_loss: 0.5070 - val_inflan_loss: 0.2854 - val_nephr_loss: 0.3097 - val_inflan_ACCinflan: 0.9375 - val_nephr_ACCnephr: 1.0000\n",
      "Epoch 219/1000\n",
      "64/64 [==============================] - 0s 190us/sample - loss: 0.5435 - inflan_loss: 0.2959 - nephr_loss: 0.3409 - inflan_ACCinflan: 0.8906 - nephr_ACCnephr: 1.0000 - val_loss: 0.5060 - val_inflan_loss: 0.2849 - val_nephr_loss: 0.3089 - val_inflan_ACCinflan: 0.9375 - val_nephr_ACCnephr: 1.0000\n",
      "Epoch 220/1000\n",
      "64/64 [==============================] - 0s 181us/sample - loss: 0.5416 - inflan_loss: 0.2951 - nephr_loss: 0.3394 - inflan_ACCinflan: 0.8906 - nephr_ACCnephr: 1.0000 - val_loss: 0.5049 - val_inflan_loss: 0.2844 - val_nephr_loss: 0.3082 - val_inflan_ACCinflan: 0.9375 - val_nephr_ACCnephr: 1.0000\n",
      "Epoch 221/1000\n",
      "64/64 [==============================] - 0s 2ms/sample - loss: 0.5397 - inflan_loss: 0.2944 - nephr_loss: 0.3380 - inflan_ACCinflan: 0.8906 - nephr_ACCnephr: 1.0000 - val_loss: 0.5039 - val_inflan_loss: 0.2839 - val_nephr_loss: 0.3075 - val_inflan_ACCinflan: 0.9375 - val_nephr_ACCnephr: 1.0000\n",
      "Epoch 222/1000\n",
      "64/64 [==============================] - 0s 1ms/sample - loss: 0.5379 - inflan_loss: 0.2937 - nephr_loss: 0.3366 - inflan_ACCinflan: 0.8906 - nephr_ACCnephr: 1.0000 - val_loss: 0.5028 - val_inflan_loss: 0.2834 - val_nephr_loss: 0.3068 - val_inflan_ACCinflan: 0.9375 - val_nephr_ACCnephr: 1.0000\n",
      "Epoch 223/1000\n",
      "64/64 [==============================] - 0s 181us/sample - loss: 0.5361 - inflan_loss: 0.2930 - nephr_loss: 0.3352 - inflan_ACCinflan: 0.8906 - nephr_ACCnephr: 1.0000 - val_loss: 0.5018 - val_inflan_loss: 0.2829 - val_nephr_loss: 0.3061 - val_inflan_ACCinflan: 0.9375 - val_nephr_ACCnephr: 1.0000\n",
      "Epoch 224/1000\n",
      "64/64 [==============================] - 0s 2ms/sample - loss: 0.5342 - inflan_loss: 0.2923 - nephr_loss: 0.3338 - inflan_ACCinflan: 0.8906 - nephr_ACCnephr: 1.0000 - val_loss: 0.5007 - val_inflan_loss: 0.2824 - val_nephr_loss: 0.3054 - val_inflan_ACCinflan: 0.9375 - val_nephr_ACCnephr: 1.0000\n",
      "Epoch 225/1000\n",
      "64/64 [==============================] - 0s 1ms/sample - loss: 0.5324 - inflan_loss: 0.2916 - nephr_loss: 0.3324 - inflan_ACCinflan: 0.8906 - nephr_ACCnephr: 1.0000 - val_loss: 0.4997 - val_inflan_loss: 0.2819 - val_nephr_loss: 0.3047 - val_inflan_ACCinflan: 0.9375 - val_nephr_ACCnephr: 1.0000\n",
      "Epoch 226/1000\n",
      "64/64 [==============================] - 0s 187us/sample - loss: 0.5306 - inflan_loss: 0.2909 - nephr_loss: 0.3310 - inflan_ACCinflan: 0.8906 - nephr_ACCnephr: 1.0000 - val_loss: 0.4987 - val_inflan_loss: 0.2814 - val_nephr_loss: 0.3040 - val_inflan_ACCinflan: 0.9375 - val_nephr_ACCnephr: 1.0000\n",
      "Epoch 227/1000\n",
      "64/64 [==============================] - 0s 2ms/sample - loss: 0.5289 - inflan_loss: 0.2903 - nephr_loss: 0.3296 - inflan_ACCinflan: 0.8906 - nephr_ACCnephr: 1.0000 - val_loss: 0.4976 - val_inflan_loss: 0.2809 - val_nephr_loss: 0.3033 - val_inflan_ACCinflan: 0.9375 - val_nephr_ACCnephr: 1.0000\n",
      "Epoch 228/1000\n",
      "64/64 [==============================] - 0s 1ms/sample - loss: 0.5271 - inflan_loss: 0.2896 - nephr_loss: 0.3283 - inflan_ACCinflan: 0.8906 - nephr_ACCnephr: 1.0000 - val_loss: 0.4966 - val_inflan_loss: 0.2804 - val_nephr_loss: 0.3026 - val_inflan_ACCinflan: 0.9375 - val_nephr_ACCnephr: 1.0000\n",
      "Epoch 229/1000\n",
      "64/64 [==============================] - 0s 184us/sample - loss: 0.5253 - inflan_loss: 0.2889 - nephr_loss: 0.3269 - inflan_ACCinflan: 0.8906 - nephr_ACCnephr: 1.0000 - val_loss: 0.4956 - val_inflan_loss: 0.2799 - val_nephr_loss: 0.3019 - val_inflan_ACCinflan: 0.9375 - val_nephr_ACCnephr: 1.0000\n",
      "Epoch 230/1000\n",
      "64/64 [==============================] - 0s 1ms/sample - loss: 0.5236 - inflan_loss: 0.2882 - nephr_loss: 0.3256 - inflan_ACCinflan: 0.8906 - nephr_ACCnephr: 1.0000 - val_loss: 0.4946 - val_inflan_loss: 0.2794 - val_nephr_loss: 0.3012 - val_inflan_ACCinflan: 0.9375 - val_nephr_ACCnephr: 1.0000\n",
      "Epoch 231/1000\n",
      "64/64 [==============================] - 0s 1ms/sample - loss: 0.5219 - inflan_loss: 0.2875 - nephr_loss: 0.3242 - inflan_ACCinflan: 0.8906 - nephr_ACCnephr: 1.0000 - val_loss: 0.4935 - val_inflan_loss: 0.2789 - val_nephr_loss: 0.3005 - val_inflan_ACCinflan: 0.9375 - val_nephr_ACCnephr: 1.0000\n",
      "Epoch 232/1000\n",
      "64/64 [==============================] - 0s 190us/sample - loss: 0.5201 - inflan_loss: 0.2869 - nephr_loss: 0.3229 - inflan_ACCinflan: 0.8906 - nephr_ACCnephr: 1.0000 - val_loss: 0.4925 - val_inflan_loss: 0.2784 - val_nephr_loss: 0.2998 - val_inflan_ACCinflan: 0.9375 - val_nephr_ACCnephr: 1.0000\n",
      "Epoch 233/1000\n",
      "64/64 [==============================] - 0s 1ms/sample - loss: 0.5184 - inflan_loss: 0.2862 - nephr_loss: 0.3216 - inflan_ACCinflan: 0.8906 - nephr_ACCnephr: 1.0000 - val_loss: 0.4915 - val_inflan_loss: 0.2779 - val_nephr_loss: 0.2991 - val_inflan_ACCinflan: 0.9375 - val_nephr_ACCnephr: 1.0000\n",
      "Epoch 234/1000\n",
      "64/64 [==============================] - 0s 1ms/sample - loss: 0.5167 - inflan_loss: 0.2855 - nephr_loss: 0.3203 - inflan_ACCinflan: 0.8906 - nephr_ACCnephr: 1.0000 - val_loss: 0.4905 - val_inflan_loss: 0.2774 - val_nephr_loss: 0.2984 - val_inflan_ACCinflan: 0.9375 - val_nephr_ACCnephr: 1.0000\n",
      "Epoch 235/1000\n",
      "64/64 [==============================] - 0s 189us/sample - loss: 0.5150 - inflan_loss: 0.2849 - nephr_loss: 0.3190 - inflan_ACCinflan: 0.8906 - nephr_ACCnephr: 1.0000 - val_loss: 0.4895 - val_inflan_loss: 0.2769 - val_nephr_loss: 0.2977 - val_inflan_ACCinflan: 0.9375 - val_nephr_ACCnephr: 1.0000\n",
      "Epoch 236/1000\n",
      "64/64 [==============================] - 0s 2ms/sample - loss: 0.5134 - inflan_loss: 0.2842 - nephr_loss: 0.3178 - inflan_ACCinflan: 0.8906 - nephr_ACCnephr: 1.0000 - val_loss: 0.4885 - val_inflan_loss: 0.2765 - val_nephr_loss: 0.2971 - val_inflan_ACCinflan: 0.9375 - val_nephr_ACCnephr: 1.0000\n",
      "Epoch 237/1000\n",
      "64/64 [==============================] - 0s 1ms/sample - loss: 0.5117 - inflan_loss: 0.2835 - nephr_loss: 0.3165 - inflan_ACCinflan: 0.8906 - nephr_ACCnephr: 1.0000 - val_loss: 0.4875 - val_inflan_loss: 0.2760 - val_nephr_loss: 0.2964 - val_inflan_ACCinflan: 0.9375 - val_nephr_ACCnephr: 1.0000\n",
      "Epoch 238/1000\n",
      "64/64 [==============================] - 0s 185us/sample - loss: 0.5100 - inflan_loss: 0.2829 - nephr_loss: 0.3152 - inflan_ACCinflan: 0.8906 - nephr_ACCnephr: 1.0000 - val_loss: 0.4865 - val_inflan_loss: 0.2755 - val_nephr_loss: 0.2957 - val_inflan_ACCinflan: 0.9375 - val_nephr_ACCnephr: 1.0000\n",
      "Epoch 239/1000\n",
      "64/64 [==============================] - 0s 2ms/sample - loss: 0.5084 - inflan_loss: 0.2822 - nephr_loss: 0.3140 - inflan_ACCinflan: 0.8906 - nephr_ACCnephr: 1.0000 - val_loss: 0.4856 - val_inflan_loss: 0.2750 - val_nephr_loss: 0.2951 - val_inflan_ACCinflan: 0.9375 - val_nephr_ACCnephr: 1.0000\n",
      "Epoch 240/1000\n",
      "64/64 [==============================] - 0s 2ms/sample - loss: 0.5067 - inflan_loss: 0.2816 - nephr_loss: 0.3127 - inflan_ACCinflan: 0.8906 - nephr_ACCnephr: 1.0000 - val_loss: 0.4846 - val_inflan_loss: 0.2745 - val_nephr_loss: 0.2944 - val_inflan_ACCinflan: 0.9375 - val_nephr_ACCnephr: 1.0000\n",
      "Epoch 241/1000\n",
      "64/64 [==============================] - 0s 191us/sample - loss: 0.5051 - inflan_loss: 0.2809 - nephr_loss: 0.3115 - inflan_ACCinflan: 0.8906 - nephr_ACCnephr: 1.0000 - val_loss: 0.4836 - val_inflan_loss: 0.2741 - val_nephr_loss: 0.2938 - val_inflan_ACCinflan: 0.9375 - val_nephr_ACCnephr: 1.0000\n",
      "Epoch 242/1000\n",
      "64/64 [==============================] - 0s 1ms/sample - loss: 0.5035 - inflan_loss: 0.2803 - nephr_loss: 0.3103 - inflan_ACCinflan: 0.8906 - nephr_ACCnephr: 1.0000 - val_loss: 0.4827 - val_inflan_loss: 0.2736 - val_nephr_loss: 0.2931 - val_inflan_ACCinflan: 0.9375 - val_nephr_ACCnephr: 1.0000\n"
     ]
    },
    {
     "name": "stdout",
     "output_type": "stream",
     "text": [
      "Epoch 243/1000\n",
      "64/64 [==============================] - 0s 2ms/sample - loss: 0.5019 - inflan_loss: 0.2797 - nephr_loss: 0.3091 - inflan_ACCinflan: 0.8906 - nephr_ACCnephr: 1.0000 - val_loss: 0.4817 - val_inflan_loss: 0.2731 - val_nephr_loss: 0.2925 - val_inflan_ACCinflan: 0.9375 - val_nephr_ACCnephr: 1.0000\n",
      "Epoch 244/1000\n",
      "64/64 [==============================] - 0s 184us/sample - loss: 0.5003 - inflan_loss: 0.2790 - nephr_loss: 0.3079 - inflan_ACCinflan: 0.8906 - nephr_ACCnephr: 1.0000 - val_loss: 0.4807 - val_inflan_loss: 0.2726 - val_nephr_loss: 0.2918 - val_inflan_ACCinflan: 0.9375 - val_nephr_ACCnephr: 1.0000\n",
      "Epoch 245/1000\n",
      "64/64 [==============================] - 0s 1ms/sample - loss: 0.4987 - inflan_loss: 0.2784 - nephr_loss: 0.3067 - inflan_ACCinflan: 0.8906 - nephr_ACCnephr: 1.0000 - val_loss: 0.4798 - val_inflan_loss: 0.2722 - val_nephr_loss: 0.2912 - val_inflan_ACCinflan: 0.9375 - val_nephr_ACCnephr: 1.0000\n",
      "Epoch 246/1000\n",
      "64/64 [==============================] - 0s 2ms/sample - loss: 0.4972 - inflan_loss: 0.2778 - nephr_loss: 0.3055 - inflan_ACCinflan: 0.8906 - nephr_ACCnephr: 1.0000 - val_loss: 0.4788 - val_inflan_loss: 0.2717 - val_nephr_loss: 0.2905 - val_inflan_ACCinflan: 0.9375 - val_nephr_ACCnephr: 1.0000\n",
      "Epoch 247/1000\n",
      "64/64 [==============================] - 0s 1ms/sample - loss: 0.4956 - inflan_loss: 0.2771 - nephr_loss: 0.3043 - inflan_ACCinflan: 0.8906 - nephr_ACCnephr: 1.0000 - val_loss: 0.4779 - val_inflan_loss: 0.2712 - val_nephr_loss: 0.2899 - val_inflan_ACCinflan: 0.9375 - val_nephr_ACCnephr: 1.0000\n",
      "Epoch 248/1000\n",
      "64/64 [==============================] - 0s 214us/sample - loss: 0.4940 - inflan_loss: 0.2765 - nephr_loss: 0.3032 - inflan_ACCinflan: 0.8906 - nephr_ACCnephr: 1.0000 - val_loss: 0.4770 - val_inflan_loss: 0.2708 - val_nephr_loss: 0.2893 - val_inflan_ACCinflan: 0.9375 - val_nephr_ACCnephr: 1.0000\n",
      "Epoch 249/1000\n",
      "64/64 [==============================] - 0s 1ms/sample - loss: 0.4925 - inflan_loss: 0.2759 - nephr_loss: 0.3020 - inflan_ACCinflan: 0.8906 - nephr_ACCnephr: 1.0000 - val_loss: 0.4760 - val_inflan_loss: 0.2703 - val_nephr_loss: 0.2887 - val_inflan_ACCinflan: 0.9375 - val_nephr_ACCnephr: 1.0000\n",
      "Epoch 250/1000\n",
      "64/64 [==============================] - 0s 1ms/sample - loss: 0.4910 - inflan_loss: 0.2753 - nephr_loss: 0.3008 - inflan_ACCinflan: 0.8906 - nephr_ACCnephr: 1.0000 - val_loss: 0.4751 - val_inflan_loss: 0.2698 - val_nephr_loss: 0.2880 - val_inflan_ACCinflan: 0.9375 - val_nephr_ACCnephr: 1.0000\n",
      "Epoch 251/1000\n",
      "64/64 [==============================] - 0s 203us/sample - loss: 0.4894 - inflan_loss: 0.2746 - nephr_loss: 0.2997 - inflan_ACCinflan: 0.8906 - nephr_ACCnephr: 1.0000 - val_loss: 0.4742 - val_inflan_loss: 0.2694 - val_nephr_loss: 0.2874 - val_inflan_ACCinflan: 0.9375 - val_nephr_ACCnephr: 1.0000\n",
      "Epoch 252/1000\n",
      "64/64 [==============================] - 0s 1ms/sample - loss: 0.4879 - inflan_loss: 0.2740 - nephr_loss: 0.2986 - inflan_ACCinflan: 0.8906 - nephr_ACCnephr: 1.0000 - val_loss: 0.4733 - val_inflan_loss: 0.2689 - val_nephr_loss: 0.2868 - val_inflan_ACCinflan: 0.9375 - val_nephr_ACCnephr: 1.0000\n",
      "Epoch 253/1000\n",
      "64/64 [==============================] - 0s 2ms/sample - loss: 0.4864 - inflan_loss: 0.2734 - nephr_loss: 0.2974 - inflan_ACCinflan: 0.8906 - nephr_ACCnephr: 1.0000 - val_loss: 0.4723 - val_inflan_loss: 0.2684 - val_nephr_loss: 0.2862 - val_inflan_ACCinflan: 0.9375 - val_nephr_ACCnephr: 1.0000\n",
      "Epoch 254/1000\n",
      "64/64 [==============================] - 0s 1ms/sample - loss: 0.4849 - inflan_loss: 0.2728 - nephr_loss: 0.2963 - inflan_ACCinflan: 0.8906 - nephr_ACCnephr: 1.0000 - val_loss: 0.4714 - val_inflan_loss: 0.2680 - val_nephr_loss: 0.2856 - val_inflan_ACCinflan: 0.9375 - val_nephr_ACCnephr: 1.0000\n",
      "Epoch 255/1000\n",
      "64/64 [==============================] - 0s 186us/sample - loss: 0.4834 - inflan_loss: 0.2722 - nephr_loss: 0.2952 - inflan_ACCinflan: 0.8906 - nephr_ACCnephr: 1.0000 - val_loss: 0.4705 - val_inflan_loss: 0.2675 - val_nephr_loss: 0.2850 - val_inflan_ACCinflan: 0.9375 - val_nephr_ACCnephr: 1.0000\n",
      "Epoch 256/1000\n",
      "64/64 [==============================] - 0s 1ms/sample - loss: 0.4820 - inflan_loss: 0.2716 - nephr_loss: 0.2941 - inflan_ACCinflan: 0.8906 - nephr_ACCnephr: 1.0000 - val_loss: 0.4696 - val_inflan_loss: 0.2671 - val_nephr_loss: 0.2844 - val_inflan_ACCinflan: 0.9375 - val_nephr_ACCnephr: 1.0000\n",
      "Epoch 257/1000\n",
      "64/64 [==============================] - 0s 1ms/sample - loss: 0.4805 - inflan_loss: 0.2710 - nephr_loss: 0.2930 - inflan_ACCinflan: 0.8906 - nephr_ACCnephr: 1.0000 - val_loss: 0.4687 - val_inflan_loss: 0.2666 - val_nephr_loss: 0.2838 - val_inflan_ACCinflan: 0.9375 - val_nephr_ACCnephr: 1.0000\n",
      "Epoch 258/1000\n",
      "64/64 [==============================] - 0s 186us/sample - loss: 0.4790 - inflan_loss: 0.2704 - nephr_loss: 0.2919 - inflan_ACCinflan: 0.8906 - nephr_ACCnephr: 1.0000 - val_loss: 0.4678 - val_inflan_loss: 0.2662 - val_nephr_loss: 0.2832 - val_inflan_ACCinflan: 0.9375 - val_nephr_ACCnephr: 1.0000\n",
      "Epoch 259/1000\n",
      "64/64 [==============================] - 0s 1ms/sample - loss: 0.4776 - inflan_loss: 0.2698 - nephr_loss: 0.2908 - inflan_ACCinflan: 0.8906 - nephr_ACCnephr: 1.0000 - val_loss: 0.4669 - val_inflan_loss: 0.2657 - val_nephr_loss: 0.2826 - val_inflan_ACCinflan: 0.9375 - val_nephr_ACCnephr: 1.0000\n",
      "Epoch 260/1000\n",
      "64/64 [==============================] - 0s 184us/sample - loss: 0.4762 - inflan_loss: 0.2692 - nephr_loss: 0.2898 - inflan_ACCinflan: 0.8906 - nephr_ACCnephr: 1.0000 - val_loss: 0.4660 - val_inflan_loss: 0.2652 - val_nephr_loss: 0.2820 - val_inflan_ACCinflan: 0.9375 - val_nephr_ACCnephr: 1.0000\n",
      "Epoch 261/1000\n",
      "64/64 [==============================] - 0s 1ms/sample - loss: 0.4747 - inflan_loss: 0.2686 - nephr_loss: 0.2887 - inflan_ACCinflan: 0.8906 - nephr_ACCnephr: 1.0000 - val_loss: 0.4651 - val_inflan_loss: 0.2648 - val_nephr_loss: 0.2814 - val_inflan_ACCinflan: 0.9375 - val_nephr_ACCnephr: 1.0000\n",
      "Epoch 262/1000\n",
      "64/64 [==============================] - 0s 2ms/sample - loss: 0.4733 - inflan_loss: 0.2680 - nephr_loss: 0.2876 - inflan_ACCinflan: 0.8906 - nephr_ACCnephr: 1.0000 - val_loss: 0.4642 - val_inflan_loss: 0.2643 - val_nephr_loss: 0.2809 - val_inflan_ACCinflan: 0.9375 - val_nephr_ACCnephr: 1.0000\n",
      "Epoch 263/1000\n",
      "64/64 [==============================] - 0s 1ms/sample - loss: 0.4719 - inflan_loss: 0.2674 - nephr_loss: 0.2866 - inflan_ACCinflan: 0.8906 - nephr_ACCnephr: 1.0000 - val_loss: 0.4634 - val_inflan_loss: 0.2639 - val_nephr_loss: 0.2803 - val_inflan_ACCinflan: 0.9375 - val_nephr_ACCnephr: 1.0000\n",
      "Epoch 264/1000\n",
      "64/64 [==============================] - 0s 188us/sample - loss: 0.4705 - inflan_loss: 0.2669 - nephr_loss: 0.2856 - inflan_ACCinflan: 0.8906 - nephr_ACCnephr: 1.0000 - val_loss: 0.4625 - val_inflan_loss: 0.2634 - val_nephr_loss: 0.2797 - val_inflan_ACCinflan: 0.9375 - val_nephr_ACCnephr: 1.0000\n",
      "Epoch 265/1000\n",
      "64/64 [==============================] - 0s 1ms/sample - loss: 0.4691 - inflan_loss: 0.2663 - nephr_loss: 0.2845 - inflan_ACCinflan: 0.8906 - nephr_ACCnephr: 1.0000 - val_loss: 0.4616 - val_inflan_loss: 0.2630 - val_nephr_loss: 0.2791 - val_inflan_ACCinflan: 0.9375 - val_nephr_ACCnephr: 1.0000\n",
      "Epoch 266/1000\n",
      "64/64 [==============================] - 0s 1ms/sample - loss: 0.4677 - inflan_loss: 0.2657 - nephr_loss: 0.2835 - inflan_ACCinflan: 0.8906 - nephr_ACCnephr: 1.0000 - val_loss: 0.4607 - val_inflan_loss: 0.2626 - val_nephr_loss: 0.2785 - val_inflan_ACCinflan: 0.9375 - val_nephr_ACCnephr: 1.0000\n",
      "Epoch 267/1000\n",
      "64/64 [==============================] - 0s 191us/sample - loss: 0.4663 - inflan_loss: 0.2651 - nephr_loss: 0.2825 - inflan_ACCinflan: 0.8906 - nephr_ACCnephr: 1.0000 - val_loss: 0.4599 - val_inflan_loss: 0.2621 - val_nephr_loss: 0.2780 - val_inflan_ACCinflan: 0.9375 - val_nephr_ACCnephr: 1.0000\n",
      "Epoch 268/1000\n",
      "64/64 [==============================] - 0s 1ms/sample - loss: 0.4649 - inflan_loss: 0.2646 - nephr_loss: 0.2814 - inflan_ACCinflan: 0.8906 - nephr_ACCnephr: 1.0000 - val_loss: 0.4590 - val_inflan_loss: 0.2617 - val_nephr_loss: 0.2774 - val_inflan_ACCinflan: 0.9375 - val_nephr_ACCnephr: 1.0000\n",
      "Epoch 269/1000\n",
      "64/64 [==============================] - 0s 1ms/sample - loss: 0.4636 - inflan_loss: 0.2640 - nephr_loss: 0.2804 - inflan_ACCinflan: 0.8906 - nephr_ACCnephr: 1.0000 - val_loss: 0.4581 - val_inflan_loss: 0.2612 - val_nephr_loss: 0.2768 - val_inflan_ACCinflan: 0.9375 - val_nephr_ACCnephr: 1.0000\n"
     ]
    },
    {
     "name": "stdout",
     "output_type": "stream",
     "text": [
      "Epoch 270/1000\n",
      "64/64 [==============================] - 0s 188us/sample - loss: 0.4622 - inflan_loss: 0.2634 - nephr_loss: 0.2794 - inflan_ACCinflan: 0.8906 - nephr_ACCnephr: 1.0000 - val_loss: 0.4573 - val_inflan_loss: 0.2608 - val_nephr_loss: 0.2763 - val_inflan_ACCinflan: 0.9375 - val_nephr_ACCnephr: 1.0000\n",
      "Epoch 271/1000\n",
      "64/64 [==============================] - 0s 2ms/sample - loss: 0.4609 - inflan_loss: 0.2628 - nephr_loss: 0.2784 - inflan_ACCinflan: 0.8906 - nephr_ACCnephr: 1.0000 - val_loss: 0.4564 - val_inflan_loss: 0.2603 - val_nephr_loss: 0.2757 - val_inflan_ACCinflan: 0.9375 - val_nephr_ACCnephr: 1.0000\n",
      "Epoch 272/1000\n",
      "64/64 [==============================] - 0s 1ms/sample - loss: 0.4595 - inflan_loss: 0.2623 - nephr_loss: 0.2775 - inflan_ACCinflan: 0.8906 - nephr_ACCnephr: 1.0000 - val_loss: 0.4556 - val_inflan_loss: 0.2599 - val_nephr_loss: 0.2751 - val_inflan_ACCinflan: 0.9375 - val_nephr_ACCnephr: 1.0000\n",
      "Epoch 273/1000\n",
      "64/64 [==============================] - 0s 182us/sample - loss: 0.4582 - inflan_loss: 0.2617 - nephr_loss: 0.2765 - inflan_ACCinflan: 0.8906 - nephr_ACCnephr: 1.0000 - val_loss: 0.4547 - val_inflan_loss: 0.2595 - val_nephr_loss: 0.2746 - val_inflan_ACCinflan: 0.9375 - val_nephr_ACCnephr: 1.0000\n",
      "Epoch 274/1000\n",
      "64/64 [==============================] - 0s 1ms/sample - loss: 0.4569 - inflan_loss: 0.2612 - nephr_loss: 0.2755 - inflan_ACCinflan: 0.8906 - nephr_ACCnephr: 1.0000 - val_loss: 0.4539 - val_inflan_loss: 0.2590 - val_nephr_loss: 0.2740 - val_inflan_ACCinflan: 0.9375 - val_nephr_ACCnephr: 1.0000\n",
      "Epoch 275/1000\n",
      "64/64 [==============================] - 0s 1ms/sample - loss: 0.4556 - inflan_loss: 0.2606 - nephr_loss: 0.2745 - inflan_ACCinflan: 0.8906 - nephr_ACCnephr: 1.0000 - val_loss: 0.4530 - val_inflan_loss: 0.2586 - val_nephr_loss: 0.2735 - val_inflan_ACCinflan: 0.9375 - val_nephr_ACCnephr: 1.0000\n",
      "Epoch 276/1000\n",
      "64/64 [==============================] - 0s 193us/sample - loss: 0.4543 - inflan_loss: 0.2601 - nephr_loss: 0.2736 - inflan_ACCinflan: 0.8906 - nephr_ACCnephr: 1.0000 - val_loss: 0.4522 - val_inflan_loss: 0.2582 - val_nephr_loss: 0.2729 - val_inflan_ACCinflan: 0.9375 - val_nephr_ACCnephr: 1.0000\n",
      "Epoch 277/1000\n",
      "64/64 [==============================] - 0s 1ms/sample - loss: 0.4530 - inflan_loss: 0.2595 - nephr_loss: 0.2726 - inflan_ACCinflan: 0.8906 - nephr_ACCnephr: 1.0000 - val_loss: 0.4513 - val_inflan_loss: 0.2577 - val_nephr_loss: 0.2724 - val_inflan_ACCinflan: 0.9375 - val_nephr_ACCnephr: 1.0000\n",
      "Epoch 278/1000\n",
      "64/64 [==============================] - 0s 1ms/sample - loss: 0.4517 - inflan_loss: 0.2590 - nephr_loss: 0.2717 - inflan_ACCinflan: 0.8906 - nephr_ACCnephr: 1.0000 - val_loss: 0.4505 - val_inflan_loss: 0.2573 - val_nephr_loss: 0.2718 - val_inflan_ACCinflan: 0.9375 - val_nephr_ACCnephr: 1.0000\n",
      "Epoch 279/1000\n",
      "64/64 [==============================] - 0s 185us/sample - loss: 0.4504 - inflan_loss: 0.2584 - nephr_loss: 0.2707 - inflan_ACCinflan: 0.8906 - nephr_ACCnephr: 1.0000 - val_loss: 0.4497 - val_inflan_loss: 0.2569 - val_nephr_loss: 0.2713 - val_inflan_ACCinflan: 0.9375 - val_nephr_ACCnephr: 1.0000\n",
      "Epoch 280/1000\n",
      "64/64 [==============================] - 0s 1ms/sample - loss: 0.4491 - inflan_loss: 0.2579 - nephr_loss: 0.2698 - inflan_ACCinflan: 0.8906 - nephr_ACCnephr: 1.0000 - val_loss: 0.4488 - val_inflan_loss: 0.2564 - val_nephr_loss: 0.2707 - val_inflan_ACCinflan: 0.9375 - val_nephr_ACCnephr: 1.0000\n",
      "Epoch 281/1000\n",
      "64/64 [==============================] - 0s 2ms/sample - loss: 0.4478 - inflan_loss: 0.2573 - nephr_loss: 0.2689 - inflan_ACCinflan: 0.8906 - nephr_ACCnephr: 1.0000 - val_loss: 0.4480 - val_inflan_loss: 0.2560 - val_nephr_loss: 0.2702 - val_inflan_ACCinflan: 0.9375 - val_nephr_ACCnephr: 1.0000\n",
      "Epoch 282/1000\n",
      "64/64 [==============================] - 0s 186us/sample - loss: 0.4466 - inflan_loss: 0.2568 - nephr_loss: 0.2679 - inflan_ACCinflan: 0.8906 - nephr_ACCnephr: 1.0000 - val_loss: 0.4472 - val_inflan_loss: 0.2556 - val_nephr_loss: 0.2697 - val_inflan_ACCinflan: 0.9375 - val_nephr_ACCnephr: 1.0000\n",
      "Epoch 283/1000\n",
      "64/64 [==============================] - 0s 184us/sample - loss: 0.4453 - inflan_loss: 0.2562 - nephr_loss: 0.2670 - inflan_ACCinflan: 0.9062 - nephr_ACCnephr: 1.0000 - val_loss: 0.4464 - val_inflan_loss: 0.2552 - val_nephr_loss: 0.2691 - val_inflan_ACCinflan: 0.9375 - val_nephr_ACCnephr: 1.0000\n",
      "Epoch 284/1000\n",
      "64/64 [==============================] - 0s 1ms/sample - loss: 0.4441 - inflan_loss: 0.2557 - nephr_loss: 0.2661 - inflan_ACCinflan: 0.9219 - nephr_ACCnephr: 1.0000 - val_loss: 0.4455 - val_inflan_loss: 0.2547 - val_nephr_loss: 0.2686 - val_inflan_ACCinflan: 0.9375 - val_nephr_ACCnephr: 1.0000\n",
      "Epoch 285/1000\n",
      "64/64 [==============================] - 0s 185us/sample - loss: 0.4428 - inflan_loss: 0.2552 - nephr_loss: 0.2652 - inflan_ACCinflan: 0.9219 - nephr_ACCnephr: 1.0000 - val_loss: 0.4447 - val_inflan_loss: 0.2543 - val_nephr_loss: 0.2681 - val_inflan_ACCinflan: 0.9375 - val_nephr_ACCnephr: 1.0000\n",
      "Epoch 286/1000\n",
      "64/64 [==============================] - 0s 1ms/sample - loss: 0.4416 - inflan_loss: 0.2546 - nephr_loss: 0.2643 - inflan_ACCinflan: 0.9375 - nephr_ACCnephr: 1.0000 - val_loss: 0.4439 - val_inflan_loss: 0.2539 - val_nephr_loss: 0.2676 - val_inflan_ACCinflan: 1.0000 - val_nephr_ACCnephr: 1.0000\n",
      "Epoch 287/1000\n",
      "64/64 [==============================] - 0s 1ms/sample - loss: 0.4404 - inflan_loss: 0.2541 - nephr_loss: 0.2634 - inflan_ACCinflan: 0.9375 - nephr_ACCnephr: 1.0000 - val_loss: 0.4431 - val_inflan_loss: 0.2535 - val_nephr_loss: 0.2670 - val_inflan_ACCinflan: 1.0000 - val_nephr_ACCnephr: 1.0000\n",
      "Epoch 288/1000\n",
      "64/64 [==============================] - 0s 194us/sample - loss: 0.4391 - inflan_loss: 0.2536 - nephr_loss: 0.2625 - inflan_ACCinflan: 0.9375 - nephr_ACCnephr: 1.0000 - val_loss: 0.4423 - val_inflan_loss: 0.2530 - val_nephr_loss: 0.2665 - val_inflan_ACCinflan: 1.0000 - val_nephr_ACCnephr: 1.0000\n",
      "Epoch 289/1000\n",
      "64/64 [==============================] - 0s 192us/sample - loss: 0.4379 - inflan_loss: 0.2531 - nephr_loss: 0.2616 - inflan_ACCinflan: 0.9688 - nephr_ACCnephr: 1.0000 - val_loss: 0.4415 - val_inflan_loss: 0.2526 - val_nephr_loss: 0.2660 - val_inflan_ACCinflan: 1.0000 - val_nephr_ACCnephr: 1.0000\n",
      "Epoch 290/1000\n",
      "64/64 [==============================] - 0s 1ms/sample - loss: 0.4367 - inflan_loss: 0.2525 - nephr_loss: 0.2607 - inflan_ACCinflan: 0.9688 - nephr_ACCnephr: 1.0000 - val_loss: 0.4407 - val_inflan_loss: 0.2522 - val_nephr_loss: 0.2655 - val_inflan_ACCinflan: 1.0000 - val_nephr_ACCnephr: 1.0000\n",
      "Epoch 291/1000\n",
      "64/64 [==============================] - 0s 185us/sample - loss: 0.4355 - inflan_loss: 0.2520 - nephr_loss: 0.2599 - inflan_ACCinflan: 0.9688 - nephr_ACCnephr: 1.0000 - val_loss: 0.4399 - val_inflan_loss: 0.2518 - val_nephr_loss: 0.2649 - val_inflan_ACCinflan: 1.0000 - val_nephr_ACCnephr: 1.0000\n",
      "Epoch 292/1000\n",
      "64/64 [==============================] - 0s 1ms/sample - loss: 0.4343 - inflan_loss: 0.2515 - nephr_loss: 0.2590 - inflan_ACCinflan: 0.9688 - nephr_ACCnephr: 1.0000 - val_loss: 0.4391 - val_inflan_loss: 0.2514 - val_nephr_loss: 0.2644 - val_inflan_ACCinflan: 1.0000 - val_nephr_ACCnephr: 1.0000\n",
      "Epoch 293/1000\n",
      "64/64 [==============================] - 0s 1ms/sample - loss: 0.4331 - inflan_loss: 0.2510 - nephr_loss: 0.2581 - inflan_ACCinflan: 0.9688 - nephr_ACCnephr: 1.0000 - val_loss: 0.4383 - val_inflan_loss: 0.2510 - val_nephr_loss: 0.2639 - val_inflan_ACCinflan: 1.0000 - val_nephr_ACCnephr: 1.0000\n",
      "Epoch 294/1000\n",
      "64/64 [==============================] - 0s 181us/sample - loss: 0.4319 - inflan_loss: 0.2505 - nephr_loss: 0.2573 - inflan_ACCinflan: 0.9844 - nephr_ACCnephr: 1.0000 - val_loss: 0.4375 - val_inflan_loss: 0.2506 - val_nephr_loss: 0.2634 - val_inflan_ACCinflan: 1.0000 - val_nephr_ACCnephr: 1.0000\n",
      "Epoch 295/1000\n",
      "64/64 [==============================] - 0s 1ms/sample - loss: 0.4308 - inflan_loss: 0.2500 - nephr_loss: 0.2564 - inflan_ACCinflan: 1.0000 - nephr_ACCnephr: 1.0000 - val_loss: 0.4367 - val_inflan_loss: 0.2501 - val_nephr_loss: 0.2629 - val_inflan_ACCinflan: 1.0000 - val_nephr_ACCnephr: 1.0000\n",
      "Epoch 296/1000\n",
      "64/64 [==============================] - 0s 1ms/sample - loss: 0.4296 - inflan_loss: 0.2495 - nephr_loss: 0.2556 - inflan_ACCinflan: 1.0000 - nephr_ACCnephr: 1.0000 - val_loss: 0.4359 - val_inflan_loss: 0.2497 - val_nephr_loss: 0.2624 - val_inflan_ACCinflan: 1.0000 - val_nephr_ACCnephr: 1.0000\n"
     ]
    },
    {
     "name": "stdout",
     "output_type": "stream",
     "text": [
      "Epoch 297/1000\n",
      "64/64 [==============================] - 0s 188us/sample - loss: 0.4284 - inflan_loss: 0.2490 - nephr_loss: 0.2548 - inflan_ACCinflan: 1.0000 - nephr_ACCnephr: 1.0000 - val_loss: 0.4352 - val_inflan_loss: 0.2493 - val_nephr_loss: 0.2619 - val_inflan_ACCinflan: 1.0000 - val_nephr_ACCnephr: 1.0000\n",
      "Epoch 298/1000\n",
      "64/64 [==============================] - 0s 1ms/sample - loss: 0.4273 - inflan_loss: 0.2484 - nephr_loss: 0.2539 - inflan_ACCinflan: 1.0000 - nephr_ACCnephr: 1.0000 - val_loss: 0.4344 - val_inflan_loss: 0.2489 - val_nephr_loss: 0.2614 - val_inflan_ACCinflan: 1.0000 - val_nephr_ACCnephr: 1.0000\n",
      "Epoch 299/1000\n",
      "64/64 [==============================] - 0s 1ms/sample - loss: 0.4261 - inflan_loss: 0.2479 - nephr_loss: 0.2531 - inflan_ACCinflan: 1.0000 - nephr_ACCnephr: 1.0000 - val_loss: 0.4336 - val_inflan_loss: 0.2485 - val_nephr_loss: 0.2609 - val_inflan_ACCinflan: 1.0000 - val_nephr_ACCnephr: 1.0000\n",
      "Epoch 300/1000\n",
      "64/64 [==============================] - 0s 187us/sample - loss: 0.4250 - inflan_loss: 0.2474 - nephr_loss: 0.2523 - inflan_ACCinflan: 1.0000 - nephr_ACCnephr: 1.0000 - val_loss: 0.4328 - val_inflan_loss: 0.2481 - val_nephr_loss: 0.2604 - val_inflan_ACCinflan: 1.0000 - val_nephr_ACCnephr: 1.0000\n",
      "Epoch 301/1000\n",
      "64/64 [==============================] - 0s 1ms/sample - loss: 0.4239 - inflan_loss: 0.2469 - nephr_loss: 0.2514 - inflan_ACCinflan: 1.0000 - nephr_ACCnephr: 1.0000 - val_loss: 0.4321 - val_inflan_loss: 0.2477 - val_nephr_loss: 0.2599 - val_inflan_ACCinflan: 1.0000 - val_nephr_ACCnephr: 1.0000\n",
      "Epoch 302/1000\n",
      "64/64 [==============================] - 0s 1ms/sample - loss: 0.4227 - inflan_loss: 0.2464 - nephr_loss: 0.2506 - inflan_ACCinflan: 1.0000 - nephr_ACCnephr: 1.0000 - val_loss: 0.4313 - val_inflan_loss: 0.2473 - val_nephr_loss: 0.2594 - val_inflan_ACCinflan: 1.0000 - val_nephr_ACCnephr: 1.0000\n",
      "Epoch 303/1000\n",
      "64/64 [==============================] - 0s 185us/sample - loss: 0.4216 - inflan_loss: 0.2460 - nephr_loss: 0.2498 - inflan_ACCinflan: 1.0000 - nephr_ACCnephr: 1.0000 - val_loss: 0.4305 - val_inflan_loss: 0.2469 - val_nephr_loss: 0.2589 - val_inflan_ACCinflan: 1.0000 - val_nephr_ACCnephr: 1.0000\n",
      "Epoch 304/1000\n",
      "64/64 [==============================] - 0s 1ms/sample - loss: 0.4205 - inflan_loss: 0.2455 - nephr_loss: 0.2490 - inflan_ACCinflan: 1.0000 - nephr_ACCnephr: 1.0000 - val_loss: 0.4298 - val_inflan_loss: 0.2465 - val_nephr_loss: 0.2584 - val_inflan_ACCinflan: 1.0000 - val_nephr_ACCnephr: 1.0000\n",
      "Epoch 305/1000\n",
      "64/64 [==============================] - 0s 1ms/sample - loss: 0.4194 - inflan_loss: 0.2450 - nephr_loss: 0.2482 - inflan_ACCinflan: 1.0000 - nephr_ACCnephr: 1.0000 - val_loss: 0.4290 - val_inflan_loss: 0.2461 - val_nephr_loss: 0.2579 - val_inflan_ACCinflan: 1.0000 - val_nephr_ACCnephr: 1.0000\n",
      "Epoch 306/1000\n",
      "64/64 [==============================] - 0s 189us/sample - loss: 0.4183 - inflan_loss: 0.2445 - nephr_loss: 0.2474 - inflan_ACCinflan: 1.0000 - nephr_ACCnephr: 1.0000 - val_loss: 0.4282 - val_inflan_loss: 0.2457 - val_nephr_loss: 0.2574 - val_inflan_ACCinflan: 1.0000 - val_nephr_ACCnephr: 1.0000\n",
      "Epoch 307/1000\n",
      "64/64 [==============================] - 0s 1ms/sample - loss: 0.4172 - inflan_loss: 0.2440 - nephr_loss: 0.2466 - inflan_ACCinflan: 1.0000 - nephr_ACCnephr: 1.0000 - val_loss: 0.4275 - val_inflan_loss: 0.2453 - val_nephr_loss: 0.2569 - val_inflan_ACCinflan: 1.0000 - val_nephr_ACCnephr: 1.0000\n",
      "Epoch 308/1000\n",
      "64/64 [==============================] - 0s 1ms/sample - loss: 0.4161 - inflan_loss: 0.2435 - nephr_loss: 0.2459 - inflan_ACCinflan: 1.0000 - nephr_ACCnephr: 1.0000 - val_loss: 0.4267 - val_inflan_loss: 0.2449 - val_nephr_loss: 0.2565 - val_inflan_ACCinflan: 1.0000 - val_nephr_ACCnephr: 1.0000\n",
      "Epoch 309/1000\n",
      "64/64 [==============================] - 0s 196us/sample - loss: 0.4150 - inflan_loss: 0.2430 - nephr_loss: 0.2451 - inflan_ACCinflan: 1.0000 - nephr_ACCnephr: 1.0000 - val_loss: 0.4260 - val_inflan_loss: 0.2445 - val_nephr_loss: 0.2560 - val_inflan_ACCinflan: 1.0000 - val_nephr_ACCnephr: 1.0000\n",
      "Epoch 310/1000\n",
      "64/64 [==============================] - 0s 192us/sample - loss: 0.4139 - inflan_loss: 0.2425 - nephr_loss: 0.2443 - inflan_ACCinflan: 1.0000 - nephr_ACCnephr: 1.0000 - val_loss: 0.4252 - val_inflan_loss: 0.2441 - val_nephr_loss: 0.2555 - val_inflan_ACCinflan: 1.0000 - val_nephr_ACCnephr: 1.0000\n",
      "Epoch 311/1000\n",
      "64/64 [==============================] - 0s 2ms/sample - loss: 0.4128 - inflan_loss: 0.2421 - nephr_loss: 0.2435 - inflan_ACCinflan: 1.0000 - nephr_ACCnephr: 1.0000 - val_loss: 0.4245 - val_inflan_loss: 0.2437 - val_nephr_loss: 0.2550 - val_inflan_ACCinflan: 1.0000 - val_nephr_ACCnephr: 1.0000\n",
      "Epoch 312/1000\n",
      "64/64 [==============================] - 0s 189us/sample - loss: 0.4118 - inflan_loss: 0.2416 - nephr_loss: 0.2428 - inflan_ACCinflan: 1.0000 - nephr_ACCnephr: 1.0000 - val_loss: 0.4237 - val_inflan_loss: 0.2433 - val_nephr_loss: 0.2545 - val_inflan_ACCinflan: 1.0000 - val_nephr_ACCnephr: 1.0000\n",
      "Epoch 313/1000\n",
      "64/64 [==============================] - 0s 1ms/sample - loss: 0.4107 - inflan_loss: 0.2411 - nephr_loss: 0.2420 - inflan_ACCinflan: 1.0000 - nephr_ACCnephr: 1.0000 - val_loss: 0.4230 - val_inflan_loss: 0.2429 - val_nephr_loss: 0.2541 - val_inflan_ACCinflan: 1.0000 - val_nephr_ACCnephr: 1.0000\n",
      "Epoch 314/1000\n",
      "64/64 [==============================] - 0s 1ms/sample - loss: 0.4096 - inflan_loss: 0.2406 - nephr_loss: 0.2412 - inflan_ACCinflan: 1.0000 - nephr_ACCnephr: 1.0000 - val_loss: 0.4222 - val_inflan_loss: 0.2425 - val_nephr_loss: 0.2536 - val_inflan_ACCinflan: 1.0000 - val_nephr_ACCnephr: 1.0000\n",
      "Epoch 315/1000\n",
      "64/64 [==============================] - 0s 187us/sample - loss: 0.4086 - inflan_loss: 0.2402 - nephr_loss: 0.2405 - inflan_ACCinflan: 1.0000 - nephr_ACCnephr: 1.0000 - val_loss: 0.4215 - val_inflan_loss: 0.2421 - val_nephr_loss: 0.2531 - val_inflan_ACCinflan: 1.0000 - val_nephr_ACCnephr: 1.0000\n",
      "Epoch 316/1000\n",
      "64/64 [==============================] - 0s 1ms/sample - loss: 0.4075 - inflan_loss: 0.2397 - nephr_loss: 0.2397 - inflan_ACCinflan: 1.0000 - nephr_ACCnephr: 1.0000 - val_loss: 0.4208 - val_inflan_loss: 0.2417 - val_nephr_loss: 0.2527 - val_inflan_ACCinflan: 1.0000 - val_nephr_ACCnephr: 1.0000\n",
      "Epoch 317/1000\n",
      "64/64 [==============================] - 0s 2ms/sample - loss: 0.4065 - inflan_loss: 0.2392 - nephr_loss: 0.2390 - inflan_ACCinflan: 1.0000 - nephr_ACCnephr: 1.0000 - val_loss: 0.4200 - val_inflan_loss: 0.2413 - val_nephr_loss: 0.2522 - val_inflan_ACCinflan: 1.0000 - val_nephr_ACCnephr: 1.0000\n",
      "Epoch 318/1000\n",
      "64/64 [==============================] - 0s 193us/sample - loss: 0.4054 - inflan_loss: 0.2388 - nephr_loss: 0.2383 - inflan_ACCinflan: 1.0000 - nephr_ACCnephr: 1.0000 - val_loss: 0.4193 - val_inflan_loss: 0.2409 - val_nephr_loss: 0.2517 - val_inflan_ACCinflan: 1.0000 - val_nephr_ACCnephr: 1.0000\n",
      "Epoch 319/1000\n",
      "64/64 [==============================] - 0s 188us/sample - loss: 0.4044 - inflan_loss: 0.2383 - nephr_loss: 0.2375 - inflan_ACCinflan: 1.0000 - nephr_ACCnephr: 1.0000 - val_loss: 0.4186 - val_inflan_loss: 0.2406 - val_nephr_loss: 0.2513 - val_inflan_ACCinflan: 1.0000 - val_nephr_ACCnephr: 1.0000\n",
      "Epoch 320/1000\n",
      "64/64 [==============================] - 0s 2ms/sample - loss: 0.4034 - inflan_loss: 0.2378 - nephr_loss: 0.2368 - inflan_ACCinflan: 1.0000 - nephr_ACCnephr: 1.0000 - val_loss: 0.4178 - val_inflan_loss: 0.2402 - val_nephr_loss: 0.2508 - val_inflan_ACCinflan: 1.0000 - val_nephr_ACCnephr: 1.0000\n",
      "Epoch 321/1000\n",
      "64/64 [==============================] - 0s 194us/sample - loss: 0.4024 - inflan_loss: 0.2374 - nephr_loss: 0.2361 - inflan_ACCinflan: 1.0000 - nephr_ACCnephr: 1.0000 - val_loss: 0.4171 - val_inflan_loss: 0.2398 - val_nephr_loss: 0.2503 - val_inflan_ACCinflan: 1.0000 - val_nephr_ACCnephr: 1.0000\n",
      "Epoch 322/1000\n",
      "64/64 [==============================] - 0s 1ms/sample - loss: 0.4013 - inflan_loss: 0.2369 - nephr_loss: 0.2353 - inflan_ACCinflan: 1.0000 - nephr_ACCnephr: 1.0000 - val_loss: 0.4164 - val_inflan_loss: 0.2394 - val_nephr_loss: 0.2499 - val_inflan_ACCinflan: 1.0000 - val_nephr_ACCnephr: 1.0000\n",
      "Epoch 323/1000\n",
      "64/64 [==============================] - 0s 2ms/sample - loss: 0.4003 - inflan_loss: 0.2365 - nephr_loss: 0.2346 - inflan_ACCinflan: 1.0000 - nephr_ACCnephr: 1.0000 - val_loss: 0.4157 - val_inflan_loss: 0.2390 - val_nephr_loss: 0.2494 - val_inflan_ACCinflan: 1.0000 - val_nephr_ACCnephr: 1.0000\n"
     ]
    },
    {
     "name": "stdout",
     "output_type": "stream",
     "text": [
      "Epoch 324/1000\n",
      "64/64 [==============================] - 0s 186us/sample - loss: 0.3993 - inflan_loss: 0.2360 - nephr_loss: 0.2339 - inflan_ACCinflan: 1.0000 - nephr_ACCnephr: 1.0000 - val_loss: 0.4150 - val_inflan_loss: 0.2386 - val_nephr_loss: 0.2489 - val_inflan_ACCinflan: 1.0000 - val_nephr_ACCnephr: 1.0000\n",
      "Epoch 325/1000\n",
      "64/64 [==============================] - 0s 1ms/sample - loss: 0.3983 - inflan_loss: 0.2355 - nephr_loss: 0.2332 - inflan_ACCinflan: 1.0000 - nephr_ACCnephr: 1.0000 - val_loss: 0.4142 - val_inflan_loss: 0.2383 - val_nephr_loss: 0.2485 - val_inflan_ACCinflan: 1.0000 - val_nephr_ACCnephr: 1.0000\n",
      "Epoch 326/1000\n",
      "64/64 [==============================] - 0s 2ms/sample - loss: 0.3973 - inflan_loss: 0.2351 - nephr_loss: 0.2325 - inflan_ACCinflan: 1.0000 - nephr_ACCnephr: 1.0000 - val_loss: 0.4135 - val_inflan_loss: 0.2379 - val_nephr_loss: 0.2480 - val_inflan_ACCinflan: 1.0000 - val_nephr_ACCnephr: 1.0000\n",
      "Epoch 327/1000\n",
      "64/64 [==============================] - 0s 1ms/sample - loss: 0.3963 - inflan_loss: 0.2346 - nephr_loss: 0.2318 - inflan_ACCinflan: 1.0000 - nephr_ACCnephr: 1.0000 - val_loss: 0.4128 - val_inflan_loss: 0.2375 - val_nephr_loss: 0.2476 - val_inflan_ACCinflan: 1.0000 - val_nephr_ACCnephr: 1.0000\n",
      "Epoch 328/1000\n",
      "64/64 [==============================] - 0s 196us/sample - loss: 0.3953 - inflan_loss: 0.2342 - nephr_loss: 0.2311 - inflan_ACCinflan: 1.0000 - nephr_ACCnephr: 1.0000 - val_loss: 0.4121 - val_inflan_loss: 0.2371 - val_nephr_loss: 0.2471 - val_inflan_ACCinflan: 1.0000 - val_nephr_ACCnephr: 1.0000\n",
      "Epoch 329/1000\n",
      "64/64 [==============================] - 0s 2ms/sample - loss: 0.3944 - inflan_loss: 0.2337 - nephr_loss: 0.2304 - inflan_ACCinflan: 1.0000 - nephr_ACCnephr: 1.0000 - val_loss: 0.4114 - val_inflan_loss: 0.2367 - val_nephr_loss: 0.2467 - val_inflan_ACCinflan: 1.0000 - val_nephr_ACCnephr: 1.0000\n",
      "Epoch 330/1000\n",
      "64/64 [==============================] - 0s 1ms/sample - loss: 0.3934 - inflan_loss: 0.2333 - nephr_loss: 0.2297 - inflan_ACCinflan: 1.0000 - nephr_ACCnephr: 1.0000 - val_loss: 0.4107 - val_inflan_loss: 0.2364 - val_nephr_loss: 0.2462 - val_inflan_ACCinflan: 1.0000 - val_nephr_ACCnephr: 1.0000\n",
      "Epoch 331/1000\n",
      "64/64 [==============================] - 0s 229us/sample - loss: 0.3924 - inflan_loss: 0.2329 - nephr_loss: 0.2290 - inflan_ACCinflan: 1.0000 - nephr_ACCnephr: 1.0000 - val_loss: 0.4100 - val_inflan_loss: 0.2360 - val_nephr_loss: 0.2458 - val_inflan_ACCinflan: 1.0000 - val_nephr_ACCnephr: 1.0000\n",
      "Epoch 332/1000\n",
      "64/64 [==============================] - 0s 2ms/sample - loss: 0.3914 - inflan_loss: 0.2324 - nephr_loss: 0.2283 - inflan_ACCinflan: 1.0000 - nephr_ACCnephr: 1.0000 - val_loss: 0.4093 - val_inflan_loss: 0.2356 - val_nephr_loss: 0.2453 - val_inflan_ACCinflan: 1.0000 - val_nephr_ACCnephr: 1.0000\n",
      "Epoch 333/1000\n",
      "64/64 [==============================] - 0s 2ms/sample - loss: 0.3905 - inflan_loss: 0.2320 - nephr_loss: 0.2277 - inflan_ACCinflan: 1.0000 - nephr_ACCnephr: 1.0000 - val_loss: 0.4086 - val_inflan_loss: 0.2352 - val_nephr_loss: 0.2449 - val_inflan_ACCinflan: 1.0000 - val_nephr_ACCnephr: 1.0000\n",
      "Epoch 334/1000\n",
      "64/64 [==============================] - 0s 1ms/sample - loss: 0.3895 - inflan_loss: 0.2315 - nephr_loss: 0.2270 - inflan_ACCinflan: 1.0000 - nephr_ACCnephr: 1.0000 - val_loss: 0.4079 - val_inflan_loss: 0.2349 - val_nephr_loss: 0.2445 - val_inflan_ACCinflan: 1.0000 - val_nephr_ACCnephr: 1.0000\n",
      "Epoch 335/1000\n",
      "64/64 [==============================] - 0s 1ms/sample - loss: 0.3886 - inflan_loss: 0.2311 - nephr_loss: 0.2263 - inflan_ACCinflan: 1.0000 - nephr_ACCnephr: 1.0000 - val_loss: 0.4072 - val_inflan_loss: 0.2345 - val_nephr_loss: 0.2440 - val_inflan_ACCinflan: 1.0000 - val_nephr_ACCnephr: 1.0000\n",
      "Epoch 336/1000\n",
      "64/64 [==============================] - 0s 306us/sample - loss: 0.3876 - inflan_loss: 0.2307 - nephr_loss: 0.2256 - inflan_ACCinflan: 1.0000 - nephr_ACCnephr: 1.0000 - val_loss: 0.4065 - val_inflan_loss: 0.2341 - val_nephr_loss: 0.2436 - val_inflan_ACCinflan: 1.0000 - val_nephr_ACCnephr: 1.0000\n",
      "Epoch 337/1000\n",
      "64/64 [==============================] - 0s 245us/sample - loss: 0.3867 - inflan_loss: 0.2302 - nephr_loss: 0.2250 - inflan_ACCinflan: 1.0000 - nephr_ACCnephr: 1.0000 - val_loss: 0.4058 - val_inflan_loss: 0.2338 - val_nephr_loss: 0.2431 - val_inflan_ACCinflan: 1.0000 - val_nephr_ACCnephr: 1.0000\n",
      "Epoch 338/1000\n",
      "64/64 [==============================] - 0s 2ms/sample - loss: 0.3857 - inflan_loss: 0.2298 - nephr_loss: 0.2243 - inflan_ACCinflan: 1.0000 - nephr_ACCnephr: 1.0000 - val_loss: 0.4051 - val_inflan_loss: 0.2334 - val_nephr_loss: 0.2427 - val_inflan_ACCinflan: 1.0000 - val_nephr_ACCnephr: 1.0000\n",
      "Epoch 339/1000\n",
      "64/64 [==============================] - 0s 1ms/sample - loss: 0.3848 - inflan_loss: 0.2294 - nephr_loss: 0.2237 - inflan_ACCinflan: 1.0000 - nephr_ACCnephr: 1.0000 - val_loss: 0.4044 - val_inflan_loss: 0.2330 - val_nephr_loss: 0.2423 - val_inflan_ACCinflan: 1.0000 - val_nephr_ACCnephr: 1.0000\n",
      "Epoch 340/1000\n",
      "64/64 [==============================] - 0s 226us/sample - loss: 0.3839 - inflan_loss: 0.2289 - nephr_loss: 0.2230 - inflan_ACCinflan: 1.0000 - nephr_ACCnephr: 1.0000 - val_loss: 0.4038 - val_inflan_loss: 0.2326 - val_nephr_loss: 0.2418 - val_inflan_ACCinflan: 1.0000 - val_nephr_ACCnephr: 1.0000\n",
      "Epoch 341/1000\n",
      "64/64 [==============================] - 0s 238us/sample - loss: 0.3829 - inflan_loss: 0.2285 - nephr_loss: 0.2224 - inflan_ACCinflan: 1.0000 - nephr_ACCnephr: 1.0000 - val_loss: 0.4031 - val_inflan_loss: 0.2323 - val_nephr_loss: 0.2414 - val_inflan_ACCinflan: 1.0000 - val_nephr_ACCnephr: 1.0000\n",
      "Epoch 342/1000\n",
      "64/64 [==============================] - 0s 1ms/sample - loss: 0.3820 - inflan_loss: 0.2281 - nephr_loss: 0.2217 - inflan_ACCinflan: 1.0000 - nephr_ACCnephr: 1.0000 - val_loss: 0.4024 - val_inflan_loss: 0.2319 - val_nephr_loss: 0.2410 - val_inflan_ACCinflan: 1.0000 - val_nephr_ACCnephr: 1.0000\n",
      "Epoch 343/1000\n",
      "64/64 [==============================] - 0s 1ms/sample - loss: 0.3811 - inflan_loss: 0.2277 - nephr_loss: 0.2211 - inflan_ACCinflan: 1.0000 - nephr_ACCnephr: 1.0000 - val_loss: 0.4017 - val_inflan_loss: 0.2315 - val_nephr_loss: 0.2405 - val_inflan_ACCinflan: 1.0000 - val_nephr_ACCnephr: 1.0000\n",
      "Epoch 344/1000\n",
      "64/64 [==============================] - 0s 214us/sample - loss: 0.3802 - inflan_loss: 0.2272 - nephr_loss: 0.2204 - inflan_ACCinflan: 1.0000 - nephr_ACCnephr: 1.0000 - val_loss: 0.4010 - val_inflan_loss: 0.2312 - val_nephr_loss: 0.2401 - val_inflan_ACCinflan: 1.0000 - val_nephr_ACCnephr: 1.0000\n",
      "Epoch 345/1000\n",
      "64/64 [==============================] - 0s 1ms/sample - loss: 0.3793 - inflan_loss: 0.2268 - nephr_loss: 0.2198 - inflan_ACCinflan: 1.0000 - nephr_ACCnephr: 1.0000 - val_loss: 0.4004 - val_inflan_loss: 0.2308 - val_nephr_loss: 0.2397 - val_inflan_ACCinflan: 1.0000 - val_nephr_ACCnephr: 1.0000\n",
      "Epoch 346/1000\n",
      "64/64 [==============================] - 0s 2ms/sample - loss: 0.3784 - inflan_loss: 0.2264 - nephr_loss: 0.2192 - inflan_ACCinflan: 1.0000 - nephr_ACCnephr: 1.0000 - val_loss: 0.3997 - val_inflan_loss: 0.2305 - val_nephr_loss: 0.2393 - val_inflan_ACCinflan: 1.0000 - val_nephr_ACCnephr: 1.0000\n",
      "Epoch 347/1000\n",
      "64/64 [==============================] - 0s 1ms/sample - loss: 0.3775 - inflan_loss: 0.2260 - nephr_loss: 0.2185 - inflan_ACCinflan: 1.0000 - nephr_ACCnephr: 1.0000 - val_loss: 0.3990 - val_inflan_loss: 0.2301 - val_nephr_loss: 0.2388 - val_inflan_ACCinflan: 1.0000 - val_nephr_ACCnephr: 1.0000\n",
      "Epoch 348/1000\n",
      "64/64 [==============================] - 0s 192us/sample - loss: 0.3766 - inflan_loss: 0.2256 - nephr_loss: 0.2179 - inflan_ACCinflan: 1.0000 - nephr_ACCnephr: 1.0000 - val_loss: 0.3984 - val_inflan_loss: 0.2297 - val_nephr_loss: 0.2384 - val_inflan_ACCinflan: 1.0000 - val_nephr_ACCnephr: 1.0000\n",
      "Epoch 349/1000\n",
      "64/64 [==============================] - 0s 2ms/sample - loss: 0.3757 - inflan_loss: 0.2251 - nephr_loss: 0.2173 - inflan_ACCinflan: 1.0000 - nephr_ACCnephr: 1.0000 - val_loss: 0.3977 - val_inflan_loss: 0.2294 - val_nephr_loss: 0.2380 - val_inflan_ACCinflan: 1.0000 - val_nephr_ACCnephr: 1.0000\n",
      "Epoch 350/1000\n",
      "64/64 [==============================] - 0s 1ms/sample - loss: 0.3748 - inflan_loss: 0.2247 - nephr_loss: 0.2167 - inflan_ACCinflan: 1.0000 - nephr_ACCnephr: 1.0000 - val_loss: 0.3970 - val_inflan_loss: 0.2290 - val_nephr_loss: 0.2376 - val_inflan_ACCinflan: 1.0000 - val_nephr_ACCnephr: 1.0000\n"
     ]
    },
    {
     "name": "stdout",
     "output_type": "stream",
     "text": [
      "Epoch 351/1000\n",
      "64/64 [==============================] - 0s 200us/sample - loss: 0.3739 - inflan_loss: 0.2243 - nephr_loss: 0.2161 - inflan_ACCinflan: 1.0000 - nephr_ACCnephr: 1.0000 - val_loss: 0.3964 - val_inflan_loss: 0.2287 - val_nephr_loss: 0.2371 - val_inflan_ACCinflan: 1.0000 - val_nephr_ACCnephr: 1.0000\n",
      "Epoch 352/1000\n",
      "64/64 [==============================] - 0s 1ms/sample - loss: 0.3730 - inflan_loss: 0.2239 - nephr_loss: 0.2155 - inflan_ACCinflan: 1.0000 - nephr_ACCnephr: 1.0000 - val_loss: 0.3957 - val_inflan_loss: 0.2283 - val_nephr_loss: 0.2367 - val_inflan_ACCinflan: 1.0000 - val_nephr_ACCnephr: 1.0000\n",
      "Epoch 353/1000\n",
      "64/64 [==============================] - 0s 1ms/sample - loss: 0.3722 - inflan_loss: 0.2235 - nephr_loss: 0.2148 - inflan_ACCinflan: 1.0000 - nephr_ACCnephr: 1.0000 - val_loss: 0.3950 - val_inflan_loss: 0.2279 - val_nephr_loss: 0.2363 - val_inflan_ACCinflan: 1.0000 - val_nephr_ACCnephr: 1.0000\n",
      "Epoch 354/1000\n",
      "64/64 [==============================] - 0s 196us/sample - loss: 0.3713 - inflan_loss: 0.2231 - nephr_loss: 0.2142 - inflan_ACCinflan: 1.0000 - nephr_ACCnephr: 1.0000 - val_loss: 0.3944 - val_inflan_loss: 0.2276 - val_nephr_loss: 0.2359 - val_inflan_ACCinflan: 1.0000 - val_nephr_ACCnephr: 1.0000\n",
      "Epoch 355/1000\n",
      "64/64 [==============================] - 0s 1ms/sample - loss: 0.3704 - inflan_loss: 0.2227 - nephr_loss: 0.2136 - inflan_ACCinflan: 1.0000 - nephr_ACCnephr: 1.0000 - val_loss: 0.3937 - val_inflan_loss: 0.2272 - val_nephr_loss: 0.2355 - val_inflan_ACCinflan: 1.0000 - val_nephr_ACCnephr: 1.0000\n",
      "Epoch 356/1000\n",
      "64/64 [==============================] - 0s 2ms/sample - loss: 0.3696 - inflan_loss: 0.2223 - nephr_loss: 0.2130 - inflan_ACCinflan: 1.0000 - nephr_ACCnephr: 1.0000 - val_loss: 0.3931 - val_inflan_loss: 0.2269 - val_nephr_loss: 0.2351 - val_inflan_ACCinflan: 1.0000 - val_nephr_ACCnephr: 1.0000\n",
      "Epoch 357/1000\n",
      "64/64 [==============================] - 0s 191us/sample - loss: 0.3687 - inflan_loss: 0.2219 - nephr_loss: 0.2124 - inflan_ACCinflan: 1.0000 - nephr_ACCnephr: 1.0000 - val_loss: 0.3924 - val_inflan_loss: 0.2265 - val_nephr_loss: 0.2347 - val_inflan_ACCinflan: 1.0000 - val_nephr_ACCnephr: 1.0000\n",
      "Epoch 358/1000\n",
      "64/64 [==============================] - 0s 1ms/sample - loss: 0.3678 - inflan_loss: 0.2215 - nephr_loss: 0.2119 - inflan_ACCinflan: 1.0000 - nephr_ACCnephr: 1.0000 - val_loss: 0.3918 - val_inflan_loss: 0.2262 - val_nephr_loss: 0.2342 - val_inflan_ACCinflan: 1.0000 - val_nephr_ACCnephr: 1.0000\n",
      "Epoch 359/1000\n",
      "64/64 [==============================] - 0s 1ms/sample - loss: 0.3670 - inflan_loss: 0.2211 - nephr_loss: 0.2113 - inflan_ACCinflan: 1.0000 - nephr_ACCnephr: 1.0000 - val_loss: 0.3911 - val_inflan_loss: 0.2258 - val_nephr_loss: 0.2338 - val_inflan_ACCinflan: 1.0000 - val_nephr_ACCnephr: 1.0000\n",
      "Epoch 360/1000\n",
      "64/64 [==============================] - 0s 188us/sample - loss: 0.3661 - inflan_loss: 0.2207 - nephr_loss: 0.2107 - inflan_ACCinflan: 1.0000 - nephr_ACCnephr: 1.0000 - val_loss: 0.3905 - val_inflan_loss: 0.2255 - val_nephr_loss: 0.2334 - val_inflan_ACCinflan: 1.0000 - val_nephr_ACCnephr: 1.0000\n",
      "Epoch 361/1000\n",
      "64/64 [==============================] - 0s 1ms/sample - loss: 0.3653 - inflan_loss: 0.2203 - nephr_loss: 0.2101 - inflan_ACCinflan: 1.0000 - nephr_ACCnephr: 1.0000 - val_loss: 0.3898 - val_inflan_loss: 0.2251 - val_nephr_loss: 0.2330 - val_inflan_ACCinflan: 1.0000 - val_nephr_ACCnephr: 1.0000\n",
      "Epoch 362/1000\n",
      "64/64 [==============================] - 0s 1ms/sample - loss: 0.3645 - inflan_loss: 0.2199 - nephr_loss: 0.2095 - inflan_ACCinflan: 1.0000 - nephr_ACCnephr: 1.0000 - val_loss: 0.3892 - val_inflan_loss: 0.2248 - val_nephr_loss: 0.2326 - val_inflan_ACCinflan: 1.0000 - val_nephr_ACCnephr: 1.0000\n",
      "Epoch 363/1000\n",
      "64/64 [==============================] - 0s 184us/sample - loss: 0.3636 - inflan_loss: 0.2195 - nephr_loss: 0.2089 - inflan_ACCinflan: 1.0000 - nephr_ACCnephr: 1.0000 - val_loss: 0.3885 - val_inflan_loss: 0.2244 - val_nephr_loss: 0.2322 - val_inflan_ACCinflan: 1.0000 - val_nephr_ACCnephr: 1.0000\n",
      "Epoch 364/1000\n",
      "64/64 [==============================] - 0s 1ms/sample - loss: 0.3628 - inflan_loss: 0.2191 - nephr_loss: 0.2084 - inflan_ACCinflan: 1.0000 - nephr_ACCnephr: 1.0000 - val_loss: 0.3879 - val_inflan_loss: 0.2241 - val_nephr_loss: 0.2318 - val_inflan_ACCinflan: 1.0000 - val_nephr_ACCnephr: 1.0000\n",
      "Epoch 365/1000\n",
      "64/64 [==============================] - 0s 1ms/sample - loss: 0.3620 - inflan_loss: 0.2187 - nephr_loss: 0.2078 - inflan_ACCinflan: 1.0000 - nephr_ACCnephr: 1.0000 - val_loss: 0.3873 - val_inflan_loss: 0.2237 - val_nephr_loss: 0.2314 - val_inflan_ACCinflan: 1.0000 - val_nephr_ACCnephr: 1.0000\n",
      "Epoch 366/1000\n",
      "64/64 [==============================] - 0s 193us/sample - loss: 0.3611 - inflan_loss: 0.2183 - nephr_loss: 0.2072 - inflan_ACCinflan: 1.0000 - nephr_ACCnephr: 1.0000 - val_loss: 0.3866 - val_inflan_loss: 0.2234 - val_nephr_loss: 0.2310 - val_inflan_ACCinflan: 1.0000 - val_nephr_ACCnephr: 1.0000\n",
      "Epoch 367/1000\n",
      "64/64 [==============================] - 0s 1ms/sample - loss: 0.3603 - inflan_loss: 0.2179 - nephr_loss: 0.2067 - inflan_ACCinflan: 1.0000 - nephr_ACCnephr: 1.0000 - val_loss: 0.3860 - val_inflan_loss: 0.2230 - val_nephr_loss: 0.2306 - val_inflan_ACCinflan: 1.0000 - val_nephr_ACCnephr: 1.0000\n",
      "Epoch 368/1000\n",
      "64/64 [==============================] - 0s 1ms/sample - loss: 0.3595 - inflan_loss: 0.2175 - nephr_loss: 0.2061 - inflan_ACCinflan: 1.0000 - nephr_ACCnephr: 1.0000 - val_loss: 0.3854 - val_inflan_loss: 0.2227 - val_nephr_loss: 0.2302 - val_inflan_ACCinflan: 1.0000 - val_nephr_ACCnephr: 1.0000\n",
      "Epoch 369/1000\n",
      "64/64 [==============================] - 0s 197us/sample - loss: 0.3587 - inflan_loss: 0.2171 - nephr_loss: 0.2055 - inflan_ACCinflan: 1.0000 - nephr_ACCnephr: 1.0000 - val_loss: 0.3847 - val_inflan_loss: 0.2224 - val_nephr_loss: 0.2298 - val_inflan_ACCinflan: 1.0000 - val_nephr_ACCnephr: 1.0000\n",
      "Epoch 370/1000\n",
      "64/64 [==============================] - 0s 1ms/sample - loss: 0.3579 - inflan_loss: 0.2167 - nephr_loss: 0.2050 - inflan_ACCinflan: 1.0000 - nephr_ACCnephr: 1.0000 - val_loss: 0.3841 - val_inflan_loss: 0.2220 - val_nephr_loss: 0.2294 - val_inflan_ACCinflan: 1.0000 - val_nephr_ACCnephr: 1.0000\n",
      "Epoch 371/1000\n",
      "64/64 [==============================] - 0s 1ms/sample - loss: 0.3571 - inflan_loss: 0.2163 - nephr_loss: 0.2044 - inflan_ACCinflan: 1.0000 - nephr_ACCnephr: 1.0000 - val_loss: 0.3835 - val_inflan_loss: 0.2217 - val_nephr_loss: 0.2290 - val_inflan_ACCinflan: 1.0000 - val_nephr_ACCnephr: 1.0000\n",
      "Epoch 372/1000\n",
      "64/64 [==============================] - 0s 194us/sample - loss: 0.3563 - inflan_loss: 0.2160 - nephr_loss: 0.2039 - inflan_ACCinflan: 1.0000 - nephr_ACCnephr: 1.0000 - val_loss: 0.3828 - val_inflan_loss: 0.2213 - val_nephr_loss: 0.2286 - val_inflan_ACCinflan: 1.0000 - val_nephr_ACCnephr: 1.0000\n",
      "Epoch 373/1000\n",
      "64/64 [==============================] - 0s 1ms/sample - loss: 0.3555 - inflan_loss: 0.2156 - nephr_loss: 0.2033 - inflan_ACCinflan: 1.0000 - nephr_ACCnephr: 1.0000 - val_loss: 0.3822 - val_inflan_loss: 0.2210 - val_nephr_loss: 0.2282 - val_inflan_ACCinflan: 1.0000 - val_nephr_ACCnephr: 1.0000\n",
      "Epoch 374/1000\n",
      "64/64 [==============================] - 0s 2ms/sample - loss: 0.3547 - inflan_loss: 0.2152 - nephr_loss: 0.2028 - inflan_ACCinflan: 1.0000 - nephr_ACCnephr: 1.0000 - val_loss: 0.3816 - val_inflan_loss: 0.2207 - val_nephr_loss: 0.2278 - val_inflan_ACCinflan: 1.0000 - val_nephr_ACCnephr: 1.0000\n",
      "Epoch 375/1000\n",
      "64/64 [==============================] - 0s 192us/sample - loss: 0.3539 - inflan_loss: 0.2148 - nephr_loss: 0.2022 - inflan_ACCinflan: 1.0000 - nephr_ACCnephr: 1.0000 - val_loss: 0.3810 - val_inflan_loss: 0.2203 - val_nephr_loss: 0.2275 - val_inflan_ACCinflan: 1.0000 - val_nephr_ACCnephr: 1.0000\n",
      "Epoch 376/1000\n",
      "64/64 [==============================] - 0s 1ms/sample - loss: 0.3531 - inflan_loss: 0.2144 - nephr_loss: 0.2017 - inflan_ACCinflan: 1.0000 - nephr_ACCnephr: 1.0000 - val_loss: 0.3803 - val_inflan_loss: 0.2200 - val_nephr_loss: 0.2271 - val_inflan_ACCinflan: 1.0000 - val_nephr_ACCnephr: 1.0000\n",
      "Epoch 377/1000\n",
      "64/64 [==============================] - 0s 2ms/sample - loss: 0.3523 - inflan_loss: 0.2141 - nephr_loss: 0.2012 - inflan_ACCinflan: 1.0000 - nephr_ACCnephr: 1.0000 - val_loss: 0.3797 - val_inflan_loss: 0.2196 - val_nephr_loss: 0.2267 - val_inflan_ACCinflan: 1.0000 - val_nephr_ACCnephr: 1.0000\n"
     ]
    },
    {
     "name": "stdout",
     "output_type": "stream",
     "text": [
      "Epoch 378/1000\n",
      "64/64 [==============================] - 0s 1ms/sample - loss: 0.3515 - inflan_loss: 0.2137 - nephr_loss: 0.2006 - inflan_ACCinflan: 1.0000 - nephr_ACCnephr: 1.0000 - val_loss: 0.3791 - val_inflan_loss: 0.2193 - val_nephr_loss: 0.2263 - val_inflan_ACCinflan: 1.0000 - val_nephr_ACCnephr: 1.0000\n",
      "Epoch 379/1000\n",
      "64/64 [==============================] - 0s 195us/sample - loss: 0.3507 - inflan_loss: 0.2133 - nephr_loss: 0.2001 - inflan_ACCinflan: 1.0000 - nephr_ACCnephr: 1.0000 - val_loss: 0.3785 - val_inflan_loss: 0.2190 - val_nephr_loss: 0.2259 - val_inflan_ACCinflan: 1.0000 - val_nephr_ACCnephr: 1.0000\n",
      "Epoch 380/1000\n",
      "64/64 [==============================] - 0s 1ms/sample - loss: 0.3500 - inflan_loss: 0.2129 - nephr_loss: 0.1996 - inflan_ACCinflan: 1.0000 - nephr_ACCnephr: 1.0000 - val_loss: 0.3779 - val_inflan_loss: 0.2186 - val_nephr_loss: 0.2255 - val_inflan_ACCinflan: 1.0000 - val_nephr_ACCnephr: 1.0000\n",
      "Epoch 381/1000\n",
      "64/64 [==============================] - 0s 1ms/sample - loss: 0.3492 - inflan_loss: 0.2126 - nephr_loss: 0.1990 - inflan_ACCinflan: 1.0000 - nephr_ACCnephr: 1.0000 - val_loss: 0.3773 - val_inflan_loss: 0.2183 - val_nephr_loss: 0.2251 - val_inflan_ACCinflan: 1.0000 - val_nephr_ACCnephr: 1.0000\n",
      "Epoch 382/1000\n",
      "64/64 [==============================] - 0s 197us/sample - loss: 0.3484 - inflan_loss: 0.2122 - nephr_loss: 0.1985 - inflan_ACCinflan: 1.0000 - nephr_ACCnephr: 1.0000 - val_loss: 0.3767 - val_inflan_loss: 0.2180 - val_nephr_loss: 0.2248 - val_inflan_ACCinflan: 1.0000 - val_nephr_ACCnephr: 1.0000\n",
      "Epoch 383/1000\n",
      "64/64 [==============================] - 0s 1ms/sample - loss: 0.3476 - inflan_loss: 0.2118 - nephr_loss: 0.1980 - inflan_ACCinflan: 1.0000 - nephr_ACCnephr: 1.0000 - val_loss: 0.3760 - val_inflan_loss: 0.2176 - val_nephr_loss: 0.2244 - val_inflan_ACCinflan: 1.0000 - val_nephr_ACCnephr: 1.0000\n",
      "Epoch 384/1000\n",
      "64/64 [==============================] - 0s 185us/sample - loss: 0.3469 - inflan_loss: 0.2115 - nephr_loss: 0.1975 - inflan_ACCinflan: 1.0000 - nephr_ACCnephr: 1.0000 - val_loss: 0.3754 - val_inflan_loss: 0.2173 - val_nephr_loss: 0.2240 - val_inflan_ACCinflan: 1.0000 - val_nephr_ACCnephr: 1.0000\n",
      "Epoch 385/1000\n",
      "64/64 [==============================] - 0s 190us/sample - loss: 0.3461 - inflan_loss: 0.2111 - nephr_loss: 0.1969 - inflan_ACCinflan: 1.0000 - nephr_ACCnephr: 1.0000 - val_loss: 0.3748 - val_inflan_loss: 0.2170 - val_nephr_loss: 0.2236 - val_inflan_ACCinflan: 1.0000 - val_nephr_ACCnephr: 1.0000\n",
      "Epoch 386/1000\n",
      "64/64 [==============================] - 0s 2ms/sample - loss: 0.3454 - inflan_loss: 0.2107 - nephr_loss: 0.1964 - inflan_ACCinflan: 1.0000 - nephr_ACCnephr: 1.0000 - val_loss: 0.3742 - val_inflan_loss: 0.2166 - val_nephr_loss: 0.2232 - val_inflan_ACCinflan: 1.0000 - val_nephr_ACCnephr: 1.0000\n",
      "Epoch 387/1000\n",
      "64/64 [==============================] - 0s 1ms/sample - loss: 0.3446 - inflan_loss: 0.2104 - nephr_loss: 0.1959 - inflan_ACCinflan: 1.0000 - nephr_ACCnephr: 1.0000 - val_loss: 0.3736 - val_inflan_loss: 0.2163 - val_nephr_loss: 0.2229 - val_inflan_ACCinflan: 1.0000 - val_nephr_ACCnephr: 1.0000\n",
      "Epoch 388/1000\n",
      "64/64 [==============================] - 0s 186us/sample - loss: 0.3439 - inflan_loss: 0.2100 - nephr_loss: 0.1954 - inflan_ACCinflan: 1.0000 - nephr_ACCnephr: 1.0000 - val_loss: 0.3730 - val_inflan_loss: 0.2160 - val_nephr_loss: 0.2225 - val_inflan_ACCinflan: 1.0000 - val_nephr_ACCnephr: 1.0000\n",
      "Epoch 389/1000\n",
      "64/64 [==============================] - 0s 1ms/sample - loss: 0.3431 - inflan_loss: 0.2096 - nephr_loss: 0.1949 - inflan_ACCinflan: 1.0000 - nephr_ACCnephr: 1.0000 - val_loss: 0.3724 - val_inflan_loss: 0.2157 - val_nephr_loss: 0.2221 - val_inflan_ACCinflan: 1.0000 - val_nephr_ACCnephr: 1.0000\n",
      "Epoch 390/1000\n",
      "64/64 [==============================] - 0s 1ms/sample - loss: 0.3424 - inflan_loss: 0.2093 - nephr_loss: 0.1944 - inflan_ACCinflan: 1.0000 - nephr_ACCnephr: 1.0000 - val_loss: 0.3718 - val_inflan_loss: 0.2153 - val_nephr_loss: 0.2217 - val_inflan_ACCinflan: 1.0000 - val_nephr_ACCnephr: 1.0000\n",
      "Epoch 391/1000\n",
      "64/64 [==============================] - 0s 193us/sample - loss: 0.3416 - inflan_loss: 0.2089 - nephr_loss: 0.1939 - inflan_ACCinflan: 1.0000 - nephr_ACCnephr: 1.0000 - val_loss: 0.3712 - val_inflan_loss: 0.2150 - val_nephr_loss: 0.2214 - val_inflan_ACCinflan: 1.0000 - val_nephr_ACCnephr: 1.0000\n",
      "Epoch 392/1000\n",
      "64/64 [==============================] - 0s 1ms/sample - loss: 0.3409 - inflan_loss: 0.2085 - nephr_loss: 0.1934 - inflan_ACCinflan: 1.0000 - nephr_ACCnephr: 1.0000 - val_loss: 0.3706 - val_inflan_loss: 0.2147 - val_nephr_loss: 0.2210 - val_inflan_ACCinflan: 1.0000 - val_nephr_ACCnephr: 1.0000\n",
      "Epoch 393/1000\n",
      "64/64 [==============================] - 0s 1ms/sample - loss: 0.3402 - inflan_loss: 0.2082 - nephr_loss: 0.1929 - inflan_ACCinflan: 1.0000 - nephr_ACCnephr: 1.0000 - val_loss: 0.3700 - val_inflan_loss: 0.2144 - val_nephr_loss: 0.2206 - val_inflan_ACCinflan: 1.0000 - val_nephr_ACCnephr: 1.0000\n",
      "Epoch 394/1000\n",
      "64/64 [==============================] - 0s 195us/sample - loss: 0.3394 - inflan_loss: 0.2078 - nephr_loss: 0.1924 - inflan_ACCinflan: 1.0000 - nephr_ACCnephr: 1.0000 - val_loss: 0.3694 - val_inflan_loss: 0.2140 - val_nephr_loss: 0.2202 - val_inflan_ACCinflan: 1.0000 - val_nephr_ACCnephr: 1.0000\n",
      "Epoch 395/1000\n",
      "64/64 [==============================] - 0s 1ms/sample - loss: 0.3387 - inflan_loss: 0.2075 - nephr_loss: 0.1919 - inflan_ACCinflan: 1.0000 - nephr_ACCnephr: 1.0000 - val_loss: 0.3688 - val_inflan_loss: 0.2137 - val_nephr_loss: 0.2199 - val_inflan_ACCinflan: 1.0000 - val_nephr_ACCnephr: 1.0000\n",
      "Epoch 396/1000\n",
      "64/64 [==============================] - 0s 1ms/sample - loss: 0.3380 - inflan_loss: 0.2071 - nephr_loss: 0.1914 - inflan_ACCinflan: 1.0000 - nephr_ACCnephr: 1.0000 - val_loss: 0.3683 - val_inflan_loss: 0.2134 - val_nephr_loss: 0.2195 - val_inflan_ACCinflan: 1.0000 - val_nephr_ACCnephr: 1.0000\n",
      "Epoch 397/1000\n",
      "64/64 [==============================] - 0s 191us/sample - loss: 0.3373 - inflan_loss: 0.2068 - nephr_loss: 0.1909 - inflan_ACCinflan: 1.0000 - nephr_ACCnephr: 1.0000 - val_loss: 0.3677 - val_inflan_loss: 0.2131 - val_nephr_loss: 0.2191 - val_inflan_ACCinflan: 1.0000 - val_nephr_ACCnephr: 1.0000\n",
      "Epoch 398/1000\n",
      "64/64 [==============================] - 0s 1ms/sample - loss: 0.3365 - inflan_loss: 0.2064 - nephr_loss: 0.1905 - inflan_ACCinflan: 1.0000 - nephr_ACCnephr: 1.0000 - val_loss: 0.3671 - val_inflan_loss: 0.2127 - val_nephr_loss: 0.2188 - val_inflan_ACCinflan: 1.0000 - val_nephr_ACCnephr: 1.0000\n",
      "Epoch 399/1000\n",
      "64/64 [==============================] - 0s 1ms/sample - loss: 0.3358 - inflan_loss: 0.2061 - nephr_loss: 0.1900 - inflan_ACCinflan: 1.0000 - nephr_ACCnephr: 1.0000 - val_loss: 0.3665 - val_inflan_loss: 0.2124 - val_nephr_loss: 0.2184 - val_inflan_ACCinflan: 1.0000 - val_nephr_ACCnephr: 1.0000\n",
      "Epoch 400/1000\n",
      "64/64 [==============================] - 0s 196us/sample - loss: 0.3351 - inflan_loss: 0.2057 - nephr_loss: 0.1895 - inflan_ACCinflan: 1.0000 - nephr_ACCnephr: 1.0000 - val_loss: 0.3659 - val_inflan_loss: 0.2121 - val_nephr_loss: 0.2180 - val_inflan_ACCinflan: 1.0000 - val_nephr_ACCnephr: 1.0000\n",
      "Epoch 401/1000\n",
      "64/64 [==============================] - 0s 1ms/sample - loss: 0.3344 - inflan_loss: 0.2054 - nephr_loss: 0.1890 - inflan_ACCinflan: 1.0000 - nephr_ACCnephr: 1.0000 - val_loss: 0.3653 - val_inflan_loss: 0.2118 - val_nephr_loss: 0.2177 - val_inflan_ACCinflan: 1.0000 - val_nephr_ACCnephr: 1.0000\n",
      "Epoch 402/1000\n",
      "64/64 [==============================] - 0s 1ms/sample - loss: 0.3337 - inflan_loss: 0.2050 - nephr_loss: 0.1885 - inflan_ACCinflan: 1.0000 - nephr_ACCnephr: 1.0000 - val_loss: 0.3647 - val_inflan_loss: 0.2115 - val_nephr_loss: 0.2173 - val_inflan_ACCinflan: 1.0000 - val_nephr_ACCnephr: 1.0000\n",
      "Epoch 403/1000\n",
      "64/64 [==============================] - 0s 196us/sample - loss: 0.3330 - inflan_loss: 0.2047 - nephr_loss: 0.1881 - inflan_ACCinflan: 1.0000 - nephr_ACCnephr: 1.0000 - val_loss: 0.3642 - val_inflan_loss: 0.2111 - val_nephr_loss: 0.2169 - val_inflan_ACCinflan: 1.0000 - val_nephr_ACCnephr: 1.0000\n",
      "Epoch 404/1000\n",
      "64/64 [==============================] - 0s 2ms/sample - loss: 0.3323 - inflan_loss: 0.2043 - nephr_loss: 0.1876 - inflan_ACCinflan: 1.0000 - nephr_ACCnephr: 1.0000 - val_loss: 0.3636 - val_inflan_loss: 0.2108 - val_nephr_loss: 0.2166 - val_inflan_ACCinflan: 1.0000 - val_nephr_ACCnephr: 1.0000\n"
     ]
    },
    {
     "name": "stdout",
     "output_type": "stream",
     "text": [
      "Epoch 405/1000\n",
      "64/64 [==============================] - 0s 1ms/sample - loss: 0.3316 - inflan_loss: 0.2040 - nephr_loss: 0.1871 - inflan_ACCinflan: 1.0000 - nephr_ACCnephr: 1.0000 - val_loss: 0.3630 - val_inflan_loss: 0.2105 - val_nephr_loss: 0.2162 - val_inflan_ACCinflan: 1.0000 - val_nephr_ACCnephr: 1.0000\n",
      "Epoch 406/1000\n",
      "64/64 [==============================] - 0s 194us/sample - loss: 0.3309 - inflan_loss: 0.2036 - nephr_loss: 0.1866 - inflan_ACCinflan: 1.0000 - nephr_ACCnephr: 1.0000 - val_loss: 0.3624 - val_inflan_loss: 0.2102 - val_nephr_loss: 0.2159 - val_inflan_ACCinflan: 1.0000 - val_nephr_ACCnephr: 1.0000\n",
      "Epoch 407/1000\n",
      "64/64 [==============================] - 0s 1ms/sample - loss: 0.3302 - inflan_loss: 0.2033 - nephr_loss: 0.1862 - inflan_ACCinflan: 1.0000 - nephr_ACCnephr: 1.0000 - val_loss: 0.3619 - val_inflan_loss: 0.2099 - val_nephr_loss: 0.2155 - val_inflan_ACCinflan: 1.0000 - val_nephr_ACCnephr: 1.0000\n",
      "Epoch 408/1000\n",
      "64/64 [==============================] - 0s 1ms/sample - loss: 0.3295 - inflan_loss: 0.2029 - nephr_loss: 0.1857 - inflan_ACCinflan: 1.0000 - nephr_ACCnephr: 1.0000 - val_loss: 0.3613 - val_inflan_loss: 0.2096 - val_nephr_loss: 0.2152 - val_inflan_ACCinflan: 1.0000 - val_nephr_ACCnephr: 1.0000\n",
      "Epoch 409/1000\n",
      "64/64 [==============================] - 0s 197us/sample - loss: 0.3288 - inflan_loss: 0.2026 - nephr_loss: 0.1853 - inflan_ACCinflan: 1.0000 - nephr_ACCnephr: 1.0000 - val_loss: 0.3607 - val_inflan_loss: 0.2092 - val_nephr_loss: 0.2148 - val_inflan_ACCinflan: 1.0000 - val_nephr_ACCnephr: 1.0000\n",
      "Epoch 410/1000\n",
      "64/64 [==============================] - 0s 1ms/sample - loss: 0.3281 - inflan_loss: 0.2023 - nephr_loss: 0.1848 - inflan_ACCinflan: 1.0000 - nephr_ACCnephr: 1.0000 - val_loss: 0.3601 - val_inflan_loss: 0.2089 - val_nephr_loss: 0.2144 - val_inflan_ACCinflan: 1.0000 - val_nephr_ACCnephr: 1.0000\n",
      "Epoch 411/1000\n",
      "64/64 [==============================] - 0s 1ms/sample - loss: 0.3274 - inflan_loss: 0.2019 - nephr_loss: 0.1843 - inflan_ACCinflan: 1.0000 - nephr_ACCnephr: 1.0000 - val_loss: 0.3596 - val_inflan_loss: 0.2086 - val_nephr_loss: 0.2141 - val_inflan_ACCinflan: 1.0000 - val_nephr_ACCnephr: 1.0000\n",
      "Epoch 412/1000\n",
      "64/64 [==============================] - 0s 193us/sample - loss: 0.3267 - inflan_loss: 0.2016 - nephr_loss: 0.1839 - inflan_ACCinflan: 1.0000 - nephr_ACCnephr: 1.0000 - val_loss: 0.3590 - val_inflan_loss: 0.2083 - val_nephr_loss: 0.2137 - val_inflan_ACCinflan: 1.0000 - val_nephr_ACCnephr: 1.0000\n",
      "Epoch 413/1000\n",
      "64/64 [==============================] - 0s 1ms/sample - loss: 0.3261 - inflan_loss: 0.2012 - nephr_loss: 0.1834 - inflan_ACCinflan: 1.0000 - nephr_ACCnephr: 1.0000 - val_loss: 0.3584 - val_inflan_loss: 0.2080 - val_nephr_loss: 0.2134 - val_inflan_ACCinflan: 1.0000 - val_nephr_ACCnephr: 1.0000\n",
      "Epoch 414/1000\n",
      "64/64 [==============================] - 0s 1ms/sample - loss: 0.3254 - inflan_loss: 0.2009 - nephr_loss: 0.1830 - inflan_ACCinflan: 1.0000 - nephr_ACCnephr: 1.0000 - val_loss: 0.3579 - val_inflan_loss: 0.2077 - val_nephr_loss: 0.2130 - val_inflan_ACCinflan: 1.0000 - val_nephr_ACCnephr: 1.0000\n",
      "Epoch 415/1000\n",
      "64/64 [==============================] - 0s 192us/sample - loss: 0.3247 - inflan_loss: 0.2006 - nephr_loss: 0.1825 - inflan_ACCinflan: 1.0000 - nephr_ACCnephr: 1.0000 - val_loss: 0.3573 - val_inflan_loss: 0.2074 - val_nephr_loss: 0.2127 - val_inflan_ACCinflan: 1.0000 - val_nephr_ACCnephr: 1.0000\n",
      "Epoch 416/1000\n",
      "64/64 [==============================] - 0s 192us/sample - loss: 0.3241 - inflan_loss: 0.2002 - nephr_loss: 0.1821 - inflan_ACCinflan: 1.0000 - nephr_ACCnephr: 1.0000 - val_loss: 0.3568 - val_inflan_loss: 0.2071 - val_nephr_loss: 0.2123 - val_inflan_ACCinflan: 1.0000 - val_nephr_ACCnephr: 1.0000\n",
      "Epoch 417/1000\n",
      "64/64 [==============================] - 0s 1ms/sample - loss: 0.3234 - inflan_loss: 0.1999 - nephr_loss: 0.1816 - inflan_ACCinflan: 1.0000 - nephr_ACCnephr: 1.0000 - val_loss: 0.3562 - val_inflan_loss: 0.2068 - val_nephr_loss: 0.2120 - val_inflan_ACCinflan: 1.0000 - val_nephr_ACCnephr: 1.0000\n",
      "Epoch 418/1000\n",
      "64/64 [==============================] - 0s 189us/sample - loss: 0.3227 - inflan_loss: 0.1996 - nephr_loss: 0.1812 - inflan_ACCinflan: 1.0000 - nephr_ACCnephr: 1.0000 - val_loss: 0.3556 - val_inflan_loss: 0.2065 - val_nephr_loss: 0.2116 - val_inflan_ACCinflan: 1.0000 - val_nephr_ACCnephr: 1.0000\n",
      "Epoch 419/1000\n",
      "64/64 [==============================] - 0s 1ms/sample - loss: 0.3221 - inflan_loss: 0.1992 - nephr_loss: 0.1807 - inflan_ACCinflan: 1.0000 - nephr_ACCnephr: 1.0000 - val_loss: 0.3551 - val_inflan_loss: 0.2061 - val_nephr_loss: 0.2113 - val_inflan_ACCinflan: 1.0000 - val_nephr_ACCnephr: 1.0000\n",
      "Epoch 420/1000\n",
      "64/64 [==============================] - 0s 1ms/sample - loss: 0.3214 - inflan_loss: 0.1989 - nephr_loss: 0.1803 - inflan_ACCinflan: 1.0000 - nephr_ACCnephr: 1.0000 - val_loss: 0.3545 - val_inflan_loss: 0.2058 - val_nephr_loss: 0.2109 - val_inflan_ACCinflan: 1.0000 - val_nephr_ACCnephr: 1.0000\n",
      "Epoch 421/1000\n",
      "64/64 [==============================] - 0s 197us/sample - loss: 0.3207 - inflan_loss: 0.1986 - nephr_loss: 0.1799 - inflan_ACCinflan: 1.0000 - nephr_ACCnephr: 1.0000 - val_loss: 0.3540 - val_inflan_loss: 0.2055 - val_nephr_loss: 0.2106 - val_inflan_ACCinflan: 1.0000 - val_nephr_ACCnephr: 1.0000\n",
      "Epoch 422/1000\n",
      "64/64 [==============================] - 0s 1ms/sample - loss: 0.3201 - inflan_loss: 0.1982 - nephr_loss: 0.1794 - inflan_ACCinflan: 1.0000 - nephr_ACCnephr: 1.0000 - val_loss: 0.3534 - val_inflan_loss: 0.2052 - val_nephr_loss: 0.2103 - val_inflan_ACCinflan: 1.0000 - val_nephr_ACCnephr: 1.0000\n",
      "Epoch 423/1000\n",
      "64/64 [==============================] - 0s 2ms/sample - loss: 0.3194 - inflan_loss: 0.1979 - nephr_loss: 0.1790 - inflan_ACCinflan: 1.0000 - nephr_ACCnephr: 1.0000 - val_loss: 0.3529 - val_inflan_loss: 0.2049 - val_nephr_loss: 0.2099 - val_inflan_ACCinflan: 1.0000 - val_nephr_ACCnephr: 1.0000\n",
      "Epoch 424/1000\n",
      "64/64 [==============================] - 0s 194us/sample - loss: 0.3188 - inflan_loss: 0.1976 - nephr_loss: 0.1786 - inflan_ACCinflan: 1.0000 - nephr_ACCnephr: 1.0000 - val_loss: 0.3523 - val_inflan_loss: 0.2046 - val_nephr_loss: 0.2096 - val_inflan_ACCinflan: 1.0000 - val_nephr_ACCnephr: 1.0000\n",
      "Epoch 425/1000\n",
      "64/64 [==============================] - 0s 1ms/sample - loss: 0.3181 - inflan_loss: 0.1973 - nephr_loss: 0.1781 - inflan_ACCinflan: 1.0000 - nephr_ACCnephr: 1.0000 - val_loss: 0.3518 - val_inflan_loss: 0.2043 - val_nephr_loss: 0.2092 - val_inflan_ACCinflan: 1.0000 - val_nephr_ACCnephr: 1.0000\n",
      "Epoch 426/1000\n",
      "64/64 [==============================] - 0s 2ms/sample - loss: 0.3175 - inflan_loss: 0.1969 - nephr_loss: 0.1777 - inflan_ACCinflan: 1.0000 - nephr_ACCnephr: 1.0000 - val_loss: 0.3512 - val_inflan_loss: 0.2040 - val_nephr_loss: 0.2089 - val_inflan_ACCinflan: 1.0000 - val_nephr_ACCnephr: 1.0000\n",
      "Epoch 427/1000\n",
      "64/64 [==============================] - 0s 195us/sample - loss: 0.3168 - inflan_loss: 0.1966 - nephr_loss: 0.1773 - inflan_ACCinflan: 1.0000 - nephr_ACCnephr: 1.0000 - val_loss: 0.3507 - val_inflan_loss: 0.2037 - val_nephr_loss: 0.2085 - val_inflan_ACCinflan: 1.0000 - val_nephr_ACCnephr: 1.0000\n",
      "Epoch 428/1000\n",
      "64/64 [==============================] - 0s 1ms/sample - loss: 0.3162 - inflan_loss: 0.1963 - nephr_loss: 0.1769 - inflan_ACCinflan: 1.0000 - nephr_ACCnephr: 1.0000 - val_loss: 0.3501 - val_inflan_loss: 0.2034 - val_nephr_loss: 0.2082 - val_inflan_ACCinflan: 1.0000 - val_nephr_ACCnephr: 1.0000\n",
      "Epoch 429/1000\n",
      "64/64 [==============================] - 0s 2ms/sample - loss: 0.3156 - inflan_loss: 0.1960 - nephr_loss: 0.1764 - inflan_ACCinflan: 1.0000 - nephr_ACCnephr: 1.0000 - val_loss: 0.3496 - val_inflan_loss: 0.2031 - val_nephr_loss: 0.2079 - val_inflan_ACCinflan: 1.0000 - val_nephr_ACCnephr: 1.0000\n",
      "Epoch 430/1000\n",
      "64/64 [==============================] - 0s 195us/sample - loss: 0.3149 - inflan_loss: 0.1956 - nephr_loss: 0.1760 - inflan_ACCinflan: 1.0000 - nephr_ACCnephr: 1.0000 - val_loss: 0.3490 - val_inflan_loss: 0.2028 - val_nephr_loss: 0.2075 - val_inflan_ACCinflan: 1.0000 - val_nephr_ACCnephr: 1.0000\n",
      "Epoch 431/1000\n",
      "64/64 [==============================] - 0s 187us/sample - loss: 0.3143 - inflan_loss: 0.1953 - nephr_loss: 0.1756 - inflan_ACCinflan: 1.0000 - nephr_ACCnephr: 1.0000 - val_loss: 0.3485 - val_inflan_loss: 0.2025 - val_nephr_loss: 0.2072 - val_inflan_ACCinflan: 1.0000 - val_nephr_ACCnephr: 1.0000\n"
     ]
    },
    {
     "name": "stdout",
     "output_type": "stream",
     "text": [
      "Epoch 432/1000\n",
      "64/64 [==============================] - 0s 2ms/sample - loss: 0.3137 - inflan_loss: 0.1950 - nephr_loss: 0.1752 - inflan_ACCinflan: 1.0000 - nephr_ACCnephr: 1.0000 - val_loss: 0.3479 - val_inflan_loss: 0.2022 - val_nephr_loss: 0.2069 - val_inflan_ACCinflan: 1.0000 - val_nephr_ACCnephr: 1.0000\n",
      "Epoch 433/1000\n",
      "64/64 [==============================] - 0s 1ms/sample - loss: 0.3130 - inflan_loss: 0.1947 - nephr_loss: 0.1748 - inflan_ACCinflan: 1.0000 - nephr_ACCnephr: 1.0000 - val_loss: 0.3474 - val_inflan_loss: 0.2019 - val_nephr_loss: 0.2065 - val_inflan_ACCinflan: 1.0000 - val_nephr_ACCnephr: 1.0000\n",
      "Epoch 434/1000\n",
      "64/64 [==============================] - 0s 194us/sample - loss: 0.3124 - inflan_loss: 0.1944 - nephr_loss: 0.1744 - inflan_ACCinflan: 1.0000 - nephr_ACCnephr: 1.0000 - val_loss: 0.3469 - val_inflan_loss: 0.2016 - val_nephr_loss: 0.2062 - val_inflan_ACCinflan: 1.0000 - val_nephr_ACCnephr: 1.0000\n",
      "Epoch 435/1000\n",
      "64/64 [==============================] - 0s 1ms/sample - loss: 0.3118 - inflan_loss: 0.1940 - nephr_loss: 0.1739 - inflan_ACCinflan: 1.0000 - nephr_ACCnephr: 1.0000 - val_loss: 0.3463 - val_inflan_loss: 0.2013 - val_nephr_loss: 0.2059 - val_inflan_ACCinflan: 1.0000 - val_nephr_ACCnephr: 1.0000\n",
      "Epoch 436/1000\n",
      "64/64 [==============================] - 0s 1ms/sample - loss: 0.3112 - inflan_loss: 0.1937 - nephr_loss: 0.1735 - inflan_ACCinflan: 1.0000 - nephr_ACCnephr: 1.0000 - val_loss: 0.3458 - val_inflan_loss: 0.2010 - val_nephr_loss: 0.2055 - val_inflan_ACCinflan: 1.0000 - val_nephr_ACCnephr: 1.0000\n",
      "Epoch 437/1000\n",
      "64/64 [==============================] - 0s 192us/sample - loss: 0.3105 - inflan_loss: 0.1934 - nephr_loss: 0.1731 - inflan_ACCinflan: 1.0000 - nephr_ACCnephr: 1.0000 - val_loss: 0.3453 - val_inflan_loss: 0.2007 - val_nephr_loss: 0.2052 - val_inflan_ACCinflan: 1.0000 - val_nephr_ACCnephr: 1.0000\n",
      "Epoch 438/1000\n",
      "64/64 [==============================] - 0s 1ms/sample - loss: 0.3099 - inflan_loss: 0.1931 - nephr_loss: 0.1727 - inflan_ACCinflan: 1.0000 - nephr_ACCnephr: 1.0000 - val_loss: 0.3447 - val_inflan_loss: 0.2004 - val_nephr_loss: 0.2049 - val_inflan_ACCinflan: 1.0000 - val_nephr_ACCnephr: 1.0000\n",
      "Epoch 439/1000\n",
      "64/64 [==============================] - 0s 1ms/sample - loss: 0.3093 - inflan_loss: 0.1928 - nephr_loss: 0.1723 - inflan_ACCinflan: 1.0000 - nephr_ACCnephr: 1.0000 - val_loss: 0.3442 - val_inflan_loss: 0.2001 - val_nephr_loss: 0.2045 - val_inflan_ACCinflan: 1.0000 - val_nephr_ACCnephr: 1.0000\n",
      "Epoch 440/1000\n",
      "64/64 [==============================] - 0s 195us/sample - loss: 0.3087 - inflan_loss: 0.1925 - nephr_loss: 0.1719 - inflan_ACCinflan: 1.0000 - nephr_ACCnephr: 1.0000 - val_loss: 0.3437 - val_inflan_loss: 0.1998 - val_nephr_loss: 0.2042 - val_inflan_ACCinflan: 1.0000 - val_nephr_ACCnephr: 1.0000\n",
      "Epoch 441/1000\n",
      "64/64 [==============================] - 0s 2ms/sample - loss: 0.3081 - inflan_loss: 0.1922 - nephr_loss: 0.1715 - inflan_ACCinflan: 1.0000 - nephr_ACCnephr: 1.0000 - val_loss: 0.3431 - val_inflan_loss: 0.1995 - val_nephr_loss: 0.2039 - val_inflan_ACCinflan: 1.0000 - val_nephr_ACCnephr: 1.0000\n",
      "Epoch 442/1000\n",
      "64/64 [==============================] - 0s 2ms/sample - loss: 0.3075 - inflan_loss: 0.1919 - nephr_loss: 0.1711 - inflan_ACCinflan: 1.0000 - nephr_ACCnephr: 1.0000 - val_loss: 0.3426 - val_inflan_loss: 0.1993 - val_nephr_loss: 0.2035 - val_inflan_ACCinflan: 1.0000 - val_nephr_ACCnephr: 1.0000\n",
      "Epoch 443/1000\n",
      "64/64 [==============================] - 0s 194us/sample - loss: 0.3069 - inflan_loss: 0.1915 - nephr_loss: 0.1707 - inflan_ACCinflan: 1.0000 - nephr_ACCnephr: 1.0000 - val_loss: 0.3421 - val_inflan_loss: 0.1990 - val_nephr_loss: 0.2032 - val_inflan_ACCinflan: 1.0000 - val_nephr_ACCnephr: 1.0000\n",
      "Epoch 444/1000\n",
      "64/64 [==============================] - 0s 1ms/sample - loss: 0.3063 - inflan_loss: 0.1912 - nephr_loss: 0.1703 - inflan_ACCinflan: 1.0000 - nephr_ACCnephr: 1.0000 - val_loss: 0.3415 - val_inflan_loss: 0.1987 - val_nephr_loss: 0.2029 - val_inflan_ACCinflan: 1.0000 - val_nephr_ACCnephr: 1.0000\n",
      "Epoch 445/1000\n",
      "64/64 [==============================] - 0s 2ms/sample - loss: 0.3057 - inflan_loss: 0.1909 - nephr_loss: 0.1699 - inflan_ACCinflan: 1.0000 - nephr_ACCnephr: 1.0000 - val_loss: 0.3410 - val_inflan_loss: 0.1984 - val_nephr_loss: 0.2026 - val_inflan_ACCinflan: 1.0000 - val_nephr_ACCnephr: 1.0000\n",
      "Epoch 446/1000\n",
      "64/64 [==============================] - 0s 188us/sample - loss: 0.3051 - inflan_loss: 0.1906 - nephr_loss: 0.1695 - inflan_ACCinflan: 1.0000 - nephr_ACCnephr: 1.0000 - val_loss: 0.3405 - val_inflan_loss: 0.1981 - val_nephr_loss: 0.2022 - val_inflan_ACCinflan: 1.0000 - val_nephr_ACCnephr: 1.0000\n",
      "Epoch 447/1000\n",
      "64/64 [==============================] - 0s 1ms/sample - loss: 0.3045 - inflan_loss: 0.1903 - nephr_loss: 0.1691 - inflan_ACCinflan: 1.0000 - nephr_ACCnephr: 1.0000 - val_loss: 0.3400 - val_inflan_loss: 0.1978 - val_nephr_loss: 0.2019 - val_inflan_ACCinflan: 1.0000 - val_nephr_ACCnephr: 1.0000\n",
      "Epoch 448/1000\n",
      "64/64 [==============================] - 0s 1ms/sample - loss: 0.3039 - inflan_loss: 0.1900 - nephr_loss: 0.1688 - inflan_ACCinflan: 1.0000 - nephr_ACCnephr: 1.0000 - val_loss: 0.3394 - val_inflan_loss: 0.1975 - val_nephr_loss: 0.2016 - val_inflan_ACCinflan: 1.0000 - val_nephr_ACCnephr: 1.0000\n",
      "Epoch 449/1000\n",
      "64/64 [==============================] - 0s 1ms/sample - loss: 0.3033 - inflan_loss: 0.1897 - nephr_loss: 0.1684 - inflan_ACCinflan: 1.0000 - nephr_ACCnephr: 1.0000 - val_loss: 0.3389 - val_inflan_loss: 0.1972 - val_nephr_loss: 0.2013 - val_inflan_ACCinflan: 1.0000 - val_nephr_ACCnephr: 1.0000\n",
      "Epoch 450/1000\n",
      "64/64 [==============================] - 0s 194us/sample - loss: 0.3027 - inflan_loss: 0.1894 - nephr_loss: 0.1680 - inflan_ACCinflan: 1.0000 - nephr_ACCnephr: 1.0000 - val_loss: 0.3384 - val_inflan_loss: 0.1969 - val_nephr_loss: 0.2010 - val_inflan_ACCinflan: 1.0000 - val_nephr_ACCnephr: 1.0000\n",
      "Epoch 451/1000\n",
      "64/64 [==============================] - 0s 2ms/sample - loss: 0.3021 - inflan_loss: 0.1891 - nephr_loss: 0.1676 - inflan_ACCinflan: 1.0000 - nephr_ACCnephr: 1.0000 - val_loss: 0.3379 - val_inflan_loss: 0.1966 - val_nephr_loss: 0.2006 - val_inflan_ACCinflan: 1.0000 - val_nephr_ACCnephr: 1.0000\n",
      "Epoch 452/1000\n",
      "64/64 [==============================] - 0s 187us/sample - loss: 0.3015 - inflan_loss: 0.1888 - nephr_loss: 0.1672 - inflan_ACCinflan: 1.0000 - nephr_ACCnephr: 1.0000 - val_loss: 0.3374 - val_inflan_loss: 0.1964 - val_nephr_loss: 0.2003 - val_inflan_ACCinflan: 1.0000 - val_nephr_ACCnephr: 1.0000\n",
      "Epoch 453/1000\n",
      "64/64 [==============================] - 0s 1ms/sample - loss: 0.3009 - inflan_loss: 0.1885 - nephr_loss: 0.1668 - inflan_ACCinflan: 1.0000 - nephr_ACCnephr: 1.0000 - val_loss: 0.3369 - val_inflan_loss: 0.1961 - val_nephr_loss: 0.2000 - val_inflan_ACCinflan: 1.0000 - val_nephr_ACCnephr: 1.0000\n",
      "Epoch 454/1000\n",
      "64/64 [==============================] - 0s 2ms/sample - loss: 0.3004 - inflan_loss: 0.1882 - nephr_loss: 0.1664 - inflan_ACCinflan: 1.0000 - nephr_ACCnephr: 1.0000 - val_loss: 0.3363 - val_inflan_loss: 0.1958 - val_nephr_loss: 0.1997 - val_inflan_ACCinflan: 1.0000 - val_nephr_ACCnephr: 1.0000\n",
      "Epoch 455/1000\n",
      "64/64 [==============================] - 0s 1ms/sample - loss: 0.2998 - inflan_loss: 0.1879 - nephr_loss: 0.1661 - inflan_ACCinflan: 1.0000 - nephr_ACCnephr: 1.0000 - val_loss: 0.3358 - val_inflan_loss: 0.1955 - val_nephr_loss: 0.1994 - val_inflan_ACCinflan: 1.0000 - val_nephr_ACCnephr: 1.0000\n",
      "Epoch 456/1000\n",
      "64/64 [==============================] - 0s 190us/sample - loss: 0.2992 - inflan_loss: 0.1876 - nephr_loss: 0.1657 - inflan_ACCinflan: 1.0000 - nephr_ACCnephr: 1.0000 - val_loss: 0.3353 - val_inflan_loss: 0.1952 - val_nephr_loss: 0.1990 - val_inflan_ACCinflan: 1.0000 - val_nephr_ACCnephr: 1.0000\n",
      "Epoch 457/1000\n",
      "64/64 [==============================] - 0s 1ms/sample - loss: 0.2986 - inflan_loss: 0.1873 - nephr_loss: 0.1653 - inflan_ACCinflan: 1.0000 - nephr_ACCnephr: 1.0000 - val_loss: 0.3348 - val_inflan_loss: 0.1949 - val_nephr_loss: 0.1987 - val_inflan_ACCinflan: 1.0000 - val_nephr_ACCnephr: 1.0000\n",
      "Epoch 458/1000\n",
      "64/64 [==============================] - 0s 1ms/sample - loss: 0.2980 - inflan_loss: 0.1870 - nephr_loss: 0.1649 - inflan_ACCinflan: 1.0000 - nephr_ACCnephr: 1.0000 - val_loss: 0.3343 - val_inflan_loss: 0.1946 - val_nephr_loss: 0.1984 - val_inflan_ACCinflan: 1.0000 - val_nephr_ACCnephr: 1.0000\n"
     ]
    },
    {
     "name": "stdout",
     "output_type": "stream",
     "text": [
      "Epoch 459/1000\n",
      "64/64 [==============================] - 0s 194us/sample - loss: 0.2975 - inflan_loss: 0.1867 - nephr_loss: 0.1646 - inflan_ACCinflan: 1.0000 - nephr_ACCnephr: 1.0000 - val_loss: 0.3338 - val_inflan_loss: 0.1944 - val_nephr_loss: 0.1981 - val_inflan_ACCinflan: 1.0000 - val_nephr_ACCnephr: 1.0000\n",
      "Epoch 460/1000\n",
      "64/64 [==============================] - 0s 1ms/sample - loss: 0.2969 - inflan_loss: 0.1864 - nephr_loss: 0.1642 - inflan_ACCinflan: 1.0000 - nephr_ACCnephr: 1.0000 - val_loss: 0.3333 - val_inflan_loss: 0.1941 - val_nephr_loss: 0.1978 - val_inflan_ACCinflan: 1.0000 - val_nephr_ACCnephr: 1.0000\n",
      "Epoch 461/1000\n",
      "64/64 [==============================] - 0s 2ms/sample - loss: 0.2963 - inflan_loss: 0.1861 - nephr_loss: 0.1638 - inflan_ACCinflan: 1.0000 - nephr_ACCnephr: 1.0000 - val_loss: 0.3328 - val_inflan_loss: 0.1938 - val_nephr_loss: 0.1975 - val_inflan_ACCinflan: 1.0000 - val_nephr_ACCnephr: 1.0000\n",
      "Epoch 462/1000\n",
      "64/64 [==============================] - 0s 196us/sample - loss: 0.2958 - inflan_loss: 0.1858 - nephr_loss: 0.1635 - inflan_ACCinflan: 1.0000 - nephr_ACCnephr: 1.0000 - val_loss: 0.3323 - val_inflan_loss: 0.1935 - val_nephr_loss: 0.1972 - val_inflan_ACCinflan: 1.0000 - val_nephr_ACCnephr: 1.0000\n",
      "Epoch 463/1000\n",
      "64/64 [==============================] - 0s 1ms/sample - loss: 0.2952 - inflan_loss: 0.1855 - nephr_loss: 0.1631 - inflan_ACCinflan: 1.0000 - nephr_ACCnephr: 1.0000 - val_loss: 0.3318 - val_inflan_loss: 0.1932 - val_nephr_loss: 0.1968 - val_inflan_ACCinflan: 1.0000 - val_nephr_ACCnephr: 1.0000\n",
      "Epoch 464/1000\n",
      "64/64 [==============================] - 0s 1ms/sample - loss: 0.2946 - inflan_loss: 0.1852 - nephr_loss: 0.1627 - inflan_ACCinflan: 1.0000 - nephr_ACCnephr: 1.0000 - val_loss: 0.3312 - val_inflan_loss: 0.1930 - val_nephr_loss: 0.1965 - val_inflan_ACCinflan: 1.0000 - val_nephr_ACCnephr: 1.0000\n",
      "Epoch 465/1000\n",
      "64/64 [==============================] - 0s 188us/sample - loss: 0.2941 - inflan_loss: 0.1849 - nephr_loss: 0.1624 - inflan_ACCinflan: 1.0000 - nephr_ACCnephr: 1.0000 - val_loss: 0.3307 - val_inflan_loss: 0.1927 - val_nephr_loss: 0.1962 - val_inflan_ACCinflan: 1.0000 - val_nephr_ACCnephr: 1.0000\n",
      "Epoch 466/1000\n",
      "64/64 [==============================] - 0s 1ms/sample - loss: 0.2935 - inflan_loss: 0.1846 - nephr_loss: 0.1620 - inflan_ACCinflan: 1.0000 - nephr_ACCnephr: 1.0000 - val_loss: 0.3302 - val_inflan_loss: 0.1924 - val_nephr_loss: 0.1959 - val_inflan_ACCinflan: 1.0000 - val_nephr_ACCnephr: 1.0000\n",
      "Epoch 467/1000\n",
      "64/64 [==============================] - 0s 2ms/sample - loss: 0.2930 - inflan_loss: 0.1843 - nephr_loss: 0.1616 - inflan_ACCinflan: 1.0000 - nephr_ACCnephr: 1.0000 - val_loss: 0.3297 - val_inflan_loss: 0.1921 - val_nephr_loss: 0.1956 - val_inflan_ACCinflan: 1.0000 - val_nephr_ACCnephr: 1.0000\n",
      "Epoch 468/1000\n",
      "64/64 [==============================] - 0s 188us/sample - loss: 0.2924 - inflan_loss: 0.1841 - nephr_loss: 0.1613 - inflan_ACCinflan: 1.0000 - nephr_ACCnephr: 1.0000 - val_loss: 0.3292 - val_inflan_loss: 0.1918 - val_nephr_loss: 0.1953 - val_inflan_ACCinflan: 1.0000 - val_nephr_ACCnephr: 1.0000\n",
      "Epoch 469/1000\n",
      "64/64 [==============================] - 0s 1ms/sample - loss: 0.2918 - inflan_loss: 0.1838 - nephr_loss: 0.1609 - inflan_ACCinflan: 1.0000 - nephr_ACCnephr: 1.0000 - val_loss: 0.3287 - val_inflan_loss: 0.1916 - val_nephr_loss: 0.1950 - val_inflan_ACCinflan: 1.0000 - val_nephr_ACCnephr: 1.0000\n",
      "Epoch 470/1000\n",
      "64/64 [==============================] - 0s 2ms/sample - loss: 0.2913 - inflan_loss: 0.1835 - nephr_loss: 0.1606 - inflan_ACCinflan: 1.0000 - nephr_ACCnephr: 1.0000 - val_loss: 0.3282 - val_inflan_loss: 0.1913 - val_nephr_loss: 0.1947 - val_inflan_ACCinflan: 1.0000 - val_nephr_ACCnephr: 1.0000\n",
      "Epoch 471/1000\n",
      "64/64 [==============================] - 0s 202us/sample - loss: 0.2907 - inflan_loss: 0.1832 - nephr_loss: 0.1602 - inflan_ACCinflan: 1.0000 - nephr_ACCnephr: 1.0000 - val_loss: 0.3278 - val_inflan_loss: 0.1910 - val_nephr_loss: 0.1944 - val_inflan_ACCinflan: 1.0000 - val_nephr_ACCnephr: 1.0000\n",
      "Epoch 472/1000\n",
      "64/64 [==============================] - 0s 1ms/sample - loss: 0.2902 - inflan_loss: 0.1829 - nephr_loss: 0.1599 - inflan_ACCinflan: 1.0000 - nephr_ACCnephr: 1.0000 - val_loss: 0.3273 - val_inflan_loss: 0.1907 - val_nephr_loss: 0.1941 - val_inflan_ACCinflan: 1.0000 - val_nephr_ACCnephr: 1.0000\n",
      "Epoch 473/1000\n",
      "64/64 [==============================] - 0s 2ms/sample - loss: 0.2897 - inflan_loss: 0.1826 - nephr_loss: 0.1595 - inflan_ACCinflan: 1.0000 - nephr_ACCnephr: 1.0000 - val_loss: 0.3268 - val_inflan_loss: 0.1905 - val_nephr_loss: 0.1938 - val_inflan_ACCinflan: 1.0000 - val_nephr_ACCnephr: 1.0000\n",
      "Epoch 474/1000\n",
      "64/64 [==============================] - 0s 1ms/sample - loss: 0.2891 - inflan_loss: 0.1823 - nephr_loss: 0.1592 - inflan_ACCinflan: 1.0000 - nephr_ACCnephr: 1.0000 - val_loss: 0.3263 - val_inflan_loss: 0.1902 - val_nephr_loss: 0.1935 - val_inflan_ACCinflan: 1.0000 - val_nephr_ACCnephr: 1.0000\n",
      "Epoch 475/1000\n",
      "64/64 [==============================] - 0s 191us/sample - loss: 0.2886 - inflan_loss: 0.1820 - nephr_loss: 0.1588 - inflan_ACCinflan: 1.0000 - nephr_ACCnephr: 1.0000 - val_loss: 0.3258 - val_inflan_loss: 0.1899 - val_nephr_loss: 0.1932 - val_inflan_ACCinflan: 1.0000 - val_nephr_ACCnephr: 1.0000\n",
      "Epoch 476/1000\n",
      "64/64 [==============================] - 0s 1ms/sample - loss: 0.2880 - inflan_loss: 0.1818 - nephr_loss: 0.1585 - inflan_ACCinflan: 1.0000 - nephr_ACCnephr: 1.0000 - val_loss: 0.3253 - val_inflan_loss: 0.1896 - val_nephr_loss: 0.1929 - val_inflan_ACCinflan: 1.0000 - val_nephr_ACCnephr: 1.0000\n",
      "Epoch 477/1000\n",
      "64/64 [==============================] - 0s 1ms/sample - loss: 0.2875 - inflan_loss: 0.1815 - nephr_loss: 0.1581 - inflan_ACCinflan: 1.0000 - nephr_ACCnephr: 1.0000 - val_loss: 0.3248 - val_inflan_loss: 0.1894 - val_nephr_loss: 0.1926 - val_inflan_ACCinflan: 1.0000 - val_nephr_ACCnephr: 1.0000\n",
      "Epoch 478/1000\n",
      "64/64 [==============================] - 0s 1ms/sample - loss: 0.2869 - inflan_loss: 0.1812 - nephr_loss: 0.1578 - inflan_ACCinflan: 1.0000 - nephr_ACCnephr: 1.0000 - val_loss: 0.3243 - val_inflan_loss: 0.1891 - val_nephr_loss: 0.1923 - val_inflan_ACCinflan: 1.0000 - val_nephr_ACCnephr: 1.0000\n",
      "Epoch 479/1000\n",
      "64/64 [==============================] - 0s 199us/sample - loss: 0.2864 - inflan_loss: 0.1809 - nephr_loss: 0.1574 - inflan_ACCinflan: 1.0000 - nephr_ACCnephr: 1.0000 - val_loss: 0.3238 - val_inflan_loss: 0.1888 - val_nephr_loss: 0.1920 - val_inflan_ACCinflan: 1.0000 - val_nephr_ACCnephr: 1.0000\n",
      "Epoch 480/1000\n",
      "64/64 [==============================] - 0s 2ms/sample - loss: 0.2859 - inflan_loss: 0.1806 - nephr_loss: 0.1571 - inflan_ACCinflan: 1.0000 - nephr_ACCnephr: 1.0000 - val_loss: 0.3233 - val_inflan_loss: 0.1885 - val_nephr_loss: 0.1917 - val_inflan_ACCinflan: 1.0000 - val_nephr_ACCnephr: 1.0000\n",
      "Epoch 481/1000\n",
      "64/64 [==============================] - 0s 1ms/sample - loss: 0.2853 - inflan_loss: 0.1803 - nephr_loss: 0.1567 - inflan_ACCinflan: 1.0000 - nephr_ACCnephr: 1.0000 - val_loss: 0.3228 - val_inflan_loss: 0.1883 - val_nephr_loss: 0.1914 - val_inflan_ACCinflan: 1.0000 - val_nephr_ACCnephr: 1.0000\n",
      "Epoch 482/1000\n",
      "64/64 [==============================] - 0s 206us/sample - loss: 0.2848 - inflan_loss: 0.1801 - nephr_loss: 0.1564 - inflan_ACCinflan: 1.0000 - nephr_ACCnephr: 1.0000 - val_loss: 0.3224 - val_inflan_loss: 0.1880 - val_nephr_loss: 0.1911 - val_inflan_ACCinflan: 1.0000 - val_nephr_ACCnephr: 1.0000\n",
      "Epoch 483/1000\n",
      "64/64 [==============================] - 0s 2ms/sample - loss: 0.2843 - inflan_loss: 0.1798 - nephr_loss: 0.1561 - inflan_ACCinflan: 1.0000 - nephr_ACCnephr: 1.0000 - val_loss: 0.3219 - val_inflan_loss: 0.1877 - val_nephr_loss: 0.1908 - val_inflan_ACCinflan: 1.0000 - val_nephr_ACCnephr: 1.0000\n",
      "Epoch 484/1000\n",
      "64/64 [==============================] - 0s 1ms/sample - loss: 0.2838 - inflan_loss: 0.1795 - nephr_loss: 0.1557 - inflan_ACCinflan: 1.0000 - nephr_ACCnephr: 1.0000 - val_loss: 0.3214 - val_inflan_loss: 0.1875 - val_nephr_loss: 0.1905 - val_inflan_ACCinflan: 1.0000 - val_nephr_ACCnephr: 1.0000\n",
      "Epoch 485/1000\n",
      "64/64 [==============================] - 0s 197us/sample - loss: 0.2832 - inflan_loss: 0.1792 - nephr_loss: 0.1554 - inflan_ACCinflan: 1.0000 - nephr_ACCnephr: 1.0000 - val_loss: 0.3209 - val_inflan_loss: 0.1872 - val_nephr_loss: 0.1902 - val_inflan_ACCinflan: 1.0000 - val_nephr_ACCnephr: 1.0000\n"
     ]
    },
    {
     "name": "stdout",
     "output_type": "stream",
     "text": [
      "Epoch 486/1000\n",
      "64/64 [==============================] - 0s 1ms/sample - loss: 0.2827 - inflan_loss: 0.1790 - nephr_loss: 0.1551 - inflan_ACCinflan: 1.0000 - nephr_ACCnephr: 1.0000 - val_loss: 0.3204 - val_inflan_loss: 0.1869 - val_nephr_loss: 0.1899 - val_inflan_ACCinflan: 1.0000 - val_nephr_ACCnephr: 1.0000\n",
      "Epoch 487/1000\n",
      "64/64 [==============================] - 0s 2ms/sample - loss: 0.2822 - inflan_loss: 0.1787 - nephr_loss: 0.1547 - inflan_ACCinflan: 1.0000 - nephr_ACCnephr: 1.0000 - val_loss: 0.3199 - val_inflan_loss: 0.1867 - val_nephr_loss: 0.1896 - val_inflan_ACCinflan: 1.0000 - val_nephr_ACCnephr: 1.0000\n",
      "Epoch 488/1000\n",
      "64/64 [==============================] - 0s 192us/sample - loss: 0.2817 - inflan_loss: 0.1784 - nephr_loss: 0.1544 - inflan_ACCinflan: 1.0000 - nephr_ACCnephr: 1.0000 - val_loss: 0.3195 - val_inflan_loss: 0.1864 - val_nephr_loss: 0.1893 - val_inflan_ACCinflan: 1.0000 - val_nephr_ACCnephr: 1.0000\n",
      "Epoch 489/1000\n",
      "64/64 [==============================] - 0s 1ms/sample - loss: 0.2812 - inflan_loss: 0.1781 - nephr_loss: 0.1541 - inflan_ACCinflan: 1.0000 - nephr_ACCnephr: 1.0000 - val_loss: 0.3190 - val_inflan_loss: 0.1861 - val_nephr_loss: 0.1890 - val_inflan_ACCinflan: 1.0000 - val_nephr_ACCnephr: 1.0000\n",
      "Epoch 490/1000\n",
      "64/64 [==============================] - 0s 2ms/sample - loss: 0.2806 - inflan_loss: 0.1779 - nephr_loss: 0.1537 - inflan_ACCinflan: 1.0000 - nephr_ACCnephr: 1.0000 - val_loss: 0.3185 - val_inflan_loss: 0.1859 - val_nephr_loss: 0.1887 - val_inflan_ACCinflan: 1.0000 - val_nephr_ACCnephr: 1.0000\n",
      "Epoch 491/1000\n",
      "64/64 [==============================] - 0s 197us/sample - loss: 0.2801 - inflan_loss: 0.1776 - nephr_loss: 0.1534 - inflan_ACCinflan: 1.0000 - nephr_ACCnephr: 1.0000 - val_loss: 0.3180 - val_inflan_loss: 0.1856 - val_nephr_loss: 0.1884 - val_inflan_ACCinflan: 1.0000 - val_nephr_ACCnephr: 1.0000\n",
      "Epoch 492/1000\n",
      "64/64 [==============================] - 0s 1ms/sample - loss: 0.2796 - inflan_loss: 0.1773 - nephr_loss: 0.1531 - inflan_ACCinflan: 1.0000 - nephr_ACCnephr: 1.0000 - val_loss: 0.3176 - val_inflan_loss: 0.1853 - val_nephr_loss: 0.1881 - val_inflan_ACCinflan: 1.0000 - val_nephr_ACCnephr: 1.0000\n",
      "Epoch 493/1000\n",
      "64/64 [==============================] - 0s 2ms/sample - loss: 0.2791 - inflan_loss: 0.1770 - nephr_loss: 0.1527 - inflan_ACCinflan: 1.0000 - nephr_ACCnephr: 1.0000 - val_loss: 0.3171 - val_inflan_loss: 0.1851 - val_nephr_loss: 0.1878 - val_inflan_ACCinflan: 1.0000 - val_nephr_ACCnephr: 1.0000\n",
      "Epoch 494/1000\n",
      "64/64 [==============================] - 0s 1ms/sample - loss: 0.2786 - inflan_loss: 0.1768 - nephr_loss: 0.1524 - inflan_ACCinflan: 1.0000 - nephr_ACCnephr: 1.0000 - val_loss: 0.3166 - val_inflan_loss: 0.1848 - val_nephr_loss: 0.1875 - val_inflan_ACCinflan: 1.0000 - val_nephr_ACCnephr: 1.0000\n",
      "Epoch 495/1000\n",
      "64/64 [==============================] - 0s 190us/sample - loss: 0.2781 - inflan_loss: 0.1765 - nephr_loss: 0.1521 - inflan_ACCinflan: 1.0000 - nephr_ACCnephr: 1.0000 - val_loss: 0.3161 - val_inflan_loss: 0.1845 - val_nephr_loss: 0.1872 - val_inflan_ACCinflan: 1.0000 - val_nephr_ACCnephr: 1.0000\n",
      "Epoch 496/1000\n",
      "64/64 [==============================] - 0s 2ms/sample - loss: 0.2776 - inflan_loss: 0.1762 - nephr_loss: 0.1518 - inflan_ACCinflan: 1.0000 - nephr_ACCnephr: 1.0000 - val_loss: 0.3157 - val_inflan_loss: 0.1843 - val_nephr_loss: 0.1870 - val_inflan_ACCinflan: 1.0000 - val_nephr_ACCnephr: 1.0000\n",
      "Epoch 497/1000\n",
      "64/64 [==============================] - 0s 193us/sample - loss: 0.2771 - inflan_loss: 0.1759 - nephr_loss: 0.1515 - inflan_ACCinflan: 1.0000 - nephr_ACCnephr: 1.0000 - val_loss: 0.3152 - val_inflan_loss: 0.1840 - val_nephr_loss: 0.1867 - val_inflan_ACCinflan: 1.0000 - val_nephr_ACCnephr: 1.0000\n",
      "Epoch 498/1000\n",
      "64/64 [==============================] - 0s 200us/sample - loss: 0.2766 - inflan_loss: 0.1757 - nephr_loss: 0.1511 - inflan_ACCinflan: 1.0000 - nephr_ACCnephr: 1.0000 - val_loss: 0.3147 - val_inflan_loss: 0.1837 - val_nephr_loss: 0.1864 - val_inflan_ACCinflan: 1.0000 - val_nephr_ACCnephr: 1.0000\n",
      "Epoch 499/1000\n",
      "64/64 [==============================] - 0s 2ms/sample - loss: 0.2761 - inflan_loss: 0.1754 - nephr_loss: 0.1508 - inflan_ACCinflan: 1.0000 - nephr_ACCnephr: 1.0000 - val_loss: 0.3143 - val_inflan_loss: 0.1835 - val_nephr_loss: 0.1861 - val_inflan_ACCinflan: 1.0000 - val_nephr_ACCnephr: 1.0000\n",
      "Epoch 500/1000\n",
      "64/64 [==============================] - 0s 191us/sample - loss: 0.2756 - inflan_loss: 0.1751 - nephr_loss: 0.1505 - inflan_ACCinflan: 1.0000 - nephr_ACCnephr: 1.0000 - val_loss: 0.3138 - val_inflan_loss: 0.1832 - val_nephr_loss: 0.1858 - val_inflan_ACCinflan: 1.0000 - val_nephr_ACCnephr: 1.0000\n",
      "Epoch 501/1000\n",
      "64/64 [==============================] - 0s 1ms/sample - loss: 0.2751 - inflan_loss: 0.1749 - nephr_loss: 0.1502 - inflan_ACCinflan: 1.0000 - nephr_ACCnephr: 1.0000 - val_loss: 0.3133 - val_inflan_loss: 0.1830 - val_nephr_loss: 0.1855 - val_inflan_ACCinflan: 1.0000 - val_nephr_ACCnephr: 1.0000\n",
      "Epoch 502/1000\n",
      "64/64 [==============================] - 0s 2ms/sample - loss: 0.2746 - inflan_loss: 0.1746 - nephr_loss: 0.1499 - inflan_ACCinflan: 1.0000 - nephr_ACCnephr: 1.0000 - val_loss: 0.3129 - val_inflan_loss: 0.1827 - val_nephr_loss: 0.1852 - val_inflan_ACCinflan: 1.0000 - val_nephr_ACCnephr: 1.0000\n",
      "Epoch 503/1000\n",
      "64/64 [==============================] - 0s 1ms/sample - loss: 0.2741 - inflan_loss: 0.1743 - nephr_loss: 0.1495 - inflan_ACCinflan: 1.0000 - nephr_ACCnephr: 1.0000 - val_loss: 0.3124 - val_inflan_loss: 0.1824 - val_nephr_loss: 0.1850 - val_inflan_ACCinflan: 1.0000 - val_nephr_ACCnephr: 1.0000\n",
      "Epoch 504/1000\n",
      "64/64 [==============================] - 0s 181us/sample - loss: 0.2736 - inflan_loss: 0.1741 - nephr_loss: 0.1492 - inflan_ACCinflan: 1.0000 - nephr_ACCnephr: 1.0000 - val_loss: 0.3119 - val_inflan_loss: 0.1822 - val_nephr_loss: 0.1847 - val_inflan_ACCinflan: 1.0000 - val_nephr_ACCnephr: 1.0000\n",
      "Epoch 505/1000\n",
      "64/64 [==============================] - 0s 1ms/sample - loss: 0.2731 - inflan_loss: 0.1738 - nephr_loss: 0.1489 - inflan_ACCinflan: 1.0000 - nephr_ACCnephr: 1.0000 - val_loss: 0.3115 - val_inflan_loss: 0.1819 - val_nephr_loss: 0.1844 - val_inflan_ACCinflan: 1.0000 - val_nephr_ACCnephr: 1.0000\n",
      "Epoch 506/1000\n",
      "64/64 [==============================] - 0s 1ms/sample - loss: 0.2726 - inflan_loss: 0.1735 - nephr_loss: 0.1486 - inflan_ACCinflan: 1.0000 - nephr_ACCnephr: 1.0000 - val_loss: 0.3110 - val_inflan_loss: 0.1817 - val_nephr_loss: 0.1841 - val_inflan_ACCinflan: 1.0000 - val_nephr_ACCnephr: 1.0000\n",
      "Epoch 507/1000\n",
      "64/64 [==============================] - 0s 190us/sample - loss: 0.2721 - inflan_loss: 0.1733 - nephr_loss: 0.1483 - inflan_ACCinflan: 1.0000 - nephr_ACCnephr: 1.0000 - val_loss: 0.3106 - val_inflan_loss: 0.1814 - val_nephr_loss: 0.1838 - val_inflan_ACCinflan: 1.0000 - val_nephr_ACCnephr: 1.0000\n",
      "Epoch 508/1000\n",
      "64/64 [==============================] - 0s 1ms/sample - loss: 0.2716 - inflan_loss: 0.1730 - nephr_loss: 0.1480 - inflan_ACCinflan: 1.0000 - nephr_ACCnephr: 1.0000 - val_loss: 0.3101 - val_inflan_loss: 0.1811 - val_nephr_loss: 0.1835 - val_inflan_ACCinflan: 1.0000 - val_nephr_ACCnephr: 1.0000\n",
      "Epoch 509/1000\n",
      "64/64 [==============================] - 0s 1ms/sample - loss: 0.2711 - inflan_loss: 0.1728 - nephr_loss: 0.1477 - inflan_ACCinflan: 1.0000 - nephr_ACCnephr: 1.0000 - val_loss: 0.3096 - val_inflan_loss: 0.1809 - val_nephr_loss: 0.1833 - val_inflan_ACCinflan: 1.0000 - val_nephr_ACCnephr: 1.0000\n",
      "Epoch 510/1000\n",
      "64/64 [==============================] - 0s 196us/sample - loss: 0.2706 - inflan_loss: 0.1725 - nephr_loss: 0.1474 - inflan_ACCinflan: 1.0000 - nephr_ACCnephr: 1.0000 - val_loss: 0.3092 - val_inflan_loss: 0.1806 - val_nephr_loss: 0.1830 - val_inflan_ACCinflan: 1.0000 - val_nephr_ACCnephr: 1.0000\n",
      "Epoch 511/1000\n",
      "64/64 [==============================] - 0s 1ms/sample - loss: 0.2702 - inflan_loss: 0.1722 - nephr_loss: 0.1471 - inflan_ACCinflan: 1.0000 - nephr_ACCnephr: 1.0000 - val_loss: 0.3087 - val_inflan_loss: 0.1804 - val_nephr_loss: 0.1827 - val_inflan_ACCinflan: 1.0000 - val_nephr_ACCnephr: 1.0000\n",
      "Epoch 512/1000\n",
      "64/64 [==============================] - 0s 1ms/sample - loss: 0.2697 - inflan_loss: 0.1720 - nephr_loss: 0.1468 - inflan_ACCinflan: 1.0000 - nephr_ACCnephr: 1.0000 - val_loss: 0.3083 - val_inflan_loss: 0.1801 - val_nephr_loss: 0.1824 - val_inflan_ACCinflan: 1.0000 - val_nephr_ACCnephr: 1.0000\n"
     ]
    },
    {
     "name": "stdout",
     "output_type": "stream",
     "text": [
      "Epoch 513/1000\n",
      "64/64 [==============================] - 0s 196us/sample - loss: 0.2692 - inflan_loss: 0.1717 - nephr_loss: 0.1465 - inflan_ACCinflan: 1.0000 - nephr_ACCnephr: 1.0000 - val_loss: 0.3078 - val_inflan_loss: 0.1799 - val_nephr_loss: 0.1821 - val_inflan_ACCinflan: 1.0000 - val_nephr_ACCnephr: 1.0000\n",
      "Epoch 514/1000\n",
      "64/64 [==============================] - 0s 1ms/sample - loss: 0.2687 - inflan_loss: 0.1715 - nephr_loss: 0.1462 - inflan_ACCinflan: 1.0000 - nephr_ACCnephr: 1.0000 - val_loss: 0.3074 - val_inflan_loss: 0.1796 - val_nephr_loss: 0.1819 - val_inflan_ACCinflan: 1.0000 - val_nephr_ACCnephr: 1.0000\n",
      "Epoch 515/1000\n",
      "64/64 [==============================] - 0s 1ms/sample - loss: 0.2682 - inflan_loss: 0.1712 - nephr_loss: 0.1459 - inflan_ACCinflan: 1.0000 - nephr_ACCnephr: 1.0000 - val_loss: 0.3069 - val_inflan_loss: 0.1794 - val_nephr_loss: 0.1816 - val_inflan_ACCinflan: 1.0000 - val_nephr_ACCnephr: 1.0000\n",
      "Epoch 516/1000\n",
      "64/64 [==============================] - 0s 193us/sample - loss: 0.2678 - inflan_loss: 0.1709 - nephr_loss: 0.1456 - inflan_ACCinflan: 1.0000 - nephr_ACCnephr: 1.0000 - val_loss: 0.3065 - val_inflan_loss: 0.1791 - val_nephr_loss: 0.1813 - val_inflan_ACCinflan: 1.0000 - val_nephr_ACCnephr: 1.0000\n",
      "Epoch 517/1000\n",
      "64/64 [==============================] - 0s 1ms/sample - loss: 0.2673 - inflan_loss: 0.1707 - nephr_loss: 0.1453 - inflan_ACCinflan: 1.0000 - nephr_ACCnephr: 1.0000 - val_loss: 0.3060 - val_inflan_loss: 0.1788 - val_nephr_loss: 0.1810 - val_inflan_ACCinflan: 1.0000 - val_nephr_ACCnephr: 1.0000\n",
      "Epoch 518/1000\n",
      "64/64 [==============================] - 0s 1ms/sample - loss: 0.2668 - inflan_loss: 0.1704 - nephr_loss: 0.1450 - inflan_ACCinflan: 1.0000 - nephr_ACCnephr: 1.0000 - val_loss: 0.3056 - val_inflan_loss: 0.1786 - val_nephr_loss: 0.1808 - val_inflan_ACCinflan: 1.0000 - val_nephr_ACCnephr: 1.0000\n",
      "Epoch 519/1000\n",
      "64/64 [==============================] - 0s 193us/sample - loss: 0.2663 - inflan_loss: 0.1702 - nephr_loss: 0.1447 - inflan_ACCinflan: 1.0000 - nephr_ACCnephr: 1.0000 - val_loss: 0.3051 - val_inflan_loss: 0.1783 - val_nephr_loss: 0.1805 - val_inflan_ACCinflan: 1.0000 - val_nephr_ACCnephr: 1.0000\n",
      "Epoch 520/1000\n",
      "64/64 [==============================] - 0s 1ms/sample - loss: 0.2659 - inflan_loss: 0.1699 - nephr_loss: 0.1444 - inflan_ACCinflan: 1.0000 - nephr_ACCnephr: 1.0000 - val_loss: 0.3047 - val_inflan_loss: 0.1781 - val_nephr_loss: 0.1802 - val_inflan_ACCinflan: 1.0000 - val_nephr_ACCnephr: 1.0000\n",
      "Epoch 521/1000\n",
      "64/64 [==============================] - 0s 2ms/sample - loss: 0.2654 - inflan_loss: 0.1697 - nephr_loss: 0.1441 - inflan_ACCinflan: 1.0000 - nephr_ACCnephr: 1.0000 - val_loss: 0.3042 - val_inflan_loss: 0.1778 - val_nephr_loss: 0.1799 - val_inflan_ACCinflan: 1.0000 - val_nephr_ACCnephr: 1.0000\n",
      "Epoch 522/1000\n",
      "64/64 [==============================] - 0s 194us/sample - loss: 0.2649 - inflan_loss: 0.1694 - nephr_loss: 0.1438 - inflan_ACCinflan: 1.0000 - nephr_ACCnephr: 1.0000 - val_loss: 0.3038 - val_inflan_loss: 0.1776 - val_nephr_loss: 0.1797 - val_inflan_ACCinflan: 1.0000 - val_nephr_ACCnephr: 1.0000\n",
      "Epoch 523/1000\n",
      "64/64 [==============================] - 0s 1ms/sample - loss: 0.2645 - inflan_loss: 0.1691 - nephr_loss: 0.1435 - inflan_ACCinflan: 1.0000 - nephr_ACCnephr: 1.0000 - val_loss: 0.3033 - val_inflan_loss: 0.1773 - val_nephr_loss: 0.1794 - val_inflan_ACCinflan: 1.0000 - val_nephr_ACCnephr: 1.0000\n",
      "Epoch 524/1000\n",
      "64/64 [==============================] - 0s 2ms/sample - loss: 0.2640 - inflan_loss: 0.1689 - nephr_loss: 0.1432 - inflan_ACCinflan: 1.0000 - nephr_ACCnephr: 1.0000 - val_loss: 0.3029 - val_inflan_loss: 0.1771 - val_nephr_loss: 0.1791 - val_inflan_ACCinflan: 1.0000 - val_nephr_ACCnephr: 1.0000\n",
      "Epoch 525/1000\n",
      "64/64 [==============================] - 0s 1ms/sample - loss: 0.2635 - inflan_loss: 0.1686 - nephr_loss: 0.1429 - inflan_ACCinflan: 1.0000 - nephr_ACCnephr: 1.0000 - val_loss: 0.3024 - val_inflan_loss: 0.1768 - val_nephr_loss: 0.1789 - val_inflan_ACCinflan: 1.0000 - val_nephr_ACCnephr: 1.0000\n",
      "Epoch 526/1000\n",
      "64/64 [==============================] - 0s 190us/sample - loss: 0.2631 - inflan_loss: 0.1684 - nephr_loss: 0.1426 - inflan_ACCinflan: 1.0000 - nephr_ACCnephr: 1.0000 - val_loss: 0.3020 - val_inflan_loss: 0.1766 - val_nephr_loss: 0.1786 - val_inflan_ACCinflan: 1.0000 - val_nephr_ACCnephr: 1.0000\n",
      "Epoch 527/1000\n",
      "64/64 [==============================] - 0s 2ms/sample - loss: 0.2626 - inflan_loss: 0.1681 - nephr_loss: 0.1423 - inflan_ACCinflan: 1.0000 - nephr_ACCnephr: 1.0000 - val_loss: 0.3015 - val_inflan_loss: 0.1763 - val_nephr_loss: 0.1783 - val_inflan_ACCinflan: 1.0000 - val_nephr_ACCnephr: 1.0000\n",
      "Epoch 528/1000\n",
      "64/64 [==============================] - 0s 1ms/sample - loss: 0.2622 - inflan_loss: 0.1679 - nephr_loss: 0.1421 - inflan_ACCinflan: 1.0000 - nephr_ACCnephr: 1.0000 - val_loss: 0.3011 - val_inflan_loss: 0.1761 - val_nephr_loss: 0.1780 - val_inflan_ACCinflan: 1.0000 - val_nephr_ACCnephr: 1.0000\n",
      "Epoch 529/1000\n",
      "64/64 [==============================] - 0s 213us/sample - loss: 0.2617 - inflan_loss: 0.1676 - nephr_loss: 0.1418 - inflan_ACCinflan: 1.0000 - nephr_ACCnephr: 1.0000 - val_loss: 0.3007 - val_inflan_loss: 0.1758 - val_nephr_loss: 0.1778 - val_inflan_ACCinflan: 1.0000 - val_nephr_ACCnephr: 1.0000\n",
      "Epoch 530/1000\n",
      "64/64 [==============================] - 0s 1ms/sample - loss: 0.2612 - inflan_loss: 0.1674 - nephr_loss: 0.1415 - inflan_ACCinflan: 1.0000 - nephr_ACCnephr: 1.0000 - val_loss: 0.3002 - val_inflan_loss: 0.1756 - val_nephr_loss: 0.1775 - val_inflan_ACCinflan: 1.0000 - val_nephr_ACCnephr: 1.0000\n",
      "Epoch 531/1000\n",
      "64/64 [==============================] - 0s 1ms/sample - loss: 0.2608 - inflan_loss: 0.1671 - nephr_loss: 0.1412 - inflan_ACCinflan: 1.0000 - nephr_ACCnephr: 1.0000 - val_loss: 0.2998 - val_inflan_loss: 0.1753 - val_nephr_loss: 0.1772 - val_inflan_ACCinflan: 1.0000 - val_nephr_ACCnephr: 1.0000\n",
      "Epoch 532/1000\n",
      "64/64 [==============================] - 0s 188us/sample - loss: 0.2603 - inflan_loss: 0.1669 - nephr_loss: 0.1409 - inflan_ACCinflan: 1.0000 - nephr_ACCnephr: 1.0000 - val_loss: 0.2994 - val_inflan_loss: 0.1751 - val_nephr_loss: 0.1770 - val_inflan_ACCinflan: 1.0000 - val_nephr_ACCnephr: 1.0000\n",
      "Epoch 533/1000\n",
      "64/64 [==============================] - 0s 1ms/sample - loss: 0.2599 - inflan_loss: 0.1666 - nephr_loss: 0.1406 - inflan_ACCinflan: 1.0000 - nephr_ACCnephr: 1.0000 - val_loss: 0.2989 - val_inflan_loss: 0.1749 - val_nephr_loss: 0.1767 - val_inflan_ACCinflan: 1.0000 - val_nephr_ACCnephr: 1.0000\n",
      "Epoch 534/1000\n",
      "64/64 [==============================] - 0s 2ms/sample - loss: 0.2594 - inflan_loss: 0.1664 - nephr_loss: 0.1403 - inflan_ACCinflan: 1.0000 - nephr_ACCnephr: 1.0000 - val_loss: 0.2985 - val_inflan_loss: 0.1746 - val_nephr_loss: 0.1764 - val_inflan_ACCinflan: 1.0000 - val_nephr_ACCnephr: 1.0000\n",
      "Epoch 535/1000\n",
      "64/64 [==============================] - 0s 190us/sample - loss: 0.2590 - inflan_loss: 0.1661 - nephr_loss: 0.1401 - inflan_ACCinflan: 1.0000 - nephr_ACCnephr: 1.0000 - val_loss: 0.2980 - val_inflan_loss: 0.1744 - val_nephr_loss: 0.1762 - val_inflan_ACCinflan: 1.0000 - val_nephr_ACCnephr: 1.0000\n",
      "Epoch 536/1000\n",
      "64/64 [==============================] - 0s 1ms/sample - loss: 0.2585 - inflan_loss: 0.1659 - nephr_loss: 0.1398 - inflan_ACCinflan: 1.0000 - nephr_ACCnephr: 1.0000 - val_loss: 0.2976 - val_inflan_loss: 0.1741 - val_nephr_loss: 0.1759 - val_inflan_ACCinflan: 1.0000 - val_nephr_ACCnephr: 1.0000\n",
      "Epoch 537/1000\n",
      "64/64 [==============================] - 0s 1ms/sample - loss: 0.2581 - inflan_loss: 0.1656 - nephr_loss: 0.1395 - inflan_ACCinflan: 1.0000 - nephr_ACCnephr: 1.0000 - val_loss: 0.2972 - val_inflan_loss: 0.1739 - val_nephr_loss: 0.1756 - val_inflan_ACCinflan: 1.0000 - val_nephr_ACCnephr: 1.0000\n",
      "Epoch 538/1000\n",
      "64/64 [==============================] - 0s 203us/sample - loss: 0.2576 - inflan_loss: 0.1654 - nephr_loss: 0.1392 - inflan_ACCinflan: 1.0000 - nephr_ACCnephr: 1.0000 - val_loss: 0.2967 - val_inflan_loss: 0.1736 - val_nephr_loss: 0.1754 - val_inflan_ACCinflan: 1.0000 - val_nephr_ACCnephr: 1.0000\n",
      "Epoch 539/1000\n",
      "64/64 [==============================] - 0s 1ms/sample - loss: 0.2572 - inflan_loss: 0.1652 - nephr_loss: 0.1390 - inflan_ACCinflan: 1.0000 - nephr_ACCnephr: 1.0000 - val_loss: 0.2963 - val_inflan_loss: 0.1734 - val_nephr_loss: 0.1751 - val_inflan_ACCinflan: 1.0000 - val_nephr_ACCnephr: 1.0000\n"
     ]
    },
    {
     "name": "stdout",
     "output_type": "stream",
     "text": [
      "Epoch 540/1000\n",
      "64/64 [==============================] - 0s 1ms/sample - loss: 0.2567 - inflan_loss: 0.1649 - nephr_loss: 0.1387 - inflan_ACCinflan: 1.0000 - nephr_ACCnephr: 1.0000 - val_loss: 0.2959 - val_inflan_loss: 0.1731 - val_nephr_loss: 0.1749 - val_inflan_ACCinflan: 1.0000 - val_nephr_ACCnephr: 1.0000\n",
      "Epoch 541/1000\n",
      "64/64 [==============================] - 0s 192us/sample - loss: 0.2563 - inflan_loss: 0.1647 - nephr_loss: 0.1384 - inflan_ACCinflan: 1.0000 - nephr_ACCnephr: 1.0000 - val_loss: 0.2955 - val_inflan_loss: 0.1729 - val_nephr_loss: 0.1746 - val_inflan_ACCinflan: 1.0000 - val_nephr_ACCnephr: 1.0000\n",
      "Epoch 542/1000\n",
      "64/64 [==============================] - 0s 1ms/sample - loss: 0.2559 - inflan_loss: 0.1644 - nephr_loss: 0.1381 - inflan_ACCinflan: 1.0000 - nephr_ACCnephr: 1.0000 - val_loss: 0.2950 - val_inflan_loss: 0.1727 - val_nephr_loss: 0.1743 - val_inflan_ACCinflan: 1.0000 - val_nephr_ACCnephr: 1.0000\n",
      "Epoch 543/1000\n",
      "64/64 [==============================] - 0s 1ms/sample - loss: 0.2554 - inflan_loss: 0.1642 - nephr_loss: 0.1379 - inflan_ACCinflan: 1.0000 - nephr_ACCnephr: 1.0000 - val_loss: 0.2946 - val_inflan_loss: 0.1724 - val_nephr_loss: 0.1741 - val_inflan_ACCinflan: 1.0000 - val_nephr_ACCnephr: 1.0000\n",
      "Epoch 544/1000\n",
      "64/64 [==============================] - 0s 182us/sample - loss: 0.2550 - inflan_loss: 0.1639 - nephr_loss: 0.1376 - inflan_ACCinflan: 1.0000 - nephr_ACCnephr: 1.0000 - val_loss: 0.2942 - val_inflan_loss: 0.1722 - val_nephr_loss: 0.1738 - val_inflan_ACCinflan: 1.0000 - val_nephr_ACCnephr: 1.0000\n",
      "Epoch 545/1000\n",
      "64/64 [==============================] - 0s 1ms/sample - loss: 0.2545 - inflan_loss: 0.1637 - nephr_loss: 0.1373 - inflan_ACCinflan: 1.0000 - nephr_ACCnephr: 1.0000 - val_loss: 0.2937 - val_inflan_loss: 0.1719 - val_nephr_loss: 0.1736 - val_inflan_ACCinflan: 1.0000 - val_nephr_ACCnephr: 1.0000\n",
      "Epoch 546/1000\n",
      "64/64 [==============================] - 0s 1ms/sample - loss: 0.2541 - inflan_loss: 0.1635 - nephr_loss: 0.1370 - inflan_ACCinflan: 1.0000 - nephr_ACCnephr: 1.0000 - val_loss: 0.2933 - val_inflan_loss: 0.1717 - val_nephr_loss: 0.1733 - val_inflan_ACCinflan: 1.0000 - val_nephr_ACCnephr: 1.0000\n",
      "Epoch 547/1000\n",
      "64/64 [==============================] - 0s 190us/sample - loss: 0.2537 - inflan_loss: 0.1632 - nephr_loss: 0.1368 - inflan_ACCinflan: 1.0000 - nephr_ACCnephr: 1.0000 - val_loss: 0.2929 - val_inflan_loss: 0.1715 - val_nephr_loss: 0.1730 - val_inflan_ACCinflan: 1.0000 - val_nephr_ACCnephr: 1.0000\n",
      "Epoch 548/1000\n",
      "64/64 [==============================] - 0s 254us/sample - loss: 0.2532 - inflan_loss: 0.1630 - nephr_loss: 0.1365 - inflan_ACCinflan: 1.0000 - nephr_ACCnephr: 1.0000 - val_loss: 0.2925 - val_inflan_loss: 0.1712 - val_nephr_loss: 0.1728 - val_inflan_ACCinflan: 1.0000 - val_nephr_ACCnephr: 1.0000\n",
      "Epoch 549/1000\n",
      "64/64 [==============================] - 0s 2ms/sample - loss: 0.2528 - inflan_loss: 0.1627 - nephr_loss: 0.1362 - inflan_ACCinflan: 1.0000 - nephr_ACCnephr: 1.0000 - val_loss: 0.2920 - val_inflan_loss: 0.1710 - val_nephr_loss: 0.1725 - val_inflan_ACCinflan: 1.0000 - val_nephr_ACCnephr: 1.0000\n",
      "Epoch 550/1000\n",
      "64/64 [==============================] - 0s 1ms/sample - loss: 0.2524 - inflan_loss: 0.1625 - nephr_loss: 0.1360 - inflan_ACCinflan: 1.0000 - nephr_ACCnephr: 1.0000 - val_loss: 0.2916 - val_inflan_loss: 0.1707 - val_nephr_loss: 0.1723 - val_inflan_ACCinflan: 1.0000 - val_nephr_ACCnephr: 1.0000\n",
      "Epoch 551/1000\n",
      "64/64 [==============================] - 0s 243us/sample - loss: 0.2519 - inflan_loss: 0.1623 - nephr_loss: 0.1357 - inflan_ACCinflan: 1.0000 - nephr_ACCnephr: 1.0000 - val_loss: 0.2912 - val_inflan_loss: 0.1705 - val_nephr_loss: 0.1720 - val_inflan_ACCinflan: 1.0000 - val_nephr_ACCnephr: 1.0000\n",
      "Epoch 552/1000\n",
      "64/64 [==============================] - 0s 197us/sample - loss: 0.2515 - inflan_loss: 0.1620 - nephr_loss: 0.1354 - inflan_ACCinflan: 1.0000 - nephr_ACCnephr: 1.0000 - val_loss: 0.2908 - val_inflan_loss: 0.1703 - val_nephr_loss: 0.1717 - val_inflan_ACCinflan: 1.0000 - val_nephr_ACCnephr: 1.0000\n",
      "Epoch 553/1000\n",
      "64/64 [==============================] - 0s 2ms/sample - loss: 0.2511 - inflan_loss: 0.1618 - nephr_loss: 0.1352 - inflan_ACCinflan: 1.0000 - nephr_ACCnephr: 1.0000 - val_loss: 0.2904 - val_inflan_loss: 0.1700 - val_nephr_loss: 0.1715 - val_inflan_ACCinflan: 1.0000 - val_nephr_ACCnephr: 1.0000\n",
      "Epoch 554/1000\n",
      "64/64 [==============================] - 0s 1ms/sample - loss: 0.2507 - inflan_loss: 0.1615 - nephr_loss: 0.1349 - inflan_ACCinflan: 1.0000 - nephr_ACCnephr: 1.0000 - val_loss: 0.2899 - val_inflan_loss: 0.1698 - val_nephr_loss: 0.1712 - val_inflan_ACCinflan: 1.0000 - val_nephr_ACCnephr: 1.0000\n",
      "Epoch 555/1000\n",
      "64/64 [==============================] - 0s 213us/sample - loss: 0.2502 - inflan_loss: 0.1613 - nephr_loss: 0.1347 - inflan_ACCinflan: 1.0000 - nephr_ACCnephr: 1.0000 - val_loss: 0.2895 - val_inflan_loss: 0.1695 - val_nephr_loss: 0.1710 - val_inflan_ACCinflan: 1.0000 - val_nephr_ACCnephr: 1.0000\n",
      "Epoch 556/1000\n",
      "64/64 [==============================] - 0s 2ms/sample - loss: 0.2498 - inflan_loss: 0.1611 - nephr_loss: 0.1344 - inflan_ACCinflan: 1.0000 - nephr_ACCnephr: 1.0000 - val_loss: 0.2891 - val_inflan_loss: 0.1693 - val_nephr_loss: 0.1707 - val_inflan_ACCinflan: 1.0000 - val_nephr_ACCnephr: 1.0000\n",
      "Epoch 557/1000\n",
      "64/64 [==============================] - 0s 1ms/sample - loss: 0.2494 - inflan_loss: 0.1608 - nephr_loss: 0.1341 - inflan_ACCinflan: 1.0000 - nephr_ACCnephr: 1.0000 - val_loss: 0.2887 - val_inflan_loss: 0.1691 - val_nephr_loss: 0.1705 - val_inflan_ACCinflan: 1.0000 - val_nephr_ACCnephr: 1.0000\n",
      "Epoch 558/1000\n",
      "64/64 [==============================] - 0s 1ms/sample - loss: 0.2490 - inflan_loss: 0.1606 - nephr_loss: 0.1339 - inflan_ACCinflan: 1.0000 - nephr_ACCnephr: 1.0000 - val_loss: 0.2883 - val_inflan_loss: 0.1688 - val_nephr_loss: 0.1702 - val_inflan_ACCinflan: 1.0000 - val_nephr_ACCnephr: 1.0000\n",
      "Epoch 559/1000\n",
      "64/64 [==============================] - 0s 262us/sample - loss: 0.2485 - inflan_loss: 0.1604 - nephr_loss: 0.1336 - inflan_ACCinflan: 1.0000 - nephr_ACCnephr: 1.0000 - val_loss: 0.2879 - val_inflan_loss: 0.1686 - val_nephr_loss: 0.1700 - val_inflan_ACCinflan: 1.0000 - val_nephr_ACCnephr: 1.0000\n",
      "Epoch 560/1000\n",
      "64/64 [==============================] - 0s 1ms/sample - loss: 0.2481 - inflan_loss: 0.1601 - nephr_loss: 0.1334 - inflan_ACCinflan: 1.0000 - nephr_ACCnephr: 1.0000 - val_loss: 0.2874 - val_inflan_loss: 0.1684 - val_nephr_loss: 0.1697 - val_inflan_ACCinflan: 1.0000 - val_nephr_ACCnephr: 1.0000\n",
      "Epoch 561/1000\n",
      "64/64 [==============================] - 0s 1ms/sample - loss: 0.2477 - inflan_loss: 0.1599 - nephr_loss: 0.1331 - inflan_ACCinflan: 1.0000 - nephr_ACCnephr: 1.0000 - val_loss: 0.2870 - val_inflan_loss: 0.1681 - val_nephr_loss: 0.1695 - val_inflan_ACCinflan: 1.0000 - val_nephr_ACCnephr: 1.0000\n",
      "Epoch 562/1000\n",
      "64/64 [==============================] - 0s 209us/sample - loss: 0.2473 - inflan_loss: 0.1597 - nephr_loss: 0.1328 - inflan_ACCinflan: 1.0000 - nephr_ACCnephr: 1.0000 - val_loss: 0.2866 - val_inflan_loss: 0.1679 - val_nephr_loss: 0.1692 - val_inflan_ACCinflan: 1.0000 - val_nephr_ACCnephr: 1.0000\n",
      "Epoch 563/1000\n",
      "64/64 [==============================] - 0s 204us/sample - loss: 0.2469 - inflan_loss: 0.1594 - nephr_loss: 0.1326 - inflan_ACCinflan: 1.0000 - nephr_ACCnephr: 1.0000 - val_loss: 0.2862 - val_inflan_loss: 0.1677 - val_nephr_loss: 0.1690 - val_inflan_ACCinflan: 1.0000 - val_nephr_ACCnephr: 1.0000\n",
      "Epoch 564/1000\n",
      "64/64 [==============================] - 0s 2ms/sample - loss: 0.2465 - inflan_loss: 0.1592 - nephr_loss: 0.1323 - inflan_ACCinflan: 1.0000 - nephr_ACCnephr: 1.0000 - val_loss: 0.2858 - val_inflan_loss: 0.1674 - val_nephr_loss: 0.1687 - val_inflan_ACCinflan: 1.0000 - val_nephr_ACCnephr: 1.0000\n",
      "Epoch 565/1000\n",
      "64/64 [==============================] - 0s 1ms/sample - loss: 0.2460 - inflan_loss: 0.1590 - nephr_loss: 0.1321 - inflan_ACCinflan: 1.0000 - nephr_ACCnephr: 1.0000 - val_loss: 0.2854 - val_inflan_loss: 0.1672 - val_nephr_loss: 0.1685 - val_inflan_ACCinflan: 1.0000 - val_nephr_ACCnephr: 1.0000\n",
      "Epoch 566/1000\n",
      "64/64 [==============================] - 0s 197us/sample - loss: 0.2456 - inflan_loss: 0.1587 - nephr_loss: 0.1318 - inflan_ACCinflan: 1.0000 - nephr_ACCnephr: 1.0000 - val_loss: 0.2850 - val_inflan_loss: 0.1670 - val_nephr_loss: 0.1682 - val_inflan_ACCinflan: 1.0000 - val_nephr_ACCnephr: 1.0000\n"
     ]
    },
    {
     "name": "stdout",
     "output_type": "stream",
     "text": [
      "Epoch 567/1000\n",
      "64/64 [==============================] - 0s 1ms/sample - loss: 0.2452 - inflan_loss: 0.1585 - nephr_loss: 0.1316 - inflan_ACCinflan: 1.0000 - nephr_ACCnephr: 1.0000 - val_loss: 0.2846 - val_inflan_loss: 0.1667 - val_nephr_loss: 0.1680 - val_inflan_ACCinflan: 1.0000 - val_nephr_ACCnephr: 1.0000\n",
      "Epoch 568/1000\n",
      "64/64 [==============================] - 0s 2ms/sample - loss: 0.2448 - inflan_loss: 0.1583 - nephr_loss: 0.1313 - inflan_ACCinflan: 1.0000 - nephr_ACCnephr: 1.0000 - val_loss: 0.2842 - val_inflan_loss: 0.1665 - val_nephr_loss: 0.1677 - val_inflan_ACCinflan: 1.0000 - val_nephr_ACCnephr: 1.0000\n",
      "Epoch 569/1000\n",
      "64/64 [==============================] - 0s 188us/sample - loss: 0.2444 - inflan_loss: 0.1580 - nephr_loss: 0.1311 - inflan_ACCinflan: 1.0000 - nephr_ACCnephr: 1.0000 - val_loss: 0.2838 - val_inflan_loss: 0.1663 - val_nephr_loss: 0.1675 - val_inflan_ACCinflan: 1.0000 - val_nephr_ACCnephr: 1.0000\n",
      "Epoch 570/1000\n",
      "64/64 [==============================] - 0s 1ms/sample - loss: 0.2440 - inflan_loss: 0.1578 - nephr_loss: 0.1308 - inflan_ACCinflan: 1.0000 - nephr_ACCnephr: 1.0000 - val_loss: 0.2833 - val_inflan_loss: 0.1660 - val_nephr_loss: 0.1672 - val_inflan_ACCinflan: 1.0000 - val_nephr_ACCnephr: 1.0000\n",
      "Epoch 571/1000\n",
      "64/64 [==============================] - 0s 2ms/sample - loss: 0.2436 - inflan_loss: 0.1576 - nephr_loss: 0.1306 - inflan_ACCinflan: 1.0000 - nephr_ACCnephr: 1.0000 - val_loss: 0.2829 - val_inflan_loss: 0.1658 - val_nephr_loss: 0.1670 - val_inflan_ACCinflan: 1.0000 - val_nephr_ACCnephr: 1.0000\n",
      "Epoch 572/1000\n",
      "64/64 [==============================] - 0s 180us/sample - loss: 0.2432 - inflan_loss: 0.1574 - nephr_loss: 0.1303 - inflan_ACCinflan: 1.0000 - nephr_ACCnephr: 1.0000 - val_loss: 0.2825 - val_inflan_loss: 0.1656 - val_nephr_loss: 0.1667 - val_inflan_ACCinflan: 1.0000 - val_nephr_ACCnephr: 1.0000\n",
      "Epoch 573/1000\n",
      "64/64 [==============================] - 0s 1ms/sample - loss: 0.2428 - inflan_loss: 0.1571 - nephr_loss: 0.1301 - inflan_ACCinflan: 1.0000 - nephr_ACCnephr: 1.0000 - val_loss: 0.2821 - val_inflan_loss: 0.1654 - val_nephr_loss: 0.1665 - val_inflan_ACCinflan: 1.0000 - val_nephr_ACCnephr: 1.0000\n",
      "Epoch 574/1000\n",
      "64/64 [==============================] - 0s 2ms/sample - loss: 0.2424 - inflan_loss: 0.1569 - nephr_loss: 0.1298 - inflan_ACCinflan: 1.0000 - nephr_ACCnephr: 1.0000 - val_loss: 0.2817 - val_inflan_loss: 0.1651 - val_nephr_loss: 0.1663 - val_inflan_ACCinflan: 1.0000 - val_nephr_ACCnephr: 1.0000\n",
      "Epoch 575/1000\n",
      "64/64 [==============================] - 0s 192us/sample - loss: 0.2420 - inflan_loss: 0.1567 - nephr_loss: 0.1296 - inflan_ACCinflan: 1.0000 - nephr_ACCnephr: 1.0000 - val_loss: 0.2813 - val_inflan_loss: 0.1649 - val_nephr_loss: 0.1660 - val_inflan_ACCinflan: 1.0000 - val_nephr_ACCnephr: 1.0000\n",
      "Epoch 576/1000\n",
      "64/64 [==============================] - 0s 1ms/sample - loss: 0.2416 - inflan_loss: 0.1564 - nephr_loss: 0.1293 - inflan_ACCinflan: 1.0000 - nephr_ACCnephr: 1.0000 - val_loss: 0.2809 - val_inflan_loss: 0.1647 - val_nephr_loss: 0.1658 - val_inflan_ACCinflan: 1.0000 - val_nephr_ACCnephr: 1.0000\n",
      "Epoch 577/1000\n",
      "64/64 [==============================] - 0s 2ms/sample - loss: 0.2412 - inflan_loss: 0.1562 - nephr_loss: 0.1291 - inflan_ACCinflan: 1.0000 - nephr_ACCnephr: 1.0000 - val_loss: 0.2805 - val_inflan_loss: 0.1644 - val_nephr_loss: 0.1655 - val_inflan_ACCinflan: 1.0000 - val_nephr_ACCnephr: 1.0000\n",
      "Epoch 578/1000\n",
      "64/64 [==============================] - 0s 192us/sample - loss: 0.2408 - inflan_loss: 0.1560 - nephr_loss: 0.1289 - inflan_ACCinflan: 1.0000 - nephr_ACCnephr: 1.0000 - val_loss: 0.2801 - val_inflan_loss: 0.1642 - val_nephr_loss: 0.1653 - val_inflan_ACCinflan: 1.0000 - val_nephr_ACCnephr: 1.0000\n",
      "Epoch 579/1000\n",
      "64/64 [==============================] - 0s 1ms/sample - loss: 0.2404 - inflan_loss: 0.1558 - nephr_loss: 0.1286 - inflan_ACCinflan: 1.0000 - nephr_ACCnephr: 1.0000 - val_loss: 0.2797 - val_inflan_loss: 0.1640 - val_nephr_loss: 0.1650 - val_inflan_ACCinflan: 1.0000 - val_nephr_ACCnephr: 1.0000\n",
      "Epoch 580/1000\n",
      "64/64 [==============================] - 0s 2ms/sample - loss: 0.2400 - inflan_loss: 0.1555 - nephr_loss: 0.1284 - inflan_ACCinflan: 1.0000 - nephr_ACCnephr: 1.0000 - val_loss: 0.2793 - val_inflan_loss: 0.1638 - val_nephr_loss: 0.1648 - val_inflan_ACCinflan: 1.0000 - val_nephr_ACCnephr: 1.0000\n",
      "Epoch 581/1000\n",
      "64/64 [==============================] - 0s 193us/sample - loss: 0.2396 - inflan_loss: 0.1553 - nephr_loss: 0.1281 - inflan_ACCinflan: 1.0000 - nephr_ACCnephr: 1.0000 - val_loss: 0.2789 - val_inflan_loss: 0.1635 - val_nephr_loss: 0.1646 - val_inflan_ACCinflan: 1.0000 - val_nephr_ACCnephr: 1.0000\n",
      "Epoch 582/1000\n",
      "64/64 [==============================] - 0s 1ms/sample - loss: 0.2392 - inflan_loss: 0.1551 - nephr_loss: 0.1279 - inflan_ACCinflan: 1.0000 - nephr_ACCnephr: 1.0000 - val_loss: 0.2785 - val_inflan_loss: 0.1633 - val_nephr_loss: 0.1643 - val_inflan_ACCinflan: 1.0000 - val_nephr_ACCnephr: 1.0000\n",
      "Epoch 583/1000\n",
      "64/64 [==============================] - 0s 2ms/sample - loss: 0.2388 - inflan_loss: 0.1549 - nephr_loss: 0.1277 - inflan_ACCinflan: 1.0000 - nephr_ACCnephr: 1.0000 - val_loss: 0.2781 - val_inflan_loss: 0.1631 - val_nephr_loss: 0.1641 - val_inflan_ACCinflan: 1.0000 - val_nephr_ACCnephr: 1.0000\n",
      "Epoch 584/1000\n",
      "64/64 [==============================] - 0s 197us/sample - loss: 0.2384 - inflan_loss: 0.1547 - nephr_loss: 0.1274 - inflan_ACCinflan: 1.0000 - nephr_ACCnephr: 1.0000 - val_loss: 0.2777 - val_inflan_loss: 0.1629 - val_nephr_loss: 0.1638 - val_inflan_ACCinflan: 1.0000 - val_nephr_ACCnephr: 1.0000\n",
      "Epoch 585/1000\n",
      "64/64 [==============================] - 0s 196us/sample - loss: 0.2380 - inflan_loss: 0.1544 - nephr_loss: 0.1272 - inflan_ACCinflan: 1.0000 - nephr_ACCnephr: 1.0000 - val_loss: 0.2773 - val_inflan_loss: 0.1626 - val_nephr_loss: 0.1636 - val_inflan_ACCinflan: 1.0000 - val_nephr_ACCnephr: 1.0000\n",
      "Epoch 586/1000\n",
      "64/64 [==============================] - 0s 1ms/sample - loss: 0.2376 - inflan_loss: 0.1542 - nephr_loss: 0.1269 - inflan_ACCinflan: 1.0000 - nephr_ACCnephr: 1.0000 - val_loss: 0.2770 - val_inflan_loss: 0.1624 - val_nephr_loss: 0.1634 - val_inflan_ACCinflan: 1.0000 - val_nephr_ACCnephr: 1.0000\n",
      "Epoch 587/1000\n",
      "64/64 [==============================] - 0s 189us/sample - loss: 0.2372 - inflan_loss: 0.1540 - nephr_loss: 0.1267 - inflan_ACCinflan: 1.0000 - nephr_ACCnephr: 1.0000 - val_loss: 0.2766 - val_inflan_loss: 0.1622 - val_nephr_loss: 0.1631 - val_inflan_ACCinflan: 1.0000 - val_nephr_ACCnephr: 1.0000\n",
      "Epoch 588/1000\n",
      "64/64 [==============================] - 0s 1ms/sample - loss: 0.2368 - inflan_loss: 0.1538 - nephr_loss: 0.1265 - inflan_ACCinflan: 1.0000 - nephr_ACCnephr: 1.0000 - val_loss: 0.2762 - val_inflan_loss: 0.1620 - val_nephr_loss: 0.1629 - val_inflan_ACCinflan: 1.0000 - val_nephr_ACCnephr: 1.0000\n",
      "Epoch 589/1000\n",
      "64/64 [==============================] - 0s 2ms/sample - loss: 0.2364 - inflan_loss: 0.1535 - nephr_loss: 0.1262 - inflan_ACCinflan: 1.0000 - nephr_ACCnephr: 1.0000 - val_loss: 0.2758 - val_inflan_loss: 0.1617 - val_nephr_loss: 0.1627 - val_inflan_ACCinflan: 1.0000 - val_nephr_ACCnephr: 1.0000\n",
      "Epoch 590/1000\n",
      "64/64 [==============================] - 0s 1ms/sample - loss: 0.2361 - inflan_loss: 0.1533 - nephr_loss: 0.1260 - inflan_ACCinflan: 1.0000 - nephr_ACCnephr: 1.0000 - val_loss: 0.2754 - val_inflan_loss: 0.1615 - val_nephr_loss: 0.1624 - val_inflan_ACCinflan: 1.0000 - val_nephr_ACCnephr: 1.0000\n",
      "Epoch 591/1000\n",
      "64/64 [==============================] - 0s 193us/sample - loss: 0.2357 - inflan_loss: 0.1531 - nephr_loss: 0.1258 - inflan_ACCinflan: 1.0000 - nephr_ACCnephr: 1.0000 - val_loss: 0.2750 - val_inflan_loss: 0.1613 - val_nephr_loss: 0.1622 - val_inflan_ACCinflan: 1.0000 - val_nephr_ACCnephr: 1.0000\n",
      "Epoch 592/1000\n",
      "64/64 [==============================] - 0s 1ms/sample - loss: 0.2353 - inflan_loss: 0.1529 - nephr_loss: 0.1255 - inflan_ACCinflan: 1.0000 - nephr_ACCnephr: 1.0000 - val_loss: 0.2746 - val_inflan_loss: 0.1611 - val_nephr_loss: 0.1619 - val_inflan_ACCinflan: 1.0000 - val_nephr_ACCnephr: 1.0000\n",
      "Epoch 593/1000\n",
      "64/64 [==============================] - 0s 1ms/sample - loss: 0.2349 - inflan_loss: 0.1527 - nephr_loss: 0.1253 - inflan_ACCinflan: 1.0000 - nephr_ACCnephr: 1.0000 - val_loss: 0.2742 - val_inflan_loss: 0.1608 - val_nephr_loss: 0.1617 - val_inflan_ACCinflan: 1.0000 - val_nephr_ACCnephr: 1.0000\n"
     ]
    },
    {
     "name": "stdout",
     "output_type": "stream",
     "text": [
      "Epoch 594/1000\n",
      "64/64 [==============================] - 0s 186us/sample - loss: 0.2345 - inflan_loss: 0.1524 - nephr_loss: 0.1251 - inflan_ACCinflan: 1.0000 - nephr_ACCnephr: 1.0000 - val_loss: 0.2738 - val_inflan_loss: 0.1606 - val_nephr_loss: 0.1615 - val_inflan_ACCinflan: 1.0000 - val_nephr_ACCnephr: 1.0000\n",
      "Epoch 595/1000\n",
      "64/64 [==============================] - 0s 1ms/sample - loss: 0.2341 - inflan_loss: 0.1522 - nephr_loss: 0.1248 - inflan_ACCinflan: 1.0000 - nephr_ACCnephr: 1.0000 - val_loss: 0.2734 - val_inflan_loss: 0.1604 - val_nephr_loss: 0.1612 - val_inflan_ACCinflan: 1.0000 - val_nephr_ACCnephr: 1.0000\n",
      "Epoch 596/1000\n",
      "64/64 [==============================] - 0s 1ms/sample - loss: 0.2338 - inflan_loss: 0.1520 - nephr_loss: 0.1246 - inflan_ACCinflan: 1.0000 - nephr_ACCnephr: 1.0000 - val_loss: 0.2731 - val_inflan_loss: 0.1602 - val_nephr_loss: 0.1610 - val_inflan_ACCinflan: 1.0000 - val_nephr_ACCnephr: 1.0000\n",
      "Epoch 597/1000\n",
      "64/64 [==============================] - 0s 198us/sample - loss: 0.2334 - inflan_loss: 0.1518 - nephr_loss: 0.1244 - inflan_ACCinflan: 1.0000 - nephr_ACCnephr: 1.0000 - val_loss: 0.2727 - val_inflan_loss: 0.1600 - val_nephr_loss: 0.1608 - val_inflan_ACCinflan: 1.0000 - val_nephr_ACCnephr: 1.0000\n",
      "Epoch 598/1000\n",
      "64/64 [==============================] - 0s 1ms/sample - loss: 0.2330 - inflan_loss: 0.1516 - nephr_loss: 0.1242 - inflan_ACCinflan: 1.0000 - nephr_ACCnephr: 1.0000 - val_loss: 0.2723 - val_inflan_loss: 0.1597 - val_nephr_loss: 0.1605 - val_inflan_ACCinflan: 1.0000 - val_nephr_ACCnephr: 1.0000\n",
      "Epoch 599/1000\n",
      "64/64 [==============================] - 0s 1ms/sample - loss: 0.2326 - inflan_loss: 0.1514 - nephr_loss: 0.1239 - inflan_ACCinflan: 1.0000 - nephr_ACCnephr: 1.0000 - val_loss: 0.2719 - val_inflan_loss: 0.1595 - val_nephr_loss: 0.1603 - val_inflan_ACCinflan: 1.0000 - val_nephr_ACCnephr: 1.0000\n",
      "Epoch 600/1000\n",
      "64/64 [==============================] - 0s 194us/sample - loss: 0.2322 - inflan_loss: 0.1511 - nephr_loss: 0.1237 - inflan_ACCinflan: 1.0000 - nephr_ACCnephr: 1.0000 - val_loss: 0.2715 - val_inflan_loss: 0.1593 - val_nephr_loss: 0.1601 - val_inflan_ACCinflan: 1.0000 - val_nephr_ACCnephr: 1.0000\n",
      "Epoch 601/1000\n",
      "64/64 [==============================] - 0s 1ms/sample - loss: 0.2319 - inflan_loss: 0.1509 - nephr_loss: 0.1235 - inflan_ACCinflan: 1.0000 - nephr_ACCnephr: 1.0000 - val_loss: 0.2711 - val_inflan_loss: 0.1591 - val_nephr_loss: 0.1598 - val_inflan_ACCinflan: 1.0000 - val_nephr_ACCnephr: 1.0000\n",
      "Epoch 602/1000\n",
      "64/64 [==============================] - 0s 2ms/sample - loss: 0.2315 - inflan_loss: 0.1507 - nephr_loss: 0.1232 - inflan_ACCinflan: 1.0000 - nephr_ACCnephr: 1.0000 - val_loss: 0.2707 - val_inflan_loss: 0.1589 - val_nephr_loss: 0.1596 - val_inflan_ACCinflan: 1.0000 - val_nephr_ACCnephr: 1.0000\n",
      "Epoch 603/1000\n",
      "64/64 [==============================] - 0s 187us/sample - loss: 0.2311 - inflan_loss: 0.1505 - nephr_loss: 0.1230 - inflan_ACCinflan: 1.0000 - nephr_ACCnephr: 1.0000 - val_loss: 0.2704 - val_inflan_loss: 0.1587 - val_nephr_loss: 0.1594 - val_inflan_ACCinflan: 1.0000 - val_nephr_ACCnephr: 1.0000\n",
      "Epoch 604/1000\n",
      "64/64 [==============================] - 0s 1ms/sample - loss: 0.2308 - inflan_loss: 0.1503 - nephr_loss: 0.1228 - inflan_ACCinflan: 1.0000 - nephr_ACCnephr: 1.0000 - val_loss: 0.2700 - val_inflan_loss: 0.1584 - val_nephr_loss: 0.1592 - val_inflan_ACCinflan: 1.0000 - val_nephr_ACCnephr: 1.0000\n",
      "Epoch 605/1000\n",
      "64/64 [==============================] - 0s 2ms/sample - loss: 0.2304 - inflan_loss: 0.1501 - nephr_loss: 0.1226 - inflan_ACCinflan: 1.0000 - nephr_ACCnephr: 1.0000 - val_loss: 0.2696 - val_inflan_loss: 0.1582 - val_nephr_loss: 0.1589 - val_inflan_ACCinflan: 1.0000 - val_nephr_ACCnephr: 1.0000\n",
      "Epoch 606/1000\n",
      "64/64 [==============================] - 0s 197us/sample - loss: 0.2300 - inflan_loss: 0.1499 - nephr_loss: 0.1224 - inflan_ACCinflan: 1.0000 - nephr_ACCnephr: 1.0000 - val_loss: 0.2692 - val_inflan_loss: 0.1580 - val_nephr_loss: 0.1587 - val_inflan_ACCinflan: 1.0000 - val_nephr_ACCnephr: 1.0000\n",
      "Epoch 607/1000\n",
      "64/64 [==============================] - 0s 1ms/sample - loss: 0.2296 - inflan_loss: 0.1497 - nephr_loss: 0.1221 - inflan_ACCinflan: 1.0000 - nephr_ACCnephr: 1.0000 - val_loss: 0.2688 - val_inflan_loss: 0.1578 - val_nephr_loss: 0.1585 - val_inflan_ACCinflan: 1.0000 - val_nephr_ACCnephr: 1.0000\n",
      "Epoch 608/1000\n",
      "64/64 [==============================] - 0s 1ms/sample - loss: 0.2293 - inflan_loss: 0.1494 - nephr_loss: 0.1219 - inflan_ACCinflan: 1.0000 - nephr_ACCnephr: 1.0000 - val_loss: 0.2685 - val_inflan_loss: 0.1576 - val_nephr_loss: 0.1582 - val_inflan_ACCinflan: 1.0000 - val_nephr_ACCnephr: 1.0000\n",
      "Epoch 609/1000\n",
      "64/64 [==============================] - 0s 194us/sample - loss: 0.2289 - inflan_loss: 0.1492 - nephr_loss: 0.1217 - inflan_ACCinflan: 1.0000 - nephr_ACCnephr: 1.0000 - val_loss: 0.2681 - val_inflan_loss: 0.1574 - val_nephr_loss: 0.1580 - val_inflan_ACCinflan: 1.0000 - val_nephr_ACCnephr: 1.0000\n",
      "Epoch 610/1000\n",
      "64/64 [==============================] - 0s 1ms/sample - loss: 0.2285 - inflan_loss: 0.1490 - nephr_loss: 0.1215 - inflan_ACCinflan: 1.0000 - nephr_ACCnephr: 1.0000 - val_loss: 0.2677 - val_inflan_loss: 0.1571 - val_nephr_loss: 0.1578 - val_inflan_ACCinflan: 1.0000 - val_nephr_ACCnephr: 1.0000\n",
      "Epoch 611/1000\n",
      "64/64 [==============================] - 0s 1ms/sample - loss: 0.2282 - inflan_loss: 0.1488 - nephr_loss: 0.1212 - inflan_ACCinflan: 1.0000 - nephr_ACCnephr: 1.0000 - val_loss: 0.2673 - val_inflan_loss: 0.1569 - val_nephr_loss: 0.1576 - val_inflan_ACCinflan: 1.0000 - val_nephr_ACCnephr: 1.0000\n",
      "Epoch 612/1000\n",
      "64/64 [==============================] - 0s 195us/sample - loss: 0.2278 - inflan_loss: 0.1486 - nephr_loss: 0.1210 - inflan_ACCinflan: 1.0000 - nephr_ACCnephr: 1.0000 - val_loss: 0.2670 - val_inflan_loss: 0.1567 - val_nephr_loss: 0.1573 - val_inflan_ACCinflan: 1.0000 - val_nephr_ACCnephr: 1.0000\n",
      "Epoch 613/1000\n",
      "64/64 [==============================] - 0s 1ms/sample - loss: 0.2274 - inflan_loss: 0.1484 - nephr_loss: 0.1208 - inflan_ACCinflan: 1.0000 - nephr_ACCnephr: 1.0000 - val_loss: 0.2666 - val_inflan_loss: 0.1565 - val_nephr_loss: 0.1571 - val_inflan_ACCinflan: 1.0000 - val_nephr_ACCnephr: 1.0000\n",
      "Epoch 614/1000\n",
      "64/64 [==============================] - 0s 2ms/sample - loss: 0.2271 - inflan_loss: 0.1482 - nephr_loss: 0.1206 - inflan_ACCinflan: 1.0000 - nephr_ACCnephr: 1.0000 - val_loss: 0.2662 - val_inflan_loss: 0.1563 - val_nephr_loss: 0.1569 - val_inflan_ACCinflan: 1.0000 - val_nephr_ACCnephr: 1.0000\n",
      "Epoch 615/1000\n",
      "64/64 [==============================] - 0s 192us/sample - loss: 0.2267 - inflan_loss: 0.1480 - nephr_loss: 0.1204 - inflan_ACCinflan: 1.0000 - nephr_ACCnephr: 1.0000 - val_loss: 0.2658 - val_inflan_loss: 0.1561 - val_nephr_loss: 0.1567 - val_inflan_ACCinflan: 1.0000 - val_nephr_ACCnephr: 1.0000\n",
      "Epoch 616/1000\n",
      "64/64 [==============================] - 0s 1ms/sample - loss: 0.2264 - inflan_loss: 0.1478 - nephr_loss: 0.1202 - inflan_ACCinflan: 1.0000 - nephr_ACCnephr: 1.0000 - val_loss: 0.2655 - val_inflan_loss: 0.1559 - val_nephr_loss: 0.1564 - val_inflan_ACCinflan: 1.0000 - val_nephr_ACCnephr: 1.0000\n",
      "Epoch 617/1000\n",
      "64/64 [==============================] - 0s 1ms/sample - loss: 0.2260 - inflan_loss: 0.1476 - nephr_loss: 0.1199 - inflan_ACCinflan: 1.0000 - nephr_ACCnephr: 1.0000 - val_loss: 0.2651 - val_inflan_loss: 0.1556 - val_nephr_loss: 0.1562 - val_inflan_ACCinflan: 1.0000 - val_nephr_ACCnephr: 1.0000\n",
      "Epoch 618/1000\n",
      "64/64 [==============================] - 0s 203us/sample - loss: 0.2256 - inflan_loss: 0.1473 - nephr_loss: 0.1197 - inflan_ACCinflan: 1.0000 - nephr_ACCnephr: 1.0000 - val_loss: 0.2647 - val_inflan_loss: 0.1554 - val_nephr_loss: 0.1560 - val_inflan_ACCinflan: 1.0000 - val_nephr_ACCnephr: 1.0000\n",
      "Epoch 619/1000\n",
      "64/64 [==============================] - 0s 197us/sample - loss: 0.2253 - inflan_loss: 0.1471 - nephr_loss: 0.1195 - inflan_ACCinflan: 1.0000 - nephr_ACCnephr: 1.0000 - val_loss: 0.2644 - val_inflan_loss: 0.1552 - val_nephr_loss: 0.1558 - val_inflan_ACCinflan: 1.0000 - val_nephr_ACCnephr: 1.0000\n",
      "Epoch 620/1000\n",
      "64/64 [==============================] - 0s 2ms/sample - loss: 0.2249 - inflan_loss: 0.1469 - nephr_loss: 0.1193 - inflan_ACCinflan: 1.0000 - nephr_ACCnephr: 1.0000 - val_loss: 0.2640 - val_inflan_loss: 0.1550 - val_nephr_loss: 0.1555 - val_inflan_ACCinflan: 1.0000 - val_nephr_ACCnephr: 1.0000\n"
     ]
    },
    {
     "name": "stdout",
     "output_type": "stream",
     "text": [
      "Epoch 621/1000\n",
      "64/64 [==============================] - 0s 1ms/sample - loss: 0.2246 - inflan_loss: 0.1467 - nephr_loss: 0.1191 - inflan_ACCinflan: 1.0000 - nephr_ACCnephr: 1.0000 - val_loss: 0.2636 - val_inflan_loss: 0.1548 - val_nephr_loss: 0.1553 - val_inflan_ACCinflan: 1.0000 - val_nephr_ACCnephr: 1.0000\n",
      "Epoch 622/1000\n",
      "64/64 [==============================] - 0s 191us/sample - loss: 0.2242 - inflan_loss: 0.1465 - nephr_loss: 0.1189 - inflan_ACCinflan: 1.0000 - nephr_ACCnephr: 1.0000 - val_loss: 0.2633 - val_inflan_loss: 0.1546 - val_nephr_loss: 0.1551 - val_inflan_ACCinflan: 1.0000 - val_nephr_ACCnephr: 1.0000\n",
      "Epoch 623/1000\n",
      "64/64 [==============================] - 0s 2ms/sample - loss: 0.2238 - inflan_loss: 0.1463 - nephr_loss: 0.1187 - inflan_ACCinflan: 1.0000 - nephr_ACCnephr: 1.0000 - val_loss: 0.2629 - val_inflan_loss: 0.1544 - val_nephr_loss: 0.1549 - val_inflan_ACCinflan: 1.0000 - val_nephr_ACCnephr: 1.0000\n",
      "Epoch 624/1000\n",
      "64/64 [==============================] - 0s 1ms/sample - loss: 0.2235 - inflan_loss: 0.1461 - nephr_loss: 0.1185 - inflan_ACCinflan: 1.0000 - nephr_ACCnephr: 1.0000 - val_loss: 0.2625 - val_inflan_loss: 0.1542 - val_nephr_loss: 0.1547 - val_inflan_ACCinflan: 1.0000 - val_nephr_ACCnephr: 1.0000\n",
      "Epoch 625/1000\n",
      "64/64 [==============================] - 0s 198us/sample - loss: 0.2231 - inflan_loss: 0.1459 - nephr_loss: 0.1182 - inflan_ACCinflan: 1.0000 - nephr_ACCnephr: 1.0000 - val_loss: 0.2622 - val_inflan_loss: 0.1540 - val_nephr_loss: 0.1544 - val_inflan_ACCinflan: 1.0000 - val_nephr_ACCnephr: 1.0000\n",
      "Epoch 626/1000\n",
      "64/64 [==============================] - 0s 1ms/sample - loss: 0.2228 - inflan_loss: 0.1457 - nephr_loss: 0.1180 - inflan_ACCinflan: 1.0000 - nephr_ACCnephr: 1.0000 - val_loss: 0.2618 - val_inflan_loss: 0.1537 - val_nephr_loss: 0.1542 - val_inflan_ACCinflan: 1.0000 - val_nephr_ACCnephr: 1.0000\n",
      "Epoch 627/1000\n",
      "64/64 [==============================] - 0s 1ms/sample - loss: 0.2224 - inflan_loss: 0.1455 - nephr_loss: 0.1178 - inflan_ACCinflan: 1.0000 - nephr_ACCnephr: 1.0000 - val_loss: 0.2614 - val_inflan_loss: 0.1535 - val_nephr_loss: 0.1540 - val_inflan_ACCinflan: 1.0000 - val_nephr_ACCnephr: 1.0000\n",
      "Epoch 628/1000\n",
      "64/64 [==============================] - 0s 191us/sample - loss: 0.2221 - inflan_loss: 0.1453 - nephr_loss: 0.1176 - inflan_ACCinflan: 1.0000 - nephr_ACCnephr: 1.0000 - val_loss: 0.2611 - val_inflan_loss: 0.1533 - val_nephr_loss: 0.1538 - val_inflan_ACCinflan: 1.0000 - val_nephr_ACCnephr: 1.0000\n",
      "Epoch 629/1000\n",
      "64/64 [==============================] - 0s 1ms/sample - loss: 0.2217 - inflan_loss: 0.1451 - nephr_loss: 0.1174 - inflan_ACCinflan: 1.0000 - nephr_ACCnephr: 1.0000 - val_loss: 0.2607 - val_inflan_loss: 0.1531 - val_nephr_loss: 0.1536 - val_inflan_ACCinflan: 1.0000 - val_nephr_ACCnephr: 1.0000\n",
      "Epoch 630/1000\n",
      "64/64 [==============================] - 0s 1ms/sample - loss: 0.2214 - inflan_loss: 0.1449 - nephr_loss: 0.1172 - inflan_ACCinflan: 1.0000 - nephr_ACCnephr: 1.0000 - val_loss: 0.2603 - val_inflan_loss: 0.1529 - val_nephr_loss: 0.1533 - val_inflan_ACCinflan: 1.0000 - val_nephr_ACCnephr: 1.0000\n",
      "Epoch 631/1000\n",
      "64/64 [==============================] - 0s 197us/sample - loss: 0.2210 - inflan_loss: 0.1447 - nephr_loss: 0.1170 - inflan_ACCinflan: 1.0000 - nephr_ACCnephr: 1.0000 - val_loss: 0.2600 - val_inflan_loss: 0.1527 - val_nephr_loss: 0.1531 - val_inflan_ACCinflan: 1.0000 - val_nephr_ACCnephr: 1.0000\n",
      "Epoch 632/1000\n",
      "64/64 [==============================] - 0s 1ms/sample - loss: 0.2207 - inflan_loss: 0.1445 - nephr_loss: 0.1168 - inflan_ACCinflan: 1.0000 - nephr_ACCnephr: 1.0000 - val_loss: 0.2596 - val_inflan_loss: 0.1525 - val_nephr_loss: 0.1529 - val_inflan_ACCinflan: 1.0000 - val_nephr_ACCnephr: 1.0000\n",
      "Epoch 633/1000\n",
      "64/64 [==============================] - 0s 1ms/sample - loss: 0.2203 - inflan_loss: 0.1443 - nephr_loss: 0.1166 - inflan_ACCinflan: 1.0000 - nephr_ACCnephr: 1.0000 - val_loss: 0.2592 - val_inflan_loss: 0.1523 - val_nephr_loss: 0.1527 - val_inflan_ACCinflan: 1.0000 - val_nephr_ACCnephr: 1.0000\n",
      "Epoch 634/1000\n",
      "64/64 [==============================] - 0s 184us/sample - loss: 0.2200 - inflan_loss: 0.1441 - nephr_loss: 0.1164 - inflan_ACCinflan: 1.0000 - nephr_ACCnephr: 1.0000 - val_loss: 0.2589 - val_inflan_loss: 0.1521 - val_nephr_loss: 0.1525 - val_inflan_ACCinflan: 1.0000 - val_nephr_ACCnephr: 1.0000\n",
      "Epoch 635/1000\n",
      "64/64 [==============================] - 0s 1ms/sample - loss: 0.2196 - inflan_loss: 0.1439 - nephr_loss: 0.1162 - inflan_ACCinflan: 1.0000 - nephr_ACCnephr: 1.0000 - val_loss: 0.2585 - val_inflan_loss: 0.1519 - val_nephr_loss: 0.1523 - val_inflan_ACCinflan: 1.0000 - val_nephr_ACCnephr: 1.0000\n",
      "Epoch 636/1000\n",
      "64/64 [==============================] - 0s 1ms/sample - loss: 0.2193 - inflan_loss: 0.1437 - nephr_loss: 0.1160 - inflan_ACCinflan: 1.0000 - nephr_ACCnephr: 1.0000 - val_loss: 0.2582 - val_inflan_loss: 0.1517 - val_nephr_loss: 0.1520 - val_inflan_ACCinflan: 1.0000 - val_nephr_ACCnephr: 1.0000\n",
      "Epoch 637/1000\n",
      "64/64 [==============================] - 0s 188us/sample - loss: 0.2190 - inflan_loss: 0.1435 - nephr_loss: 0.1158 - inflan_ACCinflan: 1.0000 - nephr_ACCnephr: 1.0000 - val_loss: 0.2578 - val_inflan_loss: 0.1515 - val_nephr_loss: 0.1518 - val_inflan_ACCinflan: 1.0000 - val_nephr_ACCnephr: 1.0000\n",
      "Epoch 638/1000\n",
      "64/64 [==============================] - 0s 193us/sample - loss: 0.2186 - inflan_loss: 0.1433 - nephr_loss: 0.1156 - inflan_ACCinflan: 1.0000 - nephr_ACCnephr: 1.0000 - val_loss: 0.2575 - val_inflan_loss: 0.1513 - val_nephr_loss: 0.1516 - val_inflan_ACCinflan: 1.0000 - val_nephr_ACCnephr: 1.0000\n",
      "Epoch 639/1000\n",
      "64/64 [==============================] - 0s 1ms/sample - loss: 0.2183 - inflan_loss: 0.1431 - nephr_loss: 0.1154 - inflan_ACCinflan: 1.0000 - nephr_ACCnephr: 1.0000 - val_loss: 0.2571 - val_inflan_loss: 0.1511 - val_nephr_loss: 0.1514 - val_inflan_ACCinflan: 1.0000 - val_nephr_ACCnephr: 1.0000\n",
      "Epoch 640/1000\n",
      "64/64 [==============================] - 0s 182us/sample - loss: 0.2179 - inflan_loss: 0.1429 - nephr_loss: 0.1152 - inflan_ACCinflan: 1.0000 - nephr_ACCnephr: 1.0000 - val_loss: 0.2567 - val_inflan_loss: 0.1508 - val_nephr_loss: 0.1512 - val_inflan_ACCinflan: 1.0000 - val_nephr_ACCnephr: 1.0000\n",
      "Epoch 641/1000\n",
      "64/64 [==============================] - 0s 1ms/sample - loss: 0.2176 - inflan_loss: 0.1427 - nephr_loss: 0.1150 - inflan_ACCinflan: 1.0000 - nephr_ACCnephr: 1.0000 - val_loss: 0.2564 - val_inflan_loss: 0.1506 - val_nephr_loss: 0.1510 - val_inflan_ACCinflan: 1.0000 - val_nephr_ACCnephr: 1.0000\n",
      "Epoch 642/1000\n",
      "64/64 [==============================] - 0s 2ms/sample - loss: 0.2173 - inflan_loss: 0.1425 - nephr_loss: 0.1148 - inflan_ACCinflan: 1.0000 - nephr_ACCnephr: 1.0000 - val_loss: 0.2560 - val_inflan_loss: 0.1504 - val_nephr_loss: 0.1508 - val_inflan_ACCinflan: 1.0000 - val_nephr_ACCnephr: 1.0000\n",
      "Epoch 643/1000\n",
      "64/64 [==============================] - 0s 1ms/sample - loss: 0.2169 - inflan_loss: 0.1423 - nephr_loss: 0.1146 - inflan_ACCinflan: 1.0000 - nephr_ACCnephr: 1.0000 - val_loss: 0.2557 - val_inflan_loss: 0.1502 - val_nephr_loss: 0.1505 - val_inflan_ACCinflan: 1.0000 - val_nephr_ACCnephr: 1.0000\n",
      "Epoch 644/1000\n",
      "64/64 [==============================] - 0s 197us/sample - loss: 0.2166 - inflan_loss: 0.1421 - nephr_loss: 0.1144 - inflan_ACCinflan: 1.0000 - nephr_ACCnephr: 1.0000 - val_loss: 0.2553 - val_inflan_loss: 0.1500 - val_nephr_loss: 0.1503 - val_inflan_ACCinflan: 1.0000 - val_nephr_ACCnephr: 1.0000\n",
      "Epoch 645/1000\n",
      "64/64 [==============================] - 0s 1ms/sample - loss: 0.2162 - inflan_loss: 0.1419 - nephr_loss: 0.1142 - inflan_ACCinflan: 1.0000 - nephr_ACCnephr: 1.0000 - val_loss: 0.2550 - val_inflan_loss: 0.1498 - val_nephr_loss: 0.1501 - val_inflan_ACCinflan: 1.0000 - val_nephr_ACCnephr: 1.0000\n",
      "Epoch 646/1000\n",
      "64/64 [==============================] - 0s 1ms/sample - loss: 0.2159 - inflan_loss: 0.1417 - nephr_loss: 0.1140 - inflan_ACCinflan: 1.0000 - nephr_ACCnephr: 1.0000 - val_loss: 0.2546 - val_inflan_loss: 0.1496 - val_nephr_loss: 0.1499 - val_inflan_ACCinflan: 1.0000 - val_nephr_ACCnephr: 1.0000\n",
      "Epoch 647/1000\n",
      "64/64 [==============================] - 0s 193us/sample - loss: 0.2156 - inflan_loss: 0.1415 - nephr_loss: 0.1138 - inflan_ACCinflan: 1.0000 - nephr_ACCnephr: 1.0000 - val_loss: 0.2543 - val_inflan_loss: 0.1494 - val_nephr_loss: 0.1497 - val_inflan_ACCinflan: 1.0000 - val_nephr_ACCnephr: 1.0000\n"
     ]
    },
    {
     "name": "stdout",
     "output_type": "stream",
     "text": [
      "Epoch 648/1000\n",
      "64/64 [==============================] - 0s 1ms/sample - loss: 0.2152 - inflan_loss: 0.1413 - nephr_loss: 0.1136 - inflan_ACCinflan: 1.0000 - nephr_ACCnephr: 1.0000 - val_loss: 0.2539 - val_inflan_loss: 0.1492 - val_nephr_loss: 0.1495 - val_inflan_ACCinflan: 1.0000 - val_nephr_ACCnephr: 1.0000\n",
      "Epoch 649/1000\n",
      "64/64 [==============================] - 0s 1ms/sample - loss: 0.2149 - inflan_loss: 0.1411 - nephr_loss: 0.1134 - inflan_ACCinflan: 1.0000 - nephr_ACCnephr: 1.0000 - val_loss: 0.2536 - val_inflan_loss: 0.1490 - val_nephr_loss: 0.1493 - val_inflan_ACCinflan: 1.0000 - val_nephr_ACCnephr: 1.0000\n",
      "Epoch 650/1000\n",
      "64/64 [==============================] - 0s 190us/sample - loss: 0.2146 - inflan_loss: 0.1409 - nephr_loss: 0.1132 - inflan_ACCinflan: 1.0000 - nephr_ACCnephr: 1.0000 - val_loss: 0.2532 - val_inflan_loss: 0.1488 - val_nephr_loss: 0.1491 - val_inflan_ACCinflan: 1.0000 - val_nephr_ACCnephr: 1.0000\n",
      "Epoch 651/1000\n",
      "64/64 [==============================] - 0s 1ms/sample - loss: 0.2142 - inflan_loss: 0.1407 - nephr_loss: 0.1130 - inflan_ACCinflan: 1.0000 - nephr_ACCnephr: 1.0000 - val_loss: 0.2529 - val_inflan_loss: 0.1486 - val_nephr_loss: 0.1489 - val_inflan_ACCinflan: 1.0000 - val_nephr_ACCnephr: 1.0000\n",
      "Epoch 652/1000\n",
      "64/64 [==============================] - 0s 1ms/sample - loss: 0.2139 - inflan_loss: 0.1405 - nephr_loss: 0.1128 - inflan_ACCinflan: 1.0000 - nephr_ACCnephr: 1.0000 - val_loss: 0.2525 - val_inflan_loss: 0.1484 - val_nephr_loss: 0.1487 - val_inflan_ACCinflan: 1.0000 - val_nephr_ACCnephr: 1.0000\n",
      "Epoch 653/1000\n",
      "64/64 [==============================] - 0s 192us/sample - loss: 0.2136 - inflan_loss: 0.1403 - nephr_loss: 0.1126 - inflan_ACCinflan: 1.0000 - nephr_ACCnephr: 1.0000 - val_loss: 0.2522 - val_inflan_loss: 0.1482 - val_nephr_loss: 0.1484 - val_inflan_ACCinflan: 1.0000 - val_nephr_ACCnephr: 1.0000\n",
      "Epoch 654/1000\n",
      "64/64 [==============================] - 0s 1ms/sample - loss: 0.2133 - inflan_loss: 0.1401 - nephr_loss: 0.1124 - inflan_ACCinflan: 1.0000 - nephr_ACCnephr: 1.0000 - val_loss: 0.2518 - val_inflan_loss: 0.1480 - val_nephr_loss: 0.1482 - val_inflan_ACCinflan: 1.0000 - val_nephr_ACCnephr: 1.0000\n",
      "Epoch 655/1000\n",
      "64/64 [==============================] - 0s 2ms/sample - loss: 0.2129 - inflan_loss: 0.1399 - nephr_loss: 0.1122 - inflan_ACCinflan: 1.0000 - nephr_ACCnephr: 1.0000 - val_loss: 0.2515 - val_inflan_loss: 0.1478 - val_nephr_loss: 0.1480 - val_inflan_ACCinflan: 1.0000 - val_nephr_ACCnephr: 1.0000\n",
      "Epoch 656/1000\n",
      "64/64 [==============================] - 0s 189us/sample - loss: 0.2126 - inflan_loss: 0.1397 - nephr_loss: 0.1120 - inflan_ACCinflan: 1.0000 - nephr_ACCnephr: 1.0000 - val_loss: 0.2511 - val_inflan_loss: 0.1476 - val_nephr_loss: 0.1478 - val_inflan_ACCinflan: 1.0000 - val_nephr_ACCnephr: 1.0000\n",
      "Epoch 657/1000\n",
      "64/64 [==============================] - 0s 1ms/sample - loss: 0.2123 - inflan_loss: 0.1395 - nephr_loss: 0.1118 - inflan_ACCinflan: 1.0000 - nephr_ACCnephr: 1.0000 - val_loss: 0.2508 - val_inflan_loss: 0.1474 - val_nephr_loss: 0.1476 - val_inflan_ACCinflan: 1.0000 - val_nephr_ACCnephr: 1.0000\n",
      "Epoch 658/1000\n",
      "64/64 [==============================] - 0s 1ms/sample - loss: 0.2119 - inflan_loss: 0.1394 - nephr_loss: 0.1116 - inflan_ACCinflan: 1.0000 - nephr_ACCnephr: 1.0000 - val_loss: 0.2504 - val_inflan_loss: 0.1472 - val_nephr_loss: 0.1474 - val_inflan_ACCinflan: 1.0000 - val_nephr_ACCnephr: 1.0000\n",
      "Epoch 659/1000\n",
      "64/64 [==============================] - 0s 196us/sample - loss: 0.2116 - inflan_loss: 0.1392 - nephr_loss: 0.1114 - inflan_ACCinflan: 1.0000 - nephr_ACCnephr: 1.0000 - val_loss: 0.2501 - val_inflan_loss: 0.1470 - val_nephr_loss: 0.1472 - val_inflan_ACCinflan: 1.0000 - val_nephr_ACCnephr: 1.0000\n",
      "Epoch 660/1000\n",
      "64/64 [==============================] - 0s 1ms/sample - loss: 0.2113 - inflan_loss: 0.1390 - nephr_loss: 0.1112 - inflan_ACCinflan: 1.0000 - nephr_ACCnephr: 1.0000 - val_loss: 0.2498 - val_inflan_loss: 0.1468 - val_nephr_loss: 0.1470 - val_inflan_ACCinflan: 1.0000 - val_nephr_ACCnephr: 1.0000\n",
      "Epoch 661/1000\n",
      "64/64 [==============================] - 0s 2ms/sample - loss: 0.2110 - inflan_loss: 0.1388 - nephr_loss: 0.1111 - inflan_ACCinflan: 1.0000 - nephr_ACCnephr: 1.0000 - val_loss: 0.2494 - val_inflan_loss: 0.1466 - val_nephr_loss: 0.1468 - val_inflan_ACCinflan: 1.0000 - val_nephr_ACCnephr: 1.0000\n",
      "Epoch 662/1000\n",
      "64/64 [==============================] - 0s 194us/sample - loss: 0.2106 - inflan_loss: 0.1386 - nephr_loss: 0.1109 - inflan_ACCinflan: 1.0000 - nephr_ACCnephr: 1.0000 - val_loss: 0.2491 - val_inflan_loss: 0.1464 - val_nephr_loss: 0.1466 - val_inflan_ACCinflan: 1.0000 - val_nephr_ACCnephr: 1.0000\n",
      "Epoch 663/1000\n",
      "64/64 [==============================] - 0s 1ms/sample - loss: 0.2103 - inflan_loss: 0.1384 - nephr_loss: 0.1107 - inflan_ACCinflan: 1.0000 - nephr_ACCnephr: 1.0000 - val_loss: 0.2487 - val_inflan_loss: 0.1462 - val_nephr_loss: 0.1464 - val_inflan_ACCinflan: 1.0000 - val_nephr_ACCnephr: 1.0000\n",
      "Epoch 664/1000\n",
      "64/64 [==============================] - 0s 2ms/sample - loss: 0.2100 - inflan_loss: 0.1382 - nephr_loss: 0.1105 - inflan_ACCinflan: 1.0000 - nephr_ACCnephr: 1.0000 - val_loss: 0.2484 - val_inflan_loss: 0.1460 - val_nephr_loss: 0.1462 - val_inflan_ACCinflan: 1.0000 - val_nephr_ACCnephr: 1.0000\n",
      "Epoch 665/1000\n",
      "64/64 [==============================] - 0s 1ms/sample - loss: 0.2097 - inflan_loss: 0.1380 - nephr_loss: 0.1103 - inflan_ACCinflan: 1.0000 - nephr_ACCnephr: 1.0000 - val_loss: 0.2480 - val_inflan_loss: 0.1458 - val_nephr_loss: 0.1460 - val_inflan_ACCinflan: 1.0000 - val_nephr_ACCnephr: 1.0000\n",
      "Epoch 666/1000\n",
      "64/64 [==============================] - 0s 193us/sample - loss: 0.2094 - inflan_loss: 0.1378 - nephr_loss: 0.1101 - inflan_ACCinflan: 1.0000 - nephr_ACCnephr: 1.0000 - val_loss: 0.2477 - val_inflan_loss: 0.1456 - val_nephr_loss: 0.1458 - val_inflan_ACCinflan: 1.0000 - val_nephr_ACCnephr: 1.0000\n",
      "Epoch 667/1000\n",
      "64/64 [==============================] - 0s 2ms/sample - loss: 0.2090 - inflan_loss: 0.1376 - nephr_loss: 0.1099 - inflan_ACCinflan: 1.0000 - nephr_ACCnephr: 1.0000 - val_loss: 0.2474 - val_inflan_loss: 0.1454 - val_nephr_loss: 0.1456 - val_inflan_ACCinflan: 1.0000 - val_nephr_ACCnephr: 1.0000\n",
      "Epoch 668/1000\n",
      "64/64 [==============================] - 0s 181us/sample - loss: 0.2087 - inflan_loss: 0.1374 - nephr_loss: 0.1097 - inflan_ACCinflan: 1.0000 - nephr_ACCnephr: 1.0000 - val_loss: 0.2470 - val_inflan_loss: 0.1453 - val_nephr_loss: 0.1454 - val_inflan_ACCinflan: 1.0000 - val_nephr_ACCnephr: 1.0000\n",
      "Epoch 669/1000\n",
      "64/64 [==============================] - 0s 1ms/sample - loss: 0.2084 - inflan_loss: 0.1373 - nephr_loss: 0.1096 - inflan_ACCinflan: 1.0000 - nephr_ACCnephr: 1.0000 - val_loss: 0.2467 - val_inflan_loss: 0.1451 - val_nephr_loss: 0.1452 - val_inflan_ACCinflan: 1.0000 - val_nephr_ACCnephr: 1.0000\n",
      "Epoch 670/1000\n",
      "64/64 [==============================] - 0s 2ms/sample - loss: 0.2081 - inflan_loss: 0.1371 - nephr_loss: 0.1094 - inflan_ACCinflan: 1.0000 - nephr_ACCnephr: 1.0000 - val_loss: 0.2464 - val_inflan_loss: 0.1449 - val_nephr_loss: 0.1450 - val_inflan_ACCinflan: 1.0000 - val_nephr_ACCnephr: 1.0000\n",
      "Epoch 671/1000\n",
      "64/64 [==============================] - 0s 1ms/sample - loss: 0.2078 - inflan_loss: 0.1369 - nephr_loss: 0.1092 - inflan_ACCinflan: 1.0000 - nephr_ACCnephr: 1.0000 - val_loss: 0.2460 - val_inflan_loss: 0.1447 - val_nephr_loss: 0.1448 - val_inflan_ACCinflan: 1.0000 - val_nephr_ACCnephr: 1.0000\n",
      "Epoch 672/1000\n",
      "64/64 [==============================] - 0s 193us/sample - loss: 0.2075 - inflan_loss: 0.1367 - nephr_loss: 0.1090 - inflan_ACCinflan: 1.0000 - nephr_ACCnephr: 1.0000 - val_loss: 0.2457 - val_inflan_loss: 0.1445 - val_nephr_loss: 0.1446 - val_inflan_ACCinflan: 1.0000 - val_nephr_ACCnephr: 1.0000\n",
      "Epoch 673/1000\n",
      "64/64 [==============================] - 0s 192us/sample - loss: 0.2071 - inflan_loss: 0.1365 - nephr_loss: 0.1088 - inflan_ACCinflan: 1.0000 - nephr_ACCnephr: 1.0000 - val_loss: 0.2453 - val_inflan_loss: 0.1443 - val_nephr_loss: 0.1444 - val_inflan_ACCinflan: 1.0000 - val_nephr_ACCnephr: 1.0000\n",
      "Epoch 674/1000\n",
      "64/64 [==============================] - 0s 1ms/sample - loss: 0.2068 - inflan_loss: 0.1363 - nephr_loss: 0.1086 - inflan_ACCinflan: 1.0000 - nephr_ACCnephr: 1.0000 - val_loss: 0.2450 - val_inflan_loss: 0.1441 - val_nephr_loss: 0.1442 - val_inflan_ACCinflan: 1.0000 - val_nephr_ACCnephr: 1.0000\n"
     ]
    },
    {
     "name": "stdout",
     "output_type": "stream",
     "text": [
      "Epoch 675/1000\n",
      "64/64 [==============================] - 0s 194us/sample - loss: 0.2065 - inflan_loss: 0.1361 - nephr_loss: 0.1085 - inflan_ACCinflan: 1.0000 - nephr_ACCnephr: 1.0000 - val_loss: 0.2447 - val_inflan_loss: 0.1439 - val_nephr_loss: 0.1440 - val_inflan_ACCinflan: 1.0000 - val_nephr_ACCnephr: 1.0000\n",
      "Epoch 676/1000\n",
      "64/64 [==============================] - 0s 1ms/sample - loss: 0.2062 - inflan_loss: 0.1360 - nephr_loss: 0.1083 - inflan_ACCinflan: 1.0000 - nephr_ACCnephr: 1.0000 - val_loss: 0.2443 - val_inflan_loss: 0.1437 - val_nephr_loss: 0.1438 - val_inflan_ACCinflan: 1.0000 - val_nephr_ACCnephr: 1.0000\n",
      "Epoch 677/1000\n",
      "64/64 [==============================] - 0s 1ms/sample - loss: 0.2059 - inflan_loss: 0.1358 - nephr_loss: 0.1081 - inflan_ACCinflan: 1.0000 - nephr_ACCnephr: 1.0000 - val_loss: 0.2440 - val_inflan_loss: 0.1435 - val_nephr_loss: 0.1436 - val_inflan_ACCinflan: 1.0000 - val_nephr_ACCnephr: 1.0000\n",
      "Epoch 678/1000\n",
      "64/64 [==============================] - 0s 195us/sample - loss: 0.2056 - inflan_loss: 0.1356 - nephr_loss: 0.1079 - inflan_ACCinflan: 1.0000 - nephr_ACCnephr: 1.0000 - val_loss: 0.2437 - val_inflan_loss: 0.1433 - val_nephr_loss: 0.1434 - val_inflan_ACCinflan: 1.0000 - val_nephr_ACCnephr: 1.0000\n",
      "Epoch 679/1000\n",
      "64/64 [==============================] - 0s 187us/sample - loss: 0.2053 - inflan_loss: 0.1354 - nephr_loss: 0.1077 - inflan_ACCinflan: 1.0000 - nephr_ACCnephr: 1.0000 - val_loss: 0.2433 - val_inflan_loss: 0.1431 - val_nephr_loss: 0.1432 - val_inflan_ACCinflan: 1.0000 - val_nephr_ACCnephr: 1.0000\n",
      "Epoch 680/1000\n",
      "64/64 [==============================] - 0s 2ms/sample - loss: 0.2050 - inflan_loss: 0.1352 - nephr_loss: 0.1075 - inflan_ACCinflan: 1.0000 - nephr_ACCnephr: 1.0000 - val_loss: 0.2430 - val_inflan_loss: 0.1429 - val_nephr_loss: 0.1430 - val_inflan_ACCinflan: 1.0000 - val_nephr_ACCnephr: 1.0000\n",
      "Epoch 681/1000\n",
      "64/64 [==============================] - 0s 188us/sample - loss: 0.2047 - inflan_loss: 0.1350 - nephr_loss: 0.1074 - inflan_ACCinflan: 1.0000 - nephr_ACCnephr: 1.0000 - val_loss: 0.2427 - val_inflan_loss: 0.1427 - val_nephr_loss: 0.1428 - val_inflan_ACCinflan: 1.0000 - val_nephr_ACCnephr: 1.0000\n",
      "Epoch 682/1000\n",
      "64/64 [==============================] - 0s 1ms/sample - loss: 0.2043 - inflan_loss: 0.1348 - nephr_loss: 0.1072 - inflan_ACCinflan: 1.0000 - nephr_ACCnephr: 1.0000 - val_loss: 0.2424 - val_inflan_loss: 0.1426 - val_nephr_loss: 0.1426 - val_inflan_ACCinflan: 1.0000 - val_nephr_ACCnephr: 1.0000\n",
      "Epoch 683/1000\n",
      "64/64 [==============================] - 0s 2ms/sample - loss: 0.2040 - inflan_loss: 0.1347 - nephr_loss: 0.1070 - inflan_ACCinflan: 1.0000 - nephr_ACCnephr: 1.0000 - val_loss: 0.2420 - val_inflan_loss: 0.1424 - val_nephr_loss: 0.1424 - val_inflan_ACCinflan: 1.0000 - val_nephr_ACCnephr: 1.0000\n",
      "Epoch 684/1000\n",
      "64/64 [==============================] - 0s 1ms/sample - loss: 0.2037 - inflan_loss: 0.1345 - nephr_loss: 0.1068 - inflan_ACCinflan: 1.0000 - nephr_ACCnephr: 1.0000 - val_loss: 0.2417 - val_inflan_loss: 0.1422 - val_nephr_loss: 0.1422 - val_inflan_ACCinflan: 1.0000 - val_nephr_ACCnephr: 1.0000\n",
      "Epoch 685/1000\n",
      "64/64 [==============================] - 0s 187us/sample - loss: 0.2034 - inflan_loss: 0.1343 - nephr_loss: 0.1067 - inflan_ACCinflan: 1.0000 - nephr_ACCnephr: 1.0000 - val_loss: 0.2414 - val_inflan_loss: 0.1420 - val_nephr_loss: 0.1420 - val_inflan_ACCinflan: 1.0000 - val_nephr_ACCnephr: 1.0000\n",
      "Epoch 686/1000\n",
      "64/64 [==============================] - 0s 1ms/sample - loss: 0.2031 - inflan_loss: 0.1341 - nephr_loss: 0.1065 - inflan_ACCinflan: 1.0000 - nephr_ACCnephr: 1.0000 - val_loss: 0.2410 - val_inflan_loss: 0.1418 - val_nephr_loss: 0.1418 - val_inflan_ACCinflan: 1.0000 - val_nephr_ACCnephr: 1.0000\n",
      "Epoch 687/1000\n",
      "64/64 [==============================] - 0s 1ms/sample - loss: 0.2028 - inflan_loss: 0.1339 - nephr_loss: 0.1063 - inflan_ACCinflan: 1.0000 - nephr_ACCnephr: 1.0000 - val_loss: 0.2407 - val_inflan_loss: 0.1416 - val_nephr_loss: 0.1416 - val_inflan_ACCinflan: 1.0000 - val_nephr_ACCnephr: 1.0000\n",
      "Epoch 688/1000\n",
      "64/64 [==============================] - 0s 192us/sample - loss: 0.2025 - inflan_loss: 0.1337 - nephr_loss: 0.1061 - inflan_ACCinflan: 1.0000 - nephr_ACCnephr: 1.0000 - val_loss: 0.2404 - val_inflan_loss: 0.1414 - val_nephr_loss: 0.1414 - val_inflan_ACCinflan: 1.0000 - val_nephr_ACCnephr: 1.0000\n",
      "Epoch 689/1000\n",
      "64/64 [==============================] - 0s 2ms/sample - loss: 0.2022 - inflan_loss: 0.1336 - nephr_loss: 0.1059 - inflan_ACCinflan: 1.0000 - nephr_ACCnephr: 1.0000 - val_loss: 0.2401 - val_inflan_loss: 0.1412 - val_nephr_loss: 0.1412 - val_inflan_ACCinflan: 1.0000 - val_nephr_ACCnephr: 1.0000\n",
      "Epoch 690/1000\n",
      "64/64 [==============================] - 0s 1ms/sample - loss: 0.2019 - inflan_loss: 0.1334 - nephr_loss: 0.1058 - inflan_ACCinflan: 1.0000 - nephr_ACCnephr: 1.0000 - val_loss: 0.2397 - val_inflan_loss: 0.1410 - val_nephr_loss: 0.1410 - val_inflan_ACCinflan: 1.0000 - val_nephr_ACCnephr: 1.0000\n",
      "Epoch 691/1000\n",
      "64/64 [==============================] - 0s 191us/sample - loss: 0.2016 - inflan_loss: 0.1332 - nephr_loss: 0.1056 - inflan_ACCinflan: 1.0000 - nephr_ACCnephr: 1.0000 - val_loss: 0.2394 - val_inflan_loss: 0.1408 - val_nephr_loss: 0.1408 - val_inflan_ACCinflan: 1.0000 - val_nephr_ACCnephr: 1.0000\n",
      "Epoch 692/1000\n",
      "64/64 [==============================] - 0s 2ms/sample - loss: 0.2013 - inflan_loss: 0.1330 - nephr_loss: 0.1054 - inflan_ACCinflan: 1.0000 - nephr_ACCnephr: 1.0000 - val_loss: 0.2391 - val_inflan_loss: 0.1407 - val_nephr_loss: 0.1406 - val_inflan_ACCinflan: 1.0000 - val_nephr_ACCnephr: 1.0000\n",
      "Epoch 693/1000\n",
      "64/64 [==============================] - 0s 1ms/sample - loss: 0.2010 - inflan_loss: 0.1328 - nephr_loss: 0.1052 - inflan_ACCinflan: 1.0000 - nephr_ACCnephr: 1.0000 - val_loss: 0.2388 - val_inflan_loss: 0.1405 - val_nephr_loss: 0.1404 - val_inflan_ACCinflan: 1.0000 - val_nephr_ACCnephr: 1.0000\n",
      "Epoch 694/1000\n",
      "64/64 [==============================] - 0s 222us/sample - loss: 0.2007 - inflan_loss: 0.1327 - nephr_loss: 0.1051 - inflan_ACCinflan: 1.0000 - nephr_ACCnephr: 1.0000 - val_loss: 0.2384 - val_inflan_loss: 0.1403 - val_nephr_loss: 0.1402 - val_inflan_ACCinflan: 1.0000 - val_nephr_ACCnephr: 1.0000\n",
      "Epoch 695/1000\n",
      "64/64 [==============================] - 0s 1ms/sample - loss: 0.2004 - inflan_loss: 0.1325 - nephr_loss: 0.1049 - inflan_ACCinflan: 1.0000 - nephr_ACCnephr: 1.0000 - val_loss: 0.2381 - val_inflan_loss: 0.1401 - val_nephr_loss: 0.1400 - val_inflan_ACCinflan: 1.0000 - val_nephr_ACCnephr: 1.0000\n",
      "Epoch 696/1000\n",
      "64/64 [==============================] - 0s 2ms/sample - loss: 0.2001 - inflan_loss: 0.1323 - nephr_loss: 0.1047 - inflan_ACCinflan: 1.0000 - nephr_ACCnephr: 1.0000 - val_loss: 0.2378 - val_inflan_loss: 0.1399 - val_nephr_loss: 0.1399 - val_inflan_ACCinflan: 1.0000 - val_nephr_ACCnephr: 1.0000\n",
      "Epoch 697/1000\n",
      "64/64 [==============================] - 0s 1ms/sample - loss: 0.1998 - inflan_loss: 0.1321 - nephr_loss: 0.1046 - inflan_ACCinflan: 1.0000 - nephr_ACCnephr: 1.0000 - val_loss: 0.2375 - val_inflan_loss: 0.1397 - val_nephr_loss: 0.1397 - val_inflan_ACCinflan: 1.0000 - val_nephr_ACCnephr: 1.0000\n",
      "Epoch 698/1000\n",
      "64/64 [==============================] - 0s 222us/sample - loss: 0.1995 - inflan_loss: 0.1319 - nephr_loss: 0.1044 - inflan_ACCinflan: 1.0000 - nephr_ACCnephr: 1.0000 - val_loss: 0.2372 - val_inflan_loss: 0.1395 - val_nephr_loss: 0.1395 - val_inflan_ACCinflan: 1.0000 - val_nephr_ACCnephr: 1.0000\n",
      "Epoch 699/1000\n",
      "64/64 [==============================] - 0s 1ms/sample - loss: 0.1992 - inflan_loss: 0.1318 - nephr_loss: 0.1042 - inflan_ACCinflan: 1.0000 - nephr_ACCnephr: 1.0000 - val_loss: 0.2368 - val_inflan_loss: 0.1394 - val_nephr_loss: 0.1393 - val_inflan_ACCinflan: 1.0000 - val_nephr_ACCnephr: 1.0000\n",
      "Epoch 700/1000\n",
      "64/64 [==============================] - 0s 1ms/sample - loss: 0.1989 - inflan_loss: 0.1316 - nephr_loss: 0.1040 - inflan_ACCinflan: 1.0000 - nephr_ACCnephr: 1.0000 - val_loss: 0.2365 - val_inflan_loss: 0.1392 - val_nephr_loss: 0.1391 - val_inflan_ACCinflan: 1.0000 - val_nephr_ACCnephr: 1.0000\n",
      "Epoch 701/1000\n",
      "64/64 [==============================] - 0s 218us/sample - loss: 0.1986 - inflan_loss: 0.1314 - nephr_loss: 0.1039 - inflan_ACCinflan: 1.0000 - nephr_ACCnephr: 1.0000 - val_loss: 0.2362 - val_inflan_loss: 0.1390 - val_nephr_loss: 0.1389 - val_inflan_ACCinflan: 1.0000 - val_nephr_ACCnephr: 1.0000\n"
     ]
    },
    {
     "name": "stdout",
     "output_type": "stream",
     "text": [
      "Epoch 702/1000\n",
      "64/64 [==============================] - 0s 1ms/sample - loss: 0.1983 - inflan_loss: 0.1312 - nephr_loss: 0.1037 - inflan_ACCinflan: 1.0000 - nephr_ACCnephr: 1.0000 - val_loss: 0.2359 - val_inflan_loss: 0.1388 - val_nephr_loss: 0.1387 - val_inflan_ACCinflan: 1.0000 - val_nephr_ACCnephr: 1.0000\n",
      "Epoch 703/1000\n",
      "64/64 [==============================] - 0s 2ms/sample - loss: 0.1980 - inflan_loss: 0.1311 - nephr_loss: 0.1035 - inflan_ACCinflan: 1.0000 - nephr_ACCnephr: 1.0000 - val_loss: 0.2356 - val_inflan_loss: 0.1386 - val_nephr_loss: 0.1385 - val_inflan_ACCinflan: 1.0000 - val_nephr_ACCnephr: 1.0000\n",
      "Epoch 704/1000\n",
      "64/64 [==============================] - 0s 1ms/sample - loss: 0.1977 - inflan_loss: 0.1309 - nephr_loss: 0.1034 - inflan_ACCinflan: 1.0000 - nephr_ACCnephr: 1.0000 - val_loss: 0.2352 - val_inflan_loss: 0.1384 - val_nephr_loss: 0.1383 - val_inflan_ACCinflan: 1.0000 - val_nephr_ACCnephr: 1.0000\n",
      "Epoch 705/1000\n",
      "64/64 [==============================] - 0s 214us/sample - loss: 0.1974 - inflan_loss: 0.1307 - nephr_loss: 0.1032 - inflan_ACCinflan: 1.0000 - nephr_ACCnephr: 1.0000 - val_loss: 0.2349 - val_inflan_loss: 0.1382 - val_nephr_loss: 0.1381 - val_inflan_ACCinflan: 1.0000 - val_nephr_ACCnephr: 1.0000\n",
      "Epoch 706/1000\n",
      "64/64 [==============================] - 0s 1ms/sample - loss: 0.1972 - inflan_loss: 0.1305 - nephr_loss: 0.1030 - inflan_ACCinflan: 1.0000 - nephr_ACCnephr: 1.0000 - val_loss: 0.2346 - val_inflan_loss: 0.1381 - val_nephr_loss: 0.1380 - val_inflan_ACCinflan: 1.0000 - val_nephr_ACCnephr: 1.0000\n",
      "Epoch 707/1000\n",
      "64/64 [==============================] - 0s 2ms/sample - loss: 0.1969 - inflan_loss: 0.1304 - nephr_loss: 0.1029 - inflan_ACCinflan: 1.0000 - nephr_ACCnephr: 1.0000 - val_loss: 0.2343 - val_inflan_loss: 0.1379 - val_nephr_loss: 0.1378 - val_inflan_ACCinflan: 1.0000 - val_nephr_ACCnephr: 1.0000\n",
      "Epoch 708/1000\n",
      "64/64 [==============================] - 0s 193us/sample - loss: 0.1966 - inflan_loss: 0.1302 - nephr_loss: 0.1027 - inflan_ACCinflan: 1.0000 - nephr_ACCnephr: 1.0000 - val_loss: 0.2340 - val_inflan_loss: 0.1377 - val_nephr_loss: 0.1376 - val_inflan_ACCinflan: 1.0000 - val_nephr_ACCnephr: 1.0000\n",
      "Epoch 709/1000\n",
      "64/64 [==============================] - 0s 192us/sample - loss: 0.1963 - inflan_loss: 0.1300 - nephr_loss: 0.1025 - inflan_ACCinflan: 1.0000 - nephr_ACCnephr: 1.0000 - val_loss: 0.2337 - val_inflan_loss: 0.1375 - val_nephr_loss: 0.1374 - val_inflan_ACCinflan: 1.0000 - val_nephr_ACCnephr: 1.0000\n",
      "Epoch 710/1000\n",
      "64/64 [==============================] - 0s 2ms/sample - loss: 0.1960 - inflan_loss: 0.1298 - nephr_loss: 0.1024 - inflan_ACCinflan: 1.0000 - nephr_ACCnephr: 1.0000 - val_loss: 0.2334 - val_inflan_loss: 0.1373 - val_nephr_loss: 0.1372 - val_inflan_ACCinflan: 1.0000 - val_nephr_ACCnephr: 1.0000\n",
      "Epoch 711/1000\n",
      "64/64 [==============================] - 0s 199us/sample - loss: 0.1957 - inflan_loss: 0.1297 - nephr_loss: 0.1022 - inflan_ACCinflan: 1.0000 - nephr_ACCnephr: 1.0000 - val_loss: 0.2330 - val_inflan_loss: 0.1372 - val_nephr_loss: 0.1370 - val_inflan_ACCinflan: 1.0000 - val_nephr_ACCnephr: 1.0000\n",
      "Epoch 712/1000\n",
      "64/64 [==============================] - 0s 1ms/sample - loss: 0.1954 - inflan_loss: 0.1295 - nephr_loss: 0.1020 - inflan_ACCinflan: 1.0000 - nephr_ACCnephr: 1.0000 - val_loss: 0.2327 - val_inflan_loss: 0.1370 - val_nephr_loss: 0.1368 - val_inflan_ACCinflan: 1.0000 - val_nephr_ACCnephr: 1.0000\n",
      "Epoch 713/1000\n",
      "64/64 [==============================] - 0s 2ms/sample - loss: 0.1951 - inflan_loss: 0.1293 - nephr_loss: 0.1019 - inflan_ACCinflan: 1.0000 - nephr_ACCnephr: 1.0000 - val_loss: 0.2324 - val_inflan_loss: 0.1368 - val_nephr_loss: 0.1367 - val_inflan_ACCinflan: 1.0000 - val_nephr_ACCnephr: 1.0000\n",
      "Epoch 714/1000\n",
      "64/64 [==============================] - 0s 1ms/sample - loss: 0.1948 - inflan_loss: 0.1291 - nephr_loss: 0.1017 - inflan_ACCinflan: 1.0000 - nephr_ACCnephr: 1.0000 - val_loss: 0.2321 - val_inflan_loss: 0.1366 - val_nephr_loss: 0.1365 - val_inflan_ACCinflan: 1.0000 - val_nephr_ACCnephr: 1.0000\n",
      "Epoch 715/1000\n",
      "64/64 [==============================] - 0s 189us/sample - loss: 0.1946 - inflan_loss: 0.1290 - nephr_loss: 0.1015 - inflan_ACCinflan: 1.0000 - nephr_ACCnephr: 1.0000 - val_loss: 0.2318 - val_inflan_loss: 0.1364 - val_nephr_loss: 0.1363 - val_inflan_ACCinflan: 1.0000 - val_nephr_ACCnephr: 1.0000\n",
      "Epoch 716/1000\n",
      "64/64 [==============================] - 0s 1ms/sample - loss: 0.1943 - inflan_loss: 0.1288 - nephr_loss: 0.1014 - inflan_ACCinflan: 1.0000 - nephr_ACCnephr: 1.0000 - val_loss: 0.2315 - val_inflan_loss: 0.1362 - val_nephr_loss: 0.1361 - val_inflan_ACCinflan: 1.0000 - val_nephr_ACCnephr: 1.0000\n",
      "Epoch 717/1000\n",
      "64/64 [==============================] - 0s 1ms/sample - loss: 0.1940 - inflan_loss: 0.1286 - nephr_loss: 0.1012 - inflan_ACCinflan: 1.0000 - nephr_ACCnephr: 1.0000 - val_loss: 0.2312 - val_inflan_loss: 0.1361 - val_nephr_loss: 0.1359 - val_inflan_ACCinflan: 1.0000 - val_nephr_ACCnephr: 1.0000\n",
      "Epoch 718/1000\n",
      "64/64 [==============================] - 0s 190us/sample - loss: 0.1937 - inflan_loss: 0.1284 - nephr_loss: 0.1010 - inflan_ACCinflan: 1.0000 - nephr_ACCnephr: 1.0000 - val_loss: 0.2309 - val_inflan_loss: 0.1359 - val_nephr_loss: 0.1357 - val_inflan_ACCinflan: 1.0000 - val_nephr_ACCnephr: 1.0000\n",
      "Epoch 719/1000\n",
      "64/64 [==============================] - 0s 2ms/sample - loss: 0.1934 - inflan_loss: 0.1283 - nephr_loss: 0.1009 - inflan_ACCinflan: 1.0000 - nephr_ACCnephr: 1.0000 - val_loss: 0.2306 - val_inflan_loss: 0.1357 - val_nephr_loss: 0.1355 - val_inflan_ACCinflan: 1.0000 - val_nephr_ACCnephr: 1.0000\n",
      "Epoch 720/1000\n",
      "64/64 [==============================] - 0s 1ms/sample - loss: 0.1931 - inflan_loss: 0.1281 - nephr_loss: 0.1007 - inflan_ACCinflan: 1.0000 - nephr_ACCnephr: 1.0000 - val_loss: 0.2302 - val_inflan_loss: 0.1355 - val_nephr_loss: 0.1354 - val_inflan_ACCinflan: 1.0000 - val_nephr_ACCnephr: 1.0000\n",
      "Epoch 721/1000\n",
      "64/64 [==============================] - 0s 194us/sample - loss: 0.1929 - inflan_loss: 0.1279 - nephr_loss: 0.1006 - inflan_ACCinflan: 1.0000 - nephr_ACCnephr: 1.0000 - val_loss: 0.2299 - val_inflan_loss: 0.1353 - val_nephr_loss: 0.1352 - val_inflan_ACCinflan: 1.0000 - val_nephr_ACCnephr: 1.0000\n",
      "Epoch 722/1000\n",
      "64/64 [==============================] - 0s 1ms/sample - loss: 0.1926 - inflan_loss: 0.1278 - nephr_loss: 0.1004 - inflan_ACCinflan: 1.0000 - nephr_ACCnephr: 1.0000 - val_loss: 0.2296 - val_inflan_loss: 0.1352 - val_nephr_loss: 0.1350 - val_inflan_ACCinflan: 1.0000 - val_nephr_ACCnephr: 1.0000\n",
      "Epoch 723/1000\n",
      "64/64 [==============================] - 0s 1ms/sample - loss: 0.1923 - inflan_loss: 0.1276 - nephr_loss: 0.1002 - inflan_ACCinflan: 1.0000 - nephr_ACCnephr: 1.0000 - val_loss: 0.2293 - val_inflan_loss: 0.1350 - val_nephr_loss: 0.1348 - val_inflan_ACCinflan: 1.0000 - val_nephr_ACCnephr: 1.0000\n",
      "Epoch 724/1000\n",
      "64/64 [==============================] - 0s 197us/sample - loss: 0.1920 - inflan_loss: 0.1274 - nephr_loss: 0.1001 - inflan_ACCinflan: 1.0000 - nephr_ACCnephr: 1.0000 - val_loss: 0.2290 - val_inflan_loss: 0.1348 - val_nephr_loss: 0.1346 - val_inflan_ACCinflan: 1.0000 - val_nephr_ACCnephr: 1.0000\n",
      "Epoch 725/1000\n",
      "64/64 [==============================] - 0s 182us/sample - loss: 0.1917 - inflan_loss: 0.1273 - nephr_loss: 0.0999 - inflan_ACCinflan: 1.0000 - nephr_ACCnephr: 1.0000 - val_loss: 0.2287 - val_inflan_loss: 0.1346 - val_nephr_loss: 0.1345 - val_inflan_ACCinflan: 1.0000 - val_nephr_ACCnephr: 1.0000\n",
      "Epoch 726/1000\n",
      "64/64 [==============================] - 0s 1ms/sample - loss: 0.1914 - inflan_loss: 0.1271 - nephr_loss: 0.0998 - inflan_ACCinflan: 1.0000 - nephr_ACCnephr: 1.0000 - val_loss: 0.2284 - val_inflan_loss: 0.1345 - val_nephr_loss: 0.1343 - val_inflan_ACCinflan: 1.0000 - val_nephr_ACCnephr: 1.0000\n",
      "Epoch 727/1000\n",
      "64/64 [==============================] - 0s 194us/sample - loss: 0.1912 - inflan_loss: 0.1269 - nephr_loss: 0.0996 - inflan_ACCinflan: 1.0000 - nephr_ACCnephr: 1.0000 - val_loss: 0.2281 - val_inflan_loss: 0.1343 - val_nephr_loss: 0.1341 - val_inflan_ACCinflan: 1.0000 - val_nephr_ACCnephr: 1.0000\n",
      "Epoch 728/1000\n",
      "64/64 [==============================] - 0s 199us/sample - loss: 0.1909 - inflan_loss: 0.1267 - nephr_loss: 0.0994 - inflan_ACCinflan: 1.0000 - nephr_ACCnephr: 1.0000 - val_loss: 0.2278 - val_inflan_loss: 0.1341 - val_nephr_loss: 0.1339 - val_inflan_ACCinflan: 1.0000 - val_nephr_ACCnephr: 1.0000\n"
     ]
    },
    {
     "name": "stdout",
     "output_type": "stream",
     "text": [
      "Epoch 729/1000\n",
      "64/64 [==============================] - 0s 1ms/sample - loss: 0.1906 - inflan_loss: 0.1266 - nephr_loss: 0.0993 - inflan_ACCinflan: 1.0000 - nephr_ACCnephr: 1.0000 - val_loss: 0.2275 - val_inflan_loss: 0.1339 - val_nephr_loss: 0.1337 - val_inflan_ACCinflan: 1.0000 - val_nephr_ACCnephr: 1.0000\n",
      "Epoch 730/1000\n",
      "64/64 [==============================] - 0s 190us/sample - loss: 0.1903 - inflan_loss: 0.1264 - nephr_loss: 0.0991 - inflan_ACCinflan: 1.0000 - nephr_ACCnephr: 1.0000 - val_loss: 0.2272 - val_inflan_loss: 0.1337 - val_nephr_loss: 0.1336 - val_inflan_ACCinflan: 1.0000 - val_nephr_ACCnephr: 1.0000\n",
      "Epoch 731/1000\n",
      "64/64 [==============================] - 0s 1ms/sample - loss: 0.1901 - inflan_loss: 0.1262 - nephr_loss: 0.0990 - inflan_ACCinflan: 1.0000 - nephr_ACCnephr: 1.0000 - val_loss: 0.2269 - val_inflan_loss: 0.1336 - val_nephr_loss: 0.1334 - val_inflan_ACCinflan: 1.0000 - val_nephr_ACCnephr: 1.0000\n",
      "Epoch 732/1000\n",
      "64/64 [==============================] - 0s 2ms/sample - loss: 0.1898 - inflan_loss: 0.1261 - nephr_loss: 0.0988 - inflan_ACCinflan: 1.0000 - nephr_ACCnephr: 1.0000 - val_loss: 0.2266 - val_inflan_loss: 0.1334 - val_nephr_loss: 0.1332 - val_inflan_ACCinflan: 1.0000 - val_nephr_ACCnephr: 1.0000\n",
      "Epoch 733/1000\n",
      "64/64 [==============================] - 0s 1ms/sample - loss: 0.1895 - inflan_loss: 0.1259 - nephr_loss: 0.0987 - inflan_ACCinflan: 1.0000 - nephr_ACCnephr: 1.0000 - val_loss: 0.2263 - val_inflan_loss: 0.1332 - val_nephr_loss: 0.1330 - val_inflan_ACCinflan: 1.0000 - val_nephr_ACCnephr: 1.0000\n",
      "Epoch 734/1000\n",
      "64/64 [==============================] - 0s 191us/sample - loss: 0.1892 - inflan_loss: 0.1257 - nephr_loss: 0.0985 - inflan_ACCinflan: 1.0000 - nephr_ACCnephr: 1.0000 - val_loss: 0.2260 - val_inflan_loss: 0.1330 - val_nephr_loss: 0.1328 - val_inflan_ACCinflan: 1.0000 - val_nephr_ACCnephr: 1.0000\n",
      "Epoch 735/1000\n",
      "64/64 [==============================] - 0s 1ms/sample - loss: 0.1890 - inflan_loss: 0.1256 - nephr_loss: 0.0983 - inflan_ACCinflan: 1.0000 - nephr_ACCnephr: 1.0000 - val_loss: 0.2257 - val_inflan_loss: 0.1329 - val_nephr_loss: 0.1327 - val_inflan_ACCinflan: 1.0000 - val_nephr_ACCnephr: 1.0000\n",
      "Epoch 736/1000\n",
      "64/64 [==============================] - 0s 1ms/sample - loss: 0.1887 - inflan_loss: 0.1254 - nephr_loss: 0.0982 - inflan_ACCinflan: 1.0000 - nephr_ACCnephr: 1.0000 - val_loss: 0.2254 - val_inflan_loss: 0.1327 - val_nephr_loss: 0.1325 - val_inflan_ACCinflan: 1.0000 - val_nephr_ACCnephr: 1.0000\n",
      "Epoch 737/1000\n",
      "64/64 [==============================] - 0s 194us/sample - loss: 0.1884 - inflan_loss: 0.1252 - nephr_loss: 0.0980 - inflan_ACCinflan: 1.0000 - nephr_ACCnephr: 1.0000 - val_loss: 0.2251 - val_inflan_loss: 0.1325 - val_nephr_loss: 0.1323 - val_inflan_ACCinflan: 1.0000 - val_nephr_ACCnephr: 1.0000\n",
      "Epoch 738/1000\n",
      "64/64 [==============================] - 0s 185us/sample - loss: 0.1881 - inflan_loss: 0.1251 - nephr_loss: 0.0979 - inflan_ACCinflan: 1.0000 - nephr_ACCnephr: 1.0000 - val_loss: 0.2248 - val_inflan_loss: 0.1323 - val_nephr_loss: 0.1321 - val_inflan_ACCinflan: 1.0000 - val_nephr_ACCnephr: 1.0000\n",
      "Epoch 739/1000\n",
      "64/64 [==============================] - 0s 1ms/sample - loss: 0.1879 - inflan_loss: 0.1249 - nephr_loss: 0.0977 - inflan_ACCinflan: 1.0000 - nephr_ACCnephr: 1.0000 - val_loss: 0.2245 - val_inflan_loss: 0.1322 - val_nephr_loss: 0.1319 - val_inflan_ACCinflan: 1.0000 - val_nephr_ACCnephr: 1.0000\n",
      "Epoch 740/1000\n",
      "64/64 [==============================] - 0s 192us/sample - loss: 0.1876 - inflan_loss: 0.1247 - nephr_loss: 0.0976 - inflan_ACCinflan: 1.0000 - nephr_ACCnephr: 1.0000 - val_loss: 0.2242 - val_inflan_loss: 0.1320 - val_nephr_loss: 0.1318 - val_inflan_ACCinflan: 1.0000 - val_nephr_ACCnephr: 1.0000\n",
      "Epoch 741/1000\n",
      "64/64 [==============================] - 0s 1ms/sample - loss: 0.1873 - inflan_loss: 0.1246 - nephr_loss: 0.0974 - inflan_ACCinflan: 1.0000 - nephr_ACCnephr: 1.0000 - val_loss: 0.2239 - val_inflan_loss: 0.1318 - val_nephr_loss: 0.1316 - val_inflan_ACCinflan: 1.0000 - val_nephr_ACCnephr: 1.0000\n",
      "Epoch 742/1000\n",
      "64/64 [==============================] - 0s 1ms/sample - loss: 0.1871 - inflan_loss: 0.1244 - nephr_loss: 0.0973 - inflan_ACCinflan: 1.0000 - nephr_ACCnephr: 1.0000 - val_loss: 0.2236 - val_inflan_loss: 0.1317 - val_nephr_loss: 0.1314 - val_inflan_ACCinflan: 1.0000 - val_nephr_ACCnephr: 1.0000\n",
      "Epoch 743/1000\n",
      "64/64 [==============================] - 0s 199us/sample - loss: 0.1868 - inflan_loss: 0.1242 - nephr_loss: 0.0971 - inflan_ACCinflan: 1.0000 - nephr_ACCnephr: 1.0000 - val_loss: 0.2233 - val_inflan_loss: 0.1315 - val_nephr_loss: 0.1312 - val_inflan_ACCinflan: 1.0000 - val_nephr_ACCnephr: 1.0000\n",
      "Epoch 744/1000\n",
      "64/64 [==============================] - 0s 1ms/sample - loss: 0.1865 - inflan_loss: 0.1241 - nephr_loss: 0.0970 - inflan_ACCinflan: 1.0000 - nephr_ACCnephr: 1.0000 - val_loss: 0.2230 - val_inflan_loss: 0.1313 - val_nephr_loss: 0.1311 - val_inflan_ACCinflan: 1.0000 - val_nephr_ACCnephr: 1.0000\n",
      "Epoch 745/1000\n",
      "64/64 [==============================] - 0s 1ms/sample - loss: 0.1863 - inflan_loss: 0.1239 - nephr_loss: 0.0968 - inflan_ACCinflan: 1.0000 - nephr_ACCnephr: 1.0000 - val_loss: 0.2227 - val_inflan_loss: 0.1311 - val_nephr_loss: 0.1309 - val_inflan_ACCinflan: 1.0000 - val_nephr_ACCnephr: 1.0000\n",
      "Epoch 746/1000\n",
      "64/64 [==============================] - 0s 197us/sample - loss: 0.1860 - inflan_loss: 0.1238 - nephr_loss: 0.0966 - inflan_ACCinflan: 1.0000 - nephr_ACCnephr: 1.0000 - val_loss: 0.2224 - val_inflan_loss: 0.1310 - val_nephr_loss: 0.1307 - val_inflan_ACCinflan: 1.0000 - val_nephr_ACCnephr: 1.0000\n",
      "Epoch 747/1000\n",
      "64/64 [==============================] - 0s 182us/sample - loss: 0.1857 - inflan_loss: 0.1236 - nephr_loss: 0.0965 - inflan_ACCinflan: 1.0000 - nephr_ACCnephr: 1.0000 - val_loss: 0.2221 - val_inflan_loss: 0.1308 - val_nephr_loss: 0.1305 - val_inflan_ACCinflan: 1.0000 - val_nephr_ACCnephr: 1.0000\n",
      "Epoch 748/1000\n",
      "64/64 [==============================] - 0s 2ms/sample - loss: 0.1855 - inflan_loss: 0.1234 - nephr_loss: 0.0963 - inflan_ACCinflan: 1.0000 - nephr_ACCnephr: 1.0000 - val_loss: 0.2218 - val_inflan_loss: 0.1306 - val_nephr_loss: 0.1304 - val_inflan_ACCinflan: 1.0000 - val_nephr_ACCnephr: 1.0000\n",
      "Epoch 749/1000\n",
      "64/64 [==============================] - 0s 1ms/sample - loss: 0.1852 - inflan_loss: 0.1233 - nephr_loss: 0.0962 - inflan_ACCinflan: 1.0000 - nephr_ACCnephr: 1.0000 - val_loss: 0.2215 - val_inflan_loss: 0.1305 - val_nephr_loss: 0.1302 - val_inflan_ACCinflan: 1.0000 - val_nephr_ACCnephr: 1.0000\n",
      "Epoch 750/1000\n",
      "64/64 [==============================] - 0s 247us/sample - loss: 0.1849 - inflan_loss: 0.1231 - nephr_loss: 0.0960 - inflan_ACCinflan: 1.0000 - nephr_ACCnephr: 1.0000 - val_loss: 0.2212 - val_inflan_loss: 0.1303 - val_nephr_loss: 0.1300 - val_inflan_ACCinflan: 1.0000 - val_nephr_ACCnephr: 1.0000\n",
      "Epoch 751/1000\n",
      "64/64 [==============================] - 0s 1ms/sample - loss: 0.1847 - inflan_loss: 0.1229 - nephr_loss: 0.0959 - inflan_ACCinflan: 1.0000 - nephr_ACCnephr: 1.0000 - val_loss: 0.2210 - val_inflan_loss: 0.1301 - val_nephr_loss: 0.1299 - val_inflan_ACCinflan: 1.0000 - val_nephr_ACCnephr: 1.0000\n",
      "Epoch 752/1000\n",
      "64/64 [==============================] - 0s 1ms/sample - loss: 0.1844 - inflan_loss: 0.1228 - nephr_loss: 0.0957 - inflan_ACCinflan: 1.0000 - nephr_ACCnephr: 1.0000 - val_loss: 0.2207 - val_inflan_loss: 0.1299 - val_nephr_loss: 0.1297 - val_inflan_ACCinflan: 1.0000 - val_nephr_ACCnephr: 1.0000\n",
      "Epoch 753/1000\n",
      "64/64 [==============================] - 0s 202us/sample - loss: 0.1841 - inflan_loss: 0.1226 - nephr_loss: 0.0956 - inflan_ACCinflan: 1.0000 - nephr_ACCnephr: 1.0000 - val_loss: 0.2204 - val_inflan_loss: 0.1298 - val_nephr_loss: 0.1295 - val_inflan_ACCinflan: 1.0000 - val_nephr_ACCnephr: 1.0000\n",
      "Epoch 754/1000\n",
      "64/64 [==============================] - 0s 214us/sample - loss: 0.1839 - inflan_loss: 0.1225 - nephr_loss: 0.0954 - inflan_ACCinflan: 1.0000 - nephr_ACCnephr: 1.0000 - val_loss: 0.2201 - val_inflan_loss: 0.1296 - val_nephr_loss: 0.1293 - val_inflan_ACCinflan: 1.0000 - val_nephr_ACCnephr: 1.0000\n",
      "Epoch 755/1000\n",
      "64/64 [==============================] - 0s 1ms/sample - loss: 0.1836 - inflan_loss: 0.1223 - nephr_loss: 0.0953 - inflan_ACCinflan: 1.0000 - nephr_ACCnephr: 1.0000 - val_loss: 0.2198 - val_inflan_loss: 0.1294 - val_nephr_loss: 0.1292 - val_inflan_ACCinflan: 1.0000 - val_nephr_ACCnephr: 1.0000\n"
     ]
    },
    {
     "name": "stdout",
     "output_type": "stream",
     "text": [
      "Epoch 756/1000\n",
      "64/64 [==============================] - 0s 1ms/sample - loss: 0.1833 - inflan_loss: 0.1221 - nephr_loss: 0.0952 - inflan_ACCinflan: 1.0000 - nephr_ACCnephr: 1.0000 - val_loss: 0.2195 - val_inflan_loss: 0.1293 - val_nephr_loss: 0.1290 - val_inflan_ACCinflan: 1.0000 - val_nephr_ACCnephr: 1.0000\n",
      "Epoch 757/1000\n",
      "64/64 [==============================] - 0s 185us/sample - loss: 0.1831 - inflan_loss: 0.1220 - nephr_loss: 0.0950 - inflan_ACCinflan: 1.0000 - nephr_ACCnephr: 1.0000 - val_loss: 0.2192 - val_inflan_loss: 0.1291 - val_nephr_loss: 0.1288 - val_inflan_ACCinflan: 1.0000 - val_nephr_ACCnephr: 1.0000\n",
      "Epoch 758/1000\n",
      "64/64 [==============================] - 0s 1ms/sample - loss: 0.1828 - inflan_loss: 0.1218 - nephr_loss: 0.0949 - inflan_ACCinflan: 1.0000 - nephr_ACCnephr: 1.0000 - val_loss: 0.2189 - val_inflan_loss: 0.1289 - val_nephr_loss: 0.1287 - val_inflan_ACCinflan: 1.0000 - val_nephr_ACCnephr: 1.0000\n",
      "Epoch 759/1000\n",
      "64/64 [==============================] - 0s 188us/sample - loss: 0.1826 - inflan_loss: 0.1217 - nephr_loss: 0.0947 - inflan_ACCinflan: 1.0000 - nephr_ACCnephr: 1.0000 - val_loss: 0.2186 - val_inflan_loss: 0.1288 - val_nephr_loss: 0.1285 - val_inflan_ACCinflan: 1.0000 - val_nephr_ACCnephr: 1.0000\n",
      "Epoch 760/1000\n",
      "64/64 [==============================] - 0s 190us/sample - loss: 0.1823 - inflan_loss: 0.1215 - nephr_loss: 0.0946 - inflan_ACCinflan: 1.0000 - nephr_ACCnephr: 1.0000 - val_loss: 0.2184 - val_inflan_loss: 0.1286 - val_nephr_loss: 0.1283 - val_inflan_ACCinflan: 1.0000 - val_nephr_ACCnephr: 1.0000\n",
      "Epoch 761/1000\n",
      "64/64 [==============================] - 0s 2ms/sample - loss: 0.1820 - inflan_loss: 0.1213 - nephr_loss: 0.0944 - inflan_ACCinflan: 1.0000 - nephr_ACCnephr: 1.0000 - val_loss: 0.2181 - val_inflan_loss: 0.1284 - val_nephr_loss: 0.1281 - val_inflan_ACCinflan: 1.0000 - val_nephr_ACCnephr: 1.0000\n",
      "Epoch 762/1000\n",
      "64/64 [==============================] - 0s 1ms/sample - loss: 0.1818 - inflan_loss: 0.1212 - nephr_loss: 0.0943 - inflan_ACCinflan: 1.0000 - nephr_ACCnephr: 1.0000 - val_loss: 0.2178 - val_inflan_loss: 0.1283 - val_nephr_loss: 0.1280 - val_inflan_ACCinflan: 1.0000 - val_nephr_ACCnephr: 1.0000\n",
      "Epoch 763/1000\n",
      "64/64 [==============================] - 0s 196us/sample - loss: 0.1815 - inflan_loss: 0.1210 - nephr_loss: 0.0941 - inflan_ACCinflan: 1.0000 - nephr_ACCnephr: 1.0000 - val_loss: 0.2175 - val_inflan_loss: 0.1281 - val_nephr_loss: 0.1278 - val_inflan_ACCinflan: 1.0000 - val_nephr_ACCnephr: 1.0000\n",
      "Epoch 764/1000\n",
      "64/64 [==============================] - 0s 1ms/sample - loss: 0.1813 - inflan_loss: 0.1209 - nephr_loss: 0.0940 - inflan_ACCinflan: 1.0000 - nephr_ACCnephr: 1.0000 - val_loss: 0.2172 - val_inflan_loss: 0.1279 - val_nephr_loss: 0.1276 - val_inflan_ACCinflan: 1.0000 - val_nephr_ACCnephr: 1.0000\n",
      "Epoch 765/1000\n",
      "64/64 [==============================] - 0s 192us/sample - loss: 0.1810 - inflan_loss: 0.1207 - nephr_loss: 0.0938 - inflan_ACCinflan: 1.0000 - nephr_ACCnephr: 1.0000 - val_loss: 0.2169 - val_inflan_loss: 0.1278 - val_nephr_loss: 0.1275 - val_inflan_ACCinflan: 1.0000 - val_nephr_ACCnephr: 1.0000\n",
      "Epoch 766/1000\n",
      "64/64 [==============================] - 0s 195us/sample - loss: 0.1808 - inflan_loss: 0.1205 - nephr_loss: 0.0937 - inflan_ACCinflan: 1.0000 - nephr_ACCnephr: 1.0000 - val_loss: 0.2166 - val_inflan_loss: 0.1276 - val_nephr_loss: 0.1273 - val_inflan_ACCinflan: 1.0000 - val_nephr_ACCnephr: 1.0000\n",
      "Epoch 767/1000\n",
      "64/64 [==============================] - 0s 2ms/sample - loss: 0.1805 - inflan_loss: 0.1204 - nephr_loss: 0.0935 - inflan_ACCinflan: 1.0000 - nephr_ACCnephr: 1.0000 - val_loss: 0.2164 - val_inflan_loss: 0.1274 - val_nephr_loss: 0.1271 - val_inflan_ACCinflan: 1.0000 - val_nephr_ACCnephr: 1.0000\n",
      "Epoch 768/1000\n",
      "64/64 [==============================] - 0s 1ms/sample - loss: 0.1803 - inflan_loss: 0.1202 - nephr_loss: 0.0934 - inflan_ACCinflan: 1.0000 - nephr_ACCnephr: 1.0000 - val_loss: 0.2161 - val_inflan_loss: 0.1273 - val_nephr_loss: 0.1270 - val_inflan_ACCinflan: 1.0000 - val_nephr_ACCnephr: 1.0000\n",
      "Epoch 769/1000\n",
      "64/64 [==============================] - 0s 194us/sample - loss: 0.1800 - inflan_loss: 0.1201 - nephr_loss: 0.0933 - inflan_ACCinflan: 1.0000 - nephr_ACCnephr: 1.0000 - val_loss: 0.2158 - val_inflan_loss: 0.1271 - val_nephr_loss: 0.1268 - val_inflan_ACCinflan: 1.0000 - val_nephr_ACCnephr: 1.0000\n",
      "Epoch 770/1000\n",
      "64/64 [==============================] - 0s 1ms/sample - loss: 0.1797 - inflan_loss: 0.1199 - nephr_loss: 0.0931 - inflan_ACCinflan: 1.0000 - nephr_ACCnephr: 1.0000 - val_loss: 0.2155 - val_inflan_loss: 0.1269 - val_nephr_loss: 0.1266 - val_inflan_ACCinflan: 1.0000 - val_nephr_ACCnephr: 1.0000\n",
      "Epoch 771/1000\n",
      "64/64 [==============================] - 0s 1ms/sample - loss: 0.1795 - inflan_loss: 0.1198 - nephr_loss: 0.0930 - inflan_ACCinflan: 1.0000 - nephr_ACCnephr: 1.0000 - val_loss: 0.2152 - val_inflan_loss: 0.1268 - val_nephr_loss: 0.1265 - val_inflan_ACCinflan: 1.0000 - val_nephr_ACCnephr: 1.0000\n",
      "Epoch 772/1000\n",
      "64/64 [==============================] - 0s 202us/sample - loss: 0.1792 - inflan_loss: 0.1196 - nephr_loss: 0.0928 - inflan_ACCinflan: 1.0000 - nephr_ACCnephr: 1.0000 - val_loss: 0.2149 - val_inflan_loss: 0.1266 - val_nephr_loss: 0.1263 - val_inflan_ACCinflan: 1.0000 - val_nephr_ACCnephr: 1.0000\n",
      "Epoch 773/1000\n",
      "64/64 [==============================] - 0s 1ms/sample - loss: 0.1790 - inflan_loss: 0.1195 - nephr_loss: 0.0927 - inflan_ACCinflan: 1.0000 - nephr_ACCnephr: 1.0000 - val_loss: 0.2147 - val_inflan_loss: 0.1264 - val_nephr_loss: 0.1261 - val_inflan_ACCinflan: 1.0000 - val_nephr_ACCnephr: 1.0000\n",
      "Epoch 774/1000\n",
      "64/64 [==============================] - 0s 1ms/sample - loss: 0.1787 - inflan_loss: 0.1193 - nephr_loss: 0.0926 - inflan_ACCinflan: 1.0000 - nephr_ACCnephr: 1.0000 - val_loss: 0.2144 - val_inflan_loss: 0.1263 - val_nephr_loss: 0.1260 - val_inflan_ACCinflan: 1.0000 - val_nephr_ACCnephr: 1.0000\n",
      "Epoch 775/1000\n",
      "64/64 [==============================] - 0s 194us/sample - loss: 0.1785 - inflan_loss: 0.1191 - nephr_loss: 0.0924 - inflan_ACCinflan: 1.0000 - nephr_ACCnephr: 1.0000 - val_loss: 0.2141 - val_inflan_loss: 0.1261 - val_nephr_loss: 0.1258 - val_inflan_ACCinflan: 1.0000 - val_nephr_ACCnephr: 1.0000\n",
      "Epoch 776/1000\n",
      "64/64 [==============================] - 0s 1ms/sample - loss: 0.1782 - inflan_loss: 0.1190 - nephr_loss: 0.0923 - inflan_ACCinflan: 1.0000 - nephr_ACCnephr: 1.0000 - val_loss: 0.2138 - val_inflan_loss: 0.1259 - val_nephr_loss: 0.1256 - val_inflan_ACCinflan: 1.0000 - val_nephr_ACCnephr: 1.0000\n",
      "Epoch 777/1000\n",
      "64/64 [==============================] - 0s 2ms/sample - loss: 0.1780 - inflan_loss: 0.1188 - nephr_loss: 0.0921 - inflan_ACCinflan: 1.0000 - nephr_ACCnephr: 1.0000 - val_loss: 0.2135 - val_inflan_loss: 0.1258 - val_nephr_loss: 0.1255 - val_inflan_ACCinflan: 1.0000 - val_nephr_ACCnephr: 1.0000\n",
      "Epoch 778/1000\n",
      "64/64 [==============================] - 0s 1ms/sample - loss: 0.1777 - inflan_loss: 0.1187 - nephr_loss: 0.0920 - inflan_ACCinflan: 1.0000 - nephr_ACCnephr: 1.0000 - val_loss: 0.2133 - val_inflan_loss: 0.1256 - val_nephr_loss: 0.1253 - val_inflan_ACCinflan: 1.0000 - val_nephr_ACCnephr: 1.0000\n",
      "Epoch 779/1000\n",
      "64/64 [==============================] - 0s 201us/sample - loss: 0.1775 - inflan_loss: 0.1185 - nephr_loss: 0.0918 - inflan_ACCinflan: 1.0000 - nephr_ACCnephr: 1.0000 - val_loss: 0.2130 - val_inflan_loss: 0.1254 - val_nephr_loss: 0.1251 - val_inflan_ACCinflan: 1.0000 - val_nephr_ACCnephr: 1.0000\n",
      "Epoch 780/1000\n",
      "64/64 [==============================] - 0s 1ms/sample - loss: 0.1772 - inflan_loss: 0.1184 - nephr_loss: 0.0917 - inflan_ACCinflan: 1.0000 - nephr_ACCnephr: 1.0000 - val_loss: 0.2127 - val_inflan_loss: 0.1253 - val_nephr_loss: 0.1250 - val_inflan_ACCinflan: 1.0000 - val_nephr_ACCnephr: 1.0000\n",
      "Epoch 781/1000\n",
      "64/64 [==============================] - 0s 194us/sample - loss: 0.1770 - inflan_loss: 0.1182 - nephr_loss: 0.0916 - inflan_ACCinflan: 1.0000 - nephr_ACCnephr: 1.0000 - val_loss: 0.2124 - val_inflan_loss: 0.1251 - val_nephr_loss: 0.1248 - val_inflan_ACCinflan: 1.0000 - val_nephr_ACCnephr: 1.0000\n",
      "Epoch 782/1000\n",
      "64/64 [==============================] - 0s 208us/sample - loss: 0.1767 - inflan_loss: 0.1181 - nephr_loss: 0.0914 - inflan_ACCinflan: 1.0000 - nephr_ACCnephr: 1.0000 - val_loss: 0.2122 - val_inflan_loss: 0.1250 - val_nephr_loss: 0.1247 - val_inflan_ACCinflan: 1.0000 - val_nephr_ACCnephr: 1.0000\n"
     ]
    },
    {
     "name": "stdout",
     "output_type": "stream",
     "text": [
      "Epoch 783/1000\n",
      "64/64 [==============================] - 0s 1ms/sample - loss: 0.1765 - inflan_loss: 0.1179 - nephr_loss: 0.0913 - inflan_ACCinflan: 1.0000 - nephr_ACCnephr: 1.0000 - val_loss: 0.2119 - val_inflan_loss: 0.1248 - val_nephr_loss: 0.1245 - val_inflan_ACCinflan: 1.0000 - val_nephr_ACCnephr: 1.0000\n",
      "Epoch 784/1000\n",
      "64/64 [==============================] - 0s 1ms/sample - loss: 0.1762 - inflan_loss: 0.1178 - nephr_loss: 0.0912 - inflan_ACCinflan: 1.0000 - nephr_ACCnephr: 1.0000 - val_loss: 0.2116 - val_inflan_loss: 0.1246 - val_nephr_loss: 0.1243 - val_inflan_ACCinflan: 1.0000 - val_nephr_ACCnephr: 1.0000\n",
      "Epoch 785/1000\n",
      "64/64 [==============================] - 0s 211us/sample - loss: 0.1760 - inflan_loss: 0.1176 - nephr_loss: 0.0910 - inflan_ACCinflan: 1.0000 - nephr_ACCnephr: 1.0000 - val_loss: 0.2113 - val_inflan_loss: 0.1245 - val_nephr_loss: 0.1242 - val_inflan_ACCinflan: 1.0000 - val_nephr_ACCnephr: 1.0000\n",
      "Epoch 786/1000\n",
      "64/64 [==============================] - 0s 1ms/sample - loss: 0.1757 - inflan_loss: 0.1174 - nephr_loss: 0.0909 - inflan_ACCinflan: 1.0000 - nephr_ACCnephr: 1.0000 - val_loss: 0.2111 - val_inflan_loss: 0.1243 - val_nephr_loss: 0.1240 - val_inflan_ACCinflan: 1.0000 - val_nephr_ACCnephr: 1.0000\n",
      "Epoch 787/1000\n",
      "64/64 [==============================] - 0s 2ms/sample - loss: 0.1755 - inflan_loss: 0.1173 - nephr_loss: 0.0907 - inflan_ACCinflan: 1.0000 - nephr_ACCnephr: 1.0000 - val_loss: 0.2108 - val_inflan_loss: 0.1242 - val_nephr_loss: 0.1238 - val_inflan_ACCinflan: 1.0000 - val_nephr_ACCnephr: 1.0000\n",
      "Epoch 788/1000\n",
      "64/64 [==============================] - 0s 194us/sample - loss: 0.1753 - inflan_loss: 0.1171 - nephr_loss: 0.0906 - inflan_ACCinflan: 1.0000 - nephr_ACCnephr: 1.0000 - val_loss: 0.2105 - val_inflan_loss: 0.1240 - val_nephr_loss: 0.1237 - val_inflan_ACCinflan: 1.0000 - val_nephr_ACCnephr: 1.0000\n",
      "Epoch 789/1000\n",
      "64/64 [==============================] - 0s 1ms/sample - loss: 0.1750 - inflan_loss: 0.1170 - nephr_loss: 0.0905 - inflan_ACCinflan: 1.0000 - nephr_ACCnephr: 1.0000 - val_loss: 0.2102 - val_inflan_loss: 0.1238 - val_nephr_loss: 0.1235 - val_inflan_ACCinflan: 1.0000 - val_nephr_ACCnephr: 1.0000\n",
      "Epoch 790/1000\n",
      "64/64 [==============================] - 0s 1ms/sample - loss: 0.1748 - inflan_loss: 0.1168 - nephr_loss: 0.0903 - inflan_ACCinflan: 1.0000 - nephr_ACCnephr: 1.0000 - val_loss: 0.2100 - val_inflan_loss: 0.1237 - val_nephr_loss: 0.1234 - val_inflan_ACCinflan: 1.0000 - val_nephr_ACCnephr: 1.0000\n",
      "Epoch 791/1000\n",
      "64/64 [==============================] - 0s 186us/sample - loss: 0.1745 - inflan_loss: 0.1167 - nephr_loss: 0.0902 - inflan_ACCinflan: 1.0000 - nephr_ACCnephr: 1.0000 - val_loss: 0.2097 - val_inflan_loss: 0.1235 - val_nephr_loss: 0.1232 - val_inflan_ACCinflan: 1.0000 - val_nephr_ACCnephr: 1.0000\n",
      "Epoch 792/1000\n",
      "64/64 [==============================] - 0s 2ms/sample - loss: 0.1743 - inflan_loss: 0.1165 - nephr_loss: 0.0901 - inflan_ACCinflan: 1.0000 - nephr_ACCnephr: 1.0000 - val_loss: 0.2094 - val_inflan_loss: 0.1234 - val_nephr_loss: 0.1230 - val_inflan_ACCinflan: 1.0000 - val_nephr_ACCnephr: 1.0000\n",
      "Epoch 793/1000\n",
      "64/64 [==============================] - 0s 2ms/sample - loss: 0.1740 - inflan_loss: 0.1164 - nephr_loss: 0.0899 - inflan_ACCinflan: 1.0000 - nephr_ACCnephr: 1.0000 - val_loss: 0.2091 - val_inflan_loss: 0.1232 - val_nephr_loss: 0.1229 - val_inflan_ACCinflan: 1.0000 - val_nephr_ACCnephr: 1.0000\n",
      "Epoch 794/1000\n",
      "64/64 [==============================] - 0s 197us/sample - loss: 0.1738 - inflan_loss: 0.1162 - nephr_loss: 0.0898 - inflan_ACCinflan: 1.0000 - nephr_ACCnephr: 1.0000 - val_loss: 0.2089 - val_inflan_loss: 0.1230 - val_nephr_loss: 0.1227 - val_inflan_ACCinflan: 1.0000 - val_nephr_ACCnephr: 1.0000\n",
      "Epoch 795/1000\n",
      "64/64 [==============================] - 0s 201us/sample - loss: 0.1736 - inflan_loss: 0.1161 - nephr_loss: 0.0897 - inflan_ACCinflan: 1.0000 - nephr_ACCnephr: 1.0000 - val_loss: 0.2086 - val_inflan_loss: 0.1229 - val_nephr_loss: 0.1226 - val_inflan_ACCinflan: 1.0000 - val_nephr_ACCnephr: 1.0000\n",
      "Epoch 796/1000\n",
      "64/64 [==============================] - 0s 2ms/sample - loss: 0.1733 - inflan_loss: 0.1159 - nephr_loss: 0.0895 - inflan_ACCinflan: 1.0000 - nephr_ACCnephr: 1.0000 - val_loss: 0.2083 - val_inflan_loss: 0.1227 - val_nephr_loss: 0.1224 - val_inflan_ACCinflan: 1.0000 - val_nephr_ACCnephr: 1.0000\n",
      "Epoch 797/1000\n",
      "64/64 [==============================] - 0s 1ms/sample - loss: 0.1731 - inflan_loss: 0.1158 - nephr_loss: 0.0894 - inflan_ACCinflan: 1.0000 - nephr_ACCnephr: 1.0000 - val_loss: 0.2081 - val_inflan_loss: 0.1226 - val_nephr_loss: 0.1222 - val_inflan_ACCinflan: 1.0000 - val_nephr_ACCnephr: 1.0000\n",
      "Epoch 798/1000\n",
      "64/64 [==============================] - 0s 188us/sample - loss: 0.1728 - inflan_loss: 0.1156 - nephr_loss: 0.0893 - inflan_ACCinflan: 1.0000 - nephr_ACCnephr: 1.0000 - val_loss: 0.2078 - val_inflan_loss: 0.1224 - val_nephr_loss: 0.1221 - val_inflan_ACCinflan: 1.0000 - val_nephr_ACCnephr: 1.0000\n",
      "Epoch 799/1000\n",
      "64/64 [==============================] - 0s 2ms/sample - loss: 0.1726 - inflan_loss: 0.1155 - nephr_loss: 0.0891 - inflan_ACCinflan: 1.0000 - nephr_ACCnephr: 1.0000 - val_loss: 0.2075 - val_inflan_loss: 0.1222 - val_nephr_loss: 0.1219 - val_inflan_ACCinflan: 1.0000 - val_nephr_ACCnephr: 1.0000\n",
      "Epoch 800/1000\n",
      "64/64 [==============================] - 0s 1ms/sample - loss: 0.1724 - inflan_loss: 0.1153 - nephr_loss: 0.0890 - inflan_ACCinflan: 1.0000 - nephr_ACCnephr: 1.0000 - val_loss: 0.2073 - val_inflan_loss: 0.1221 - val_nephr_loss: 0.1218 - val_inflan_ACCinflan: 1.0000 - val_nephr_ACCnephr: 1.0000\n",
      "Epoch 801/1000\n",
      "64/64 [==============================] - 0s 190us/sample - loss: 0.1721 - inflan_loss: 0.1152 - nephr_loss: 0.0889 - inflan_ACCinflan: 1.0000 - nephr_ACCnephr: 1.0000 - val_loss: 0.2070 - val_inflan_loss: 0.1219 - val_nephr_loss: 0.1216 - val_inflan_ACCinflan: 1.0000 - val_nephr_ACCnephr: 1.0000\n",
      "Epoch 802/1000\n",
      "64/64 [==============================] - 0s 1ms/sample - loss: 0.1719 - inflan_loss: 0.1150 - nephr_loss: 0.0887 - inflan_ACCinflan: 1.0000 - nephr_ACCnephr: 1.0000 - val_loss: 0.2067 - val_inflan_loss: 0.1218 - val_nephr_loss: 0.1214 - val_inflan_ACCinflan: 1.0000 - val_nephr_ACCnephr: 1.0000\n",
      "Epoch 803/1000\n",
      "64/64 [==============================] - 0s 1ms/sample - loss: 0.1716 - inflan_loss: 0.1149 - nephr_loss: 0.0886 - inflan_ACCinflan: 1.0000 - nephr_ACCnephr: 1.0000 - val_loss: 0.2065 - val_inflan_loss: 0.1216 - val_nephr_loss: 0.1213 - val_inflan_ACCinflan: 1.0000 - val_nephr_ACCnephr: 1.0000\n",
      "Epoch 804/1000\n",
      "64/64 [==============================] - 0s 198us/sample - loss: 0.1714 - inflan_loss: 0.1148 - nephr_loss: 0.0885 - inflan_ACCinflan: 1.0000 - nephr_ACCnephr: 1.0000 - val_loss: 0.2062 - val_inflan_loss: 0.1215 - val_nephr_loss: 0.1211 - val_inflan_ACCinflan: 1.0000 - val_nephr_ACCnephr: 1.0000\n",
      "Epoch 805/1000\n",
      "64/64 [==============================] - 0s 2ms/sample - loss: 0.1712 - inflan_loss: 0.1146 - nephr_loss: 0.0883 - inflan_ACCinflan: 1.0000 - nephr_ACCnephr: 1.0000 - val_loss: 0.2059 - val_inflan_loss: 0.1213 - val_nephr_loss: 0.1210 - val_inflan_ACCinflan: 1.0000 - val_nephr_ACCnephr: 1.0000\n",
      "Epoch 806/1000\n",
      "64/64 [==============================] - 0s 1ms/sample - loss: 0.1709 - inflan_loss: 0.1145 - nephr_loss: 0.0882 - inflan_ACCinflan: 1.0000 - nephr_ACCnephr: 1.0000 - val_loss: 0.2057 - val_inflan_loss: 0.1211 - val_nephr_loss: 0.1208 - val_inflan_ACCinflan: 1.0000 - val_nephr_ACCnephr: 1.0000\n",
      "Epoch 807/1000\n",
      "64/64 [==============================] - 0s 193us/sample - loss: 0.1707 - inflan_loss: 0.1143 - nephr_loss: 0.0881 - inflan_ACCinflan: 1.0000 - nephr_ACCnephr: 1.0000 - val_loss: 0.2054 - val_inflan_loss: 0.1210 - val_nephr_loss: 0.1207 - val_inflan_ACCinflan: 1.0000 - val_nephr_ACCnephr: 1.0000\n",
      "Epoch 808/1000\n",
      "64/64 [==============================] - 0s 202us/sample - loss: 0.1705 - inflan_loss: 0.1142 - nephr_loss: 0.0879 - inflan_ACCinflan: 1.0000 - nephr_ACCnephr: 1.0000 - val_loss: 0.2051 - val_inflan_loss: 0.1208 - val_nephr_loss: 0.1205 - val_inflan_ACCinflan: 1.0000 - val_nephr_ACCnephr: 1.0000\n",
      "Epoch 809/1000\n",
      "64/64 [==============================] - 0s 1ms/sample - loss: 0.1702 - inflan_loss: 0.1140 - nephr_loss: 0.0878 - inflan_ACCinflan: 1.0000 - nephr_ACCnephr: 1.0000 - val_loss: 0.2049 - val_inflan_loss: 0.1207 - val_nephr_loss: 0.1204 - val_inflan_ACCinflan: 1.0000 - val_nephr_ACCnephr: 1.0000\n"
     ]
    },
    {
     "name": "stdout",
     "output_type": "stream",
     "text": [
      "Epoch 810/1000\n",
      "64/64 [==============================] - 0s 198us/sample - loss: 0.1700 - inflan_loss: 0.1139 - nephr_loss: 0.0877 - inflan_ACCinflan: 1.0000 - nephr_ACCnephr: 1.0000 - val_loss: 0.2046 - val_inflan_loss: 0.1205 - val_nephr_loss: 0.1202 - val_inflan_ACCinflan: 1.0000 - val_nephr_ACCnephr: 1.0000\n",
      "Epoch 811/1000\n",
      "64/64 [==============================] - 0s 261us/sample - loss: 0.1698 - inflan_loss: 0.1137 - nephr_loss: 0.0875 - inflan_ACCinflan: 1.0000 - nephr_ACCnephr: 1.0000 - val_loss: 0.2043 - val_inflan_loss: 0.1204 - val_nephr_loss: 0.1200 - val_inflan_ACCinflan: 1.0000 - val_nephr_ACCnephr: 1.0000\n",
      "Epoch 812/1000\n",
      "64/64 [==============================] - 0s 1ms/sample - loss: 0.1695 - inflan_loss: 0.1136 - nephr_loss: 0.0874 - inflan_ACCinflan: 1.0000 - nephr_ACCnephr: 1.0000 - val_loss: 0.2041 - val_inflan_loss: 0.1202 - val_nephr_loss: 0.1199 - val_inflan_ACCinflan: 1.0000 - val_nephr_ACCnephr: 1.0000\n",
      "Epoch 813/1000\n",
      "64/64 [==============================] - 0s 2ms/sample - loss: 0.1693 - inflan_loss: 0.1134 - nephr_loss: 0.0873 - inflan_ACCinflan: 1.0000 - nephr_ACCnephr: 1.0000 - val_loss: 0.2038 - val_inflan_loss: 0.1201 - val_nephr_loss: 0.1197 - val_inflan_ACCinflan: 1.0000 - val_nephr_ACCnephr: 1.0000\n",
      "Epoch 814/1000\n",
      "64/64 [==============================] - 0s 190us/sample - loss: 0.1691 - inflan_loss: 0.1133 - nephr_loss: 0.0872 - inflan_ACCinflan: 1.0000 - nephr_ACCnephr: 1.0000 - val_loss: 0.2036 - val_inflan_loss: 0.1199 - val_nephr_loss: 0.1196 - val_inflan_ACCinflan: 1.0000 - val_nephr_ACCnephr: 1.0000\n",
      "Epoch 815/1000\n",
      "64/64 [==============================] - 0s 1ms/sample - loss: 0.1688 - inflan_loss: 0.1131 - nephr_loss: 0.0870 - inflan_ACCinflan: 1.0000 - nephr_ACCnephr: 1.0000 - val_loss: 0.2033 - val_inflan_loss: 0.1198 - val_nephr_loss: 0.1194 - val_inflan_ACCinflan: 1.0000 - val_nephr_ACCnephr: 1.0000\n",
      "Epoch 816/1000\n",
      "64/64 [==============================] - 0s 1ms/sample - loss: 0.1686 - inflan_loss: 0.1130 - nephr_loss: 0.0869 - inflan_ACCinflan: 1.0000 - nephr_ACCnephr: 1.0000 - val_loss: 0.2030 - val_inflan_loss: 0.1196 - val_nephr_loss: 0.1193 - val_inflan_ACCinflan: 1.0000 - val_nephr_ACCnephr: 1.0000\n",
      "Epoch 817/1000\n",
      "64/64 [==============================] - 0s 186us/sample - loss: 0.1684 - inflan_loss: 0.1129 - nephr_loss: 0.0868 - inflan_ACCinflan: 1.0000 - nephr_ACCnephr: 1.0000 - val_loss: 0.2028 - val_inflan_loss: 0.1194 - val_nephr_loss: 0.1191 - val_inflan_ACCinflan: 1.0000 - val_nephr_ACCnephr: 1.0000\n",
      "Epoch 818/1000\n",
      "64/64 [==============================] - 0s 1ms/sample - loss: 0.1681 - inflan_loss: 0.1127 - nephr_loss: 0.0866 - inflan_ACCinflan: 1.0000 - nephr_ACCnephr: 1.0000 - val_loss: 0.2025 - val_inflan_loss: 0.1193 - val_nephr_loss: 0.1190 - val_inflan_ACCinflan: 1.0000 - val_nephr_ACCnephr: 1.0000\n",
      "Epoch 819/1000\n",
      "64/64 [==============================] - 0s 1ms/sample - loss: 0.1679 - inflan_loss: 0.1126 - nephr_loss: 0.0865 - inflan_ACCinflan: 1.0000 - nephr_ACCnephr: 1.0000 - val_loss: 0.2023 - val_inflan_loss: 0.1191 - val_nephr_loss: 0.1188 - val_inflan_ACCinflan: 1.0000 - val_nephr_ACCnephr: 1.0000\n",
      "Epoch 820/1000\n",
      "64/64 [==============================] - 0s 215us/sample - loss: 0.1677 - inflan_loss: 0.1124 - nephr_loss: 0.0864 - inflan_ACCinflan: 1.0000 - nephr_ACCnephr: 1.0000 - val_loss: 0.2020 - val_inflan_loss: 0.1190 - val_nephr_loss: 0.1187 - val_inflan_ACCinflan: 1.0000 - val_nephr_ACCnephr: 1.0000\n",
      "Epoch 821/1000\n",
      "64/64 [==============================] - 0s 1ms/sample - loss: 0.1675 - inflan_loss: 0.1123 - nephr_loss: 0.0863 - inflan_ACCinflan: 1.0000 - nephr_ACCnephr: 1.0000 - val_loss: 0.2017 - val_inflan_loss: 0.1188 - val_nephr_loss: 0.1185 - val_inflan_ACCinflan: 1.0000 - val_nephr_ACCnephr: 1.0000\n",
      "Epoch 822/1000\n",
      "64/64 [==============================] - 0s 1ms/sample - loss: 0.1672 - inflan_loss: 0.1121 - nephr_loss: 0.0861 - inflan_ACCinflan: 1.0000 - nephr_ACCnephr: 1.0000 - val_loss: 0.2015 - val_inflan_loss: 0.1187 - val_nephr_loss: 0.1184 - val_inflan_ACCinflan: 1.0000 - val_nephr_ACCnephr: 1.0000\n",
      "Epoch 823/1000\n",
      "64/64 [==============================] - 0s 1ms/sample - loss: 0.1670 - inflan_loss: 0.1120 - nephr_loss: 0.0860 - inflan_ACCinflan: 1.0000 - nephr_ACCnephr: 1.0000 - val_loss: 0.2012 - val_inflan_loss: 0.1185 - val_nephr_loss: 0.1182 - val_inflan_ACCinflan: 1.0000 - val_nephr_ACCnephr: 1.0000\n",
      "Epoch 824/1000\n",
      "64/64 [==============================] - 0s 209us/sample - loss: 0.1668 - inflan_loss: 0.1119 - nephr_loss: 0.0859 - inflan_ACCinflan: 1.0000 - nephr_ACCnephr: 1.0000 - val_loss: 0.2010 - val_inflan_loss: 0.1184 - val_nephr_loss: 0.1181 - val_inflan_ACCinflan: 1.0000 - val_nephr_ACCnephr: 1.0000\n",
      "Epoch 825/1000\n",
      "64/64 [==============================] - 0s 1ms/sample - loss: 0.1665 - inflan_loss: 0.1117 - nephr_loss: 0.0858 - inflan_ACCinflan: 1.0000 - nephr_ACCnephr: 1.0000 - val_loss: 0.2007 - val_inflan_loss: 0.1182 - val_nephr_loss: 0.1179 - val_inflan_ACCinflan: 1.0000 - val_nephr_ACCnephr: 1.0000\n",
      "Epoch 826/1000\n",
      "64/64 [==============================] - 0s 1ms/sample - loss: 0.1663 - inflan_loss: 0.1116 - nephr_loss: 0.0856 - inflan_ACCinflan: 1.0000 - nephr_ACCnephr: 1.0000 - val_loss: 0.2004 - val_inflan_loss: 0.1181 - val_nephr_loss: 0.1178 - val_inflan_ACCinflan: 1.0000 - val_nephr_ACCnephr: 1.0000\n",
      "Epoch 827/1000\n",
      "64/64 [==============================] - 0s 217us/sample - loss: 0.1661 - inflan_loss: 0.1114 - nephr_loss: 0.0855 - inflan_ACCinflan: 1.0000 - nephr_ACCnephr: 1.0000 - val_loss: 0.2002 - val_inflan_loss: 0.1179 - val_nephr_loss: 0.1176 - val_inflan_ACCinflan: 1.0000 - val_nephr_ACCnephr: 1.0000\n",
      "Epoch 828/1000\n",
      "64/64 [==============================] - 0s 218us/sample - loss: 0.1659 - inflan_loss: 0.1113 - nephr_loss: 0.0854 - inflan_ACCinflan: 1.0000 - nephr_ACCnephr: 1.0000 - val_loss: 0.1999 - val_inflan_loss: 0.1178 - val_nephr_loss: 0.1175 - val_inflan_ACCinflan: 1.0000 - val_nephr_ACCnephr: 1.0000\n",
      "Epoch 829/1000\n",
      "64/64 [==============================] - 0s 2ms/sample - loss: 0.1656 - inflan_loss: 0.1111 - nephr_loss: 0.0853 - inflan_ACCinflan: 1.0000 - nephr_ACCnephr: 1.0000 - val_loss: 0.1997 - val_inflan_loss: 0.1176 - val_nephr_loss: 0.1173 - val_inflan_ACCinflan: 1.0000 - val_nephr_ACCnephr: 1.0000\n",
      "Epoch 830/1000\n",
      "64/64 [==============================] - 0s 1ms/sample - loss: 0.1654 - inflan_loss: 0.1110 - nephr_loss: 0.0851 - inflan_ACCinflan: 1.0000 - nephr_ACCnephr: 1.0000 - val_loss: 0.1994 - val_inflan_loss: 0.1175 - val_nephr_loss: 0.1172 - val_inflan_ACCinflan: 1.0000 - val_nephr_ACCnephr: 1.0000\n",
      "Epoch 831/1000\n",
      "64/64 [==============================] - 0s 213us/sample - loss: 0.1652 - inflan_loss: 0.1109 - nephr_loss: 0.0850 - inflan_ACCinflan: 1.0000 - nephr_ACCnephr: 1.0000 - val_loss: 0.1992 - val_inflan_loss: 0.1173 - val_nephr_loss: 0.1170 - val_inflan_ACCinflan: 1.0000 - val_nephr_ACCnephr: 1.0000\n",
      "Epoch 832/1000\n",
      "64/64 [==============================] - 0s 1ms/sample - loss: 0.1650 - inflan_loss: 0.1107 - nephr_loss: 0.0849 - inflan_ACCinflan: 1.0000 - nephr_ACCnephr: 1.0000 - val_loss: 0.1989 - val_inflan_loss: 0.1172 - val_nephr_loss: 0.1169 - val_inflan_ACCinflan: 1.0000 - val_nephr_ACCnephr: 1.0000\n",
      "Epoch 833/1000\n",
      "64/64 [==============================] - 0s 2ms/sample - loss: 0.1647 - inflan_loss: 0.1106 - nephr_loss: 0.0848 - inflan_ACCinflan: 1.0000 - nephr_ACCnephr: 1.0000 - val_loss: 0.1987 - val_inflan_loss: 0.1170 - val_nephr_loss: 0.1167 - val_inflan_ACCinflan: 1.0000 - val_nephr_ACCnephr: 1.0000\n",
      "Epoch 834/1000\n",
      "64/64 [==============================] - 0s 1ms/sample - loss: 0.1645 - inflan_loss: 0.1104 - nephr_loss: 0.0846 - inflan_ACCinflan: 1.0000 - nephr_ACCnephr: 1.0000 - val_loss: 0.1984 - val_inflan_loss: 0.1169 - val_nephr_loss: 0.1166 - val_inflan_ACCinflan: 1.0000 - val_nephr_ACCnephr: 1.0000\n",
      "Epoch 835/1000\n",
      "64/64 [==============================] - 0s 196us/sample - loss: 0.1643 - inflan_loss: 0.1103 - nephr_loss: 0.0845 - inflan_ACCinflan: 1.0000 - nephr_ACCnephr: 1.0000 - val_loss: 0.1982 - val_inflan_loss: 0.1167 - val_nephr_loss: 0.1164 - val_inflan_ACCinflan: 1.0000 - val_nephr_ACCnephr: 1.0000\n",
      "Epoch 836/1000\n",
      "64/64 [==============================] - 0s 1ms/sample - loss: 0.1641 - inflan_loss: 0.1102 - nephr_loss: 0.0844 - inflan_ACCinflan: 1.0000 - nephr_ACCnephr: 1.0000 - val_loss: 0.1979 - val_inflan_loss: 0.1166 - val_nephr_loss: 0.1163 - val_inflan_ACCinflan: 1.0000 - val_nephr_ACCnephr: 1.0000\n"
     ]
    },
    {
     "name": "stdout",
     "output_type": "stream",
     "text": [
      "Epoch 837/1000\n",
      "64/64 [==============================] - 0s 1ms/sample - loss: 0.1639 - inflan_loss: 0.1100 - nephr_loss: 0.0843 - inflan_ACCinflan: 1.0000 - nephr_ACCnephr: 1.0000 - val_loss: 0.1977 - val_inflan_loss: 0.1164 - val_nephr_loss: 0.1161 - val_inflan_ACCinflan: 1.0000 - val_nephr_ACCnephr: 1.0000\n",
      "Epoch 838/1000\n",
      "64/64 [==============================] - 0s 199us/sample - loss: 0.1636 - inflan_loss: 0.1099 - nephr_loss: 0.0841 - inflan_ACCinflan: 1.0000 - nephr_ACCnephr: 1.0000 - val_loss: 0.1974 - val_inflan_loss: 0.1163 - val_nephr_loss: 0.1160 - val_inflan_ACCinflan: 1.0000 - val_nephr_ACCnephr: 1.0000\n",
      "Epoch 839/1000\n",
      "64/64 [==============================] - 0s 191us/sample - loss: 0.1634 - inflan_loss: 0.1097 - nephr_loss: 0.0840 - inflan_ACCinflan: 1.0000 - nephr_ACCnephr: 1.0000 - val_loss: 0.1972 - val_inflan_loss: 0.1161 - val_nephr_loss: 0.1158 - val_inflan_ACCinflan: 1.0000 - val_nephr_ACCnephr: 1.0000\n",
      "Epoch 840/1000\n",
      "64/64 [==============================] - 0s 1ms/sample - loss: 0.1632 - inflan_loss: 0.1096 - nephr_loss: 0.0839 - inflan_ACCinflan: 1.0000 - nephr_ACCnephr: 1.0000 - val_loss: 0.1969 - val_inflan_loss: 0.1160 - val_nephr_loss: 0.1157 - val_inflan_ACCinflan: 1.0000 - val_nephr_ACCnephr: 1.0000\n",
      "Epoch 841/1000\n",
      "64/64 [==============================] - 0s 215us/sample - loss: 0.1630 - inflan_loss: 0.1095 - nephr_loss: 0.0838 - inflan_ACCinflan: 1.0000 - nephr_ACCnephr: 1.0000 - val_loss: 0.1967 - val_inflan_loss: 0.1158 - val_nephr_loss: 0.1155 - val_inflan_ACCinflan: 1.0000 - val_nephr_ACCnephr: 1.0000\n",
      "Epoch 842/1000\n",
      "64/64 [==============================] - 0s 1ms/sample - loss: 0.1628 - inflan_loss: 0.1093 - nephr_loss: 0.0837 - inflan_ACCinflan: 1.0000 - nephr_ACCnephr: 1.0000 - val_loss: 0.1964 - val_inflan_loss: 0.1157 - val_nephr_loss: 0.1154 - val_inflan_ACCinflan: 1.0000 - val_nephr_ACCnephr: 1.0000\n",
      "Epoch 843/1000\n",
      "64/64 [==============================] - 0s 1ms/sample - loss: 0.1625 - inflan_loss: 0.1092 - nephr_loss: 0.0835 - inflan_ACCinflan: 1.0000 - nephr_ACCnephr: 1.0000 - val_loss: 0.1962 - val_inflan_loss: 0.1156 - val_nephr_loss: 0.1152 - val_inflan_ACCinflan: 1.0000 - val_nephr_ACCnephr: 1.0000\n",
      "Epoch 844/1000\n",
      "64/64 [==============================] - 0s 1ms/sample - loss: 0.1623 - inflan_loss: 0.1090 - nephr_loss: 0.0834 - inflan_ACCinflan: 1.0000 - nephr_ACCnephr: 1.0000 - val_loss: 0.1959 - val_inflan_loss: 0.1154 - val_nephr_loss: 0.1151 - val_inflan_ACCinflan: 1.0000 - val_nephr_ACCnephr: 1.0000\n",
      "Epoch 845/1000\n",
      "64/64 [==============================] - 0s 196us/sample - loss: 0.1621 - inflan_loss: 0.1089 - nephr_loss: 0.0833 - inflan_ACCinflan: 1.0000 - nephr_ACCnephr: 1.0000 - val_loss: 0.1957 - val_inflan_loss: 0.1153 - val_nephr_loss: 0.1149 - val_inflan_ACCinflan: 1.0000 - val_nephr_ACCnephr: 1.0000\n",
      "Epoch 846/1000\n",
      "64/64 [==============================] - 0s 1ms/sample - loss: 0.1619 - inflan_loss: 0.1088 - nephr_loss: 0.0832 - inflan_ACCinflan: 1.0000 - nephr_ACCnephr: 1.0000 - val_loss: 0.1954 - val_inflan_loss: 0.1151 - val_nephr_loss: 0.1148 - val_inflan_ACCinflan: 1.0000 - val_nephr_ACCnephr: 1.0000\n",
      "Epoch 847/1000\n",
      "64/64 [==============================] - 0s 1ms/sample - loss: 0.1617 - inflan_loss: 0.1086 - nephr_loss: 0.0831 - inflan_ACCinflan: 1.0000 - nephr_ACCnephr: 1.0000 - val_loss: 0.1952 - val_inflan_loss: 0.1150 - val_nephr_loss: 0.1147 - val_inflan_ACCinflan: 1.0000 - val_nephr_ACCnephr: 1.0000\n",
      "Epoch 848/1000\n",
      "64/64 [==============================] - 0s 188us/sample - loss: 0.1614 - inflan_loss: 0.1085 - nephr_loss: 0.0829 - inflan_ACCinflan: 1.0000 - nephr_ACCnephr: 1.0000 - val_loss: 0.1949 - val_inflan_loss: 0.1148 - val_nephr_loss: 0.1145 - val_inflan_ACCinflan: 1.0000 - val_nephr_ACCnephr: 1.0000\n",
      "Epoch 849/1000\n",
      "64/64 [==============================] - 0s 1ms/sample - loss: 0.1612 - inflan_loss: 0.1084 - nephr_loss: 0.0828 - inflan_ACCinflan: 1.0000 - nephr_ACCnephr: 1.0000 - val_loss: 0.1947 - val_inflan_loss: 0.1147 - val_nephr_loss: 0.1144 - val_inflan_ACCinflan: 1.0000 - val_nephr_ACCnephr: 1.0000\n",
      "Epoch 850/1000\n",
      "64/64 [==============================] - 0s 1ms/sample - loss: 0.1610 - inflan_loss: 0.1082 - nephr_loss: 0.0827 - inflan_ACCinflan: 1.0000 - nephr_ACCnephr: 1.0000 - val_loss: 0.1944 - val_inflan_loss: 0.1145 - val_nephr_loss: 0.1142 - val_inflan_ACCinflan: 1.0000 - val_nephr_ACCnephr: 1.0000\n",
      "Epoch 851/1000\n",
      "64/64 [==============================] - 0s 196us/sample - loss: 0.1608 - inflan_loss: 0.1081 - nephr_loss: 0.0826 - inflan_ACCinflan: 1.0000 - nephr_ACCnephr: 1.0000 - val_loss: 0.1942 - val_inflan_loss: 0.1144 - val_nephr_loss: 0.1141 - val_inflan_ACCinflan: 1.0000 - val_nephr_ACCnephr: 1.0000\n",
      "Epoch 852/1000\n",
      "64/64 [==============================] - 0s 1ms/sample - loss: 0.1606 - inflan_loss: 0.1080 - nephr_loss: 0.0825 - inflan_ACCinflan: 1.0000 - nephr_ACCnephr: 1.0000 - val_loss: 0.1939 - val_inflan_loss: 0.1142 - val_nephr_loss: 0.1139 - val_inflan_ACCinflan: 1.0000 - val_nephr_ACCnephr: 1.0000\n",
      "Epoch 853/1000\n",
      "64/64 [==============================] - 0s 1ms/sample - loss: 0.1604 - inflan_loss: 0.1078 - nephr_loss: 0.0823 - inflan_ACCinflan: 1.0000 - nephr_ACCnephr: 1.0000 - val_loss: 0.1937 - val_inflan_loss: 0.1141 - val_nephr_loss: 0.1138 - val_inflan_ACCinflan: 1.0000 - val_nephr_ACCnephr: 1.0000\n",
      "Epoch 854/1000\n",
      "64/64 [==============================] - 0s 196us/sample - loss: 0.1602 - inflan_loss: 0.1077 - nephr_loss: 0.0822 - inflan_ACCinflan: 1.0000 - nephr_ACCnephr: 1.0000 - val_loss: 0.1934 - val_inflan_loss: 0.1140 - val_nephr_loss: 0.1136 - val_inflan_ACCinflan: 1.0000 - val_nephr_ACCnephr: 1.0000\n",
      "Epoch 855/1000\n",
      "64/64 [==============================] - 0s 1ms/sample - loss: 0.1599 - inflan_loss: 0.1075 - nephr_loss: 0.0821 - inflan_ACCinflan: 1.0000 - nephr_ACCnephr: 1.0000 - val_loss: 0.1932 - val_inflan_loss: 0.1138 - val_nephr_loss: 0.1135 - val_inflan_ACCinflan: 1.0000 - val_nephr_ACCnephr: 1.0000\n",
      "Epoch 856/1000\n",
      "64/64 [==============================] - 0s 1ms/sample - loss: 0.1597 - inflan_loss: 0.1074 - nephr_loss: 0.0820 - inflan_ACCinflan: 1.0000 - nephr_ACCnephr: 1.0000 - val_loss: 0.1930 - val_inflan_loss: 0.1137 - val_nephr_loss: 0.1134 - val_inflan_ACCinflan: 1.0000 - val_nephr_ACCnephr: 1.0000\n",
      "Epoch 857/1000\n",
      "64/64 [==============================] - 0s 190us/sample - loss: 0.1595 - inflan_loss: 0.1073 - nephr_loss: 0.0819 - inflan_ACCinflan: 1.0000 - nephr_ACCnephr: 1.0000 - val_loss: 0.1927 - val_inflan_loss: 0.1135 - val_nephr_loss: 0.1132 - val_inflan_ACCinflan: 1.0000 - val_nephr_ACCnephr: 1.0000\n",
      "Epoch 858/1000\n",
      "64/64 [==============================] - 0s 1ms/sample - loss: 0.1593 - inflan_loss: 0.1071 - nephr_loss: 0.0818 - inflan_ACCinflan: 1.0000 - nephr_ACCnephr: 1.0000 - val_loss: 0.1925 - val_inflan_loss: 0.1134 - val_nephr_loss: 0.1131 - val_inflan_ACCinflan: 1.0000 - val_nephr_ACCnephr: 1.0000\n",
      "Epoch 859/1000\n",
      "64/64 [==============================] - 0s 1ms/sample - loss: 0.1591 - inflan_loss: 0.1070 - nephr_loss: 0.0816 - inflan_ACCinflan: 1.0000 - nephr_ACCnephr: 1.0000 - val_loss: 0.1922 - val_inflan_loss: 0.1132 - val_nephr_loss: 0.1129 - val_inflan_ACCinflan: 1.0000 - val_nephr_ACCnephr: 1.0000\n",
      "Epoch 860/1000\n",
      "64/64 [==============================] - 0s 199us/sample - loss: 0.1589 - inflan_loss: 0.1069 - nephr_loss: 0.0815 - inflan_ACCinflan: 1.0000 - nephr_ACCnephr: 1.0000 - val_loss: 0.1920 - val_inflan_loss: 0.1131 - val_nephr_loss: 0.1128 - val_inflan_ACCinflan: 1.0000 - val_nephr_ACCnephr: 1.0000\n",
      "Epoch 861/1000\n",
      "64/64 [==============================] - 0s 191us/sample - loss: 0.1587 - inflan_loss: 0.1067 - nephr_loss: 0.0814 - inflan_ACCinflan: 1.0000 - nephr_ACCnephr: 1.0000 - val_loss: 0.1917 - val_inflan_loss: 0.1129 - val_nephr_loss: 0.1126 - val_inflan_ACCinflan: 1.0000 - val_nephr_ACCnephr: 1.0000\n",
      "Epoch 862/1000\n",
      "64/64 [==============================] - 0s 1ms/sample - loss: 0.1585 - inflan_loss: 0.1066 - nephr_loss: 0.0813 - inflan_ACCinflan: 1.0000 - nephr_ACCnephr: 1.0000 - val_loss: 0.1915 - val_inflan_loss: 0.1128 - val_nephr_loss: 0.1125 - val_inflan_ACCinflan: 1.0000 - val_nephr_ACCnephr: 1.0000\n",
      "Epoch 863/1000\n",
      "64/64 [==============================] - 0s 193us/sample - loss: 0.1582 - inflan_loss: 0.1065 - nephr_loss: 0.0812 - inflan_ACCinflan: 1.0000 - nephr_ACCnephr: 1.0000 - val_loss: 0.1913 - val_inflan_loss: 0.1127 - val_nephr_loss: 0.1124 - val_inflan_ACCinflan: 1.0000 - val_nephr_ACCnephr: 1.0000\n"
     ]
    },
    {
     "name": "stdout",
     "output_type": "stream",
     "text": [
      "Epoch 864/1000\n",
      "64/64 [==============================] - 0s 1ms/sample - loss: 0.1580 - inflan_loss: 0.1063 - nephr_loss: 0.0811 - inflan_ACCinflan: 1.0000 - nephr_ACCnephr: 1.0000 - val_loss: 0.1910 - val_inflan_loss: 0.1125 - val_nephr_loss: 0.1122 - val_inflan_ACCinflan: 1.0000 - val_nephr_ACCnephr: 1.0000\n",
      "Epoch 865/1000\n",
      "64/64 [==============================] - 0s 1ms/sample - loss: 0.1578 - inflan_loss: 0.1062 - nephr_loss: 0.0810 - inflan_ACCinflan: 1.0000 - nephr_ACCnephr: 1.0000 - val_loss: 0.1908 - val_inflan_loss: 0.1124 - val_nephr_loss: 0.1121 - val_inflan_ACCinflan: 1.0000 - val_nephr_ACCnephr: 1.0000\n",
      "Epoch 866/1000\n",
      "64/64 [==============================] - 0s 188us/sample - loss: 0.1576 - inflan_loss: 0.1061 - nephr_loss: 0.0808 - inflan_ACCinflan: 1.0000 - nephr_ACCnephr: 1.0000 - val_loss: 0.1905 - val_inflan_loss: 0.1122 - val_nephr_loss: 0.1119 - val_inflan_ACCinflan: 1.0000 - val_nephr_ACCnephr: 1.0000\n",
      "Epoch 867/1000\n",
      "64/64 [==============================] - 0s 212us/sample - loss: 0.1574 - inflan_loss: 0.1059 - nephr_loss: 0.0807 - inflan_ACCinflan: 1.0000 - nephr_ACCnephr: 1.0000 - val_loss: 0.1903 - val_inflan_loss: 0.1121 - val_nephr_loss: 0.1118 - val_inflan_ACCinflan: 1.0000 - val_nephr_ACCnephr: 1.0000\n",
      "Epoch 868/1000\n",
      "64/64 [==============================] - 0s 1ms/sample - loss: 0.1572 - inflan_loss: 0.1058 - nephr_loss: 0.0806 - inflan_ACCinflan: 1.0000 - nephr_ACCnephr: 1.0000 - val_loss: 0.1901 - val_inflan_loss: 0.1120 - val_nephr_loss: 0.1117 - val_inflan_ACCinflan: 1.0000 - val_nephr_ACCnephr: 1.0000\n",
      "Epoch 869/1000\n",
      "64/64 [==============================] - 0s 189us/sample - loss: 0.1570 - inflan_loss: 0.1057 - nephr_loss: 0.0805 - inflan_ACCinflan: 1.0000 - nephr_ACCnephr: 1.0000 - val_loss: 0.1898 - val_inflan_loss: 0.1118 - val_nephr_loss: 0.1115 - val_inflan_ACCinflan: 1.0000 - val_nephr_ACCnephr: 1.0000\n",
      "Epoch 870/1000\n",
      "64/64 [==============================] - 0s 1ms/sample - loss: 0.1568 - inflan_loss: 0.1055 - nephr_loss: 0.0804 - inflan_ACCinflan: 1.0000 - nephr_ACCnephr: 1.0000 - val_loss: 0.1896 - val_inflan_loss: 0.1117 - val_nephr_loss: 0.1114 - val_inflan_ACCinflan: 1.0000 - val_nephr_ACCnephr: 1.0000\n",
      "Epoch 871/1000\n",
      "64/64 [==============================] - 0s 2ms/sample - loss: 0.1566 - inflan_loss: 0.1054 - nephr_loss: 0.0803 - inflan_ACCinflan: 1.0000 - nephr_ACCnephr: 1.0000 - val_loss: 0.1893 - val_inflan_loss: 0.1115 - val_nephr_loss: 0.1112 - val_inflan_ACCinflan: 1.0000 - val_nephr_ACCnephr: 1.0000\n",
      "Epoch 872/1000\n",
      "64/64 [==============================] - 0s 189us/sample - loss: 0.1564 - inflan_loss: 0.1053 - nephr_loss: 0.0802 - inflan_ACCinflan: 1.0000 - nephr_ACCnephr: 1.0000 - val_loss: 0.1891 - val_inflan_loss: 0.1114 - val_nephr_loss: 0.1111 - val_inflan_ACCinflan: 1.0000 - val_nephr_ACCnephr: 1.0000\n",
      "Epoch 873/1000\n",
      "64/64 [==============================] - 0s 1ms/sample - loss: 0.1562 - inflan_loss: 0.1052 - nephr_loss: 0.0800 - inflan_ACCinflan: 1.0000 - nephr_ACCnephr: 1.0000 - val_loss: 0.1889 - val_inflan_loss: 0.1113 - val_nephr_loss: 0.1110 - val_inflan_ACCinflan: 1.0000 - val_nephr_ACCnephr: 1.0000\n",
      "Epoch 874/1000\n",
      "64/64 [==============================] - 0s 2ms/sample - loss: 0.1560 - inflan_loss: 0.1050 - nephr_loss: 0.0799 - inflan_ACCinflan: 1.0000 - nephr_ACCnephr: 1.0000 - val_loss: 0.1886 - val_inflan_loss: 0.1111 - val_nephr_loss: 0.1108 - val_inflan_ACCinflan: 1.0000 - val_nephr_ACCnephr: 1.0000\n",
      "Epoch 875/1000\n",
      "64/64 [==============================] - 0s 1ms/sample - loss: 0.1557 - inflan_loss: 0.1049 - nephr_loss: 0.0798 - inflan_ACCinflan: 1.0000 - nephr_ACCnephr: 1.0000 - val_loss: 0.1884 - val_inflan_loss: 0.1110 - val_nephr_loss: 0.1107 - val_inflan_ACCinflan: 1.0000 - val_nephr_ACCnephr: 1.0000\n",
      "Epoch 876/1000\n",
      "64/64 [==============================] - 0s 192us/sample - loss: 0.1555 - inflan_loss: 0.1048 - nephr_loss: 0.0797 - inflan_ACCinflan: 1.0000 - nephr_ACCnephr: 1.0000 - val_loss: 0.1882 - val_inflan_loss: 0.1108 - val_nephr_loss: 0.1106 - val_inflan_ACCinflan: 1.0000 - val_nephr_ACCnephr: 1.0000\n",
      "Epoch 877/1000\n",
      "64/64 [==============================] - 0s 1ms/sample - loss: 0.1553 - inflan_loss: 0.1046 - nephr_loss: 0.0796 - inflan_ACCinflan: 1.0000 - nephr_ACCnephr: 1.0000 - val_loss: 0.1879 - val_inflan_loss: 0.1107 - val_nephr_loss: 0.1104 - val_inflan_ACCinflan: 1.0000 - val_nephr_ACCnephr: 1.0000\n",
      "Epoch 878/1000\n",
      "64/64 [==============================] - 0s 1ms/sample - loss: 0.1551 - inflan_loss: 0.1045 - nephr_loss: 0.0795 - inflan_ACCinflan: 1.0000 - nephr_ACCnephr: 1.0000 - val_loss: 0.1877 - val_inflan_loss: 0.1106 - val_nephr_loss: 0.1103 - val_inflan_ACCinflan: 1.0000 - val_nephr_ACCnephr: 1.0000\n",
      "Epoch 879/1000\n",
      "64/64 [==============================] - 0s 237us/sample - loss: 0.1549 - inflan_loss: 0.1044 - nephr_loss: 0.0794 - inflan_ACCinflan: 1.0000 - nephr_ACCnephr: 1.0000 - val_loss: 0.1875 - val_inflan_loss: 0.1104 - val_nephr_loss: 0.1101 - val_inflan_ACCinflan: 1.0000 - val_nephr_ACCnephr: 1.0000\n",
      "Epoch 880/1000\n",
      "64/64 [==============================] - 0s 1ms/sample - loss: 0.1547 - inflan_loss: 0.1042 - nephr_loss: 0.0793 - inflan_ACCinflan: 1.0000 - nephr_ACCnephr: 1.0000 - val_loss: 0.1872 - val_inflan_loss: 0.1103 - val_nephr_loss: 0.1100 - val_inflan_ACCinflan: 1.0000 - val_nephr_ACCnephr: 1.0000\n",
      "Epoch 881/1000\n",
      "64/64 [==============================] - 0s 1ms/sample - loss: 0.1545 - inflan_loss: 0.1041 - nephr_loss: 0.0791 - inflan_ACCinflan: 1.0000 - nephr_ACCnephr: 1.0000 - val_loss: 0.1870 - val_inflan_loss: 0.1101 - val_nephr_loss: 0.1099 - val_inflan_ACCinflan: 1.0000 - val_nephr_ACCnephr: 1.0000\n",
      "Epoch 882/1000\n",
      "64/64 [==============================] - 0s 204us/sample - loss: 0.1543 - inflan_loss: 0.1040 - nephr_loss: 0.0790 - inflan_ACCinflan: 1.0000 - nephr_ACCnephr: 1.0000 - val_loss: 0.1868 - val_inflan_loss: 0.1100 - val_nephr_loss: 0.1097 - val_inflan_ACCinflan: 1.0000 - val_nephr_ACCnephr: 1.0000\n",
      "Epoch 883/1000\n",
      "64/64 [==============================] - 0s 197us/sample - loss: 0.1541 - inflan_loss: 0.1038 - nephr_loss: 0.0789 - inflan_ACCinflan: 1.0000 - nephr_ACCnephr: 1.0000 - val_loss: 0.1865 - val_inflan_loss: 0.1099 - val_nephr_loss: 0.1096 - val_inflan_ACCinflan: 1.0000 - val_nephr_ACCnephr: 1.0000\n",
      "Epoch 884/1000\n",
      "64/64 [==============================] - 0s 2ms/sample - loss: 0.1539 - inflan_loss: 0.1037 - nephr_loss: 0.0788 - inflan_ACCinflan: 1.0000 - nephr_ACCnephr: 1.0000 - val_loss: 0.1863 - val_inflan_loss: 0.1097 - val_nephr_loss: 0.1095 - val_inflan_ACCinflan: 1.0000 - val_nephr_ACCnephr: 1.0000\n",
      "Epoch 885/1000\n",
      "64/64 [==============================] - 0s 191us/sample - loss: 0.1537 - inflan_loss: 0.1036 - nephr_loss: 0.0787 - inflan_ACCinflan: 1.0000 - nephr_ACCnephr: 1.0000 - val_loss: 0.1861 - val_inflan_loss: 0.1096 - val_nephr_loss: 0.1093 - val_inflan_ACCinflan: 1.0000 - val_nephr_ACCnephr: 1.0000\n",
      "Epoch 886/1000\n",
      "64/64 [==============================] - 0s 197us/sample - loss: 0.1535 - inflan_loss: 0.1035 - nephr_loss: 0.0786 - inflan_ACCinflan: 1.0000 - nephr_ACCnephr: 1.0000 - val_loss: 0.1858 - val_inflan_loss: 0.1095 - val_nephr_loss: 0.1092 - val_inflan_ACCinflan: 1.0000 - val_nephr_ACCnephr: 1.0000\n",
      "Epoch 887/1000\n",
      "64/64 [==============================] - 0s 2ms/sample - loss: 0.1533 - inflan_loss: 0.1033 - nephr_loss: 0.0785 - inflan_ACCinflan: 1.0000 - nephr_ACCnephr: 1.0000 - val_loss: 0.1856 - val_inflan_loss: 0.1093 - val_nephr_loss: 0.1091 - val_inflan_ACCinflan: 1.0000 - val_nephr_ACCnephr: 1.0000\n",
      "Epoch 888/1000\n",
      "64/64 [==============================] - 0s 1ms/sample - loss: 0.1531 - inflan_loss: 0.1032 - nephr_loss: 0.0784 - inflan_ACCinflan: 1.0000 - nephr_ACCnephr: 1.0000 - val_loss: 0.1854 - val_inflan_loss: 0.1092 - val_nephr_loss: 0.1089 - val_inflan_ACCinflan: 1.0000 - val_nephr_ACCnephr: 1.0000\n",
      "Epoch 889/1000\n",
      "64/64 [==============================] - 0s 213us/sample - loss: 0.1529 - inflan_loss: 0.1031 - nephr_loss: 0.0783 - inflan_ACCinflan: 1.0000 - nephr_ACCnephr: 1.0000 - val_loss: 0.1851 - val_inflan_loss: 0.1090 - val_nephr_loss: 0.1088 - val_inflan_ACCinflan: 1.0000 - val_nephr_ACCnephr: 1.0000\n",
      "Epoch 890/1000\n",
      "64/64 [==============================] - 0s 1ms/sample - loss: 0.1527 - inflan_loss: 0.1030 - nephr_loss: 0.0782 - inflan_ACCinflan: 1.0000 - nephr_ACCnephr: 1.0000 - val_loss: 0.1849 - val_inflan_loss: 0.1089 - val_nephr_loss: 0.1086 - val_inflan_ACCinflan: 1.0000 - val_nephr_ACCnephr: 1.0000\n"
     ]
    },
    {
     "name": "stdout",
     "output_type": "stream",
     "text": [
      "Epoch 891/1000\n",
      "64/64 [==============================] - 0s 2ms/sample - loss: 0.1525 - inflan_loss: 0.1028 - nephr_loss: 0.0781 - inflan_ACCinflan: 1.0000 - nephr_ACCnephr: 1.0000 - val_loss: 0.1847 - val_inflan_loss: 0.1088 - val_nephr_loss: 0.1085 - val_inflan_ACCinflan: 1.0000 - val_nephr_ACCnephr: 1.0000\n",
      "Epoch 892/1000\n",
      "64/64 [==============================] - 0s 192us/sample - loss: 0.1523 - inflan_loss: 0.1027 - nephr_loss: 0.0779 - inflan_ACCinflan: 1.0000 - nephr_ACCnephr: 1.0000 - val_loss: 0.1844 - val_inflan_loss: 0.1086 - val_nephr_loss: 0.1084 - val_inflan_ACCinflan: 1.0000 - val_nephr_ACCnephr: 1.0000\n",
      "Epoch 893/1000\n",
      "64/64 [==============================] - 0s 1ms/sample - loss: 0.1521 - inflan_loss: 0.1026 - nephr_loss: 0.0778 - inflan_ACCinflan: 1.0000 - nephr_ACCnephr: 1.0000 - val_loss: 0.1842 - val_inflan_loss: 0.1085 - val_nephr_loss: 0.1082 - val_inflan_ACCinflan: 1.0000 - val_nephr_ACCnephr: 1.0000\n",
      "Epoch 894/1000\n",
      "64/64 [==============================] - 0s 2ms/sample - loss: 0.1519 - inflan_loss: 0.1024 - nephr_loss: 0.0777 - inflan_ACCinflan: 1.0000 - nephr_ACCnephr: 1.0000 - val_loss: 0.1840 - val_inflan_loss: 0.1084 - val_nephr_loss: 0.1081 - val_inflan_ACCinflan: 1.0000 - val_nephr_ACCnephr: 1.0000\n",
      "Epoch 895/1000\n",
      "64/64 [==============================] - 0s 1ms/sample - loss: 0.1517 - inflan_loss: 0.1023 - nephr_loss: 0.0776 - inflan_ACCinflan: 1.0000 - nephr_ACCnephr: 1.0000 - val_loss: 0.1838 - val_inflan_loss: 0.1082 - val_nephr_loss: 0.1080 - val_inflan_ACCinflan: 1.0000 - val_nephr_ACCnephr: 1.0000\n",
      "Epoch 896/1000\n",
      "64/64 [==============================] - 0s 225us/sample - loss: 0.1515 - inflan_loss: 0.1022 - nephr_loss: 0.0775 - inflan_ACCinflan: 1.0000 - nephr_ACCnephr: 1.0000 - val_loss: 0.1835 - val_inflan_loss: 0.1081 - val_nephr_loss: 0.1078 - val_inflan_ACCinflan: 1.0000 - val_nephr_ACCnephr: 1.0000\n",
      "Epoch 897/1000\n",
      "64/64 [==============================] - 0s 1ms/sample - loss: 0.1513 - inflan_loss: 0.1021 - nephr_loss: 0.0774 - inflan_ACCinflan: 1.0000 - nephr_ACCnephr: 1.0000 - val_loss: 0.1833 - val_inflan_loss: 0.1080 - val_nephr_loss: 0.1077 - val_inflan_ACCinflan: 1.0000 - val_nephr_ACCnephr: 1.0000\n",
      "Epoch 898/1000\n",
      "64/64 [==============================] - 0s 1ms/sample - loss: 0.1511 - inflan_loss: 0.1019 - nephr_loss: 0.0773 - inflan_ACCinflan: 1.0000 - nephr_ACCnephr: 1.0000 - val_loss: 0.1831 - val_inflan_loss: 0.1078 - val_nephr_loss: 0.1076 - val_inflan_ACCinflan: 1.0000 - val_nephr_ACCnephr: 1.0000\n",
      "Epoch 899/1000\n",
      "64/64 [==============================] - 0s 207us/sample - loss: 0.1509 - inflan_loss: 0.1018 - nephr_loss: 0.0772 - inflan_ACCinflan: 1.0000 - nephr_ACCnephr: 1.0000 - val_loss: 0.1829 - val_inflan_loss: 0.1077 - val_nephr_loss: 0.1074 - val_inflan_ACCinflan: 1.0000 - val_nephr_ACCnephr: 1.0000\n",
      "Epoch 900/1000\n",
      "64/64 [==============================] - 0s 1ms/sample - loss: 0.1507 - inflan_loss: 0.1017 - nephr_loss: 0.0771 - inflan_ACCinflan: 1.0000 - nephr_ACCnephr: 1.0000 - val_loss: 0.1826 - val_inflan_loss: 0.1076 - val_nephr_loss: 0.1073 - val_inflan_ACCinflan: 1.0000 - val_nephr_ACCnephr: 1.0000\n",
      "Epoch 901/1000\n",
      "64/64 [==============================] - 0s 2ms/sample - loss: 0.1505 - inflan_loss: 0.1016 - nephr_loss: 0.0770 - inflan_ACCinflan: 1.0000 - nephr_ACCnephr: 1.0000 - val_loss: 0.1824 - val_inflan_loss: 0.1074 - val_nephr_loss: 0.1072 - val_inflan_ACCinflan: 1.0000 - val_nephr_ACCnephr: 1.0000\n",
      "Epoch 902/1000\n",
      "64/64 [==============================] - 0s 197us/sample - loss: 0.1503 - inflan_loss: 0.1014 - nephr_loss: 0.0769 - inflan_ACCinflan: 1.0000 - nephr_ACCnephr: 1.0000 - val_loss: 0.1822 - val_inflan_loss: 0.1073 - val_nephr_loss: 0.1071 - val_inflan_ACCinflan: 1.0000 - val_nephr_ACCnephr: 1.0000\n",
      "Epoch 903/1000\n",
      "64/64 [==============================] - 0s 1ms/sample - loss: 0.1501 - inflan_loss: 0.1013 - nephr_loss: 0.0768 - inflan_ACCinflan: 1.0000 - nephr_ACCnephr: 1.0000 - val_loss: 0.1819 - val_inflan_loss: 0.1072 - val_nephr_loss: 0.1069 - val_inflan_ACCinflan: 1.0000 - val_nephr_ACCnephr: 1.0000\n",
      "Epoch 904/1000\n",
      "64/64 [==============================] - 0s 2ms/sample - loss: 0.1499 - inflan_loss: 0.1012 - nephr_loss: 0.0767 - inflan_ACCinflan: 1.0000 - nephr_ACCnephr: 1.0000 - val_loss: 0.1817 - val_inflan_loss: 0.1070 - val_nephr_loss: 0.1068 - val_inflan_ACCinflan: 1.0000 - val_nephr_ACCnephr: 1.0000\n",
      "Epoch 905/1000\n",
      "64/64 [==============================] - 0s 1ms/sample - loss: 0.1497 - inflan_loss: 0.1011 - nephr_loss: 0.0766 - inflan_ACCinflan: 1.0000 - nephr_ACCnephr: 1.0000 - val_loss: 0.1815 - val_inflan_loss: 0.1069 - val_nephr_loss: 0.1067 - val_inflan_ACCinflan: 1.0000 - val_nephr_ACCnephr: 1.0000\n",
      "Epoch 906/1000\n",
      "64/64 [==============================] - 0s 1ms/sample - loss: 0.1496 - inflan_loss: 0.1009 - nephr_loss: 0.0765 - inflan_ACCinflan: 1.0000 - nephr_ACCnephr: 1.0000 - val_loss: 0.1813 - val_inflan_loss: 0.1068 - val_nephr_loss: 0.1065 - val_inflan_ACCinflan: 1.0000 - val_nephr_ACCnephr: 1.0000\n",
      "Epoch 907/1000\n",
      "64/64 [==============================] - 0s 214us/sample - loss: 0.1494 - inflan_loss: 0.1008 - nephr_loss: 0.0763 - inflan_ACCinflan: 1.0000 - nephr_ACCnephr: 1.0000 - val_loss: 0.1811 - val_inflan_loss: 0.1066 - val_nephr_loss: 0.1064 - val_inflan_ACCinflan: 1.0000 - val_nephr_ACCnephr: 1.0000\n",
      "Epoch 908/1000\n",
      "64/64 [==============================] - 0s 2ms/sample - loss: 0.1492 - inflan_loss: 0.1007 - nephr_loss: 0.0762 - inflan_ACCinflan: 1.0000 - nephr_ACCnephr: 1.0000 - val_loss: 0.1808 - val_inflan_loss: 0.1065 - val_nephr_loss: 0.1063 - val_inflan_ACCinflan: 1.0000 - val_nephr_ACCnephr: 1.0000\n",
      "Epoch 909/1000\n",
      "64/64 [==============================] - 0s 1ms/sample - loss: 0.1490 - inflan_loss: 0.1006 - nephr_loss: 0.0761 - inflan_ACCinflan: 1.0000 - nephr_ACCnephr: 1.0000 - val_loss: 0.1806 - val_inflan_loss: 0.1064 - val_nephr_loss: 0.1061 - val_inflan_ACCinflan: 1.0000 - val_nephr_ACCnephr: 1.0000\n",
      "Epoch 910/1000\n",
      "64/64 [==============================] - 0s 209us/sample - loss: 0.1488 - inflan_loss: 0.1004 - nephr_loss: 0.0760 - inflan_ACCinflan: 1.0000 - nephr_ACCnephr: 1.0000 - val_loss: 0.1804 - val_inflan_loss: 0.1062 - val_nephr_loss: 0.1060 - val_inflan_ACCinflan: 1.0000 - val_nephr_ACCnephr: 1.0000\n",
      "Epoch 911/1000\n",
      "64/64 [==============================] - 0s 1ms/sample - loss: 0.1486 - inflan_loss: 0.1003 - nephr_loss: 0.0759 - inflan_ACCinflan: 1.0000 - nephr_ACCnephr: 1.0000 - val_loss: 0.1802 - val_inflan_loss: 0.1061 - val_nephr_loss: 0.1059 - val_inflan_ACCinflan: 1.0000 - val_nephr_ACCnephr: 1.0000\n",
      "Epoch 912/1000\n",
      "64/64 [==============================] - 0s 2ms/sample - loss: 0.1484 - inflan_loss: 0.1002 - nephr_loss: 0.0758 - inflan_ACCinflan: 1.0000 - nephr_ACCnephr: 1.0000 - val_loss: 0.1799 - val_inflan_loss: 0.1060 - val_nephr_loss: 0.1057 - val_inflan_ACCinflan: 1.0000 - val_nephr_ACCnephr: 1.0000\n",
      "Epoch 913/1000\n",
      "64/64 [==============================] - 0s 1ms/sample - loss: 0.1482 - inflan_loss: 0.1001 - nephr_loss: 0.0757 - inflan_ACCinflan: 1.0000 - nephr_ACCnephr: 1.0000 - val_loss: 0.1797 - val_inflan_loss: 0.1058 - val_nephr_loss: 0.1056 - val_inflan_ACCinflan: 1.0000 - val_nephr_ACCnephr: 1.0000\n",
      "Epoch 914/1000\n",
      "64/64 [==============================] - 0s 210us/sample - loss: 0.1480 - inflan_loss: 0.1000 - nephr_loss: 0.0756 - inflan_ACCinflan: 1.0000 - nephr_ACCnephr: 1.0000 - val_loss: 0.1795 - val_inflan_loss: 0.1057 - val_nephr_loss: 0.1055 - val_inflan_ACCinflan: 1.0000 - val_nephr_ACCnephr: 1.0000\n",
      "Epoch 915/1000\n",
      "64/64 [==============================] - 0s 1ms/sample - loss: 0.1478 - inflan_loss: 0.0998 - nephr_loss: 0.0755 - inflan_ACCinflan: 1.0000 - nephr_ACCnephr: 1.0000 - val_loss: 0.1793 - val_inflan_loss: 0.1056 - val_nephr_loss: 0.1054 - val_inflan_ACCinflan: 1.0000 - val_nephr_ACCnephr: 1.0000\n",
      "Epoch 916/1000\n",
      "64/64 [==============================] - 0s 2ms/sample - loss: 0.1476 - inflan_loss: 0.0997 - nephr_loss: 0.0754 - inflan_ACCinflan: 1.0000 - nephr_ACCnephr: 1.0000 - val_loss: 0.1791 - val_inflan_loss: 0.1054 - val_nephr_loss: 0.1052 - val_inflan_ACCinflan: 1.0000 - val_nephr_ACCnephr: 1.0000\n",
      "Epoch 917/1000\n",
      "64/64 [==============================] - 0s 191us/sample - loss: 0.1474 - inflan_loss: 0.0996 - nephr_loss: 0.0753 - inflan_ACCinflan: 1.0000 - nephr_ACCnephr: 1.0000 - val_loss: 0.1788 - val_inflan_loss: 0.1053 - val_nephr_loss: 0.1051 - val_inflan_ACCinflan: 1.0000 - val_nephr_ACCnephr: 1.0000\n"
     ]
    },
    {
     "name": "stdout",
     "output_type": "stream",
     "text": [
      "Epoch 918/1000\n",
      "64/64 [==============================] - 0s 1ms/sample - loss: 0.1473 - inflan_loss: 0.0995 - nephr_loss: 0.0752 - inflan_ACCinflan: 1.0000 - nephr_ACCnephr: 1.0000 - val_loss: 0.1786 - val_inflan_loss: 0.1052 - val_nephr_loss: 0.1050 - val_inflan_ACCinflan: 1.0000 - val_nephr_ACCnephr: 1.0000\n",
      "Epoch 919/1000\n",
      "64/64 [==============================] - 0s 1ms/sample - loss: 0.1471 - inflan_loss: 0.0993 - nephr_loss: 0.0751 - inflan_ACCinflan: 1.0000 - nephr_ACCnephr: 1.0000 - val_loss: 0.1784 - val_inflan_loss: 0.1050 - val_nephr_loss: 0.1048 - val_inflan_ACCinflan: 1.0000 - val_nephr_ACCnephr: 1.0000\n",
      "Epoch 920/1000\n",
      "64/64 [==============================] - 0s 190us/sample - loss: 0.1469 - inflan_loss: 0.0992 - nephr_loss: 0.0750 - inflan_ACCinflan: 1.0000 - nephr_ACCnephr: 1.0000 - val_loss: 0.1782 - val_inflan_loss: 0.1049 - val_nephr_loss: 0.1047 - val_inflan_ACCinflan: 1.0000 - val_nephr_ACCnephr: 1.0000\n",
      "Epoch 921/1000\n",
      "64/64 [==============================] - 0s 1ms/sample - loss: 0.1467 - inflan_loss: 0.0991 - nephr_loss: 0.0749 - inflan_ACCinflan: 1.0000 - nephr_ACCnephr: 1.0000 - val_loss: 0.1780 - val_inflan_loss: 0.1048 - val_nephr_loss: 0.1046 - val_inflan_ACCinflan: 1.0000 - val_nephr_ACCnephr: 1.0000\n",
      "Epoch 922/1000\n",
      "64/64 [==============================] - 0s 2ms/sample - loss: 0.1465 - inflan_loss: 0.0990 - nephr_loss: 0.0748 - inflan_ACCinflan: 1.0000 - nephr_ACCnephr: 1.0000 - val_loss: 0.1777 - val_inflan_loss: 0.1047 - val_nephr_loss: 0.1045 - val_inflan_ACCinflan: 1.0000 - val_nephr_ACCnephr: 1.0000\n",
      "Epoch 923/1000\n",
      "64/64 [==============================] - 0s 1ms/sample - loss: 0.1463 - inflan_loss: 0.0989 - nephr_loss: 0.0747 - inflan_ACCinflan: 1.0000 - nephr_ACCnephr: 1.0000 - val_loss: 0.1775 - val_inflan_loss: 0.1045 - val_nephr_loss: 0.1043 - val_inflan_ACCinflan: 1.0000 - val_nephr_ACCnephr: 1.0000\n",
      "Epoch 924/1000\n",
      "64/64 [==============================] - 0s 191us/sample - loss: 0.1461 - inflan_loss: 0.0987 - nephr_loss: 0.0746 - inflan_ACCinflan: 1.0000 - nephr_ACCnephr: 1.0000 - val_loss: 0.1773 - val_inflan_loss: 0.1044 - val_nephr_loss: 0.1042 - val_inflan_ACCinflan: 1.0000 - val_nephr_ACCnephr: 1.0000\n",
      "Epoch 925/1000\n",
      "64/64 [==============================] - 0s 1ms/sample - loss: 0.1459 - inflan_loss: 0.0986 - nephr_loss: 0.0745 - inflan_ACCinflan: 1.0000 - nephr_ACCnephr: 1.0000 - val_loss: 0.1771 - val_inflan_loss: 0.1043 - val_nephr_loss: 0.1041 - val_inflan_ACCinflan: 1.0000 - val_nephr_ACCnephr: 1.0000\n",
      "Epoch 926/1000\n",
      "64/64 [==============================] - 0s 187us/sample - loss: 0.1457 - inflan_loss: 0.0985 - nephr_loss: 0.0744 - inflan_ACCinflan: 1.0000 - nephr_ACCnephr: 1.0000 - val_loss: 0.1769 - val_inflan_loss: 0.1041 - val_nephr_loss: 0.1040 - val_inflan_ACCinflan: 1.0000 - val_nephr_ACCnephr: 1.0000\n",
      "Epoch 927/1000\n",
      "64/64 [==============================] - 0s 1ms/sample - loss: 0.1456 - inflan_loss: 0.0984 - nephr_loss: 0.0743 - inflan_ACCinflan: 1.0000 - nephr_ACCnephr: 1.0000 - val_loss: 0.1767 - val_inflan_loss: 0.1040 - val_nephr_loss: 0.1038 - val_inflan_ACCinflan: 1.0000 - val_nephr_ACCnephr: 1.0000\n",
      "Epoch 928/1000\n",
      "64/64 [==============================] - 0s 2ms/sample - loss: 0.1454 - inflan_loss: 0.0983 - nephr_loss: 0.0742 - inflan_ACCinflan: 1.0000 - nephr_ACCnephr: 1.0000 - val_loss: 0.1764 - val_inflan_loss: 0.1039 - val_nephr_loss: 0.1037 - val_inflan_ACCinflan: 1.0000 - val_nephr_ACCnephr: 1.0000\n",
      "Epoch 929/1000\n",
      "64/64 [==============================] - 0s 1ms/sample - loss: 0.1452 - inflan_loss: 0.0981 - nephr_loss: 0.0741 - inflan_ACCinflan: 1.0000 - nephr_ACCnephr: 1.0000 - val_loss: 0.1762 - val_inflan_loss: 0.1038 - val_nephr_loss: 0.1036 - val_inflan_ACCinflan: 1.0000 - val_nephr_ACCnephr: 1.0000\n",
      "Epoch 930/1000\n",
      "64/64 [==============================] - 0s 214us/sample - loss: 0.1450 - inflan_loss: 0.0980 - nephr_loss: 0.0740 - inflan_ACCinflan: 1.0000 - nephr_ACCnephr: 1.0000 - val_loss: 0.1760 - val_inflan_loss: 0.1036 - val_nephr_loss: 0.1035 - val_inflan_ACCinflan: 1.0000 - val_nephr_ACCnephr: 1.0000\n",
      "Epoch 931/1000\n",
      "64/64 [==============================] - 0s 1ms/sample - loss: 0.1448 - inflan_loss: 0.0979 - nephr_loss: 0.0739 - inflan_ACCinflan: 1.0000 - nephr_ACCnephr: 1.0000 - val_loss: 0.1758 - val_inflan_loss: 0.1035 - val_nephr_loss: 0.1033 - val_inflan_ACCinflan: 1.0000 - val_nephr_ACCnephr: 1.0000\n",
      "Epoch 932/1000\n",
      "64/64 [==============================] - 0s 1ms/sample - loss: 0.1446 - inflan_loss: 0.0978 - nephr_loss: 0.0738 - inflan_ACCinflan: 1.0000 - nephr_ACCnephr: 1.0000 - val_loss: 0.1756 - val_inflan_loss: 0.1034 - val_nephr_loss: 0.1032 - val_inflan_ACCinflan: 1.0000 - val_nephr_ACCnephr: 1.0000\n",
      "Epoch 933/1000\n",
      "64/64 [==============================] - 0s 1ms/sample - loss: 0.1444 - inflan_loss: 0.0977 - nephr_loss: 0.0737 - inflan_ACCinflan: 1.0000 - nephr_ACCnephr: 1.0000 - val_loss: 0.1754 - val_inflan_loss: 0.1032 - val_nephr_loss: 0.1031 - val_inflan_ACCinflan: 1.0000 - val_nephr_ACCnephr: 1.0000\n",
      "Epoch 934/1000\n",
      "64/64 [==============================] - 0s 208us/sample - loss: 0.1443 - inflan_loss: 0.0975 - nephr_loss: 0.0736 - inflan_ACCinflan: 1.0000 - nephr_ACCnephr: 1.0000 - val_loss: 0.1751 - val_inflan_loss: 0.1031 - val_nephr_loss: 0.1030 - val_inflan_ACCinflan: 1.0000 - val_nephr_ACCnephr: 1.0000\n",
      "Epoch 935/1000\n",
      "64/64 [==============================] - 0s 1ms/sample - loss: 0.1441 - inflan_loss: 0.0974 - nephr_loss: 0.0735 - inflan_ACCinflan: 1.0000 - nephr_ACCnephr: 1.0000 - val_loss: 0.1749 - val_inflan_loss: 0.1030 - val_nephr_loss: 0.1028 - val_inflan_ACCinflan: 1.0000 - val_nephr_ACCnephr: 1.0000\n",
      "Epoch 936/1000\n",
      "64/64 [==============================] - 0s 1ms/sample - loss: 0.1439 - inflan_loss: 0.0973 - nephr_loss: 0.0734 - inflan_ACCinflan: 1.0000 - nephr_ACCnephr: 1.0000 - val_loss: 0.1747 - val_inflan_loss: 0.1029 - val_nephr_loss: 0.1027 - val_inflan_ACCinflan: 1.0000 - val_nephr_ACCnephr: 1.0000\n",
      "Epoch 937/1000\n",
      "64/64 [==============================] - 0s 187us/sample - loss: 0.1437 - inflan_loss: 0.0972 - nephr_loss: 0.0733 - inflan_ACCinflan: 1.0000 - nephr_ACCnephr: 1.0000 - val_loss: 0.1745 - val_inflan_loss: 0.1027 - val_nephr_loss: 0.1026 - val_inflan_ACCinflan: 1.0000 - val_nephr_ACCnephr: 1.0000\n",
      "Epoch 938/1000\n",
      "64/64 [==============================] - 0s 1ms/sample - loss: 0.1435 - inflan_loss: 0.0971 - nephr_loss: 0.0732 - inflan_ACCinflan: 1.0000 - nephr_ACCnephr: 1.0000 - val_loss: 0.1743 - val_inflan_loss: 0.1026 - val_nephr_loss: 0.1025 - val_inflan_ACCinflan: 1.0000 - val_nephr_ACCnephr: 1.0000\n",
      "Epoch 939/1000\n",
      "64/64 [==============================] - 0s 1ms/sample - loss: 0.1433 - inflan_loss: 0.0969 - nephr_loss: 0.0731 - inflan_ACCinflan: 1.0000 - nephr_ACCnephr: 1.0000 - val_loss: 0.1741 - val_inflan_loss: 0.1025 - val_nephr_loss: 0.1023 - val_inflan_ACCinflan: 1.0000 - val_nephr_ACCnephr: 1.0000\n",
      "Epoch 940/1000\n",
      "64/64 [==============================] - 0s 186us/sample - loss: 0.1432 - inflan_loss: 0.0968 - nephr_loss: 0.0730 - inflan_ACCinflan: 1.0000 - nephr_ACCnephr: 1.0000 - val_loss: 0.1739 - val_inflan_loss: 0.1024 - val_nephr_loss: 0.1022 - val_inflan_ACCinflan: 1.0000 - val_nephr_ACCnephr: 1.0000\n",
      "Epoch 941/1000\n",
      "64/64 [==============================] - 0s 1ms/sample - loss: 0.1430 - inflan_loss: 0.0967 - nephr_loss: 0.0729 - inflan_ACCinflan: 1.0000 - nephr_ACCnephr: 1.0000 - val_loss: 0.1737 - val_inflan_loss: 0.1022 - val_nephr_loss: 0.1021 - val_inflan_ACCinflan: 1.0000 - val_nephr_ACCnephr: 1.0000\n",
      "Epoch 942/1000\n",
      "64/64 [==============================] - 0s 1ms/sample - loss: 0.1428 - inflan_loss: 0.0966 - nephr_loss: 0.0728 - inflan_ACCinflan: 1.0000 - nephr_ACCnephr: 1.0000 - val_loss: 0.1735 - val_inflan_loss: 0.1021 - val_nephr_loss: 0.1020 - val_inflan_ACCinflan: 1.0000 - val_nephr_ACCnephr: 1.0000\n",
      "Epoch 943/1000\n",
      "64/64 [==============================] - 0s 195us/sample - loss: 0.1426 - inflan_loss: 0.0965 - nephr_loss: 0.0727 - inflan_ACCinflan: 1.0000 - nephr_ACCnephr: 1.0000 - val_loss: 0.1732 - val_inflan_loss: 0.1020 - val_nephr_loss: 0.1018 - val_inflan_ACCinflan: 1.0000 - val_nephr_ACCnephr: 1.0000\n",
      "Epoch 944/1000\n",
      "64/64 [==============================] - 0s 1ms/sample - loss: 0.1424 - inflan_loss: 0.0964 - nephr_loss: 0.0726 - inflan_ACCinflan: 1.0000 - nephr_ACCnephr: 1.0000 - val_loss: 0.1730 - val_inflan_loss: 0.1019 - val_nephr_loss: 0.1017 - val_inflan_ACCinflan: 1.0000 - val_nephr_ACCnephr: 1.0000\n"
     ]
    },
    {
     "name": "stdout",
     "output_type": "stream",
     "text": [
      "Epoch 945/1000\n",
      "64/64 [==============================] - 0s 2ms/sample - loss: 0.1423 - inflan_loss: 0.0962 - nephr_loss: 0.0725 - inflan_ACCinflan: 1.0000 - nephr_ACCnephr: 1.0000 - val_loss: 0.1728 - val_inflan_loss: 0.1017 - val_nephr_loss: 0.1016 - val_inflan_ACCinflan: 1.0000 - val_nephr_ACCnephr: 1.0000\n",
      "Epoch 946/1000\n",
      "64/64 [==============================] - 0s 191us/sample - loss: 0.1421 - inflan_loss: 0.0961 - nephr_loss: 0.0724 - inflan_ACCinflan: 1.0000 - nephr_ACCnephr: 1.0000 - val_loss: 0.1726 - val_inflan_loss: 0.1016 - val_nephr_loss: 0.1015 - val_inflan_ACCinflan: 1.0000 - val_nephr_ACCnephr: 1.0000\n",
      "Epoch 947/1000\n",
      "64/64 [==============================] - 0s 1ms/sample - loss: 0.1419 - inflan_loss: 0.0960 - nephr_loss: 0.0723 - inflan_ACCinflan: 1.0000 - nephr_ACCnephr: 1.0000 - val_loss: 0.1724 - val_inflan_loss: 0.1015 - val_nephr_loss: 0.1013 - val_inflan_ACCinflan: 1.0000 - val_nephr_ACCnephr: 1.0000\n",
      "Epoch 948/1000\n",
      "64/64 [==============================] - 0s 2ms/sample - loss: 0.1417 - inflan_loss: 0.0959 - nephr_loss: 0.0722 - inflan_ACCinflan: 1.0000 - nephr_ACCnephr: 1.0000 - val_loss: 0.1722 - val_inflan_loss: 0.1014 - val_nephr_loss: 0.1012 - val_inflan_ACCinflan: 1.0000 - val_nephr_ACCnephr: 1.0000\n",
      "Epoch 949/1000\n",
      "64/64 [==============================] - 0s 1ms/sample - loss: 0.1415 - inflan_loss: 0.0958 - nephr_loss: 0.0721 - inflan_ACCinflan: 1.0000 - nephr_ACCnephr: 1.0000 - val_loss: 0.1720 - val_inflan_loss: 0.1012 - val_nephr_loss: 0.1011 - val_inflan_ACCinflan: 1.0000 - val_nephr_ACCnephr: 1.0000\n",
      "Epoch 950/1000\n",
      "64/64 [==============================] - 0s 201us/sample - loss: 0.1414 - inflan_loss: 0.0957 - nephr_loss: 0.0720 - inflan_ACCinflan: 1.0000 - nephr_ACCnephr: 1.0000 - val_loss: 0.1718 - val_inflan_loss: 0.1011 - val_nephr_loss: 0.1010 - val_inflan_ACCinflan: 1.0000 - val_nephr_ACCnephr: 1.0000\n",
      "Epoch 951/1000\n",
      "64/64 [==============================] - 0s 2ms/sample - loss: 0.1412 - inflan_loss: 0.0956 - nephr_loss: 0.0719 - inflan_ACCinflan: 1.0000 - nephr_ACCnephr: 1.0000 - val_loss: 0.1716 - val_inflan_loss: 0.1010 - val_nephr_loss: 0.1009 - val_inflan_ACCinflan: 1.0000 - val_nephr_ACCnephr: 1.0000\n",
      "Epoch 952/1000\n",
      "64/64 [==============================] - 0s 1ms/sample - loss: 0.1410 - inflan_loss: 0.0954 - nephr_loss: 0.0718 - inflan_ACCinflan: 1.0000 - nephr_ACCnephr: 1.0000 - val_loss: 0.1714 - val_inflan_loss: 0.1009 - val_nephr_loss: 0.1007 - val_inflan_ACCinflan: 1.0000 - val_nephr_ACCnephr: 1.0000\n",
      "Epoch 953/1000\n",
      "64/64 [==============================] - 0s 196us/sample - loss: 0.1408 - inflan_loss: 0.0953 - nephr_loss: 0.0717 - inflan_ACCinflan: 1.0000 - nephr_ACCnephr: 1.0000 - val_loss: 0.1711 - val_inflan_loss: 0.1007 - val_nephr_loss: 0.1006 - val_inflan_ACCinflan: 1.0000 - val_nephr_ACCnephr: 1.0000\n",
      "Epoch 954/1000\n",
      "64/64 [==============================] - 0s 1ms/sample - loss: 0.1406 - inflan_loss: 0.0952 - nephr_loss: 0.0716 - inflan_ACCinflan: 1.0000 - nephr_ACCnephr: 1.0000 - val_loss: 0.1709 - val_inflan_loss: 0.1006 - val_nephr_loss: 0.1005 - val_inflan_ACCinflan: 1.0000 - val_nephr_ACCnephr: 1.0000\n",
      "Epoch 955/1000\n",
      "64/64 [==============================] - 0s 2ms/sample - loss: 0.1405 - inflan_loss: 0.0951 - nephr_loss: 0.0716 - inflan_ACCinflan: 1.0000 - nephr_ACCnephr: 1.0000 - val_loss: 0.1707 - val_inflan_loss: 0.1005 - val_nephr_loss: 0.1004 - val_inflan_ACCinflan: 1.0000 - val_nephr_ACCnephr: 1.0000\n",
      "Epoch 956/1000\n",
      "64/64 [==============================] - 0s 1ms/sample - loss: 0.1403 - inflan_loss: 0.0950 - nephr_loss: 0.0715 - inflan_ACCinflan: 1.0000 - nephr_ACCnephr: 1.0000 - val_loss: 0.1705 - val_inflan_loss: 0.1004 - val_nephr_loss: 0.1003 - val_inflan_ACCinflan: 1.0000 - val_nephr_ACCnephr: 1.0000\n",
      "Epoch 957/1000\n",
      "64/64 [==============================] - 0s 216us/sample - loss: 0.1401 - inflan_loss: 0.0949 - nephr_loss: 0.0714 - inflan_ACCinflan: 1.0000 - nephr_ACCnephr: 1.0000 - val_loss: 0.1703 - val_inflan_loss: 0.1002 - val_nephr_loss: 0.1001 - val_inflan_ACCinflan: 1.0000 - val_nephr_ACCnephr: 1.0000\n",
      "Epoch 958/1000\n",
      "64/64 [==============================] - 0s 1ms/sample - loss: 0.1399 - inflan_loss: 0.0947 - nephr_loss: 0.0713 - inflan_ACCinflan: 1.0000 - nephr_ACCnephr: 1.0000 - val_loss: 0.1701 - val_inflan_loss: 0.1001 - val_nephr_loss: 0.1000 - val_inflan_ACCinflan: 1.0000 - val_nephr_ACCnephr: 1.0000\n",
      "Epoch 959/1000\n",
      "64/64 [==============================] - 0s 1ms/sample - loss: 0.1398 - inflan_loss: 0.0946 - nephr_loss: 0.0712 - inflan_ACCinflan: 1.0000 - nephr_ACCnephr: 1.0000 - val_loss: 0.1699 - val_inflan_loss: 0.1000 - val_nephr_loss: 0.0999 - val_inflan_ACCinflan: 1.0000 - val_nephr_ACCnephr: 1.0000\n",
      "Epoch 960/1000\n",
      "64/64 [==============================] - 0s 210us/sample - loss: 0.1396 - inflan_loss: 0.0945 - nephr_loss: 0.0711 - inflan_ACCinflan: 1.0000 - nephr_ACCnephr: 1.0000 - val_loss: 0.1697 - val_inflan_loss: 0.0999 - val_nephr_loss: 0.0998 - val_inflan_ACCinflan: 1.0000 - val_nephr_ACCnephr: 1.0000\n",
      "Epoch 961/1000\n",
      "64/64 [==============================] - 0s 220us/sample - loss: 0.1394 - inflan_loss: 0.0944 - nephr_loss: 0.0710 - inflan_ACCinflan: 1.0000 - nephr_ACCnephr: 1.0000 - val_loss: 0.1695 - val_inflan_loss: 0.0998 - val_nephr_loss: 0.0997 - val_inflan_ACCinflan: 1.0000 - val_nephr_ACCnephr: 1.0000\n",
      "Epoch 962/1000\n",
      "64/64 [==============================] - 0s 1ms/sample - loss: 0.1392 - inflan_loss: 0.0943 - nephr_loss: 0.0709 - inflan_ACCinflan: 1.0000 - nephr_ACCnephr: 1.0000 - val_loss: 0.1693 - val_inflan_loss: 0.0996 - val_nephr_loss: 0.0995 - val_inflan_ACCinflan: 1.0000 - val_nephr_ACCnephr: 1.0000\n",
      "Epoch 963/1000\n",
      "64/64 [==============================] - 0s 1ms/sample - loss: 0.1391 - inflan_loss: 0.0942 - nephr_loss: 0.0708 - inflan_ACCinflan: 1.0000 - nephr_ACCnephr: 1.0000 - val_loss: 0.1691 - val_inflan_loss: 0.0995 - val_nephr_loss: 0.0994 - val_inflan_ACCinflan: 1.0000 - val_nephr_ACCnephr: 1.0000\n",
      "Epoch 964/1000\n",
      "64/64 [==============================] - 0s 182us/sample - loss: 0.1389 - inflan_loss: 0.0941 - nephr_loss: 0.0707 - inflan_ACCinflan: 1.0000 - nephr_ACCnephr: 1.0000 - val_loss: 0.1689 - val_inflan_loss: 0.0994 - val_nephr_loss: 0.0993 - val_inflan_ACCinflan: 1.0000 - val_nephr_ACCnephr: 1.0000\n",
      "Epoch 965/1000\n",
      "64/64 [==============================] - 0s 2ms/sample - loss: 0.1387 - inflan_loss: 0.0940 - nephr_loss: 0.0706 - inflan_ACCinflan: 1.0000 - nephr_ACCnephr: 1.0000 - val_loss: 0.1687 - val_inflan_loss: 0.0993 - val_nephr_loss: 0.0992 - val_inflan_ACCinflan: 1.0000 - val_nephr_ACCnephr: 1.0000\n",
      "Epoch 966/1000\n",
      "64/64 [==============================] - 0s 188us/sample - loss: 0.1385 - inflan_loss: 0.0938 - nephr_loss: 0.0705 - inflan_ACCinflan: 1.0000 - nephr_ACCnephr: 1.0000 - val_loss: 0.1685 - val_inflan_loss: 0.0992 - val_nephr_loss: 0.0991 - val_inflan_ACCinflan: 1.0000 - val_nephr_ACCnephr: 1.0000\n",
      "Epoch 967/1000\n",
      "64/64 [==============================] - 0s 191us/sample - loss: 0.1384 - inflan_loss: 0.0937 - nephr_loss: 0.0704 - inflan_ACCinflan: 1.0000 - nephr_ACCnephr: 1.0000 - val_loss: 0.1683 - val_inflan_loss: 0.0990 - val_nephr_loss: 0.0989 - val_inflan_ACCinflan: 1.0000 - val_nephr_ACCnephr: 1.0000\n",
      "Epoch 968/1000\n",
      "64/64 [==============================] - 0s 2ms/sample - loss: 0.1382 - inflan_loss: 0.0936 - nephr_loss: 0.0703 - inflan_ACCinflan: 1.0000 - nephr_ACCnephr: 1.0000 - val_loss: 0.1681 - val_inflan_loss: 0.0989 - val_nephr_loss: 0.0988 - val_inflan_ACCinflan: 1.0000 - val_nephr_ACCnephr: 1.0000\n",
      "Epoch 969/1000\n",
      "64/64 [==============================] - 0s 1ms/sample - loss: 0.1380 - inflan_loss: 0.0935 - nephr_loss: 0.0702 - inflan_ACCinflan: 1.0000 - nephr_ACCnephr: 1.0000 - val_loss: 0.1679 - val_inflan_loss: 0.0988 - val_nephr_loss: 0.0987 - val_inflan_ACCinflan: 1.0000 - val_nephr_ACCnephr: 1.0000\n",
      "Epoch 970/1000\n",
      "64/64 [==============================] - 0s 182us/sample - loss: 0.1378 - inflan_loss: 0.0934 - nephr_loss: 0.0701 - inflan_ACCinflan: 1.0000 - nephr_ACCnephr: 1.0000 - val_loss: 0.1677 - val_inflan_loss: 0.0987 - val_nephr_loss: 0.0986 - val_inflan_ACCinflan: 1.0000 - val_nephr_ACCnephr: 1.0000\n",
      "Epoch 971/1000\n",
      "64/64 [==============================] - 0s 2ms/sample - loss: 0.1377 - inflan_loss: 0.0933 - nephr_loss: 0.0701 - inflan_ACCinflan: 1.0000 - nephr_ACCnephr: 1.0000 - val_loss: 0.1675 - val_inflan_loss: 0.0986 - val_nephr_loss: 0.0985 - val_inflan_ACCinflan: 1.0000 - val_nephr_ACCnephr: 1.0000\n"
     ]
    },
    {
     "name": "stdout",
     "output_type": "stream",
     "text": [
      "Epoch 972/1000\n",
      "64/64 [==============================] - 0s 1ms/sample - loss: 0.1375 - inflan_loss: 0.0932 - nephr_loss: 0.0700 - inflan_ACCinflan: 1.0000 - nephr_ACCnephr: 1.0000 - val_loss: 0.1673 - val_inflan_loss: 0.0984 - val_nephr_loss: 0.0984 - val_inflan_ACCinflan: 1.0000 - val_nephr_ACCnephr: 1.0000\n",
      "Epoch 973/1000\n",
      "64/64 [==============================] - 0s 192us/sample - loss: 0.1373 - inflan_loss: 0.0931 - nephr_loss: 0.0699 - inflan_ACCinflan: 1.0000 - nephr_ACCnephr: 1.0000 - val_loss: 0.1671 - val_inflan_loss: 0.0983 - val_nephr_loss: 0.0982 - val_inflan_ACCinflan: 1.0000 - val_nephr_ACCnephr: 1.0000\n",
      "Epoch 974/1000\n",
      "64/64 [==============================] - 0s 1ms/sample - loss: 0.1372 - inflan_loss: 0.0929 - nephr_loss: 0.0698 - inflan_ACCinflan: 1.0000 - nephr_ACCnephr: 1.0000 - val_loss: 0.1669 - val_inflan_loss: 0.0982 - val_nephr_loss: 0.0981 - val_inflan_ACCinflan: 1.0000 - val_nephr_ACCnephr: 1.0000\n",
      "Epoch 975/1000\n",
      "64/64 [==============================] - 0s 1ms/sample - loss: 0.1370 - inflan_loss: 0.0928 - nephr_loss: 0.0697 - inflan_ACCinflan: 1.0000 - nephr_ACCnephr: 1.0000 - val_loss: 0.1667 - val_inflan_loss: 0.0981 - val_nephr_loss: 0.0980 - val_inflan_ACCinflan: 1.0000 - val_nephr_ACCnephr: 1.0000\n",
      "Epoch 976/1000\n",
      "64/64 [==============================] - 0s 193us/sample - loss: 0.1368 - inflan_loss: 0.0927 - nephr_loss: 0.0696 - inflan_ACCinflan: 1.0000 - nephr_ACCnephr: 1.0000 - val_loss: 0.1665 - val_inflan_loss: 0.0980 - val_nephr_loss: 0.0979 - val_inflan_ACCinflan: 1.0000 - val_nephr_ACCnephr: 1.0000\n",
      "Epoch 977/1000\n",
      "64/64 [==============================] - 0s 1ms/sample - loss: 0.1366 - inflan_loss: 0.0926 - nephr_loss: 0.0695 - inflan_ACCinflan: 1.0000 - nephr_ACCnephr: 1.0000 - val_loss: 0.1663 - val_inflan_loss: 0.0978 - val_nephr_loss: 0.0978 - val_inflan_ACCinflan: 1.0000 - val_nephr_ACCnephr: 1.0000\n",
      "Epoch 978/1000\n",
      "64/64 [==============================] - 0s 1ms/sample - loss: 0.1365 - inflan_loss: 0.0925 - nephr_loss: 0.0694 - inflan_ACCinflan: 1.0000 - nephr_ACCnephr: 1.0000 - val_loss: 0.1661 - val_inflan_loss: 0.0977 - val_nephr_loss: 0.0977 - val_inflan_ACCinflan: 1.0000 - val_nephr_ACCnephr: 1.0000\n",
      "Epoch 979/1000\n",
      "64/64 [==============================] - 0s 206us/sample - loss: 0.1363 - inflan_loss: 0.0924 - nephr_loss: 0.0693 - inflan_ACCinflan: 1.0000 - nephr_ACCnephr: 1.0000 - val_loss: 0.1659 - val_inflan_loss: 0.0976 - val_nephr_loss: 0.0975 - val_inflan_ACCinflan: 1.0000 - val_nephr_ACCnephr: 1.0000\n",
      "Epoch 980/1000\n",
      "64/64 [==============================] - 0s 1ms/sample - loss: 0.1361 - inflan_loss: 0.0923 - nephr_loss: 0.0692 - inflan_ACCinflan: 1.0000 - nephr_ACCnephr: 1.0000 - val_loss: 0.1657 - val_inflan_loss: 0.0975 - val_nephr_loss: 0.0974 - val_inflan_ACCinflan: 1.0000 - val_nephr_ACCnephr: 1.0000\n",
      "Epoch 981/1000\n",
      "64/64 [==============================] - 0s 2ms/sample - loss: 0.1360 - inflan_loss: 0.0922 - nephr_loss: 0.0691 - inflan_ACCinflan: 1.0000 - nephr_ACCnephr: 1.0000 - val_loss: 0.1655 - val_inflan_loss: 0.0974 - val_nephr_loss: 0.0973 - val_inflan_ACCinflan: 1.0000 - val_nephr_ACCnephr: 1.0000\n",
      "Epoch 982/1000\n",
      "64/64 [==============================] - 0s 251us/sample - loss: 0.1358 - inflan_loss: 0.0921 - nephr_loss: 0.0691 - inflan_ACCinflan: 1.0000 - nephr_ACCnephr: 1.0000 - val_loss: 0.1653 - val_inflan_loss: 0.0972 - val_nephr_loss: 0.0972 - val_inflan_ACCinflan: 1.0000 - val_nephr_ACCnephr: 1.0000\n",
      "Epoch 983/1000\n",
      "64/64 [==============================] - 0s 244us/sample - loss: 0.1356 - inflan_loss: 0.0920 - nephr_loss: 0.0690 - inflan_ACCinflan: 1.0000 - nephr_ACCnephr: 1.0000 - val_loss: 0.1651 - val_inflan_loss: 0.0971 - val_nephr_loss: 0.0971 - val_inflan_ACCinflan: 1.0000 - val_nephr_ACCnephr: 1.0000\n",
      "Epoch 984/1000\n",
      "64/64 [==============================] - 0s 2ms/sample - loss: 0.1355 - inflan_loss: 0.0918 - nephr_loss: 0.0689 - inflan_ACCinflan: 1.0000 - nephr_ACCnephr: 1.0000 - val_loss: 0.1649 - val_inflan_loss: 0.0970 - val_nephr_loss: 0.0970 - val_inflan_ACCinflan: 1.0000 - val_nephr_ACCnephr: 1.0000\n",
      "Epoch 985/1000\n",
      "64/64 [==============================] - 0s 1ms/sample - loss: 0.1353 - inflan_loss: 0.0917 - nephr_loss: 0.0688 - inflan_ACCinflan: 1.0000 - nephr_ACCnephr: 1.0000 - val_loss: 0.1647 - val_inflan_loss: 0.0969 - val_nephr_loss: 0.0969 - val_inflan_ACCinflan: 1.0000 - val_nephr_ACCnephr: 1.0000\n",
      "Epoch 986/1000\n",
      "64/64 [==============================] - 0s 215us/sample - loss: 0.1351 - inflan_loss: 0.0916 - nephr_loss: 0.0687 - inflan_ACCinflan: 1.0000 - nephr_ACCnephr: 1.0000 - val_loss: 0.1645 - val_inflan_loss: 0.0968 - val_nephr_loss: 0.0967 - val_inflan_ACCinflan: 1.0000 - val_nephr_ACCnephr: 1.0000\n",
      "Epoch 987/1000\n",
      "64/64 [==============================] - 0s 200us/sample - loss: 0.1350 - inflan_loss: 0.0915 - nephr_loss: 0.0686 - inflan_ACCinflan: 1.0000 - nephr_ACCnephr: 1.0000 - val_loss: 0.1643 - val_inflan_loss: 0.0967 - val_nephr_loss: 0.0966 - val_inflan_ACCinflan: 1.0000 - val_nephr_ACCnephr: 1.0000\n",
      "Epoch 988/1000\n",
      "64/64 [==============================] - 0s 2ms/sample - loss: 0.1348 - inflan_loss: 0.0914 - nephr_loss: 0.0685 - inflan_ACCinflan: 1.0000 - nephr_ACCnephr: 1.0000 - val_loss: 0.1641 - val_inflan_loss: 0.0965 - val_nephr_loss: 0.0965 - val_inflan_ACCinflan: 1.0000 - val_nephr_ACCnephr: 1.0000\n",
      "Epoch 989/1000\n",
      "64/64 [==============================] - 0s 1ms/sample - loss: 0.1346 - inflan_loss: 0.0913 - nephr_loss: 0.0684 - inflan_ACCinflan: 1.0000 - nephr_ACCnephr: 1.0000 - val_loss: 0.1639 - val_inflan_loss: 0.0964 - val_nephr_loss: 0.0964 - val_inflan_ACCinflan: 1.0000 - val_nephr_ACCnephr: 1.0000\n",
      "Epoch 990/1000\n",
      "64/64 [==============================] - 0s 197us/sample - loss: 0.1345 - inflan_loss: 0.0912 - nephr_loss: 0.0683 - inflan_ACCinflan: 1.0000 - nephr_ACCnephr: 1.0000 - val_loss: 0.1637 - val_inflan_loss: 0.0963 - val_nephr_loss: 0.0963 - val_inflan_ACCinflan: 1.0000 - val_nephr_ACCnephr: 1.0000\n",
      "Epoch 991/1000\n",
      "64/64 [==============================] - 0s 1ms/sample - loss: 0.1343 - inflan_loss: 0.0911 - nephr_loss: 0.0683 - inflan_ACCinflan: 1.0000 - nephr_ACCnephr: 1.0000 - val_loss: 0.1635 - val_inflan_loss: 0.0962 - val_nephr_loss: 0.0962 - val_inflan_ACCinflan: 1.0000 - val_nephr_ACCnephr: 1.0000\n",
      "Epoch 992/1000\n",
      "64/64 [==============================] - 0s 1ms/sample - loss: 0.1341 - inflan_loss: 0.0910 - nephr_loss: 0.0682 - inflan_ACCinflan: 1.0000 - nephr_ACCnephr: 1.0000 - val_loss: 0.1633 - val_inflan_loss: 0.0961 - val_nephr_loss: 0.0961 - val_inflan_ACCinflan: 1.0000 - val_nephr_ACCnephr: 1.0000\n",
      "Epoch 993/1000\n",
      "64/64 [==============================] - 0s 198us/sample - loss: 0.1340 - inflan_loss: 0.0909 - nephr_loss: 0.0681 - inflan_ACCinflan: 1.0000 - nephr_ACCnephr: 1.0000 - val_loss: 0.1631 - val_inflan_loss: 0.0960 - val_nephr_loss: 0.0959 - val_inflan_ACCinflan: 1.0000 - val_nephr_ACCnephr: 1.0000\n",
      "Epoch 994/1000\n",
      "64/64 [==============================] - 0s 1ms/sample - loss: 0.1338 - inflan_loss: 0.0908 - nephr_loss: 0.0680 - inflan_ACCinflan: 1.0000 - nephr_ACCnephr: 1.0000 - val_loss: 0.1629 - val_inflan_loss: 0.0958 - val_nephr_loss: 0.0958 - val_inflan_ACCinflan: 1.0000 - val_nephr_ACCnephr: 1.0000\n",
      "Epoch 995/1000\n",
      "64/64 [==============================] - 0s 1ms/sample - loss: 0.1336 - inflan_loss: 0.0907 - nephr_loss: 0.0679 - inflan_ACCinflan: 1.0000 - nephr_ACCnephr: 1.0000 - val_loss: 0.1627 - val_inflan_loss: 0.0957 - val_nephr_loss: 0.0957 - val_inflan_ACCinflan: 1.0000 - val_nephr_ACCnephr: 1.0000\n",
      "Epoch 996/1000\n",
      "64/64 [==============================] - 0s 193us/sample - loss: 0.1335 - inflan_loss: 0.0905 - nephr_loss: 0.0678 - inflan_ACCinflan: 1.0000 - nephr_ACCnephr: 1.0000 - val_loss: 0.1625 - val_inflan_loss: 0.0956 - val_nephr_loss: 0.0956 - val_inflan_ACCinflan: 1.0000 - val_nephr_ACCnephr: 1.0000\n",
      "Epoch 997/1000\n",
      "64/64 [==============================] - 0s 1ms/sample - loss: 0.1333 - inflan_loss: 0.0904 - nephr_loss: 0.0677 - inflan_ACCinflan: 1.0000 - nephr_ACCnephr: 1.0000 - val_loss: 0.1623 - val_inflan_loss: 0.0955 - val_nephr_loss: 0.0955 - val_inflan_ACCinflan: 1.0000 - val_nephr_ACCnephr: 1.0000\n",
      "Epoch 998/1000\n",
      "64/64 [==============================] - 0s 2ms/sample - loss: 0.1331 - inflan_loss: 0.0903 - nephr_loss: 0.0676 - inflan_ACCinflan: 1.0000 - nephr_ACCnephr: 1.0000 - val_loss: 0.1622 - val_inflan_loss: 0.0954 - val_nephr_loss: 0.0954 - val_inflan_ACCinflan: 1.0000 - val_nephr_ACCnephr: 1.0000\n"
     ]
    },
    {
     "name": "stdout",
     "output_type": "stream",
     "text": [
      "Epoch 999/1000\n",
      "64/64 [==============================] - 0s 191us/sample - loss: 0.1330 - inflan_loss: 0.0902 - nephr_loss: 0.0676 - inflan_ACCinflan: 1.0000 - nephr_ACCnephr: 1.0000 - val_loss: 0.1620 - val_inflan_loss: 0.0953 - val_nephr_loss: 0.0953 - val_inflan_ACCinflan: 1.0000 - val_nephr_ACCnephr: 1.0000\n",
      "Epoch 1000/1000\n",
      "64/64 [==============================] - 0s 1ms/sample - loss: 0.1328 - inflan_loss: 0.0901 - nephr_loss: 0.0675 - inflan_ACCinflan: 1.0000 - nephr_ACCnephr: 1.0000 - val_loss: 0.1618 - val_inflan_loss: 0.0952 - val_nephr_loss: 0.0952 - val_inflan_ACCinflan: 1.0000 - val_nephr_ACCnephr: 1.0000\n"
     ]
    }
   ],
   "source": [
    "# Train the model\n",
    "\n",
    "history = model.fit(inputs_train,outputs_train,\n",
    "         epochs =1000,\n",
    "         class_weight=[cwinflam,cwnephr],\n",
    "         batch_size = 100,validation_split=0.2)"
   ]
  },
  {
   "cell_type": "markdown",
   "metadata": {},
   "source": [
    "#### Plot the learning curves"
   ]
  },
  {
   "cell_type": "code",
   "execution_count": 19,
   "metadata": {
    "scrolled": false
   },
   "outputs": [
    {
     "data": {
      "image/png": "[encoded data removed]",
      "text/plain": [
       "<Figure size 432x288 with 1 Axes>"
      ]
     },
     "metadata": {
      "needs_background": "light"
     },
     "output_type": "display_data"
    },
    {
     "data": {
      "image/png": "[encoded data removed]",
      "text/plain": [
       "<Figure size 432x288 with 1 Axes>"
      ]
     },
     "metadata": {
      "needs_background": "light"
     },
     "output_type": "display_data"
    }
   ],
   "source": [
    "# Plot the training accuracy\n",
    "\n",
    "acc_keys = [k for k in history.history.keys() if k in ('inflan_ACCinflan', 'nephr_ACCnephr')] \n",
    "loss_keys = [k for k in history.history.keys() if not k in acc_keys]\n",
    "\n",
    "for k, v in history.history.items():\n",
    "    if k in acc_keys:\n",
    "        plt.figure(1)\n",
    "        plt.plot(v)\n",
    "    else:\n",
    "        plt.figure(2)\n",
    "        plt.plot(v)\n",
    "\n",
    "plt.figure(1)\n",
    "plt.title('Accuracy vs. epochs')\n",
    "plt.ylabel('Accuracy')\n",
    "plt.xlabel('Epoch')\n",
    "plt.legend(acc_keys, loc='upper right')\n",
    "\n",
    "plt.figure(2)\n",
    "plt.title('Loss vs. epochs')\n",
    "plt.ylabel('Loss')\n",
    "plt.xlabel('Epoch')\n",
    "plt.legend(loss_keys, loc='upper right')\n",
    "\n",
    "plt.show()"
   ]
  },
  {
   "cell_type": "code",
   "execution_count": 20,
   "metadata": {
    "scrolled": false
   },
   "outputs": [],
   "source": [
    "# Evaluate the model\n",
    "\n"
   ]
  },
  {
   "cell_type": "markdown",
   "metadata": {},
   "source": [
    "***\n",
    "<a id=\"coding_tutorial_2\"></a>\n",
    "## Tensors and Variables"
   ]
  },
  {
   "cell_type": "code",
   "execution_count": 3,
   "metadata": {
    "scrolled": false
   },
   "outputs": [],
   "source": [
    "import numpy as np"
   ]
  },
  {
   "cell_type": "markdown",
   "metadata": {},
   "source": [
    "#### Create Variable objects"
   ]
  },
  {
   "cell_type": "code",
   "execution_count": 14,
   "metadata": {
    "scrolled": false
   },
   "outputs": [],
   "source": [
    "# Create Variable objects of different type with tf.Variable\n",
    "strings = tf.Variable(initial_value = [\"Hello Stranger\"],dtype=tf.string)\n",
    "floats = tf.Variable(initial_value = [3.14123, 2.71828], dtype=tf.float64)\n",
    "ints = tf.Variable(initial_value=[1, 2, 3], dtype=tf.int32,shape=(3))\n",
    "complexs = tf.Variable(initial_value=[25.9 - 7.39j, 1.23 - 491j],dtype=tf.complex128)\n"
   ]
  },
  {
   "cell_type": "code",
   "execution_count": 11,
   "metadata": {
    "scrolled": false
   },
   "outputs": [
    {
     "data": {
      "text/plain": [
       "<tf.Variable 'Variable:0' shape=(3, 3) dtype=float64, numpy=\n",
       "array([[7.2, 7.2, 7.2],\n",
       "       [7.2, 7.2, 7.2],\n",
       "       [7.2, 7.2, 7.2]])>"
      ]
     },
     "execution_count": 11,
     "metadata": {},
     "output_type": "execute_result"
    }
   ],
   "source": [
    "# Initialise a Variable value\n",
    "tf.Variable(initial_value = tf.constant(7.2, shape=(3,3) , dtype = tf.float64))"
   ]
  },
  {
   "cell_type": "markdown",
   "metadata": {},
   "source": [
    "#### Use and modify Variable values"
   ]
  },
  {
   "cell_type": "code",
   "execution_count": 23,
   "metadata": {
    "scrolled": false
   },
   "outputs": [
    {
     "name": "stdout",
     "output_type": "stream",
     "text": [
      "<class 'tensorflow.python.framework.ops.EagerTensor'> tf.Tensor(1.0, shape=(), dtype=float32)\n"
     ]
    }
   ],
   "source": [
    "# Use the value of a Variable\n",
    "v = tf.Variable(0.0)\n",
    "w = v + 1  # w is a tf.Tensor which is computed based on the value of v.\n",
    "\n",
    "print(type(w) , w)"
   ]
  },
  {
   "cell_type": "code",
   "execution_count": 24,
   "metadata": {
    "scrolled": false
   },
   "outputs": [
    {
     "data": {
      "text/plain": [
       "<tf.Variable 'UnreadVariable' shape=() dtype=float32, numpy=1.0>"
      ]
     },
     "execution_count": 24,
     "metadata": {},
     "output_type": "execute_result"
    }
   ],
   "source": [
    "# Increment the value of a Variable\n",
    "\n",
    "v.assign_add(1)\n",
    "\n",
    "## If we use below operation the type will change to tensor,so becareful\n",
    "#v = v + 1\n",
    "#v"
   ]
  },
  {
   "cell_type": "code",
   "execution_count": 25,
   "metadata": {
    "scrolled": false
   },
   "outputs": [
    {
     "data": {
      "text/plain": [
       "<tf.Variable 'UnreadVariable' shape=() dtype=float32, numpy=0.0>"
      ]
     },
     "execution_count": 25,
     "metadata": {},
     "output_type": "execute_result"
    }
   ],
   "source": [
    "# Decrement the value of a Variable\n",
    "\n",
    "v.assign_sub(1)"
   ]
  },
  {
   "cell_type": "markdown",
   "metadata": {},
   "source": [
    "#### Create Tensor objects"
   ]
  },
  {
   "cell_type": "markdown",
   "metadata": {},
   "source": [
    "Create a constant tensor and print its type as well as its shape:"
   ]
  },
  {
   "cell_type": "code",
   "execution_count": 27,
   "metadata": {
    "scrolled": false
   },
   "outputs": [
    {
     "name": "stdout",
     "output_type": "stream",
     "text": [
      "tf.Tensor(\n",
      "[[1 2 3]\n",
      " [4 5 6]\n",
      " [7 8 9]], shape=(3, 3), dtype=int32)\n",
      "dtype: <dtype: 'int32'>\n",
      "shape: (3, 3)\n"
     ]
    }
   ],
   "source": [
    "# Create a constant Tensor\n",
    "\n",
    "x = tf.constant([[1, 2, 3], [4, 5, 6], [7, 8, 9]])\n",
    "print(x)\n",
    "print(\"dtype:\", x.dtype)\n",
    "print(\"shape:\", x.shape)"
   ]
  },
  {
   "cell_type": "code",
   "execution_count": 28,
   "metadata": {
    "scrolled": false
   },
   "outputs": [],
   "source": [
    "# Obtain the value as a numpy array\n",
    "\n"
   ]
  },
  {
   "cell_type": "code",
   "execution_count": 29,
   "metadata": {
    "scrolled": false
   },
   "outputs": [],
   "source": [
    "# Create a Tensor of type float32\n",
    "\n"
   ]
  },
  {
   "cell_type": "code",
   "execution_count": 30,
   "metadata": {
    "scrolled": false
   },
   "outputs": [],
   "source": [
    "# Create coefficients\n",
    "\n",
    "coeffs = np.arange(16)"
   ]
  },
  {
   "cell_type": "code",
   "execution_count": 31,
   "metadata": {},
   "outputs": [],
   "source": [
    "# Initialise shapes\n",
    "\n"
   ]
  },
  {
   "cell_type": "code",
   "execution_count": 32,
   "metadata": {},
   "outputs": [
    {
     "ename": "NameError",
     "evalue": "name 'shape1' is not defined",
     "output_type": "error",
     "traceback": [
      "\u001b[0;31m---------------------------------------------------------------------------\u001b[0m",
      "\u001b[0;31mNameError\u001b[0m                                 Traceback (most recent call last)",
      "\u001b[0;32m<ipython-input-32-3d0c4f9e8355>\u001b[0m in \u001b[0;36m<module>\u001b[0;34m\u001b[0m\n\u001b[1;32m      1\u001b[0m \u001b[0;31m# Create Tensors of different shape\u001b[0m\u001b[0;34m\u001b[0m\u001b[0;34m\u001b[0m\u001b[0;34m\u001b[0m\u001b[0m\n\u001b[1;32m      2\u001b[0m \u001b[0;34m\u001b[0m\u001b[0m\n\u001b[0;32m----> 3\u001b[0;31m \u001b[0ma\u001b[0m \u001b[0;34m=\u001b[0m \u001b[0mtf\u001b[0m\u001b[0;34m.\u001b[0m\u001b[0mconstant\u001b[0m\u001b[0;34m(\u001b[0m\u001b[0mcoeffs\u001b[0m\u001b[0;34m,\u001b[0m \u001b[0mshape\u001b[0m\u001b[0;34m=\u001b[0m\u001b[0mshape1\u001b[0m\u001b[0;34m)\u001b[0m\u001b[0;34m\u001b[0m\u001b[0;34m\u001b[0m\u001b[0m\n\u001b[0m\u001b[1;32m      4\u001b[0m \u001b[0mprint\u001b[0m\u001b[0;34m(\u001b[0m\u001b[0;34m\"\\n a:\\n \"\u001b[0m\u001b[0;34m,\u001b[0m \u001b[0ma\u001b[0m\u001b[0;34m)\u001b[0m\u001b[0;34m\u001b[0m\u001b[0;34m\u001b[0m\u001b[0m\n\u001b[1;32m      5\u001b[0m \u001b[0;34m\u001b[0m\u001b[0m\n",
      "\u001b[0;31mNameError\u001b[0m: name 'shape1' is not defined"
     ]
    }
   ],
   "source": [
    "# Create Tensors of different shape\n",
    "\n",
    "a = tf.constant(coeffs, shape=shape1)\n",
    "print(\"\\n a:\\n \", a)\n",
    "\n",
    "b = tf.constant(coeffs, shape=shape2)\n",
    "print(\"\\n b:\\n \", b)\n",
    "\n",
    "c = tf.constant(coeffs, shape=shape3)\n",
    "print(\"\\n c:\\n \", c)"
   ]
  },
  {
   "cell_type": "markdown",
   "metadata": {},
   "source": [
    "#### Useful Tensor operations"
   ]
  },
  {
   "cell_type": "code",
   "execution_count": null,
   "metadata": {
    "scrolled": false
   },
   "outputs": [],
   "source": [
    "# Create a constant Tensor\n",
    "\n",
    "t = tf.constant(np.arange(80), shape=[5,2,8])"
   ]
  },
  {
   "cell_type": "code",
   "execution_count": null,
   "metadata": {},
   "outputs": [],
   "source": [
    "# Get the rank of a Tensor\n",
    "\n"
   ]
  },
  {
   "cell_type": "code",
   "execution_count": null,
   "metadata": {},
   "outputs": [],
   "source": [
    "# Display the rank\n",
    "\n",
    "print(\"rank: \", rank)"
   ]
  },
  {
   "cell_type": "code",
   "execution_count": null,
   "metadata": {
    "scrolled": false
   },
   "outputs": [],
   "source": [
    "# Reshape a Tensor\n",
    "\n"
   ]
  },
  {
   "cell_type": "code",
   "execution_count": null,
   "metadata": {},
   "outputs": [],
   "source": [
    "# Display the new shape\n",
    "\n",
    "print(\"t2.shape: \", t2.shape)"
   ]
  },
  {
   "cell_type": "code",
   "execution_count": null,
   "metadata": {
    "scrolled": false
   },
   "outputs": [],
   "source": [
    "# Create ones, zeros, identity and constant Tensors\n",
    "\n"
   ]
  },
  {
   "cell_type": "code",
   "execution_count": null,
   "metadata": {},
   "outputs": [],
   "source": [
    "# Display the created tensors\n",
    "\n",
    "print(\"\\n Ones:\\n \", ones)\n",
    "print(\"\\n Zeros:\\n \", zeros)\n",
    "print(\"\\n Identity:\\n \", eye)\n",
    "print(\"\\n Tensor filled with 7: \", tensor7)"
   ]
  },
  {
   "cell_type": "code",
   "execution_count": null,
   "metadata": {
    "scrolled": false
   },
   "outputs": [],
   "source": [
    "# Create a ones Tensor and a zeros Tensor\n",
    "\n",
    "t1 = tf.ones(shape=(2, 2))\n",
    "t2 = tf.zeros(shape=(2, 2))"
   ]
  },
  {
   "cell_type": "code",
   "execution_count": null,
   "metadata": {
    "scrolled": false
   },
   "outputs": [],
   "source": [
    "# Concatentate two Tensors\n",
    "\n"
   ]
  },
  {
   "cell_type": "code",
   "execution_count": null,
   "metadata": {},
   "outputs": [],
   "source": [
    "# Display the concatenated tensors\n",
    "\n",
    "print(concat0)\n",
    "print(concat1)"
   ]
  },
  {
   "cell_type": "code",
   "execution_count": null,
   "metadata": {
    "scrolled": false
   },
   "outputs": [],
   "source": [
    "# Create a constant Tensor\n",
    "\n",
    "t = tf.constant(np.arange(24), shape=(3, 2, 4))\n",
    "print(\"\\n t shape: \", t.shape)"
   ]
  },
  {
   "cell_type": "code",
   "execution_count": null,
   "metadata": {
    "scrolled": false
   },
   "outputs": [],
   "source": [
    "# Expanding the rank of Tensors\n",
    "\n"
   ]
  },
  {
   "cell_type": "code",
   "execution_count": null,
   "metadata": {
    "scrolled": false
   },
   "outputs": [],
   "source": [
    "# Display the shapes after tf.expand_dims\n",
    "\n",
    "print(\"\\n After expanding dims:\\n t1 shape: \", t1.shape, \"\\n t2 shape: \", t2.shape, \"\\n t3 shape: \", t3.shape)"
   ]
  },
  {
   "cell_type": "code",
   "execution_count": null,
   "metadata": {
    "scrolled": false
   },
   "outputs": [],
   "source": [
    "# Squeezing redundant dimensions\n",
    "\n"
   ]
  },
  {
   "cell_type": "code",
   "execution_count": null,
   "metadata": {
    "scrolled": false
   },
   "outputs": [],
   "source": [
    "# Display the shapes after tf.squeeze\n",
    "\n",
    "print(\"\\n After squeezing:\\n t1 shape: \", t1.shape, \"\\n t2 shape: \", t2.shape, \"\\n t3 shape: \", t3.shape)"
   ]
  },
  {
   "cell_type": "code",
   "execution_count": null,
   "metadata": {
    "scrolled": false
   },
   "outputs": [],
   "source": [
    "# Slicing a Tensor\n",
    "\n"
   ]
  },
  {
   "cell_type": "markdown",
   "metadata": {},
   "source": [
    "#### Doing maths with Tensors"
   ]
  },
  {
   "cell_type": "code",
   "execution_count": null,
   "metadata": {},
   "outputs": [],
   "source": [
    "# Create two constant Tensors\n",
    "\n",
    "c = tf.constant([[1.0, 2.0], [3.0, 4.0]])\n",
    "d = tf.constant([[1.0, 1.0], [0.0, 1.0]])"
   ]
  },
  {
   "cell_type": "code",
   "execution_count": null,
   "metadata": {
    "scrolled": false
   },
   "outputs": [],
   "source": [
    "# Matrix multiplication\n",
    "\n"
   ]
  },
  {
   "cell_type": "code",
   "execution_count": null,
   "metadata": {},
   "outputs": [],
   "source": [
    "# Display the result\n",
    "\n",
    "print(\"\\n tf.matmul(c,d):\\n\", matmul_cd)"
   ]
  },
  {
   "cell_type": "code",
   "execution_count": null,
   "metadata": {
    "scrolled": false
   },
   "outputs": [],
   "source": [
    "# Elementwise operations\n",
    "\n"
   ]
  },
  {
   "cell_type": "code",
   "execution_count": null,
   "metadata": {},
   "outputs": [],
   "source": [
    "# Display the results\n",
    "\n",
    "print(\"\\n c*d:\\n\", c_times_d)\n",
    "print(\"\\n c+d:\\n\", c_plus_d)\n",
    "print(\"\\n c-d:\\n\", c_minus_d)\n",
    "print(\"\\n c/c:\\n\", c_div_c)"
   ]
  },
  {
   "cell_type": "code",
   "execution_count": null,
   "metadata": {
    "scrolled": false
   },
   "outputs": [],
   "source": [
    "# Create Tensors\n",
    "\n",
    "a = tf.constant([[2, 3], [3, 3]])\n",
    "b = tf.constant([[8, 7], [2, 3]])\n",
    "x = tf.constant([[-6.89 + 1.78j], [-2.54 + 2.15j]])"
   ]
  },
  {
   "cell_type": "code",
   "execution_count": null,
   "metadata": {},
   "outputs": [],
   "source": [
    "# Absolute value of a Tensor\n",
    "\n"
   ]
  },
  {
   "cell_type": "code",
   "execution_count": null,
   "metadata": {},
   "outputs": [],
   "source": [
    "# Power of a Tensor\n",
    "\n"
   ]
  },
  {
   "cell_type": "code",
   "execution_count": null,
   "metadata": {
    "scrolled": false
   },
   "outputs": [],
   "source": [
    "# Display the results\n",
    "\n",
    "print(\"\\n \", absx)\n",
    "print(\"\\n \", powab)"
   ]
  },
  {
   "cell_type": "markdown",
   "metadata": {},
   "source": [
    "#### Randomly sampled constant tensors"
   ]
  },
  {
   "cell_type": "code",
   "execution_count": null,
   "metadata": {
    "scrolled": false
   },
   "outputs": [],
   "source": [
    "# Create a Tensor with samples from a Normal distribution\n",
    "\n"
   ]
  },
  {
   "cell_type": "code",
   "execution_count": null,
   "metadata": {
    "scrolled": false
   },
   "outputs": [],
   "source": [
    "# Create a Tensor with samples from a Uniform distribution\n",
    "\n"
   ]
  },
  {
   "cell_type": "code",
   "execution_count": null,
   "metadata": {
    "scrolled": false
   },
   "outputs": [],
   "source": [
    "# Create a Tensor with samples from a Poisson distribution\n",
    "\n"
   ]
  },
  {
   "cell_type": "code",
   "execution_count": null,
   "metadata": {
    "scrolled": false
   },
   "outputs": [],
   "source": [
    "# More maths operations\n",
    "\n",
    "d = tf.square(tn)\n",
    "e = tf.exp(d)\n",
    "f = tf.cos(c)"
   ]
  },
  {
   "cell_type": "markdown",
   "metadata": {},
   "source": [
    "***\n",
    "<a id=\"coding_tutorial_3\"></a>\n",
    "## Accessing model layers"
   ]
  },
  {
   "cell_type": "code",
   "execution_count": null,
   "metadata": {
    "scrolled": false
   },
   "outputs": [],
   "source": [
    "import numpy as np\n",
    "import matplotlib.pyplot as plt\n",
    "%matplotlib inline"
   ]
  },
  {
   "cell_type": "markdown",
   "metadata": {},
   "source": [
    "#### Load the pre-trained model"
   ]
  },
  {
   "cell_type": "markdown",
   "metadata": {},
   "source": [
    "In this section, we aim to demonstrate accessing layer attributes within a model.\n",
    "\n",
    "Let's get started by loading the `VGG19` pre-trained model from the `keras.applications` library, which is a very deep network trained on more than a million images from the ImageNet database. The network is trained to classify images into 1000 object categories."
   ]
  },
  {
   "cell_type": "code",
   "execution_count": null,
   "metadata": {
    "scrolled": false
   },
   "outputs": [],
   "source": [
    "# Load the VGG19 model\n",
    "\n"
   ]
  },
  {
   "cell_type": "code",
   "execution_count": null,
   "metadata": {},
   "outputs": [],
   "source": [
    "# Get the inputs, layers and display the summary\n",
    "\n",
    "vgg_input = vgg_model.input\n",
    "vgg_layers = vgg_model.layers\n",
    "vgg_model.summary()"
   ]
  },
  {
   "cell_type": "markdown",
   "metadata": {},
   "source": [
    "#### Build a model to access the layer outputs"
   ]
  },
  {
   "cell_type": "code",
   "execution_count": null,
   "metadata": {},
   "outputs": [],
   "source": [
    "from tensorflow.keras.models import Model"
   ]
  },
  {
   "cell_type": "code",
   "execution_count": null,
   "metadata": {
    "scrolled": false
   },
   "outputs": [],
   "source": [
    "# Build a model that returns the layer outputs\n",
    "\n"
   ]
  },
  {
   "cell_type": "code",
   "execution_count": null,
   "metadata": {
    "scrolled": true
   },
   "outputs": [],
   "source": [
    "# Plot the model\n",
    "\n"
   ]
  },
  {
   "cell_type": "code",
   "execution_count": null,
   "metadata": {
    "scrolled": false
   },
   "outputs": [],
   "source": [
    "# Test the model on a random input\n",
    "\n"
   ]
  },
  {
   "cell_type": "markdown",
   "metadata": {},
   "source": [
    "#### Load the 'cool cat' picture"
   ]
  },
  {
   "cell_type": "markdown",
   "metadata": {},
   "source": [
    "In Zambia’s South Luangwa National Park, a photographer had been watching a pride of lions while they slept off a feast from a buffalo kill. When this female walked away, he anticipated that she might be going for a drink and so he positioned his vehicle on the opposite side of the waterhole. The `cool cat` picture is one of the highly commended 2018 Image from Wildlife Photographer of the Year."
   ]
  },
  {
   "cell_type": "code",
   "execution_count": null,
   "metadata": {
    "scrolled": false
   },
   "outputs": [],
   "source": [
    "# Display the original image\n",
    "\n",
    "import IPython.display as display\n",
    "from PIL import Image\n",
    "\n",
    "display.display(Image.open('data/cool_cat.jpg'))"
   ]
  },
  {
   "cell_type": "markdown",
   "metadata": {},
   "source": [
    "#### Visualise network features from the input image"
   ]
  },
  {
   "cell_type": "code",
   "execution_count": null,
   "metadata": {
    "scrolled": false
   },
   "outputs": [],
   "source": [
    "# Preprocess the image\n",
    "\n",
    "from tensorflow.keras.applications.vgg19 import preprocess_input\n",
    "from tensorflow.keras.preprocessing import image\n",
    "\n",
    "img_path = 'data/cool_cat.jpg'\n",
    "img = image.load_img(img_path, target_size=(224, 224))\n",
    "x = image.img_to_array(img)\n",
    "x = np.expand_dims(x, axis=0)\n",
    "x = preprocess_input(x)"
   ]
  },
  {
   "cell_type": "code",
   "execution_count": null,
   "metadata": {
    "scrolled": false
   },
   "outputs": [],
   "source": [
    "# Extract the features\n",
    "\n"
   ]
  },
  {
   "cell_type": "code",
   "execution_count": null,
   "metadata": {
    "scrolled": false
   },
   "outputs": [],
   "source": [
    "# Visualise the input channels\n",
    "\n"
   ]
  },
  {
   "cell_type": "code",
   "execution_count": null,
   "metadata": {
    "scrolled": false
   },
   "outputs": [],
   "source": [
    "# Visualise some features in the first hidden layer\n",
    "\n"
   ]
  },
  {
   "cell_type": "code",
   "execution_count": null,
   "metadata": {
    "scrolled": false
   },
   "outputs": [],
   "source": [
    "# Build a model to extract features by layer name\n",
    "\n"
   ]
  },
  {
   "cell_type": "code",
   "execution_count": null,
   "metadata": {
    "scrolled": false
   },
   "outputs": [],
   "source": [
    "# Visualise some features from the extracted layer output\n",
    "\n"
   ]
  },
  {
   "cell_type": "code",
   "execution_count": null,
   "metadata": {
    "scrolled": false
   },
   "outputs": [],
   "source": [
    "# Extract features from a layer deeper in the network\n",
    "\n"
   ]
  },
  {
   "cell_type": "code",
   "execution_count": null,
   "metadata": {
    "scrolled": false
   },
   "outputs": [],
   "source": [
    "# Visualise some features from the extracted layer output\n",
    "\n"
   ]
  },
  {
   "cell_type": "markdown",
   "metadata": {},
   "source": [
    "***\n",
    "<a id=\"coding_tutorial_4\"></a>\n",
    "## Freezing layers"
   ]
  },
  {
   "cell_type": "code",
   "execution_count": null,
   "metadata": {
    "scrolled": false
   },
   "outputs": [],
   "source": [
    "import numpy as np\n",
    "import matplotlib.pyplot as plt\n",
    "%matplotlib inline"
   ]
  },
  {
   "cell_type": "markdown",
   "metadata": {},
   "source": [
    "#### Build the model"
   ]
  },
  {
   "cell_type": "code",
   "execution_count": null,
   "metadata": {
    "scrolled": false
   },
   "outputs": [],
   "source": [
    "# Build a small Sequential model\n",
    "\n",
    "from tensorflow.keras.models import Sequential\n",
    "from tensorflow.keras import layers\n",
    "\n",
    "model = Sequential([\n",
    "    layers.Dense(4, input_shape=(4,), activation='relu', kernel_initializer='random_uniform',\n",
    "                 bias_initializer='ones'),\n",
    "    layers.Dense(2, activation='relu', kernel_initializer='lecun_normal', bias_initializer='ones'),\n",
    "    layers.Dense(4, activation='softmax'),\n",
    "])"
   ]
  },
  {
   "cell_type": "code",
   "execution_count": null,
   "metadata": {
    "scrolled": false
   },
   "outputs": [],
   "source": [
    "# Display the model summary\n",
    "\n",
    "model.summary()"
   ]
  },
  {
   "cell_type": "markdown",
   "metadata": {},
   "source": [
    "#### Examine the weight matrix variation over training"
   ]
  },
  {
   "cell_type": "code",
   "execution_count": null,
   "metadata": {
    "scrolled": false
   },
   "outputs": [],
   "source": [
    "# Retrieve the weights and biases\n",
    "\n"
   ]
  },
  {
   "cell_type": "code",
   "execution_count": null,
   "metadata": {
    "scrolled": false
   },
   "outputs": [],
   "source": [
    "# Construct a synthetic dataset\n",
    "\n",
    "x_train = np.random.random((100, 4))\n",
    "y_train = x_train\n",
    "\n",
    "x_test = np.random.random((20, 4))\n",
    "y_test = x_test"
   ]
  },
  {
   "cell_type": "code",
   "execution_count": null,
   "metadata": {
    "scrolled": false
   },
   "outputs": [],
   "source": [
    "# Compile and fit the model\n",
    "\n",
    "model.compile(optimizer='adam',\n",
    "              loss='mse',\n",
    "              metrics=['acc'])\n",
    "\n",
    "model.fit(x_train, y_train, epochs=50, verbose=False);"
   ]
  },
  {
   "cell_type": "code",
   "execution_count": null,
   "metadata": {
    "scrolled": false
   },
   "outputs": [],
   "source": [
    "# Retrieve weights and biases\n",
    "\n"
   ]
  },
  {
   "cell_type": "code",
   "execution_count": null,
   "metadata": {
    "scrolled": false
   },
   "outputs": [],
   "source": [
    "# Plot the variation\n",
    "\n",
    "plt.figure(figsize=(8,8))\n",
    "for n in range(3):\n",
    "    delta_l = W1_layers[n] - W0_layers[n]\n",
    "    print('Layer '+str(n)+': bias variation: ', np.linalg.norm(b1_layers[n] - b0_layers[n]))\n",
    "    ax = plt.subplot(1,3,n+1)\n",
    "    plt.imshow(delta_l)\n",
    "    plt.title('Layer '+str(n))\n",
    "    plt.axis('off')\n",
    "plt.colorbar()\n",
    "plt.suptitle('Weight matrices variation');"
   ]
  },
  {
   "cell_type": "markdown",
   "metadata": {},
   "source": [
    "#### Freeze layers at build time"
   ]
  },
  {
   "cell_type": "code",
   "execution_count": null,
   "metadata": {
    "scrolled": false
   },
   "outputs": [],
   "source": [
    "# Count the trainable and non trainable variables before the freezing\n",
    "\n"
   ]
  },
  {
   "cell_type": "code",
   "execution_count": null,
   "metadata": {},
   "outputs": [],
   "source": [
    "# Display the number of trainable and non trainable variables before the freezing\n",
    "\n",
    "print(\"\\n Before freezing:\\n\\t Number of trainable variables: \", n_trainable_variables,\n",
    "                         \"\\n\\t Number of non trainable variables: \", n_non_trainable_variables)"
   ]
  },
  {
   "cell_type": "code",
   "execution_count": null,
   "metadata": {
    "scrolled": false
   },
   "outputs": [],
   "source": [
    "# Build the model\n",
    "\n"
   ]
  },
  {
   "cell_type": "code",
   "execution_count": null,
   "metadata": {
    "scrolled": false
   },
   "outputs": [],
   "source": [
    "# Count the trainable and non trainable variables after the freezing\n",
    "\n"
   ]
  },
  {
   "cell_type": "code",
   "execution_count": null,
   "metadata": {},
   "outputs": [],
   "source": [
    "# Display the number of trainable and non trainable variables after the freezing\n",
    "\n",
    "print(\"\\n After freezing:\\n\\t Number of trainable variables: \", n_trainable_variables,\n",
    "                         \"\\n\\t Number of non trainable variables: \", n_non_trainable_variables)"
   ]
  },
  {
   "cell_type": "code",
   "execution_count": null,
   "metadata": {
    "scrolled": false
   },
   "outputs": [],
   "source": [
    "# Retrieve weights and biases\n",
    "\n"
   ]
  },
  {
   "cell_type": "code",
   "execution_count": null,
   "metadata": {
    "scrolled": false
   },
   "outputs": [],
   "source": [
    "# Compile and fit the model\n",
    "\n",
    "model.compile(optimizer='adam',\n",
    "              loss='mse',\n",
    "              metrics=['acc'])\n",
    "\n",
    "model.fit(x_train, y_train, epochs=50, verbose=False);"
   ]
  },
  {
   "cell_type": "code",
   "execution_count": null,
   "metadata": {
    "scrolled": false
   },
   "outputs": [],
   "source": [
    "# Retrieve weights and biases\n",
    "\n"
   ]
  },
  {
   "cell_type": "code",
   "execution_count": null,
   "metadata": {
    "scrolled": false
   },
   "outputs": [],
   "source": [
    "# Plot the variation\n",
    "\n"
   ]
  },
  {
   "cell_type": "markdown",
   "metadata": {},
   "source": [
    "#### Freeze layers of a pre-built model"
   ]
  },
  {
   "cell_type": "code",
   "execution_count": null,
   "metadata": {
    "scrolled": false
   },
   "outputs": [],
   "source": [
    "# Count the trainable and non trainable variables before the freezing\n",
    "\n",
    "print(\"\\n Before freezing:\\n\\t Number of trainable variables: \", len(model.trainable_variables),\n",
    "                         \"\\n\\t Number of non trainable variables: \", len(model.non_trainable_variables))"
   ]
  },
  {
   "cell_type": "code",
   "execution_count": null,
   "metadata": {
    "scrolled": false
   },
   "outputs": [],
   "source": [
    "# Freeze the second layer\n",
    "\n"
   ]
  },
  {
   "cell_type": "code",
   "execution_count": null,
   "metadata": {
    "scrolled": false
   },
   "outputs": [],
   "source": [
    "# Count the trainable and non trainable variables after the freezing\n",
    "\n",
    "print(\"\\n After freezing:\\n\\t Number of trainable variables: \", len(model.trainable_variables),\n",
    "                        \"\\n\\t Number of non trainable variables: \", len(model.non_trainable_variables))"
   ]
  },
  {
   "cell_type": "code",
   "execution_count": null,
   "metadata": {
    "scrolled": false
   },
   "outputs": [],
   "source": [
    "# Compile and fit the model\n",
    "\n",
    "model.compile(optimizer='adam',\n",
    "              loss='mse',\n",
    "              metrics=['acc'])\n",
    "\n",
    "model.fit(x_train, y_train, epochs=50, verbose=False);"
   ]
  },
  {
   "cell_type": "code",
   "execution_count": null,
   "metadata": {
    "scrolled": false
   },
   "outputs": [],
   "source": [
    "# Retrieve weights and biases\n",
    "\n"
   ]
  },
  {
   "cell_type": "code",
   "execution_count": null,
   "metadata": {
    "scrolled": false
   },
   "outputs": [],
   "source": [
    "# Plot the variation\n",
    "\n"
   ]
  }
 ],
 "metadata": {
  "kernelspec": {
   "display_name": "Python 3",
   "language": "python",
   "name": "python3"
  },
  "language_info": {
   "codemirror_mode": {
    "name": "ipython",
    "version": 3
   },
   "file_extension": ".py",
   "mimetype": "text/x-python",
   "name": "python",
   "nbconvert_exporter": "python",
   "pygments_lexer": "ipython3",
   "version": "3.7.1"
  }
 },
 "nbformat": 4,
 "nbformat_minor": 2
}
