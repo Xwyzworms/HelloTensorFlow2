{
 "cells": [
  {
   "cell_type": "code",
   "execution_count": 1,
   "metadata": {},
   "outputs": [
    {
     "name": "stdout",
     "output_type": "stream",
     "text": [
      "TF version: 2.1.0\n",
      "TFP version: 0.9.0\n"
     ]
    }
   ],
   "source": [
    "import tensorflow as tf\n",
    "import tensorflow_probability as tfp\n",
    "tfd = tfp.distributions\n",
    "\n",
    "print(\"TF version:\", tf.__version__)\n",
    "print(\"TFP version:\", tfp.__version__)"
   ]
  },
  {
   "cell_type": "code",
   "execution_count": 2,
   "metadata": {},
   "outputs": [],
   "source": [
    "# Additional imports and setting fixed random seed to have reproducibility\n",
    "\n",
    "import matplotlib.pyplot as plt\n",
    "import numpy as np\n",
    "tf.random.set_seed(123)"
   ]
  },
  {
   "cell_type": "markdown",
   "metadata": {},
   "source": [
    "# Tensorflow Distributions"
   ]
  },
  {
   "cell_type": "markdown",
   "metadata": {},
   "source": [
    "## Coding Tutorials\n",
    "#### 1. [Univariate Distributions](#univariate_distributions)\n",
    "#### 2. [Multivariate Distributions](#multivariate_distributions)\n",
    "#### 3. [The Independent Distribution](#the_independent_distribution)\n",
    "#### 4. [Sampling and log probs](#sampling_and_log_probs)\n",
    "#### 5. [Trainable Distributions](#trainable_distributions)"
   ]
  },
  {
   "cell_type": "markdown",
   "metadata": {},
   "source": [
    "***\n",
    "## Univariate distributions\n",
    "<a id='univariate_distributions'></a>"
   ]
  },
  {
   "cell_type": "code",
   "execution_count": 3,
   "metadata": {},
   "outputs": [
    {
     "name": "stdout",
     "output_type": "stream",
     "text": [
      "tfp.distributions.Normal(\"Normal\", batch_shape=[], event_shape=[], dtype=float32)\n"
     ]
    }
   ],
   "source": [
    "# Create a normal distribution from Tensorflow Distributions\n",
    "NormalObs = tfd.Normal(loc = 0., scale = 1.)\n",
    "print(NormalObs)\n"
   ]
  },
  {
   "cell_type": "code",
   "execution_count": 6,
   "metadata": {},
   "outputs": [
    {
     "data": {
      "text/plain": [
       "<tf.Tensor: shape=(), dtype=float32, numpy=0.33875433>"
      ]
     },
     "execution_count": 6,
     "metadata": {},
     "output_type": "execute_result"
    }
   ],
   "source": [
    "# Sample from the chosen distribution...\n",
    "NormalObs.sample()\n"
   ]
  },
  {
   "cell_type": "code",
   "execution_count": 8,
   "metadata": {},
   "outputs": [
    {
     "data": {
      "text/plain": [
       "<tf.Tensor: shape=(15,), dtype=float32, numpy=\n",
       "array([-0.6383433 , -1.1492779 , -0.8656427 , -1.3332063 , -0.82325643,\n",
       "       -0.7619269 ,  0.4257505 ,  2.8928344 , -0.34264988, -1.7522513 ,\n",
       "       -0.17786829, -0.943825  ,  0.11156012,  0.8074948 , -0.32381943],\n",
       "      dtype=float32)>"
      ]
     },
     "execution_count": 8,
     "metadata": {},
     "output_type": "execute_result"
    }
   ],
   "source": [
    "# ... or sample multiple times\n",
    "NormalObs.sample(15)\n",
    "\n"
   ]
  },
  {
   "cell_type": "code",
   "execution_count": 11,
   "metadata": {},
   "outputs": [
    {
     "data": {
      "text/plain": [
       "<tf.Tensor: shape=(), dtype=float32, numpy=0.3989423>"
      ]
     },
     "execution_count": 11,
     "metadata": {},
     "output_type": "execute_result"
    }
   ],
   "source": [
    "# Obtain value of probability's density\n",
    "\n",
    "NormalObs.prob(0)"
   ]
  },
  {
   "cell_type": "code",
   "execution_count": 14,
   "metadata": {},
   "outputs": [
    {
     "data": {
      "text/plain": [
       "<tf.Tensor: shape=(), dtype=float32, numpy=-0.9189385>"
      ]
     },
     "execution_count": 14,
     "metadata": {},
     "output_type": "execute_result"
    }
   ],
   "source": [
    "# Obtain value of logprobability\n",
    "NormalObs.log_prob(0.)\n"
   ]
  },
  {
   "cell_type": "code",
   "execution_count": 16,
   "metadata": {},
   "outputs": [
    {
     "data": {
      "text/plain": [
       "-0.9189385"
      ]
     },
     "execution_count": 16,
     "metadata": {},
     "output_type": "execute_result"
    }
   ],
   "source": [
    "# Verify that this really is the log of the probability\n",
    "np.log(NormalObs.prob(0))\n"
   ]
  },
  {
   "cell_type": "code",
   "execution_count": 18,
   "metadata": {},
   "outputs": [
    {
     "data": {
      "image/png": "[encoded data removed]",
      "text/plain": [
       "<Figure size 432x288 with 1 Axes>"
      ]
     },
     "metadata": {
      "needs_background": "light"
     },
     "output_type": "display_data"
    }
   ],
   "source": [
    "# Plot a histogram, approximating the density\n",
    "\n",
    "plt.hist(NormalObs.sample(10000), bins=50, density=True)\n",
    "plt.show()"
   ]
  },
  {
   "cell_type": "code",
   "execution_count": 21,
   "metadata": {},
   "outputs": [
    {
     "data": {
      "image/png": "[encoded data removed]",
      "text/plain": [
       "<Figure size 432x288 with 1 Axes>"
      ]
     },
     "metadata": {
      "needs_background": "light"
     },
     "output_type": "display_data"
    }
   ],
   "source": [
    "# Do the same for the exponential distribution\n",
    "Exponential = tfd.Exponential(rate=2)\n",
    "plt.hist(Exponential.sample(10000),bins = 50,density=True)\n",
    "plt.show()\n"
   ]
  },
  {
   "cell_type": "code",
   "execution_count": 22,
   "metadata": {},
   "outputs": [
    {
     "data": {
      "text/plain": [
       "<tf.Tensor: shape=(10,), dtype=float32, numpy=\n",
       "array([0.00360762, 0.08092886, 1.1103257 , 0.1339663 , 1.0207587 ,\n",
       "       0.46859097, 0.25207508, 0.41979963, 0.05535272, 0.15255775],\n",
       "      dtype=float32)>"
      ]
     },
     "execution_count": 22,
     "metadata": {},
     "output_type": "execute_result"
    }
   ],
   "source": [
    "# Sample as before\n",
    "Exponential.sample(10)\n"
   ]
  },
  {
   "cell_type": "code",
   "execution_count": 24,
   "metadata": {},
   "outputs": [
    {
     "data": {
      "text/plain": [
       "<tf.Tensor: shape=(15,), dtype=int32, numpy=array([1, 0, 1, 1, 1, 1, 1, 1, 1, 1, 0, 1, 1, 1, 1], dtype=int32)>"
      ]
     },
     "execution_count": 24,
     "metadata": {},
     "output_type": "execute_result"
    }
   ],
   "source": [
    "# Create a Bernoulli distribution (discrete)\n",
    "bernoulli = tfd.Bernoulli(probs=0.9)\n",
    "bernoulli.sample(15)\n"
   ]
  },
  {
   "cell_type": "markdown",
   "metadata": {},
   "source": [
    "#### A word of caution on discrete distributions"
   ]
  },
  {
   "cell_type": "code",
   "execution_count": 26,
   "metadata": {},
   "outputs": [
    {
     "name": "stdout",
     "output_type": "stream",
     "text": [
      "prob result 0.10000002384185791 for k = 0 \n",
      "prob result 0.30000004172325134 for k = 0.5 \n",
      "prob result 0.8999999761581421 for k = 1 \n",
      "prob result 0.011111116036772728 for k = -1 \n"
     ]
    }
   ],
   "source": [
    "# Calculate Bernoulli prob and see that 0.5 and -1 do not give the correct probability!\n",
    "\n",
    "for k in [0,0.5,1,-1]:\n",
    "    print('prob result {} for k = {} '.format(bernoulli.prob(k),k))"
   ]
  },
  {
   "cell_type": "code",
   "execution_count": 27,
   "metadata": {},
   "outputs": [],
   "source": [
    "# Replicate the scores to see what is occurring under the hood\n",
    "\n",
    "def my_bernoulli(p_success, k):\n",
    "    return np.power(p_success,k)*np.power((1-p_success),(1-k))"
   ]
  },
  {
   "cell_type": "code",
   "execution_count": 29,
   "metadata": {},
   "outputs": [
    {
     "name": "stdout",
     "output_type": "stream",
     "text": [
      "prob result 0.09999999999999998 for k = 0 \n",
      "prob result 0.29999999999999993 for k = 0.5 \n",
      "prob result 0.9 for k = 1 \n",
      "prob result 0.011111111111111106 for k = -1 \n"
     ]
    }
   ],
   "source": [
    "# Evaluate it as before\n",
    "\n",
    "for k in [0,0.5,1,-1]:\n",
    "    print('prob result {} for k = {} '.format(my_bernoulli(p_success=0.9,k = k),k))"
   ]
  },
  {
   "cell_type": "markdown",
   "metadata": {},
   "source": [
    "#### Work with batch distributions"
   ]
  },
  {
   "cell_type": "code",
   "execution_count": 30,
   "metadata": {},
   "outputs": [
    {
     "data": {
      "text/plain": [
       "<tfp.distributions.Bernoulli 'Bernoulli' batch_shape=[5] event_shape=[] dtype=int32>"
      ]
     },
     "execution_count": 30,
     "metadata": {},
     "output_type": "execute_result"
    }
   ],
   "source": [
    "# Create a batched Bernoulli distribution\n",
    "\n",
    "bernoulli_batch = tfd.Bernoulli(probs=[0.1, 0.25, 0.5, 0.75, 0.9])\n",
    "bernoulli_batch"
   ]
  },
  {
   "cell_type": "code",
   "execution_count": 40,
   "metadata": {},
   "outputs": [
    {
     "data": {
      "text/plain": [
       "<tf.Tensor: shape=(10, 5), dtype=int32, numpy=\n",
       "array([[0, 0, 0, 0, 1],\n",
       "       [0, 0, 0, 1, 0],\n",
       "       [0, 0, 1, 0, 1],\n",
       "       [0, 0, 1, 1, 1],\n",
       "       [0, 0, 1, 1, 0],\n",
       "       [1, 0, 1, 1, 1],\n",
       "       [0, 0, 0, 1, 0],\n",
       "       [0, 0, 1, 1, 1],\n",
       "       [0, 1, 0, 1, 0],\n",
       "       [0, 1, 0, 1, 1]], dtype=int32)>"
      ]
     },
     "execution_count": 40,
     "metadata": {},
     "output_type": "execute_result"
    }
   ],
   "source": [
    "# Sample from it, noting the shape\n",
    "\n",
    "bernoulli_batch.sample(10,5)"
   ]
  },
  {
   "cell_type": "code",
   "execution_count": 41,
   "metadata": {},
   "outputs": [
    {
     "data": {
      "text/plain": [
       "<tfp.distributions.Bernoulli 'Bernoulli' batch_shape=[1, 3, 2] event_shape=[] dtype=int32>"
      ]
     },
     "execution_count": 41,
     "metadata": {},
     "output_type": "execute_result"
    }
   ],
   "source": [
    "# Use a batch shape with higher rank\n",
    "\n",
    "probs = [[[0.5, 0.5], \n",
    "          [0.8, 0.3], \n",
    "          [0.25, 0.75]]]\n",
    "bernoulli_batch_2D = tfd.Bernoulli(probs=probs)\n",
    "bernoulli_batch_2D"
   ]
  },
  {
   "cell_type": "code",
   "execution_count": 43,
   "metadata": {},
   "outputs": [
    {
     "data": {
      "text/plain": [
       "<tf.Tensor: shape=(5, 1, 3, 2), dtype=int32, numpy=\n",
       "array([[[[1, 0],\n",
       "         [1, 0],\n",
       "         [0, 1]]],\n",
       "\n",
       "\n",
       "       [[[1, 1],\n",
       "         [1, 0],\n",
       "         [1, 1]]],\n",
       "\n",
       "\n",
       "       [[[1, 1],\n",
       "         [1, 1],\n",
       "         [0, 1]]],\n",
       "\n",
       "\n",
       "       [[[0, 0],\n",
       "         [1, 0],\n",
       "         [0, 1]]],\n",
       "\n",
       "\n",
       "       [[[0, 1],\n",
       "         [1, 0],\n",
       "         [0, 0]]]], dtype=int32)>"
      ]
     },
     "execution_count": 43,
     "metadata": {},
     "output_type": "execute_result"
    }
   ],
   "source": [
    "# Sample from this batch of distributions\n",
    "\n",
    "bernoulli_batch_2D.sample(5)"
   ]
  },
  {
   "cell_type": "code",
   "execution_count": 44,
   "metadata": {},
   "outputs": [
    {
     "data": {
      "text/plain": [
       "<tf.Tensor: shape=(1, 3, 2), dtype=float32, numpy=\n",
       "array([[[0.5       , 0.5       ],\n",
       "        [0.19999999, 0.7       ],\n",
       "        [0.25      , 0.75      ]]], dtype=float32)>"
      ]
     },
     "execution_count": 44,
     "metadata": {},
     "output_type": "execute_result"
    }
   ],
   "source": [
    "# Determine probabilities from this batch distribution\n",
    "\n",
    "bernoulli_batch_2D.prob([[[1, 0], \n",
    "                         [0, 0], \n",
    "                         [1, 1]]])"
   ]
  },
  {
   "cell_type": "markdown",
   "metadata": {},
   "source": [
    "***\n",
    "<a id='multivariate_distributions'></a>\n",
    "## Multivariate Distributions\n"
   ]
  },
  {
   "cell_type": "markdown",
   "metadata": {},
   "source": [
    "#### Basic multivariate distributions"
   ]
  },
  {
   "cell_type": "code",
   "execution_count": 20,
   "metadata": {},
   "outputs": [
    {
     "data": {
      "text/plain": [
       "<tfp.distributions.MultivariateNormalDiag 'MultivariateNormalDiag' batch_shape=[] event_shape=[2] dtype=float32>"
      ]
     },
     "execution_count": 20,
     "metadata": {},
     "output_type": "execute_result"
    }
   ],
   "source": [
    "# Define 2D multivariate Gaussian with diagonal covariance matrix\n",
    "normal_diag = tfd.MultivariateNormalDiag(loc=[0, 1], scale_diag=[1, 5])\n",
    "normal_diag\n"
   ]
  },
  {
   "cell_type": "code",
   "execution_count": 21,
   "metadata": {},
   "outputs": [
    {
     "data": {
      "text/plain": [
       "<tf.Tensor: shape=(10, 2), dtype=float32, numpy=\n",
       "array([[-0.8980837 , -8.129572  ],\n",
       "       [-0.44441807, -6.4414735 ],\n",
       "       [-0.7855463 ,  1.9809828 ],\n",
       "       [ 0.17604655, -6.6262527 ],\n",
       "       [ 0.635294  ,  4.340602  ],\n",
       "       [ 1.4230527 ,  1.2280822 ],\n",
       "       [-0.21692705, -7.542453  ],\n",
       "       [ 0.5174161 ,  0.40138412],\n",
       "       [-1.0614088 , -1.7045629 ],\n",
       "       [ 0.08606925, -5.390967  ]], dtype=float32)>"
      ]
     },
     "execution_count": 21,
     "metadata": {},
     "output_type": "execute_result"
    }
   ],
   "source": [
    "# Sample from it\n",
    "normal_diag.sample(10)\n"
   ]
  },
  {
   "cell_type": "code",
   "execution_count": 22,
   "metadata": {},
   "outputs": [
    {
     "data": {
      "image/png": "[encoded data removed]",
      "text/plain": [
       "<Figure size 432x288 with 1 Axes>"
      ]
     },
     "metadata": {
      "needs_background": "light"
     },
     "output_type": "display_data"
    }
   ],
   "source": [
    "# Make a plot\n",
    "sampled = normal_diag.sample(100000)\n",
    "plt.scatter(sampled[:,0], sampled[:,1] ,marker=\".\",alpha = 0.25)\n",
    "plt.axis('equal')\n",
    "plt.show()"
   ]
  },
  {
   "cell_type": "markdown",
   "metadata": {},
   "source": [
    "#### Batches of multivariate distributions"
   ]
  },
  {
   "cell_type": "code",
   "execution_count": 23,
   "metadata": {},
   "outputs": [
    {
     "data": {
      "text/plain": [
       "<tfp.distributions.MultivariateNormalDiag 'MultivariateNormalDiag' batch_shape=[3] event_shape=[2] dtype=float32>"
      ]
     },
     "execution_count": 23,
     "metadata": {},
     "output_type": "execute_result"
    }
   ],
   "source": [
    "# Create three \"batches\" of multivariate normals\n",
    "normal_diag_batch = tfd.MultivariateNormalDiag(loc=[[0, 0],[0, 0],[0, 0]],\n",
    "                                              scale_diag = [[1, 2],[2, 1],[2, 2]])\n",
    "normal_diag_batch"
   ]
  },
  {
   "cell_type": "code",
   "execution_count": 16,
   "metadata": {},
   "outputs": [
    {
     "name": "stdout",
     "output_type": "stream",
     "text": [
      "tf.Tensor(\n",
      "[[[-1.1651201  -0.64370716]\n",
      "  [ 0.84133923 -1.8989996 ]\n",
      "  [ 0.7882074  -0.04263435]]\n",
      "\n",
      " [[-0.23954919  0.04739967]\n",
      "  [ 5.0235534  -0.523273  ]\n",
      "  [ 0.1941957   1.6896133 ]]\n",
      "\n",
      " [[ 0.26128542  0.76616985]\n",
      "  [ 1.2752818   0.5395389 ]\n",
      "  [-0.69422597 -0.5495769 ]]\n",
      "\n",
      " [[ 1.809224   -2.3915994 ]\n",
      "  [-2.06593    -0.9546215 ]\n",
      "  [ 2.7072544  -0.01366107]]\n",
      "\n",
      " [[ 1.1137108  -1.4365606 ]\n",
      "  [ 0.5901614  -1.0590994 ]\n",
      "  [-1.0582151  -1.8864738 ]]\n",
      "\n",
      " [[-0.3673988  -1.666179  ]\n",
      "  [-0.94023824  1.2986014 ]\n",
      "  [-1.6943407   2.1464276 ]]\n",
      "\n",
      " [[ 0.67590404 -3.996738  ]\n",
      "  [-1.0937513   0.33820015]\n",
      "  [-1.7119789  -0.9732161 ]]\n",
      "\n",
      " [[-0.370577   -0.16658142]\n",
      "  [-0.37639195 -0.44537318]\n",
      "  [ 0.60017055  1.5922533 ]]\n",
      "\n",
      " [[-1.5546014   1.0365412 ]\n",
      "  [-1.0523992  -0.02682833]\n",
      "  [-2.9548607  -0.60771376]]\n",
      "\n",
      " [[-0.13966198  1.5874065 ]\n",
      "  [-1.4210953  -1.3106531 ]\n",
      "  [ 0.7442453   2.6861084 ]]], shape=(10, 3, 2), dtype=float32)\n",
      "(100, 3, 2)\n"
     ]
    }
   ],
   "source": [
    "# Sample from it\n",
    "print(normal_diag_batch.sample(10))\n",
    "print(normal_diag_batch.sample(100).shape)\n",
    "samples = normal_diag_batch.sample(10)"
   ]
  },
  {
   "cell_type": "code",
   "execution_count": 24,
   "metadata": {},
   "outputs": [
    {
     "data": {
      "text/plain": [
       "<tf.Tensor: shape=(10, 3), dtype=float32, numpy=\n",
       "array([[-2.6901767, -3.1306713, -3.7915902],\n",
       "       [-2.708254 , -3.902944 , -3.487253 ],\n",
       "       [-3.6510005, -3.4003782, -6.841311 ],\n",
       "       [-2.943499 , -2.839795 , -4.972805 ],\n",
       "       [-2.7215028, -2.8772721, -6.299121 ],\n",
       "       [-3.2998576, -3.9285214, -5.0637465],\n",
       "       [-3.1385674, -3.4828758, -3.5306478],\n",
       "       [-2.7556927, -3.4830956, -5.227889 ],\n",
       "       [-3.4992597, -3.2327642, -3.2328923],\n",
       "       [-3.5831077, -3.0833588, -4.5966997]], dtype=float32)>"
      ]
     },
     "execution_count": 24,
     "metadata": {},
     "output_type": "execute_result"
    }
   ],
   "source": [
    "# Compute log probs\n",
    "normal_diag_batch.log_prob(samples)\n"
   ]
  },
  {
   "cell_type": "code",
   "execution_count": 31,
   "metadata": {},
   "outputs": [
    {
     "name": "stdout",
     "output_type": "stream",
     "text": [
      "(1000, 3, 2)\n",
      "tf.Tensor(\n",
      "[[-0.0969347   0.14190346]\n",
      " [ 0.4167602  -1.8271412 ]\n",
      " [ 0.34725377  3.123134  ]\n",
      " ...\n",
      " [-1.3268107  -2.5955014 ]\n",
      " [-0.27985674 -2.3100805 ]\n",
      " [ 0.8858361  -0.6431356 ]], shape=(1000, 2), dtype=float32)\n"
     ]
    }
   ],
   "source": [
    "# Create a sample for a plot -- notice the shape\n",
    "plt_sample_batch = normal_diag_batch.sample(1000)\n",
    "print(plt_sample_batch.shape)\n",
    "print(plt_sample_batch[:,0,:])"
   ]
  },
  {
   "cell_type": "code",
   "execution_count": 35,
   "metadata": {},
   "outputs": [
    {
     "data": {
      "image/png": "[encoded data removed]",
      "text/plain": [
       "<Figure size 720x216 with 3 Axes>"
      ]
     },
     "metadata": {
      "needs_background": "light"
     },
     "output_type": "display_data"
    }
   ],
   "source": [
    "# Plot samples from the batched multivariate Gaussian\n",
    "fig, axs = plt.subplots(1, 3, sharex=True, sharey=True, figsize=(10,3))\n",
    "titles = ['cov_diag=[1, 2]','cov_diag=[2, 1]', 'cov_diag=[2, 2]']\n",
    "for i, (ax, title) in enumerate(zip(axs,titles)):\n",
    "    samples = plt_sample_batch[:, i, :]\n",
    "    ax.scatter(samples[:,0], samples[:,1], marker = \".\", alpha=0.25)\n",
    "    ax.set_title(title)\n",
    "plt.show()"
   ]
  },
  {
   "cell_type": "markdown",
   "metadata": {},
   "source": [
    "\n",
    "\n",
    "***\n",
    "<a id='the_independent_distribution'></a>\n",
    "## The Independent Distribution"
   ]
  },
  {
   "cell_type": "code",
   "execution_count": 62,
   "metadata": {},
   "outputs": [
    {
     "name": "stdout",
     "output_type": "stream",
     "text": [
      "(10, 2)\n",
      "tf.Tensor(\n",
      "[[-0.83062285  1.3449861 ]\n",
      " [-1.3302892   0.7145006 ]\n",
      " [-0.78073806  1.8288566 ]\n",
      " [-1.2679578   0.4646517 ]\n",
      " [-1.5162125  -1.9427049 ]\n",
      " [-0.8850255   0.45379573]\n",
      " [-1.148698    1.0165684 ]\n",
      " [-0.9203568   0.56035423]\n",
      " [-0.3778327   0.16135609]\n",
      " [-1.2106748   1.0730213 ]], shape=(10, 2), dtype=float32)\n"
     ]
    }
   ],
   "source": [
    "# Start by defining a batch of two univariate Gaussians, then\n",
    "# combine them into a bivariate Gaussian with independent components\n",
    "mean = [-1., 1]\n",
    "std = [0.5, 1.]\n",
    "\n",
    "batch_of_normal = tfd.Normal(loc=mean, scale=std)\n",
    "print(batch_of_normal.sample(10).shape)\n",
    "print(batch_of_normal.sample(10))\n"
   ]
  },
  {
   "cell_type": "code",
   "execution_count": 63,
   "metadata": {},
   "outputs": [
    {
     "name": "stdout",
     "output_type": "stream",
     "text": [
      "[2.         2.11111111 2.22222222 2.33333333 2.44444444 2.55555556\n",
      " 2.66666667 2.77777778 2.88888889 3.        ]\n"
     ]
    },
    {
     "data": {
      "text/plain": [
       "array([[2.        , 2.        ],\n",
       "       [2.11111111, 2.11111111],\n",
       "       [2.22222222, 2.22222222],\n",
       "       [2.33333333, 2.33333333],\n",
       "       [2.44444444, 2.44444444],\n",
       "       [2.55555556, 2.55555556],\n",
       "       [2.66666667, 2.66666667],\n",
       "       [2.77777778, 2.77777778],\n",
       "       [2.88888889, 2.88888889],\n",
       "       [3.        , 3.        ]])"
      ]
     },
     "execution_count": 63,
     "metadata": {},
     "output_type": "execute_result"
    }
   ],
   "source": [
    "loh= np.linspace(2,3,10)\n",
    "print(loh)\n",
    "(np.repeat(loh[:,np.newaxis],repeats=2,axis = 1))"
   ]
  },
  {
   "cell_type": "code",
   "execution_count": 64,
   "metadata": {},
   "outputs": [
    {
     "data": {
      "text/plain": [
       "<tf.Tensor: shape=(2, 2), dtype=float32, numpy=\n",
       "array([[1.5389188e-22, 2.4197073e-01],\n",
       "       [1.2151759e-08, 2.4197073e-01]], dtype=float32)>"
      ]
     },
     "execution_count": 64,
     "metadata": {},
     "output_type": "execute_result"
    }
   ],
   "source": [
    "batch_of_normal.prob([[4,2],[2,2]])"
   ]
  },
  {
   "cell_type": "code",
   "execution_count": 65,
   "metadata": {},
   "outputs": [
    {
     "data": {
      "text/plain": [
       "<tf.Tensor: shape=(10, 2), dtype=float32, numpy=\n",
       "array([[1.2151759e-08, 2.4197073e-01],\n",
       "       [3.1250469e-09, 2.1519247e-01],\n",
       "       [7.6493811e-10, 1.8902948e-01],\n",
       "       [1.7821805e-10, 1.6401011e-01],\n",
       "       [3.9521060e-11, 1.4055614e-01],\n",
       "       [8.3417943e-12, 1.1897818e-01],\n",
       "       [1.6758825e-12, 9.9477135e-02],\n",
       "       [3.2046574e-13, 8.2151920e-02],\n",
       "       [5.8327427e-14, 6.7011639e-02],\n",
       "       [1.0104536e-14, 5.3990960e-02]], dtype=float32)>"
      ]
     },
     "execution_count": 65,
     "metadata": {},
     "output_type": "execute_result"
    }
   ],
   "source": [
    "batch_of_normal.prob(np.repeat(loh[:,np.newaxis],repeats=2,axis = 1))"
   ]
  },
  {
   "cell_type": "code",
   "execution_count": 66,
   "metadata": {},
   "outputs": [
    {
     "data": {
      "image/png": "[encoded data removed]",
      "text/plain": [
       "<Figure size 432x288 with 1 Axes>"
      ]
     },
     "metadata": {
      "needs_background": "light"
     },
     "output_type": "display_data"
    }
   ],
   "source": [
    "# Univariate density functions\n",
    "import seaborn as sns\n",
    "t = np.linspace(-4, 4, 10000)\n",
    "densities = batch_of_normal.prob(np.repeat(t[:, np.newaxis], 2, axis=1)) # each column is a vector of densities for one distn\n",
    "\n",
    "sns.lineplot(t, densities[:, 0], label='loc={}, scale={}'.format(mean[0], std[0]))\n",
    "sns.lineplot(t, densities[:, 1], label='loc={}, scale={}'.format(mean[1], std[1]))\n",
    "plt.ylabel('Probability density')\n",
    "plt.xlabel('Value')\n",
    "plt.legend()\n",
    "plt.show()"
   ]
  },
  {
   "cell_type": "code",
   "execution_count": 67,
   "metadata": {},
   "outputs": [
    {
     "data": {
      "text/plain": [
       "<tfp.distributions.Normal 'Normal' batch_shape=[2] event_shape=[] dtype=float32>"
      ]
     },
     "execution_count": 67,
     "metadata": {},
     "output_type": "execute_result"
    }
   ],
   "source": [
    "# Check their batch_shape and event_shape\n",
    "\n",
    "batch_of_normal"
   ]
  },
  {
   "cell_type": "code",
   "execution_count": 69,
   "metadata": {},
   "outputs": [
    {
     "data": {
      "text/plain": [
       "<tfp.distributions.Independent 'IndependentNormal' batch_shape=[] event_shape=[2] dtype=float32>"
      ]
     },
     "execution_count": 69,
     "metadata": {},
     "output_type": "execute_result"
    }
   ],
   "source": [
    "# Use Independent to convert the batch shape to the event shape\n",
    "\n",
    "bivariate_normal_from_independent = tfd.Independent(batch_of_normal,reinterpreted_batch_ndims=1)\n",
    "bivariate_normal_from_independent"
   ]
  },
  {
   "cell_type": "code",
   "execution_count": 70,
   "metadata": {},
   "outputs": [
    {
     "data": {
      "text/plain": [
       "<tfp.distributions.Independent 'IndependentNormal' batch_shape=[] event_shape=[2] dtype=float32>"
      ]
     },
     "execution_count": 70,
     "metadata": {},
     "output_type": "execute_result"
    }
   ],
   "source": [
    "# Note that dimension from batch_shape has shifted to event_shape\n",
    "\n",
    "bivariate_normal_from_independent"
   ]
  },
  {
   "cell_type": "code",
   "execution_count": 72,
   "metadata": {},
   "outputs": [
    {
     "data": {
      "text/plain": [
       "<seaborn.axisgrid.JointGrid at 0x7fa128115278>"
      ]
     },
     "execution_count": 72,
     "metadata": {},
     "output_type": "execute_result"
    },
    {
     "data": {
      "image/png": "[encoded data removed]",
      "text/plain": [
       "<Figure size 432x432 with 3 Axes>"
      ]
     },
     "metadata": {
      "needs_background": "light"
     },
     "output_type": "display_data"
    }
   ],
   "source": [
    "# Create a plot showing joint density contours and marginal density functions\n",
    "\n",
    "samples = bivariate_normal_from_independent.sample(10000)\n",
    "x1 = samples[:, 0]\n",
    "x2 = samples[:, 1]\n",
    "sns.jointplot(x1, x2, kind=\"kde\", space=0, color='b', xlim=[-4, 4], ylim=[-4, 4])"
   ]
  },
  {
   "cell_type": "code",
   "execution_count": 75,
   "metadata": {},
   "outputs": [
    {
     "data": {
      "text/plain": [
       "<matplotlib.axes._subplots.AxesSubplot at 0x7fa0e8190358>"
      ]
     },
     "execution_count": 75,
     "metadata": {},
     "output_type": "execute_result"
    },
    {
     "data": {
      "image/png": "[encoded data removed]",
      "text/plain": [
       "<Figure size 432x288 with 1 Axes>"
      ]
     },
     "metadata": {
      "needs_background": "light"
     },
     "output_type": "display_data"
    }
   ],
   "source": [
    "sns.scatterplot(x1[:100],x2[:100])"
   ]
  },
  {
   "cell_type": "code",
   "execution_count": 76,
   "metadata": {},
   "outputs": [
    {
     "data": {
      "text/plain": [
       "<tfp.distributions.MultivariateNormalDiag 'MultivariateNormalDiag' batch_shape=[] event_shape=[2] dtype=float32>"
      ]
     },
     "execution_count": 76,
     "metadata": {},
     "output_type": "execute_result"
    }
   ],
   "source": [
    "# Use MultivariateNormalDiag to create the equivalent distribution\n",
    "# Note that diagonal covariance matrix => no correlation => independence (for the multivariate normal distribution)\n",
    "bivariate_normal_from_Multivariate = tfd.MultivariateNormalDiag(loc = mean, scale_diag=std)\n",
    "bivariate_normal_from_Multivariate"
   ]
  },
  {
   "cell_type": "code",
   "execution_count": 77,
   "metadata": {},
   "outputs": [
    {
     "data": {
      "text/plain": [
       "<seaborn.axisgrid.JointGrid at 0x7fa0a80efb00>"
      ]
     },
     "execution_count": 77,
     "metadata": {},
     "output_type": "execute_result"
    },
    {
     "data": {
      "image/png": "[encoded data removed]",
      "text/plain": [
       "<Figure size 432x432 with 3 Axes>"
      ]
     },
     "metadata": {
      "needs_background": "light"
     },
     "output_type": "display_data"
    }
   ],
   "source": [
    "# Plot the joint density function of bivariate_normal_from_Independent\n",
    "# Refer back to bivariate_normal_from_Independent to show that the plot is the same\n",
    "# Summarise how Independent has been used\n",
    "\n",
    "samples = bivariate_normal_from_Multivariate.sample(10000)\n",
    "x1 = samples[:, 0]\n",
    "x2 = samples[:, 1]\n",
    "sns.jointplot(x1, x2, kind=\"kde\", space=0, color='b', xlim=[-4, 4], ylim=[-4, 4])"
   ]
  },
  {
   "cell_type": "markdown",
   "metadata": {},
   "source": [
    "#### Shifting batch dimensions to event dimensions using \n",
    "`reinterpreted_batch_ndims`"
   ]
  },
  {
   "cell_type": "code",
   "execution_count": 78,
   "metadata": {},
   "outputs": [
    {
     "data": {
      "text/plain": [
       "<tfp.distributions.Normal 'Normal' batch_shape=[3, 2] event_shape=[] dtype=float32>"
      ]
     },
     "execution_count": 78,
     "metadata": {},
     "output_type": "execute_result"
    }
   ],
   "source": [
    "# Demonstrate use of reinterpreted_batch_ndims\n",
    "# By default all batch dims except the first are transferred to event dims\n",
    "\n",
    "loc_grid = [[-100., -100.],\n",
    "            [100., 100.],\n",
    "            [0., 0.]]\n",
    "scale_grid = [[1., 10.],\n",
    "              [1., 10.],\n",
    "              [1., 1.]]\n",
    "\n",
    "normals_batch_3by2_event_1 = tfd.Normal(loc=loc_grid, scale=scale_grid)\n",
    "normals_batch_3by2_event_1"
   ]
  },
  {
   "cell_type": "code",
   "execution_count": 79,
   "metadata": {},
   "outputs": [
    {
     "data": {
      "text/plain": [
       "TensorShape([3, 2])"
      ]
     },
     "execution_count": 79,
     "metadata": {},
     "output_type": "execute_result"
    }
   ],
   "source": [
    "# Highlight batch_shape\n",
    "\n",
    "normals_batch_3by2_event_1.batch_shape"
   ]
  },
  {
   "cell_type": "code",
   "execution_count": 80,
   "metadata": {},
   "outputs": [
    {
     "data": {
      "text/plain": [
       "<tfp.distributions.Independent 'IndependentNormal' batch_shape=[3] event_shape=[2] dtype=float32>"
      ]
     },
     "execution_count": 80,
     "metadata": {},
     "output_type": "execute_result"
    }
   ],
   "source": [
    "# We now have a batch of 3 bivariate normal distributions,\n",
    "# each parametrised by a column of our original parameter grid\n",
    "\n",
    "normals_batch_3by2_event_2 = tfd.Independent(normals_batch_3by2_event_1,reinterpreted_batch_ndims=1)\n",
    "normals_batch_3by2_event_2"
   ]
  },
  {
   "cell_type": "code",
   "execution_count": 81,
   "metadata": {},
   "outputs": [
    {
     "data": {
      "text/plain": [
       "<tf.Tensor: shape=(3,), dtype=float32, numpy=array([-4.1146406e+03, -4.1404624e+00, -2.8378770e+00], dtype=float32)>"
      ]
     },
     "execution_count": 81,
     "metadata": {},
     "output_type": "execute_result"
    }
   ],
   "source": [
    "# Evaluate log_prob\n",
    "\n",
    "normals_batch_3by2_event_2.log_prob([[-10, 10],\n",
    "                                    [100, 100],\n",
    "                                    [1., 1.]])"
   ]
  },
  {
   "cell_type": "code",
   "execution_count": 85,
   "metadata": {},
   "outputs": [],
   "source": [
    "import pandas as pd"
   ]
  },
  {
   "cell_type": "code",
   "execution_count": 107,
   "metadata": {},
   "outputs": [
    {
     "data": {
      "text/html": [
       "<div>\n",
       "<style scoped>\n",
       "    .dataframe tbody tr th:only-of-type {\n",
       "        vertical-align: middle;\n",
       "    }\n",
       "\n",
       "    .dataframe tbody tr th {\n",
       "        vertical-align: top;\n",
       "    }\n",
       "\n",
       "    .dataframe thead th {\n",
       "        text-align: right;\n",
       "    }\n",
       "</style>\n",
       "<table border=\"1\" class=\"dataframe\">\n",
       "  <thead>\n",
       "    <tr style=\"text-align: right;\">\n",
       "      <th></th>\n",
       "      <th>Lohhh</th>\n",
       "      <th>Aingg</th>\n",
       "      <th>Sampis</th>\n",
       "      <th>inijuga</th>\n",
       "    </tr>\n",
       "  </thead>\n",
       "  <tbody>\n",
       "    <tr>\n",
       "      <th>0</th>\n",
       "      <td>-100.080460</td>\n",
       "      <td>-92.138420</td>\n",
       "      <td>100.114296</td>\n",
       "      <td>91.388672</td>\n",
       "    </tr>\n",
       "    <tr>\n",
       "      <th>1</th>\n",
       "      <td>-98.095947</td>\n",
       "      <td>-88.621567</td>\n",
       "      <td>99.909286</td>\n",
       "      <td>104.446045</td>\n",
       "    </tr>\n",
       "    <tr>\n",
       "      <th>2</th>\n",
       "      <td>-98.657578</td>\n",
       "      <td>-106.483047</td>\n",
       "      <td>101.717766</td>\n",
       "      <td>95.928345</td>\n",
       "    </tr>\n",
       "    <tr>\n",
       "      <th>3</th>\n",
       "      <td>-100.702438</td>\n",
       "      <td>-96.370567</td>\n",
       "      <td>101.315331</td>\n",
       "      <td>111.677399</td>\n",
       "    </tr>\n",
       "    <tr>\n",
       "      <th>4</th>\n",
       "      <td>-101.055763</td>\n",
       "      <td>-106.368149</td>\n",
       "      <td>101.584030</td>\n",
       "      <td>92.948982</td>\n",
       "    </tr>\n",
       "  </tbody>\n",
       "</table>\n",
       "</div>"
      ],
      "text/plain": [
       "        Lohhh       Aingg      Sampis     inijuga\n",
       "0 -100.080460  -92.138420  100.114296   91.388672\n",
       "1  -98.095947  -88.621567   99.909286  104.446045\n",
       "2  -98.657578 -106.483047  101.717766   95.928345\n",
       "3 -100.702438  -96.370567  101.315331  111.677399\n",
       "4 -101.055763 -106.368149  101.584030   92.948982"
      ]
     },
     "execution_count": 107,
     "metadata": {},
     "output_type": "execute_result"
    }
   ],
   "source": [
    "# Can reinterpret _all_ batch dimensions as event dimensions\n",
    "AllIn = tfd.Independent(normals_batch_3by2_event_1,reinterpreted_batch_ndims=2)\n",
    "AllIn.sample(10).shape\n",
    "x1 = AllIn.sample(10)[:,0,:].numpy()\n",
    "x2 = AllIn.sample(10)[:,1,:].numpy()\n",
    "\n",
    "df1 = pd.DataFrame(data=x1,columns=[\"Lohhh\",\"Aingg\"])\n",
    "df2 = pd.DataFrame(data=x2,columns=[\"Sampis\",\"inijuga\"])\n",
    "concatenate = pd.concat([df1,df2],axis = 1)\n",
    "concatenate.head()"
   ]
  },
  {
   "cell_type": "code",
   "execution_count": 109,
   "metadata": {},
   "outputs": [
    {
     "data": {
      "text/plain": [
       "<tf.Tensor: shape=(), dtype=float32, numpy=-10191.293>"
      ]
     },
     "execution_count": 109,
     "metadata": {},
     "output_type": "execute_result"
    }
   ],
   "source": [
    "# Take log_probs \n",
    "\n",
    "AllIn.log_prob([[1.0, 2.0],\n",
    "                 [0.2, 1.4],\n",
    "                 [0.2, 0.1]])"
   ]
  },
  {
   "cell_type": "markdown",
   "metadata": {},
   "source": [
    "#### Using `Independent` to build a Naive Bayes classifier"
   ]
  },
  {
   "cell_type": "markdown",
   "metadata": {},
   "source": [
    "#### Introduction to `newsgroups` data set"
   ]
  },
  {
   "cell_type": "markdown",
   "metadata": {},
   "source": [
    "In this tutorial, just load the dataset, fetch train/test splits, probably choose a subset of the data.\n",
    "\n",
    "Construct the class conditional feature distribution (with Independent, using the Naive Bayes assumption) and sample from it.\n",
    "\n",
    "We can just use the ML estimates for parameters, in later tutorials we will learn them."
   ]
  },
  {
   "cell_type": "code",
   "execution_count": 3,
   "metadata": {},
   "outputs": [],
   "source": [
    "# Convenience function for retrieving the 20 newsgroups data set\n",
    "\n",
    "# Usenet was a forerunner to modern internet forums\n",
    "# Users could post and read articles\n",
    "# Newsgroup corresponded to a topic\n",
    "# Example topics in this data set: IBM computer hardware, baseball\n",
    "# Our objective is to use an article's contents to predict its newsgroup,\n",
    "# a 20-class classification problem.\n",
    "\n",
    "# 18000 newsgroups, posts on 20 topics\n",
    "from sklearn.datasets import fetch_20newsgroups\n",
    "from sklearn.feature_extraction.text import CountVectorizer\n"
   ]
  },
  {
   "cell_type": "code",
   "execution_count": 4,
   "metadata": {},
   "outputs": [
    {
     "data": {
      "text/plain": [
       "dict_keys(['target', 'filenames', 'DESCR', 'data', 'target_names'])"
      ]
     },
     "execution_count": 4,
     "metadata": {},
     "output_type": "execute_result"
    }
   ],
   "source": [
    "# Get the train data\n",
    "\n",
    "\n",
    "newsgroups_data = fetch_20newsgroups(data_home=\"20_Newsgroup_Data/\",subset=\"train\")\n",
    "newsgroups_data.keys()"
   ]
  },
  {
   "cell_type": "code",
   "execution_count": 5,
   "metadata": {},
   "outputs": [
    {
     "data": {
      "text/plain": [
       "'.. _20newsgroups_dataset:\\n\\nThe 20 newsgroups text dataset\\n------------------------------\\n\\nThe 20 newsgroups dataset comprises around 18000 newsgroups posts on\\n20 topics split in two subsets: one for training (or development)\\nand the other one for testing (or for performance evaluation). The split\\nbetween the train and test set is based upon a messages posted before\\nand after a specific date.\\n\\nThis module contains two loaders. The first one,\\n:func:`sklearn.datasets.fetch_20newsgroups`,\\nreturns a list of the raw texts that can be fed to text feature\\nextractors such as :class:`sklearn.feature_extraction.text.CountVectorizer`\\nwith custom parameters so as to extract feature vectors.\\nThe second one, :func:`sklearn.datasets.fetch_20newsgroups_vectorized`,\\nreturns ready-to-use features, i.e., it is not necessary to use a feature\\nextractor.\\n\\n**Data Set Characteristics:**\\n\\n    =================   ==========\\n    Classes                     20\\n    Samples total            18846\\n    Dimensionality               1\\n    Features                  text\\n    =================   ==========\\n\\nUsage\\n~~~~~\\n\\nThe :func:`sklearn.datasets.fetch_20newsgroups` function is a data\\nfetching / caching functions that downloads the data archive from\\nthe original `20 newsgroups website`_, extracts the archive contents\\nin the ``~/scikit_learn_data/20news_home`` folder and calls the\\n:func:`sklearn.datasets.load_files` on either the training or\\ntesting set folder, or both of them::\\n\\n  >>> from sklearn.datasets import fetch_20newsgroups\\n  >>> newsgroups_train = fetch_20newsgroups(subset=\\'train\\')\\n\\n  >>> from pprint import pprint\\n  >>> pprint(list(newsgroups_train.target_names))\\n  [\\'alt.atheism\\',\\n   \\'comp.graphics\\',\\n   \\'comp.os.ms-windows.misc\\',\\n   \\'comp.sys.ibm.pc.hardware\\',\\n   \\'comp.sys.mac.hardware\\',\\n   \\'comp.windows.x\\',\\n   \\'misc.forsale\\',\\n   \\'rec.autos\\',\\n   \\'rec.motorcycles\\',\\n   \\'rec.sport.baseball\\',\\n   \\'rec.sport.hockey\\',\\n   \\'sci.crypt\\',\\n   \\'sci.electronics\\',\\n   \\'sci.med\\',\\n   \\'sci.space\\',\\n   \\'soc.religion.christian\\',\\n   \\'talk.politics.guns\\',\\n   \\'talk.politics.mideast\\',\\n   \\'talk.politics.misc\\',\\n   \\'talk.religion.misc\\']\\n\\nThe real data lies in the ``filenames`` and ``target`` attributes. The target\\nattribute is the integer index of the category::\\n\\n  >>> newsgroups_train.filenames.shape\\n  (11314,)\\n  >>> newsgroups_train.target.shape\\n  (11314,)\\n  >>> newsgroups_train.target[:10]\\n  array([ 7,  4,  4,  1, 14, 16, 13,  3,  2,  4])\\n\\nIt is possible to load only a sub-selection of the categories by passing the\\nlist of the categories to load to the\\n:func:`sklearn.datasets.fetch_20newsgroups` function::\\n\\n  >>> cats = [\\'alt.atheism\\', \\'sci.space\\']\\n  >>> newsgroups_train = fetch_20newsgroups(subset=\\'train\\', categories=cats)\\n\\n  >>> list(newsgroups_train.target_names)\\n  [\\'alt.atheism\\', \\'sci.space\\']\\n  >>> newsgroups_train.filenames.shape\\n  (1073,)\\n  >>> newsgroups_train.target.shape\\n  (1073,)\\n  >>> newsgroups_train.target[:10]\\n  array([0, 1, 1, 1, 0, 1, 1, 0, 0, 0])\\n\\nConverting text to vectors\\n~~~~~~~~~~~~~~~~~~~~~~~~~~\\n\\nIn order to feed predictive or clustering models with the text data,\\none first need to turn the text into vectors of numerical values suitable\\nfor statistical analysis. This can be achieved with the utilities of the\\n``sklearn.feature_extraction.text`` as demonstrated in the following\\nexample that extract `TF-IDF`_ vectors of unigram tokens\\nfrom a subset of 20news::\\n\\n  >>> from sklearn.feature_extraction.text import TfidfVectorizer\\n  >>> categories = [\\'alt.atheism\\', \\'talk.religion.misc\\',\\n  ...               \\'comp.graphics\\', \\'sci.space\\']\\n  >>> newsgroups_train = fetch_20newsgroups(subset=\\'train\\',\\n  ...                                       categories=categories)\\n  >>> vectorizer = TfidfVectorizer()\\n  >>> vectors = vectorizer.fit_transform(newsgroups_train.data)\\n  >>> vectors.shape\\n  (2034, 34118)\\n\\nThe extracted TF-IDF vectors are very sparse, with an average of 159 non-zero\\ncomponents by sample in a more than 30000-dimensional space\\n(less than .5% non-zero features)::\\n\\n  >>> vectors.nnz / float(vectors.shape[0])       # doctest: +ELLIPSIS\\n  159.01327...\\n\\n:func:`sklearn.datasets.fetch_20newsgroups_vectorized` is a function which \\nreturns ready-to-use token counts features instead of file names.\\n\\n.. _`20 newsgroups website`: http://people.csail.mit.edu/jrennie/20Newsgroups/\\n.. _`TF-IDF`: https://en.wikipedia.org/wiki/Tf-idf\\n\\n\\nFiltering text for more realistic training\\n~~~~~~~~~~~~~~~~~~~~~~~~~~~~~~~~~~~~~~~~~~\\n\\nIt is easy for a classifier to overfit on particular things that appear in the\\n20 Newsgroups data, such as newsgroup headers. Many classifiers achieve very\\nhigh F-scores, but their results would not generalize to other documents that\\naren\\'t from this window of time.\\n\\nFor example, let\\'s look at the results of a multinomial Naive Bayes classifier,\\nwhich is fast to train and achieves a decent F-score::\\n\\n  >>> from sklearn.naive_bayes import MultinomialNB\\n  >>> from sklearn import metrics\\n  >>> newsgroups_test = fetch_20newsgroups(subset=\\'test\\',\\n  ...                                      categories=categories)\\n  >>> vectors_test = vectorizer.transform(newsgroups_test.data)\\n  >>> clf = MultinomialNB(alpha=.01)\\n  >>> clf.fit(vectors, newsgroups_train.target)\\n  MultinomialNB(alpha=0.01, class_prior=None, fit_prior=True)\\n\\n  >>> pred = clf.predict(vectors_test)\\n  >>> metrics.f1_score(newsgroups_test.target, pred, average=\\'macro\\')  # doctest: +ELLIPSIS\\n  0.88213...\\n\\n(The example :ref:`sphx_glr_auto_examples_text_plot_document_classification_20newsgroups.py` shuffles\\nthe training and test data, instead of segmenting by time, and in that case\\nmultinomial Naive Bayes gets a much higher F-score of 0.88. Are you suspicious\\nyet of what\\'s going on inside this classifier?)\\n\\nLet\\'s take a look at what the most informative features are:\\n\\n  >>> import numpy as np\\n  >>> def show_top10(classifier, vectorizer, categories):\\n  ...     feature_names = np.asarray(vectorizer.get_feature_names())\\n  ...     for i, category in enumerate(categories):\\n  ...         top10 = np.argsort(classifier.coef_[i])[-10:]\\n  ...         print(\"%s: %s\" % (category, \" \".join(feature_names[top10])))\\n  ...\\n  >>> show_top10(clf, vectorizer, newsgroups_train.target_names)\\n  alt.atheism: edu it and in you that is of to the\\n  comp.graphics: edu in graphics it is for and of to the\\n  sci.space: edu it that is in and space to of the\\n  talk.religion.misc: not it you in is that and to of the\\n\\n\\nYou can now see many things that these features have overfit to:\\n\\n- Almost every group is distinguished by whether headers such as\\n  ``NNTP-Posting-Host:`` and ``Distribution:`` appear more or less often.\\n- Another significant feature involves whether the sender is affiliated with\\n  a university, as indicated either by their headers or their signature.\\n- The word \"article\" is a significant feature, based on how often people quote\\n  previous posts like this: \"In article [article ID], [name] <[e-mail address]>\\n  wrote:\"\\n- Other features match the names and e-mail addresses of particular people who\\n  were posting at the time.\\n\\nWith such an abundance of clues that distinguish newsgroups, the classifiers\\nbarely have to identify topics from text at all, and they all perform at the\\nsame high level.\\n\\nFor this reason, the functions that load 20 Newsgroups data provide a\\nparameter called **remove**, telling it what kinds of information to strip out\\nof each file. **remove** should be a tuple containing any subset of\\n``(\\'headers\\', \\'footers\\', \\'quotes\\')``, telling it to remove headers, signature\\nblocks, and quotation blocks respectively.\\n\\n  >>> newsgroups_test = fetch_20newsgroups(subset=\\'test\\',\\n  ...                                      remove=(\\'headers\\', \\'footers\\', \\'quotes\\'),\\n  ...                                      categories=categories)\\n  >>> vectors_test = vectorizer.transform(newsgroups_test.data)\\n  >>> pred = clf.predict(vectors_test)\\n  >>> metrics.f1_score(pred, newsgroups_test.target, average=\\'macro\\')  # doctest: +ELLIPSIS\\n  0.77310...\\n\\nThis classifier lost over a lot of its F-score, just because we removed\\nmetadata that has little to do with topic classification.\\nIt loses even more if we also strip this metadata from the training data:\\n\\n  >>> newsgroups_train = fetch_20newsgroups(subset=\\'train\\',\\n  ...                                       remove=(\\'headers\\', \\'footers\\', \\'quotes\\'),\\n  ...                                       categories=categories)\\n  >>> vectors = vectorizer.fit_transform(newsgroups_train.data)\\n  >>> clf = MultinomialNB(alpha=.01)\\n  >>> clf.fit(vectors, newsgroups_train.target)\\n  MultinomialNB(alpha=0.01, class_prior=None, fit_prior=True)\\n\\n  >>> vectors_test = vectorizer.transform(newsgroups_test.data)\\n  >>> pred = clf.predict(vectors_test)\\n  >>> metrics.f1_score(newsgroups_test.target, pred, average=\\'macro\\')  # doctest: +ELLIPSIS\\n  0.76995...\\n\\nSome other classifiers cope better with this harder version of the task. Try\\nrunning :ref:`sphx_glr_auto_examples_model_selection_grid_search_text_feature_extraction.py` with and without\\nthe ``--filter`` option to compare the results.\\n\\n.. topic:: Recommendation\\n\\n  When evaluating text classifiers on the 20 Newsgroups data, you\\n  should strip newsgroup-related metadata. In scikit-learn, you can do this by\\n  setting ``remove=(\\'headers\\', \\'footers\\', \\'quotes\\')``. The F-score will be\\n  lower because it is more realistic.\\n\\n.. topic:: Examples\\n\\n   * :ref:`sphx_glr_auto_examples_model_selection_grid_search_text_feature_extraction.py`\\n\\n   * :ref:`sphx_glr_auto_examples_text_plot_document_classification_20newsgroups.py`\\n'"
      ]
     },
     "execution_count": 5,
     "metadata": {},
     "output_type": "execute_result"
    }
   ],
   "source": [
    "# More information about the data set\n",
    "    \n",
    "newsgroups_data[\"DESCR\"]"
   ]
  },
  {
   "cell_type": "code",
   "execution_count": 6,
   "metadata": {},
   "outputs": [
    {
     "data": {
      "text/plain": [
       "\"From: lerxst@wam.umd.edu (where's my thing)\\nSubject: WHAT car is this!?\\nNntp-Posting-Host: rac3.wam.umd.edu\\nOrganization: University of Maryland, College Park\\nLines: 15\\n\\n I was wondering if anyone out there could enlighten me on this car I saw\\nthe other day. It was a 2-door sports car, looked to be from the late 60s/\\nearly 70s. It was called a Bricklin. The doors were really small. In addition,\\nthe front bumper was separate from the rest of the body. This is \\nall I know. If anyone can tellme a model name, engine specs, years\\nof production, where this car is made, history, or whatever info you\\nhave on this funky looking car, please e-mail.\\n\\nThanks,\\n- IL\\n   ---- brought to you by your neighborhood Lerxst ----\\n\\n\\n\\n\\n\""
      ]
     },
     "execution_count": 6,
     "metadata": {},
     "output_type": "execute_result"
    }
   ],
   "source": [
    "# Example article\n",
    "newsgroups_data[\"data\"][0]"
   ]
  },
  {
   "cell_type": "code",
   "execution_count": 7,
   "metadata": {},
   "outputs": [
    {
     "data": {
      "text/plain": [
       "7"
      ]
     },
     "execution_count": 7,
     "metadata": {},
     "output_type": "execute_result"
    }
   ],
   "source": [
    "# Associated label\n",
    "newsgroups_data[\"target\"][0]\n"
   ]
  },
  {
   "cell_type": "code",
   "execution_count": 8,
   "metadata": {},
   "outputs": [
    {
     "data": {
      "text/plain": [
       "'rec.autos'"
      ]
     },
     "execution_count": 8,
     "metadata": {},
     "output_type": "execute_result"
    }
   ],
   "source": [
    "# Name of label\n",
    "newsgroups_data['target_names'][7]\n"
   ]
  },
  {
   "cell_type": "code",
   "execution_count": 126,
   "metadata": {},
   "outputs": [
    {
     "data": {
      "text/plain": [
       "8.926993105886513e-05"
      ]
     },
     "execution_count": 126,
     "metadata": {},
     "output_type": "execute_result"
    }
   ],
   "source": [
    "1.01 / len(newsgroups_data[\"data\"])"
   ]
  },
  {
   "cell_type": "code",
   "execution_count": 9,
   "metadata": {},
   "outputs": [
    {
     "data": {
      "text/plain": [
       "<11314x56386 sparse matrix of type '<class 'numpy.int64'>'\n",
       "\twith 1390461 stored elements in Compressed Sparse Row format>"
      ]
     },
     "execution_count": 9,
     "metadata": {},
     "output_type": "execute_result"
    }
   ],
   "source": [
    "# Preprocessing boilerplate\n",
    "\n",
    "n_documents = len(newsgroups_data['data'])\n",
    "\n",
    "count_vectorizer = CountVectorizer(input='content', binary=True,\n",
    "                                   max_df=0.35, min_df=1.01/n_documents) # ignore common words, words that appear once\n",
    "binary_bag_of_words = count_vectorizer.fit_transform(newsgroups_data['data']) # input is a list of strings\n",
    "binary_bag_of_words"
   ]
  },
  {
   "cell_type": "code",
   "execution_count": 10,
   "metadata": {},
   "outputs": [
    {
     "data": {
      "text/plain": [
       "(11314, 56386)"
      ]
     },
     "execution_count": 10,
     "metadata": {},
     "output_type": "execute_result"
    }
   ],
   "source": [
    "# Check shape\n",
    "binary_bag_of_words.shape\n"
   ]
  },
  {
   "cell_type": "code",
   "execution_count": 11,
   "metadata": {},
   "outputs": [
    {
     "data": {
      "text/plain": [
       "[array(['lerxst', 'wam', 'umd', 'where', 'thing', 'car', 'rac3',\n",
       "        'maryland', 'college', 'park', '15', 'wondering', 'anyone', 'out',\n",
       "        'could', 'enlighten', 'me', 'saw', 'other', 'day', 'door',\n",
       "        'sports', 'looked', 'late', '60s', 'early', '70s', 'called',\n",
       "        'bricklin', 'doors', 'were', 'really', 'small', 'addition',\n",
       "        'front', 'bumper', 'separate', 'rest', 'body', 'know', 'tellme',\n",
       "        'model', 'name', 'engine', 'specs', 'years', 'production', 'made',\n",
       "        'history', 'whatever', 'info', 'funky', 'looking', 'please',\n",
       "        'mail', 'thanks', 'il', 'brought', 'your', 'neighborhood'],\n",
       "       dtype='<U80')]"
      ]
     },
     "execution_count": 11,
     "metadata": {},
     "output_type": "execute_result"
    }
   ],
   "source": [
    "# Check that the fit has been successful\n",
    "count_vectorizer.inverse_transform(binary_bag_of_words[0,:])\n"
   ]
  },
  {
   "cell_type": "code",
   "execution_count": null,
   "metadata": {},
   "outputs": [],
   "source": []
  },
  {
   "cell_type": "code",
   "execution_count": 13,
   "metadata": {},
   "outputs": [],
   "source": [
    "# Dict that will be useful later \n",
    "\n",
    "inv_vocabulary = {value:key for key, value in count_vectorizer.vocabulary_.items()}"
   ]
  },
  {
   "cell_type": "markdown",
   "metadata": {},
   "source": [
    "#### A Naive Bayes classifier for `newsgroup`"
   ]
  },
  {
   "cell_type": "markdown",
   "metadata": {},
   "source": [
    "Each feature vector $x$ is a list of indicators for whether a word appears in the article. $x_i$ is 1 if the $i$th word appears, and 0 otherwise. `inv_vocabulary` matches word indices $i$ to words.\n",
    "\n",
    "Each label $y$ is a value in $0, 1, \\ldots, 19$.\n",
    "\n",
    "The parts of a naive Bayes classifier for this problem can be summarised as:  \n",
    "\n",
    "\n",
    "- A probability distribution for the feature vector by class, $p(x|y = j)$ for each $j = 0, 1, \\ldots, 19$. These probability distributions are assumed to have independent components: we can factorize the joint probability as a product of marginal probabilities\n",
    "\\begin{equation}\n",
    "    p(x|y = j) = \\prod_{i=1}^d p(x_i|y = j)\n",
    "\\end{equation}\n",
    "These marginal probability distributions are Bernoulli distributions, each of which has a single parameter $\\theta_{ji} := p(x_i = 1|y = j)$. This parameter is the probability of observing word $i$ in an article of class $j$. \n",
    "\n",
    "- We will use the Laplace smoothed maximum likelihood estimate to compute these parameters. Laplace smoothing involves adding small counts to every feature for each class. Else, if a feature did not appear in the training set of a class, but then we observed it in our test data the log probability would be undefined.\n",
    "\n",
    "- A collection of class prior probabilities $p(y = j)$. These will be set by computing the class base rates in the training set.  \n",
    "\n",
    "\n",
    "- A function for computing the probability of class membership via Bayes' theorem:  \n",
    "\n",
    "\\begin{equation}\n",
    "    p(y = j|x) = \\frac{p(x|y = j)p(y = j)}{p(x)}\n",
    "\\end{equation}"
   ]
  },
  {
   "cell_type": "code",
   "execution_count": 25,
   "metadata": {},
   "outputs": [
    {
     "data": {
      "text/plain": [
       "array([ True,  True,  True,  True,  True,  True,  True,  True,  True,\n",
       "        True, False, False, False, False, False, False, False, False,\n",
       "       False, False])"
      ]
     },
     "execution_count": 25,
     "metadata": {},
     "output_type": "execute_result"
    }
   ],
   "source": [
    "sampis = np.repeat([5,2],10,axis =0)\n",
    "sampis == 5"
   ]
  },
  {
   "cell_type": "code",
   "execution_count": 24,
   "metadata": {},
   "outputs": [
    {
     "data": {
      "text/plain": [
       "array([[0., 0., 0.],\n",
       "       [0., 0., 0.]])"
      ]
     },
     "execution_count": 24,
     "metadata": {},
     "output_type": "execute_result"
    }
   ],
   "source": [
    "np.zeros(shape=[2,3])"
   ]
  },
  {
   "cell_type": "code",
   "execution_count": 27,
   "metadata": {},
   "outputs": [],
   "source": [
    "# Compute the parameter estimates (adjusted fraction of documents in class that contain word)\n",
    "\n",
    "n_classes = newsgroups_data['target'].max() + 1\n",
    "y = newsgroups_data['target']\n",
    "n_words = binary_bag_of_words.shape[1]\n",
    "\n",
    "alpha = 1e-6 # parameters for Laplace smoothing\n",
    "\n",
    "\"\"\"theta = np.zeros(shape=(n_classes, n_words))\n",
    "for kelas in range(n_classes):\n",
    "    cek_kelas = (y == kelas)\n",
    "    Totkelas = cek_kelas.sum()\n",
    "    theta[kelas,:] = (binary_bag_of_words[cek_kelas, :].sum(axis=0) + alpha) / (Totkelas + alpha*2)\n",
    "\"\"\"                 \n",
    "theta = np.zeros(shape = (n_classes, n_words)) # stores parameter values - prob. word given class\n",
    "for c_k in range(n_classes): # 0, 1, ..., 19\n",
    "    class_mask = (y == c_k)\n",
    "    N = class_mask.sum() # number of articles in class\n",
    "    theta[c_k, :] = (binary_bag_of_words[class_mask, :].sum(axis=0) + alpha)/(N + alpha*2)"
   ]
  },
  {
   "cell_type": "code",
   "execution_count": 35,
   "metadata": {},
   "outputs": [
    {
     "name": "stdout",
     "output_type": "stream",
     "text": [
      "Most probable Word in class alt.atheism is your\n",
      "Most probable Word in class comp.graphics is graphics\n",
      "Most probable Word in class comp.os.ms-windows.misc is windows\n",
      "Most probable Word in class comp.sys.ibm.pc.hardware is has\n",
      "Most probable Word in class comp.sys.mac.hardware is mac\n",
      "Most probable Word in class comp.windows.x is get\n",
      "Most probable Word in class misc.forsale is sale\n",
      "Most probable Word in class rec.autos is car\n",
      "Most probable Word in class rec.motorcycles is dod\n",
      "Most probable Word in class rec.sport.baseball is he\n",
      "Most probable Word in class rec.sport.hockey is ca\n",
      "Most probable Word in class sci.crypt is clipper\n",
      "Most probable Word in class sci.electronics is use\n",
      "Most probable Word in class sci.med is has\n",
      "Most probable Word in class sci.space is space\n",
      "Most probable Word in class soc.religion.christian is who\n",
      "Most probable Word in class talk.politics.guns is no\n",
      "Most probable Word in class talk.politics.mideast is who\n",
      "Most probable Word in class talk.politics.misc is we\n",
      "Most probable Word in class talk.religion.misc is who\n"
     ]
    }
   ],
   "source": [
    "mostWordGan = theta.argmax(axis=1)\n",
    "for j, ix in enumerate(mostWordGan):\n",
    "    print(f\"Most probable Word in class {newsgroups_data['target_names'][j]} is {inv_vocabulary[ix]}\")"
   ]
  },
  {
   "cell_type": "code",
   "execution_count": 36,
   "metadata": {},
   "outputs": [
    {
     "name": "stdout",
     "output_type": "stream",
     "text": [
      "Most probable word in class alt.atheism is \"your\".\n",
      "Most probable word in class comp.graphics is \"graphics\".\n",
      "Most probable word in class comp.os.ms-windows.misc is \"windows\".\n",
      "Most probable word in class comp.sys.ibm.pc.hardware is \"has\".\n",
      "Most probable word in class comp.sys.mac.hardware is \"mac\".\n",
      "Most probable word in class comp.windows.x is \"get\".\n",
      "Most probable word in class misc.forsale is \"sale\".\n",
      "Most probable word in class rec.autos is \"car\".\n",
      "Most probable word in class rec.motorcycles is \"dod\".\n",
      "Most probable word in class rec.sport.baseball is \"he\".\n",
      "Most probable word in class rec.sport.hockey is \"ca\".\n",
      "Most probable word in class sci.crypt is \"clipper\".\n",
      "Most probable word in class sci.electronics is \"use\".\n",
      "Most probable word in class sci.med is \"has\".\n",
      "Most probable word in class sci.space is \"space\".\n",
      "Most probable word in class soc.religion.christian is \"who\".\n",
      "Most probable word in class talk.politics.guns is \"no\".\n",
      "Most probable word in class talk.politics.mideast is \"who\".\n",
      "Most probable word in class talk.politics.misc is \"we\".\n",
      "Most probable word in class talk.religion.misc is \"who\".\n"
     ]
    }
   ],
   "source": [
    "# Check whether the most probable word in each class is reasonable\n",
    "\n",
    "most_probable_word_ix = theta.argmax(axis=1) # most probable word for each class\n",
    "\n",
    "for j, ix in enumerate(most_probable_word_ix):\n",
    "    print('Most probable word in class {} is \"{}\".'.format(newsgroups_data['target_names'][j],\n",
    "                                                           inv_vocabulary[ix]))"
   ]
  },
  {
   "cell_type": "code",
   "execution_count": 45,
   "metadata": {},
   "outputs": [
    {
     "data": {
      "text/plain": [
       "array([6.25000206e-03, 2.29166687e-02, 2.08333332e-09, ...,\n",
       "       2.08333332e-09, 2.08333332e-09, 2.08333332e-09])"
      ]
     },
     "execution_count": 45,
     "metadata": {},
     "output_type": "execute_result"
    }
   ],
   "source": [
    "theta[0]"
   ]
  },
  {
   "cell_type": "code",
   "execution_count": 41,
   "metadata": {},
   "outputs": [
    {
     "data": {
      "text/plain": [
       "<tfp.distributions.Independent 'IndependentBernoulli' batch_shape=[20] event_shape=[56386] dtype=int32>"
      ]
     },
     "execution_count": 41,
     "metadata": {},
     "output_type": "execute_result"
    }
   ],
   "source": [
    "# Define a distribution for each class\n",
    "batch_of_bernoulli = tfd.Bernoulli(probs=theta)\n",
    "p_x_given_y = tfd.Independent(batch_of_bernoulli,reinterpreted_batch_ndims=1)\n",
    "p_x_given_y\n"
   ]
  },
  {
   "cell_type": "code",
   "execution_count": 58,
   "metadata": {},
   "outputs": [
    {
     "data": {
      "text/plain": [
       "TensorShape([10, 20, 56386])"
      ]
     },
     "execution_count": 58,
     "metadata": {},
     "output_type": "execute_result"
    }
   ],
   "source": [
    "# Take a sample of words from each class\n",
    "\n",
    "n_samples = 10\n",
    "sample = p_x_given_y.sample(n_samples)\n",
    "sample.shape"
   ]
  },
  {
   "cell_type": "code",
   "execution_count": 81,
   "metadata": {},
   "outputs": [
    {
     "data": {
      "text/plain": [
       "(20, 56386)"
      ]
     },
     "execution_count": 81,
     "metadata": {},
     "output_type": "execute_result"
    }
   ],
   "source": [
    "sample[9].numpy().shape"
   ]
  },
  {
   "cell_type": "code",
   "execution_count": 44,
   "metadata": {},
   "outputs": [
    {
     "data": {
      "text/plain": [
       "'soc.religion.christian'"
      ]
     },
     "execution_count": 44,
     "metadata": {},
     "output_type": "execute_result"
    }
   ],
   "source": [
    "# Choose a class\n",
    "\n",
    "chosen_class = 15\n",
    "newsgroups_data['target_names'][chosen_class]"
   ]
  },
  {
   "cell_type": "code",
   "execution_count": 91,
   "metadata": {},
   "outputs": [
    {
     "data": {
      "text/plain": [
       "(11314,)"
      ]
     },
     "execution_count": 91,
     "metadata": {},
     "output_type": "execute_result"
    }
   ],
   "source": [
    "newsgroups_data[\"target\"].shape"
   ]
  },
  {
   "cell_type": "code",
   "execution_count": 94,
   "metadata": {},
   "outputs": [
    {
     "data": {
      "text/plain": [
       "CountVectorizer(analyzer='word', binary=True, decode_error='strict',\n",
       "        dtype=<class 'numpy.int64'>, encoding='utf-8', input='content',\n",
       "        lowercase=True, max_df=0.35, max_features=None,\n",
       "        min_df=8.926993105886513e-05, ngram_range=(1, 1),\n",
       "        preprocessor=None, stop_words=None, strip_accents=None,\n",
       "        token_pattern='(?u)\\\\b\\\\w\\\\w+\\\\b', tokenizer=None, vocabulary=None)"
      ]
     },
     "execution_count": 94,
     "metadata": {},
     "output_type": "execute_result"
    }
   ],
   "source": [
    "count_vectorizer"
   ]
  },
  {
   "cell_type": "code",
   "execution_count": 89,
   "metadata": {},
   "outputs": [
    {
     "data": {
      "text/plain": [
       "[array(['12v', '18', '185326', '250k', '29', 'activity', 'am', 'amd',\n",
       "        'anybody', 'arbitrary', 'big', 'bu', 'bull', 'bus', 'cab', 'cheap',\n",
       "        'commonly', 'connection', 'couple', 'dangerous', 'dept',\n",
       "        'detection', 'doesn', 'dont', 'dual', 'eg', 'engineering',\n",
       "        'factor', 'fitting', 'following', 'gateway', 'get', 'gotten',\n",
       "        'grn', 'had', 'hand', 'hanrahan', 'having', 'heat', 'higher',\n",
       "        'hodge', 'however', 'inc', 'key', 'less', 'like', 'look', 'ma',\n",
       "        'maintain', 'memory', 'metal', 'michael', 'microcontrollers',\n",
       "        'more', 'near', 'netnews', 'now', 'nuntius', 'obscure', 'operates',\n",
       "        'other', 'please', 'properly', 'pumped', 'rate', 'rather',\n",
       "        'really', 'regulation', 'safer', 'scientist', 'signal',\n",
       "        'situation', 'some', 'steel', 'stronger', 'take', 'telephone',\n",
       "        'than', 'thanks', 'them', 'these', 'think', 'time', 'two', 'type',\n",
       "        'uncecs', 'up', 'using', 'version', 'via', 'zero'], dtype='<U80')]"
      ]
     },
     "execution_count": 89,
     "metadata": {},
     "output_type": "execute_result"
    }
   ],
   "source": [
    "n_samples = 1\n",
    "nyoba = p_x_given_y.sample(n_samples)\n",
    "nyoba.shape\n",
    "count_vectorizer.inverse_transform(nyoba[:,12,:])"
   ]
  },
  {
   "cell_type": "code",
   "execution_count": 99,
   "metadata": {},
   "outputs": [
    {
     "data": {
      "text/plain": [
       "(56386,)"
      ]
     },
     "execution_count": 99,
     "metadata": {},
     "output_type": "execute_result"
    }
   ],
   "source": [
    "\n",
    "count_vectorizer.inverse_transform(theta[19,:])[0].shape"
   ]
  },
  {
   "cell_type": "code",
   "execution_count": null,
   "metadata": {},
   "outputs": [],
   "source": [
    "n_samples = 1000\n",
    "sample = p_x_given_y.sample(n_samples)\n",
    "sample.shape"
   ]
  },
  {
   "cell_type": "code",
   "execution_count": 104,
   "metadata": {},
   "outputs": [
    {
     "data": {
      "text/plain": [
       "<tf.Tensor: shape=(90, 56386), dtype=int32, numpy=\n",
       "array([[0, 0, 0, ..., 0, 0, 0],\n",
       "       [0, 0, 0, ..., 0, 0, 0],\n",
       "       [0, 0, 0, ..., 0, 0, 0],\n",
       "       ...,\n",
       "       [0, 0, 0, ..., 0, 0, 0],\n",
       "       [0, 0, 0, ..., 0, 0, 0],\n",
       "       [0, 0, 0, ..., 0, 0, 1]], dtype=int32)>"
      ]
     },
     "execution_count": 104,
     "metadata": {},
     "output_type": "execute_result"
    }
   ],
   "source": [
    "# Indicators for words that appear in the sample\n",
    "\n",
    "class_sample = sample[:, 12, :]\n",
    "class_sample"
   ]
  },
  {
   "cell_type": "code",
   "execution_count": 49,
   "metadata": {},
   "outputs": [
    {
     "data": {
      "text/plain": [
       "[array(['12', '128', '14', '27', '41', '706', '7415', 'accounts',\n",
       "        'acknowledge', 'after', 'am', 'andrew', 'au', 'basis', 'behalf',\n",
       "        'behind', 'being', 'belief', 'belong', 'bgu', 'bible', 'both',\n",
       "        'brain', 'brings', 'causes', 'christ', 'claim', 'class', 'college',\n",
       "        'combined', 'come', 'concerned', 'context', 'dale', 'db7n',\n",
       "        'definite', 'deletions', 'department', 'dictate', 'didn', 'does',\n",
       "        'doesn', 'domestic', 'don', 'double', 'during', 'elect', 'equally',\n",
       "        'eternity', 'etymology', 'everyone', 'evils', 'example',\n",
       "        'expectation', 'express', 'expresses', 'fact', 'find', 'first',\n",
       "        'formlulating', 'fulfill', 'generation', 'god', 'had', 'has',\n",
       "        'heaven', 'hello', 'help', 'here', 'his', 'hold', 'individuality',\n",
       "        'inductive', 'into', 'issue', 'jeesus', 'joel', 'joseph', 'just',\n",
       "        'kicked', 'language', 'late', 'least', 'light', 'll', 'mar',\n",
       "        'masses', 'may', 'means', 'might', 'ministry', 'mlsma', 'moment',\n",
       "        'monster', 'most', 'mr', 'name', 'namely', 'nice', 'nus', 'odd',\n",
       "        'org', 'our', 'own', 'people', 'physical', 'pixie', 'precedents',\n",
       "        'proving', 'put', 'questions', 'reader', 'reason', 'remember',\n",
       "        'rest', 'rutgers', 'said', 'same', 'savior', 'says', 'sdcc13',\n",
       "        'sex', 'shao', 'sister', 'split', 'still', 'successfully', 'sun',\n",
       "        'talks', 'their', 'these', 'thing', 'think', 'those', 'thou',\n",
       "        'tomlinson', 'took', 'true', 'uk', 'unfortunately', 'used',\n",
       "        'valid', 'views', 'virginia', 'war', 'we', 'well', 'were', 'where',\n",
       "        'whether', 'which', 'whose', 'wickedness', 'wish', 'wood', 'word',\n",
       "        'work', 'yours'], dtype='<U80'),\n",
       " array(['14', '16', '18', '1979', '60', 'acquired', 'additions', 'against',\n",
       "        'alarming', 'among', 'another', 'answer', 'applied', 'asked',\n",
       "        'assuming', 'athos', 'because', 'become', 'beliefs', 'betrayed',\n",
       "        'between', 'billion', 'bunch', 'cease', 'century', 'commandments',\n",
       "        'course', 'covered', 'cs', 'decide', 'did', 'doesn', 'doing',\n",
       "        'drawing', 'dungeons', 'electrical', 'end', 'english', 'evil',\n",
       "        'examine', 'false', 'falsely', 'first', 'gensis', 'he', 'headship',\n",
       "        'heard', 'him', 'homosexuals', 'however', 'implies', 'incredibly',\n",
       "        'instead', 'internet', 'james', 'jewish', 'kind', 'lead',\n",
       "        'lincoln', 'lived', 'll', 'long', 'love', 'many', 'may', 'means',\n",
       "        'members', 'moon', 'morally', 'murray', 'night', 'nih', 'nothing',\n",
       "        'now', 'nt', 'nuclear', 'oneself', 'only', 'opinion', 'orthodox',\n",
       "        'other', 'out', 'outside', 'own', 'part', 'particular',\n",
       "        'peacefully', 'people', 'please', 'point', 'prayers', 'pre',\n",
       "        'predicts', 'psalm', 'publishing', 'raphael', 'recognisable',\n",
       "        'reject', 'relationship', 'respect', 'result', 'rule', 'same',\n",
       "        'says', 'science', 'seminary', 'services', 'sexual', 'silent_',\n",
       "        'sin', 'some', 'something', 'steps', 'still', 'structure', 'stuff',\n",
       "        'teachings', 'tell', 'testament', 'than', 'them', 'thought',\n",
       "        'trans', 'trash', 'true', 'tsd', 'upon', 'vain', 'validity',\n",
       "        'when', 'who', 'will', 'without', 'witness', 'wustl', 'yes', 'yet',\n",
       "        'your'], dtype='<U80'),\n",
       " array(['10', '16', '29266', '31', '706', 'act', 'admit', 'adopted',\n",
       "        'again', 'analogy', 'ancient', 'anthroposophy', 'anyone',\n",
       "        'appearance', 'apr', 'ashley', 'assuming', 'because', 'bickering',\n",
       "        'binding', 'brother', 'carpenter', 'certainly', 'choose', 'chris',\n",
       "        'christian', 'clh', 'cold', 'comparative', 'con', 'couched',\n",
       "        'couple', 'decide', 'doing', 'du', 'duty', 'either', 'energies',\n",
       "        'even', 'explanations', 'fabrication', 'fed', 'finally', 'find',\n",
       "        'fire', 'florida', 'following', 'fsu', 'give', 'god', 'good',\n",
       "        'granted', 'he', 'hiv', 'how', 'idea', 'idler', 'into', 'israel',\n",
       "        'jesus', 'job', 'known', 'like', 'likely', 'lyrics', 'me',\n",
       "        'michael', 'misquoted', 'more', 'n4tmi', 'national', 'normally',\n",
       "        'north', 'note', 'observation', 'our', 'own', 'panix', 'parishes',\n",
       "        'payment', 'pennsylvania', 'perfect', 'polluted', 'prayers',\n",
       "        'present', 'primarily', 'purpose', 'question', 'reduced',\n",
       "        'relationship', 'rutgers', 'seating', 'see', 'set', 'shaz', 'shop',\n",
       "        'sides', 'sin', 'smith', 'society_', 'stories', 'storm', 'them',\n",
       "        'thief', 'time', 'tries', 'two', 'uk', 'univ', 'unix', 'unselfish',\n",
       "        'until', 'urges', 'use', 'van', 've', 'war', 'weaknesses', 'when',\n",
       "        'where', 'whereby', 'which', 'word', 'wordprocessor', 'wrong',\n",
       "        'your'], dtype='<U80'),\n",
       " array(['02', '03', '07', '11', '17', '23', '36', '703', '_iliad_',\n",
       "        'abuse', 'acceptable', 'actually', 'address', 'against', 'alaska',\n",
       "        'am', 'anyone', 'approach', 'armed', 'athos', 'based', 'bible',\n",
       "        'bouncing', 'box', 'bruised', 'building', 'capital', 'cause',\n",
       "        'christ', 'christians', 'church', 'clh', 'comes', 'completely',\n",
       "        'congregation', 'consider', 'copy', 'correction', 'couple',\n",
       "        'cultural', 'deeper', 'defined', 'deserts', 'disciplined',\n",
       "        'double', 'evil', 'exist', 'extent', 'eyes', 'felt', 'few',\n",
       "        'first', 'follow', 'following', 'front', 'fuller', 'general',\n",
       "        'generation', 'had', 'he', 'heretical', 'high', 'hour',\n",
       "        'household', 'information', 'institute', 'interfaith',\n",
       "        'interpretation', 'itself', 'jesus', 'jewish', 'just', 'kingdoms',\n",
       "        'know', 'lack', 'll', 'login', 'look', 'lumped', 'marka', 'mary',\n",
       "        'matter', 'merit', 'more', 'mouths', 'moves', 'much', 'nabeel',\n",
       "        'near', 'net', 'never', 'next', 'no', 'nor', 'noring', 'off',\n",
       "        'overseas', 'own', 'owning', 'part', 'party', 'paul', 'people',\n",
       "        'perhaps', 'person', 'pet', 'postings', 'potter', 'praise',\n",
       "        'pretoria', 'pretty', 'process', 'question', 'read', 'sack',\n",
       "        'said', 'same', 'savior', 'say', 'sdcc13', 'seems', 'sense', 'sex',\n",
       "        'should', 'sides', 'siemon', 'since', 'some', 'stanford', 'state',\n",
       "        'story', 'submitted', 'than', 'then', 'thing', 'think', 'time',\n",
       "        'topics', 'uninc', 'up', 'we', 'well', 'were', 'when', 'wide',\n",
       "        'world', 'wrote'], dtype='<U80'),\n",
       " array(['00', '11', '15', 'accept', 'appropriate', 'atheist', 'avoid',\n",
       "        'basis', 'between', 'birth', 'blown', 'both', 'bothering',\n",
       "        'burning', 'certain', 'circumstances', 'coming', 'comprehend',\n",
       "        'construction', 'crime', 'crucify', 'cu', 'damien', 'day',\n",
       "        'decided', 'details', 'does', 'doing', 'each', 'east', 'employer',\n",
       "        'ended', 'everett', 'everyone', 'exactly', 'examine', 'expecting',\n",
       "        'experience', 'explanations', 'extremely', 'fighting', 'found',\n",
       "        'funny', 'generally', 'god', 'greatest', 'ground', 'harris', 'he',\n",
       "        'her', 'his', 'house', 'how', 'idea', 'immortality', 'info',\n",
       "        'inside', 'insist', 'interest', 'into', 'issues', 'jews', 'just',\n",
       "        'kind', 'kingdom', 'know', 'laws', 'leaving', 'lewis', 'lost',\n",
       "        'management', 'married', 'me', 'member', 'mike', 'moral', 'most',\n",
       "        'natural', 'needs', 'new', 'next', 'no', 'note', 'nz', 'odds',\n",
       "        'ones', 'only', 'out', 'pentecost', 'person', 'peter', 'phrase',\n",
       "        'possible', 'post', 'preferes', 'prevent', 'previous', 'priests',\n",
       "        'problem', 'prophets', 'quite', 'ramble', 'ranging', 'read',\n",
       "        'reflect', 'reply', 'right', 'said', 'science', 'seems', 'seen',\n",
       "        'segard', 'sending', 'services', 'shared', 'should', 'simply',\n",
       "        'singer', 'solution', 'some', 'strange', 'straws', 'subdue',\n",
       "        'suggest', 'take', 'tate', 'than', 'them', 'those', 'titan',\n",
       "        'told', 'towards', 'translation', 'ucs', 'uk', 'understand', 'use',\n",
       "        'vice', 'view', 'wait', 'ways', 'whatever', 'when', 'whose',\n",
       "        'will', 'within', 'word', 'worship', 'wouldn', 'wustl', 'york',\n",
       "        'young', 'your', 'yourselves'], dtype='<U80'),\n",
       " array(['05', '09', '14391', '1993', '21', '22', '53', '58', 'above',\n",
       "        'again', 'against', 'also', 'always', 'am', 'amigos', 'amongst',\n",
       "        'amusing', 'antiquity', 'approach', 'ask', 'aware', 'barred',\n",
       "        'battle', 'before', 'behind', 'bible', 'both', 'characters',\n",
       "        'civil', 'claims', 'collection', 'combine', 'commitment',\n",
       "        'committee', 'complex', 'contrary', 'cwru', 'darius', 'david',\n",
       "        'dead', 'deeds', 'disciple', 'disclaimer', 'displays', 'doctrines',\n",
       "        'doesn', 'doing', 'entire', 'especially', 'ethic', 'event',\n",
       "        'examples', 'fail', 'find', 'get', 'god', 'graduation', 'grounded',\n",
       "        'guess', 'guide', 'harsh', 'has', 'he', 'heresey', 'hillary',\n",
       "        'him', 'his', 'hold', 'immature', 'instantly', 'james', 'jeesus',\n",
       "        'jesus', 'leigh', 'let', 'lfoard', 'loved', 'magnitude', 'magnus',\n",
       "        'medieval', 'men', 'merits', 'modern', 'more', 'most', 'much',\n",
       "        'myself', 'national', 'next', 'no', 'now', 'odds', 'onto',\n",
       "        'opinion', 'opposed', 'organpipe', 'our', 'parents', 'person',\n",
       "        'plan', 'please', 'pope', 'post', 'primarily', 'printed', 'punish',\n",
       "        'raw', 'read', 'real', 'recent', 'recommended', 'required',\n",
       "        'right', 'rule', 'satisfiable', 'scriptures', 'season', 'sending',\n",
       "        'sharp', 'show', 'sides', 'similarly', 'sin', 'since', 'skill',\n",
       "        'some', 'spring', 'subjects', 'sure', 'systems', 'tells',\n",
       "        'temporal', 'than', 'their', 'things', 'time', 'today', 'torment',\n",
       "        'two', 'type', 'unnecessary', 'upenn', 'us', 'vague', 'virgin',\n",
       "        'want', 'war', 'way', 'westboro', 'when', 'will', 'without',\n",
       "        'working', 'yet', 'z5'], dtype='<U80'),\n",
       " array(['00', '7415', '_the', 'act', 'action', 'ad', 'almost', 'also',\n",
       "        'another', 'anymore', 'appears', 'aptly', 'bassili', 'because',\n",
       "        'been', 'before', 'behave', 'being', 'believe', 'both', 'bring',\n",
       "        'capitalism', 'case', 'changed', 'chocolate', 'chruch', 'clh',\n",
       "        'colorado', 'concerned', 'conversion', 'could', 'covenants',\n",
       "        'covington', 'dan', 'david', 'day', 'decided', 'deemed', 'deny',\n",
       "        'depending', 'dept', 'determining', 'different', 'discuss',\n",
       "        'discussions', 'don', 'dragons', 'dump', 'engineering', 'entirely',\n",
       "        'equivalent', 'eve', 'everyone', 'ex', 'extension', 'false', 'far',\n",
       "        'filled', 'find', 'first', 'flame', 'floor', 'foul', 'french',\n",
       "        'get', 'go', 'god', 'hasta', 'he', 'historical', 'hold', 'honor',\n",
       "        'how', 'image', 'implications', 'important', 'interfaith',\n",
       "        'interpretation', 'into', 'jews', 'joined', 'just', 'kuhub',\n",
       "        'lack', 'letters', 'lewis', 'lexington', 'life', 'lifetime',\n",
       "        'lives', 'll', 'logic', 'loss', 'love', 'man', 'marry', 'means',\n",
       "        'medieval', 'molas', 'mu', 'must', 'national', 'no', 'noye',\n",
       "        'number', 'other', 'out', 'package', 'pagan', 'peter', 'praise',\n",
       "        'precious', 'project', 'proofs', 'push', 'rampant', 'rarely',\n",
       "        'really', 'records', 'reflect', 'religions', 'require', 'said',\n",
       "        'saturn', 'scri', 'see', 'seemed', 'seen', 'senses', 'septuagint',\n",
       "        'sets', 'shields', 'should', 'siew', 'situation', 'souls', 'ssdc',\n",
       "        'sspx', 'stated', 'such', 'suggests', 'sunday', 'talked',\n",
       "        'technology', 'than', 'thanks', 'their', 'thereof', 'thief',\n",
       "        'though', 'through', 'times', 'told', 'too', 'top', 'two',\n",
       "        'understood', 'until', 'way', 'were', 'when', 'where', 'which',\n",
       "        'who', 'wilderness', 'will', 'wish', 'work', 'york', 'your',\n",
       "        'yourself'], dtype='<U80'),\n",
       " array(['25', '70s', '98', '_he', 'above', 'absolute', 'adopted',\n",
       "        'advance', 'against', 'analogy', 'apostles', 'apr', 'arguments',\n",
       "        'asked', 'athos', 'aversion', 'because', 'been', 'bible', 'both',\n",
       "        'boys', 'case', 'christian', 'classes', 'continue', 'continuing',\n",
       "        'correct', 'correctly', 'cs', 'cwru', 'dal', 'david', 'death',\n",
       "        'differences', 'different', 'does', 'drafted', 'east', 'effective',\n",
       "        'eng', 'enough', 'even', 'evidently', 'example', 'far', 'fisher',\n",
       "        'fit', 'forgiveness', 'free', 'glasgow', 'god', 'guide',\n",
       "        'harassed', 'he', 'here', 'his', 'how', 'idea', 'indeed', 'intent',\n",
       "        'jealousy', 'languages', 'last', 'levels', 'made', 'makes', 'may',\n",
       "        'me', 'mean', 'member', 'mystery', 'name', 'netcom', 'only',\n",
       "        'opinions', 'original', 'other', 'out', 'parkin', 'people',\n",
       "        'performing', 'perhaps', 'personal', 'pharisees', 'political',\n",
       "        'power', 'pray', 'prayers', 'predicted', 'probably', 'public',\n",
       "        'reality', 'realized', 'rebuilt', 'reply', 'requirements',\n",
       "        'research', 'rutgers', 'said', 'same', 'say', 'section', 'serbs',\n",
       "        'share', 'similarly', 'some', 'someone', 'sort', 'speaking',\n",
       "        'spiritually', 'stand', 'stress', 'structure', 'study', 'such',\n",
       "        'support', 'talk', 'talking', 'tell', 'together', 'two', 'under',\n",
       "        'upon', 'uu', 'uunet', 'want', 'weekly', 'were', 'which', 'who',\n",
       "        'whose', 'window', 'without', 'world', 'wquinnan', 'youngstown',\n",
       "        'yourselves'], dtype='<U80'),\n",
       " array(['15', '16', '1993', '28376', '38', 'able', 'agreed', 'alexandria',\n",
       "        'also', 'american', 'americans', 'apparently', 'arrogance',\n",
       "        'asked', 'athos', 'authority', 'being', 'belief', 'cannot',\n",
       "        'cease', 'chance', 'change', 'cheek', 'college', 'come', 'coming',\n",
       "        'comm', 'competent', 'consider', 'context', 'contradictory',\n",
       "        'creeds', 'csc', 'cups', 'deal', 'descriptions', 'devoid',\n",
       "        'disagree', 'disciple', 'discussing', 'drives', 'easter',\n",
       "        'eliminate', 'ended', 'entirely', 'erring', 'especially', 'every',\n",
       "        'explained', 'fact', 'faith', 'fall', 'fate', 'find', 'flourished',\n",
       "        'following', 'fool', 'froehlich', 'further', 'good', 'gospel',\n",
       "        'greatest', 'group', 'he', 'him', 'himself', 'hindu', 'history',\n",
       "        'how', 'identification', 'illogical', 'inc', 'indistinguishable',\n",
       "        'into', 'isn', 'jeeze', 'jesus', 'john', 'just', 'justify', 'lake',\n",
       "        'life', 'look', 'make', 'mark', 'may', 'mean', 'minutes', 'much',\n",
       "        'national', 'network', 'no', 'occured', 'offended', 'others',\n",
       "        'our', 'out', 'own', 'panix', 'peacefully', 'people', 'pleasure',\n",
       "        'pledges', 'point', 'possible', 'president', 'probably',\n",
       "        'promises', 'questionaire', 'questions', 'reason', 'refuse',\n",
       "        'remarked', 'reply', 'require', 'revelation', 'revelations', 'say',\n",
       "        'schaeffer', 'see', 'select', 'someone', 'something', 'ssd',\n",
       "        'stand', 'straightforward', 'sword', 'teach', 'tell', 'temple',\n",
       "        'tends', 'than', 'them', 'these', 'things', 'those', 'through',\n",
       "        'thus', 'time', 'tools', 'tribes', 'understood', 'up', 'use',\n",
       "        'way', 'we', 'welcome', 'who', 'why', 'will', 'world'],\n",
       "       dtype='<U80'),\n",
       " array(['16', '34', 'according', 'actually', 'advanced', 'age', 'agree',\n",
       "        'although', 'answered', 'anu', 'appears', 'arguments', 'ask',\n",
       "        'athena', 'attempting', 'bad', 'because', 'believing', 'benefits',\n",
       "        'biblical', 'blunt', 'bunny', 'caring', 'case', 'catholic',\n",
       "        'christ', 'christians', 'communion', 'community', 'confess',\n",
       "        'consider', 'created', 'cwis', 'day', 'death', 'declaring',\n",
       "        'describe', 'did', 'dim', 'disgrace', 'egypt', 'elevated',\n",
       "        'established', 'europe', 'events', 'eyes', 'far', 'five', 'found',\n",
       "        'free', 'fsspr', 'fulfillment', 'gathered', 'gathers', 'georgia',\n",
       "        'getting', 'god', 'got', 'green', 'had', 'hair', 'hi', 'him',\n",
       "        'his', 'hopkins', 'houses', 'ignorant', 'impulse', 'include',\n",
       "        'indisputable', 'instigated', 'isn', 'jewish', 'just', 'kellett',\n",
       "        'least', 'lived', 'lord', 'lot', 'magnus', 'male', 'me',\n",
       "        'missiology', 'mistake', 'more', 'mr', 'much', 'must', 'new',\n",
       "        'non', 'obeyed', 'ones', 'only', 'order', 'other', 'out',\n",
       "        'personality', 'pervert', 'physical', 'place', 'pointing', 'posit',\n",
       "        'positive', 'practice', 'premise', 'presenting', 'problem',\n",
       "        'protestant', 'put', 'quoted', 'rather', 'real', 'remember',\n",
       "        'reported', 'road', 'rutgers', 'salvation', 'saved', 'scourging',\n",
       "        'see', 'share', 'sin', 'somalia', 'something', 'source', 'start',\n",
       "        'structure', 'study', 'taking', 'tel', 'their', 'them', 'then',\n",
       "        'think', 'tierra', 'tribulation', 'try', 'unless', 'urbana', 'us',\n",
       "        'used', 'vbv', 'very', 'volcanic', 'we', 'well', 'while', 'who',\n",
       "        'why', 'wicked', 'will', 'word', 'worked', 'wrote', 'yes', 'your'],\n",
       "       dtype='<U80')]"
      ]
     },
     "execution_count": 49,
     "metadata": {},
     "output_type": "execute_result"
    }
   ],
   "source": [
    "# Perform inverse transform to test quality of fit\n",
    "\n",
    "count_vectorizer.inverse_transform(class_sample)"
   ]
  },
  {
   "cell_type": "markdown",
   "metadata": {},
   "source": [
    "***\n",
    "<a id='sampling_and_log_probs'></a>\n",
    "## Sampling and log probs"
   ]
  },
  {
   "cell_type": "code",
   "execution_count": null,
   "metadata": {},
   "outputs": [],
   "source": [
    "# Make Multivariate Distribution\n",
    "\n",
    "normal_distributions = tfd.MultivariateNormalDiag(loc=[[0.5, 1], [0.1, 0], [0, 0.2]],\n",
    "                                 scale_diag=[[2, 3], [1, 3], [4, 4]])\n",
    "normal_distributions"
   ]
  },
  {
   "cell_type": "code",
   "execution_count": null,
   "metadata": {},
   "outputs": [],
   "source": [
    "# Sample\n",
    "\n"
   ]
  },
  {
   "cell_type": "code",
   "execution_count": null,
   "metadata": {},
   "outputs": [],
   "source": [
    "# Multivariate Normal batched Distribution\n",
    "# We are broadcasting batch shapes of `loc` and `scal_diag` \n",
    "# against each other\n",
    "\n",
    "loc = [[[0.3, 1.5, 1.], [0.2, 0.4, 2.8]],\n",
    "        [[2., 2.3, 8], [1.4, 1, 1.3]]]\n",
    "scale_diag = [0.4, 1., 0.7]\n",
    "normal_distributions = tfd.MultivariateNormalDiag(loc=loc, scale_diag=scale_diag)\n",
    "normal_distributions"
   ]
  },
  {
   "cell_type": "code",
   "execution_count": null,
   "metadata": {},
   "outputs": [],
   "source": [
    "# Use independent to move part of the batch shape\n",
    "\n"
   ]
  },
  {
   "cell_type": "code",
   "execution_count": null,
   "metadata": {},
   "outputs": [],
   "source": [
    "# Draw some samples\n",
    "\n"
   ]
  },
  {
   "cell_type": "code",
   "execution_count": null,
   "metadata": {},
   "outputs": [],
   "source": [
    "# `[B, E]` shaped input\n",
    "\n"
   ]
  },
  {
   "cell_type": "code",
   "execution_count": null,
   "metadata": {},
   "outputs": [],
   "source": [
    "# `[E]` shaped input (broadcasting over batch size)\n",
    "\n"
   ]
  },
  {
   "cell_type": "code",
   "execution_count": null,
   "metadata": {},
   "outputs": [],
   "source": [
    "#`[S, B, E]` shaped input (broadcasting over samples)\n",
    "\n"
   ]
  },
  {
   "cell_type": "code",
   "execution_count": null,
   "metadata": {},
   "outputs": [],
   "source": [
    "# `[S, b, e]` shaped input, where [b, e] is broadcastable over [B, E]\n",
    "\n"
   ]
  },
  {
   "cell_type": "markdown",
   "metadata": {},
   "source": [
    "#### Naive Bayes example\n",
    "\n",
    "Lets now use what we have learned and continue the Naive Bayes classifier we were building last tutorial."
   ]
  },
  {
   "cell_type": "code",
   "execution_count": null,
   "metadata": {},
   "outputs": [],
   "source": [
    "from sklearn.datasets import fetch_20newsgroups\n",
    "from sklearn.feature_extraction.text import CountVectorizer\n",
    "from sklearn.naive_bayes import BernoulliNB\n",
    "from sklearn.metrics import f1_score"
   ]
  },
  {
   "cell_type": "code",
   "execution_count": null,
   "metadata": {},
   "outputs": [],
   "source": [
    "# Making a function get_data which:\n",
    "#   1) Fetches the 20 newsgroup dataset\n",
    "#   2) Performs a word count on the articles and binarizes the result\n",
    "#   3) Returns the data as a numpy matrix with the labels\n",
    "\n",
    "def get_data(categories):\n",
    "    \n",
    "    newsgroups_train_data = fetch_20newsgroups(data_home='20_Newsgroup_Data/',\n",
    "                                               subset='train', categories=categories)\n",
    "    newsgroups_test_data = fetch_20newsgroups(data_home='20_Newsgroup_Data/',\n",
    "                                              subset='test', categories=categories)\n",
    "\n",
    "    n_documents = len(newsgroups_train_data['data'])\n",
    "    count_vectorizer = CountVectorizer(input='content', binary=True,max_df=0.25, min_df=1.01/n_documents)\n",
    "    \n",
    "    train_binary_bag_of_words = count_vectorizer.fit_transform(newsgroups_train_data['data'])\n",
    "    test_binary_bag_of_words = count_vectorizer.transform(newsgroups_test_data['data']) \n",
    "\n",
    "    return (train_binary_bag_of_words.todense(), newsgroups_train_data['target']),  (test_binary_bag_of_words.todense(), newsgroups_test_data['target'])"
   ]
  },
  {
   "cell_type": "code",
   "execution_count": null,
   "metadata": {},
   "outputs": [],
   "source": [
    "# Defining a function to conduct Laplace smoothing. This adds a base level of probability for a given feature\n",
    "# to occur in every class.\n",
    "\n",
    "def laplace_smoothing(labels, binary_data, n_classes):\n",
    "    # Compute the parameter estimates (adjusted fraction of documents in class that contain word)\n",
    "    n_words = binary_data.shape[1]\n",
    "    alpha = 1 # parameters for Laplace smoothing\n",
    "    theta = np.zeros([n_classes, n_words]) # stores parameter values - prob. word given class\n",
    "    for c_k in range(n_classes): # 0, 1, ..., 19\n",
    "        class_mask = (labels == c_k)\n",
    "        N = class_mask.sum() # number of articles in class\n",
    "        theta[c_k, :] = (binary_data[class_mask, :].sum(axis=0) + alpha)/(N + alpha*2)\n",
    "\n",
    "    return theta"
   ]
  },
  {
   "cell_type": "code",
   "execution_count": null,
   "metadata": {},
   "outputs": [],
   "source": [
    "# Getting a subset of the 20 newsgroup dataset\n",
    "\n",
    "categories = ['alt.atheism', 'talk.religion.misc', 'comp.graphics', 'sci.space']\n",
    "\n",
    "(train_data, train_labels), (test_data, test_labels) = get_data(categories=categories)\n",
    "smoothed_counts = laplace_smoothing(labels=train_labels, binary_data=train_data, n_classes=len(categories))"
   ]
  },
  {
   "cell_type": "markdown",
   "metadata": {},
   "source": [
    "To now make our NB classifier we need to build three functions:\n",
    "* Compute the class priors\n",
    "* Build our class conditional distributions\n",
    "* Put it all together and classify our data"
   ]
  },
  {
   "cell_type": "code",
   "execution_count": null,
   "metadata": {},
   "outputs": [],
   "source": [
    "# Function which computes the prior probability of every class based on frequency of occurence in \n",
    "# the dataset\n",
    "\n",
    "def class_priors(n_classes, labels):\n",
    "    counts = np.zeros(n_classes)\n",
    "    for c_k in range(n_classes):\n",
    "        counts[c_k] = np.sum(np.where(labels==c_k, 1, 0))\n",
    "    priors = counts / np.sum(counts)\n",
    "    print('The class priors are {}'.format(priors))\n",
    "    return priors"
   ]
  },
  {
   "cell_type": "code",
   "execution_count": null,
   "metadata": {},
   "outputs": [],
   "source": [
    "# Run the function \n",
    "\n"
   ]
  },
  {
   "cell_type": "code",
   "execution_count": null,
   "metadata": {},
   "outputs": [],
   "source": [
    "# Now we will do a function that given the feature occurence counts returns a Bernoulli distribution of \n",
    "# batch_shape=number of classes and event_shape=number of features.\n",
    "\n"
   ]
  },
  {
   "cell_type": "code",
   "execution_count": null,
   "metadata": {},
   "outputs": [],
   "source": [
    "# The final function predict_sample which given the distribution, a test sample, and the class priors:\n",
    "#   1) Computes the class conditional probabilities given the sample\n",
    "#   2) Forms the joint likelihood\n",
    "#   3) Normalises the joint likelihood and returns the log prob\n",
    "\n"
   ]
  },
  {
   "cell_type": "markdown",
   "metadata": {},
   "source": [
    "#### Computing log_probs"
   ]
  },
  {
   "cell_type": "code",
   "execution_count": null,
   "metadata": {},
   "outputs": [],
   "source": [
    "# Predicting one example from our test data\n",
    "\n"
   ]
  },
  {
   "cell_type": "code",
   "execution_count": null,
   "metadata": {},
   "outputs": [],
   "source": [
    "# Loop over our test data and classify.\n",
    "\n",
    "probabilities = []\n",
    "for sample, label in zip(test_data, test_labels):\n",
    "    probabilities.append(tf.exp(predict_sample(tf_dist, sample, priors)))\n",
    "\n",
    "probabilities = np.asarray(probabilities)\n",
    "predicted_classes = np.argmax(probabilities, axis =-1)\n",
    "print('f1 ', f1_score(test_labels, predicted_classes, average='macro'))"
   ]
  },
  {
   "cell_type": "code",
   "execution_count": null,
   "metadata": {},
   "outputs": [],
   "source": [
    "# Make a Bernoulli Naive Bayes classifier using sklearn with the same level of alpha smoothing. \n",
    "\n",
    "clf = BernoulliNB(alpha=1)\n",
    "clf.fit(train_data, train_labels)\n",
    "pred = clf.predict(test_data)\n",
    "print('f1 from sklean ', f1_score(test_labels, pred, average='macro'))"
   ]
  },
  {
   "cell_type": "markdown",
   "metadata": {},
   "source": [
    "***\n",
    "<a id='trainable_distributions'></a>\n",
    "## Trainable Distributions"
   ]
  },
  {
   "cell_type": "code",
   "execution_count": null,
   "metadata": {},
   "outputs": [],
   "source": [
    "from sklearn.datasets import fetch_20newsgroups\n",
    "from sklearn.feature_extraction.text import CountVectorizer\n",
    "from sklearn.naive_bayes import BernoulliNB\n",
    "from sklearn.metrics import f1_score"
   ]
  },
  {
   "cell_type": "code",
   "execution_count": null,
   "metadata": {},
   "outputs": [],
   "source": [
    "# Define an exponential distribution\n",
    "\n"
   ]
  },
  {
   "cell_type": "code",
   "execution_count": null,
   "metadata": {},
   "outputs": [],
   "source": [
    "# Plot\n",
    "\n",
    "plt.hist(exponential.sample(5000), bins=100, density=True)\n",
    "plt.show()"
   ]
  },
  {
   "cell_type": "code",
   "execution_count": null,
   "metadata": {},
   "outputs": [],
   "source": [
    "# Define an exponential distribution with a trainable rate parameter\n",
    "\n"
   ]
  },
  {
   "cell_type": "code",
   "execution_count": null,
   "metadata": {},
   "outputs": [],
   "source": [
    "# Define the negative log likelihood\n",
    "\n"
   ]
  },
  {
   "cell_type": "code",
   "execution_count": null,
   "metadata": {},
   "outputs": [],
   "source": [
    "# Define a function to compute the loss and gradients\n",
    "\n"
   ]
  },
  {
   "cell_type": "code",
   "execution_count": null,
   "metadata": {},
   "outputs": [],
   "source": [
    "# Optimize\n",
    "\n",
    "def exponential_dist_optimisation(data, distribution):\n",
    "\n",
    "    # Keep results for plotting\n",
    "    train_loss_results = []\n",
    "    train_rate_results = []\n",
    "    \n",
    "    optimizer = tf.keras.optimizers.SGD(learning_rate=0.05)\n",
    "\n",
    "    num_steps = 10\n",
    "\n",
    "    for i in range(num_steps):\n",
    "        \n",
    "        print(\"Step {:03d}: Loss: {:.3f}: Rate: {:.3f}\".format())\n",
    "        \n",
    "    return train_loss_results, train_rate_results"
   ]
  },
  {
   "cell_type": "code",
   "execution_count": null,
   "metadata": {},
   "outputs": [],
   "source": [
    "# Get some data and train\n",
    "\n"
   ]
  },
  {
   "cell_type": "code",
   "execution_count": null,
   "metadata": {},
   "outputs": [],
   "source": [
    "# Predicted value for the rate parameter\n",
    "\n",
    "pred_value = exp_train.rate.numpy()\n",
    "exact_value = exponential.rate.numpy()\n",
    "\n",
    "print(\"Exact rate: \", exact_value)\n",
    "print(\"Pred rate:  \", pred_value)"
   ]
  },
  {
   "cell_type": "code",
   "execution_count": null,
   "metadata": {},
   "outputs": [],
   "source": [
    "# Plot to see the convergence of the estimated and true parameters\n",
    "\n",
    "tensor_exact_value = tf.constant(exact_value, shape=[len(train_rate_results)])\n",
    "\n",
    "fig, axes = plt.subplots(2, sharex=True, figsize=(12, 8))\n",
    "fig.suptitle('Convergence')\n",
    "\n",
    "axes[0].set_ylabel(\"Loss\", fontsize=14)\n",
    "axes[0].plot(train_loss_results)\n",
    "\n",
    "axes[1].set_ylabel(\"Rate\", fontsize=14)\n",
    "axes[1].set_xlabel(\"Epoch\", fontsize=14)\n",
    "axes[1].plot(train_rate_results, label='trainable rate variable')\n",
    "axes[1].plot(tensor_exact_value, label='exact rate')\n",
    "axes[1].legend()\n",
    "plt.show()"
   ]
  },
  {
   "cell_type": "code",
   "execution_count": null,
   "metadata": {},
   "outputs": [],
   "source": [
    "# Making a function get_data which:\n",
    "#   1) Fetches the 20 newsgroup dataset\n",
    "#   2) Performs a word count on the articles and binarizes the result\n",
    "#   3) Returns the data as a numpy matrix with the labels\n",
    "\n",
    "def get_data(categories):\n",
    "\n",
    "    newsgroups_train_data = fetch_20newsgroups(data_home='20_Newsgroup_Data/',\n",
    "                                               subset='train', categories=categories)\n",
    "    newsgroups_test_data = fetch_20newsgroups(data_home='20_Newsgroup_Data/',\n",
    "                                              subset='test', categories=categories)\n",
    "\n",
    "    n_documents = len(newsgroups_train_data['data'])\n",
    "    count_vectorizer = CountVectorizer(input='content', binary=True,max_df=0.25, min_df=1.01/n_documents) \n",
    "    train_binary_bag_of_words = count_vectorizer.fit_transform(newsgroups_train_data['data']) \n",
    "    test_binary_bag_of_words = count_vectorizer.transform(newsgroups_test_data['data']) \n",
    "\n",
    "    return (train_binary_bag_of_words.todense(), newsgroups_train_data['target']),  (test_binary_bag_of_words.todense(), newsgroups_test_data['target'])\n"
   ]
  },
  {
   "cell_type": "code",
   "execution_count": null,
   "metadata": {},
   "outputs": [],
   "source": [
    "# Defining a function to conduct laplace smoothing. This adds a base level of probability for a given feature\n",
    "# to occur in every class.\n",
    "\n",
    "def laplace_smoothing(labels, binary_data, n_classes):\n",
    "    # Compute the parameter estimates (adjusted fraction of documents in class that contain word)\n",
    "    n_words = binary_data.shape[1]\n",
    "    alpha = 1 # parameters for Laplace smoothing\n",
    "    theta = np.zeros([n_classes, n_words]) # stores parameter values - prob. word given class\n",
    "    for c_k in range(n_classes): # 0, 1, ..., 19\n",
    "        class_mask = (labels == c_k)\n",
    "        N = class_mask.sum() # number of articles in class\n",
    "        theta[c_k, :] = (binary_data[class_mask, :].sum(axis=0) + alpha)/(N + alpha*2)\n",
    "\n",
    "    return theta"
   ]
  },
  {
   "cell_type": "code",
   "execution_count": null,
   "metadata": {},
   "outputs": [],
   "source": [
    "# Now we will do a function that given the feature occurence counts returns a Bernoulli distribution of \n",
    "# batch_shape=number of classes and event_shape=number of features.\n",
    "\n",
    "def make_distributions(probs):\n",
    "    batch_of_bernoullis = tfd.Bernoulli(probs=probs) # shape (n_classes, n_words)\n",
    "    dist = tfd.Independent(batch_of_bernoullis, reinterpreted_batch_ndims=1)\n",
    "    return dist"
   ]
  },
  {
   "cell_type": "code",
   "execution_count": null,
   "metadata": {},
   "outputs": [],
   "source": [
    "# Function which computes the prior probability of every class based on frequency of occurence in \n",
    "# the dataset\n",
    "\n",
    "def class_priors(n_classes, labels):\n",
    "    counts = np.zeros(n_classes)\n",
    "    for c_k in range(n_classes):\n",
    "        counts[c_k] = np.sum(np.where(labels==c_k, 1, 0))\n",
    "    priors = counts / np.sum(counts)\n",
    "    print('The class priors are {}'.format(priors))\n",
    "    return priors"
   ]
  },
  {
   "cell_type": "code",
   "execution_count": null,
   "metadata": {},
   "outputs": [],
   "source": [
    "# The final function predict_sample which given the distribution, a test sample, and the class priors:\n",
    "#   1) Computes the class conditional probabilities given the sample\n",
    "#   2) Forms the joint likelihood\n",
    "#   3) Normalises the joint likelihood and returns the log prob\n",
    "\n",
    "def predict_sample(dist, sample, priors):\n",
    "    cond_probs = dist.log_prob(sample)\n",
    "    joint_likelihood = tf.add(np.log(priors), cond_probs)\n",
    "    norm_factor = tf.math.reduce_logsumexp(joint_likelihood, axis=-1, keepdims=True)\n",
    "    log_prob = joint_likelihood - norm_factor\n",
    "\n",
    "    return log_prob"
   ]
  },
  {
   "cell_type": "code",
   "execution_count": null,
   "metadata": {},
   "outputs": [],
   "source": [
    "# Now we learn the distribution using gradient tape\n",
    "\n",
    "def make_distribution_withGT(data, labels, nb_classes):\n",
    "\n",
    "    class_data = []\n",
    "    train_vars = []\n",
    "    distributions = []\n",
    "    for c in range(nb_classes):\n",
    "        train_vars.append(tf.Variable(initial_value=np.random.uniform(low=0.01, high =0.1, size=data.shape[-1])))\n",
    "        distributions.append(tfd.Bernoulli(probs=train_vars[c]))\n",
    "        class_mask = (labels == c)\n",
    "        class_data.append(data[class_mask, :])\n",
    "\n",
    "    for c_num in range(0,nb_classes):\n",
    "        optimizer = tf.keras.optimizers.Adam()\n",
    "        print('\\n%-------------------%')\n",
    "        print('Class ', c_num)\n",
    "        print('%-------------------%')\n",
    "\n",
    "        for i in range(0,100):\n",
    "            \n",
    "\n",
    "    dist = tfd.Bernoulli(probs=train_vars)\n",
    "    dist = tfd.Independent(dist,reinterpreted_batch_ndims=1)\n",
    "\n",
    "    print(dist)\n",
    "\n",
    "    return dist\n"
   ]
  },
  {
   "cell_type": "code",
   "execution_count": null,
   "metadata": {},
   "outputs": [],
   "source": [
    "# Make the same Naive Bayes classifier we did last tutorial\n",
    "\n",
    "categories = ['alt.atheism', 'talk.religion.misc', 'comp.graphics', 'sci.space']\n",
    "\n",
    "(train_data, train_labels), (test_data, test_labels) = get_data(categories)\n",
    "\n",
    "smoothed_counts = laplace_smoothing(labels=train_labels, binary_data=train_data, n_classes=len(categories))\n",
    "\n",
    "priors = class_priors(n_classes=len(categories), labels=train_labels)\n",
    "tf_dist = make_distributions(smoothed_counts)"
   ]
  },
  {
   "cell_type": "code",
   "execution_count": null,
   "metadata": {},
   "outputs": [],
   "source": [
    "# Now train the distributions with gradient tape\n",
    "\n",
    "GT_dist = make_distribution_withGT(data=train_data, labels=train_labels, nb_classes=4)"
   ]
  },
  {
   "cell_type": "code",
   "execution_count": null,
   "metadata": {},
   "outputs": [],
   "source": [
    "# Compare the two results\n",
    "\n",
    "for dist in [GT_dist,tf_dist]:\n",
    "    probabilities = []\n",
    "    for sample, label in zip(test_data, test_labels):\n",
    "        probabilities.append(predict_sample(dist, sample, priors))\n",
    "\n",
    "    probabilities = np.asarray(probabilities)\n",
    "    predicted_classes = np.argmax(probabilities, axis =-1)\n",
    "    print('f1 ', f1_score(test_labels, predicted_classes, average='macro'))"
   ]
  }
 ],
 "metadata": {
  "kernelspec": {
   "display_name": "Python 3",
   "language": "python",
   "name": "python3"
  },
  "language_info": {
   "codemirror_mode": {
    "name": "ipython",
    "version": 3
   },
   "file_extension": ".py",
   "mimetype": "text/x-python",
   "name": "python",
   "nbconvert_exporter": "python",
   "pygments_lexer": "ipython3",
   "version": "3.7.1"
  }
 },
 "nbformat": 4,
 "nbformat_minor": 4
}
